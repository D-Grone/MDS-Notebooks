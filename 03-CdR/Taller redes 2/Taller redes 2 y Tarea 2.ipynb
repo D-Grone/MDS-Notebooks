{
 "cells": [
  {
   "cell_type": "markdown",
   "metadata": {},
   "source": [
    "# Network Science - MDS - UDD 2022\n",
    "## Introducción a Ciencia de Redes\n",
    "\n",
    "\n",
    "#### Cristian Candia-Castro Vallejos, Ph.D.$^{1,2}$\n",
    "\n",
    "- [1] Data Science Institute (IDS), Universidad del Desarrollo,Chile\n",
    "- [2] Northwestern Institute on Complex Systems, Kellogg School of Management, Northwestern Unviersity, USA\n",
    "\n",
    "\n",
    "Referencias:\n",
    "1. https://publish.illinois.edu/pynetworkshop/\n",
    "2. https://github.com/MridulS/pydata-networkx\n",
    "\n"
   ]
  },
  {
   "cell_type": "markdown",
   "metadata": {},
   "source": [
    "### Redes? Grafos?\n",
    "\n",
    "Una estructura matemática utilizada para modelar relaciones por pares entre objetos, donde los objetos generalmente se denominan `nodos` y la relación entre ellos `enlaces`.\n",
    "\n",
    "$G = (V, E)$\n",
    "\n",
    "$V$ = conjunto de nodos/vértices\n",
    "\n",
    "$E$ = conjunto de $(x, y)$ enlaces"
   ]
  },
  {
   "cell_type": "code",
   "execution_count": 1,
   "metadata": {},
   "outputs": [],
   "source": [
    "# Si arroja el error random_state_index is incorrect, intentar:\n",
    "\n",
    "# import decorator"
   ]
  },
  {
   "cell_type": "code",
   "execution_count": 2,
   "metadata": {},
   "outputs": [],
   "source": [
    "# print(decorator.__version__)"
   ]
  },
  {
   "cell_type": "code",
   "execution_count": 3,
   "metadata": {},
   "outputs": [],
   "source": [
    "#! pip install decorator==5.0.9"
   ]
  },
  {
   "cell_type": "code",
   "execution_count": 4,
   "metadata": {},
   "outputs": [],
   "source": [
    "# Luego reiniciar Jupyter y correr:\n",
    "\n",
    "# ! pip install networkx"
   ]
  },
  {
   "cell_type": "code",
   "execution_count": 59,
   "metadata": {},
   "outputs": [],
   "source": [
    "# Module 1: Comenzando con NetworkX\n",
    "\n",
    "import pandas as pd\n",
    "import numpy as np\n",
    "import matplotlib.pyplot as plt \n",
    "import collections\n",
    "\n",
    "import networkx as nx\n",
    "\n",
    "%matplotlib inline\n",
    "\n",
    "import urllib.request as urllib\n",
    "import io\n",
    "\n",
    "# path = 'https://saref.github.io/teaching/PyNetworkshop/'"
   ]
  },
  {
   "cell_type": "markdown",
   "metadata": {},
   "source": [
    "## Trabajemos en una red real\n",
    "\n",
    "La red de colaboración Arxiv GR-QC (Relatividad General y Cosmología Cuántica) es de e-print arXiv y cubre las colaboraciones científicas entre los artículos de los autores enviados a la categoría de Relatividad General y Cosmología Cuántica. Si un autor $i$ es coautor de un artículo con el autor $j$, el grafo contiene un enlace no dirigido entre $i$ y $j$. Si el artículo es co-autoreado por $k$ autores, esto genera un (sub) grafo completamente conectado con $k$ nodos.\n",
    "\n",
    "fuente: http://snap.stanford.edu/data/index.html#canets"
   ]
  },
  {
   "cell_type": "code",
   "execution_count": 60,
   "metadata": {},
   "outputs": [
    {
     "data": {
      "image/png": "[encoded data removed]",
      "text/plain": [
       "<Figure size 432x288 with 1 Axes>"
      ]
     },
     "metadata": {},
     "output_type": "display_data"
    }
   ],
   "source": [
    "# Si seis autores escribieron un artículo juntos, tendrán un grafo completo\n",
    "nx.draw(nx.complete_graph(5),with_labels=True)"
   ]
  },
  {
   "cell_type": "code",
   "execution_count": null,
   "metadata": {},
   "outputs": [],
   "source": []
  },
  {
   "cell_type": "code",
   "execution_count": 61,
   "metadata": {},
   "outputs": [],
   "source": [
    "# crear un grafo de autor a partir del conjunto de datos\n",
    "import csv\n",
    "authors_graph = nx.Graph()\n",
    "\n",
    "with open('data/CA-GrQc.txt', 'r') as f:\n",
    "    reader = csv.reader(f, delimiter='\\t')\n",
    "    for row in reader:\n",
    "        authors_graph.add_edge(row[0], row[1])"
   ]
  },
  {
   "cell_type": "code",
   "execution_count": 62,
   "metadata": {},
   "outputs": [
    {
     "data": {
      "text/plain": [
       "networkx.classes.graph.Graph"
      ]
     },
     "execution_count": 62,
     "metadata": {},
     "output_type": "execute_result"
    }
   ],
   "source": [
    "type(authors_graph)"
   ]
  },
  {
   "cell_type": "code",
   "execution_count": 63,
   "metadata": {},
   "outputs": [
    {
     "name": "stdout",
     "output_type": "stream",
     "text": [
      "14496\n",
      "5242\n"
     ]
    }
   ],
   "source": [
    "print(authors_graph.number_of_edges())\n",
    "print(authors_graph.number_of_nodes())"
   ]
  },
  {
   "cell_type": "code",
   "execution_count": 64,
   "metadata": {},
   "outputs": [
    {
     "data": {
      "text/plain": [
       "NodeView(('3466', '937', '5233', '8579', '10310', '15931', '17038', '18720', '19607', '1854', '4583', '9572', '10841', '13056', '14982', '16310', '19640', '23855', '24372', '24814', '5052', '899', '1796', '2287', '3096', '3386', '4472', '5346', '5740', '6094', '6376', '9124', '10235', '10427', '10597', '15159', '16148', '16741', '18235', '18549', '19297', '20511', '20595', '20613', '24371', '24559', '24731', '25102', '25271', '25396', '1658', '4822', '6864', '7689', '7926', '10268', '12971', '18600', '20421', '20886', '21048', '22393', '23186', '23214', '23298', '23945', '24939', '339', '624', '3731', '4743', '5407', '6610', '6700', '8045', '9099', '9639', '9785', '12141', '15184', '15784', '18719', '19870', '20532', '22527', '23576', '23577', '23649', '24199', '24293', '25201', '10243', '6774', '8049', '8053', '8517', '11964', '15538', '16694', '18648', '19423', '21012', '22457', '22691', '23452', '16174', '16470', '17822', '14265', '392', '2485', '2949', '3173', '3441', '3593', '3853', '3927', '3937', '3939', '5107', '5218', '5230', '6030', '7350', '7504', '7601', '8718', '9522', '11621', '12498', '12691', '15251', '16020', '16261', '17156', '17626', '18622', '19059', '19525', '19738', '20122', '20432', '21866', '22074', '23721', '8916', '13556', '14485', '8612', '615', '743', '2076', '4515', '5773', '9482', '10822', '11175', '11604', '14004', '15003', '15552', '15814', '16083', '17932', '20001', '20100', '23481', '16258', '1356', '1727', '2752', '4125', '6667', '6825', '10039', '10351', '11082', '14123', '16676', '21194', '10912', '14534', '17268', '19783', '21705', '22836', '2710', '62', '106', '260', '2959', '3677', '4708', '5172', '5541', '5794', '5807', '6575', '8458', '10601', '11401', '13026', '13205', '13659', '13989', '14007', '14009', '14599', '15301', '18757', '20934', '21543', '22184', '23647', '23708', '25916', '26023', '26051', '26100', '214', '5435', '6512', '10590', '23559', '1765', '3032', '5302', '7383', '7442', '7768', '13276', '17266', '22415', '10794', '7050', '25850', '10113', '10657', '12130', '17172', '4846', '676', '824', '2133', '2654', '4748', '5672', '10549', '12928', '13220', '14419', '17330', '17439', '18487', '20850', '22779', '23382', '24029', '11785', '45', '46', '570', '773', '1653', '2212', '2741', '2952', '3372', '4046', '4164', '4511', '4513', '5262', '6179', '6830', '7956', '8879', '11241', '11472', '12365', '12496', '12678', '12781', '12851', '14540', '14807', '15659', '16159', '17655', '17692', '18894', '19961', '20108', '20562', '20635', '21281', '21508', '21847', '22798', '22887', '23293', '24955', '25346', '25758', '934', '5579', '9755', '10550', '16032', '17331', '17603', '20644', '22497', '23387', '23907', '24924', '25080', '12422', '1339', '3164', '15580', '16393', '20478', '20956', '3890', '5621', '8824', '11613', '12306', '12860', '14547', '18182', '21707', '24696', '2661', '7899', '8067', '8208', '11132', '11402', '12980', '13364', '14969', '16389', '18109', '18365', '23038', '24845', '25379', '13740', '4550', '4702', '7264', '13096', '14128', '19489', '19527', '19784', '22476', '25006', '25486', '26', '1407', '1488', '8219', '10762', '11801', '12665', '12688', '13142', '15108', '15321', '20647', '20827', '20879', '23614', '3909', '17979', '3872', '5109', '7533', '12409', '20101', '23096', '8862', '78', '4877', '7459', '8254', '12155', '22598', '24932', '888', '1520', '6468', '6627', '7007', '7712', '10711', '13614', '14102', '18517', '18676', '23351', '23689', '24114', '2465', '2592', '3977', '5055', '5993', '9265', '12334', '19890', '20341', '21560', '17309', '24833', '543', '1958', '2193', '3917', '6858', '8148', '9092', '12478', '15366', '18125', '18398', '19675', '21806', '23693', '26196', '10115', '10134', '23916', '7893', '593', '5510', '9360', '12627', '16778', '18037', '18051', '13385', '19578', '12386', '13333', '23896', '8978', '9017', '15170', '15455', '16589', '2255', '3056', '6158', '7307', '7324', '8365', '9023', '11444', '12324', '12472', '13831', '14746', '16128', '17075', '18875', '19900', '20000', '20806', '21944', '21968', '23302', '23665', '23758', '24722', '12045', '12287', '14181', '20257', '21613', '7510', '197', '8851', '1343', '2991', '8299', '15416', '18088', '25286', '1254', '3420', '10130', '2250', '3243', '7717', '7985', '11015', '12085', '13714', '14767', '16056', '16994', '17414', '18971', '19216', '20534', '21776', '21860', '25205', '178', '1248', '1403', '2368', '2420', '16210', '18681', '20641', '24762', '2307', '6934', '22423', '231', '345', '1186', '1234', '1841', '1997', '2404', '2450', '2980', '3409', '5134', '5578', '8503', '9341', '9889', '12503', '13060', '13597', '16611', '18208', '18543', '18866', '22421', '22937', '23363', '23628', '25053', '25251', '2982', '4036', '4115', '12938', '13032', '19215', '21432', '22726', '22834', '22966', '23511', '25528', '25836', '14376', '8710', '22483', '1375', '2846', '5555', '5564', '5787', '9721', '10158', '10942', '13600', '13929', '21075', '21316', '22900', '23637', '23770', '25143', '25601', '25980', '17394', '18924', '3113', '8312', '10765', '17538', '25978', '1172', '5674', '26194', '375', '1838', '12733', '7188', '896', '921', '1508', '6815', '7209', '8279', '13008', '18605', '21158', '4632', '7844', '11053', '11148', '13411', '14512', '16594', '16722', '16726', '16876', '19954', '19992', '20391', '20774', '23403', '4870', '5175', '8282', '22046', '2449', '4766', '3561', '4868', '8352', '10456', '15365', '16931', '8157', '2120', '7713', '19052', '8302', '16484', '17778', '2556', '19159', '21699', '25382', '8701', '523', '5464', '7774', '17379', '18008', '23385', '25868', '26170', '1310', '2922', '3651', '6891', '10162', '10620', '11112', '13174', '14864', '17536', '23153', '24340', '11102', '18592', '22765', '1896', '6838', '25220', '4180', '10055', '12637', '1832', '4383', '7014', '9397', '14344', '14385', '21379', '24163', '4416', '9241', '2620', '3679', '4364', '5712', '13955', '14003', '15235', '18227', '19445', '19495', '20168', '23967', '1116', '15399', '18222', '21287', '23227', '4624', '5355', '6863', '12606', '12968', '15770', '21322', '22265', '22336', '23099', '23880', '25111', '4319', '12758', '22023', '14337', '5849', '10763', '11121', '11194', '15799', '16511', '16575', '16945', '21157', '2326', '10253', '13190', '14325', '19048', '20182', '3595', '18174', '17850', '20620', '12380', '3197', '6160', '8589', '9417', '9829', '14638', '14924', '15972', '17228', '18940', '19090', '19475', '20207', '22644', '22790', '24001', '25228', '9710', '3345', '3430', '5266', '5995', '7999', '8047', '8178', '8868', '10824', '15144', '19107', '19806', '22439', '23304', '24431', '11077', '10211', '14972', '15300', '17158', '17162', '17403', '20149', '20519', '21389', '22951', '23912', '23918', '25589', '6895', '3076', '7444', '8972', '17308', '20574', '21629', '245', '4983', '13480', '14562', '15912', '16976', '19974', '22245', '414', '8708', '23776', '1044', '4975', '5809', '12587', '16123', '20303', '4451', '9983', '15205', '15666', '15667', '19093', '21031', '24330', '5840', '6732', '8614', '13847', '15081', '22609', '3310', '5143', '9735', '17396', '26138', '4700', '5606', '1386', '1738', '2566', '2720', '5634', '9870', '16779', '24475', '25931', '1817', '3725', '5366', '15911', '9800', '26141', '18001', '22177', '25480', '1425', '2501', '2823', '5136', '7105', '7317', '9127', '14615', '17089', '19454', '22758', '23841', '3207', '7125', '20683', '25419', '2591', '8932', '9188', '9773', '13713', '19179', '14818', '26190', '3839', '13615', '16674', '7042', '9269', '11661', '21994', '9943', '10096', '15614', '16368', '17285', '21407', '8715', '21142', '21167', '13621', '25388', '284', '6427', '16835', '18677', '21696', '25854', '25940', '9485', '10435', '14698', '21823', '811', '9964', '11919', '15123', '17021', '19517', '22989', '23485', '8069', '2127', '11712', '10871', '15829', '16106', '17207', '17670', '18286', '18612', '19234', '19724', '22876', '3412', '894', '4814', '5441', '5717', '5934', '9075', '10623', '11223', '11491', '12659', '14351', '19807', '21324', '21665', '22734', '22778', '23246', '25698', '7615', '12806', '1620', '3922', '9133', '9895', '9907', '11791', '18457', '19131', '19997', '21491', '22426', '22791', '25158', '25316', '352', '3996', '10555', '15850', '19101', '20533', '21943', '22603', '23513', '25034', '1280', '5851', '11591', '13520', '16921', '21646', '17559', '1674', '3323', '8680', '9184', '13813', '19204', '19206', '19657', '20373', '23204', '409', '2474', '4241', '6746', '10476', '16568', '21771', '24620', '2081', '2664', '12212', '13528', '14628', '22574', '25872', '1545', '2202', '15206', '17233', '18158', '21317', '24271', '8547', '10791', '10919', '11275', '15600', '15608', '16644', '24568', '25996', '26098', '1059', '6154', '7725', '11125', '13705', '15435', '16039', '17821', '18540', '20536', '23529', '10588', '3916', '4525', '4952', '5352', '5729', '10490', '12101', '13801', '15311', '21754', '23134', '24614', '4493', '14627', '23720', '930', '3946', '4760', '17189', '10463', '10526', '11788', '17746', '18189', '21438', '22611', '26038', '4195', '7069', '9098', '17721', '21723', '24587', '7895', '11863', '12110', '1000', '1149', '1694', '2115', '4575', '5605', '6288', '12016', '12070', '13469', '16101', '18250', '20667', '20716', '23107', '23344', '23939', '25402', '25948', '6963', '8374', '17465', '19865', '3006', '3630', '5901', '5953', '7911', '8730', '10406', '12874', '13177', '16817', '19723', '24885', '13653', '22599', '3265', '3998', '8513', '10501', '13029', '13622', '13682', '16324', '16640', '16749', '26059', '26065', '580', '6431', '1877', '2042', '15880', '16967', '19710', '20014', '23163', '23225', '3683', '3845', '6748', '14664', '16065', '16963', '20650', '3804', '4032', '5194', '23137', '11495', '12842', '495', '2742', '3965', '5622', '7855', '8928', '8968', '9458', '17968', '18375', '8335', '1104', '5427', '13322', '13529', '18619', '18751', '6494', '2526', '6364', '6857', '7853', '14976', '24781', '321', '21853', '884', '5469', '5575', '10183', '10966', '16624', '24699', '14308', '5166', '5597', '9066', '20787', '23836', '25050', '5287', '17273', '9283', '953', '17794', '114', '2348', '6631', '8854', '4290', '8200', '11113', '12302', '21017', '23297', '6355', '7194', '20960', '7542', '15322', '18415', '23066', '3765', '14500', '17918', '3418', '4798', '12866', '20196', '2004', '21191', '21663', '14020', '22203', '1600', '15905', '21635', '16543', '238', '4793', '6218', '15516', '16553', '16563', '16565', '22964', '8442', '10412', '8887', '6072', '491', '1124', '1818', '4552', '5739', '6823', '7882', '13328', '17039', '17082', '22028', '23454', '3681', '7126', '3547', '449', '882', '1405', '1498', '3033', '3048', '3511', '7091', '14707', '17245', '18340', '6804', '12260', '19624', '22826', '25491', '25844', '6184', '19161', '21831', '88', '1995', '2338', '2530', '2535', '4355', '4755', '5210', '6340', '7197', '7635', '8727', '9313', '9656', '9869', '10350', '12507', '12710', '14648', '14766', '15010', '15244', '15245', '15457', '15933', '16654', '17807', '18225', '18453', '18778', '19114', '19446', '19645', '19939', '20346', '20576', '21178', '22504', '23712', '24453', '24718', '12308', '15935', '18276', '18904', '2190', '6172', '8592', '14933', '4249', '21718', '22290', '23441', '24113', '6421', '8224', '11182', '11696', '12286', '23423', '500', '2085', '2568', '3099', '4468', '4631', '9892', '10358', '10458', '10615', '11011', '12074', '13971', '14079', '16754', '18783', '19612', '20552', '20553', '21032', '23355', '24454', '25086', '25180', '25785', '10539', '4254', '9337', '1497', '6724', '16890', '2630', '7563', '14403', '17392', '23503', '2558', '21910', '18910', '2511', '10986', '13318', '14051', '14414', '22119', '1006', '4351', '11372', '16414', '639', '1941', '5227', '7015', '9647', '12852', '15846', '16333', '16347', '4576', '6941', '7206', '7485', '9389', '9426', '10246', '11026', '17953', '18946', '18983', '19013', '23458', '23986', '4697', '3007', '22082', '25537', '5695', '574', '6971', '13282', '15409', '18745', '18758', '21497', '22366', '23714', '1153', '17501', '4183', '6010', '9862', '12370', '16834', '16853', '16899', '21199', '22299', '22309', '22620', '20248', '12679', '573', '1430', '2072', '4966', '19493', '22278', '5769', '10896', '20915', '22848', '1347', '4782', '15582', '17472', '19707', '21930', '24835', '24959', '24009', '283', '1880', '5505', '15959', '15961', '24444', '14316', '14690', '22254', '749', '1373', '3607', '7245', '8031', '15907', '19164', '302', '2335', '6702', '11490', '16108', '17174', '17924', '3999', '8211', '12373', '20059', '2155', '4283', '6408', '7715', '8920', '23256', '2607', '3450', '4588', '5130', '5353', '5835', '9450', '12165', '12722', '20003', '20184', '24640', '4685', '15415', '24152', '8376', '8888', '13067', '4213', '7045', '11892', '20645', '23264', '10600', '13493', '13496', '18788', '18791', '23394', '140', '17304', '18587', '19404', '22462', '24122', '1078', '5164', '9387', '11640', '12545', '13371', '17116', '19741', '22149', '16331', '19184', '17843', '1685', '8134', '12687', '23409', '1321', '4433', '5125', '7625', '10895', '11899', '13711', '16162', '16475', '19167', '19387', '21089', '21727', '23863', '25565', '5060', '20660', '1608', '20030', '11447', '834', '2490', '5570', '15625', '15917', '18140', '18790', '24110', '4466', '8505', '16357', '20116', '20148', '22899', '25710', '4068', '9517', '11400', '11630', '11700', '11733', '11951', '12268', '14093', '15685', '16006', '16495', '17135', '20169', '22188', '22189', '22621', '22811', '22975', '23110', '23509', '23552', '23805', '23806', '25557', '25562', '7801', '14089', '14967', '25215', '11868', '24023', '2559', '5543', '5767', '10931', '24097', '14952', '16953', '20191', '25934', '10467', '13175', '20892', '21816', '25209', '14371', '17443', '141', '8408', '17286', '25827', '5246', '10524', '12337', '15419', '24', '3858', '15066', '23161', '25378', '205', '12389', '15718', '16506', '21650', '22502', '482', '3411', '4428', '5392', '6317', '7541', '15664', '16469', '17665', '20424', '24734', '8206', '12865', '13384', '17688', '3826', '12369', '13498', '19111', '22239', '19084', '23943', '75', '8807', '22530', '15353', '3449', '17950', '18522', '6709', '18003', '5545', '12135', '2475', '3209', '15973', '21928', '24765', '6219', '18160', '1833', '8177', '12107', '4819', '7863', '8596', '13635', '17848', '25152', '25408', '11891', '20243', '19233', '733', '20597', '3171', '19149', '19340', '7824', '8815', '12065', '14558', '15306', '15400', '22528', '22832', '10969', '13321', '16958', '19109', '23346', '2848', '4896', '8666', '10552', '12884', '18511', '25988', '22371', '11566', '11808', '18560', '15249', '15624', '1058', '2614', '3730', '7449', '10801', '14661', '21321', '22376', '24295', '5485', '23870', '6638', '17754', '25674', '9273', '9325', '2783', '9408', '12927', '13310', '6264', '7204', '12247', '19433', '18867', '24943', '731', '17359', '23558', '6828', '25319', '3953', '13196', '15568', '17163', '22954', '14606', '22144', '1840', '4713', '6824', '12492', '10478', '16675', '13859', '4141', '9267', '11052', '16091', '17755', '20053', '22395', '26168', '8378', '16607', '2054', '1552', '8719', '9760', '10355', '13741', '5116', '9629', '7087', '9984', '10153', '10543', '10967', '16336', '20435', '20479', '21433', '25569', '25783', '7039', '12166', '14970', '7277', '16766', '16770', '16858', '17113', '17389', '18408', '19089', '20033', '23429', '24578', '4724', '6904', '7452', '12491', '13369', '14346', '18065', '18271', '19244', '23989', '10983', '4642', '16708', '8231', '9616', '24149', '1519', '8768', '9937', '24270', '25435', '5181', '6316', '17235', '2870', '2536', '9207', '9732', '12654', '16041', '22555', '24753', '25870', '5830', '10991', '17306', '19924', '10923', '11821', '16013', '21469', '11944', '16429', '25784', '21608', '23092', '25571', '5444', '11734', '13931', '21549', '25615', '8476', '13388', '12739', '4847', '10842', '11293', '25125', '1672', '8079', '11461', '16755', '1711', '3174', '6726', '6813', '13703', '20046', '20854', '5411', '5503', '10390', '11186', '7522', '9944', '17086', '21341', '16010', '22696', '25585', '3526', '15786', '135', '1776', '4102', '12311', '12675', '15816', '19945', '26176', '1550', '20952', '24280', '365', '9511', '14552', '15585', '16906', '17187', '18579', '18736', '19791', '1229', '1862', '3194', '3532', '5400', '7154', '9946', '10381', '11107', '17934', '22721', '24129', '215', '185', '351', '1074', '1858', '4512', '6892', '8280', '14542', '17751', '18095', '18143', '18649', '18943', '19573', '22601', '22793', '3877', '4354', '5412', '6544', '7357', '7719', '10477', '11445', '12788', '18185', '19246', '19463', '20780', '21861', '22284', '22741', '23514', '18161', '11093', '165', '293', '3228', '6556', '17194', '6524', '22436', '9504', '5359', '2915', '10956', '20089', '25358', '2350', '2385', '20783', '25405', '15209', '15669', '10807', '21466', '6832', '19557', '1090', '3990', '4635', '4759', '15166', '24860', '6375', '10519', '20230', '4775', '7095', '9138', '9432', '20229', '2926', '22275', '6023', '13624', '19682', '17859', '6075', '13932', '14499', '20345', '4023', '11902', '13647', '19146', '22699', '23622', '25057', '11617', '21029', '12040', '1217', '269', '1150', '1611', '2165', '3944', '5488', '6033', '8128', '9974', '12735', '14430', '19877', '20495', '21638', '21708', '22242', '23233', '24126', '25648', '3501', '16278', '24705', '19355', '22018', '25660', '3312', '11493', '5059', '21530', '13485', '11032', '10719', '2200', '17729', '20052', '21830', '379', '6064', '9439', '10907', '4638', '23909', '18237', '19219', '18171', '85', '5413', '8630', '16521', '20517', '26005', '8774', '5209', '6943', '22748', '24057', '25902', '1014', '12112', '17440', '19150', '21027', '8087', '15523', '17339', '19711', '20307', '1194', '21858', '7829', '5360', '19544', '715', '16554', '4252', '24451', '23856', '6095', '7446', '25236', '2852', '12599', '25056', '25721', '11638', '7246', '17240', '25091', '13970', '80', '8742', '23063', '19903', '25469', '2851', '11416', '23751', '8552', '1595', '1910', '2293', '4135', '4554', '9316', '16498', '17939', '21587', '24160', '25354', '10676', '24961', '8305', '22771', '1736', '1914', '7586', '14424', '19462', '2569', '5546', '3654', '11557', '14154', '15477', '15882', '281', '5241', '9471', '20765', '3948', '4013', '25516', '25684', '546', '8641', '19922', '23175', '21206', '25662', '887', '3721', '9634', '14781', '18972', '25321', '8074', '13164', '14541', '15127', '18524', '16230', '20702', '25225', '70', '4727', '15559', '123', '23240', '3980', '16962', '3821', '17991', '3875', '9094', '19061', '2080', '4069', '5385', '1968', '9082', '9306', '15942', '1588', '2805', '8063', '9419', '5827', '6351', '6527', '10881', '5367', '14983', '19144', '24183', '2184', '3193', '4371', '15998', '23866', '26004', '11822', '21016', '21169', '2936', '10354', '18905', '21563', '15198', '18067', '18297', '19781', '10186', '1327', '6738', '10825', '25863', '4382', '2789', '6641', '15920', '18233', '24582', '24583', '6583', '15960', '15974', '17564', '18782', '23883', '14033', '25383', '22197', '9255', '20065', '22917', '23910', '25572', '25582', '193', '9993', '10819', '11231', '12149', '20129', '23114', '4878', '5184', '8643', '11967', '21779', '24503', '24942', '2119', '7637', '11442', '13651', '81', '1029', '3819', '869', '3618', '14709', '122', '6530', '6707', '6911', '15479', '3524', '19927', '19350', '25959', '7281', '25597', '727', '8471', '16649', '18331', '19469', '1105', '14985', '17911', '26127', '20215', '21333', '18625', '7584', '12049', '12763', '17382', '408', '13834', '17149', '23267', '5843', '11213', '25877', '5361', '18097', '272', '2912', '11811', '11840', '19012', '20305', '4483', '6175', '6266', '8215', '8310', '21401', '4673', '7475', '11426', '23673', '26088', '2797', '9314', '12291', '12639', '13292', '13320', '12664', '1109', '9126', '10655', '11610', '12742', '18445', '4052', '195', '17208', '19168', '20119', '21929', '17589', '6533', '8155', '14165', '24204', '25911', '24506', '24595', '9483', '25250', '1258', '12032', '12797', '21584', '6434', '21162', '10879', '11925', '15082', '18595', '8787', '11979', '16274', '22722', '183', '3982', '9090', '17543', '18723', '21090', '24589', '23145', '7573', '8193', '16576', '16889', '18521', '21391', '244', '1353', '3286', '4765', '16900', '18030', '22246', '3752', '4650', '15971', '24174', '16765', '17017', '17161', '8925', '16505', '20255', '21450', '3743', '839', '2394', '5848', '7098', '12642', '21184', '23149', '4442', '7935', '25896', '12406', '16485', '3034', '6156', '18381', '19686', '20335', '22523', '2451', '2341', '3508', '12641', '13068', '23723', '9713', '1963', '4302', '8475', '19022', '26181', '364', '396', '13616', '15214', '23266', '5425', '2784', '16109', '16224', '21808', '24161', '21927', '6626', '10805', '25069', '25628', '2239', '10652', '17984', '22147', '22979', '24592', '2877', '3876', '7481', '9338', '12611', '12861', '15175', '22493', '4301', '16265', '21614', '7578', '14834', '15821', '22100', '11607', '19351', '2563', '8437', '12071', '2770', '6806', '11806', '8678', '8301', '267', '24240', '6632', '8386', '12187', '13153', '14345', '10081', '3185', '13291', '20547', '20792', '7885', '19551', '22190', '9758', '17006', '1859', '4298', '15192', '17274', '18941', '20902', '21798', '3631', '23901', '13702', '14667', '17874', '18152', '19978', '199', '16935', '6482', '24148', '11629', '17099', '11325', '11318', '12720', '25729', '12743', '21712', '950', '1265', '1839', '3063', '3502', '4446', '5639', '6009', '6896', '9736', '9980', '13470', '15126', '16881', '17828', '17875', '18210', '19140', '19316', '23095', '23864', '25910', '25917', '14286', '17131', '20940', '6039', '6176', '6303', '15161', '20949', '22879', '18215', '19051', '21125', '2656', '14560', '24251', '1098', '16107', '26171', '8150', '16703', '13202', '22253', '4128', '5738', '5478', '6538', '8349', '12042', '17252', '18142', '13501', '16216', '1490', '20813', '4781', '6081', '6919', '19358', '23616', '4756', '5497', '8298', '12709', '18443', '18658', '18667', '26157', '450', '11284', '11910', '23477', '11923', '4293', '20616', '11602', '5636', '17988', '2883', '4015', '25189', '2055', '2560', '4146', '10926', '12553', '18668', '15495', '9264', '12614', '24970', '10640', '15247', '17426', '3037', '9712', '10726', '16482', '17990', '23151', '2339', '24594', '5477', '13497', '14496', '19457', '5529', '5655', '2771', '5417', '13352', '13619', '18585', '20513', '4117', '16471', '4199', '6443', '19932', '19936', '25864', '2118', '26132', '17944', '20884', '200', '492', '4422', '6708', '7013', '8151', '9020', '9021', '9208', '9722', '16719', '16882', '17016', '17022', '19586', '19678', '24861', '9994', '17276', '18383', '12701', '18879', '11841', '20550', '4211', '7104', '11670', '11876', '17808', '24121', '25962', '22283', '15824', '21195', '15171', '15305', '17864', '23417', '4139', '5698', '9659', '10496', '11713', '20002', '25598', '25607', '25661', '4138', '11328', '2455', '14353', '14886', '2043', '6315', '21131', '23859', '5156', '7483', '10904', '12707', '14282', '17933', '294', '8626', '21546', '11459', '6706', '8428', '10637', '18603', '21340', '12868', '17180', '17738', '18154', '16213', '20383', '24870', '6703', '12803', '13999', '15596', '17592', '18920', '15657', '10878', '26020', '11034', '18764', '22433', '9093', '13680', '13346', '6183', '369', '7727', '16433', '16570', '5601', '7645', '13675', '4186', '12616', '4485', '16266', '1822', '6503', '3773', '12887', '21695', '1594', '4774', '5673', '15382', '16717', '19603', '15172', '17076', '19018', '17595', '5078', '25172', '11035', '21864', '4284', '9643', '13837', '15194', '15623', '17250', '23470', '25094', '26067', '6056', '17289', '23051', '8823', '9194', '6635', '9216', '19019', '22507', '5519', '5730', '11047', '15252', '21289', '26167', '25112', '13389', '6185', '23224', '24412', '5363', '253', '4634', '17122', '21051', '2259', '10317', '11816', '6448', '1346', '2136', '9591', '17453', '309', '2186', '6012', '10677', '11030', '13704', '17015', '23946', '25611', '1050', '17120', '9595', '6744', '1125', '8055', '8526', '9486', '11537', '12453', '18880', '18909', '19962', '23476', '19078', '20427', '8520', '16177', '21100', '21156', '9125', '15943', '15626', '1154', '12017', '12930', '8704', '17591', '12161', '19162', '1093', '3059', '9649', '10251', '25903', '4143', '6808', '7802', '17127', '20554', '21777', '22108', '23555', '25718', '4247', '4250', '8726', '9491', '11379', '11405', '15196', '15938', '17126', '17764', '232', '1075', '8737', '13481', '13862', '16742', '24402', '128', '4353', '6558', '6920', '14865', '15941', '16877', '10000', '17337', '21634', '851', '2713', '13199', '16837', '18032', '19568', '20004', '1341', '1408', '4273', '5259', '7355', '9143', '14357', '16332', '19940', '853', '8441', '16070', '16087', '17231', '19434', '23944', '24499', '10062', '23681', '23727', '2169', '5938', '16084', '18724', '18739', '19581', '20954', '23991', '6629', '8786', '14078', '22088', '22224', '4641', '17937', '21660', '12056', '2761', '14647', '4269', '26159', '3066', '5434', '7991', '8116', '11609', '15384', '16946', '17612', '15528', '163', '3825', '20893', '10910', '25777', '14771', '24127', '2143', '12118', '15329', '25116', '12689', '17560', '21697', '17599', '19442', '12419', '3507', '11626', '19313', '21755', '19356', '23465', '598', '5255', '8864', '16131', '16235', '16280', '17137', '23810', '1728', '5656', '6082', '18488', '22610', '6390', '5731', '6280', '1499', '20261', '24002', '23653', '5225', '3849', '7010', '7506', '9312', '20781', '8728', '11227', '5862', '7959', '17569', '18973', '19207', '19580', '3988', '16348', '4017', '7888', '17291', '1008', '2185', '8369', '11824', '12066', '16888', '20808', '21815', '1985', '9763', '21657', '16225', '21404', '26058', '9893', '20526', '5202', '17800', '21995', '3188', '3136', '9248', '11108', '13966', '4189', '16234', '17251', '18373', '20557', '19871', '25526', '23786', '25534', '11631', '11861', '18580', '18623', '20217', '25436', '21588', '17797', '1667', '4258', '5608', '5771', '6675', '7386', '16264', '17401', '18741', '19895', '20315', '23741', '25107', '25439', '16281', '24728', '2762', '22378', '9986', '11719', '4467', '21658', '23490', '1669', '12703', '5260', '6810', '13636', '16696', '17739', '19605', '5838', '11572', '21630', '6073', '9391', '2059', '11746', '21800', '22372', '6465', '11563', '15891', '17385', '1599', '5812', '17248', '20618', '20853', '9392', '24252', '13422', '16349', '11939', '17191', '1350', '1023', '1675', '2512', '3058', '11815', '20924', '23420', '19464', '23968', '9597', '11820', '17019', '17121', '7811', '22269', '25272', '1787', '1279', '14550', '15258', '7071', '8195', '15951', '400', '4379', '6541', '6905', '8216', '14498', '17502', '17740', '5408', '19609', '11066', '2340', '2443', '6918', '7650', '8184', '8625', '14369', '15395', '17583', '25977', '18684', '19501', '20942', '17724', '25957', '25958', '8263', '12046', '19126', '2182', '3553', '15571', '10918', '20253', '15388', '15387', '3955', '10532', '7524', '8721', '15005', '15372', '16022', '18685', '22083', '22105', '11522', '8857', '12235', '22129', '25387', '2826', '23216', '8530', '10906', '21144', '1073', '18399', '14149', '3750', '8147', '11616', '14662', '16648', '19560', '22199', '23530', '4289', '9135', '12160', '19809', '4027', '7450', '836', '16747', '18193', '9095', '12043', '18742', '22890', '26044', '8876', '10990', '4255', '4771', '5251', '18256', '18337', '20236', '11279', '9832', '17750', '22976', '25609', '124', '14319', '15663', '16937', '18052', '20258', '9151', '25856', '2047', '3632', '15383', '24385', '3716', '8391', '14497', '24101', '2388', '16955', '12981', '19642', '7592', '8179', '7579', '21653', '5542', '4080', '14747', '17463', '19324', '20567', '21550', '24220', '25179', '25553', '25554', '11468', '11470', '17804', '17294', '2309', '6532', '8553', '4633', '11593', '16818', '23648', '939', '1834', '5056', '13664', '14037', '16940', '19613', '16335', '6913', '3594', '10024', '23713', '10376', '15325', '20344', '2001', '3633', '23064', '5083', '5084', '8711', '12712', '14324', '21409', '17124', '25719', '8261', '11464', '17997', '20662', '22837', '2316', '11929', '350', '951', '25676', '2532', '14067', '20086', '21772', '15715', '925', '8615', '6506', '9037', '13483', '14711', '23623', '23686', '864', '1311', '3983', '26013', '17882', '18379', '18217', '26173', '21297', '18447', '21165', '4988', '17125', '9913', '22382', '17884', '20538', '24032', '2009', '7309', '8156', '8403', '16011', '22929', '22993', '8732', '10022', '14932', '16659', '22377', '22806', '14809', '22953', '23950', '18489', '95', '15524', '3291', '12696', '14869', '6190', '10656', '11002', '11403', '20106', '24060', '25610', '22693', '23920', '4458', '5547', '5659', '7883', '8387', '12313', '15160', '19325', '21205', '22831', '1556', '11965', '14096', '23154', '15191', '5212', '6628', '19015', '19444', '25139', '9441', '10388', '8222', '21495', '6807', '2075', '3873', '4182', '10439', '14619', '2044', '4490', '17001', '18013', '9147', '24398', '5216', '17290', '20155', '1045', '6265', '5402', '15947', '2203', '7594', '21130', '21615', '2622', '4960', '16270', '16102', '17956', '20375', '22463', '3878', '16584', '2997', '6888', '11664', '4712', '11017', '7632', '14170', '20414', '11427', '5240', '9074', '12425', '18275', '20636', '4640', '19248', '11109', '21562', '21149', '312', '16545', '12786', '13673', '7958', '25130', '14543', '21221', '9266', '2750', '20668', '3068', '5631', '16067', '19569', '2917', '6031', '2010', '8064', '20599', '179', '547', '1829', '1982', '3178', '4989', '18870', '20062', '22464', '6878', '11528', '22244', '11812', '24248', '8122', '9769', '15253', '16647', '22489', '23412', '25443', '8511', '22503', '13604', '4704', '8801', '12695', '15125', '15420', '25204', '385', '1323', '1606', '7072', '9890', '12849', '14377', '17981', '18234', '21220', '22225', '23506', '23620', '24332', '376', '2611', '16620', '1908', '16621', '12106', '1267', '1511', '15793', '18102', '20772', '23248', '26193', '10872', '2666', '24250', '9630', '10252', '16820', '22830', '14159', '5144', '24852', '8869', '299', '14174', '18746', '22051', '22075', '24713', '14616', '17817', '2356', '6337', '17419', '18105', '2773', '5661', '6529', '6543', '16486', '8523', '19964', '2342', '2516', '21998', '941', '13712', '16727', '22321', '23383', '25442', '19980', '5957', '7716', '11233', '14090', '18397', '25541', '2249', '6077', '6611', '8672', '19955', '21832', '3316', '9759', '11865', '3199', '19507', '12798', '855', '4261', '7772', '23299', '8871', '17090', '3772', '4104', '4431', '4967', '11152', '15616', '16262', '18995', '19562', '22087', '22109', '22839', '23683', '24477', '25304', '14854', '24489', '6835', '24219', '3321', '1151', '2410', '3843', '6301', '10247', '15414', '18743', '22032', '22903', '23674', '24294', '24706', '25998', '2124', '3293', '5825', '628', '9413', '13641', '1962', '1613', '13992', '15217', '15665', '16154', '21159', '915', '10438', '18624', '20558', '10026', '15316', '17249', '18066', '12787', '21621', '24877', '93', '17343', '20328', '9103', '10684', '11878', '18557', '21101', '19909', '23474', '7093', '8000', '17395', '18582', '22375', '23419', '2593', '10433', '3231', '4705', '4773', '6411', '8549', '10500', '16352', '17546', '19808', '21931', '22369', '22466', '25159', '22815', '29', '16751', '750', '19641', '23480', '23652', '1278', '778', '1048', '16743', '22235', '4376', '18246', '3718', '7511', '6642', '17277', '18209', '7247', '9459', '11829', '10338', '7523', '12458', '12460', '14844', '16651', '19378', '161', '97', '3105', '11418', '19583', '21821', '22719', '21684', '22720', '24169', '16872', '24816', '9871', '17179', '19996', '380', '20078', '5061', '20317', '12411', '8922', '9488', '17182', '22894', '10041', '13995', '10383', '13319', '16115', '21583', '25229', '2074', '10996', '19080', '751', '2655', '20008', '25866', '2087', '2993', '4377', '6271', '7023', '13404', '1563', '2457', '3534', '4639', '5065', '6387', '14379', '15145', '15562', '15708', '15714', '15805', '17345', '17580', '17584', '18396', '18952', '19677', '20231', '23241', '24616', '24617', '24819', '1157', '16334', '9922', '2504', '19585', '9987', '21554', '19598', '11216', '13815', '7463', '12318', '15150', '19800', '7695', '3827', '8595', '14691', '7025', '25540', '3239', '11465', '11577', '6666', '17986', '21190', '9217', '2596', '23462', '23464', '25644', '3452', '6442', '9968', '14383', '14652', '17681', '20587', '21592', '2144', '2774', '3055', '3652', '3655', '3766', '3814', '6388', '7096', '9249', '12051', '12423', '12885', '14808', '15173', '15189', '15999', '18942', '19705', '20250', '21030', '21825', '25108', '13684', '18283', '19301', '21814', '1404', '2562', '11199', '18552', '17141', '11462', '11612', '24944', '5814', '17690', '1656', '4040', '5828', '11842', '21531', '1992', '3102', '12414', '18562', '24439', '14431', '20537', '20543', '21339', '1092', '3196', '23226', '4033', '20782', '23730', '4625', '12296', '20959', '3119', '19004', '7103', '2503', '5465', '18141', '20663', '7384', '6944', '12660', '14372', '26178', '7024', '17393', '17827', '24207', '1281', '3653', '10163', '12551', '17588', '18621', '25287', '9962', '2506', '10682', '22428', '6354', '15188', '19060', '10004', '25234', '18314', '3684', '5395', '5445', '11141', '18370', '19447', '20434', '4263', '6859', '17999', '18282', '9959', '6008', '20914', '5081', '12256', '17237', '8877', '3280', '13191', '13013', '18899', '21293', '1107', '6973', '2950', '9335', '25235', '25668', '6455', '19801', '65', '358', '8504', '21152', '19379', '19247', '18586', '27', '11114', '19081', '24726', '12320', '12321', '19222', '18344', '3292', '10391', '1857', '3967', '12053', '880', '252', '15418', '4019', '5626', '24957', '4148', '9863', '8457', '15478', '24203', '8557', '8308', '21288', '26191', '3516', '7053', '12618', '13144', '15413', '18634', '1378', '7877', '3852', '11622', '15422', '2984', '8731', '10564', '8970', '15187', '3850', '9128', '113', '4103', '12312', '17994', '20947', '26021', '3204', '25937', '2476', '18984', '187', '1821', '21386', '866', '17825', '20173', '6305', '7726', '14870', '14872', '20316', '1493', '2452', '3811', '9027', '14153', '1436', '20064', '20331', '13864', '21154', '10133', '18218', '3067', '18721', '1293', '2621', '2623', '3283', '3812', '3820', '3824', '4834', '5131', '6222', '6456', '6525', '6868', '7525', '8448', '9433', '12802', '13482', '13526', '14157', '14373', '15148', '17600', '17819', '17823', '17824', '18000', '18444', '22324', '22901', '24474', '24479', '24615', '26039', '844', '890', '11197', '13035', '16110', '26130', '1916', '20953', '24463', '15706', '374', '20776', '25449', '24341', '23135', '17818', '19697', '23219', '23809', '11583', '19252', '3195', '24597', '17280', '2785', '3682', '19956', '2879', '7861', '2355', '12704', '17297', '16227', '25219', '25089', '820', '2515', '194', '8628', '4425', '7278', '14559', '2459', '6380', '1025', '1026', '1696', '15197', '18195', '13832', '17114', '20489', '7088', '7546', '8146', '21028', '23418', '10897', '5548', '15898', '11924', '25437', '6159', '19554', '24878', '5577', '23881', '12387', '19520', '23084', '23554', '19931', '23553', '22888', '12547', '25181', '12617', '17388', '6037', '3431', '164', '2142', '13283', '23858', '24601', '800', '13167', '15485', '20260', '4275', '4081', '13625', '17878', '24471', '18122', '1699', '2303', '7878', '8541', '8593', '17575', '17683', '17923', '18771', '24593', '25875', '12645', '16803', '12749', '16819', '24034', '17861', '5415', '4380', '16756', '3100', '18098', '16729', '2049', '9915', '19380', '1695', '1825', '6226', '14317', '20775', '4469', '9618', '11285', '12193', '2306', '10514', '3964', '4018', '9414', '12640', '16608', '16800', '4051', '21187', '21313', '26092', '11879', '21310', '2803', '2295', '5826', '22', '11183', '19440', '22618', '25043', '3074', '23416', '1101', '9030', '17854', '22487', '25891', '1823', '2003', '22031', '885', '2505', '17192', '19911', '25487', '6229', '6423', '7647', '1966', '8048', '15717', '10847', '10148', '4875', '4488', '15913', '11009', '20157', '21344', '22990', '23471', '3206', '6535', '6579', '2386', '16941', '8446', '18597', '11502', '11903', '12157', '12158', '24210', '12290', '17307', '20031', '1860', '3073', '4000', '17173', '3685', '25853', '8404', '25', '22891', '28', '7916', '21515', '21523', '4656', '18196', '23303', '24841', '4265', '5267', '5271', '7597', '7638', '7648', '11844', '7854', '1668', '4835', '15007', '10559', '18245', '10445', '21594', '22738', '6389', '6914', '18279', '7468', '10002', '12041', '14384', '17341', '24470', '15186', '8443', '15248', '13683', '21203', '21778', '26042', '3451', '7038', '17951', '833', '2810', '18145', '21799', '192', '4826', '4021', '26022', '6161', '7055', '19712', '21024', '8071', '17178', '23215', '3062', '16892', '19572', '7857', '11968', '19810', '14841', '920', '25904', '25829', '25849', '13355', '13022', '8077', '6300', '2117', '5182', '13311', '1879', '21548', '21809', '15609', '21177', '1174', '2712', '14176', '21018', '5479', '16124', '20807', '24334', '16415', '7046', '14710', '15682', '17157', '23093', '21547', '15357', '6076', '7311', '8629', '12615', '15163', '16483', '17731', '18913', '13990', '4555', '7482', '15681', '20793', '10346', '15687', '19143', '19383', '6291', '19223', '19739', '20568', '8452', '22233', '12612', '14843', '19208', '20569', '17585', '15218', '19703', '7957', '18895', '4825', '8037', '9593', '14621', '19608', '15250', '15589', '4836', '11898', '1028', '9924', '12262', '15181', '2331', '17461', '188', '22920', '373', '21579', '23775', '11012', '8198', '13010', '320', '1897', '5602', '6024', '17464', '17590', '18042', '21315', '22770', '5483', '18884', '22727', '2487', '3052', '6711', '16232', '22725', '14991', '20560', '10356', '19062', '8973', '14600', '23138', '4372', '10880', '16598', '3851', '7011', '8702', '18159', '15200', '15617', '7807', '11828', '2352', '1855', '2527', '5057', '7094', '10432', '5774', '16891', '2624', '24202', '21314', '15572', '7356', '22556', '19102', '748', '8811', '22021', '2332', '18544', '21596', '16783', '15642', '17563', '12252', '22404', '9026', '18669', '19866', '25545', '8538', '19450', '7536', '7534', '3383', '1344', '18126', '1322', '10925', '15195', '16068', '17467', '11611', '20779', '24490', '4276', '24159', '717', '17865', '1376', '4267', '1289', '1560', '4365', '1915', '12263', '22000', '25136', '15259', '348', '5660', '15847', '16155', '315', '5629', '10499', '16718', '25599', '11969', '1967', '18996', '832', '3387', '4703', '7447', '9764', '10117', '14340', '14370', '15006', '16231', '16590', '16730', '19957', '21848', '22320', '15712', '19596', '5365', '7769', '15977', '17118', '1292', '6648', '10341', '14840', '16040', '10936', '19509', '19510', '23687', '17293', '15668', '25614', '26006', '22394', '10178', '3744', '24133', '19256', '3989', '17471', '510', '22285', '10679', '115', '5268', '8671', '23757', '830', '16802', '9053', '12504', '10850', '12644', '20528', '1589', '7603', '23759', '15208', '1561', '4484', '22379', '21558', '19683', '22744', '22746', '1981', '5468', '5668', '6908', '8187', '18034', '19879', '25444', '3818', '3388', '6735', '23167', '2806', '9209', '914', '2243', '3442', '5162', '18633', '5119', '10517', '13036', '6446', '8036', '25114', '21544', '13', '7596', '11196', '19170', '7090', '6350', '4495', '8372', '11823', '13628', '15246', '16014', '20332', '23710', '5137', '6884', '1013', '19011', '2123', '71', '20803', '6356', '25231', '1551', '8058', '2328', '8336', '24464', '12745', '19023', '10468', '8398', '9327', '8739', '13357', '25115', '25852', '403', '3200', '4264', '17468', '25510', '3279', '1782', '13521', '18784', '8976', '3910', '10513', '25059', '25595', '7477', '19257', '22961', '19906', '26102', '13749', '12121', '13034', '6079', '19941', '14135', '13325', '14502', '20926', '15899', '16338', '21390', '82', '3844', '7595', '8118', '15802', '15688', '22692', '4955', '4954', '5409', '8623', '11926', '8340', '5839', '7026', '12192', '3053', '20883', '787', '12940', '2222', '2215', '10792', '15695', '20422', '21309', '20379', '1549', '22766', '23168', '24732', '4272', '2557', '2247', '9606', '4958', '5973', '10884', '12122', '16353', '1427', '11037', '2981', '4427', '6669', '9865', '8449', '13490', '19528', '22577', '25440', '18366', '25217', '4750', '19147', '20174', '7588', '7590', '3599', '14130', '14302', '5432', '12676', '11721', '12151', '15221', '11792', '16831', '5667', '3297', '14770', '23461', '2329', '24846', '8367', '14894', '1670', '22927', '3362', '3347', '16957', '8969', '25649', '25839', '2938', '18581', '1024', '12552', '16513', '21593', '22325', '18970', '2409', '3522', '4286', '4288', '18278', '2201', '14868', '16226', '5211', '11028', '21171', '22730', '1187', '6290', '8161', '12054', '21468', '13677', '18288', '23206', '4110', '16523', '17696', '15641', '5466', '12801', '19548', '10352', '15423', '18144', '4959', '6867', '19110', '9149', '17346', '20319', '16042', '5533', '782', '11539', '15227', '16655', '18151', '21811', '254', '7572', '20150', '22312', '25226', '23621', '11623', '23306', '5960', '8705', '11662', '14094', '19014', '24575', '8255', '14842', '3719', '5067', '6907', '8072', '8375', '9025', '13649', '19545', '25060', '25289', '15683', '19923', '20664', '21824', '25359', '1989', '4106', '7515', '17782', '18231', '18628', '17785', '15583', '24272', '18091', '24456', '25211', '11971', '938', '5087', '17936', '7636', '12554', '4278', '18183', '10522', '10561', '25678', '1660', '3377', '23068', '25631', '1383', '6737', '9988', '14620', '822', '9518', '16358', '18238', '4777', '15396', '26180', '19064', '360', '2304', '7602', '8307', '9514', '1959', '9723', '21713', '25470', '5446', '5632', '20433', '18558', '10818', '11016', '25596', '6513', '25138', '17275', '16801', '19451', '9579', '16932', '6534', '11561', '22381', '12863', '18390', '1836', '8400', '13387', '22048', '23424', '8153', '15182', '16728', '22319', '8054', '24504', '22605', '21623', '7479', '2754', '5511', '7265', '10056', '13390', '25176', '10382', '25482', '2223', '4266', '20216', '16643', '20035', '6170', '8881', '16609', '372', '14131', '12113', '16886', '142', '18626', '8735', '25062', '1793', '5481', '3754', '8185', '16496', '9039', '11911', '18613', '10497', '357', '23300', '24960', '21303', '734', '19221', '17470', '18772', '21949', '18194', '5697', '14358', '8558', '13717', '8534', '8676', '14639', '2073', '1662', '2613', '9224', '10154', '11410', '16830', '4144', '18596', '23771', '16622', '18454', '13031', '8738', '13334', '13620', '16312', '16314', '20515', '23915', '12266', '15678', '17134', '21436', '23146', '23488', '25575', '11991', '3186', '14182', '17537', '15358', '18036', '18338', '9631', '10898', '14175', '12307', '22980', '5387', '18156', '19145', '23760', '1983', '13012', '20943', '22110', '5231', '22311', '20084', '6576', '1621', '7109', '9018', '14374', '18299', '19687', '12751', '6307', '13486', '4259', '18688', '4630', '9921', '10672', '12512', '831', '11280', '15154', '14132', '4034', '9715', '9717', '8512', '25492', '25511', '1798', '4828', '5404', '24462', '11641', '14338', '22729', '677', '4426', '4242', '19466', '7543', '24128', '17581', '10446', '11411', '24242', '5853', '5492', '9979', '18094', '8870', '9831', '12473', '18388', '20654', '9867', '4037', '25663', '4196', '15401', '1051', '4245', '25664', '24140', '16823', '5571', '13802', '19553', '25447', '15962', '19892', '18417', '4643', '20320', '14990', '25975', '24708', '19443', '23492', '8395', '8725', '11054', '14763', '4432', '5062', '19881', '20766', '11718', '15553', '15374', '5490', '8474', '1976', '23672', '12295', '9189', '2116', '9765', '9774', '12034', '17935', '12248', '98', '10116', '4181', '17992', '8409', '2248', '11579', '15073', '16922', '20925', '22645', '13415', '7585', '15386', '23772', '735', '6078', '74', '2298', '16129', '8717', '10638', '13558', '8669', '9038', '12213', '21710', '22318', '24888', '22728', '2561', '23094', '1969', '8472', '24141', '16971', '5228', '20170', '18608', '14339', '22816', '7280', '7267', '20309', '8891', '11893', '25667', '6776', '24733', '18455', '2334', '10180', '17587', '11215', '23156', '23970', '7718', '19502', '3748', '17503', '10602', '20805', '11467', '19575', '4038', '7058', '23811', '1878', '12338', '15800', '9130', '25095', '20066', '1010', '2749', '5829', '11642', '25230', '5256', '5257', '22827', '16015', '22938', '15774', '20333', '4262', '6701', '10407', '5406', '22435', '11120', '16340', '17851', '20233', '4366', '410', '9211', '13413', '19473', '23812', '24214', '4116', '25496', '19314', '19880', '25543', '26019', '26048', '24820', '20707', '5486', '8366', '5261', '6282', '18908', '25531', '12050', '5364', '14', '14171', '14845', '5232', '19521'))"
      ]
     },
     "execution_count": 64,
     "metadata": {},
     "output_type": "execute_result"
    }
   ],
   "source": [
    "authors_graph.nodes()"
   ]
  },
  {
   "cell_type": "code",
   "execution_count": 65,
   "metadata": {},
   "outputs": [
    {
     "data": {
      "text/plain": [
       "AtlasView({'937': {}, '5233': {}, '8579': {}, '10310': {}, '15931': {}, '17038': {}, '18720': {}, '19607': {}})"
      ]
     },
     "execution_count": 65,
     "metadata": {},
     "output_type": "execute_result"
    }
   ],
   "source": [
    "(authors_graph['3466'])"
   ]
  },
  {
   "cell_type": "code",
   "execution_count": 66,
   "metadata": {},
   "outputs": [
    {
     "data": {
      "image/png": "[encoded data removed]",
      "text/plain": [
       "<Figure size 432x288 with 1 Axes>"
      ]
     },
     "metadata": {},
     "output_type": "display_data"
    }
   ],
   "source": [
    "nx.draw(authors_graph,with_labels=True)"
   ]
  },
  {
   "cell_type": "markdown",
   "metadata": {},
   "source": [
    "#### ¿Podemos encontrar al investigador más influyente/importante en esta red?\n",
    "\n",
    "##### ¿Cómo evaluamos la importancia de algunas personas en una red?\n",
    "\n",
    "Dentro de una red social, habrá determinadas personas que desempeñen determinadas funciones importantes. Por ejemplo, puede haber personas hiperconectadas que estén conectadas con muchas, muchas más personas. Ellas serán claves para la difusión de información. Alternativamente, si se tratara de una red de contactos de enfermedades, identificarlos sería útil para detener la propagación de enfermedades. \n",
    "\n",
    "#### ¿Cómo se identificaría a estas personas?"
   ]
  },
  {
   "cell_type": "markdown",
   "metadata": {},
   "source": [
    "### Ejercicio 1\n",
    "\n",
    "Cree una lista de tuplas (nodo, grado de nodo) y busque el nodo con el grado máximo.\n",
    "\n",
    "grado de nodo = número de vecinos"
   ]
  },
  {
   "cell_type": "code",
   "execution_count": null,
   "metadata": {},
   "outputs": [],
   "source": []
  },
  {
   "cell_type": "code",
   "execution_count": null,
   "metadata": {},
   "outputs": [],
   "source": []
  },
  {
   "cell_type": "markdown",
   "metadata": {},
   "source": [
    "El grado de un nodo se traduce en grado de centralidad (que es una versión normalizada de grado)"
   ]
  },
  {
   "cell_type": "code",
   "execution_count": null,
   "metadata": {},
   "outputs": [],
   "source": [
    "nx.degree_centrality(authors_graph)"
   ]
  },
  {
   "cell_type": "code",
   "execution_count": null,
   "metadata": {},
   "outputs": [],
   "source": []
  },
  {
   "cell_type": "markdown",
   "metadata": {},
   "source": [
    "### Ejercicio 2\n",
    "\n",
    "Trace un histograma de centralidad de grado de author_graph.\n",
    "\n",
    "Sugerencia: `plt.hist(list_of_values)` trazará un histograma\n",
    "\n",
    "(count vs grado)"
   ]
  },
  {
   "cell_type": "code",
   "execution_count": null,
   "metadata": {},
   "outputs": [],
   "source": []
  },
  {
   "cell_type": "code",
   "execution_count": null,
   "metadata": {},
   "outputs": [],
   "source": []
  },
  {
   "cell_type": "markdown",
   "metadata": {},
   "source": [
    "#### Echemos un vistazo a los componentes conectados de un grafo.\n",
    "\n",
    "En la teoría de grafos, un componente conectado (o simplemente un componente) de un grafo **no dirigido** es un subgrafo en el que dos vértices cualesquiera están conectados entre sí por caminos, y que no está conectado a ningún vértice adicional en el supergrafo."
   ]
  },
  {
   "cell_type": "code",
   "execution_count": null,
   "metadata": {},
   "outputs": [],
   "source": [
    "G = nx.erdos_renyi_graph(n=10, p=0.15, seed=1)\n",
    "nx.draw(G, with_labels=True)"
   ]
  },
  {
   "cell_type": "code",
   "execution_count": null,
   "metadata": {},
   "outputs": [],
   "source": [
    "print([len(c) for c in sorted(nx.connected_components(authors_graph),\n",
    "                              key=len, reverse=True)])\n"
   ]
  },
  {
   "cell_type": "markdown",
   "metadata": {},
   "source": [
    "Nota: la función sorted () tiene un parámetro opcional llamado `key` que toma una función como su valor. Esta función `key` transforma cada elemento antes de ordenar, toma el valor y se usa dentro de `sorted` en lugar del valor original."
   ]
  },
  {
   "cell_type": "code",
   "execution_count": null,
   "metadata": {},
   "outputs": [],
   "source": [
    "# Guardamos subgrafos en una lista\n",
    "graphs = [authors_graph.subgraph(c).copy() for c in sorted(nx.connected_components(authors_graph), key=len, reverse=True)]\n"
   ]
  },
  {
   "cell_type": "code",
   "execution_count": null,
   "metadata": {},
   "outputs": [],
   "source": [
    "len(graphs[0])"
   ]
  },
  {
   "cell_type": "markdown",
   "metadata": {},
   "source": [
    "##### Camino más corto de la red"
   ]
  },
  {
   "cell_type": "code",
   "execution_count": null,
   "metadata": {},
   "outputs": [],
   "source": [
    "print(nx.shortest_path(graphs[0], '22504', '23991'))#camino entre a y b.\n",
    "print(len(nx.shortest_path(graphs[0], '22504', '23991')))#distancia en nodos (incluye ppio y fin)\n",
    "print(nx.shortest_path_length(graphs[0], '22504', '23991'))#distancia en enlaces (#nodos-1)"
   ]
  },
  {
   "cell_type": "code",
   "execution_count": null,
   "metadata": {},
   "outputs": [],
   "source": [
    "# help(nx.shortest_path)"
   ]
  },
  {
   "cell_type": "markdown",
   "metadata": {},
   "source": [
    "### Plot redes con nodos de distinto tamaño"
   ]
  },
  {
   "cell_type": "code",
   "execution_count": null,
   "metadata": {},
   "outputs": [],
   "source": [
    "g = graphs[1]# ejemplo\n",
    "pos=pos = nx.spring_layout(g) # Layout para la red (coordenadas de los nodos y enlaces)"
   ]
  },
  {
   "cell_type": "code",
   "execution_count": null,
   "metadata": {},
   "outputs": [],
   "source": [
    "nx.draw(g,pos)"
   ]
  },
  {
   "cell_type": "code",
   "execution_count": null,
   "metadata": {},
   "outputs": [],
   "source": []
  },
  {
   "cell_type": "code",
   "execution_count": null,
   "metadata": {},
   "outputs": [],
   "source": [
    "#Codigo para el tamaño del nodo\n",
    "# g = graphs[0]# ejemplo\n",
    "# pos=pos = nx.spring_layout(g) # Layout para la red (coordenadas de los nodos y enlaces)\n",
    "\n",
    "\n",
    "degree_g = dict(nx.degree(g))\n",
    "clustering_g=dict(nx.clustering(g))\n",
    "\n",
    "nx.draw(g,pos, nodelist=degree_g.keys(), node_size=[v*100 for v in degree_g.values()])\n",
    "plt.show()\n",
    "\n",
    "\n",
    "nx.draw(g, pos,nodelist=clustering_g.keys(), node_size=[v *1000 for v in clustering_g.values()])\n",
    "plt.show()\n",
    "\n",
    "# nx.draw(g,pos, nodelist=list(degree_g.keys()), node_size=[v**(1/2) for v in degree_g.values()])\n",
    "# plt.show()\n"
   ]
  },
  {
   "cell_type": "code",
   "execution_count": null,
   "metadata": {},
   "outputs": [],
   "source": []
  },
  {
   "cell_type": "code",
   "execution_count": null,
   "metadata": {},
   "outputs": [],
   "source": []
  },
  {
   "cell_type": "markdown",
   "metadata": {},
   "source": [
    "### Grado de nodo vs coeficiente de clustering"
   ]
  },
  {
   "cell_type": "code",
   "execution_count": null,
   "metadata": {},
   "outputs": [],
   "source": [
    "degree_g = dict(nx.degree(graphs[0]))\n",
    "clustering_g=dict(nx.clustering(graphs[0]))\n",
    "\n",
    "x = degree_g.values()\n",
    "y = clustering_g.values()\n",
    "\n",
    "\n",
    "# colors = np.random.rand(N)\n",
    "# area = (30 * np.random.rand(N))**2  # 0 to 15 point radii\n",
    "\n",
    "plt.scatter(x, y, alpha=0.5)\n",
    "plt.show()\n"
   ]
  },
  {
   "cell_type": "markdown",
   "metadata": {},
   "source": [
    "# MUNDO PEQUEÑO\n",
    "### Ejercicio 3\n",
    "##### Seis grados de separación, número de Erdos, número de Bacon !!\n",
    "\n"
   ]
  },
  {
   "cell_type": "markdown",
   "metadata": {},
   "source": [
    "<img src=\"img/im1.png\" width=\"800\" height=\"400\">\n",
    "\n",
    "<img src=\"img/smallw1.png\" width=\"800\" height=\"400\">\n",
    "\n",
    "<img src=\"img/smallw2.png\" width=\"800\" height=\"400\">\n",
    "<img src=\"img/smallw3.png\" width=\"800\" height=\"400\">\n",
    "\n",
    "\n",
    "<a href=\"https://oracleofbacon.org\">https://oracleofbacon.org</a>\n",
    "\n",
    "\n",
    "\n"
   ]
  },
  {
   "cell_type": "markdown",
   "metadata": {},
   "source": [
    "<img src=\"img/im2.png\" width=\"800\" height=\"400\">\n",
    "\n",
    "<img src=\"img/erdos1.png\" width=\"800\" height=\"400\">\n",
    "\n",
    "\n",
    "<a href=\"https://www.csauthors.net/\">https://www.csauthors.net/</a>"
   ]
  },
  {
   "cell_type": "markdown",
   "metadata": {},
   "source": [
    "Encuentre el \"número\" del autor '22504' del grafo `author_graph`, si no hay conexión entre los nodos, asignele el número '-1'.\n",
    "También trace un histograma del \"número\" autor '22504'.\n",
    "\n",
    "Encuentre la longitud de ruta más corta promedio en el primer componente, es decir, `graphs[0]`\n",
    "\n",
    "SUGERENCIA: `nx.shortest_path_length`"
   ]
  },
  {
   "cell_type": "code",
   "execution_count": null,
   "metadata": {},
   "outputs": [],
   "source": [
    "d = {}\n",
    "for node in authors_graph.nodes():#para cada nodo\n",
    "    try:\n",
    "        #calcula la longitud del camino mas corto entre node y `22504`\n",
    "        d[node] = nx.shortest_path_length(graphs[0], '22504', node) #21012;22504\n",
    "    except:\n",
    "        #si arroja error (no hay camino) asinga un -1.\n",
    "        next"
   ]
  },
  {
   "cell_type": "code",
   "execution_count": null,
   "metadata": {},
   "outputs": [],
   "source": [
    "d"
   ]
  },
  {
   "cell_type": "code",
   "execution_count": null,
   "metadata": {},
   "outputs": [],
   "source": [
    "plt.hist(list(d.values()))\n",
    "plt.show()"
   ]
  },
  {
   "cell_type": "code",
   "execution_count": null,
   "metadata": {},
   "outputs": [],
   "source": [
    "# Calcule el promedio de la longitud de los caminos más cortos de todo el grafo aca:\n",
    "\n",
    "np.mean(list(d.values()))"
   ]
  },
  {
   "cell_type": "markdown",
   "metadata": {},
   "source": [
    "# Cambiemos de tema y hablemos de Juego de tronos (Network of Thrones)\n",
    "\n",
    "¿Es sorprendente verdad? ¿Cuál es la relación entre un programa de televisión / novela de fatansia y la ciencia de redes o Python?\n",
    "\n",
    "Si no has oído hablar de Game of Thrones, entonces debes ser muy bueno para aislarte. Game of Thrones es la popular serie de televisión de HBO basada en la (también) popular serie de libros \"A Song of Ice and Fire\" de George R.R. Martin. \n",
    "\n",
    "Ahora, analizaremos la red de co-ocurrencia de los personajes en los libros de Juego de Tronos. Aquí, se considera que dos personajes coexisten si sus nombres aparecen en hasta a 15 palabras de distancia entre sí en los libros."
   ]
  },
  {
   "cell_type": "markdown",
   "metadata": {},
   "source": [
    "<!-- ![](img/got.png) -->\n",
    "\n",
    "<img src=\"img/got.png\" width=\"800\" height=\"400\">\n"
   ]
  },
  {
   "cell_type": "code",
   "execution_count": null,
   "metadata": {
    "scrolled": true
   },
   "outputs": [],
   "source": [
    "# !conda install --yes --prefix {sys.prefix} community # \n",
    "\n",
    "# # !conda install --yes --prefix {sys.prefix} python-louvain # \n",
    "\n",
    "# !pip install python-louvain\n"
   ]
  },
  {
   "cell_type": "code",
   "execution_count": null,
   "metadata": {},
   "outputs": [],
   "source": [
    "import pandas as pd\n",
    "import networkx as nx\n",
    "import matplotlib.pyplot as plt\n",
    "from matplotlib import cm\n",
    "# import community\n",
    "from community import community_louvain\n",
    "import numpy as np\n",
    "\n",
    "\n",
    "%matplotlib inline"
   ]
  },
  {
   "cell_type": "markdown",
   "metadata": {},
   "source": [
    "### Cargamos los datasets"
   ]
  },
  {
   "cell_type": "code",
   "execution_count": null,
   "metadata": {},
   "outputs": [],
   "source": [
    "book1 = pd.read_csv('data/asoiaf-book1-edges.csv')\n",
    "book2 = pd.read_csv('data/asoiaf-book2-edges.csv')\n",
    "book3 = pd.read_csv('data/asoiaf-book3-edges.csv')\n",
    "book4 = pd.read_csv('data/asoiaf-book4-edges.csv')\n",
    "book5 = pd.read_csv('data/asoiaf-book5-edges.csv')"
   ]
  },
  {
   "cell_type": "markdown",
   "metadata": {},
   "source": [
    "El DataFrame resultante `book1` tiene 5 columnas: origen, destino, tipo, peso y libro. El origen y el destino son los dos nodos que están vinculados por un enlace. Una red puede tener enlaces dirigidos o no dirigidos y en esta red todos los enlaces no están dirigidos. El atributo de peso de cada enlace nos dice el número de interacciones que los personajes han tenido sobre el libro, y la columna del libro nos dice el número del libro."
   ]
  },
  {
   "cell_type": "code",
   "execution_count": null,
   "metadata": {},
   "outputs": [],
   "source": [
    "# book1.head()\n",
    "book1.sort_values('weight',ascending=False).head()"
   ]
  },
  {
   "cell_type": "markdown",
   "metadata": {},
   "source": [
    "Una vez que tenemos los datos cargados como un DataFrame de pandas, es hora de crear una red. Creamos un grafo para cada libro. Es posible crear un MultiGraph en lugar de 5 grafos, pero es más fácil jugar con diferentes gráficos."
   ]
  },
  {
   "cell_type": "code",
   "execution_count": null,
   "metadata": {},
   "outputs": [],
   "source": [
    "G_book1 = nx.Graph()\n",
    "G_book2 = nx.Graph()\n",
    "G_book3 = nx.Graph()\n",
    "G_book4 = nx.Graph()\n",
    "G_book5 = nx.Graph()"
   ]
  },
  {
   "cell_type": "markdown",
   "metadata": {},
   "source": [
    "Completemos el grafo con los enlaces del DataFrame de pandas."
   ]
  },
  {
   "cell_type": "code",
   "execution_count": null,
   "metadata": {},
   "outputs": [],
   "source": [
    "for row in book1.iterrows(): #Itera las filas de DataFrame como pares (index, series).\n",
    "    G_book1.add_edge(row[1]['Source'], row[1]['Target'],weight=row[1]['weight'], book=row[1]['book'])"
   ]
  },
  {
   "cell_type": "code",
   "execution_count": null,
   "metadata": {},
   "outputs": [],
   "source": [
    "row"
   ]
  },
  {
   "cell_type": "code",
   "execution_count": null,
   "metadata": {},
   "outputs": [],
   "source": [
    "for row in book2.iterrows():\n",
    "    G_book2.add_edge(row[1]['Source'], row[1]['Target'], weight=row[1]['weight'], book=row[1]['book'])\n",
    "for row in book3.iterrows():\n",
    "    G_book3.add_edge(row[1]['Source'], row[1]['Target'], weight=row[1]['weight'], book=row[1]['book'])\n",
    "for row in book4.iterrows():\n",
    "    G_book4.add_edge(row[1]['Source'], row[1]['Target'], weight=row[1]['weight'], book=row[1]['book'])\n",
    "for row in book5.iterrows():\n",
    "    G_book5.add_edge(row[1]['Source'], row[1]['Target'], weight=row[1]['weight'], book=row[1]['book'])"
   ]
  },
  {
   "cell_type": "code",
   "execution_count": null,
   "metadata": {},
   "outputs": [],
   "source": [
    "books = [G_book1, G_book2, G_book3, G_book4, G_book5]"
   ]
  },
  {
   "cell_type": "markdown",
   "metadata": {},
   "source": [
    "Echemos un vistazo a estos enlaces"
   ]
  },
  {
   "cell_type": "code",
   "execution_count": null,
   "metadata": {},
   "outputs": [],
   "source": [
    "list(G_book1.edges(data=True))[16]#data=True muestra los atributos del enlace: peso y libro en este caso"
   ]
  },
  {
   "cell_type": "code",
   "execution_count": null,
   "metadata": {},
   "outputs": [],
   "source": [
    "list(G_book1.edges(data=True))[400]"
   ]
  },
  {
   "cell_type": "code",
   "execution_count": null,
   "metadata": {},
   "outputs": [],
   "source": [
    "len(list(G_book1.edges()))"
   ]
  },
  {
   "cell_type": "markdown",
   "metadata": {},
   "source": [
    "### Encontrar el nodo/personaje más importante en estas redes.\n",
    "\n",
    "¿Es Jon Snow, Tyrion, Daenerys o alguien más? ¡Vamos a ver! Network Science nos ofrece muchas métricas diferentes para medir la importancia de un nodo en una red como vimos en la primera parte del taller. \n",
    "\n",
    "**Tenga en cuenta que no existe una forma \"correcta\" de calcular el nodo más importante de una red, cada métrica tiene un significado diferente.**\n",
    "\n",
    "Primero, midamos la importancia de un nodo en una red observando la cantidad de vecinos que tiene, es decir, la cantidad de nodos a los que está conectado. Por ejemplo, una cuenta influyente en Twitter, donde la relación seguidor-seguidor forma la red, es una cuenta que tiene un alto número de seguidores. Esta medida de importancia se llama centralidad de grado.\n",
    "\n",
    "Usando esta medida, extraigamos los diez personajes más importantes del primer libro (libro [0]) y el quinto libro (libro [4])."
   ]
  },
  {
   "cell_type": "code",
   "execution_count": null,
   "metadata": {},
   "outputs": [],
   "source": [
    "deg_cen_book1 = nx.degree_centrality(books[0])"
   ]
  },
  {
   "cell_type": "code",
   "execution_count": null,
   "metadata": {},
   "outputs": [],
   "source": [
    "deg_cen_book5 = nx.degree_centrality(books[4])"
   ]
  },
  {
   "cell_type": "code",
   "execution_count": null,
   "metadata": {},
   "outputs": [],
   "source": [
    "sorted(deg_cen_book1.items(), key=lambda x:x[1], reverse=True)[0:10]"
   ]
  },
  {
   "cell_type": "code",
   "execution_count": null,
   "metadata": {},
   "outputs": [],
   "source": [
    "sorted(deg_cen_book5.items(), key=lambda x:x[1], reverse=True)[0:10]\n",
    "#key recive la funcion para ordenar, lambda es la funcion \"al vuelo\" para ordenar"
   ]
  },
  {
   "cell_type": "code",
   "execution_count": null,
   "metadata": {},
   "outputs": [],
   "source": [
    "# Plot a histogram of degree centrality\n",
    "plt.hist(list(dict(nx.degree(G_book1)).values()))\n",
    "plt.show()"
   ]
  },
  {
   "cell_type": "code",
   "execution_count": null,
   "metadata": {},
   "outputs": [],
   "source": [
    "d= {}\n",
    "for i, j in dict(nx.degree(G_book1)).items():\n",
    "    if j in d:\n",
    "        d[j] += 1\n",
    "    else:\n",
    "        d[j] = 1\n",
    "x = list((d.keys()))\n",
    "y = list(d.values())\n",
    "plt.scatter(x, y, alpha=0.9)\n",
    "plt.show()"
   ]
  },
  {
   "cell_type": "code",
   "execution_count": null,
   "metadata": {},
   "outputs": [],
   "source": [
    "d = {}\n",
    "for i, j in dict(nx.degree(G_book1)).items():\n",
    "    if j in d:\n",
    "        d[j] += 1\n",
    "    else:\n",
    "        d[j] = 1\n",
    "x = np.log10(list((d.keys())))\n",
    "y = np.log10(list(d.values()))\n",
    "plt.scatter(x, y, alpha=0.9)\n",
    "plt.show()"
   ]
  },
  {
   "cell_type": "markdown",
   "metadata": {},
   "source": [
    "### Ejercicio 4\n",
    "\n",
    "Cree una nueva medida de centralidad, `weighted_degree(Graph, weight)` que toma Graph y el atributo de peso y devuelve un diccionario de grados ponderados. El grado ponderado se calcula sumando el peso de todos los enlaces de un nodo. Luego, encuentre los cinco personajes más importantes de acuerdo con esta medida."
   ]
  },
  {
   "cell_type": "code",
   "execution_count": null,
   "metadata": {},
   "outputs": [],
   "source": [
    "#Escriba su código acá (siempre pueden agregar más líneas de ser necesario):\n",
    "\n",
    "\n",
    "\n"
   ]
  },
  {
   "cell_type": "code",
   "execution_count": null,
   "metadata": {},
   "outputs": [],
   "source": [
    "# plt.hist(list(weighted_degree(G_book1, 'weight').values()))\n",
    "# plt.show()"
   ]
  },
  {
   "cell_type": "code",
   "execution_count": null,
   "metadata": {},
   "outputs": [],
   "source": [
    "d = {}\n",
    "for i, j in dict(nx.degree(G_book1)).items():\n",
    "#     print(i,j)\n",
    "    if j in d:\n",
    "        d[j] += 1 #cuenta la cantidad de veces que el mismo grado \"ocurre\"\n",
    "    else:\n",
    "        d[j] = 1\n",
    "x = np.log2(list((d.keys())))\n",
    "y = np.log2(list(d.values()))\n",
    "plt.scatter(x, y, alpha=0.9)\n",
    "plt.show()"
   ]
  },
  {
   "cell_type": "code",
   "execution_count": null,
   "metadata": {},
   "outputs": [],
   "source": []
  },
  {
   "cell_type": "code",
   "execution_count": null,
   "metadata": {},
   "outputs": [],
   "source": [
    "# sorted(weighted_degree(G_book1, 'weight').items(), key=lambda x:x[1], reverse=True)[0:10]"
   ]
  },
  {
   "cell_type": "markdown",
   "metadata": {},
   "source": [
    "### Hagamos esto para la centralidad de Betweenness y verifiquemos si esto hace alguna diferencia"
   ]
  },
  {
   "cell_type": "code",
   "execution_count": null,
   "metadata": {},
   "outputs": [],
   "source": [
    "G = nx.barbell_graph(5, 1) #Recordemos: El nodo del centro es el de mayor betweennes\n",
    "nx.draw(G)"
   ]
  },
  {
   "cell_type": "code",
   "execution_count": null,
   "metadata": {},
   "outputs": [],
   "source": [
    "# Primero verifique el grafo no ponderado, solo la estructura\n",
    "\n",
    "sorted(nx.betweenness_centrality(G_book1).items(), key=lambda x:x[1], reverse=True)[0:10]"
   ]
  },
  {
   "cell_type": "code",
   "execution_count": null,
   "metadata": {},
   "outputs": [],
   "source": [
    "# Consideremos el peso ahora\n",
    "\n",
    "sorted(nx.betweenness_centrality(G_book1, weight='weight').items(), key=lambda x:x[1], reverse=True)[0:10]"
   ]
  },
  {
   "cell_type": "markdown",
   "metadata": {},
   "source": [
    "## PageRank\n",
    "El algoritmo de billón de dólares, PageRank, funciona contando el número y la importancia de los enlaces a una página para determinar una estimación aproximada de la importancia del sitio web. La suposición subyacente es que es probable que los sitios web más importantes reciban más enlaces de otros sitios web.\n",
    "\n",
    "<img src=\"img/pagerank.png\" width=\"800\" height=\"400\">\n",
    "\n",
    "<img src=\"img/pgr1.jpeg\" width=\"800\" height=\"400\">\n"
   ]
  },
  {
   "cell_type": "code",
   "execution_count": null,
   "metadata": {},
   "outputs": [],
   "source": [
    "# por defecto, el atributo de peso en el pagerank es `weight`,\n",
    "# por lo que usamos `peso = None` para encontrar los resultados no ponderados\n",
    "sorted(nx.pagerank_numpy(G_book1, weight=None).items(), key=lambda x:x[1], reverse=True)[0:10]"
   ]
  },
  {
   "cell_type": "code",
   "execution_count": null,
   "metadata": {},
   "outputs": [],
   "source": [
    "sorted(nx.pagerank_numpy(G_book1, weight='weight').items(), key=lambda x:x[1], reverse=True)[0:10]"
   ]
  },
  {
   "cell_type": "markdown",
   "metadata": {},
   "source": [
    "### ¿Existe una correlación entre estas métricas?\n",
    "\n",
    "#### Ejercicio\n",
    "\n",
    "Encuentre la correlación entre estas cuatro métricas de centralidad.\n",
    "\n",
    "- PageRank\n",
    "- betweenness_centrality\n",
    "- weighted_degree\n",
    "- centralidad de grado"
   ]
  },
  {
   "cell_type": "code",
   "execution_count": null,
   "metadata": {},
   "outputs": [],
   "source": [
    "cor = pd.DataFrame.from_records(\n",
    "    [nx.pagerank_numpy(G_book1, weight='weight'),\n",
    "     nx.betweenness_centrality(G_book1, weight='weight'),\n",
    "#      weighted_degree(G_book1, 'weight'),\n",
    "     nx.degree_centrality(G_book1)])"
   ]
  },
  {
   "cell_type": "code",
   "execution_count": null,
   "metadata": {},
   "outputs": [],
   "source": [
    "cor.T.corr()"
   ]
  },
  {
   "cell_type": "markdown",
   "metadata": {},
   "source": [
    "## Evolución de la importancia de los personajes sobre los libros\n",
    "\n",
    "Según la centralidad de grado, el personaje más importante del primer libro es Eddard Stark, pero ni siquiera está en el top 10 del quinto libro. La importancia cambia en el transcurso de cinco libros (hay muchas muertes :B)\n",
    "\n",
    "Veamos la evolución de la centralidad de grado de un par de personajes como Eddard Stark, Jon Snow, Tyrion, que aparecieron en el top 10 de centralidad de grado en el primer libro.\n",
    "\n",
    "Creamos un DataFrame con columnas de personajes y los libros como índices donde cada entrada es la centralidad de grado del personaje en ese libro en particular y trazamos la evolución de la centralidad de grado para Eddard Stark, Jon Snow y Tyrion.\n",
    "\n",
    "Podemos ver que la importancia de Eddard Stark en la red diminuye y con Jon Snow hay una caída en el cuarto libro pero un aumento repentino en el quinto libro."
   ]
  },
  {
   "cell_type": "code",
   "execution_count": null,
   "metadata": {},
   "outputs": [],
   "source": [
    "evol = [nx.degree_centrality(book) for book in books]#para cada red calcula el grado de nodo\n",
    "evol_df = pd.DataFrame.from_records(evol).fillna(0)#Crea un objeto DataFrame a partir de un ndarray estructurado, una secuencia de tuplas o diccionarios, o un DataFrame.\n",
    "evol_df[['Eddard-Stark', 'Tyrion-Lannister', 'Jon-Snow']].plot()\n",
    "\n",
    "#Nota: Los corchetes interiores son para la lista y los corchetes externos son operadores de indexación, es decir, \n",
    "#debe usar corchetes dobles si seleccionas dos o más columnas. Con un nombre de columna, un solo par de corchetes \n",
    "#devuelve una Series, mientras que los corchetes dobles devuelven un dataframe.\n"
   ]
  },
  {
   "cell_type": "code",
   "execution_count": null,
   "metadata": {},
   "outputs": [],
   "source": [
    "evol_df['Eddard-Stark']#, 'Tyrion-Lannister', 'Jon-Snow']"
   ]
  },
  {
   "cell_type": "code",
   "execution_count": null,
   "metadata": {},
   "outputs": [],
   "source": [
    "set_of_char = set()\n",
    "for i in range(5):\n",
    "    set_of_char |= set(list(evol_df.T[i].sort_values(ascending=False)[0:5].index))# `|=` hace una unión de conjuntos\n",
    "#     print(set_of_char)\n",
    "set_of_char"
   ]
  },
  {
   "cell_type": "markdown",
   "metadata": {},
   "source": [
    "### Ejercicio 5 (resuelto)\n",
    "\n",
    "Trace la evolución de la centralidad de grado ponderado de los personajes antes mencionados sobre los 5 libros y repita el mismo ejercicio para la centralidad de intermediación."
   ]
  },
  {
   "cell_type": "code",
   "execution_count": null,
   "metadata": {},
   "outputs": [],
   "source": [
    "evol_df[list(set_of_char)].plot(figsize=(29,15))"
   ]
  },
  {
   "cell_type": "code",
   "execution_count": null,
   "metadata": {},
   "outputs": [],
   "source": [
    "evol = [nx.betweenness_centrality(graph, weight='weight') for graph in [G_book1, G_book2, G_book3, G_book4, G_book5]]\n",
    "evol_df = pd.DataFrame.from_records(evol).fillna(0)\n",
    "\n",
    "\n",
    "\n",
    "set_of_char = set()\n",
    "for i in range(5):\n",
    "    set_of_char |= set(list(evol_df.T[i].sort_values(ascending=False)[0:5].index))\n",
    "\n",
    "\n",
    "evol_df[list(set_of_char)].plot(figsize=(19,10))"
   ]
  },
  {
   "cell_type": "markdown",
   "metadata": {},
   "source": [
    "### Entonces, ¿qué pasa con Stannis Baratheon?"
   ]
  },
  {
   "cell_type": "code",
   "execution_count": null,
   "metadata": {},
   "outputs": [],
   "source": [
    "nx.draw(nx.barbell_graph(5, 1), with_labels=True)"
   ]
  },
  {
   "cell_type": "code",
   "execution_count": null,
   "metadata": {},
   "outputs": [],
   "source": [
    "sorted(nx.degree_centrality(G_book5).items(), key=lambda x:x[1], reverse=True)[:5]"
   ]
  },
  {
   "cell_type": "code",
   "execution_count": null,
   "metadata": {},
   "outputs": [],
   "source": [
    "sorted(nx.betweenness_centrality(G_book5).items(), key=lambda x:x[1], reverse=True)[:5]"
   ]
  },
  {
   "cell_type": "markdown",
   "metadata": {},
   "source": [
    "#### Detección de comunidad en redes\n",
    "Se dice que una red tiene una estructura de comunidades si los nodos de la red se pueden agrupar fácilmente en conjuntos de nodos (potencialmente superpuestos) de modo que cada conjunto de nodos esté densamente conectado internamente (dentro de cada comunidad).\n",
    "\n",
    "Usaremos el algoritmo de detección de la comunidad de Louvain para encontrar los módulos en nuestro grafo."
   ]
  },
  {
   "cell_type": "code",
   "execution_count": null,
   "metadata": {},
   "outputs": [],
   "source": [
    "plt.figure(figsize=(15, 15))\n",
    "\n",
    "\n",
    "# partition = community.best_partition(G_book1)\n",
    "partition =community_louvain.best_partition(G_book1)\n",
    "\n",
    "size = (len(set(partition.values())))#Numero de comunidades\n",
    "print('Se detectan %d comunidades' % (size))\n",
    "\n",
    "pos = nx.spring_layout(G_book1) # Layout para la red (coordenadas de los nodos y enlaces)\n",
    "\n",
    "count = 0\n",
    "colors = [np.array(cm.jet(x)).reshape(1,-1) for x in np.linspace(0, 1, size)]#cm.jet es el mapa de colores https://www.programcreek.com/python/example/56498/matplotlib.cm.jet\n",
    "for com in set(partition.values()): #para cada comunidad\n",
    "    list_nodes = [nodes for nodes in partition.keys() if partition[nodes] == com]#guarda los personajes que pertenecen a la comunidad `com`\n",
    "    nx.draw_networkx_nodes(G_book1, pos, list_nodes, node_size = 100, node_color=colors[count])#plotea nodos con colors por comunidad\n",
    "    count = count + 1# para iterar sobre los colores\n",
    "nx.draw_networkx_edges(G_book1, pos, alpha=0.2)#plotea enlaces\n",
    "plt.show()\n",
    "\n"
   ]
  },
  {
   "cell_type": "code",
   "execution_count": null,
   "metadata": {},
   "outputs": [],
   "source": [
    "# Creamos un diccionario de personajes y sus respectivas comunidades\n",
    "d = {}\n",
    "for character, par in partition.items():\n",
    "    if par in d:\n",
    "        d[par].append(character)\n",
    "    else:\n",
    "        d[par] = [character]\n",
    "d"
   ]
  },
  {
   "cell_type": "code",
   "execution_count": null,
   "metadata": {},
   "outputs": [],
   "source": [
    "# la densidad de un grafo es una propiedad que determina la proporción de aristas que posee. \n",
    "\n",
    "nx.density(G_book1)"
   ]
  },
  {
   "cell_type": "code",
   "execution_count": null,
   "metadata": {
    "scrolled": true
   },
   "outputs": [],
   "source": []
  },
  {
   "cell_type": "code",
   "execution_count": null,
   "metadata": {},
   "outputs": [],
   "source": [
    "nx.density(nx.subgraph(G_book1, d[4]))"
   ]
  },
  {
   "cell_type": "code",
   "execution_count": null,
   "metadata": {},
   "outputs": [],
   "source": [
    "nx.density(nx.subgraph(G_book1, d[7]))"
   ]
  },
  {
   "cell_type": "code",
   "execution_count": null,
   "metadata": {},
   "outputs": [],
   "source": [
    "nx.density(nx.subgraph(G_book1, d[7]))/nx.density(G_book1)"
   ]
  },
  {
   "cell_type": "markdown",
   "metadata": {},
   "source": [
    "### Ejercicio 6\n",
    "\n",
    "Encuentre el nodo más importante en las particiones según su centralidad de grado (esta es la normalizada)."
   ]
  },
  {
   "cell_type": "code",
   "execution_count": null,
   "metadata": {},
   "outputs": [],
   "source": []
  },
  {
   "cell_type": "code",
   "execution_count": null,
   "metadata": {},
   "outputs": [],
   "source": []
  },
  {
   "cell_type": "code",
   "execution_count": null,
   "metadata": {},
   "outputs": [],
   "source": []
  },
  {
   "cell_type": "markdown",
   "metadata": {},
   "source": [
    "## Un poco sobre la leyes de potencia en redes\n",
    "\n",
    "<img src=\"img/plaw_random.png\" width=\"800\" height=\"400\">\n"
   ]
  },
  {
   "cell_type": "code",
   "execution_count": null,
   "metadata": {},
   "outputs": [],
   "source": [
    "G_random = nx.erdos_renyi_graph(1000, 0.5)\n",
    "# nx.draw(G_random)"
   ]
  },
  {
   "cell_type": "code",
   "execution_count": null,
   "metadata": {},
   "outputs": [],
   "source": []
  },
  {
   "cell_type": "code",
   "execution_count": null,
   "metadata": {},
   "outputs": [],
   "source": [
    "G_ba = nx.barabasi_albert_graph(100, 2)# Genera garfos libre de escala"
   ]
  },
  {
   "cell_type": "code",
   "execution_count": null,
   "metadata": {},
   "outputs": [],
   "source": [
    "nx.draw(G_ba)"
   ]
  },
  {
   "cell_type": "code",
   "execution_count": null,
   "metadata": {},
   "outputs": [],
   "source": [
    "# Trazar un histograma de centralidad de grados\n",
    "plt.hist(list(nx.degree_centrality(G_random).values()))\n",
    "plt.show()"
   ]
  },
  {
   "cell_type": "code",
   "execution_count": null,
   "metadata": {},
   "outputs": [],
   "source": [
    "plt.hist(list(nx.degree_centrality(G_ba).values()))\n",
    "plt.show()"
   ]
  },
  {
   "cell_type": "code",
   "execution_count": null,
   "metadata": {},
   "outputs": [],
   "source": [
    "# Generamos redes mas grandes\n",
    "\n",
    "G_random = nx.erdos_renyi_graph(2000, 0.2)\n",
    "G_ba = nx.barabasi_albert_graph(2000, 2)"
   ]
  },
  {
   "cell_type": "code",
   "execution_count": null,
   "metadata": {},
   "outputs": [],
   "source": [
    "d = {}\n",
    "for i, j in dict(nx.degree(G_random)).items():\n",
    "    if j in d:\n",
    "        d[j] += 1\n",
    "    else:\n",
    "        d[j] = 1\n",
    "x = np.log2(list((d.keys())))\n",
    "y = np.log2(list(d.values()))\n",
    "plt.scatter(x, y, alpha=0.9)\n",
    "plt.show()"
   ]
  },
  {
   "cell_type": "code",
   "execution_count": null,
   "metadata": {},
   "outputs": [],
   "source": [
    "d = {}\n",
    "for i, j in dict(nx.degree(G_ba)).items():\n",
    "    if j in d:\n",
    "        d[j] += 1\n",
    "    else:\n",
    "        d[j] = 1\n",
    "x = np.log2(list((d.keys())))\n",
    "y = np.log2(list(d.values()))\n",
    "plt.scatter(x, y, alpha=0.9)\n",
    "plt.show()"
   ]
  },
  {
   "cell_type": "code",
   "execution_count": null,
   "metadata": {},
   "outputs": [],
   "source": [
    "from sinfo import sinfo\n",
    "sinfo()"
   ]
  },
  {
   "cell_type": "code",
   "execution_count": null,
   "metadata": {},
   "outputs": [],
   "source": []
  }
 ],
 "metadata": {
  "kernelspec": {
   "display_name": "Python 3 (ipykernel)",
   "language": "python",
   "name": "python3"
  },
  "language_info": {
   "codemirror_mode": {
    "name": "ipython",
    "version": 3
   },
   "file_extension": ".py",
   "mimetype": "text/x-python",
   "name": "python",
   "nbconvert_exporter": "python",
   "pygments_lexer": "ipython3",
   "version": "3.9.12"
  }
 },
 "nbformat": 4,
 "nbformat_minor": 4
}
