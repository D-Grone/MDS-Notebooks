{
 "cells": [
  {
   "cell_type": "markdown",
   "metadata": {},
   "source": [
    "# Network Science - MDS - UDD 2022\n",
    "## Tarea 3 Ciencia de Redes\n",
    "\n",
    "\n",
    "#### Patricio Ramirez\n",
    "#### Pablo Elgueta\n",
    "\n"
   ]
  },
  {
   "cell_type": "markdown",
   "metadata": {},
   "source": [
    "### Redes? Grafos?\n",
    "\n",
    "Una estructura matemática utilizada para modelar relaciones por pares entre objetos, donde los objetos generalmente se denominan `nodos` y la relación entre ellos `enlaces`.\n",
    "\n",
    "$G = (V, E)$\n",
    "\n",
    "$V$ = conjunto de nodos/vértices\n",
    "\n",
    "$E$ = conjunto de $(x, y)$ enlaces"
   ]
  },
  {
   "cell_type": "markdown",
   "metadata": {},
   "source": [
    "# Cambiemos de tema y hablemos de Juego de tronos (Network of Thrones)\n",
    "\n",
    "¿Es sorprendente verdad? ¿Cuál es la relación entre un programa de televisión / novela de fatansia y la ciencia de redes o Python?\n",
    "\n",
    "Si no has oído hablar de Game of Thrones, entonces debes ser muy bueno para aislarte. Game of Thrones es la popular serie de televisión de HBO basada en la (también) popular serie de libros \"A Song of Ice and Fire\" de George R.R. Martin. \n",
    "\n",
    "Ahora, analizaremos la red de co-ocurrencia de los personajes en los libros de Juego de Tronos. Aquí, se considera que dos personajes coexisten si sus nombres aparecen en hasta a 15 palabras de distancia entre sí en los libros."
   ]
  },
  {
   "cell_type": "markdown",
   "metadata": {},
   "source": [
    "<!-- ![](img/got.png) -->\n",
    "\n",
    "<img src=\"img/got.png\" width=\"800\" height=\"400\">\n"
   ]
  },
  {
   "cell_type": "code",
   "execution_count": 1,
   "metadata": {},
   "outputs": [],
   "source": [
    "import pandas as pd\n",
    "import networkx as nx\n",
    "import matplotlib.pyplot as plt\n",
    "from matplotlib import cm\n",
    "# import community\n",
    "from community import community_louvain\n",
    "import numpy as np\n",
    "\n",
    "\n",
    "%matplotlib inline"
   ]
  },
  {
   "cell_type": "markdown",
   "metadata": {},
   "source": [
    "### Cargamos los datasets"
   ]
  },
  {
   "cell_type": "code",
   "execution_count": 2,
   "metadata": {},
   "outputs": [],
   "source": [
    "book1 = pd.read_csv('data/asoiaf-book1-edges.csv')\n",
    "book2 = pd.read_csv('data/asoiaf-book2-edges.csv')\n",
    "book3 = pd.read_csv('data/asoiaf-book3-edges.csv')\n",
    "book4 = pd.read_csv('data/asoiaf-book4-edges.csv')\n",
    "book5 = pd.read_csv('data/asoiaf-book5-edges.csv')"
   ]
  },
  {
   "cell_type": "markdown",
   "metadata": {},
   "source": [
    "El DataFrame resultante `book1` tiene 5 columnas: origen, destino, tipo, peso y libro. El origen y el destino son los dos nodos que están vinculados por un enlace. Una red puede tener enlaces dirigidos o no dirigidos y en esta red todos los enlaces no están dirigidos. El atributo de peso de cada enlace nos dice el número de interacciones que los personajes han tenido sobre el libro, y la columna del libro nos dice el número del libro."
   ]
  },
  {
   "cell_type": "code",
   "execution_count": 3,
   "metadata": {},
   "outputs": [
    {
     "data": {
      "text/html": [
       "<div>\n",
       "<style scoped>\n",
       "    .dataframe tbody tr th:only-of-type {\n",
       "        vertical-align: middle;\n",
       "    }\n",
       "\n",
       "    .dataframe tbody tr th {\n",
       "        vertical-align: top;\n",
       "    }\n",
       "\n",
       "    .dataframe thead th {\n",
       "        text-align: right;\n",
       "    }\n",
       "</style>\n",
       "<table border=\"1\" class=\"dataframe\">\n",
       "  <thead>\n",
       "    <tr style=\"text-align: right;\">\n",
       "      <th></th>\n",
       "      <th>Source</th>\n",
       "      <th>Target</th>\n",
       "      <th>Type</th>\n",
       "      <th>weight</th>\n",
       "      <th>book</th>\n",
       "    </tr>\n",
       "  </thead>\n",
       "  <tbody>\n",
       "    <tr>\n",
       "      <th>329</th>\n",
       "      <td>Eddard-Stark</td>\n",
       "      <td>Robert-Baratheon</td>\n",
       "      <td>Undirected</td>\n",
       "      <td>291</td>\n",
       "      <td>1</td>\n",
       "    </tr>\n",
       "    <tr>\n",
       "      <th>134</th>\n",
       "      <td>Bran-Stark</td>\n",
       "      <td>Robb-Stark</td>\n",
       "      <td>Undirected</td>\n",
       "      <td>112</td>\n",
       "      <td>1</td>\n",
       "    </tr>\n",
       "    <tr>\n",
       "      <th>62</th>\n",
       "      <td>Arya-Stark</td>\n",
       "      <td>Sansa-Stark</td>\n",
       "      <td>Undirected</td>\n",
       "      <td>104</td>\n",
       "      <td>1</td>\n",
       "    </tr>\n",
       "    <tr>\n",
       "      <th>249</th>\n",
       "      <td>Daenerys-Targaryen</td>\n",
       "      <td>Drogo</td>\n",
       "      <td>Undirected</td>\n",
       "      <td>101</td>\n",
       "      <td>1</td>\n",
       "    </tr>\n",
       "    <tr>\n",
       "      <th>479</th>\n",
       "      <td>Joffrey-Baratheon</td>\n",
       "      <td>Sansa-Stark</td>\n",
       "      <td>Undirected</td>\n",
       "      <td>87</td>\n",
       "      <td>1</td>\n",
       "    </tr>\n",
       "  </tbody>\n",
       "</table>\n",
       "</div>"
      ],
      "text/plain": [
       "                 Source            Target        Type  weight  book\n",
       "329        Eddard-Stark  Robert-Baratheon  Undirected     291     1\n",
       "134          Bran-Stark        Robb-Stark  Undirected     112     1\n",
       "62           Arya-Stark       Sansa-Stark  Undirected     104     1\n",
       "249  Daenerys-Targaryen             Drogo  Undirected     101     1\n",
       "479   Joffrey-Baratheon       Sansa-Stark  Undirected      87     1"
      ]
     },
     "execution_count": 3,
     "metadata": {},
     "output_type": "execute_result"
    }
   ],
   "source": [
    "# book1.head()\n",
    "book1.sort_values('weight',ascending=False).head()"
   ]
  },
  {
   "cell_type": "markdown",
   "metadata": {},
   "source": [
    "Una vez que tenemos los datos cargados como un DataFrame de pandas, es hora de crear una red. Creamos un grafo para cada libro. Es posible crear un MultiGraph en lugar de 5 grafos, pero es más fácil jugar con diferentes gráficos."
   ]
  },
  {
   "cell_type": "code",
   "execution_count": 4,
   "metadata": {},
   "outputs": [],
   "source": [
    "G_book1 = nx.Graph()\n",
    "G_book2 = nx.Graph()\n",
    "G_book3 = nx.Graph()\n",
    "G_book4 = nx.Graph()\n",
    "G_book5 = nx.Graph()"
   ]
  },
  {
   "cell_type": "markdown",
   "metadata": {},
   "source": [
    "Completemos el grafo con los enlaces del DataFrame de pandas."
   ]
  },
  {
   "cell_type": "code",
   "execution_count": 5,
   "metadata": {},
   "outputs": [],
   "source": [
    "for row in book1.iterrows(): #Itera las filas de DataFrame como pares (index, series).\n",
    "    G_book1.add_edge(row[1]['Source'], row[1]['Target'],weight=row[1]['weight'], book=row[1]['book'])"
   ]
  },
  {
   "cell_type": "code",
   "execution_count": 6,
   "metadata": {},
   "outputs": [],
   "source": [
    "for row in book2.iterrows():\n",
    "    G_book2.add_edge(row[1]['Source'], row[1]['Target'], weight=row[1]['weight'], book=row[1]['book'])\n",
    "for row in book3.iterrows():\n",
    "    G_book3.add_edge(row[1]['Source'], row[1]['Target'], weight=row[1]['weight'], book=row[1]['book'])\n",
    "for row in book4.iterrows():\n",
    "    G_book4.add_edge(row[1]['Source'], row[1]['Target'], weight=row[1]['weight'], book=row[1]['book'])\n",
    "for row in book5.iterrows():\n",
    "    G_book5.add_edge(row[1]['Source'], row[1]['Target'], weight=row[1]['weight'], book=row[1]['book'])"
   ]
  },
  {
   "cell_type": "code",
   "execution_count": 7,
   "metadata": {},
   "outputs": [],
   "source": [
    "books = [G_book1, G_book2, G_book3, G_book4, G_book5]"
   ]
  },
  {
   "cell_type": "markdown",
   "metadata": {},
   "source": [
    "### Encontrar el nodo/personaje más importante en estas redes.\n",
    "\n",
    "¿Es Jon Snow, Tyrion, Daenerys o alguien más? ¡Vamos a ver! Network Science nos ofrece muchas métricas diferentes para medir la importancia de un nodo en una red como vimos en la primera parte del taller. \n",
    "\n",
    "**Tenga en cuenta que no existe una forma \"correcta\" de calcular el nodo más importante de una red, cada métrica tiene un significado diferente.**\n",
    "\n",
    "Primero, midamos la importancia de un nodo en una red observando la cantidad de vecinos que tiene, es decir, la cantidad de nodos a los que está conectado. Por ejemplo, una cuenta influyente en Twitter, donde la relación seguidor-seguidor forma la red, es una cuenta que tiene un alto número de seguidores. Esta medida de importancia se llama centralidad de grado.\n"
   ]
  },
  {
   "cell_type": "markdown",
   "metadata": {},
   "source": [
    "## Ejercicio 4\n",
    "\n",
    "Cree una nueva medida de centralidad, `weighted_degree(Graph, weight)` que toma Graph y el atributo de peso y devuelve un diccionario de grados ponderados. El grado ponderado se calcula sumando el peso de todos los enlaces de un nodo. Luego, encuentre los cinco personajes más importantes de acuerdo con esta medida."
   ]
  },
  {
   "cell_type": "code",
   "execution_count": 8,
   "metadata": {},
   "outputs": [],
   "source": [
    "#Escriba su código acá (siempre pueden agregar más líneas de ser necesario):\n",
    "\n",
    "\n",
    "def weighted_degree(Graph, weight):\n",
    "\n",
    "    d = {}        \n",
    "    for i in range(0,len(list(Graph.edges()))):\n",
    "        v = list(Graph.edges(data=True))[i]\n",
    "        \n",
    "        if v[0] in d:\n",
    "            d[v[0]] += v[2][weight]\n",
    "            \n",
    "        else:\n",
    "            d[v[0]] = v[2][weight]\n",
    "\n",
    "    k = {}\n",
    "    \n",
    "    for i, j in dict(nx.degree(Graph)).items():\n",
    "        \n",
    "        k[i] = j\n",
    "        \n",
    "    for i, j in k.items():\n",
    "        for k, l in d.items():\n",
    "            if k == i:\n",
    "                d[k] = l/j\n",
    "        \n",
    "    return d\n",
    "    #print((sorted(d.items(), key=lambda x:x[1], reverse=True)[:]))\n",
    "    #print((sorted(d.items(), key=lambda x:x[1], reverse=True)[:5]))\n",
    "\n",
    "\n"
   ]
  },
  {
   "cell_type": "markdown",
   "metadata": {},
   "source": [
    "###### Libro 1 - Personajes más importantes"
   ]
  },
  {
   "cell_type": "code",
   "execution_count": 9,
   "metadata": {
    "scrolled": true
   },
   "outputs": [
    {
     "data": {
      "text/html": [
       "<div>\n",
       "<style scoped>\n",
       "    .dataframe tbody tr th:only-of-type {\n",
       "        vertical-align: middle;\n",
       "    }\n",
       "\n",
       "    .dataframe tbody tr th {\n",
       "        vertical-align: top;\n",
       "    }\n",
       "\n",
       "    .dataframe thead th {\n",
       "        text-align: right;\n",
       "    }\n",
       "</style>\n",
       "<table border=\"1\" class=\"dataframe\">\n",
       "  <thead>\n",
       "    <tr style=\"text-align: right;\">\n",
       "      <th></th>\n",
       "      <th>0</th>\n",
       "      <th>1</th>\n",
       "    </tr>\n",
       "  </thead>\n",
       "  <tbody>\n",
       "    <tr>\n",
       "      <th>0</th>\n",
       "      <td>Daenerys-Targaryen</td>\n",
       "      <td>20.857143</td>\n",
       "    </tr>\n",
       "    <tr>\n",
       "      <th>1</th>\n",
       "      <td>Eddard-Stark</td>\n",
       "      <td>18.636364</td>\n",
       "    </tr>\n",
       "    <tr>\n",
       "      <th>2</th>\n",
       "      <td>Jon-Snow</td>\n",
       "      <td>15.810811</td>\n",
       "    </tr>\n",
       "    <tr>\n",
       "      <th>3</th>\n",
       "      <td>Arya-Stark</td>\n",
       "      <td>12.481481</td>\n",
       "    </tr>\n",
       "    <tr>\n",
       "      <th>4</th>\n",
       "      <td>Bran-Stark</td>\n",
       "      <td>11.625000</td>\n",
       "    </tr>\n",
       "  </tbody>\n",
       "</table>\n",
       "</div>"
      ],
      "text/plain": [
       "                    0          1\n",
       "0  Daenerys-Targaryen  20.857143\n",
       "1        Eddard-Stark  18.636364\n",
       "2            Jon-Snow  15.810811\n",
       "3          Arya-Stark  12.481481\n",
       "4          Bran-Stark  11.625000"
      ]
     },
     "execution_count": 9,
     "metadata": {},
     "output_type": "execute_result"
    }
   ],
   "source": [
    "Books_Importnant = pd.DataFrame()\n",
    "Books_Importnant[\"Book_1\"] = pd.DataFrame(sorted(weighted_degree(G_book1,'weight').items(), key=lambda x:x[1], reverse=True)[0:5]).loc[:,:0]\n",
    "pd.DataFrame(sorted(weighted_degree(G_book1,'weight').items(), key=lambda x:x[1], reverse=True)[0:5])   "
   ]
  },
  {
   "cell_type": "code",
   "execution_count": 10,
   "metadata": {
    "scrolled": false
   },
   "outputs": [
    {
     "data": {
      "image/png": "[encoded data removed]",
      "text/plain": [
       "<Figure size 640x480 with 1 Axes>"
      ]
     },
     "metadata": {},
     "output_type": "display_data"
    }
   ],
   "source": [
    "plt.hist(list(weighted_degree(G_book1,'weight').values()))\n",
    "plt.show()"
   ]
  },
  {
   "cell_type": "markdown",
   "metadata": {},
   "source": [
    "###### Libro 2 - Personajes más importantes"
   ]
  },
  {
   "cell_type": "code",
   "execution_count": 11,
   "metadata": {},
   "outputs": [
    {
     "data": {
      "text/html": [
       "<div>\n",
       "<style scoped>\n",
       "    .dataframe tbody tr th:only-of-type {\n",
       "        vertical-align: middle;\n",
       "    }\n",
       "\n",
       "    .dataframe tbody tr th {\n",
       "        vertical-align: top;\n",
       "    }\n",
       "\n",
       "    .dataframe thead th {\n",
       "        text-align: right;\n",
       "    }\n",
       "</style>\n",
       "<table border=\"1\" class=\"dataframe\">\n",
       "  <thead>\n",
       "    <tr style=\"text-align: right;\">\n",
       "      <th></th>\n",
       "      <th>0</th>\n",
       "      <th>1</th>\n",
       "    </tr>\n",
       "  </thead>\n",
       "  <tbody>\n",
       "    <tr>\n",
       "      <th>0</th>\n",
       "      <td>Tyrion-Lannister</td>\n",
       "      <td>15.584906</td>\n",
       "    </tr>\n",
       "    <tr>\n",
       "      <th>1</th>\n",
       "      <td>Bran-Stark</td>\n",
       "      <td>13.866667</td>\n",
       "    </tr>\n",
       "    <tr>\n",
       "      <th>2</th>\n",
       "      <td>Aeron-Greyjoy</td>\n",
       "      <td>11.000000</td>\n",
       "    </tr>\n",
       "    <tr>\n",
       "      <th>3</th>\n",
       "      <td>Jeor-Mormont</td>\n",
       "      <td>10.266667</td>\n",
       "    </tr>\n",
       "    <tr>\n",
       "      <th>4</th>\n",
       "      <td>Jon-Snow</td>\n",
       "      <td>10.071429</td>\n",
       "    </tr>\n",
       "  </tbody>\n",
       "</table>\n",
       "</div>"
      ],
      "text/plain": [
       "                  0          1\n",
       "0  Tyrion-Lannister  15.584906\n",
       "1        Bran-Stark  13.866667\n",
       "2     Aeron-Greyjoy  11.000000\n",
       "3      Jeor-Mormont  10.266667\n",
       "4          Jon-Snow  10.071429"
      ]
     },
     "execution_count": 11,
     "metadata": {},
     "output_type": "execute_result"
    }
   ],
   "source": [
    "Books_Importnant[\"Book_2\"] = pd.DataFrame(sorted(weighted_degree(G_book2,'weight').items(), key=lambda x:x[1], reverse=True)[0:5]).loc[:,:0]\n",
    "pd.DataFrame(sorted(weighted_degree(G_book2,'weight').items(), key=lambda x:x[1], reverse=True)[0:5]) "
   ]
  },
  {
   "cell_type": "code",
   "execution_count": 12,
   "metadata": {
    "scrolled": false
   },
   "outputs": [
    {
     "data": {
      "image/png": "[encoded data removed]",
      "text/plain": [
       "<Figure size 640x480 with 1 Axes>"
      ]
     },
     "metadata": {},
     "output_type": "display_data"
    }
   ],
   "source": [
    "plt.hist(list(weighted_degree(G_book2,'weight').values()))\n",
    "plt.show()"
   ]
  },
  {
   "cell_type": "markdown",
   "metadata": {},
   "source": [
    "###### Libro 3 - Personajes más importantes"
   ]
  },
  {
   "cell_type": "code",
   "execution_count": null,
   "metadata": {},
   "outputs": [],
   "source": [
    "Books_Importnant[\"Book_3\"] = pd.DataFrame(sorted(weighted_degree(G_book3,'weight').items(), key=lambda x:x[1], reverse=True)[0:5]).loc[:,:0]\n",
    "pd.DataFrame(sorted(weighted_degree(G_book3,'weight').items(), key=lambda x:x[1], reverse=True)[0:5])          "
   ]
  },
  {
   "cell_type": "code",
   "execution_count": null,
   "metadata": {
    "scrolled": false
   },
   "outputs": [],
   "source": [
    "plt.hist(list(weighted_degree(G_book3,'weight').values()))\n",
    "plt.show()"
   ]
  },
  {
   "cell_type": "markdown",
   "metadata": {},
   "source": [
    "###### Libro 4 - Personajes más importantes"
   ]
  },
  {
   "cell_type": "code",
   "execution_count": null,
   "metadata": {},
   "outputs": [],
   "source": [
    "Books_Importnant[\"Book_4\"] = pd.DataFrame(sorted(weighted_degree(G_book4,'weight').items(), key=lambda x:x[1], reverse=True)[0:5]).loc[:,:0]\n",
    "pd.DataFrame(sorted(weighted_degree(G_book4,'weight').items(), key=lambda x:x[1], reverse=True)[0:5])      "
   ]
  },
  {
   "cell_type": "code",
   "execution_count": null,
   "metadata": {
    "scrolled": false
   },
   "outputs": [],
   "source": [
    "plt.hist(list(weighted_degree(G_book4,'weight').values()))\n",
    "plt.show()"
   ]
  },
  {
   "cell_type": "markdown",
   "metadata": {},
   "source": [
    "###### Libro 5 - Personajes más importantes"
   ]
  },
  {
   "cell_type": "code",
   "execution_count": null,
   "metadata": {},
   "outputs": [],
   "source": [
    "Books_Importnant[\"Book_5\"] = pd.DataFrame(sorted(weighted_degree(G_book5,'weight').items(), key=lambda x:x[1], reverse=True)[0:5]).loc[:,:0]\n",
    "pd.DataFrame(sorted(weighted_degree(G_book5,'weight').items(), key=lambda x:x[1], reverse=True)[0:5])"
   ]
  },
  {
   "cell_type": "code",
   "execution_count": null,
   "metadata": {
    "scrolled": false
   },
   "outputs": [],
   "source": [
    "plt.hist(list(weighted_degree(G_book5,'weight').values()))\n",
    "plt.show()"
   ]
  },
  {
   "cell_type": "markdown",
   "metadata": {},
   "source": [
    "## Respuesta Ejercicio 4\n",
    "\n",
    "###### De acuerdo al análisis de del grado de centralidad ponderado es posible apreciar que  la reelevancia de los personajes varia en cada uno de los libros,  donde personajes como Jon Snow que figuran en el listado inicial, desaparece de los listados y vuelven a aparecer en el listado final.\n",
    "\n",
    "###### Los personajes que más se repiten como reelevantes en los listados son Daenerys Targaryen y Brank Stark.\n",
    "\n",
    "###### Otro aspecto importante que se aprecia, es que en los primeros libros existen solo 1 o 2 personajes que poseen con una importancia bastante mayor a los demás, mientras que a medida que avanzan los libros esta reelevancia tiende a distribuirse."
   ]
  },
  {
   "cell_type": "code",
   "execution_count": null,
   "metadata": {},
   "outputs": [],
   "source": [
    "Books_Importnant"
   ]
  },
  {
   "cell_type": "markdown",
   "metadata": {},
   "source": [
    "### Hagamos esto para la centralidad de Betweenness y verifiquemos si esto hace alguna diferencia"
   ]
  },
  {
   "cell_type": "code",
   "execution_count": null,
   "metadata": {},
   "outputs": [],
   "source": [
    "G = nx.barbell_graph(5, 1) #Recordemos: El nodo del centro es el de mayor betweennes\n",
    "#nx.draw(G)"
   ]
  },
  {
   "cell_type": "code",
   "execution_count": null,
   "metadata": {},
   "outputs": [],
   "source": [
    "# Primero verifique el grafo no ponderado, solo la estructura\n",
    "\n",
    "#sorted(nx.betweenness_centrality(G_book1).items(), key=lambda x:x[1], reverse=True)[0:10]"
   ]
  },
  {
   "cell_type": "code",
   "execution_count": null,
   "metadata": {},
   "outputs": [],
   "source": [
    "# Consideremos el peso ahora\n",
    "\n",
    "#sorted(nx.betweenness_centrality(G_book1, weight='weight').items(), key=lambda x:x[1], reverse=True)[0:10]"
   ]
  },
  {
   "cell_type": "markdown",
   "metadata": {},
   "source": [
    "## PageRank\n",
    "El algoritmo de billón de dólares, PageRank, funciona contando el número y la importancia de los enlaces a una página para determinar una estimación aproximada de la importancia del sitio web. La suposición subyacente es que es probable que los sitios web más importantes reciban más enlaces de otros sitios web.\n",
    "\n",
    "<img src=\"img/pagerank.png\" width=\"800\" height=\"400\">\n",
    "\n",
    "<img src=\"img/pgr1.jpeg\" width=\"800\" height=\"400\">\n"
   ]
  },
  {
   "cell_type": "markdown",
   "metadata": {},
   "source": [
    "## Ejercicio 5\n",
    "\n",
    "### ¿Existe una correlación entre estas métricas?\n",
    "\n",
    "Encuentre la correlación entre estas cuatro métricas de centralidad.\n",
    "\n",
    "- PageRank\n",
    "- betweenness_centrality\n",
    "- weighted_degree\n",
    "- centralidad de grado"
   ]
  },
  {
   "cell_type": "markdown",
   "metadata": {},
   "source": [
    "##### Correlación Libro 1"
   ]
  },
  {
   "cell_type": "code",
   "execution_count": null,
   "metadata": {},
   "outputs": [],
   "source": [
    "cor = pd.DataFrame.from_records(\n",
    "    [nx.pagerank_numpy(G_book1, weight='weight'),\n",
    "    nx.betweenness_centrality(G_book1, weight='weight'),\n",
    "    weighted_degree(G_book1, 'weight'),\n",
    "    nx.degree_centrality(G_book1)])"
   ]
  },
  {
   "cell_type": "code",
   "execution_count": null,
   "metadata": {
    "scrolled": false
   },
   "outputs": [],
   "source": [
    "cor.T.corr()"
   ]
  },
  {
   "cell_type": "code",
   "execution_count": null,
   "metadata": {},
   "outputs": [],
   "source": [
    "cor.T"
   ]
  },
  {
   "cell_type": "code",
   "execution_count": null,
   "metadata": {
    "scrolled": false
   },
   "outputs": [],
   "source": [
    "#import matplotlib.pyplot as plt\n",
    "from pandas.plotting import scatter_matrix\n",
    "scatter_matrix(cor.T[[0,1,2,3]],  diagonal='hist')\n",
    "plt.show()"
   ]
  },
  {
   "cell_type": "markdown",
   "metadata": {},
   "source": [
    "##### Correlación Libro 3"
   ]
  },
  {
   "cell_type": "code",
   "execution_count": null,
   "metadata": {
    "scrolled": false
   },
   "outputs": [],
   "source": [
    "cor = pd.DataFrame.from_records(\n",
    "    [nx.pagerank_numpy(G_book3, weight='weight'),\n",
    "    nx.betweenness_centrality(G_book3, weight='weight'),\n",
    "    weighted_degree(G_book3, 'weight'),\n",
    "    nx.degree_centrality(G_book3)])\n",
    "\n",
    "scatter_matrix(cor.T[[0,1,2,3]],  diagonal='hist')\n",
    "plt.show()"
   ]
  },
  {
   "cell_type": "markdown",
   "metadata": {},
   "source": [
    "##### Correlación Libro 5"
   ]
  },
  {
   "cell_type": "code",
   "execution_count": null,
   "metadata": {},
   "outputs": [],
   "source": [
    "cor = pd.DataFrame.from_records(\n",
    "    [nx.pagerank_numpy(G_book5, weight='weight'),\n",
    "    nx.betweenness_centrality(G_book5, weight='weight'),\n",
    "    weighted_degree(G_book5, 'weight'),\n",
    "    nx.degree_centrality(G_book5)])\n",
    "\n",
    "scatter_matrix(cor.T[[0,1,2,3]],  diagonal='hist')\n",
    "plt.show()"
   ]
  },
  {
   "cell_type": "markdown",
   "metadata": {},
   "source": [
    "## Respuesta Ejercicio 5\n",
    "\n",
    "###### Del análisis de las correlaciones de estos 3 libros, es posible apreciar que en general aquella que presenta una correlación mas fuerte y claramente lineal son el Page Rank y el Grado de Centralidad.\n",
    "\n",
    "###### Tambien es posible apreciar que las gráficas de distribución para ambos estimadores mencionados anteriormente son similares, a diferencia de lo que sucede con la Centralidad de Grado Ponderada, donde la fórmula matemática utilizada para el cálculo, tan dependiente del Peso de los enlases puede ocasionar que no exista una correlación marcada respecto a los otros estimadores."
   ]
  },
  {
   "cell_type": "markdown",
   "metadata": {},
   "source": [
    "## Evolución de la importancia de los personajes sobre los libros\n",
    "\n",
    "Según la centralidad de grado, el personaje más importante del primer libro es Eddard Stark, pero ni siquiera está en el top 10 del quinto libro. La importancia cambia en el transcurso de cinco libros (hay muchas muertes :B)\n",
    "\n",
    "Veamos la evolución de la centralidad de grado de un par de personajes como Eddard Stark, Jon Snow, Tyrion, que aparecieron en el top 10 de centralidad de grado en el primer libro.\n",
    "\n",
    "Creamos un DataFrame con columnas de personajes y los libros como índices donde cada entrada es la centralidad de grado del personaje en ese libro en particular y trazamos la evolución de la centralidad de grado para Eddard Stark, Jon Snow y Tyrion.\n",
    "\n",
    "Podemos ver que la importancia de Eddard Stark en la red diminuye y con Jon Snow hay una caída en el cuarto libro pero un aumento repentino en el quinto libro."
   ]
  },
  {
   "cell_type": "code",
   "execution_count": null,
   "metadata": {},
   "outputs": [],
   "source": [
    "evol = [nx.degree_centrality(book) for book in books]#para cada red calcula el grado de nodo\n",
    "evol_df = pd.DataFrame.from_records(evol).fillna(0)#Crea un objeto DataFrame a partir de un ndarray estructurado, una secuencia de tuplas o diccionarios, o un DataFrame.\n",
    "evol_df[['Eddard-Stark', 'Tyrion-Lannister', 'Jon-Snow']].plot()\n",
    "\n",
    "#Nota: Los corchetes interiores son para la lista y los corchetes externos son operadores de indexación, es decir, \n",
    "#debe usar corchetes dobles si seleccionas dos o más columnas. Con un nombre de columna, un solo par de corchetes \n",
    "#devuelve una Series, mientras que los corchetes dobles devuelven un dataframe.\n"
   ]
  },
  {
   "cell_type": "code",
   "execution_count": null,
   "metadata": {},
   "outputs": [],
   "source": [
    "#evol_df['Eddard-Stark']#, 'Tyrion-Lannister', 'Jon-Snow']"
   ]
  },
  {
   "cell_type": "code",
   "execution_count": null,
   "metadata": {},
   "outputs": [],
   "source": [
    "set_of_char = set()\n",
    "for i in range(5):\n",
    "    set_of_char |= set(list(evol_df.T[i].sort_values(ascending=False)[0:5].index))# `|=` hace una unión de conjuntos\n",
    "#     print(set_of_char)\n",
    "#set_of_char"
   ]
  },
  {
   "cell_type": "markdown",
   "metadata": {},
   "source": [
    "### Ejercicio Resuelto\n",
    "\n",
    "Trace la evolución de la centralidad de grado ponderado de los personajes antes mencionados sobre los 5 libros y repita el mismo ejercicio para la centralidad de intermediación."
   ]
  },
  {
   "cell_type": "code",
   "execution_count": null,
   "metadata": {},
   "outputs": [],
   "source": [
    "evol_df[list(set_of_char)].plot(figsize=(29,15))"
   ]
  },
  {
   "cell_type": "code",
   "execution_count": null,
   "metadata": {},
   "outputs": [],
   "source": [
    "evol = [nx.betweenness_centrality(graph, weight='weight') for graph in [G_book1, G_book2, G_book3, G_book4, G_book5]]\n",
    "evol_df = pd.DataFrame.from_records(evol).fillna(0)\n",
    "\n",
    "\n",
    "\n",
    "set_of_char = set()\n",
    "for i in range(5):\n",
    "    set_of_char |= set(list(evol_df.T[i].sort_values(ascending=False)[0:5].index))\n",
    "\n",
    "\n",
    "evol_df[list(set_of_char)].plot(figsize=(19,10))"
   ]
  },
  {
   "cell_type": "markdown",
   "metadata": {},
   "source": [
    "#### Detección de comunidad en redes\n",
    "Se dice que una red tiene una estructura de comunidades si los nodos de la red se pueden agrupar fácilmente en conjuntos de nodos (potencialmente superpuestos) de modo que cada conjunto de nodos esté densamente conectado internamente (dentro de cada comunidad).\n",
    "\n",
    "Usaremos el algoritmo de detección de la comunidad de Louvain para encontrar los módulos en nuestro grafo."
   ]
  },
  {
   "cell_type": "code",
   "execution_count": null,
   "metadata": {},
   "outputs": [],
   "source": [
    "plt.figure(figsize=(15, 15))\n",
    "\n",
    "\n",
    "# partition = community.best_partition(G_book1)\n",
    "partition =community_louvain.best_partition(G_book1)\n",
    "\n",
    "size = (len(set(partition.values())))#Numero de comunidades\n",
    "print('Se detectan %d comunidades' % (size))\n",
    "\n",
    "pos = nx.spring_layout(G_book1) # Layout para la red (coordenadas de los nodos y enlaces)\n",
    "\n",
    "count = 0\n",
    "colors = [np.array(cm.jet(x)).reshape(1,-1) for x in np.linspace(0, 1, size)]#cm.jet es el mapa de colores https://www.programcreek.com/python/example/56498/matplotlib.cm.jet\n",
    "for com in set(partition.values()): #para cada comunidad\n",
    "    list_nodes = [nodes for nodes in partition.keys() if partition[nodes] == com]#guarda los personajes que pertenecen a la comunidad `com`\n",
    "    nx.draw_networkx_nodes(G_book1, pos, list_nodes, node_size = 100, node_color=colors[count])#plotea nodos con colors por comunidad\n",
    "    count = count + 1# para iterar sobre los colores\n",
    "nx.draw_networkx_edges(G_book1, pos, alpha=0.2)#plotea enlaces\n",
    "plt.show()\n",
    "\n"
   ]
  },
  {
   "cell_type": "code",
   "execution_count": null,
   "metadata": {
    "scrolled": false
   },
   "outputs": [],
   "source": [
    "# Creamos un diccionario de personajes y sus respectivas comunidades\n",
    "d = {}\n",
    "for character, par in partition.items():\n",
    "    if par in d:\n",
    "        d[par].append(character)\n",
    "    else:\n",
    "        d[par] = [character]\n",
    "d"
   ]
  },
  {
   "cell_type": "code",
   "execution_count": null,
   "metadata": {},
   "outputs": [],
   "source": [
    "# la densidad de un grafo es una propiedad que determina la proporción de aristas que posee. \n",
    "\n",
    "nx.density(G_book1)"
   ]
  },
  {
   "cell_type": "code",
   "execution_count": null,
   "metadata": {},
   "outputs": [],
   "source": [
    "nx.density(nx.subgraph(G_book1, d[4]))"
   ]
  },
  {
   "cell_type": "code",
   "execution_count": null,
   "metadata": {},
   "outputs": [],
   "source": [
    "nx.density(nx.subgraph(G_book1, d[7]))"
   ]
  },
  {
   "cell_type": "code",
   "execution_count": null,
   "metadata": {},
   "outputs": [],
   "source": [
    "nx.density(nx.subgraph(G_book1, d[7]))/nx.density(G_book1)"
   ]
  },
  {
   "cell_type": "markdown",
   "metadata": {},
   "source": [
    "### Ejercicio 6\n",
    "\n",
    "Encuentre el nodo más importante en las particiones según su centralidad de grado (esta es la normalizada)."
   ]
  },
  {
   "cell_type": "code",
   "execution_count": null,
   "metadata": {},
   "outputs": [],
   "source": [
    "def comunidad(book, d):\n",
    "\n",
    "    j=0\n",
    "    df1 = pd.DataFrame()\n",
    "    for name in d:\n",
    "        for i in range(len(book)):\n",
    "            if name in book.Source[i]:\n",
    "                for nameT in d:\n",
    "                    if nameT in book.Target[i]:\n",
    "                        if j == 0:\n",
    "                            df1 = book.loc[i:i]\n",
    "                            j = 1\n",
    "                        else:\n",
    "                            df2 = book.loc[i:i]\n",
    "                            frames = [df1,df2]\n",
    "                            df1 = pd.concat(frames)\n",
    "            \n",
    "    return df1 "
   ]
  },
  {
   "cell_type": "code",
   "execution_count": null,
   "metadata": {},
   "outputs": [],
   "source": [
    "def comunidad_grado_cent_mayor (book, d):\n",
    "\n",
    "    comunity = comunidad(book, d)\n",
    "    G_comunity = nx.Graph()\n",
    "    \n",
    "    for row in comunity.iterrows():\n",
    "        G_comunity.add_edge(row[1]['Source'], row[1]['Target'], weight=row[1]['weight'], book=row[1]['book'])\n",
    "    data = nx.degree_centrality(G_comunity)\n",
    "    MG = pd.DataFrame.from_dict(data, orient='index', columns= ['Degree_Centrality']).sort_values('Degree_Centrality',ascending=False).iloc[:1]\n",
    "    \n",
    "    return MG"
   ]
  },
  {
   "cell_type": "markdown",
   "metadata": {},
   "source": [
    "###### Comunidad 0"
   ]
  },
  {
   "cell_type": "code",
   "execution_count": null,
   "metadata": {},
   "outputs": [],
   "source": [
    "comunidad_grado_cent_mayor (book1, d[0])"
   ]
  },
  {
   "cell_type": "markdown",
   "metadata": {},
   "source": [
    "###### Comunidad 1"
   ]
  },
  {
   "cell_type": "code",
   "execution_count": null,
   "metadata": {},
   "outputs": [],
   "source": [
    "comunidad_grado_cent_mayor (book1, d[1])"
   ]
  },
  {
   "cell_type": "markdown",
   "metadata": {},
   "source": [
    "###### Comunidad 2"
   ]
  },
  {
   "cell_type": "code",
   "execution_count": null,
   "metadata": {},
   "outputs": [],
   "source": [
    "comunidad_grado_cent_mayor (book1, d[2])"
   ]
  },
  {
   "cell_type": "markdown",
   "metadata": {},
   "source": [
    "###### Comunidad 3"
   ]
  },
  {
   "cell_type": "code",
   "execution_count": null,
   "metadata": {},
   "outputs": [],
   "source": [
    "comunidad_grado_cent_mayor (book1, d[3])"
   ]
  },
  {
   "cell_type": "markdown",
   "metadata": {},
   "source": [
    "###### Comunidad 4"
   ]
  },
  {
   "cell_type": "code",
   "execution_count": null,
   "metadata": {},
   "outputs": [],
   "source": [
    "comunidad_grado_cent_mayor (book1, d[4])"
   ]
  },
  {
   "cell_type": "markdown",
   "metadata": {},
   "source": [
    "###### Comunidad 5"
   ]
  },
  {
   "cell_type": "code",
   "execution_count": null,
   "metadata": {},
   "outputs": [],
   "source": [
    "comunidad_grado_cent_mayor (book1, d[5])"
   ]
  },
  {
   "cell_type": "markdown",
   "metadata": {},
   "source": [
    "###### Comunidad 6"
   ]
  },
  {
   "cell_type": "code",
   "execution_count": null,
   "metadata": {},
   "outputs": [],
   "source": [
    "comunidad_grado_cent_mayor (book1, d[6])"
   ]
  },
  {
   "cell_type": "markdown",
   "metadata": {},
   "source": [
    "###### Comunidad 7"
   ]
  },
  {
   "cell_type": "code",
   "execution_count": null,
   "metadata": {},
   "outputs": [],
   "source": [
    "comunidad_grado_cent_mayor (book1, d[7])"
   ]
  },
  {
   "cell_type": "markdown",
   "metadata": {},
   "source": [
    "## Respuesta Ejercicio 6\n",
    "\n",
    "###### En base a las centralidades de grado obtenidas para cada comunidad es posible apreciar que en general aquellas con un mayor número de nodos  la centralidad de grado es mas baja que aquella en que existen menor cantidad de nodos.\n",
    "\n",
    "###### Por ejemplo existen 2 comunidades con 3 nodos los cuales conforman tripletes cerrados y su centralidad de grado más alta es de 1 para los 3 nodos.\n",
    "\n",
    "###### De este modo, se puede decir que en redes o comunidades pequeñas es mucho mas probable que los nodos se encuentren conectados entre ellos, mientras que a medida que una comunidad crece, se tienede a tener centralidades de grados mas bajas."
   ]
  }
 ],
 "metadata": {
  "kernelspec": {
   "display_name": "Python 3 (ipykernel)",
   "language": "python",
   "name": "python3"
  },
  "language_info": {
   "codemirror_mode": {
    "name": "ipython",
    "version": 3
   },
   "file_extension": ".py",
   "mimetype": "text/x-python",
   "name": "python",
   "nbconvert_exporter": "python",
   "pygments_lexer": "ipython3",
   "version": "3.9.13"
  }
 },
 "nbformat": 4,
 "nbformat_minor": 4
}
