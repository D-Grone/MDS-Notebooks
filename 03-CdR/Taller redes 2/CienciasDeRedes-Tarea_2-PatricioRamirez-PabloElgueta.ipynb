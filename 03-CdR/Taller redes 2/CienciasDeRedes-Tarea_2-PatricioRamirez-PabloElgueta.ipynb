{
 "cells": [
  {
   "cell_type": "markdown",
   "metadata": {},
   "source": [
    "# Network Science - MDS - UDD 2022\n",
    "## Tarea 2 Ciencia de Redes\n",
    "\n",
    "\n",
    "#### Patricio Ramirez\n",
    "#### Pablo Elgueta\n",
    "\n",
    "\n"
   ]
  },
  {
   "cell_type": "markdown",
   "metadata": {},
   "source": [
    "### Redes? Grafos?\n",
    "\n",
    "Una estructura matemática utilizada para modelar relaciones por pares entre objetos, donde los objetos generalmente se denominan `nodos` y la relación entre ellos `enlaces`.\n",
    "\n",
    "$G = (V, E)$\n",
    "\n",
    "$V$ = conjunto de nodos/vértices\n",
    "\n",
    "$E$ = conjunto de $(x, y)$ enlaces"
   ]
  },
  {
   "cell_type": "code",
   "execution_count": 1,
   "metadata": {},
   "outputs": [],
   "source": [
    "# Module 1: Comenzando con NetworkX\n",
    "\n",
    "import pandas as pd\n",
    "import numpy as np\n",
    "import matplotlib.pyplot as plt \n",
    "import collections\n",
    "\n",
    "import networkx as nx\n",
    "\n",
    "%matplotlib inline\n",
    "\n",
    "import urllib.request as urllib\n",
    "import io\n",
    "\n",
    "# path = 'https://saref.github.io/teaching/PyNetworkshop/'"
   ]
  },
  {
   "cell_type": "markdown",
   "metadata": {},
   "source": [
    "## Trabajemos en una red real\n",
    "\n",
    "La red de colaboración Arxiv GR-QC (Relatividad General y Cosmología Cuántica) es de e-print arXiv y cubre las colaboraciones científicas entre los artículos de los autores enviados a la categoría de Relatividad General y Cosmología Cuántica. Si un autor $i$ es coautor de un artículo con el autor $j$, el grafo contiene un enlace no dirigido entre $i$ y $j$. Si el artículo es co-autoreado por $k$ autores, esto genera un (sub) grafo completamente conectado con $k$ nodos.\n",
    "\n",
    "fuente: http://snap.stanford.edu/data/index.html#canets"
   ]
  },
  {
   "cell_type": "code",
   "execution_count": 2,
   "metadata": {},
   "outputs": [],
   "source": [
    "# crear un grafo de autor a partir del conjunto de datos\n",
    "import csv\n",
    "authors_graph = nx.Graph()\n",
    "\n",
    "with open('data/CA-GrQc.txt', 'r') as f:\n",
    "    reader = csv.reader(f, delimiter='\\t')\n",
    "    for row in reader:\n",
    "        authors_graph.add_edge(row[0], row[1])"
   ]
  },
  {
   "cell_type": "code",
   "execution_count": 3,
   "metadata": {},
   "outputs": [
    {
     "data": {
      "text/plain": [
       "networkx.classes.graph.Graph"
      ]
     },
     "execution_count": 3,
     "metadata": {},
     "output_type": "execute_result"
    }
   ],
   "source": [
    "type(authors_graph)"
   ]
  },
  {
   "cell_type": "code",
   "execution_count": 4,
   "metadata": {},
   "outputs": [
    {
     "name": "stdout",
     "output_type": "stream",
     "text": [
      "14496\n",
      "5242\n"
     ]
    }
   ],
   "source": [
    "print(authors_graph.number_of_edges())\n",
    "print(authors_graph.number_of_nodes())"
   ]
  },
  {
   "cell_type": "code",
   "execution_count": 5,
   "metadata": {},
   "outputs": [],
   "source": [
    "#authors_graph.nodes()"
   ]
  },
  {
   "cell_type": "code",
   "execution_count": 6,
   "metadata": {},
   "outputs": [
    {
     "data": {
      "text/plain": [
       "AtlasView({'937': {}, '5233': {}, '8579': {}, '10310': {}, '15931': {}, '17038': {}, '18720': {}, '19607': {}})"
      ]
     },
     "execution_count": 6,
     "metadata": {},
     "output_type": "execute_result"
    }
   ],
   "source": [
    "(authors_graph['3466'])"
   ]
  },
  {
   "cell_type": "code",
   "execution_count": null,
   "metadata": {},
   "outputs": [],
   "source": [
    "nx.draw(authors_graph,with_labels=True)"
   ]
  },
  {
   "cell_type": "markdown",
   "metadata": {},
   "source": [
    "#### ¿Podemos encontrar al investigador más influyente/importante en esta red?\n",
    "\n",
    "##### ¿Cómo evaluamos la importancia de algunas personas en una red?\n",
    "\n",
    "Dentro de una red social, habrá determinadas personas que desempeñen determinadas funciones importantes. Por ejemplo, puede haber personas hiperconectadas que estén conectadas con muchas, muchas más personas. Ellas serán claves para la difusión de información. Alternativamente, si se tratara de una red de contactos de enfermedades, identificarlos sería útil para detener la propagación de enfermedades. \n",
    "\n",
    "#### ¿Cómo se identificaría a estas personas?"
   ]
  },
  {
   "cell_type": "markdown",
   "metadata": {},
   "source": [
    "### Ejercicio 1\n",
    "\n",
    "Cree una lista de tuplas (nodo, grado de nodo) y busque el nodo con el grado máximo.\n",
    "\n",
    "grado de nodo = número de vecinos"
   ]
  },
  {
   "cell_type": "code",
   "execution_count": null,
   "metadata": {
    "scrolled": true
   },
   "outputs": [],
   "source": [
    "#authors_graph.degree()"
   ]
  },
  {
   "cell_type": "code",
   "execution_count": null,
   "metadata": {},
   "outputs": [],
   "source": [
    "degrees = list(dict(authors_graph.degree()).values())\n",
    "pd.DataFrame(degrees).transpose()"
   ]
  },
  {
   "cell_type": "code",
   "execution_count": null,
   "metadata": {},
   "outputs": [],
   "source": [
    "kmax = max(degrees)\n",
    "kmax"
   ]
  },
  {
   "cell_type": "code",
   "execution_count": null,
   "metadata": {
    "scrolled": true
   },
   "outputs": [],
   "source": [
    "print(f\"El nodo que contiene el grado maximo {kmax} es el\", list(dict(authors_graph.degree()).keys())[list(dict(authors_graph.degree()).values()).index(kmax)])"
   ]
  },
  {
   "cell_type": "markdown",
   "metadata": {},
   "source": [
    "El grado de un nodo se traduce en grado de centralidad (que es una versión normalizada de grado)"
   ]
  },
  {
   "cell_type": "code",
   "execution_count": null,
   "metadata": {},
   "outputs": [],
   "source": [
    "nx.degree_centrality(authors_graph)"
   ]
  },
  {
   "cell_type": "code",
   "execution_count": null,
   "metadata": {
    "scrolled": true
   },
   "outputs": [],
   "source": [
    "print(f\"El nodo que contiene el grado de centralidad maximo {max(nx.degree_centrality(authors_graph).values())} es el\", list(dict(nx.degree_centrality(authors_graph)).keys())[list(dict(nx.degree_centrality(authors_graph)).values()).index(max(nx.degree_centrality(authors_graph).values()))])"
   ]
  },
  {
   "cell_type": "markdown",
   "metadata": {},
   "source": [
    "###### Respuesta 1: \n",
    "\n",
    "El grado de centralidad para el nodo **21012**, nos permite identificar que pese a ser el **nodo con mayor grado** dentro de la red, en realidad solo presenta enlases con un **1,5%** de los nodos totales de la red."
   ]
  },
  {
   "cell_type": "markdown",
   "metadata": {},
   "source": [
    "### Ejercicio 2\n",
    "\n",
    "Trace un histograma de centralidad de grado de author_graph.\n",
    "\n",
    "Sugerencia: `plt.hist(list_of_values)` trazará un histograma\n",
    "\n",
    "(count vs grado)"
   ]
  },
  {
   "cell_type": "code",
   "execution_count": null,
   "metadata": {
    "scrolled": false
   },
   "outputs": [],
   "source": [
    "plt.hist(list(dict(nx.degree_centrality(authors_graph)).values()), bins=16)\n",
    "plt.xlabel('Centralidad de Grado')\n",
    "plt.ylabel('Cantidad de Nodos') \n",
    "plt.show()"
   ]
  },
  {
   "cell_type": "markdown",
   "metadata": {},
   "source": [
    "###### Respuesta 2: \n",
    "En primer lugar, es posible apreciar que la mayoría de los nodos presentan una baja Centralidades de Grado inferior a 0,001. \n",
    "\n",
    "De acuerdo al gráfico es posible concluir que tenemos una red de **libre escala**.\n"
   ]
  },
  {
   "cell_type": "markdown",
   "metadata": {},
   "source": [
    "#### Echemos un vistazo a los componentes conectados de un grafo.\n",
    "\n",
    "En la teoría de grafos, un componente conectado (o simplemente un componente) de un grafo **no dirigido** es un subgrafo en el que dos vértices cualesquiera están conectados entre sí por caminos, y que no está conectado a ningún vértice adicional en el supergrafo."
   ]
  },
  {
   "cell_type": "code",
   "execution_count": null,
   "metadata": {},
   "outputs": [],
   "source": [
    "print([len(c) for c in sorted(nx.connected_components(authors_graph),\n",
    "                              key=len, reverse=True)])\n"
   ]
  },
  {
   "cell_type": "markdown",
   "metadata": {},
   "source": [
    "Nota: la función sorted () tiene un parámetro opcional llamado `key` que toma una función como su valor. Esta función `key` transforma cada elemento antes de ordenar, toma el valor y se usa dentro de `sorted` en lugar del valor original."
   ]
  },
  {
   "cell_type": "code",
   "execution_count": null,
   "metadata": {},
   "outputs": [],
   "source": [
    "# Guardamos subgrafos en una lista\n",
    "graphs = [authors_graph.subgraph(c).copy() for c in sorted(nx.connected_components(authors_graph), key=len, reverse=True)]\n"
   ]
  },
  {
   "cell_type": "markdown",
   "metadata": {},
   "source": [
    "# MUNDO PEQUEÑO\n",
    "### Ejercicio 3\n",
    "##### Seis grados de separación, número de Erdos, número de Bacon !!\n",
    "\n"
   ]
  },
  {
   "cell_type": "markdown",
   "metadata": {},
   "source": [
    "Encuentre el \"número\" del autor '22504' del grafo `author_graph`, si no hay conexión entre los nodos, asignele el número '-1'.\n",
    "También trace un histograma del \"número\" autor '22504'.\n",
    "\n",
    "Encuentre la longitud de ruta más corta promedio en el primer componente, es decir, `graphs[0]`\n",
    "\n",
    "SUGERENCIA: `nx.shortest_path_length`"
   ]
  },
  {
   "cell_type": "code",
   "execution_count": null,
   "metadata": {},
   "outputs": [],
   "source": [
    "d = {}\n",
    "for node in authors_graph.nodes():#para cada nodo\n",
    "    try:\n",
    "        #calcula la longitud del camino mas corto entre node y `22504`\n",
    "        d[node] = nx.shortest_path_length(authors_graph, '22504', node) #21012;22504\n",
    "    except:\n",
    "        #si arroja error (no hay camino) asinga un -1.\n",
    "        d[node] = int(-1) #21012;22504\n",
    "        next"
   ]
  },
  {
   "cell_type": "code",
   "execution_count": null,
   "metadata": {},
   "outputs": [],
   "source": [
    "d"
   ]
  },
  {
   "cell_type": "code",
   "execution_count": null,
   "metadata": {},
   "outputs": [],
   "source": [
    "plt.hist(list(d.values()))\n",
    "plt.xlabel('Distancias de Nodo 22504 en la red')\n",
    "plt.ylabel('Cantidad de Nodos')\n",
    "plt.show()"
   ]
  },
  {
   "cell_type": "markdown",
   "metadata": {},
   "source": [
    "###### Respuesta 3.1.\n",
    "\n",
    "En este gráfico es osible apreciar que una cantidad significativa de nodos no presentan conexión con el nodo 22504, lo cual se puede atribuir al hecho de que aquellos nodos que no presentan conexión con el nodo 22504 puden ser nodos aislados o pertenecientes a otra componente, por lo cual no presentan ninguna conexión con la Primera Componenete Graph[0]."
   ]
  },
  {
   "cell_type": "code",
   "execution_count": null,
   "metadata": {},
   "outputs": [],
   "source": [
    "d = {}\n",
    "for node in graphs[0].nodes():#para cada nodo\n",
    "    try:\n",
    "        #calcula la longitud del camino mas corto entre node y `22504`\n",
    "        d[node] = nx.shortest_path_length(graphs[0], '22504', node) #21012;22504\n",
    "    except:\n",
    "        #si arroja error (no hay camino) asinga un -1.\n",
    "        d[node] = int(-1) #21012;22504\n",
    "        next"
   ]
  },
  {
   "cell_type": "code",
   "execution_count": null,
   "metadata": {
    "scrolled": true
   },
   "outputs": [],
   "source": [
    "d"
   ]
  },
  {
   "cell_type": "code",
   "execution_count": null,
   "metadata": {},
   "outputs": [],
   "source": [
    "plt.hist(list(d.values()), bins=12)\n",
    "plt.xlabel('Distancias de Nodo 22504 en Primer Componente')\n",
    "plt.ylabel('Cantidad de Nodos')\n",
    "plt.show()"
   ]
  },
  {
   "cell_type": "code",
   "execution_count": null,
   "metadata": {},
   "outputs": [],
   "source": [
    "# Calcule el promedio de la longitud de los caminos más cortos de todo el grafo aca:\n",
    "\n",
    "np.mean(list(d.values()))"
   ]
  },
  {
   "cell_type": "markdown",
   "metadata": {},
   "source": [
    "###### Respuesta 3.2.\n",
    "\n",
    "En este caso, acotando el análisis solo a la Prmera Componente Graph[o] se aprecia que el nodoposee una distancia de entre 1 a 12 con el resto de nodos de la Componente y que la mayoría se encuentran entre 4 y 8, lo que permite apreciar una distribución normal en las distancias para el nodo 22504, lo cual se confirma en que la longitud mas corta promedio es 5,6 un valor muy cercano a la mitad del rango de distancias para dicho nodo."
   ]
  }
 ],
 "metadata": {
  "kernelspec": {
   "display_name": "Python 3 (ipykernel)",
   "language": "python",
   "name": "python3"
  },
  "language_info": {
   "codemirror_mode": {
    "name": "ipython",
    "version": 3
   },
   "file_extension": ".py",
   "mimetype": "text/x-python",
   "name": "python",
   "nbconvert_exporter": "python",
   "pygments_lexer": "ipython3",
   "version": "3.9.13"
  }
 },
 "nbformat": 4,
 "nbformat_minor": 4
}
