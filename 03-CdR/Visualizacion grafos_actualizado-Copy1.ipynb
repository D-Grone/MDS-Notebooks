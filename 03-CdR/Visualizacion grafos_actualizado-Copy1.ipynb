{
 "cells": [
  {
   "cell_type": "markdown",
   "id": "c4711d17",
   "metadata": {},
   "source": [
    "# Hackaton Ciencias de Redes\n",
    "## Grupo 5\n",
    "- #### Patricio Ramirez\n",
    "- #### Carlos Bustamante\n",
    "- #### Victor Ortiz\n",
    "- #### Pablo Elgueta\n",
    "\n",
    "## Tarea\n",
    "\n",
    "#### Objetivo General: \n",
    "    Determinar patrones potenciales de corrupción en compras públicas en Chile. Para esto, se disponibilizarán los datos de todos las licitaciones públicas en Chile entre 2014 y 2021. Deben elegir un periodo a estudiar y que los datos son pesados.\n",
    "    \n",
    "#### 1) Análisis Exploratorio: \n",
    "    Puede incluir histogramas, relaciones bivariadas, correlaciones (coeficientes y figuras), etc.\n",
    "#### 2) Inferencia red: \n",
    "    Red bipartita, proyección unimodal de la red bipartita, modelos nulos para filtrar (phi correlation, randomización preservando grado, etc)\n",
    "#### 3) Descripción de la red: \n",
    "    Distribución de grados (antes y despues de filtrar), gráfico grado de nodo vs coeficiente de clustering, diámetro de la red, número de nodos, número de enlaces, densidad. Detección de comunidades, etc.\n",
    "#### 4) Identifiación de patrones de corrupción en la red: \n",
    "    El trabajo es abierto en términos de identificación de patrones, sin embargo, pueden usar lo siguiente:\n",
    "- 1) Índice de diversidad de simpson por comunidad (ver referencia 1)\n",
    "- 2) índice de entropía del buyer (oferente) (ver referncia 2)\n",
    "- 3) Licitaciones con solo 1 bider (ofertante) (ver referencia 1 y 2) [esto es uno de los indicadores de potencial\n",
    "riesgo de corrupción, ver CRI referencia 2 y 3]\n",
    "- 4) Coefcieinte de clustering competitivo (si trabajan con la red bipartita sin proyectar) (ver referencia 2)\n",
    "- 5) Datos externos si encuentan y alcanzan son bienvenidos.\n",
    "- 6) Otros."
   ]
  },
  {
   "cell_type": "markdown",
   "id": "95f089b2",
   "metadata": {},
   "source": [
    "### Importación de Librerías"
   ]
  },
  {
   "cell_type": "code",
   "execution_count": 1,
   "id": "e2370047",
   "metadata": {},
   "outputs": [],
   "source": [
    "import pandas as pd\n",
    "import numpy as np\n",
    "\n",
    "import networkx as nx\n",
    "from networkx.algorithms import bipartite"
   ]
  },
  {
   "cell_type": "markdown",
   "id": "8051aff9",
   "metadata": {},
   "source": [
    "# Desarrollo de Proyecto"
   ]
  },
  {
   "cell_type": "markdown",
   "id": "35ee2b03",
   "metadata": {},
   "source": [
    "## Objetivos e Hipotesis\n",
    "\n",
    "- ¿Existe una relación que se repita de forma sostenida entre Organismos Públicos y Privados, con los Proveedores para el periodo a analizar?(2020).\n",
    "- Desarrollo de una red bipartita para nuestro análisis.\n",
    "- Trabajar en base al componente gigante de la red.\n",
    "- Identificar patrones de corrupción en la red."
   ]
  },
  {
   "cell_type": "markdown",
   "id": "d2e28e82",
   "metadata": {},
   "source": [
    "### 1) Análisis Exploratorio: "
   ]
  },
  {
   "cell_type": "code",
   "execution_count": 2,
   "id": "e22fd049",
   "metadata": {},
   "outputs": [],
   "source": [
    "df = pd.read_csv('lic2020_hackaton.csv', sep=',', encoding='latin_1')"
   ]
  },
  {
   "cell_type": "code",
   "execution_count": 3,
   "id": "0776a40e",
   "metadata": {},
   "outputs": [
    {
     "data": {
      "text/html": [
       "<div>\n",
       "<style scoped>\n",
       "    .dataframe tbody tr th:only-of-type {\n",
       "        vertical-align: middle;\n",
       "    }\n",
       "\n",
       "    .dataframe tbody tr th {\n",
       "        vertical-align: top;\n",
       "    }\n",
       "\n",
       "    .dataframe thead th {\n",
       "        text-align: right;\n",
       "    }\n",
       "</style>\n",
       "<table border=\"1\" class=\"dataframe\">\n",
       "  <thead>\n",
       "    <tr style=\"text-align: right;\">\n",
       "      <th></th>\n",
       "      <th>Codigo</th>\n",
       "      <th>Tipo de Adquisicion</th>\n",
       "      <th>Estado</th>\n",
       "      <th>CodigoOrganismo</th>\n",
       "      <th>NombreOrganismo</th>\n",
       "      <th>RutUnidad</th>\n",
       "      <th>ComunaUnidad</th>\n",
       "      <th>FechaPublicacion</th>\n",
       "      <th>CodigoProductoONU</th>\n",
       "      <th>RutProveedor</th>\n",
       "      <th>NombreProveedor</th>\n",
       "      <th>Moneda de la Oferta</th>\n",
       "      <th>MontoLineaAdjudica</th>\n",
       "      <th>Oferta seleccionada</th>\n",
       "    </tr>\n",
       "  </thead>\n",
       "  <tbody>\n",
       "    <tr>\n",
       "      <th>0</th>\n",
       "      <td>8468777</td>\n",
       "      <td>Licitación Pública entre a 2000 y 5000 UTM (LQ)</td>\n",
       "      <td>Adjudicada</td>\n",
       "      <td>1375151</td>\n",
       "      <td>HOSPITAL CLINICO METROPOLITANO LA FLORIDA DRA ...</td>\n",
       "      <td>65.075.485-9</td>\n",
       "      <td>NaN</td>\n",
       "      <td>2020-01-21</td>\n",
       "      <td>51201806</td>\n",
       "      <td>76.432.529-K</td>\n",
       "      <td>CSL Behring SpA Chile</td>\n",
       "      <td>Peso Chileno</td>\n",
       "      <td>0</td>\n",
       "      <td>No Seleccionada</td>\n",
       "    </tr>\n",
       "    <tr>\n",
       "      <th>1</th>\n",
       "      <td>8468777</td>\n",
       "      <td>Licitación Pública entre a 2000 y 5000 UTM (LQ)</td>\n",
       "      <td>Adjudicada</td>\n",
       "      <td>1375151</td>\n",
       "      <td>HOSPITAL CLINICO METROPOLITANO LA FLORIDA DRA ...</td>\n",
       "      <td>65.075.485-9</td>\n",
       "      <td>NaN</td>\n",
       "      <td>2020-01-21</td>\n",
       "      <td>51201806</td>\n",
       "      <td>96.945.670-2</td>\n",
       "      <td>NOVOFARMA SERVICE - LABORATORIO BAGO</td>\n",
       "      <td>Peso Chileno</td>\n",
       "      <td>0</td>\n",
       "      <td>No Seleccionada</td>\n",
       "    </tr>\n",
       "    <tr>\n",
       "      <th>2</th>\n",
       "      <td>8468777</td>\n",
       "      <td>Licitación Pública entre a 2000 y 5000 UTM (LQ)</td>\n",
       "      <td>Adjudicada</td>\n",
       "      <td>1375151</td>\n",
       "      <td>HOSPITAL CLINICO METROPOLITANO LA FLORIDA DRA ...</td>\n",
       "      <td>65.075.485-9</td>\n",
       "      <td>NaN</td>\n",
       "      <td>2020-01-21</td>\n",
       "      <td>51201806</td>\n",
       "      <td>96.582.310-7</td>\n",
       "      <td>Grifols Chile S.A.</td>\n",
       "      <td>Peso Chileno</td>\n",
       "      <td>1592000</td>\n",
       "      <td>Seleccionada</td>\n",
       "    </tr>\n",
       "  </tbody>\n",
       "</table>\n",
       "</div>"
      ],
      "text/plain": [
       "    Codigo                              Tipo de Adquisicion      Estado  \\\n",
       "0  8468777  Licitación Pública entre a 2000 y 5000 UTM (LQ)  Adjudicada   \n",
       "1  8468777  Licitación Pública entre a 2000 y 5000 UTM (LQ)  Adjudicada   \n",
       "2  8468777  Licitación Pública entre a 2000 y 5000 UTM (LQ)  Adjudicada   \n",
       "\n",
       "   CodigoOrganismo                                    NombreOrganismo  \\\n",
       "0          1375151  HOSPITAL CLINICO METROPOLITANO LA FLORIDA DRA ...   \n",
       "1          1375151  HOSPITAL CLINICO METROPOLITANO LA FLORIDA DRA ...   \n",
       "2          1375151  HOSPITAL CLINICO METROPOLITANO LA FLORIDA DRA ...   \n",
       "\n",
       "      RutUnidad ComunaUnidad FechaPublicacion  CodigoProductoONU  \\\n",
       "0  65.075.485-9          NaN       2020-01-21           51201806   \n",
       "1  65.075.485-9          NaN       2020-01-21           51201806   \n",
       "2  65.075.485-9          NaN       2020-01-21           51201806   \n",
       "\n",
       "   RutProveedor                       NombreProveedor Moneda de la Oferta  \\\n",
       "0  76.432.529-K                 CSL Behring SpA Chile        Peso Chileno   \n",
       "1  96.945.670-2  NOVOFARMA SERVICE - LABORATORIO BAGO        Peso Chileno   \n",
       "2  96.582.310-7                    Grifols Chile S.A.        Peso Chileno   \n",
       "\n",
       "  MontoLineaAdjudica Oferta seleccionada  \n",
       "0                  0     No Seleccionada  \n",
       "1                  0     No Seleccionada  \n",
       "2            1592000        Seleccionada  "
      ]
     },
     "execution_count": 3,
     "metadata": {},
     "output_type": "execute_result"
    }
   ],
   "source": [
    "df.head(3)"
   ]
  },
  {
   "cell_type": "code",
   "execution_count": 4,
   "id": "41dfbc8e",
   "metadata": {},
   "outputs": [
    {
     "name": "stdout",
     "output_type": "stream",
     "text": [
      "Cantidad de Nombres de Organismo:\n",
      "859\n",
      "\n",
      "Cantidad de Codigos de Organismo:\n",
      "871\n"
     ]
    }
   ],
   "source": [
    "print('Cantidad de Nombres de Organismo:')\n",
    "print(len(df['NombreOrganismo'].unique()))\n",
    "print('\\nCantidad de Codigos de Organismo:')\n",
    "print(len(df['CodigoOrganismo'].unique()))"
   ]
  },
  {
   "cell_type": "markdown",
   "id": "f0ad91dc",
   "metadata": {},
   "source": [
    "- ###### Del análisis de datos, fué posible identificar que existen 2 grupos de nodos mediante los cuales es posible generar una Red Bipartita. El primer Grupo contempla las primeras columnas de datos que se encuentras asociadas a los Organismos estatales que generan las Licitaciones. Por otro lado, el conjunto de columnas de la izquierda corresponden a las Empresas participantes de las licitaciones.\n",
    "\n",
    "- ###### Dentro del análisis exploratiorio de los datos, fue posible identificar que las cantidades de CodigosOrganismos no coincidía con la de NombreOrganismos, lo cual eventualmente significaría que existen Organismos con más de un código asociado, lo que nos inclina por trabajar con los Nombres.\n",
    "\n",
    "- ###### Otra observación que pudimos identificar, es que algunas de las empresas que participan como oferentes, se en cuentran también dentro del listado de Organismos, estas corresponden a aquellas empresas estatales como universidades, las cuales poseen áreas de proyectos o investigación para el autofinanciamiento."
   ]
  },
  {
   "cell_type": "markdown",
   "id": "4e2fe7f9",
   "metadata": {},
   "source": [
    "### 2) Inferencia red:"
   ]
  },
  {
   "cell_type": "markdown",
   "id": "a4eda746",
   "metadata": {},
   "source": [
    "#### Lista de Nodos de Organismos"
   ]
  },
  {
   "cell_type": "code",
   "execution_count": 5,
   "id": "38b6d4dd",
   "metadata": {},
   "outputs": [
    {
     "data": {
      "text/plain": [
       "859"
      ]
     },
     "execution_count": 5,
     "metadata": {},
     "output_type": "execute_result"
    }
   ],
   "source": [
    "lista_organismos = df['NombreOrganismo'].unique()\n",
    "lista_organismos[0:5]\n",
    "len(lista_organismos)"
   ]
  },
  {
   "cell_type": "markdown",
   "id": "be9886f2",
   "metadata": {},
   "source": [
    "#### Lista de Nodos de Empresas"
   ]
  },
  {
   "cell_type": "code",
   "execution_count": 6,
   "id": "dd5812f4",
   "metadata": {
    "scrolled": true
   },
   "outputs": [
    {
     "data": {
      "text/plain": [
       "38663"
      ]
     },
     "execution_count": 6,
     "metadata": {},
     "output_type": "execute_result"
    }
   ],
   "source": [
    "lista_empresas = df['NombreProveedor'].unique()\n",
    "lista_empresas[0:5]\n",
    "len(lista_empresas)"
   ]
  },
  {
   "cell_type": "code",
   "execution_count": null,
   "id": "a2396350",
   "metadata": {},
   "outputs": [],
   "source": []
  },
  {
   "cell_type": "markdown",
   "id": "0298e7d2",
   "metadata": {},
   "source": [
    "#### Eliminar Nodos Preentes en Ambos Grupos de Nodos"
   ]
  },
  {
   "cell_type": "code",
   "execution_count": 7,
   "id": "53fa49f3",
   "metadata": {},
   "outputs": [
    {
     "data": {
      "text/plain": [
       "['UNIVERSIDAD DE MAGALLANES',\n",
       " 'UNIVERSIDAD DEL BIO BIO',\n",
       " 'UNIVERSIDAD DE ATACAMA',\n",
       " 'UNIVERSIDAD DE TALCA',\n",
       " 'UNIVERSIDAD DE LA FRONTERA',\n",
       " 'INSTITUTO FORESTAL',\n",
       " 'INSTITUTO DE FOMENTO PESQUERO']"
      ]
     },
     "execution_count": 7,
     "metadata": {},
     "output_type": "execute_result"
    }
   ],
   "source": [
    "del_empresas = []\n",
    "for organismo in lista_organismos:\n",
    "    for empresa in lista_empresas:\n",
    "        if organismo == empresa:\n",
    "            del_empresas.append(organismo)\n",
    "del_empresas"
   ]
  },
  {
   "cell_type": "code",
   "execution_count": 8,
   "id": "ac9b588a",
   "metadata": {},
   "outputs": [],
   "source": [
    "for universidad in del_empresas:\n",
    "    df = df[df['NombreProveedor'] != universidad]"
   ]
  },
  {
   "cell_type": "code",
   "execution_count": 9,
   "id": "9c74b115",
   "metadata": {},
   "outputs": [
    {
     "data": {
      "text/plain": [
       "38656"
      ]
     },
     "execution_count": 9,
     "metadata": {},
     "output_type": "execute_result"
    }
   ],
   "source": [
    "lista_empresas = df['NombreProveedor'].unique()\n",
    "len(lista_empresas)"
   ]
  },
  {
   "cell_type": "markdown",
   "id": "30462b39",
   "metadata": {},
   "source": [
    "#### Definición de Enlaces Empresas/Organismos"
   ]
  },
  {
   "cell_type": "code",
   "execution_count": 10,
   "id": "46a2867b",
   "metadata": {},
   "outputs": [],
   "source": [
    "#df = df[df['ComunaUnidad'] == 'Santiago']  #'''Este código solo se usa para hacer pruebas por motivos de procesamiento'''\n",
    "G = nx.Graph()\n",
    "G.add_nodes_from(lista_empresas, bipartite=0)\n",
    "G.add_nodes_from(lista_organismos,bipartite=1)"
   ]
  },
  {
   "cell_type": "code",
   "execution_count": 11,
   "id": "bc8421cd",
   "metadata": {},
   "outputs": [
    {
     "data": {
      "text/html": [
       "<div>\n",
       "<style scoped>\n",
       "    .dataframe tbody tr th:only-of-type {\n",
       "        vertical-align: middle;\n",
       "    }\n",
       "\n",
       "    .dataframe tbody tr th {\n",
       "        vertical-align: top;\n",
       "    }\n",
       "\n",
       "    .dataframe thead th {\n",
       "        text-align: right;\n",
       "    }\n",
       "</style>\n",
       "<table border=\"1\" class=\"dataframe\">\n",
       "  <thead>\n",
       "    <tr style=\"text-align: right;\">\n",
       "      <th></th>\n",
       "      <th>Codigo</th>\n",
       "      <th>Tipo de Adquisicion</th>\n",
       "      <th>Estado</th>\n",
       "      <th>CodigoOrganismo</th>\n",
       "      <th>NombreOrganismo</th>\n",
       "      <th>RutUnidad</th>\n",
       "      <th>ComunaUnidad</th>\n",
       "      <th>FechaPublicacion</th>\n",
       "      <th>CodigoProductoONU</th>\n",
       "      <th>RutProveedor</th>\n",
       "      <th>NombreProveedor</th>\n",
       "      <th>Moneda de la Oferta</th>\n",
       "      <th>MontoLineaAdjudica</th>\n",
       "      <th>Oferta seleccionada</th>\n",
       "    </tr>\n",
       "  </thead>\n",
       "  <tbody>\n",
       "    <tr>\n",
       "      <th>0</th>\n",
       "      <td>8468777</td>\n",
       "      <td>Licitación Pública entre a 2000 y 5000 UTM (LQ)</td>\n",
       "      <td>Adjudicada</td>\n",
       "      <td>1375151</td>\n",
       "      <td>HOSPITAL CLINICO METROPOLITANO LA FLORIDA DRA ...</td>\n",
       "      <td>65.075.485-9</td>\n",
       "      <td>NaN</td>\n",
       "      <td>2020-01-21</td>\n",
       "      <td>51201806</td>\n",
       "      <td>76.432.529-K</td>\n",
       "      <td>CSL Behring SpA Chile</td>\n",
       "      <td>Peso Chileno</td>\n",
       "      <td>0</td>\n",
       "      <td>No Seleccionada</td>\n",
       "    </tr>\n",
       "    <tr>\n",
       "      <th>1</th>\n",
       "      <td>8468777</td>\n",
       "      <td>Licitación Pública entre a 2000 y 5000 UTM (LQ)</td>\n",
       "      <td>Adjudicada</td>\n",
       "      <td>1375151</td>\n",
       "      <td>HOSPITAL CLINICO METROPOLITANO LA FLORIDA DRA ...</td>\n",
       "      <td>65.075.485-9</td>\n",
       "      <td>NaN</td>\n",
       "      <td>2020-01-21</td>\n",
       "      <td>51201806</td>\n",
       "      <td>96.945.670-2</td>\n",
       "      <td>NOVOFARMA SERVICE - LABORATORIO BAGO</td>\n",
       "      <td>Peso Chileno</td>\n",
       "      <td>0</td>\n",
       "      <td>No Seleccionada</td>\n",
       "    </tr>\n",
       "    <tr>\n",
       "      <th>2</th>\n",
       "      <td>8468777</td>\n",
       "      <td>Licitación Pública entre a 2000 y 5000 UTM (LQ)</td>\n",
       "      <td>Adjudicada</td>\n",
       "      <td>1375151</td>\n",
       "      <td>HOSPITAL CLINICO METROPOLITANO LA FLORIDA DRA ...</td>\n",
       "      <td>65.075.485-9</td>\n",
       "      <td>NaN</td>\n",
       "      <td>2020-01-21</td>\n",
       "      <td>51201806</td>\n",
       "      <td>96.582.310-7</td>\n",
       "      <td>Grifols Chile S.A.</td>\n",
       "      <td>Peso Chileno</td>\n",
       "      <td>1592000</td>\n",
       "      <td>Seleccionada</td>\n",
       "    </tr>\n",
       "  </tbody>\n",
       "</table>\n",
       "</div>"
      ],
      "text/plain": [
       "    Codigo                              Tipo de Adquisicion      Estado  \\\n",
       "0  8468777  Licitación Pública entre a 2000 y 5000 UTM (LQ)  Adjudicada   \n",
       "1  8468777  Licitación Pública entre a 2000 y 5000 UTM (LQ)  Adjudicada   \n",
       "2  8468777  Licitación Pública entre a 2000 y 5000 UTM (LQ)  Adjudicada   \n",
       "\n",
       "   CodigoOrganismo                                    NombreOrganismo  \\\n",
       "0          1375151  HOSPITAL CLINICO METROPOLITANO LA FLORIDA DRA ...   \n",
       "1          1375151  HOSPITAL CLINICO METROPOLITANO LA FLORIDA DRA ...   \n",
       "2          1375151  HOSPITAL CLINICO METROPOLITANO LA FLORIDA DRA ...   \n",
       "\n",
       "      RutUnidad ComunaUnidad FechaPublicacion  CodigoProductoONU  \\\n",
       "0  65.075.485-9          NaN       2020-01-21           51201806   \n",
       "1  65.075.485-9          NaN       2020-01-21           51201806   \n",
       "2  65.075.485-9          NaN       2020-01-21           51201806   \n",
       "\n",
       "   RutProveedor                       NombreProveedor Moneda de la Oferta  \\\n",
       "0  76.432.529-K                 CSL Behring SpA Chile        Peso Chileno   \n",
       "1  96.945.670-2  NOVOFARMA SERVICE - LABORATORIO BAGO        Peso Chileno   \n",
       "2  96.582.310-7                    Grifols Chile S.A.        Peso Chileno   \n",
       "\n",
       "  MontoLineaAdjudica Oferta seleccionada  \n",
       "0                  0     No Seleccionada  \n",
       "1                  0     No Seleccionada  \n",
       "2            1592000        Seleccionada  "
      ]
     },
     "execution_count": 11,
     "metadata": {},
     "output_type": "execute_result"
    }
   ],
   "source": [
    "df.head(3)"
   ]
  },
  {
   "cell_type": "code",
   "execution_count": 12,
   "id": "b0c1417a",
   "metadata": {
    "scrolled": false
   },
   "outputs": [
    {
     "data": {
      "text/html": [
       "<div>\n",
       "<style scoped>\n",
       "    .dataframe tbody tr th:only-of-type {\n",
       "        vertical-align: middle;\n",
       "    }\n",
       "\n",
       "    .dataframe tbody tr th {\n",
       "        vertical-align: top;\n",
       "    }\n",
       "\n",
       "    .dataframe thead th {\n",
       "        text-align: right;\n",
       "    }\n",
       "</style>\n",
       "<table border=\"1\" class=\"dataframe\">\n",
       "  <thead>\n",
       "    <tr style=\"text-align: right;\">\n",
       "      <th></th>\n",
       "      <th>NombreOrganismo</th>\n",
       "      <th>NombreProveedor</th>\n",
       "      <th>Oferta seleccionada</th>\n",
       "    </tr>\n",
       "  </thead>\n",
       "  <tbody>\n",
       "    <tr>\n",
       "      <th>0</th>\n",
       "      <td>AGENCIA CHILENA DE COOPERACION INTERNACIONAL P...</td>\n",
       "      <td>ARTL CHILE AUDITORES SPA</td>\n",
       "      <td>1</td>\n",
       "    </tr>\n",
       "    <tr>\n",
       "      <th>1</th>\n",
       "      <td>AGENCIA CHILENA DE COOPERACION INTERNACIONAL P...</td>\n",
       "      <td>AdjudicaChile Consultora en Licitaciones Públicas</td>\n",
       "      <td>1</td>\n",
       "    </tr>\n",
       "    <tr>\n",
       "      <th>2</th>\n",
       "      <td>AGENCIA CHILENA DE COOPERACION INTERNACIONAL P...</td>\n",
       "      <td>Aiguasol</td>\n",
       "      <td>2</td>\n",
       "    </tr>\n",
       "    <tr>\n",
       "      <th>3</th>\n",
       "      <td>AGENCIA CHILENA DE COOPERACION INTERNACIONAL P...</td>\n",
       "      <td>Amelia Virginia</td>\n",
       "      <td>1</td>\n",
       "    </tr>\n",
       "    <tr>\n",
       "      <th>4</th>\n",
       "      <td>AGENCIA CHILENA DE COOPERACION INTERNACIONAL P...</td>\n",
       "      <td>Astral S.A.</td>\n",
       "      <td>1</td>\n",
       "    </tr>\n",
       "  </tbody>\n",
       "</table>\n",
       "</div>"
      ],
      "text/plain": [
       "                                     NombreOrganismo  \\\n",
       "0  AGENCIA CHILENA DE COOPERACION INTERNACIONAL P...   \n",
       "1  AGENCIA CHILENA DE COOPERACION INTERNACIONAL P...   \n",
       "2  AGENCIA CHILENA DE COOPERACION INTERNACIONAL P...   \n",
       "3  AGENCIA CHILENA DE COOPERACION INTERNACIONAL P...   \n",
       "4  AGENCIA CHILENA DE COOPERACION INTERNACIONAL P...   \n",
       "\n",
       "                                     NombreProveedor  Oferta seleccionada  \n",
       "0                           ARTL CHILE AUDITORES SPA                    1  \n",
       "1  AdjudicaChile Consultora en Licitaciones Públicas                    1  \n",
       "2                                           Aiguasol                    2  \n",
       "3                                    Amelia Virginia                    1  \n",
       "4                                        Astral S.A.                    1  "
      ]
     },
     "execution_count": 12,
     "metadata": {},
     "output_type": "execute_result"
    }
   ],
   "source": [
    "pivot = pd.pivot_table(df, index=['NombreOrganismo','NombreProveedor'],values=['Oferta seleccionada'],aggfunc='count')\n",
    "pivot = pivot.reset_index()\n",
    "pivot.head()"
   ]
  },
  {
   "cell_type": "code",
   "execution_count": 13,
   "id": "0ee51719",
   "metadata": {},
   "outputs": [],
   "source": [
    "lista_tuplas_pesos = []\n",
    "\n",
    "for i in pivot.to_numpy():\n",
    "    lista_tuplas_pesos.append((i[0], i[1], i[2]))"
   ]
  },
  {
   "cell_type": "code",
   "execution_count": 41,
   "id": "d739c0fc",
   "metadata": {},
   "outputs": [
    {
     "data": {
      "text/plain": [
       "[('AGENCIA CHILENA DE COOPERACION INTERNACIONAL PARA EL DESARROLLO',\n",
       "  'ARTL CHILE AUDITORES SPA',\n",
       "  1),\n",
       " ('AGENCIA CHILENA DE COOPERACION INTERNACIONAL PARA EL DESARROLLO',\n",
       "  'AdjudicaChile Consultora en Licitaciones Públicas',\n",
       "  1),\n",
       " ('AGENCIA CHILENA DE COOPERACION INTERNACIONAL PARA EL DESARROLLO',\n",
       "  'Aiguasol',\n",
       "  2),\n",
       " ('AGENCIA CHILENA DE COOPERACION INTERNACIONAL PARA EL DESARROLLO',\n",
       "  'Amelia Virginia',\n",
       "  1)]"
      ]
     },
     "execution_count": 41,
     "metadata": {},
     "output_type": "execute_result"
    }
   ],
   "source": [
    "lista_tuplas_pesos[:4]"
   ]
  },
  {
   "cell_type": "code",
   "execution_count": 15,
   "id": "0a6ad697",
   "metadata": {
    "scrolled": true
   },
   "outputs": [
    {
     "data": {
      "text/plain": [
       "213920"
      ]
     },
     "execution_count": 15,
     "metadata": {},
     "output_type": "execute_result"
    }
   ],
   "source": [
    "len(lista_tuplas_pesos)"
   ]
  },
  {
   "cell_type": "markdown",
   "id": "401a7970",
   "metadata": {},
   "source": [
    "#### Construcción del Grafo"
   ]
  },
  {
   "cell_type": "code",
   "execution_count": 16,
   "id": "b17d8be6",
   "metadata": {},
   "outputs": [],
   "source": [
    "G = nx.Graph()"
   ]
  },
  {
   "cell_type": "code",
   "execution_count": 17,
   "id": "21139417",
   "metadata": {},
   "outputs": [],
   "source": [
    "G.add_nodes_from(lista_empresas, bipartite=0)\n",
    "G.add_nodes_from(lista_organismos,bipartite=1)"
   ]
  },
  {
   "cell_type": "code",
   "execution_count": 18,
   "id": "f197240d",
   "metadata": {},
   "outputs": [],
   "source": [
    "G.add_weighted_edges_from(lista_tuplas_pesos)"
   ]
  },
  {
   "cell_type": "code",
   "execution_count": 19,
   "id": "c5bae100",
   "metadata": {},
   "outputs": [
    {
     "data": {
      "text/plain": [
       "True"
      ]
     },
     "execution_count": 19,
     "metadata": {},
     "output_type": "execute_result"
    }
   ],
   "source": [
    "bipartite.is_bipartite(G)"
   ]
  },
  {
   "cell_type": "code",
   "execution_count": 20,
   "id": "1cc28645",
   "metadata": {},
   "outputs": [
    {
     "data": {
      "text/plain": [
       "0.00027401125624970494"
      ]
     },
     "execution_count": 20,
     "metadata": {},
     "output_type": "execute_result"
    }
   ],
   "source": [
    "nx.density(G)"
   ]
  },
  {
   "cell_type": "code",
   "execution_count": 21,
   "id": "02964b61",
   "metadata": {},
   "outputs": [
    {
     "data": {
      "text/plain": [
       "<Figure size 2500x1500 with 0 Axes>"
      ]
     },
     "execution_count": 21,
     "metadata": {},
     "output_type": "execute_result"
    },
    {
     "data": {
      "text/plain": [
       "<Figure size 2500x1500 with 0 Axes>"
      ]
     },
     "metadata": {},
     "output_type": "display_data"
    }
   ],
   "source": [
    "import matplotlib.pyplot as plt\n",
    "from matplotlib import cm"
   ]
  },
  {
   "cell_type": "code",
   "execution_count": 22,
   "id": "6891e9d7",
   "metadata": {},
   "outputs": [
    {
     "name": "stdout",
     "output_type": "stream",
     "text": [
      "Se detectan 14 comunidades\n"
     ]
    }
   ],
   "source": [
    "from community import community_louvain\n",
    "\n",
    "partition = community_louvain.best_partition(G)\n",
    "\n",
    "size = (len(set(partition.values())))#Numero de comunidades\n",
    "print('Se detectan %d comunidades' % (size))"
   ]
  },
  {
   "cell_type": "code",
   "execution_count": 23,
   "id": "e094a7d3",
   "metadata": {
    "scrolled": true
   },
   "outputs": [],
   "source": [
    "d = {}\n",
    "for character, par in partition.items():\n",
    "    if par in d:\n",
    "        d[par].append(character)\n",
    "    else:\n",
    "        d[par] = [character]\n"
   ]
  },
  {
   "cell_type": "code",
   "execution_count": 24,
   "id": "d489eb3e",
   "metadata": {},
   "outputs": [
    {
     "name": "stdout",
     "output_type": "stream",
     "text": [
      "Tamaño Comunidad 0: 3033\n",
      "Tamaño Comunidad 1: 2067\n",
      "Tamaño Comunidad 2: 8800\n",
      "Tamaño Comunidad 3: 54\n",
      "Tamaño Comunidad 4: 3266\n",
      "Tamaño Comunidad 5: 4\n",
      "Tamaño Comunidad 6: 5627\n",
      "Tamaño Comunidad 7: 3227\n",
      "Tamaño Comunidad 8: 5202\n",
      "Tamaño Comunidad 9: 7431\n",
      "Tamaño Comunidad 10: 7\n",
      "Tamaño Comunidad 11: 560\n",
      "Tamaño Comunidad 12: 236\n",
      "Tamaño Comunidad 13: 1\n"
     ]
    }
   ],
   "source": [
    "for i in range(len(d)):\n",
    "    print(f'Tamaño Comunidad {i}: {len(d[i])}')"
   ]
  },
  {
   "cell_type": "code",
   "execution_count": 25,
   "id": "6de59eb4",
   "metadata": {},
   "outputs": [],
   "source": [
    "pos = nx.spring_layout(G) # Layout para la red (coordenadas de los nodos y enlaces)"
   ]
  },
  {
   "cell_type": "code",
   "execution_count": 27,
   "id": "4929a40e",
   "metadata": {},
   "outputs": [
    {
     "data": {
      "text/plain": [
       "39515"
      ]
     },
     "execution_count": 27,
     "metadata": {},
     "output_type": "execute_result"
    }
   ],
   "source": [
    "len(pos)"
   ]
  },
  {
   "cell_type": "code",
   "execution_count": 28,
   "id": "d581cf1f",
   "metadata": {},
   "outputs": [
    {
     "data": {
      "text/plain": [
       "39515"
      ]
     },
     "execution_count": 28,
     "metadata": {},
     "output_type": "execute_result"
    }
   ],
   "source": [
    "len(lista_organismos)+len(lista_empresas)"
   ]
  },
  {
   "cell_type": "code",
   "execution_count": 40,
   "id": "19a3470d",
   "metadata": {},
   "outputs": [
    {
     "data": {
      "image/png": "[encoded data removed]",
      "text/plain": [
       "<Figure size 2500x1500 with 1 Axes>"
      ]
     },
     "metadata": {},
     "output_type": "display_data"
    }
   ],
   "source": [
    "plt.figure(figsize=(25, 15))\n",
    "\n",
    "colors = [np.array(cm.jet(x)).reshape(1,-1) for x in np.linspace(0, 1, size)]#cm.jet es el mapa de colores https://www.programcreek.com/python/example/56498/matplotlib.cm.jet\n",
    "\n",
    "count = 0\n",
    "for com in set(partition.values()): #para cada comunidad\n",
    "    list_nodes = [nodes for nodes in partition.keys() if partition[nodes] == com]#guarda los personajes que pertenecen a la comunidad `com`\n",
    "    nx.draw_networkx_nodes(G, pos, list_nodes, node_size = 40, node_color=colors[count])#plotea nodos con colors por comunidad\n",
    "    count = count + 1# para iterar sobre los colores\n",
    "\n",
    "nx.draw_networkx_edges(G, pos, alpha=0.5)#plotea enlaces\n",
    "plt.show()\n"
   ]
  }
 ],
 "metadata": {
  "kernelspec": {
   "display_name": "Python 3 (ipykernel)",
   "language": "python",
   "name": "python3"
  },
  "language_info": {
   "codemirror_mode": {
    "name": "ipython",
    "version": 3
   },
   "file_extension": ".py",
   "mimetype": "text/x-python",
   "name": "python",
   "nbconvert_exporter": "python",
   "pygments_lexer": "ipython3",
   "version": "3.9.13"
  }
 },
 "nbformat": 4,
 "nbformat_minor": 5
}
