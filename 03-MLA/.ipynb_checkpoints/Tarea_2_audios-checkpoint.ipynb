{
 "cells": [
  {
   "cell_type": "code",
   "execution_count": 1,
   "metadata": {
    "id": "jRujccI-5DJq"
   },
   "outputs": [
    {
     "ename": "ModuleNotFoundError",
     "evalue": "No module named 'librosa'",
     "output_type": "error",
     "traceback": [
      "\u001b[1;31m---------------------------------------------------------------------------\u001b[0m",
      "\u001b[1;31mModuleNotFoundError\u001b[0m                       Traceback (most recent call last)",
      "Input \u001b[1;32mIn [1]\u001b[0m, in \u001b[0;36m<cell line: 7>\u001b[1;34m()\u001b[0m\n\u001b[0;32m      5\u001b[0m \u001b[38;5;28;01mimport\u001b[39;00m \u001b[38;5;21;01mseaborn\u001b[39;00m \u001b[38;5;28;01mas\u001b[39;00m \u001b[38;5;21;01msns\u001b[39;00m\n\u001b[0;32m      6\u001b[0m \u001b[38;5;28;01mimport\u001b[39;00m \u001b[38;5;21;01mmatplotlib\u001b[39;00m\u001b[38;5;21;01m.\u001b[39;00m\u001b[38;5;21;01mpyplot\u001b[39;00m \u001b[38;5;28;01mas\u001b[39;00m \u001b[38;5;21;01mplt\u001b[39;00m\n\u001b[1;32m----> 7\u001b[0m \u001b[38;5;28;01mimport\u001b[39;00m \u001b[38;5;21;01mlibrosa\u001b[39;00m\u001b[38;5;21;01m.\u001b[39;00m\u001b[38;5;21;01mdisplay\u001b[39;00m\n\u001b[0;32m      8\u001b[0m \u001b[38;5;28;01mfrom\u001b[39;00m \u001b[38;5;21;01mgoogle\u001b[39;00m\u001b[38;5;21;01m.\u001b[39;00m\u001b[38;5;21;01mcolab\u001b[39;00m \u001b[38;5;28;01mimport\u001b[39;00m drive\n\u001b[0;32m     10\u001b[0m \u001b[38;5;66;03m# audio plot \u001b[39;00m\n",
      "\u001b[1;31mModuleNotFoundError\u001b[0m: No module named 'librosa'"
     ]
    }
   ],
   "source": [
    "import os\n",
    "import glob\n",
    "import numpy as np\n",
    "import pandas as pd\n",
    "import seaborn as sns\n",
    "import matplotlib.pyplot as plt\n",
    "import librosa.display\n",
    "from google.colab import drive\n",
    "\n",
    "# audio plot \n",
    "from scipy.io import wavfile as wav\n",
    "import IPython.display as ipd\n",
    "\n",
    "from sklearn.preprocessing import LabelEncoder\n",
    "from tensorflow.keras.utils import to_categorical\n",
    "from sklearn.model_selection import train_test_split\n",
    "from tensorflow.keras.models import Sequential,Model\n",
    "from tensorflow.keras.callbacks import Callback,EarlyStopping\n",
    "from sklearn.metrics import confusion_matrix, classification_report\n",
    "from tensorflow.keras.layers import Conv2D, Activation, Flatten, Dense,GlobalAveragePooling2D, Dropout\n",
    "import keras\n",
    "from keras.models import Sequential\n",
    "from keras.layers import Dense\n",
    "from keras import models, layers, optimizers, regularizers\n",
    "\n"
   ]
  },
  {
   "cell_type": "code",
   "execution_count": null,
   "metadata": {
    "colab": {
     "base_uri": "https://localhost:8080/"
    },
    "id": "4CZ4D0N17l9P",
    "outputId": "82804c1d-2fe0-4e30-8aed-363f10f6fa5d"
   },
   "outputs": [],
   "source": [
    "drive.mount(\"/content/drive\")#\n",
    "path = '/content/drive/My Drive/MG Data Science/MLA/catdog/'\n",
    "path_train = path+'train'\n",
    "path_test = path+'test'"
   ]
  },
  {
   "cell_type": "code",
   "execution_count": null,
   "metadata": {
    "id": "gay8XXK98EZc"
   },
   "outputs": [],
   "source": [
    "data_train = list(glob.glob(path_train+'/**/*.wav'))\n",
    "data_test = list(glob.glob(path_test+'/**/*.wav'))"
   ]
  },
  {
   "cell_type": "code",
   "execution_count": null,
   "metadata": {
    "colab": {
     "base_uri": "https://localhost:8080/",
     "height": 206
    },
    "id": "Ms76Bhhk9wwx",
    "outputId": "7f821f68-fc53-4d6d-ce98-617eb22e43c1"
   },
   "outputs": [],
   "source": [
    "labels = list(map(lambda x:os.path.split(os.path.split(x)[0])[1], data_train))\n",
    "file_path = pd.Series(data_train, name='File_Path').astype(str)\n",
    "labels = pd.Series(labels, name='Labels')\n",
    "data = pd.concat([file_path, labels], axis=1)\n",
    "data = data.sample(frac=1).reset_index(drop=True)\n",
    "data.head()"
   ]
  },
  {
   "cell_type": "code",
   "execution_count": null,
   "metadata": {
    "id": "86hvcl6Z9zjq"
   },
   "outputs": [],
   "source": [
    "labels = list(map(lambda x:os.path.split(os.path.split(x)[0])[1], data_train))"
   ]
  },
  {
   "cell_type": "code",
   "execution_count": null,
   "metadata": {
    "colab": {
     "base_uri": "https://localhost:8080/",
     "height": 206
    },
    "id": "i3ELwv1n94FR",
    "outputId": "09751f3a-084e-4810-f9c8-0eb44d7bf86a"
   },
   "outputs": [],
   "source": [
    "file_path = pd.Series(data_train, name='File_Path').astype(str)\n",
    "labels = pd.Series(labels, name='Labels')\n",
    "data = pd.concat([file_path, labels], axis=1)\n",
    "data = data.sample(frac=1).reset_index(drop=True)\n",
    "data.head()"
   ]
  },
  {
   "cell_type": "code",
   "execution_count": null,
   "metadata": {
    "colab": {
     "base_uri": "https://localhost:8080/",
     "height": 347
    },
    "id": "WEM4raSG95MH",
    "outputId": "ae9c4360-53de-4f36-b043-c3465c4087c7"
   },
   "outputs": [],
   "source": [
    "sns.countplot(x='Labels', data=data)\n",
    "plt.title('Count Labels(Dog and Cat)')\n",
    "plt.show()\n",
    "data['Labels'].value_counts()"
   ]
  },
  {
   "cell_type": "code",
   "execution_count": null,
   "metadata": {
    "colab": {
     "base_uri": "https://localhost:8080/",
     "height": 206
    },
    "id": "j981Gn9y-Brb",
    "outputId": "5c1b2f55-a48e-4017-9682-71cfabd63cae"
   },
   "outputs": [],
   "source": [
    "data.head()"
   ]
  },
  {
   "cell_type": "code",
   "execution_count": null,
   "metadata": {
    "colab": {
     "base_uri": "https://localhost:8080/",
     "height": 913
    },
    "id": "5_wD81o4-HBw",
    "outputId": "fc732502-6978-4491-a57d-9be0fee8e931"
   },
   "outputs": [],
   "source": [
    "for i in range(4):\n",
    "    x, sr = librosa.load(data.File_Path[i])\n",
    "    plt.figure(figsize=(14,3))\n",
    "    plt.title('Labels: '+str(data['Labels'][i]))\n",
    "    librosa.display.waveshow(x, sr=sr)"
   ]
  },
  {
   "cell_type": "code",
   "execution_count": null,
   "metadata": {
    "colab": {
     "base_uri": "https://localhost:8080/",
     "height": 35
    },
    "id": "EuVtjk34-JaT",
    "outputId": "50f92ab6-bbf0-44d8-d699-26af854497ea"
   },
   "outputs": [],
   "source": [
    "data.File_Path[2]"
   ]
  },
  {
   "cell_type": "code",
   "execution_count": null,
   "metadata": {
    "colab": {
     "base_uri": "https://localhost:8080/",
     "height": 75
    },
    "id": "ccxpZ2ED-SaQ",
    "outputId": "14b3bab8-d440-49a4-977b-aa035d97a81a"
   },
   "outputs": [],
   "source": [
    "ipd.Audio(data.File_Path[1])"
   ]
  },
  {
   "cell_type": "markdown",
   "metadata": {
    "id": "lcjMf4SQ-XpT"
   },
   "source": [
    "Data Processing"
   ]
  },
  {
   "cell_type": "code",
   "execution_count": null,
   "metadata": {
    "id": "FW-6Wf6m-ZVQ"
   },
   "outputs": [],
   "source": [
    "def extract_features(file_name):\n",
    "    audio, sample_rate = librosa.load(file_name, res_type='kaiser_fast') \n",
    "    mfccs = librosa.feature.mfcc(y=audio, sr=sample_rate, n_mfcc=40)\n",
    "    mfccs_processed = np.mean(mfccs.T,axis=0)\n",
    "    return mfccs_processed"
   ]
  },
  {
   "cell_type": "code",
   "execution_count": null,
   "metadata": {
    "id": "NS8Gzgo0-bhZ"
   },
   "outputs": [],
   "source": [
    "import numpy as np\n",
    "features = []\n",
    "for index, row in data.iterrows():\n",
    "    file_name = str(row['File_Path'])\n",
    "    class_label = row[\"Labels\"]\n",
    "    data_ = extract_features(file_name)\n",
    "    features.append([data_, class_label])"
   ]
  },
  {
   "cell_type": "code",
   "execution_count": null,
   "metadata": {
    "colab": {
     "base_uri": "https://localhost:8080/",
     "height": 206
    },
    "id": "g2c7gQWd-eFA",
    "outputId": "9099d666-bff3-448a-8a26-ab3726ff94f1"
   },
   "outputs": [],
   "source": [
    "featuresdf = pd.DataFrame(features, columns=['feature','class_label'])\n",
    "featuresdf.head()\n"
   ]
  },
  {
   "cell_type": "code",
   "execution_count": null,
   "metadata": {
    "colab": {
     "base_uri": "https://localhost:8080/"
    },
    "id": "2rfT2bcO-h6K",
    "outputId": "0ecfc264-0502-4bc7-85e2-67ca3eabf7b1"
   },
   "outputs": [],
   "source": [
    "X = np.array(featuresdf.feature.tolist())\n",
    "y = np.array(featuresdf.class_label.tolist())\n",
    "X.shape, y.shape\n"
   ]
  },
  {
   "cell_type": "markdown",
   "metadata": {
    "id": "jKZP3yrRA6Xm"
   },
   "source": [
    "Encoder"
   ]
  },
  {
   "cell_type": "code",
   "execution_count": null,
   "metadata": {
    "id": "TAF9nbrPA2G2"
   },
   "outputs": [],
   "source": [
    "le = LabelEncoder()\n",
    "y = to_categorical(le.fit_transform(y))"
   ]
  },
  {
   "cell_type": "code",
   "execution_count": null,
   "metadata": {
    "id": "mxVD1dLkA4um"
   },
   "outputs": [],
   "source": [
    "x_train, x_test, y_train, y_test = train_test_split(X, y, test_size=0.2, random_state = 2022)"
   ]
  },
  {
   "cell_type": "markdown",
   "metadata": {
    "id": "eU3RQaE8BvYN"
   },
   "source": [
    "ML\n"
   ]
  },
  {
   "cell_type": "code",
   "execution_count": null,
   "metadata": {
    "id": "-jWGuPhmA8bA"
   },
   "outputs": [],
   "source": [
    "model = models.Sequential()\n",
    "best_test_accuracy = 0"
   ]
  },
  {
   "cell_type": "code",
   "execution_count": null,
   "metadata": {
    "id": "bYK_ptdABxsh"
   },
   "outputs": [],
   "source": [
    "model = models.Sequential()\n",
    "\n",
    "# Capa 1\n",
    "model.add(Dense(20, kernel_initializer = 'uniform', activation='relu', input_dim=len(features)))\n",
    "# Capa 2\n",
    "model.add(Dense(20, kernel_initializer = 'uniform', activation='relu'))\n",
    "# Capa de Salida\n",
    "model.add(Dense(1, kernel_initializer = 'uniform', activation='sigmoid'))"
   ]
  },
  {
   "cell_type": "code",
   "execution_count": null,
   "metadata": {
    "colab": {
     "base_uri": "https://localhost:8080/",
     "height": 659
    },
    "id": "mP1VM7hDB-9l",
    "outputId": "d24e344d-4b31-4fe6-807a-e0dfb39cf3e5"
   },
   "outputs": [],
   "source": [
    "# define our loss function and optimizer\n",
    "model.compile(loss='binary_crossentropy', optimizer=optimizers.Adam(learning_rate=0.01), metrics=['accuracy'])\n",
    "\n",
    "# train the parameters\n",
    "history = model.fit(x_train, y_train, epochs=20, batch_size=16)\n",
    "\n",
    "# evaluate accuracy\n",
    "train_acc = model.evaluate(x_train, y_train, batch_size=16)[1]\n",
    "test_acc = model.evaluate(x_test, y_test, batch_size=16)[1]\n",
    "print('Training accuracy: %s' % train_acc)\n",
    "print('Testing accuracy: %s' % test_acc)\n",
    "\n",
    "losses = history.history['loss']\n",
    "\n",
    "plt.plot(range(len(losses)), losses, 'r')\n",
    "plt.show()"
   ]
  }
 ],
 "metadata": {
  "colab": {
   "provenance": []
  },
  "kernelspec": {
   "display_name": "Python 3 (ipykernel)",
   "language": "python",
   "name": "python3"
  },
  "language_info": {
   "codemirror_mode": {
    "name": "ipython",
    "version": 3
   },
   "file_extension": ".py",
   "mimetype": "text/x-python",
   "name": "python",
   "nbconvert_exporter": "python",
   "pygments_lexer": "ipython3",
   "version": "3.9.12"
  }
 },
 "nbformat": 4,
 "nbformat_minor": 1
}
