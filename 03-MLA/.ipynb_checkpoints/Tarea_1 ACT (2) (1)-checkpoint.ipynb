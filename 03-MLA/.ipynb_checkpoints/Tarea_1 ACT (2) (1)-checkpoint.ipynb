{
 "cells": [
  {
   "cell_type": "markdown",
   "metadata": {
    "id": "ONKTp2H0LTvz"
   },
   "source": [
    "# **Tarea 1**\n",
    "## Machine Learning Avanzado\n",
    "Integrantes: Patricio Ramirez\n",
    "             Carlos Bustamante\n",
    "             Nicolas Rivera\n",
    "             Pablo Elgueta\n",
    "\n",
    "---"
   ]
  },
  {
   "cell_type": "markdown",
   "metadata": {
    "id": "2Bxvw-PXNYdu"
   },
   "source": [
    "Para la resolución de este laboratorio se deberá ajustar un modelo de perceptrón multicapa, usando un dataset con información de las personas que participaron del accidente en donde se hundió el famoso crucero Titanic en el año 1912. \n",
    "\n",
    "La variable dependiente o target de este problema es de tipo **binaria**, donde se busca saber si se logrará sobrevivir o no. Para el desarrollo de este caso se seguirán las siguientes etapas:\n",
    "\n",
    "* Contexto del proyecto y revisión de las variables involucradas.\n",
    "* Reconocimiento e importación de las librerías y módulos utilizados.\n",
    "* Procesamiento de datos y análisis descriptivo.\n",
    "* Aplicación de 2 funciones de activación.\n",
    "  1. Sigmoide\n",
    "  2. Rectificador ReLU\n",
    "* Evaluación de 3 valores de learning rate.\n",
    "* Evaluación de 2 a 5 capas ocultas.\n",
    "* Benchmark de la capacidad predictiva del modelo.\n",
    "* Predicción con Dataset de Prueba\n",
    "* Resultado predictivo para los miembros del equipo.\n",
    "\n",
    "---"
   ]
  },
  {
   "cell_type": "markdown",
   "metadata": {
    "id": "IFcTdPzdQqvi"
   },
   "source": [
    "#### **Contexto y revisión de las variables**\n",
    "\n",
    "La base de datos recopila información de las personas que se encontraban dentro del barco al momento del hundimiento, conteniendo 12 columnas y un total de 1.308 filas, divididas en 890 de entrenamiento y 408 de testeo.\n",
    "\n",
    "Los 12 campos corresponden a:\n",
    "\n",
    "  1. **PassengerId:** identificación con un número único.\n",
    "  2. **Survived:** variable binaria con 0 para fallecido y 1 superviviente.\n",
    "  3. **Pclass**: tickets de primera, segunda y tercera clase.\n",
    "  4. **Name:** nombre completo de la persona incluyendo título.\n",
    "  5. **Sex:** texto que contiene el género del registro.\n",
    "  6. **Age:** edad en años.\n",
    "  7. **SibSp:** número de hermanos o parejas a bordo.\n",
    "  8. **Parch:** número de padres o hijos a bordo.\n",
    "  9. **Ticket:** identificación con código único.\n",
    "  10. **Fare:** precio del ticket.\n",
    "  11. **Cabin:** identificación de la cabina en donde se encontraban.\n",
    "  12. **Embarked:** puerto donde ingresaron al barco.\n",
    "\n",
    "\n"
   ]
  },
  {
   "cell_type": "markdown",
   "metadata": {
    "id": "GGcnCC0UTcq9"
   },
   "source": [
    "## 1.-Reconocimiento e importación de librerías\n",
    "\n"
   ]
  },
  {
   "cell_type": "markdown",
   "metadata": {
    "id": "T1hHs4kkfdnD"
   },
   "source": [
    "Para manipular bases de datos se usó Pandas, para visualización fueron las librerías Matplotlib y Seaborn, y en cuanto a Machine Learning se utilizó Keras y Scikit-learn."
   ]
  },
  {
   "cell_type": "code",
   "execution_count": 1,
   "metadata": {
    "colab": {
     "base_uri": "https://localhost:8080/"
    },
    "id": "gVzlvDlYaICU",
    "outputId": "8d998c8b-670f-4a84-b844-03b761213a30"
   },
   "outputs": [
    {
     "name": "stderr",
     "output_type": "stream",
     "text": [
      "2022-11-20 20:08:22.420862: I tensorflow/core/platform/cpu_feature_guard.cc:193] This TensorFlow binary is optimized with oneAPI Deep Neural Network Library (oneDNN) to use the following CPU instructions in performance-critical operations:  SSE4.1 SSE4.2 AVX AVX2 FMA\n",
      "To enable them in other operations, rebuild TensorFlow with the appropriate compiler flags.\n"
     ]
    }
   ],
   "source": [
    "import opendatasets as od\n",
    "\n",
    "#Analisis de Datos\n",
    "\n",
    "import pandas as pd\n",
    "import math\n",
    "import numpy as np\n",
    "import random\n",
    "\n",
    "#Visualizacion de Datos\n",
    "\n",
    "import matplotlib.pyplot as plt\n",
    "import seaborn as sns\n",
    "\n",
    "#Machine Learning\n",
    "\n",
    "from sklearn.preprocessing import StandardScaler\n",
    "from sklearn.preprocessing import MinMaxScaler\n",
    "from sklearn.model_selection import train_test_split\n",
    "\n",
    "import keras\n",
    "from keras.models import Sequential\n",
    "from keras.layers import Dense\n",
    "from keras import models, layers, optimizers, regularizers\n",
    "from sklearn.preprocessing import LabelEncoder\n",
    "import tensorflow as tf\n",
    "from tqdm import tqdm\n",
    "sns.set(rc={'figure.figsize':(11.7,8.27)})\n",
    "\n",
    "\n",
    "#test = pd.read_csv(\"/home/pato/Magister Data Science/Tercer Trimestre Data Science/ML Avanzado/Tareas/titanic/test.csv\")\n",
    "#train = pd.read_csv(\"/home/pato/Magister Data Science/Tercer Trimestre Data Science/ML Avanzado/Tareas/titanic/train.csv\")"
   ]
  },
  {
   "cell_type": "markdown",
   "metadata": {},
   "source": [
    "## 1.1.-Cargando el Dataset"
   ]
  },
  {
   "cell_type": "code",
   "execution_count": 2,
   "metadata": {},
   "outputs": [
    {
     "name": "stdout",
     "output_type": "stream",
     "text": [
      "Skipping, found downloaded files in \"./titanic\" (use force=True to force download)\n",
      "<class 'pandas.core.frame.DataFrame'>\n",
      "RangeIndex: 891 entries, 0 to 890\n",
      "Data columns (total 12 columns):\n",
      " #   Column       Non-Null Count  Dtype  \n",
      "---  ------       --------------  -----  \n",
      " 0   PassengerId  891 non-null    int64  \n",
      " 1   Survived     891 non-null    int64  \n",
      " 2   Pclass       891 non-null    int64  \n",
      " 3   Name         891 non-null    object \n",
      " 4   Sex          891 non-null    object \n",
      " 5   Age          714 non-null    float64\n",
      " 6   SibSp        891 non-null    int64  \n",
      " 7   Parch        891 non-null    int64  \n",
      " 8   Ticket       891 non-null    object \n",
      " 9   Fare         891 non-null    float64\n",
      " 10  Cabin        204 non-null    object \n",
      " 11  Embarked     889 non-null    object \n",
      "dtypes: float64(2), int64(5), object(5)\n",
      "memory usage: 83.7+ KB\n"
     ]
    }
   ],
   "source": [
    "od.download(\"https://www.kaggle.com/c/titanic/data\")\n",
    "{\"username\":\"dgrone\",\"key\":\"8e16739c70ce24ea1e6d9a45b61e9796\"}\n",
    "\n",
    "train_folder = \"titanic/train.csv\"\n",
    "train = pd.read_csv(train_folder)\n",
    "\n",
    "test_folder = \"titanic/test.csv\"\n",
    "test = pd.read_csv(test_folder)\n",
    "\n",
    "train.info()"
   ]
  },
  {
   "cell_type": "markdown",
   "metadata": {
    "id": "4X4lnewdWfn6"
   },
   "source": [
    "## 1.2.-Procesamiento de datos y análisis descriptivo"
   ]
  },
  {
   "cell_type": "code",
   "execution_count": 3,
   "metadata": {
    "colab": {
     "base_uri": "https://localhost:8080/",
     "height": 536
    },
    "id": "i8_4wPD3DK70",
    "outputId": "51015b03-8873-4b78-d2ef-368f196143f4"
   },
   "outputs": [
    {
     "data": {
      "text/plain": [
       "Text(0, 0.5, 'Frecuencia')"
      ]
     },
     "execution_count": 3,
     "metadata": {},
     "output_type": "execute_result"
    },
    {
     "data": {
      "image/png": "[encoded data removed]",
      "text/plain": [
       "<Figure size 1200x800 with 4 Axes>"
      ]
     },
     "metadata": {},
     "output_type": "display_data"
    }
   ],
   "source": [
    "# Se preparan las visualizaciones \n",
    "fig, axes = plt.subplots(nrows=2, ncols=2, figsize = (12,8))\n",
    "fig.subplots_adjust(hspace=0.3)\n",
    "axes = axes.flatten()\n",
    "ax = axes[0]\n",
    "# Exploramos la distribución de las edades según el sexo en el dataset\n",
    "sns.boxplot(x='Sex', y='Age', data=train, palette=['#73DAF5','#F5C5F5'],ax=ax)\n",
    "ax.set_xticklabels(['Hombre','Mujer'])\n",
    "ax.set_title('a) Distribución de edad según Sexo')\n",
    "ax = axes[1]\n",
    "# Distribución de los datos según sexo\n",
    "sns.countplot(x='Sex', data=train, palette=['#73DAF5','#F5C5F5'],ax=ax)\n",
    "ax.set_xticklabels(['Hombre','Mujer'])\n",
    "ax.set_title('b) Distribución por Sexo')\n",
    "ax = axes[2]\n",
    "# Revisamos que tan balanceadas estan nuestras clases\n",
    "sns.countplot(x=\"Survived\", data=train, palette=['#F57373','#8FF573'],ax=ax)\n",
    "ax.set_title('c) Distribución de variable Target')\n",
    "ax.set_xticklabels(['No sobrevive','Sobrevive'],rotation=0)\n",
    "ax = axes[3]\n",
    "#Frecuencia de diagnóstico por sexo\n",
    "pd.crosstab(train.Sex,train.Survived).plot(kind=\"bar\",ax=ax,color=['#8FF573','#F57373'])\n",
    "ax.set_title('d) Frecuencia de diagnóstico por Sexo')\n",
    "ax.set_xticklabels(['Hombre','Mujer'],rotation=0)\n",
    "ax.legend([\"Sobrevive\", \"No sobrevive\"])\n",
    "ax.set_ylabel('Frecuencia')"
   ]
  },
  {
   "cell_type": "markdown",
   "metadata": {
    "id": "y5CXO_ZrpdAH"
   },
   "source": [
    "a) Se observa una distribución de edades similar entre hombres y mujeres, sin embargo, los hombres poseen los registros con las edades mas grandes.\n",
    "\n",
    "b) La cantidad de hombres a bordo casi duplica a la de mujeres.\n",
    "\n",
    "c) 342 personas sobrevivieron, correspondientes al 38%.\n",
    "\n",
    "d) El 74% de mujeres sobrevivió, mientras que en los hombres solo un 19% lo hizo."
   ]
  },
  {
   "cell_type": "code",
   "execution_count": 4,
   "metadata": {
    "colab": {
     "base_uri": "https://localhost:8080/",
     "height": 238
    },
    "id": "PehtVH4bxOHs",
    "outputId": "3d5176bc-2e3e-48a4-decd-5af4d485e348"
   },
   "outputs": [
    {
     "data": {
      "text/html": [
       "<div>\n",
       "<style scoped>\n",
       "    .dataframe tbody tr th:only-of-type {\n",
       "        vertical-align: middle;\n",
       "    }\n",
       "\n",
       "    .dataframe tbody tr th {\n",
       "        vertical-align: top;\n",
       "    }\n",
       "\n",
       "    .dataframe thead tr th {\n",
       "        text-align: left;\n",
       "    }\n",
       "\n",
       "    .dataframe thead tr:last-of-type th {\n",
       "        text-align: right;\n",
       "    }\n",
       "</style>\n",
       "<table border=\"1\" class=\"dataframe\">\n",
       "  <thead>\n",
       "    <tr>\n",
       "      <th></th>\n",
       "      <th></th>\n",
       "      <th>PassengerId</th>\n",
       "    </tr>\n",
       "    <tr>\n",
       "      <th></th>\n",
       "      <th></th>\n",
       "      <th>count</th>\n",
       "    </tr>\n",
       "    <tr>\n",
       "      <th>Sex</th>\n",
       "      <th>Survived</th>\n",
       "      <th></th>\n",
       "    </tr>\n",
       "  </thead>\n",
       "  <tbody>\n",
       "    <tr>\n",
       "      <th rowspan=\"2\" valign=\"top\">female</th>\n",
       "      <th>0</th>\n",
       "      <td>81</td>\n",
       "    </tr>\n",
       "    <tr>\n",
       "      <th>1</th>\n",
       "      <td>233</td>\n",
       "    </tr>\n",
       "    <tr>\n",
       "      <th rowspan=\"2\" valign=\"top\">male</th>\n",
       "      <th>0</th>\n",
       "      <td>468</td>\n",
       "    </tr>\n",
       "    <tr>\n",
       "      <th>1</th>\n",
       "      <td>109</td>\n",
       "    </tr>\n",
       "  </tbody>\n",
       "</table>\n",
       "</div>"
      ],
      "text/plain": [
       "                PassengerId\n",
       "                      count\n",
       "Sex    Survived            \n",
       "female 0                 81\n",
       "       1                233\n",
       "male   0                468\n",
       "       1                109"
      ]
     },
     "execution_count": 4,
     "metadata": {},
     "output_type": "execute_result"
    }
   ],
   "source": [
    "train[['Survived','PassengerId','Sex']].groupby(['Sex','Survived']).agg(['count'])"
   ]
  },
  {
   "cell_type": "code",
   "execution_count": 5,
   "metadata": {
    "colab": {
     "base_uri": "https://localhost:8080/",
     "height": 522
    },
    "id": "X4eNfY0lf4e8",
    "outputId": "bae5248d-43dd-4acb-c5c7-f25953e996b3"
   },
   "outputs": [
    {
     "data": {
      "text/plain": [
       "<AxesSubplot:>"
      ]
     },
     "execution_count": 5,
     "metadata": {},
     "output_type": "execute_result"
    },
    {
     "data": {
      "image/png": "[encoded data removed]",
      "text/plain": [
       "<Figure size 1170x827 with 2 Axes>"
      ]
     },
     "metadata": {},
     "output_type": "display_data"
    }
   ],
   "source": [
    "#Representación de Heatmap todas las variables contínuas\n",
    "ax.set_title(\"Heatmap considerando sólo variables continuas\")\n",
    "corrMatrix_cont = train[['Age','SibSp', 'Parch', 'Fare']].corr('pearson')\n",
    "sns.heatmap(corrMatrix_cont, annot=True)"
   ]
  },
  {
   "cell_type": "markdown",
   "metadata": {
    "id": "9xPW7XbxyAxf"
   },
   "source": [
    "No se aprecian correlaciones fuertes, siendo la mas significativa la de hermanos/parejas con padres e hijos, sugiriendo que algunos pasajeros viajaban en familia."
   ]
  },
  {
   "cell_type": "code",
   "execution_count": 6,
   "metadata": {
    "colab": {
     "base_uri": "https://localhost:8080/"
    },
    "id": "YAq5yj_Oz0cJ",
    "outputId": "266b485c-5009-403f-80b5-154a6c3a0a79"
   },
   "outputs": [
    {
     "name": "stdout",
     "output_type": "stream",
     "text": [
      "<class 'pandas.core.frame.DataFrame'>\n",
      "RangeIndex: 891 entries, 0 to 890\n",
      "Data columns (total 12 columns):\n",
      " #   Column       Non-Null Count  Dtype  \n",
      "---  ------       --------------  -----  \n",
      " 0   PassengerId  891 non-null    int64  \n",
      " 1   Survived     891 non-null    int64  \n",
      " 2   Pclass       891 non-null    int64  \n",
      " 3   Name         891 non-null    object \n",
      " 4   Sex          891 non-null    object \n",
      " 5   Age          714 non-null    float64\n",
      " 6   SibSp        891 non-null    int64  \n",
      " 7   Parch        891 non-null    int64  \n",
      " 8   Ticket       891 non-null    object \n",
      " 9   Fare         891 non-null    float64\n",
      " 10  Cabin        204 non-null    object \n",
      " 11  Embarked     889 non-null    object \n",
      "dtypes: float64(2), int64(5), object(5)\n",
      "memory usage: 83.7+ KB\n"
     ]
    }
   ],
   "source": [
    "train.info()"
   ]
  },
  {
   "cell_type": "markdown",
   "metadata": {
    "id": "s6doETI_jNH6"
   },
   "source": [
    "Al comprobar los valores nulos usando la función info, es posible detectar que la variable **Age** tiene 177 registros vacíos, **Cabin** tiene 687 y **Embarked** tiene 2.\n",
    "\n",
    "En **Age**, los nulos serán rellenados con la edad promedio de la muestra, en **Cabin**, los valores nulos representan a las personas que no iban en una pieza particular, y en **Embarked** fueron rellenados con la moda."
   ]
  },
  {
   "cell_type": "code",
   "execution_count": 7,
   "metadata": {
    "colab": {
     "base_uri": "https://localhost:8080/"
    },
    "id": "B92rGDM5hQnv",
    "outputId": "ac65738b-5dbd-41a8-a732-0b5a2e6d866a"
   },
   "outputs": [
    {
     "name": "stdout",
     "output_type": "stream",
     "text": [
      "<class 'pandas.core.frame.DataFrame'>\n",
      "RangeIndex: 891 entries, 0 to 890\n",
      "Data columns (total 9 columns):\n",
      " #   Column    Non-Null Count  Dtype  \n",
      "---  ------    --------------  -----  \n",
      " 0   Survived  891 non-null    int64  \n",
      " 1   Pclass    891 non-null    int64  \n",
      " 2   Sex       891 non-null    object \n",
      " 3   Age       891 non-null    int64  \n",
      " 4   SibSp     891 non-null    int64  \n",
      " 5   Parch     891 non-null    int64  \n",
      " 6   Fare      891 non-null    float64\n",
      " 7   Cabin     891 non-null    int64  \n",
      " 8   Embarked  891 non-null    object \n",
      "dtypes: float64(1), int64(6), object(2)\n",
      "memory usage: 62.8+ KB\n"
     ]
    }
   ],
   "source": [
    "#Quitamos columnas con informacion unica\n",
    "train.drop(['PassengerId', 'Name', 'Ticket'], axis=1, inplace=True, )\n",
    "\n",
    "#Binarizar columna Cabin\n",
    "train[\"Cabin\"] = train[\"Cabin\"].astype(str) != 'nan'\n",
    "train[\"Cabin\"] = train[\"Cabin\"].astype(int)\n",
    "\n",
    "#Rellenando los NA de la edad con la media\n",
    "median_age = train['Age'].median()\n",
    "train['Age'].fillna(median_age, inplace=True)\n",
    "train['Age']=train['Age'].astype(int)\n",
    "\n",
    "#Se rellenan 2 na de Embarked con la moda (S)\n",
    "embarked_mode = train['Embarked'].mode()\n",
    "train['Embarked'].fillna(embarked_mode.values[0], inplace=True)\n",
    "\n",
    "train.info()"
   ]
  },
  {
   "cell_type": "code",
   "execution_count": 8,
   "metadata": {
    "colab": {
     "base_uri": "https://localhost:8080/",
     "height": 517
    },
    "id": "3DJ044MiQXBJ",
    "outputId": "58dfd4df-5158-4efb-f22f-0e53efd1f98a"
   },
   "outputs": [
    {
     "data": {
      "image/png": "[encoded data removed]",
      "text/plain": [
       "<Figure size 1170x827 with 1 Axes>"
      ]
     },
     "metadata": {},
     "output_type": "display_data"
    }
   ],
   "source": [
    "sns.histplot(x='Age', data=train, hue='Survived')\n",
    "#Se crea una variable categorica para la edad con el proposito de separar a las personas menores a 14 anos\n",
    "train['Age_cat'] = pd.cut(train['Age'], bins=[-1, 14, float('Inf')], labels=['kid', 'adult'])"
   ]
  },
  {
   "cell_type": "markdown",
   "metadata": {
    "id": "sHX8MtLC1bTT"
   },
   "source": [
    "El análisis de la distribución de la edad en los supervivientes permite observar que las personas menores de 14 años son mas propensas a sobrevivir, es por eso que se genera una variable categórica para agruparlas."
   ]
  },
  {
   "cell_type": "code",
   "execution_count": 9,
   "metadata": {
    "colab": {
     "base_uri": "https://localhost:8080/",
     "height": 517
    },
    "id": "Jadqhvlh_fGY",
    "outputId": "7e721342-b7bd-43ac-9bdc-0e5e8c267223"
   },
   "outputs": [
    {
     "data": {
      "image/png": "[encoded data removed]",
      "text/plain": [
       "<Figure size 1170x827 with 1 Axes>"
      ]
     },
     "metadata": {},
     "output_type": "display_data"
    }
   ],
   "source": [
    "sns.histplot(x='Fare', data=train, hue='Survived')\n",
    "#Se puede crear también una variable categórica para las tarifas mayores a 50.\n",
    "train['Fare_cat'] = pd.cut(train['Fare'], bins=[-1, 35, float('Inf')], labels=['cheap', 'expensive'])"
   ]
  },
  {
   "cell_type": "markdown",
   "metadata": {
    "id": "ceXKi-9H2TKo"
   },
   "source": [
    "Ocurre una situación similar con las tarifas, por eso se agruparon entre menores y mayores a $35."
   ]
  },
  {
   "cell_type": "code",
   "execution_count": 10,
   "metadata": {
    "colab": {
     "base_uri": "https://localhost:8080/",
     "height": 206
    },
    "id": "YomVzMdMacIm",
    "outputId": "a1c091d5-8fec-4d38-f8fe-e6c93ffbb848"
   },
   "outputs": [
    {
     "data": {
      "text/html": [
       "<div>\n",
       "<style scoped>\n",
       "    .dataframe tbody tr th:only-of-type {\n",
       "        vertical-align: middle;\n",
       "    }\n",
       "\n",
       "    .dataframe tbody tr th {\n",
       "        vertical-align: top;\n",
       "    }\n",
       "\n",
       "    .dataframe thead tr th {\n",
       "        text-align: left;\n",
       "    }\n",
       "\n",
       "    .dataframe thead tr:last-of-type th {\n",
       "        text-align: right;\n",
       "    }\n",
       "</style>\n",
       "<table border=\"1\" class=\"dataframe\">\n",
       "  <thead>\n",
       "    <tr>\n",
       "      <th></th>\n",
       "      <th colspan=\"2\" halign=\"left\">Survived</th>\n",
       "    </tr>\n",
       "    <tr>\n",
       "      <th></th>\n",
       "      <th>mean</th>\n",
       "      <th>count</th>\n",
       "    </tr>\n",
       "    <tr>\n",
       "      <th>Pclass</th>\n",
       "      <th></th>\n",
       "      <th></th>\n",
       "    </tr>\n",
       "  </thead>\n",
       "  <tbody>\n",
       "    <tr>\n",
       "      <th>1</th>\n",
       "      <td>0.629630</td>\n",
       "      <td>216</td>\n",
       "    </tr>\n",
       "    <tr>\n",
       "      <th>2</th>\n",
       "      <td>0.472826</td>\n",
       "      <td>184</td>\n",
       "    </tr>\n",
       "    <tr>\n",
       "      <th>3</th>\n",
       "      <td>0.242363</td>\n",
       "      <td>491</td>\n",
       "    </tr>\n",
       "  </tbody>\n",
       "</table>\n",
       "</div>"
      ],
      "text/plain": [
       "        Survived      \n",
       "            mean count\n",
       "Pclass                \n",
       "1       0.629630   216\n",
       "2       0.472826   184\n",
       "3       0.242363   491"
      ]
     },
     "execution_count": 10,
     "metadata": {},
     "output_type": "execute_result"
    }
   ],
   "source": [
    "train[['Pclass', 'Survived']].groupby(['Pclass']).agg(['mean', 'count'])"
   ]
  },
  {
   "cell_type": "code",
   "execution_count": 11,
   "metadata": {
    "colab": {
     "base_uri": "https://localhost:8080/",
     "height": 394
    },
    "id": "D2rYw-cZaxIk",
    "outputId": "2e452867-fa5d-4ae1-c42d-c4bc0dabdd6b"
   },
   "outputs": [
    {
     "data": {
      "text/html": [
       "<div>\n",
       "<style scoped>\n",
       "    .dataframe tbody tr th:only-of-type {\n",
       "        vertical-align: middle;\n",
       "    }\n",
       "\n",
       "    .dataframe tbody tr th {\n",
       "        vertical-align: top;\n",
       "    }\n",
       "\n",
       "    .dataframe thead tr th {\n",
       "        text-align: left;\n",
       "    }\n",
       "\n",
       "    .dataframe thead tr:last-of-type th {\n",
       "        text-align: right;\n",
       "    }\n",
       "</style>\n",
       "<table border=\"1\" class=\"dataframe\">\n",
       "  <thead>\n",
       "    <tr>\n",
       "      <th></th>\n",
       "      <th></th>\n",
       "      <th colspan=\"2\" halign=\"left\">Survived</th>\n",
       "    </tr>\n",
       "    <tr>\n",
       "      <th></th>\n",
       "      <th></th>\n",
       "      <th>mean</th>\n",
       "      <th>count</th>\n",
       "    </tr>\n",
       "    <tr>\n",
       "      <th>Embarked</th>\n",
       "      <th>Pclass</th>\n",
       "      <th></th>\n",
       "      <th></th>\n",
       "    </tr>\n",
       "  </thead>\n",
       "  <tbody>\n",
       "    <tr>\n",
       "      <th rowspan=\"3\" valign=\"top\">C</th>\n",
       "      <th>1</th>\n",
       "      <td>0.694118</td>\n",
       "      <td>85</td>\n",
       "    </tr>\n",
       "    <tr>\n",
       "      <th>2</th>\n",
       "      <td>0.529412</td>\n",
       "      <td>17</td>\n",
       "    </tr>\n",
       "    <tr>\n",
       "      <th>3</th>\n",
       "      <td>0.378788</td>\n",
       "      <td>66</td>\n",
       "    </tr>\n",
       "    <tr>\n",
       "      <th rowspan=\"3\" valign=\"top\">Q</th>\n",
       "      <th>1</th>\n",
       "      <td>0.500000</td>\n",
       "      <td>2</td>\n",
       "    </tr>\n",
       "    <tr>\n",
       "      <th>2</th>\n",
       "      <td>0.666667</td>\n",
       "      <td>3</td>\n",
       "    </tr>\n",
       "    <tr>\n",
       "      <th>3</th>\n",
       "      <td>0.375000</td>\n",
       "      <td>72</td>\n",
       "    </tr>\n",
       "    <tr>\n",
       "      <th rowspan=\"3\" valign=\"top\">S</th>\n",
       "      <th>1</th>\n",
       "      <td>0.589147</td>\n",
       "      <td>129</td>\n",
       "    </tr>\n",
       "    <tr>\n",
       "      <th>2</th>\n",
       "      <td>0.463415</td>\n",
       "      <td>164</td>\n",
       "    </tr>\n",
       "    <tr>\n",
       "      <th>3</th>\n",
       "      <td>0.189802</td>\n",
       "      <td>353</td>\n",
       "    </tr>\n",
       "  </tbody>\n",
       "</table>\n",
       "</div>"
      ],
      "text/plain": [
       "                 Survived      \n",
       "                     mean count\n",
       "Embarked Pclass                \n",
       "C        1       0.694118    85\n",
       "         2       0.529412    17\n",
       "         3       0.378788    66\n",
       "Q        1       0.500000     2\n",
       "         2       0.666667     3\n",
       "         3       0.375000    72\n",
       "S        1       0.589147   129\n",
       "         2       0.463415   164\n",
       "         3       0.189802   353"
      ]
     },
     "execution_count": 11,
     "metadata": {},
     "output_type": "execute_result"
    }
   ],
   "source": [
    "train[['Embarked', 'Pclass', 'Survived']].groupby(['Embarked', 'Pclass']).agg(['mean', 'count'])"
   ]
  },
  {
   "cell_type": "code",
   "execution_count": 12,
   "metadata": {
    "colab": {
     "base_uri": "https://localhost:8080/",
     "height": 206
    },
    "id": "wVXTn2kQBy54",
    "outputId": "e659b714-25a1-450b-bee5-28fad15a36e2"
   },
   "outputs": [
    {
     "data": {
      "text/html": [
       "<div>\n",
       "<style scoped>\n",
       "    .dataframe tbody tr th:only-of-type {\n",
       "        vertical-align: middle;\n",
       "    }\n",
       "\n",
       "    .dataframe tbody tr th {\n",
       "        vertical-align: top;\n",
       "    }\n",
       "\n",
       "    .dataframe thead th {\n",
       "        text-align: right;\n",
       "    }\n",
       "</style>\n",
       "<table border=\"1\" class=\"dataframe\">\n",
       "  <thead>\n",
       "    <tr style=\"text-align: right;\">\n",
       "      <th></th>\n",
       "      <th>Survived</th>\n",
       "      <th>Sex</th>\n",
       "      <th>SibSp</th>\n",
       "      <th>Parch</th>\n",
       "      <th>Cabin</th>\n",
       "      <th>embarked_Q</th>\n",
       "      <th>embarked_S</th>\n",
       "      <th>age_kid</th>\n",
       "      <th>fare_cheap</th>\n",
       "      <th>pclass_2</th>\n",
       "      <th>pclass_3</th>\n",
       "    </tr>\n",
       "  </thead>\n",
       "  <tbody>\n",
       "    <tr>\n",
       "      <th>0</th>\n",
       "      <td>0</td>\n",
       "      <td>1</td>\n",
       "      <td>1</td>\n",
       "      <td>0</td>\n",
       "      <td>0</td>\n",
       "      <td>0</td>\n",
       "      <td>1</td>\n",
       "      <td>0</td>\n",
       "      <td>1</td>\n",
       "      <td>0</td>\n",
       "      <td>1</td>\n",
       "    </tr>\n",
       "    <tr>\n",
       "      <th>1</th>\n",
       "      <td>1</td>\n",
       "      <td>0</td>\n",
       "      <td>1</td>\n",
       "      <td>0</td>\n",
       "      <td>1</td>\n",
       "      <td>0</td>\n",
       "      <td>0</td>\n",
       "      <td>0</td>\n",
       "      <td>0</td>\n",
       "      <td>0</td>\n",
       "      <td>0</td>\n",
       "    </tr>\n",
       "    <tr>\n",
       "      <th>2</th>\n",
       "      <td>1</td>\n",
       "      <td>0</td>\n",
       "      <td>0</td>\n",
       "      <td>0</td>\n",
       "      <td>0</td>\n",
       "      <td>0</td>\n",
       "      <td>1</td>\n",
       "      <td>0</td>\n",
       "      <td>1</td>\n",
       "      <td>0</td>\n",
       "      <td>1</td>\n",
       "    </tr>\n",
       "    <tr>\n",
       "      <th>3</th>\n",
       "      <td>1</td>\n",
       "      <td>0</td>\n",
       "      <td>1</td>\n",
       "      <td>0</td>\n",
       "      <td>1</td>\n",
       "      <td>0</td>\n",
       "      <td>1</td>\n",
       "      <td>0</td>\n",
       "      <td>0</td>\n",
       "      <td>0</td>\n",
       "      <td>0</td>\n",
       "    </tr>\n",
       "    <tr>\n",
       "      <th>4</th>\n",
       "      <td>0</td>\n",
       "      <td>1</td>\n",
       "      <td>0</td>\n",
       "      <td>0</td>\n",
       "      <td>0</td>\n",
       "      <td>0</td>\n",
       "      <td>1</td>\n",
       "      <td>0</td>\n",
       "      <td>1</td>\n",
       "      <td>0</td>\n",
       "      <td>1</td>\n",
       "    </tr>\n",
       "  </tbody>\n",
       "</table>\n",
       "</div>"
      ],
      "text/plain": [
       "   Survived  Sex  SibSp  Parch  Cabin  embarked_Q  embarked_S  age_kid  \\\n",
       "0         0    1      1      0      0           0           1        0   \n",
       "1         1    0      1      0      1           0           0        0   \n",
       "2         1    0      0      0      0           0           1        0   \n",
       "3         1    0      1      0      1           0           1        0   \n",
       "4         0    1      0      0      0           0           1        0   \n",
       "\n",
       "   fare_cheap  pclass_2  pclass_3  \n",
       "0           1         0         1  \n",
       "1           0         0         0  \n",
       "2           1         0         1  \n",
       "3           0         0         0  \n",
       "4           1         0         1  "
      ]
     },
     "execution_count": 12,
     "metadata": {},
     "output_type": "execute_result"
    }
   ],
   "source": [
    "#Binarización de las variables categóricas\n",
    "train[\"Sex\"] = train['Sex'].replace(['female','male'],[0,1])\n",
    "train[\"Sex\"] = train[\"Sex\"].astype(int)\n",
    "Age_dum = pd.get_dummies(train['Age_cat'], prefix = \"age\")\n",
    "Fare_dum = pd.get_dummies(train['Fare_cat'], prefix = \"fare\")\n",
    "Embarked_dum = pd.get_dummies(train['Embarked'], prefix = \"embarked\")\n",
    "Pclass_dum = pd.get_dummies(train['Pclass'], prefix = \"pclass\")\n",
    "train.head()\n",
    "#Añadimos las nuevas variables, ahora como dummies, al dataset\n",
    "train = pd.concat([train, Embarked_dum, Age_dum, Fare_dum, Pclass_dum], axis = 1)\n",
    "#Se borran también algunos dummies para asegurar invertibilidad de la matríz \n",
    "train = train.drop(columns = ['Pclass','Age', 'Fare', 'Embarked',\"Age_cat\",\"age_adult\", \"Fare_cat\",\"embarked_C\",\"fare_expensive\",'pclass_1'])\n",
    "train.head()"
   ]
  },
  {
   "cell_type": "code",
   "execution_count": 13,
   "metadata": {
    "colab": {
     "base_uri": "https://localhost:8080/",
     "height": 206
    },
    "id": "e-vsDEhL4dLj",
    "outputId": "99fc7ebd-80c8-40ab-a18e-a05ce27501da"
   },
   "outputs": [
    {
     "data": {
      "text/html": [
       "<div>\n",
       "<style scoped>\n",
       "    .dataframe tbody tr th:only-of-type {\n",
       "        vertical-align: middle;\n",
       "    }\n",
       "\n",
       "    .dataframe tbody tr th {\n",
       "        vertical-align: top;\n",
       "    }\n",
       "\n",
       "    .dataframe thead th {\n",
       "        text-align: right;\n",
       "    }\n",
       "</style>\n",
       "<table border=\"1\" class=\"dataframe\">\n",
       "  <thead>\n",
       "    <tr style=\"text-align: right;\">\n",
       "      <th></th>\n",
       "      <th>Sex</th>\n",
       "      <th>SibSp</th>\n",
       "      <th>Parch</th>\n",
       "      <th>Cabin</th>\n",
       "      <th>embarked_Q</th>\n",
       "      <th>embarked_S</th>\n",
       "      <th>age_kid</th>\n",
       "      <th>fare_cheap</th>\n",
       "      <th>pclass_2</th>\n",
       "      <th>pclass_3</th>\n",
       "    </tr>\n",
       "  </thead>\n",
       "  <tbody>\n",
       "    <tr>\n",
       "      <th>0</th>\n",
       "      <td>1</td>\n",
       "      <td>0</td>\n",
       "      <td>0</td>\n",
       "      <td>0</td>\n",
       "      <td>1</td>\n",
       "      <td>0</td>\n",
       "      <td>0</td>\n",
       "      <td>1</td>\n",
       "      <td>0</td>\n",
       "      <td>1</td>\n",
       "    </tr>\n",
       "    <tr>\n",
       "      <th>1</th>\n",
       "      <td>0</td>\n",
       "      <td>1</td>\n",
       "      <td>0</td>\n",
       "      <td>0</td>\n",
       "      <td>0</td>\n",
       "      <td>1</td>\n",
       "      <td>0</td>\n",
       "      <td>1</td>\n",
       "      <td>0</td>\n",
       "      <td>1</td>\n",
       "    </tr>\n",
       "    <tr>\n",
       "      <th>2</th>\n",
       "      <td>1</td>\n",
       "      <td>0</td>\n",
       "      <td>0</td>\n",
       "      <td>0</td>\n",
       "      <td>1</td>\n",
       "      <td>0</td>\n",
       "      <td>0</td>\n",
       "      <td>1</td>\n",
       "      <td>1</td>\n",
       "      <td>0</td>\n",
       "    </tr>\n",
       "    <tr>\n",
       "      <th>3</th>\n",
       "      <td>1</td>\n",
       "      <td>0</td>\n",
       "      <td>0</td>\n",
       "      <td>0</td>\n",
       "      <td>0</td>\n",
       "      <td>1</td>\n",
       "      <td>0</td>\n",
       "      <td>1</td>\n",
       "      <td>0</td>\n",
       "      <td>1</td>\n",
       "    </tr>\n",
       "    <tr>\n",
       "      <th>4</th>\n",
       "      <td>0</td>\n",
       "      <td>1</td>\n",
       "      <td>1</td>\n",
       "      <td>0</td>\n",
       "      <td>0</td>\n",
       "      <td>1</td>\n",
       "      <td>0</td>\n",
       "      <td>1</td>\n",
       "      <td>0</td>\n",
       "      <td>1</td>\n",
       "    </tr>\n",
       "  </tbody>\n",
       "</table>\n",
       "</div>"
      ],
      "text/plain": [
       "   Sex  SibSp  Parch  Cabin  embarked_Q  embarked_S  age_kid  fare_cheap  \\\n",
       "0    1      0      0      0           1           0        0           1   \n",
       "1    0      1      0      0           0           1        0           1   \n",
       "2    1      0      0      0           1           0        0           1   \n",
       "3    1      0      0      0           0           1        0           1   \n",
       "4    0      1      1      0           0           1        0           1   \n",
       "\n",
       "   pclass_2  pclass_3  \n",
       "0         0         1  \n",
       "1         0         1  \n",
       "2         1         0  \n",
       "3         0         1  \n",
       "4         0         1  "
      ]
     },
     "execution_count": 13,
     "metadata": {},
     "output_type": "execute_result"
    }
   ],
   "source": [
    "#Aplicamos las mismas operaciones sobre la data de testeo\n",
    "#Tratamiento NaNs y columnas nuevas\n",
    "test.drop(['PassengerId', 'Name', 'Ticket'], axis=1, inplace=True, )\n",
    "test[\"Cabin\"] = test[\"Cabin\"].astype(str) != 'nan'\n",
    "test[\"Cabin\"] = test[\"Cabin\"].astype(int)\n",
    "median_age2 = test['Age'].median()\n",
    "test['Age'].fillna(median_age2, inplace=True)\n",
    "test['Age']=test['Age'].astype(int)\n",
    "embarked_mode2 = test['Embarked'].mode()\n",
    "test['Embarked'].fillna(embarked_mode2.values[0], inplace=True)\n",
    "test['Age_cat'] = pd.cut(test['Age'], bins=[-1, 14, float('Inf')], labels=['kid', 'adult'])\n",
    "test['Fare_cat'] = pd.cut(test['Fare'], bins=[-1, 35, float('Inf')], labels=['cheap', 'expensive'])\n",
    "\n",
    "#Binarización de las variables categóricas\n",
    "test[\"Sex\"] = test['Sex'].replace(['female','male'],[0,1])\n",
    "test[\"Sex\"] = test[\"Sex\"].astype(int)\n",
    "Age_dum2 = pd.get_dummies(test['Age_cat'], prefix = \"age\")\n",
    "Fare_dum2 = pd.get_dummies(test['Fare_cat'], prefix = \"fare\")\n",
    "Embarked_dum2 = pd.get_dummies(test['Embarked'], prefix = \"embarked\")\n",
    "Pclass_dum = pd.get_dummies(test['Pclass'], prefix = \"pclass\")\n",
    "\n",
    "#Añadimos las nuevas variables, ahora como dummies, al dataset\n",
    "test = pd.concat([test, Embarked_dum2, Age_dum2, Fare_dum2, Pclass_dum], axis = 1)\n",
    "#Se borran también algunos dummies para asegurar invertibilidad de la matríz \n",
    "test = test.drop(columns = ['Pclass','Age', 'Fare', 'Embarked',\"Age_cat\",\"age_adult\", \"Fare_cat\",\"embarked_C\",\"fare_expensive\",\"pclass_1\"])\n",
    "test.head()"
   ]
  },
  {
   "cell_type": "code",
   "execution_count": 14,
   "metadata": {},
   "outputs": [
    {
     "data": {
      "text/html": [
       "<div>\n",
       "<style scoped>\n",
       "    .dataframe tbody tr th:only-of-type {\n",
       "        vertical-align: middle;\n",
       "    }\n",
       "\n",
       "    .dataframe tbody tr th {\n",
       "        vertical-align: top;\n",
       "    }\n",
       "\n",
       "    .dataframe thead th {\n",
       "        text-align: right;\n",
       "    }\n",
       "</style>\n",
       "<table border=\"1\" class=\"dataframe\">\n",
       "  <thead>\n",
       "    <tr style=\"text-align: right;\">\n",
       "      <th></th>\n",
       "      <th>Sex</th>\n",
       "      <th>age_kid</th>\n",
       "      <th>SibSp</th>\n",
       "      <th>Parch</th>\n",
       "      <th>embarked_S</th>\n",
       "      <th>embarked_Q</th>\n",
       "      <th>fare_cheap</th>\n",
       "      <th>pclass_2</th>\n",
       "      <th>pclass_3</th>\n",
       "      <th>Cabin</th>\n",
       "      <th>Survived</th>\n",
       "    </tr>\n",
       "  </thead>\n",
       "  <tbody>\n",
       "    <tr>\n",
       "      <th>0</th>\n",
       "      <td>1</td>\n",
       "      <td>0</td>\n",
       "      <td>1</td>\n",
       "      <td>0</td>\n",
       "      <td>1</td>\n",
       "      <td>0</td>\n",
       "      <td>1</td>\n",
       "      <td>0</td>\n",
       "      <td>1</td>\n",
       "      <td>0</td>\n",
       "      <td>0</td>\n",
       "    </tr>\n",
       "    <tr>\n",
       "      <th>1</th>\n",
       "      <td>0</td>\n",
       "      <td>0</td>\n",
       "      <td>1</td>\n",
       "      <td>0</td>\n",
       "      <td>0</td>\n",
       "      <td>0</td>\n",
       "      <td>0</td>\n",
       "      <td>0</td>\n",
       "      <td>0</td>\n",
       "      <td>1</td>\n",
       "      <td>1</td>\n",
       "    </tr>\n",
       "    <tr>\n",
       "      <th>2</th>\n",
       "      <td>0</td>\n",
       "      <td>0</td>\n",
       "      <td>0</td>\n",
       "      <td>0</td>\n",
       "      <td>1</td>\n",
       "      <td>0</td>\n",
       "      <td>1</td>\n",
       "      <td>0</td>\n",
       "      <td>1</td>\n",
       "      <td>0</td>\n",
       "      <td>1</td>\n",
       "    </tr>\n",
       "    <tr>\n",
       "      <th>3</th>\n",
       "      <td>0</td>\n",
       "      <td>0</td>\n",
       "      <td>1</td>\n",
       "      <td>0</td>\n",
       "      <td>1</td>\n",
       "      <td>0</td>\n",
       "      <td>0</td>\n",
       "      <td>0</td>\n",
       "      <td>0</td>\n",
       "      <td>1</td>\n",
       "      <td>1</td>\n",
       "    </tr>\n",
       "    <tr>\n",
       "      <th>4</th>\n",
       "      <td>1</td>\n",
       "      <td>0</td>\n",
       "      <td>0</td>\n",
       "      <td>0</td>\n",
       "      <td>1</td>\n",
       "      <td>0</td>\n",
       "      <td>1</td>\n",
       "      <td>0</td>\n",
       "      <td>1</td>\n",
       "      <td>0</td>\n",
       "      <td>0</td>\n",
       "    </tr>\n",
       "  </tbody>\n",
       "</table>\n",
       "</div>"
      ],
      "text/plain": [
       "   Sex  age_kid  SibSp  Parch  embarked_S  embarked_Q  fare_cheap  pclass_2  \\\n",
       "0    1        0      1      0           1           0           1         0   \n",
       "1    0        0      1      0           0           0           0         0   \n",
       "2    0        0      0      0           1           0           1         0   \n",
       "3    0        0      1      0           1           0           0         0   \n",
       "4    1        0      0      0           1           0           1         0   \n",
       "\n",
       "   pclass_3  Cabin  Survived  \n",
       "0         1      0         0  \n",
       "1         0      1         1  \n",
       "2         1      0         1  \n",
       "3         0      1         1  \n",
       "4         1      0         0  "
      ]
     },
     "execution_count": 14,
     "metadata": {},
     "output_type": "execute_result"
    }
   ],
   "source": [
    "train = train[['Sex', 'age_kid','SibSp','Parch','embarked_S','embarked_Q','fare_cheap','pclass_2','pclass_3','Cabin','Survived']]\n",
    "train.head()"
   ]
  },
  {
   "cell_type": "code",
   "execution_count": 15,
   "metadata": {},
   "outputs": [
    {
     "data": {
      "text/html": [
       "<div>\n",
       "<style scoped>\n",
       "    .dataframe tbody tr th:only-of-type {\n",
       "        vertical-align: middle;\n",
       "    }\n",
       "\n",
       "    .dataframe tbody tr th {\n",
       "        vertical-align: top;\n",
       "    }\n",
       "\n",
       "    .dataframe thead th {\n",
       "        text-align: right;\n",
       "    }\n",
       "</style>\n",
       "<table border=\"1\" class=\"dataframe\">\n",
       "  <thead>\n",
       "    <tr style=\"text-align: right;\">\n",
       "      <th></th>\n",
       "      <th>Sex</th>\n",
       "      <th>age_kid</th>\n",
       "      <th>SibSp</th>\n",
       "      <th>Parch</th>\n",
       "      <th>embarked_S</th>\n",
       "      <th>embarked_Q</th>\n",
       "      <th>fare_cheap</th>\n",
       "      <th>pclass_2</th>\n",
       "      <th>pclass_3</th>\n",
       "      <th>Cabin</th>\n",
       "    </tr>\n",
       "  </thead>\n",
       "  <tbody>\n",
       "    <tr>\n",
       "      <th>0</th>\n",
       "      <td>1</td>\n",
       "      <td>0</td>\n",
       "      <td>0</td>\n",
       "      <td>0</td>\n",
       "      <td>0</td>\n",
       "      <td>1</td>\n",
       "      <td>1</td>\n",
       "      <td>0</td>\n",
       "      <td>1</td>\n",
       "      <td>0</td>\n",
       "    </tr>\n",
       "    <tr>\n",
       "      <th>1</th>\n",
       "      <td>0</td>\n",
       "      <td>0</td>\n",
       "      <td>1</td>\n",
       "      <td>0</td>\n",
       "      <td>1</td>\n",
       "      <td>0</td>\n",
       "      <td>1</td>\n",
       "      <td>0</td>\n",
       "      <td>1</td>\n",
       "      <td>0</td>\n",
       "    </tr>\n",
       "    <tr>\n",
       "      <th>2</th>\n",
       "      <td>1</td>\n",
       "      <td>0</td>\n",
       "      <td>0</td>\n",
       "      <td>0</td>\n",
       "      <td>0</td>\n",
       "      <td>1</td>\n",
       "      <td>1</td>\n",
       "      <td>1</td>\n",
       "      <td>0</td>\n",
       "      <td>0</td>\n",
       "    </tr>\n",
       "    <tr>\n",
       "      <th>3</th>\n",
       "      <td>1</td>\n",
       "      <td>0</td>\n",
       "      <td>0</td>\n",
       "      <td>0</td>\n",
       "      <td>1</td>\n",
       "      <td>0</td>\n",
       "      <td>1</td>\n",
       "      <td>0</td>\n",
       "      <td>1</td>\n",
       "      <td>0</td>\n",
       "    </tr>\n",
       "    <tr>\n",
       "      <th>4</th>\n",
       "      <td>0</td>\n",
       "      <td>0</td>\n",
       "      <td>1</td>\n",
       "      <td>1</td>\n",
       "      <td>1</td>\n",
       "      <td>0</td>\n",
       "      <td>1</td>\n",
       "      <td>0</td>\n",
       "      <td>1</td>\n",
       "      <td>0</td>\n",
       "    </tr>\n",
       "  </tbody>\n",
       "</table>\n",
       "</div>"
      ],
      "text/plain": [
       "   Sex  age_kid  SibSp  Parch  embarked_S  embarked_Q  fare_cheap  pclass_2  \\\n",
       "0    1        0      0      0           0           1           1         0   \n",
       "1    0        0      1      0           1           0           1         0   \n",
       "2    1        0      0      0           0           1           1         1   \n",
       "3    1        0      0      0           1           0           1         0   \n",
       "4    0        0      1      1           1           0           1         0   \n",
       "\n",
       "   pclass_3  Cabin  \n",
       "0         1      0  \n",
       "1         1      0  \n",
       "2         0      0  \n",
       "3         1      0  \n",
       "4         1      0  "
      ]
     },
     "execution_count": 15,
     "metadata": {},
     "output_type": "execute_result"
    }
   ],
   "source": [
    "test = test[['Sex', 'age_kid','SibSp','Parch','embarked_S','embarked_Q','fare_cheap','pclass_2','pclass_3','Cabin']]\n",
    "test.head()"
   ]
  },
  {
   "cell_type": "markdown",
   "metadata": {},
   "source": [
    "## 2.- Entrenamiento de Modelo"
   ]
  },
  {
   "cell_type": "markdown",
   "metadata": {},
   "source": [
    "### 2.1.- Datasets de Entrenamiento y Validación"
   ]
  },
  {
   "cell_type": "markdown",
   "metadata": {},
   "source": [
    "##### Dataframe de Datos"
   ]
  },
  {
   "cell_type": "code",
   "execution_count": 16,
   "metadata": {
    "id": "TuDLgtzN0XAH"
   },
   "outputs": [],
   "source": [
    "train_data = train.iloc[:,0:len(train.columns)-1]"
   ]
  },
  {
   "cell_type": "markdown",
   "metadata": {},
   "source": [
    "##### Dataframe de Variable Objetivo"
   ]
  },
  {
   "cell_type": "code",
   "execution_count": 17,
   "metadata": {
    "id": "8PldY2Ry0W9R"
   },
   "outputs": [],
   "source": [
    "train_target = train.iloc[:,len(train.columns)-1]  "
   ]
  },
  {
   "cell_type": "markdown",
   "metadata": {},
   "source": [
    "##### Lista de Características de los Datos"
   ]
  },
  {
   "cell_type": "code",
   "execution_count": 18,
   "metadata": {},
   "outputs": [
    {
     "data": {
      "text/plain": [
       "array(['Sex', 'age_kid', 'SibSp', 'Parch', 'embarked_S', 'embarked_Q',\n",
       "       'fare_cheap', 'pclass_2', 'pclass_3', 'Cabin'], dtype=object)"
      ]
     },
     "execution_count": 18,
     "metadata": {},
     "output_type": "execute_result"
    }
   ],
   "source": [
    "features = train_data.columns.values\n",
    "features"
   ]
  },
  {
   "cell_type": "markdown",
   "metadata": {},
   "source": [
    "##### Separación de Dataset"
   ]
  },
  {
   "cell_type": "code",
   "execution_count": 19,
   "metadata": {
    "id": "CjHqSC2q0W6c"
   },
   "outputs": [],
   "source": [
    "X_train, X_test, y_train, y_test = train_test_split(train_data, train_target,test_size=0.3,random_state=12)"
   ]
  },
  {
   "cell_type": "markdown",
   "metadata": {},
   "source": [
    "##### Normalización de los Datos"
   ]
  },
  {
   "cell_type": "code",
   "execution_count": 20,
   "metadata": {
    "id": "dkURcC6h0W38"
   },
   "outputs": [],
   "source": [
    "# from sklearn.preprocessing import StandardScaler \n",
    "#scaler = StandardScaler()\n",
    "scaler = MinMaxScaler()\n",
    "scaler.fit(train_data)\n",
    "scaler.fit(test)\n",
    "\n",
    "test = scaler.transform(test)\n",
    "X_train = scaler.transform(X_train)  \n",
    "X_test = scaler.transform(X_test)"
   ]
  },
  {
   "cell_type": "markdown",
   "metadata": {
    "id": "sJADBlSe0W1x"
   },
   "source": [
    "### 2.2.-Entrenamiento del Modelo"
   ]
  },
  {
   "cell_type": "markdown",
   "metadata": {
    "id": "Buk4s1p00Wyv"
   },
   "source": [
    "##### Selección de Modelo Secuencial de Keras"
   ]
  },
  {
   "cell_type": "code",
   "execution_count": 21,
   "metadata": {
    "id": "z8J7s8hv0WwI"
   },
   "outputs": [
    {
     "name": "stderr",
     "output_type": "stream",
     "text": [
      "2022-11-20 20:08:24.523909: I tensorflow/core/platform/cpu_feature_guard.cc:193] This TensorFlow binary is optimized with oneAPI Deep Neural Network Library (oneDNN) to use the following CPU instructions in performance-critical operations:  SSE4.1 SSE4.2 AVX AVX2 FMA\n",
      "To enable them in other operations, rebuild TensorFlow with the appropriate compiler flags.\n",
      "2022-11-20 20:08:24.524654: I tensorflow/core/common_runtime/process_util.cc:146] Creating new thread pool with default inter op setting: 2. Tune using inter_op_parallelism_threads for best performance.\n"
     ]
    }
   ],
   "source": [
    "model = models.Sequential()\n",
    "best_test_accuracy = 0"
   ]
  },
  {
   "cell_type": "markdown",
   "metadata": {
    "id": "G1H87eGT0Wtb"
   },
   "source": [
    "##### Modelo 1  de Red Neuronal\n",
    "Se escoje un momedelo inicial de 3 capas con las siguientes características:\n",
    "\n",
    "- learning rate = 0.01\n",
    "- Capa 1 = 'relu', 20 nodos\n",
    "- Capa 2 = 'relu', 20 nodos\n",
    "- Capa 3 = 'sigmoid', 1 nodo"
   ]
  },
  {
   "cell_type": "code",
   "execution_count": 22,
   "metadata": {
    "id": "fsxsfIGb0WrC"
   },
   "outputs": [],
   "source": [
    "model = models.Sequential()\n",
    "\n",
    "# Capa 1\n",
    "model.add(Dense(20, kernel_initializer = 'uniform', activation='relu', input_dim=len(features)))\n",
    "# Capa 2\n",
    "model.add(Dense(20, kernel_initializer = 'uniform', activation='relu'))\n",
    "# Capa de Salida\n",
    "model.add(Dense(1, kernel_initializer = 'uniform', activation='sigmoid'))"
   ]
  },
  {
   "cell_type": "code",
   "execution_count": 23,
   "metadata": {
    "id": "RJ60Y9FF0WoZ"
   },
   "outputs": [
    {
     "name": "stdout",
     "output_type": "stream",
     "text": [
      "Epoch 1/20\n",
      "39/39 [==============================] - 0s 2ms/step - loss: 0.6312 - accuracy: 0.7079\n",
      "Epoch 2/20\n",
      "39/39 [==============================] - 0s 2ms/step - loss: 0.4483 - accuracy: 0.8186\n",
      "Epoch 3/20\n",
      "39/39 [==============================] - 0s 2ms/step - loss: 0.4458 - accuracy: 0.8186\n",
      "Epoch 4/20\n",
      "39/39 [==============================] - 0s 1ms/step - loss: 0.4203 - accuracy: 0.8283\n",
      "Epoch 5/20\n",
      "39/39 [==============================] - 0s 2ms/step - loss: 0.4220 - accuracy: 0.8299\n",
      "Epoch 6/20\n",
      "39/39 [==============================] - 0s 2ms/step - loss: 0.4102 - accuracy: 0.8427\n",
      "Epoch 7/20\n",
      "39/39 [==============================] - 0s 2ms/step - loss: 0.4084 - accuracy: 0.8266\n",
      "Epoch 8/20\n",
      "39/39 [==============================] - 0s 2ms/step - loss: 0.4017 - accuracy: 0.8427\n",
      "Epoch 9/20\n",
      "39/39 [==============================] - 0s 2ms/step - loss: 0.4033 - accuracy: 0.8427\n",
      "Epoch 10/20\n",
      "39/39 [==============================] - 0s 2ms/step - loss: 0.3982 - accuracy: 0.8347\n",
      "Epoch 11/20\n",
      "39/39 [==============================] - 0s 2ms/step - loss: 0.3940 - accuracy: 0.8347\n",
      "Epoch 12/20\n",
      "39/39 [==============================] - 0s 3ms/step - loss: 0.3956 - accuracy: 0.8347\n",
      "Epoch 13/20\n",
      "39/39 [==============================] - 0s 2ms/step - loss: 0.3901 - accuracy: 0.8379\n",
      "Epoch 14/20\n",
      "39/39 [==============================] - 0s 2ms/step - loss: 0.3900 - accuracy: 0.8347\n",
      "Epoch 15/20\n",
      "39/39 [==============================] - 0s 2ms/step - loss: 0.3872 - accuracy: 0.8443\n",
      "Epoch 16/20\n",
      "39/39 [==============================] - 0s 2ms/step - loss: 0.3875 - accuracy: 0.8443\n",
      "Epoch 17/20\n",
      "39/39 [==============================] - 0s 1ms/step - loss: 0.3844 - accuracy: 0.8459\n",
      "Epoch 18/20\n",
      "39/39 [==============================] - 0s 1ms/step - loss: 0.3844 - accuracy: 0.8443\n",
      "Epoch 19/20\n",
      "39/39 [==============================] - 0s 2ms/step - loss: 0.3865 - accuracy: 0.8331\n",
      "Epoch 20/20\n",
      "39/39 [==============================] - 0s 1ms/step - loss: 0.3883 - accuracy: 0.8459\n",
      "39/39 [==============================] - 0s 2ms/step - loss: 0.3737 - accuracy: 0.8475\n",
      "17/17 [==============================] - 0s 2ms/step - loss: 0.4631 - accuracy: 0.7873\n",
      "Training accuracy: 0.8475120663642883\n",
      "Testing accuracy: 0.7873134613037109\n"
     ]
    },
    {
     "data": {
      "image/png": "[encoded data removed]",
      "text/plain": [
       "<Figure size 1170x827 with 1 Axes>"
      ]
     },
     "metadata": {},
     "output_type": "display_data"
    }
   ],
   "source": [
    "# define our loss function and optimizer\n",
    "model.compile(loss='binary_crossentropy', optimizer=optimizers.Adam(learning_rate=0.01), metrics=['accuracy'])\n",
    "\n",
    "# train the parameters\n",
    "history = model.fit(X_train, y_train, epochs=20, batch_size=16)\n",
    "\n",
    "# evaluate accuracy\n",
    "train_acc = model.evaluate(X_train, y_train, batch_size=16)[1]\n",
    "test_acc = model.evaluate(X_test, y_test, batch_size=16)[1]\n",
    "print('Training accuracy: %s' % train_acc)\n",
    "print('Testing accuracy: %s' % test_acc)\n",
    "\n",
    "losses = history.history['loss']\n",
    "\n",
    "plt.plot(range(len(losses)), losses, 'r')\n",
    "plt.show()"
   ]
  },
  {
   "cell_type": "code",
   "execution_count": 24,
   "metadata": {},
   "outputs": [
    {
     "name": "stdout",
     "output_type": "stream",
     "text": [
      "MODELO:\n",
      "-------------------------------------------------------------------\n",
      "Model: \"sequential_1\"\n",
      "_________________________________________________________________\n",
      " Layer (type)                Output Shape              Param #   \n",
      "=================================================================\n",
      " dense (Dense)               (None, 20)                220       \n",
      "                                                                 \n",
      " dense_1 (Dense)             (None, 20)                420       \n",
      "                                                                 \n",
      " dense_2 (Dense)             (None, 1)                 21        \n",
      "                                                                 \n",
      "=================================================================\n",
      "Total params: 661\n",
      "Trainable params: 661\n",
      "Non-trainable params: 0\n",
      "_________________________________________________________________\n",
      "Función Activación Capa 1 = <function relu at 0x7fba1934d7a0>\n",
      "Función Activación Capa 2 = <function relu at 0x7fba1934d7a0>\n",
      "Función Activación Capa 3 = <function sigmoid at 0x7fba1934dcb0>\n",
      "\n",
      "Precisión:0.7873134613037109\n"
     ]
    }
   ],
   "source": [
    "if best_test_accuracy < test_acc:\n",
    "    best_test_accuracy = test_acc\n",
    "    model_best = model\n",
    "\n",
    "print(f'MODELO:\\n-------------------------------------------------------------------')\n",
    "model.summary()\n",
    "i=0\n",
    "for layer in model.layers:\n",
    "    i=i+1\n",
    "    print(f'Función Activación Capa {i} = {layer.activation}')\n",
    "print(f'\\nPrecisión:{test_acc}' ) "
   ]
  },
  {
   "cell_type": "markdown",
   "metadata": {
    "id": "4l4Q3fCY0WYo"
   },
   "source": [
    "##### Modelo 2 de Red Neuronal\n",
    "- learning rate = 0.008\n",
    "- Capa 1 = 'relu', 20 nodos\n",
    "- Capa 2 = 'relu', 20 nodos\n",
    "- Capa 3 = 'relu', 10 nodos\n",
    "- Capa 4 = 'relu', 20 nodos\n",
    "- Capa 5 = 'relu', 10 nodos\n",
    "- Capa 6 = 'sigmoid'"
   ]
  },
  {
   "cell_type": "code",
   "execution_count": 25,
   "metadata": {},
   "outputs": [],
   "source": [
    "model = models.Sequential()\n",
    "\n",
    "# Capa 1\n",
    "model.add(Dense(20, kernel_initializer = 'uniform', activation='relu', input_dim=len(features)))\n",
    "# Capa 2\n",
    "model.add(Dense(20, kernel_initializer = 'uniform', activation='relu'))\n",
    "# Capa 3\n",
    "model.add(Dense(10, kernel_initializer = 'uniform', activation='relu'))\n",
    "# Capa 4\n",
    "model.add(Dense(20, kernel_initializer = 'uniform', activation='relu'))\n",
    "# Capa 5\n",
    "model.add(Dense(10, kernel_initializer = 'uniform', activation='relu'))\n",
    "# Capa de Salida\n",
    "model.add(Dense(1, kernel_initializer = 'uniform', activation='sigmoid'))"
   ]
  },
  {
   "cell_type": "code",
   "execution_count": 26,
   "metadata": {},
   "outputs": [
    {
     "name": "stdout",
     "output_type": "stream",
     "text": [
      "Epoch 1/20\n",
      "39/39 [==============================] - 0s 5ms/step - loss: 0.6790 - accuracy: 0.6100\n",
      "Epoch 2/20\n",
      "39/39 [==============================] - 0s 2ms/step - loss: 0.5699 - accuracy: 0.6228\n",
      "Epoch 3/20\n",
      "39/39 [==============================] - 0s 2ms/step - loss: 0.5163 - accuracy: 0.7400\n",
      "Epoch 4/20\n",
      "39/39 [==============================] - 0s 2ms/step - loss: 0.5120 - accuracy: 0.7769\n",
      "Epoch 5/20\n",
      "39/39 [==============================] - 0s 2ms/step - loss: 0.4935 - accuracy: 0.7865\n",
      "Epoch 6/20\n",
      "39/39 [==============================] - 0s 2ms/step - loss: 0.5060 - accuracy: 0.7913\n",
      "Epoch 7/20\n",
      "39/39 [==============================] - 0s 3ms/step - loss: 0.5000 - accuracy: 0.7817\n",
      "Epoch 8/20\n",
      "39/39 [==============================] - 0s 2ms/step - loss: 0.4694 - accuracy: 0.8106\n",
      "Epoch 9/20\n",
      "39/39 [==============================] - 0s 2ms/step - loss: 0.4555 - accuracy: 0.8331\n",
      "Epoch 10/20\n",
      "39/39 [==============================] - 0s 3ms/step - loss: 0.4441 - accuracy: 0.8395\n",
      "Epoch 11/20\n",
      "39/39 [==============================] - 0s 2ms/step - loss: 0.4439 - accuracy: 0.8395\n",
      "Epoch 12/20\n",
      "39/39 [==============================] - 0s 1ms/step - loss: 0.4335 - accuracy: 0.8427\n",
      "Epoch 13/20\n",
      "39/39 [==============================] - 0s 2ms/step - loss: 0.4395 - accuracy: 0.8299\n",
      "Epoch 14/20\n",
      "39/39 [==============================] - 0s 1ms/step - loss: 0.4287 - accuracy: 0.8331\n",
      "Epoch 15/20\n",
      "39/39 [==============================] - 0s 2ms/step - loss: 0.4330 - accuracy: 0.8315\n",
      "Epoch 16/20\n",
      "39/39 [==============================] - 0s 2ms/step - loss: 0.4159 - accuracy: 0.8459\n",
      "Epoch 17/20\n",
      "39/39 [==============================] - 0s 2ms/step - loss: 0.4203 - accuracy: 0.8443\n",
      "Epoch 18/20\n",
      "39/39 [==============================] - 0s 2ms/step - loss: 0.4274 - accuracy: 0.8395\n",
      "Epoch 19/20\n",
      "39/39 [==============================] - 0s 2ms/step - loss: 0.4097 - accuracy: 0.8459\n",
      "Epoch 20/20\n",
      "39/39 [==============================] - 0s 4ms/step - loss: 0.4202 - accuracy: 0.8427\n",
      "39/39 [==============================] - 0s 2ms/step - loss: 0.4117 - accuracy: 0.8475\n",
      "17/17 [==============================] - 0s 3ms/step - loss: 0.4774 - accuracy: 0.7761\n",
      "Training accuracy: 0.8475120663642883\n",
      "Testing accuracy: 0.7761194109916687\n"
     ]
    },
    {
     "data": {
      "image/png": "[encoded data removed]",
      "text/plain": [
       "<Figure size 1170x827 with 1 Axes>"
      ]
     },
     "metadata": {},
     "output_type": "display_data"
    }
   ],
   "source": [
    "# define our loss function and optimizer\n",
    "model.compile(loss='binary_crossentropy', optimizer=optimizers.Adam(learning_rate=0.008), metrics=['accuracy'])\n",
    "\n",
    "# train the parameters\n",
    "history = model.fit(X_train, y_train, epochs=20, batch_size=16)\n",
    "\n",
    "# evaluate accuracy\n",
    "train_acc = model.evaluate(X_train, y_train, batch_size=16)[1]\n",
    "test_acc = model.evaluate(X_test, y_test, batch_size=16)[1]\n",
    "print('Training accuracy: %s' % train_acc)\n",
    "print('Testing accuracy: %s' % test_acc)\n",
    "\n",
    "losses = history.history['loss']\n",
    "\n",
    "plt.plot(range(len(losses)), losses, 'r')\n",
    "plt.show()"
   ]
  },
  {
   "cell_type": "code",
   "execution_count": 27,
   "metadata": {},
   "outputs": [
    {
     "name": "stdout",
     "output_type": "stream",
     "text": [
      "MODELO:\n",
      "-------------------------------------------------------------------\n",
      "Model: \"sequential_2\"\n",
      "_________________________________________________________________\n",
      " Layer (type)                Output Shape              Param #   \n",
      "=================================================================\n",
      " dense_3 (Dense)             (None, 20)                220       \n",
      "                                                                 \n",
      " dense_4 (Dense)             (None, 20)                420       \n",
      "                                                                 \n",
      " dense_5 (Dense)             (None, 10)                210       \n",
      "                                                                 \n",
      " dense_6 (Dense)             (None, 20)                220       \n",
      "                                                                 \n",
      " dense_7 (Dense)             (None, 10)                210       \n",
      "                                                                 \n",
      " dense_8 (Dense)             (None, 1)                 11        \n",
      "                                                                 \n",
      "=================================================================\n",
      "Total params: 1,291\n",
      "Trainable params: 1,291\n",
      "Non-trainable params: 0\n",
      "_________________________________________________________________\n",
      "Función Activación Capa 1 = <function relu at 0x7fba1934d7a0>\n",
      "Función Activación Capa 2 = <function relu at 0x7fba1934d7a0>\n",
      "Función Activación Capa 3 = <function relu at 0x7fba1934d7a0>\n",
      "Función Activación Capa 4 = <function relu at 0x7fba1934d7a0>\n",
      "Función Activación Capa 5 = <function relu at 0x7fba1934d7a0>\n",
      "Función Activación Capa 6 = <function sigmoid at 0x7fba1934dcb0>\n",
      "\n",
      "Precisión:0.7761194109916687\n"
     ]
    }
   ],
   "source": [
    "if best_test_accuracy < test_acc:\n",
    "    best_test_accuracy = test_acc\n",
    "    model_best = model\n",
    "\n",
    "print(f'MODELO:\\n-------------------------------------------------------------------')\n",
    "model.summary()\n",
    "i=0\n",
    "for layer in model.layers:\n",
    "    i=i+1\n",
    "    print(f'Función Activación Capa {i} = {layer.activation}')\n",
    "print(f'\\nPrecisión:{test_acc}' ) "
   ]
  },
  {
   "cell_type": "markdown",
   "metadata": {},
   "source": [
    "##### Modelo 3  de Red Neuronal\n",
    "- learning rate = 0.01\n",
    "- Capa 1 = 'relu'\n",
    "- Capa 2 = 'sigmoid'\n",
    "- Capa 3 = 'sigmoid'"
   ]
  },
  {
   "cell_type": "code",
   "execution_count": 28,
   "metadata": {},
   "outputs": [],
   "source": [
    "model = models.Sequential()\n",
    "\n",
    "# Capa 1\n",
    "model.add(Dense(20, kernel_initializer = 'uniform', activation='relu', input_dim=len(features)))\n",
    "# Capa 2\n",
    "model.add(Dense(20, kernel_initializer = 'uniform', activation='sigmoid'))\n",
    "# Capa de Salida\n",
    "model.add(Dense(1, kernel_initializer = 'uniform', activation='sigmoid'))"
   ]
  },
  {
   "cell_type": "code",
   "execution_count": 29,
   "metadata": {},
   "outputs": [
    {
     "name": "stdout",
     "output_type": "stream",
     "text": [
      "Epoch 1/20\n",
      "39/39 [==============================] - 0s 2ms/step - loss: 0.6614 - accuracy: 0.6196\n",
      "Epoch 2/20\n",
      "39/39 [==============================] - 0s 1ms/step - loss: 0.5458 - accuracy: 0.7207\n",
      "Epoch 3/20\n",
      "39/39 [==============================] - 0s 2ms/step - loss: 0.4574 - accuracy: 0.8331\n",
      "Epoch 4/20\n",
      "39/39 [==============================] - 0s 2ms/step - loss: 0.4474 - accuracy: 0.8299\n",
      "Epoch 5/20\n",
      "39/39 [==============================] - 0s 2ms/step - loss: 0.4329 - accuracy: 0.8234\n",
      "Epoch 6/20\n",
      "39/39 [==============================] - 0s 2ms/step - loss: 0.4265 - accuracy: 0.8266\n",
      "Epoch 7/20\n",
      "39/39 [==============================] - 0s 3ms/step - loss: 0.4365 - accuracy: 0.8186\n",
      "Epoch 8/20\n",
      "39/39 [==============================] - 0s 2ms/step - loss: 0.4234 - accuracy: 0.8315\n",
      "Epoch 9/20\n",
      "39/39 [==============================] - 0s 1ms/step - loss: 0.4221 - accuracy: 0.8331\n",
      "Epoch 10/20\n",
      "39/39 [==============================] - 0s 1ms/step - loss: 0.4267 - accuracy: 0.8331\n",
      "Epoch 11/20\n",
      "39/39 [==============================] - 0s 1ms/step - loss: 0.4200 - accuracy: 0.8379\n",
      "Epoch 12/20\n",
      "39/39 [==============================] - 0s 1ms/step - loss: 0.4157 - accuracy: 0.8379\n",
      "Epoch 13/20\n",
      "39/39 [==============================] - 0s 1ms/step - loss: 0.4194 - accuracy: 0.8379\n",
      "Epoch 14/20\n",
      "39/39 [==============================] - 0s 1ms/step - loss: 0.4175 - accuracy: 0.8315\n",
      "Epoch 15/20\n",
      "39/39 [==============================] - 0s 1ms/step - loss: 0.4159 - accuracy: 0.8347\n",
      "Epoch 16/20\n",
      "39/39 [==============================] - 0s 1ms/step - loss: 0.4238 - accuracy: 0.8266\n",
      "Epoch 17/20\n",
      "39/39 [==============================] - 0s 2ms/step - loss: 0.4239 - accuracy: 0.8347\n",
      "Epoch 18/20\n",
      "39/39 [==============================] - 0s 2ms/step - loss: 0.4186 - accuracy: 0.8315\n",
      "Epoch 19/20\n",
      "39/39 [==============================] - 0s 2ms/step - loss: 0.4149 - accuracy: 0.8395\n",
      "Epoch 20/20\n",
      "39/39 [==============================] - 0s 1ms/step - loss: 0.4129 - accuracy: 0.8379\n",
      "39/39 [==============================] - 0s 2ms/step - loss: 0.4160 - accuracy: 0.8250\n",
      "17/17 [==============================] - 0s 1ms/step - loss: 0.4781 - accuracy: 0.7985\n",
      "Training accuracy: 0.8250401020050049\n",
      "Testing accuracy: 0.7985074520111084\n"
     ]
    },
    {
     "data": {
      "image/png": "[encoded data removed]",
      "text/plain": [
       "<Figure size 1170x827 with 1 Axes>"
      ]
     },
     "metadata": {},
     "output_type": "display_data"
    }
   ],
   "source": [
    "# define our loss function and optimizer\n",
    "model.compile(loss='binary_crossentropy', optimizer=optimizers.Adam(learning_rate=0.01), metrics=['accuracy'])\n",
    "\n",
    "# train the parameters\n",
    "history = model.fit(X_train, y_train, epochs=20, batch_size=16)\n",
    "\n",
    "# evaluate accuracy\n",
    "train_acc = model.evaluate(X_train, y_train, batch_size=16)[1]\n",
    "test_acc = model.evaluate(X_test, y_test, batch_size=16)[1]\n",
    "print('Training accuracy: %s' % train_acc)\n",
    "print('Testing accuracy: %s' % test_acc)\n",
    "\n",
    "losses = history.history['loss']\n",
    "\n",
    "plt.plot(range(len(losses)), losses, 'r')\n",
    "plt.show()"
   ]
  },
  {
   "cell_type": "code",
   "execution_count": 30,
   "metadata": {},
   "outputs": [
    {
     "name": "stdout",
     "output_type": "stream",
     "text": [
      "MODELO:\n",
      "-------------------------------------------------------------------\n",
      "Model: \"sequential_3\"\n",
      "_________________________________________________________________\n",
      " Layer (type)                Output Shape              Param #   \n",
      "=================================================================\n",
      " dense_9 (Dense)             (None, 20)                220       \n",
      "                                                                 \n",
      " dense_10 (Dense)            (None, 20)                420       \n",
      "                                                                 \n",
      " dense_11 (Dense)            (None, 1)                 21        \n",
      "                                                                 \n",
      "=================================================================\n",
      "Total params: 661\n",
      "Trainable params: 661\n",
      "Non-trainable params: 0\n",
      "_________________________________________________________________\n",
      "Función Activación Capa 1 = <function relu at 0x7fba1934d7a0>\n",
      "Función Activación Capa 2 = <function sigmoid at 0x7fba1934dcb0>\n",
      "Función Activación Capa 3 = <function sigmoid at 0x7fba1934dcb0>\n",
      "\n",
      "Precisión:0.7985074520111084\n"
     ]
    }
   ],
   "source": [
    "if best_test_accuracy < test_acc:\n",
    "    best_test_accuracy = test_acc\n",
    "    model_best = model\n",
    "\n",
    "print(f'MODELO:\\n-------------------------------------------------------------------')\n",
    "model.summary()\n",
    "i=0\n",
    "for layer in model.layers:\n",
    "    i=i+1\n",
    "    print(f'Función Activación Capa {i} = {layer.activation}')\n",
    "print(f'\\nPrecisión:{test_acc}' ) "
   ]
  },
  {
   "cell_type": "markdown",
   "metadata": {},
   "source": [
    "##### Modelo 4 de Red Neuronal\n",
    "- learning rate = 0.009\n",
    "- Capa 1 = 'relu', 20 nodos\n",
    "- Capa 2 = 'relu', 20 nodos\n",
    "- Capa 3 = 'relu', 10 nodos\n",
    "- Capa 4 = 'relu', 20 nodos\n",
    "- Capa 5 = 'relu', 10 nodos\n",
    "- Capa 6 = 'sigmoid'"
   ]
  },
  {
   "cell_type": "code",
   "execution_count": 31,
   "metadata": {},
   "outputs": [],
   "source": [
    "model = models.Sequential()\n",
    "\n",
    "# Capa 1\n",
    "model.add(Dense(20, kernel_initializer = 'uniform', activation='relu', input_dim=len(features)))\n",
    "# Capa 2\n",
    "model.add(Dense(20, kernel_initializer = 'uniform', activation='relu'))\n",
    "# Capa 3\n",
    "model.add(Dense(10, kernel_initializer = 'uniform', activation='relu'))\n",
    "# Capa 4\n",
    "model.add(Dense(20, kernel_initializer = 'uniform', activation='relu'))\n",
    "# Capa 5\n",
    "model.add(Dense(10, kernel_initializer = 'uniform', activation='relu'))\n",
    "# Capa de Salida\n",
    "model.add(Dense(1, kernel_initializer = 'uniform', activation='sigmoid'))"
   ]
  },
  {
   "cell_type": "code",
   "execution_count": 32,
   "metadata": {},
   "outputs": [
    {
     "name": "stdout",
     "output_type": "stream",
     "text": [
      "Epoch 1/20\n",
      "39/39 [==============================] - 0s 3ms/step - loss: 0.6681 - accuracy: 0.6228\n",
      "Epoch 2/20\n",
      "39/39 [==============================] - 0s 2ms/step - loss: 0.5487 - accuracy: 0.6437\n",
      "Epoch 3/20\n",
      "39/39 [==============================] - 0s 2ms/step - loss: 0.4830 - accuracy: 0.8186\n",
      "Epoch 4/20\n",
      "39/39 [==============================] - 0s 3ms/step - loss: 0.4673 - accuracy: 0.8138\n",
      "Epoch 5/20\n",
      "39/39 [==============================] - 0s 2ms/step - loss: 0.4348 - accuracy: 0.8122\n",
      "Epoch 6/20\n",
      "39/39 [==============================] - 0s 2ms/step - loss: 0.4316 - accuracy: 0.8299\n",
      "Epoch 7/20\n",
      "39/39 [==============================] - 0s 3ms/step - loss: 0.4376 - accuracy: 0.8058\n",
      "Epoch 8/20\n",
      "39/39 [==============================] - 0s 3ms/step - loss: 0.4392 - accuracy: 0.8234\n",
      "Epoch 9/20\n",
      "39/39 [==============================] - 0s 3ms/step - loss: 0.4179 - accuracy: 0.8299\n",
      "Epoch 10/20\n",
      "39/39 [==============================] - 0s 2ms/step - loss: 0.4423 - accuracy: 0.8347\n",
      "Epoch 11/20\n",
      "39/39 [==============================] - 0s 2ms/step - loss: 0.4066 - accuracy: 0.8363\n",
      "Epoch 12/20\n",
      "39/39 [==============================] - 0s 2ms/step - loss: 0.4007 - accuracy: 0.8395\n",
      "Epoch 13/20\n",
      "39/39 [==============================] - 0s 1ms/step - loss: 0.4111 - accuracy: 0.8266\n",
      "Epoch 14/20\n",
      "39/39 [==============================] - 0s 2ms/step - loss: 0.3993 - accuracy: 0.8379\n",
      "Epoch 15/20\n",
      "39/39 [==============================] - 0s 2ms/step - loss: 0.4089 - accuracy: 0.8363\n",
      "Epoch 16/20\n",
      "39/39 [==============================] - 0s 2ms/step - loss: 0.4030 - accuracy: 0.8283\n",
      "Epoch 17/20\n",
      "39/39 [==============================] - 0s 2ms/step - loss: 0.4037 - accuracy: 0.8379\n",
      "Epoch 18/20\n",
      "39/39 [==============================] - 0s 2ms/step - loss: 0.4063 - accuracy: 0.8299\n",
      "Epoch 19/20\n",
      "39/39 [==============================] - 0s 2ms/step - loss: 0.3914 - accuracy: 0.8491\n",
      "Epoch 20/20\n",
      "39/39 [==============================] - 0s 2ms/step - loss: 0.3974 - accuracy: 0.8379\n",
      "39/39 [==============================] - 0s 2ms/step - loss: 0.3995 - accuracy: 0.8491\n",
      "17/17 [==============================] - 0s 2ms/step - loss: 0.4887 - accuracy: 0.7799\n",
      "Training accuracy: 0.8491171598434448\n",
      "Testing accuracy: 0.7798507213592529\n"
     ]
    },
    {
     "data": {
      "image/png": "[encoded data removed]",
      "text/plain": [
       "<Figure size 1170x827 with 1 Axes>"
      ]
     },
     "metadata": {},
     "output_type": "display_data"
    }
   ],
   "source": [
    "# define our loss function and optimizer\n",
    "model.compile(loss='binary_crossentropy', optimizer=optimizers.Adam(learning_rate=0.009), metrics=['accuracy'])\n",
    "\n",
    "# train the parameters\n",
    "history = model.fit(X_train, y_train, epochs=20, batch_size=16)\n",
    "\n",
    "# evaluate accuracy\n",
    "train_acc = model.evaluate(X_train, y_train, batch_size=16)[1]\n",
    "test_acc = model.evaluate(X_test, y_test, batch_size=16)[1]\n",
    "print('Training accuracy: %s' % train_acc)\n",
    "print('Testing accuracy: %s' % test_acc)\n",
    "\n",
    "losses = history.history['loss']\n",
    "\n",
    "plt.plot(range(len(losses)), losses, 'r')\n",
    "plt.show()"
   ]
  },
  {
   "cell_type": "code",
   "execution_count": 33,
   "metadata": {},
   "outputs": [
    {
     "name": "stdout",
     "output_type": "stream",
     "text": [
      "MODELO:\n",
      "-------------------------------------------------------------------\n",
      "Model: \"sequential_4\"\n",
      "_________________________________________________________________\n",
      " Layer (type)                Output Shape              Param #   \n",
      "=================================================================\n",
      " dense_12 (Dense)            (None, 20)                220       \n",
      "                                                                 \n",
      " dense_13 (Dense)            (None, 20)                420       \n",
      "                                                                 \n",
      " dense_14 (Dense)            (None, 10)                210       \n",
      "                                                                 \n",
      " dense_15 (Dense)            (None, 20)                220       \n",
      "                                                                 \n",
      " dense_16 (Dense)            (None, 10)                210       \n",
      "                                                                 \n",
      " dense_17 (Dense)            (None, 1)                 11        \n",
      "                                                                 \n",
      "=================================================================\n",
      "Total params: 1,291\n",
      "Trainable params: 1,291\n",
      "Non-trainable params: 0\n",
      "_________________________________________________________________\n",
      "Función Activación Capa 1 = <function relu at 0x7fba1934d7a0>\n",
      "Función Activación Capa 2 = <function relu at 0x7fba1934d7a0>\n",
      "Función Activación Capa 3 = <function relu at 0x7fba1934d7a0>\n",
      "Función Activación Capa 4 = <function relu at 0x7fba1934d7a0>\n",
      "Función Activación Capa 5 = <function relu at 0x7fba1934d7a0>\n",
      "Función Activación Capa 6 = <function sigmoid at 0x7fba1934dcb0>\n",
      "\n",
      "Precisión:0.7798507213592529\n"
     ]
    }
   ],
   "source": [
    "if best_test_accuracy < test_acc:\n",
    "    best_test_accuracy = test_acc\n",
    "    model_best = model\n",
    "\n",
    "print(f'MODELO:\\n-------------------------------------------------------------------')\n",
    "model.summary()\n",
    "i=0\n",
    "for layer in model.layers:\n",
    "    i=i+1\n",
    "    print(f'Función Activación Capa {i} = {layer.activation}')\n",
    "print(f'\\nPrecisión:{test_acc}' ) "
   ]
  },
  {
   "cell_type": "markdown",
   "metadata": {},
   "source": [
    "## 3.- Pruebas de Modelo"
   ]
  },
  {
   "cell_type": "markdown",
   "metadata": {},
   "source": [
    "De acuerdo a las pruebas realizadas con variados modelos con diferentes características y ajustes de parámetros, hemos optado por considerar cuatro modelos de diferentes caracteristicas( learning rate, cantidad de capas, función de activación y cantidad de nodos).\n",
    "\n",
    "En base a lo anterior, los criterios utilizados para realizar el ajuste y selección de los modelos fue de acuerdo a los siguientes criterios:\n",
    " \n",
    " ##### 1.- Al aplicar una función de activación a “sigmoid” estamos proyectando una salida que sea de 0 a 1 y eso nos ayudaría de mejor manera a clasificar ya sea si sobrevive (1) o no sobrevive(0).\n",
    "##### 2.- El optimizador Adam combina las bondades de Adagrad y RMSprop este algoritmo que es mas reciente que los anteriores y esta construido en base a sus predecesores se esperaria que su rendimiento sea superior.\n",
    "##### 3.- Para las funciones de coste se utilizara binary cross entropy para el clasificador binario."
   ]
  },
  {
   "cell_type": "code",
   "execution_count": 34,
   "metadata": {},
   "outputs": [
    {
     "name": "stdout",
     "output_type": "stream",
     "text": [
      "MEJOR MODELO:\n",
      "-------------------------------------------------------------------\n",
      "Model: \"sequential_3\"\n",
      "_________________________________________________________________\n",
      " Layer (type)                Output Shape              Param #   \n",
      "=================================================================\n",
      " dense_9 (Dense)             (None, 20)                220       \n",
      "                                                                 \n",
      " dense_10 (Dense)            (None, 20)                420       \n",
      "                                                                 \n",
      " dense_11 (Dense)            (None, 1)                 21        \n",
      "                                                                 \n",
      "=================================================================\n",
      "Total params: 661\n",
      "Trainable params: 661\n",
      "Non-trainable params: 0\n",
      "_________________________________________________________________\n",
      "Función Activación Capa 1 = <function relu at 0x7fba1934d7a0>\n",
      "Función Activación Capa 2 = <function sigmoid at 0x7fba1934dcb0>\n",
      "Función Activación Capa 3 = <function sigmoid at 0x7fba1934dcb0>\n",
      "\n",
      "Precisión:0.7985074520111084\n"
     ]
    }
   ],
   "source": [
    "print(f'MEJOR MODELO:\\n-------------------------------------------------------------------')\n",
    "model_best.summary()\n",
    "i=0\n",
    "for layer in model_best.layers:\n",
    "    i=i+1\n",
    "    print(f'Función Activación Capa {i} = {layer.activation}')\n",
    "print(f'\\nPrecisión:{best_test_accuracy}' ) "
   ]
  },
  {
   "cell_type": "code",
   "execution_count": 35,
   "metadata": {},
   "outputs": [
    {
     "name": "stdout",
     "output_type": "stream",
     "text": [
      "14/14 [==============================] - 0s 2ms/step\n"
     ]
    }
   ],
   "source": [
    "predict_x=((model_best.predict(test) > 0.5).astype('int32'))\n"
   ]
  },
  {
   "cell_type": "code",
   "execution_count": 64,
   "metadata": {},
   "outputs": [
    {
     "data": {
      "text/plain": [
       "numpy.ndarray"
      ]
     },
     "execution_count": 64,
     "metadata": {},
     "output_type": "execute_result"
    }
   ],
   "source": [
    "type(test)"
   ]
  },
  {
   "cell_type": "code",
   "execution_count": 36,
   "metadata": {},
   "outputs": [],
   "source": [
    "test_survived = pd.DataFrame(predict_x, columns=['Survived'])"
   ]
  },
  {
   "cell_type": "code",
   "execution_count": 37,
   "metadata": {},
   "outputs": [
    {
     "data": {
      "text/plain": [
       "Survived\n",
       "0           253\n",
       "1           165\n",
       "dtype: int64"
      ]
     },
     "execution_count": 37,
     "metadata": {},
     "output_type": "execute_result"
    }
   ],
   "source": [
    "test_survived.value_counts()"
   ]
  },
  {
   "cell_type": "code",
   "execution_count": 38,
   "metadata": {},
   "outputs": [],
   "source": [
    "test_df = pd.DataFrame(test, columns= ['Sex', 'age_kid','SibSp','Parch','embarked_S','embarked_Q','fare_cheap','pclass_2','pclass_3','Cabin'])"
   ]
  },
  {
   "cell_type": "code",
   "execution_count": 39,
   "metadata": {},
   "outputs": [
    {
     "data": {
      "text/html": [
       "<div>\n",
       "<style scoped>\n",
       "    .dataframe tbody tr th:only-of-type {\n",
       "        vertical-align: middle;\n",
       "    }\n",
       "\n",
       "    .dataframe tbody tr th {\n",
       "        vertical-align: top;\n",
       "    }\n",
       "\n",
       "    .dataframe thead th {\n",
       "        text-align: right;\n",
       "    }\n",
       "</style>\n",
       "<table border=\"1\" class=\"dataframe\">\n",
       "  <thead>\n",
       "    <tr style=\"text-align: right;\">\n",
       "      <th></th>\n",
       "      <th>Sex</th>\n",
       "      <th>age_kid</th>\n",
       "      <th>SibSp</th>\n",
       "      <th>Parch</th>\n",
       "      <th>embarked_S</th>\n",
       "      <th>embarked_Q</th>\n",
       "      <th>fare_cheap</th>\n",
       "      <th>pclass_2</th>\n",
       "      <th>pclass_3</th>\n",
       "      <th>Cabin</th>\n",
       "    </tr>\n",
       "  </thead>\n",
       "  <tbody>\n",
       "    <tr>\n",
       "      <th>0</th>\n",
       "      <td>1.0</td>\n",
       "      <td>0.0</td>\n",
       "      <td>0.000</td>\n",
       "      <td>0.000000</td>\n",
       "      <td>0.0</td>\n",
       "      <td>1.0</td>\n",
       "      <td>1.0</td>\n",
       "      <td>0.0</td>\n",
       "      <td>1.0</td>\n",
       "      <td>0.0</td>\n",
       "    </tr>\n",
       "    <tr>\n",
       "      <th>1</th>\n",
       "      <td>0.0</td>\n",
       "      <td>0.0</td>\n",
       "      <td>0.125</td>\n",
       "      <td>0.000000</td>\n",
       "      <td>1.0</td>\n",
       "      <td>0.0</td>\n",
       "      <td>1.0</td>\n",
       "      <td>0.0</td>\n",
       "      <td>1.0</td>\n",
       "      <td>0.0</td>\n",
       "    </tr>\n",
       "    <tr>\n",
       "      <th>2</th>\n",
       "      <td>1.0</td>\n",
       "      <td>0.0</td>\n",
       "      <td>0.000</td>\n",
       "      <td>0.000000</td>\n",
       "      <td>0.0</td>\n",
       "      <td>1.0</td>\n",
       "      <td>1.0</td>\n",
       "      <td>1.0</td>\n",
       "      <td>0.0</td>\n",
       "      <td>0.0</td>\n",
       "    </tr>\n",
       "    <tr>\n",
       "      <th>3</th>\n",
       "      <td>1.0</td>\n",
       "      <td>0.0</td>\n",
       "      <td>0.000</td>\n",
       "      <td>0.000000</td>\n",
       "      <td>1.0</td>\n",
       "      <td>0.0</td>\n",
       "      <td>1.0</td>\n",
       "      <td>0.0</td>\n",
       "      <td>1.0</td>\n",
       "      <td>0.0</td>\n",
       "    </tr>\n",
       "    <tr>\n",
       "      <th>4</th>\n",
       "      <td>0.0</td>\n",
       "      <td>0.0</td>\n",
       "      <td>0.125</td>\n",
       "      <td>0.111111</td>\n",
       "      <td>1.0</td>\n",
       "      <td>0.0</td>\n",
       "      <td>1.0</td>\n",
       "      <td>0.0</td>\n",
       "      <td>1.0</td>\n",
       "      <td>0.0</td>\n",
       "    </tr>\n",
       "  </tbody>\n",
       "</table>\n",
       "</div>"
      ],
      "text/plain": [
       "   Sex  age_kid  SibSp     Parch  embarked_S  embarked_Q  fare_cheap  \\\n",
       "0  1.0      0.0  0.000  0.000000         0.0         1.0         1.0   \n",
       "1  0.0      0.0  0.125  0.000000         1.0         0.0         1.0   \n",
       "2  1.0      0.0  0.000  0.000000         0.0         1.0         1.0   \n",
       "3  1.0      0.0  0.000  0.000000         1.0         0.0         1.0   \n",
       "4  0.0      0.0  0.125  0.111111         1.0         0.0         1.0   \n",
       "\n",
       "   pclass_2  pclass_3  Cabin  \n",
       "0       0.0       1.0    0.0  \n",
       "1       0.0       1.0    0.0  \n",
       "2       1.0       0.0    0.0  \n",
       "3       0.0       1.0    0.0  \n",
       "4       0.0       1.0    0.0  "
      ]
     },
     "execution_count": 39,
     "metadata": {},
     "output_type": "execute_result"
    }
   ],
   "source": [
    "test_df.head()"
   ]
  },
  {
   "cell_type": "code",
   "execution_count": 40,
   "metadata": {},
   "outputs": [],
   "source": [
    "test_complete = pd.concat([test_df, test_survived], axis=1)"
   ]
  },
  {
   "cell_type": "code",
   "execution_count": 41,
   "metadata": {},
   "outputs": [
    {
     "data": {
      "text/html": [
       "<div>\n",
       "<style scoped>\n",
       "    .dataframe tbody tr th:only-of-type {\n",
       "        vertical-align: middle;\n",
       "    }\n",
       "\n",
       "    .dataframe tbody tr th {\n",
       "        vertical-align: top;\n",
       "    }\n",
       "\n",
       "    .dataframe thead th {\n",
       "        text-align: right;\n",
       "    }\n",
       "</style>\n",
       "<table border=\"1\" class=\"dataframe\">\n",
       "  <thead>\n",
       "    <tr style=\"text-align: right;\">\n",
       "      <th></th>\n",
       "      <th>Sex</th>\n",
       "      <th>age_kid</th>\n",
       "      <th>SibSp</th>\n",
       "      <th>Parch</th>\n",
       "      <th>embarked_S</th>\n",
       "      <th>embarked_Q</th>\n",
       "      <th>fare_cheap</th>\n",
       "      <th>pclass_2</th>\n",
       "      <th>pclass_3</th>\n",
       "      <th>Cabin</th>\n",
       "      <th>Survived</th>\n",
       "    </tr>\n",
       "  </thead>\n",
       "  <tbody>\n",
       "    <tr>\n",
       "      <th>0</th>\n",
       "      <td>1.0</td>\n",
       "      <td>0.0</td>\n",
       "      <td>0.000</td>\n",
       "      <td>0.000000</td>\n",
       "      <td>0.0</td>\n",
       "      <td>1.0</td>\n",
       "      <td>1.0</td>\n",
       "      <td>0.0</td>\n",
       "      <td>1.0</td>\n",
       "      <td>0.0</td>\n",
       "      <td>0</td>\n",
       "    </tr>\n",
       "    <tr>\n",
       "      <th>1</th>\n",
       "      <td>0.0</td>\n",
       "      <td>0.0</td>\n",
       "      <td>0.125</td>\n",
       "      <td>0.000000</td>\n",
       "      <td>1.0</td>\n",
       "      <td>0.0</td>\n",
       "      <td>1.0</td>\n",
       "      <td>0.0</td>\n",
       "      <td>1.0</td>\n",
       "      <td>0.0</td>\n",
       "      <td>0</td>\n",
       "    </tr>\n",
       "    <tr>\n",
       "      <th>2</th>\n",
       "      <td>1.0</td>\n",
       "      <td>0.0</td>\n",
       "      <td>0.000</td>\n",
       "      <td>0.000000</td>\n",
       "      <td>0.0</td>\n",
       "      <td>1.0</td>\n",
       "      <td>1.0</td>\n",
       "      <td>1.0</td>\n",
       "      <td>0.0</td>\n",
       "      <td>0.0</td>\n",
       "      <td>0</td>\n",
       "    </tr>\n",
       "    <tr>\n",
       "      <th>3</th>\n",
       "      <td>1.0</td>\n",
       "      <td>0.0</td>\n",
       "      <td>0.000</td>\n",
       "      <td>0.000000</td>\n",
       "      <td>1.0</td>\n",
       "      <td>0.0</td>\n",
       "      <td>1.0</td>\n",
       "      <td>0.0</td>\n",
       "      <td>1.0</td>\n",
       "      <td>0.0</td>\n",
       "      <td>0</td>\n",
       "    </tr>\n",
       "    <tr>\n",
       "      <th>4</th>\n",
       "      <td>0.0</td>\n",
       "      <td>0.0</td>\n",
       "      <td>0.125</td>\n",
       "      <td>0.111111</td>\n",
       "      <td>1.0</td>\n",
       "      <td>0.0</td>\n",
       "      <td>1.0</td>\n",
       "      <td>0.0</td>\n",
       "      <td>1.0</td>\n",
       "      <td>0.0</td>\n",
       "      <td>0</td>\n",
       "    </tr>\n",
       "    <tr>\n",
       "      <th>...</th>\n",
       "      <td>...</td>\n",
       "      <td>...</td>\n",
       "      <td>...</td>\n",
       "      <td>...</td>\n",
       "      <td>...</td>\n",
       "      <td>...</td>\n",
       "      <td>...</td>\n",
       "      <td>...</td>\n",
       "      <td>...</td>\n",
       "      <td>...</td>\n",
       "      <td>...</td>\n",
       "    </tr>\n",
       "    <tr>\n",
       "      <th>413</th>\n",
       "      <td>1.0</td>\n",
       "      <td>0.0</td>\n",
       "      <td>0.000</td>\n",
       "      <td>0.000000</td>\n",
       "      <td>1.0</td>\n",
       "      <td>0.0</td>\n",
       "      <td>1.0</td>\n",
       "      <td>0.0</td>\n",
       "      <td>1.0</td>\n",
       "      <td>0.0</td>\n",
       "      <td>0</td>\n",
       "    </tr>\n",
       "    <tr>\n",
       "      <th>414</th>\n",
       "      <td>0.0</td>\n",
       "      <td>0.0</td>\n",
       "      <td>0.000</td>\n",
       "      <td>0.000000</td>\n",
       "      <td>0.0</td>\n",
       "      <td>0.0</td>\n",
       "      <td>0.0</td>\n",
       "      <td>0.0</td>\n",
       "      <td>0.0</td>\n",
       "      <td>1.0</td>\n",
       "      <td>1</td>\n",
       "    </tr>\n",
       "    <tr>\n",
       "      <th>415</th>\n",
       "      <td>1.0</td>\n",
       "      <td>0.0</td>\n",
       "      <td>0.000</td>\n",
       "      <td>0.000000</td>\n",
       "      <td>1.0</td>\n",
       "      <td>0.0</td>\n",
       "      <td>1.0</td>\n",
       "      <td>0.0</td>\n",
       "      <td>1.0</td>\n",
       "      <td>0.0</td>\n",
       "      <td>0</td>\n",
       "    </tr>\n",
       "    <tr>\n",
       "      <th>416</th>\n",
       "      <td>1.0</td>\n",
       "      <td>0.0</td>\n",
       "      <td>0.000</td>\n",
       "      <td>0.000000</td>\n",
       "      <td>1.0</td>\n",
       "      <td>0.0</td>\n",
       "      <td>1.0</td>\n",
       "      <td>0.0</td>\n",
       "      <td>1.0</td>\n",
       "      <td>0.0</td>\n",
       "      <td>0</td>\n",
       "    </tr>\n",
       "    <tr>\n",
       "      <th>417</th>\n",
       "      <td>1.0</td>\n",
       "      <td>0.0</td>\n",
       "      <td>0.125</td>\n",
       "      <td>0.111111</td>\n",
       "      <td>0.0</td>\n",
       "      <td>0.0</td>\n",
       "      <td>1.0</td>\n",
       "      <td>0.0</td>\n",
       "      <td>1.0</td>\n",
       "      <td>0.0</td>\n",
       "      <td>0</td>\n",
       "    </tr>\n",
       "  </tbody>\n",
       "</table>\n",
       "<p>418 rows × 11 columns</p>\n",
       "</div>"
      ],
      "text/plain": [
       "     Sex  age_kid  SibSp     Parch  embarked_S  embarked_Q  fare_cheap  \\\n",
       "0    1.0      0.0  0.000  0.000000         0.0         1.0         1.0   \n",
       "1    0.0      0.0  0.125  0.000000         1.0         0.0         1.0   \n",
       "2    1.0      0.0  0.000  0.000000         0.0         1.0         1.0   \n",
       "3    1.0      0.0  0.000  0.000000         1.0         0.0         1.0   \n",
       "4    0.0      0.0  0.125  0.111111         1.0         0.0         1.0   \n",
       "..   ...      ...    ...       ...         ...         ...         ...   \n",
       "413  1.0      0.0  0.000  0.000000         1.0         0.0         1.0   \n",
       "414  0.0      0.0  0.000  0.000000         0.0         0.0         0.0   \n",
       "415  1.0      0.0  0.000  0.000000         1.0         0.0         1.0   \n",
       "416  1.0      0.0  0.000  0.000000         1.0         0.0         1.0   \n",
       "417  1.0      0.0  0.125  0.111111         0.0         0.0         1.0   \n",
       "\n",
       "     pclass_2  pclass_3  Cabin  Survived  \n",
       "0         0.0       1.0    0.0         0  \n",
       "1         0.0       1.0    0.0         0  \n",
       "2         1.0       0.0    0.0         0  \n",
       "3         0.0       1.0    0.0         0  \n",
       "4         0.0       1.0    0.0         0  \n",
       "..        ...       ...    ...       ...  \n",
       "413       0.0       1.0    0.0         0  \n",
       "414       0.0       0.0    1.0         1  \n",
       "415       0.0       1.0    0.0         0  \n",
       "416       0.0       1.0    0.0         0  \n",
       "417       0.0       1.0    0.0         0  \n",
       "\n",
       "[418 rows x 11 columns]"
      ]
     },
     "execution_count": 41,
     "metadata": {},
     "output_type": "execute_result"
    }
   ],
   "source": [
    "test_complete"
   ]
  },
  {
   "cell_type": "code",
   "execution_count": 42,
   "metadata": {},
   "outputs": [
    {
     "data": {
      "text/html": [
       "<div>\n",
       "<style scoped>\n",
       "    .dataframe tbody tr th:only-of-type {\n",
       "        vertical-align: middle;\n",
       "    }\n",
       "\n",
       "    .dataframe tbody tr th {\n",
       "        vertical-align: top;\n",
       "    }\n",
       "\n",
       "    .dataframe thead th {\n",
       "        text-align: right;\n",
       "    }\n",
       "</style>\n",
       "<table border=\"1\" class=\"dataframe\">\n",
       "  <thead>\n",
       "    <tr style=\"text-align: right;\">\n",
       "      <th></th>\n",
       "      <th>Sex</th>\n",
       "      <th>age_kid</th>\n",
       "      <th>SibSp</th>\n",
       "      <th>Parch</th>\n",
       "      <th>embarked_S</th>\n",
       "      <th>embarked_Q</th>\n",
       "      <th>fare_cheap</th>\n",
       "      <th>pclass_2</th>\n",
       "      <th>pclass_3</th>\n",
       "      <th>Cabin</th>\n",
       "      <th>Survived</th>\n",
       "    </tr>\n",
       "  </thead>\n",
       "  <tbody>\n",
       "    <tr>\n",
       "      <th>0</th>\n",
       "      <td>1.0</td>\n",
       "      <td>0.0</td>\n",
       "      <td>0.000</td>\n",
       "      <td>0.000000</td>\n",
       "      <td>0.0</td>\n",
       "      <td>1.0</td>\n",
       "      <td>1.0</td>\n",
       "      <td>0.0</td>\n",
       "      <td>1.0</td>\n",
       "      <td>0.0</td>\n",
       "      <td>0</td>\n",
       "    </tr>\n",
       "    <tr>\n",
       "      <th>1</th>\n",
       "      <td>0.0</td>\n",
       "      <td>0.0</td>\n",
       "      <td>0.125</td>\n",
       "      <td>0.000000</td>\n",
       "      <td>1.0</td>\n",
       "      <td>0.0</td>\n",
       "      <td>1.0</td>\n",
       "      <td>0.0</td>\n",
       "      <td>1.0</td>\n",
       "      <td>0.0</td>\n",
       "      <td>0</td>\n",
       "    </tr>\n",
       "    <tr>\n",
       "      <th>2</th>\n",
       "      <td>1.0</td>\n",
       "      <td>0.0</td>\n",
       "      <td>0.000</td>\n",
       "      <td>0.000000</td>\n",
       "      <td>0.0</td>\n",
       "      <td>1.0</td>\n",
       "      <td>1.0</td>\n",
       "      <td>1.0</td>\n",
       "      <td>0.0</td>\n",
       "      <td>0.0</td>\n",
       "      <td>0</td>\n",
       "    </tr>\n",
       "    <tr>\n",
       "      <th>3</th>\n",
       "      <td>1.0</td>\n",
       "      <td>0.0</td>\n",
       "      <td>0.000</td>\n",
       "      <td>0.000000</td>\n",
       "      <td>1.0</td>\n",
       "      <td>0.0</td>\n",
       "      <td>1.0</td>\n",
       "      <td>0.0</td>\n",
       "      <td>1.0</td>\n",
       "      <td>0.0</td>\n",
       "      <td>0</td>\n",
       "    </tr>\n",
       "    <tr>\n",
       "      <th>4</th>\n",
       "      <td>0.0</td>\n",
       "      <td>0.0</td>\n",
       "      <td>0.125</td>\n",
       "      <td>0.111111</td>\n",
       "      <td>1.0</td>\n",
       "      <td>0.0</td>\n",
       "      <td>1.0</td>\n",
       "      <td>0.0</td>\n",
       "      <td>1.0</td>\n",
       "      <td>0.0</td>\n",
       "      <td>0</td>\n",
       "    </tr>\n",
       "    <tr>\n",
       "      <th>...</th>\n",
       "      <td>...</td>\n",
       "      <td>...</td>\n",
       "      <td>...</td>\n",
       "      <td>...</td>\n",
       "      <td>...</td>\n",
       "      <td>...</td>\n",
       "      <td>...</td>\n",
       "      <td>...</td>\n",
       "      <td>...</td>\n",
       "      <td>...</td>\n",
       "      <td>...</td>\n",
       "    </tr>\n",
       "    <tr>\n",
       "      <th>413</th>\n",
       "      <td>1.0</td>\n",
       "      <td>0.0</td>\n",
       "      <td>0.000</td>\n",
       "      <td>0.000000</td>\n",
       "      <td>1.0</td>\n",
       "      <td>0.0</td>\n",
       "      <td>1.0</td>\n",
       "      <td>0.0</td>\n",
       "      <td>1.0</td>\n",
       "      <td>0.0</td>\n",
       "      <td>0</td>\n",
       "    </tr>\n",
       "    <tr>\n",
       "      <th>414</th>\n",
       "      <td>0.0</td>\n",
       "      <td>0.0</td>\n",
       "      <td>0.000</td>\n",
       "      <td>0.000000</td>\n",
       "      <td>0.0</td>\n",
       "      <td>0.0</td>\n",
       "      <td>0.0</td>\n",
       "      <td>0.0</td>\n",
       "      <td>0.0</td>\n",
       "      <td>1.0</td>\n",
       "      <td>1</td>\n",
       "    </tr>\n",
       "    <tr>\n",
       "      <th>415</th>\n",
       "      <td>1.0</td>\n",
       "      <td>0.0</td>\n",
       "      <td>0.000</td>\n",
       "      <td>0.000000</td>\n",
       "      <td>1.0</td>\n",
       "      <td>0.0</td>\n",
       "      <td>1.0</td>\n",
       "      <td>0.0</td>\n",
       "      <td>1.0</td>\n",
       "      <td>0.0</td>\n",
       "      <td>0</td>\n",
       "    </tr>\n",
       "    <tr>\n",
       "      <th>416</th>\n",
       "      <td>1.0</td>\n",
       "      <td>0.0</td>\n",
       "      <td>0.000</td>\n",
       "      <td>0.000000</td>\n",
       "      <td>1.0</td>\n",
       "      <td>0.0</td>\n",
       "      <td>1.0</td>\n",
       "      <td>0.0</td>\n",
       "      <td>1.0</td>\n",
       "      <td>0.0</td>\n",
       "      <td>0</td>\n",
       "    </tr>\n",
       "    <tr>\n",
       "      <th>417</th>\n",
       "      <td>1.0</td>\n",
       "      <td>0.0</td>\n",
       "      <td>0.125</td>\n",
       "      <td>0.111111</td>\n",
       "      <td>0.0</td>\n",
       "      <td>0.0</td>\n",
       "      <td>1.0</td>\n",
       "      <td>0.0</td>\n",
       "      <td>1.0</td>\n",
       "      <td>0.0</td>\n",
       "      <td>0</td>\n",
       "    </tr>\n",
       "  </tbody>\n",
       "</table>\n",
       "<p>418 rows × 11 columns</p>\n",
       "</div>"
      ],
      "text/plain": [
       "     Sex  age_kid  SibSp     Parch  embarked_S  embarked_Q  fare_cheap  \\\n",
       "0    1.0      0.0  0.000  0.000000         0.0         1.0         1.0   \n",
       "1    0.0      0.0  0.125  0.000000         1.0         0.0         1.0   \n",
       "2    1.0      0.0  0.000  0.000000         0.0         1.0         1.0   \n",
       "3    1.0      0.0  0.000  0.000000         1.0         0.0         1.0   \n",
       "4    0.0      0.0  0.125  0.111111         1.0         0.0         1.0   \n",
       "..   ...      ...    ...       ...         ...         ...         ...   \n",
       "413  1.0      0.0  0.000  0.000000         1.0         0.0         1.0   \n",
       "414  0.0      0.0  0.000  0.000000         0.0         0.0         0.0   \n",
       "415  1.0      0.0  0.000  0.000000         1.0         0.0         1.0   \n",
       "416  1.0      0.0  0.000  0.000000         1.0         0.0         1.0   \n",
       "417  1.0      0.0  0.125  0.111111         0.0         0.0         1.0   \n",
       "\n",
       "     pclass_2  pclass_3  Cabin  Survived  \n",
       "0         0.0       1.0    0.0         0  \n",
       "1         0.0       1.0    0.0         0  \n",
       "2         1.0       0.0    0.0         0  \n",
       "3         0.0       1.0    0.0         0  \n",
       "4         0.0       1.0    0.0         0  \n",
       "..        ...       ...    ...       ...  \n",
       "413       0.0       1.0    0.0         0  \n",
       "414       0.0       0.0    1.0         1  \n",
       "415       0.0       1.0    0.0         0  \n",
       "416       0.0       1.0    0.0         0  \n",
       "417       0.0       1.0    0.0         0  \n",
       "\n",
       "[418 rows x 11 columns]"
      ]
     },
     "execution_count": 42,
     "metadata": {},
     "output_type": "execute_result"
    }
   ],
   "source": [
    "data = test_complete\n",
    "data"
   ]
  },
  {
   "cell_type": "code",
   "execution_count": 43,
   "metadata": {},
   "outputs": [
    {
     "data": {
      "text/plain": [
       "Text(0, 0.5, 'Frecuencia')"
      ]
     },
     "execution_count": 43,
     "metadata": {},
     "output_type": "execute_result"
    },
    {
     "data": {
      "image/png": "[encoded data removed]",
      "text/plain": [
       "<Figure size 1200x800 with 4 Axes>"
      ]
     },
     "metadata": {},
     "output_type": "display_data"
    }
   ],
   "source": [
    "# Se preparan las visualizaciones \n",
    "fig, axes = plt.subplots(nrows=2, ncols=2, figsize = (12,8))\n",
    "fig.subplots_adjust(hspace=0.3)\n",
    "axes = axes.flatten()\n",
    "ax = axes[0]\n",
    "# Distribución de los datos según sexo\n",
    "sns.countplot(x='Sex', data=data, palette=['#73DAF5','#F5C5F5'],ax=ax)\n",
    "ax.set_xticklabels(['Hombre','Mujer'])\n",
    "ax.set_title('b) Distribución por Sexo')\n",
    "ax = axes[2]\n",
    "# Revisamos que tan balanceadas estan nuestras clases\n",
    "sns.countplot(x='Survived', data=data, palette=['#F57373','#8FF573'],ax=ax)\n",
    "ax.set_title('c) Distribución de variable Target')\n",
    "ax.set_xticklabels(['No sobrevive','Sobrevive'],rotation=0)\n",
    "ax = axes[3]\n",
    "#Frecuencia de diagnóstico por sexo\n",
    "pd.crosstab(test_complete.Sex,test_complete.Survived).plot(kind=\"bar\",ax=ax,color=['#8FF573','#F57373'])\n",
    "ax.set_title('d) Frecuencia de diagnóstico por Sexo')\n",
    "ax.set_xticklabels(['Hombre','Mujer'],rotation=0)\n",
    "ax.legend([\"Sobrevive\", \"No sobrevive\"])\n",
    "ax.set_ylabel('Frecuencia')"
   ]
  },
  {
   "cell_type": "markdown",
   "metadata": {},
   "source": [
    "## 3.1.- Resultado Predictivo Para Los Miembros del Equipo"
   ]
  },
  {
   "cell_type": "markdown",
   "metadata": {},
   "source": [
    "Se ingresan los valores señalados por cada miembro del grupo, mas un 'dummy' para poder ejecutar de manera correcta la estandarizacion de los datos"
   ]
  },
  {
   "cell_type": "code",
   "execution_count": 187,
   "metadata": {},
   "outputs": [],
   "source": [
    "Patricio = {'Sex':1, 'age_kid':0, 'SibSp':0, 'Parch':0, 'embarked_S':1, 'embarked_Q':0, 'fare_cheap':1, 'pclass_2':1, 'pclass_3':0, 'Cabin':1}\n",
    "Carlos = {'Sex':1, 'age_kid':0, 'SibSp':0, 'Parch':0, 'embarked_S':0, 'embarked_Q':0, 'fare_cheap':0, 'pclass_2':0, 'pclass_3':0, 'Cabin':1}\n",
    "Nicolas = {'Sex':1, 'age_kid':0, 'SibSp':0, 'Parch':0, 'embarked_S':0, 'embarked_Q':1, 'fare_cheap':0, 'pclass_2':1, 'pclass_3':0, 'Cabin':1}\n",
    "Pablo = {'Sex':1, 'age_kid':0, 'SibSp':0, 'Parch':0, 'embarked_S':1, 'embarked_Q':0, 'fare_cheap':0, 'pclass_2':0, 'pclass_3':0, 'Cabin':1}\n",
    "Dummy = {'Sex':0, 'age_kid':0, 'SibSp':0, 'Parch':0, 'embarked_S':1, 'embarked_Q':0, 'fare_cheap':0, 'pclass_2':0, 'pclass_3':0, 'Cabin':0}\n"
   ]
  },
  {
   "cell_type": "code",
   "execution_count": 188,
   "metadata": {},
   "outputs": [],
   "source": [
    "Grupo_predict = pd.DataFrame(columns=['Sex', 'age_kid','SibSp','Parch','embarked_S','embarked_Q','fare_cheap','pclass_2','pclass_3','Cabin'])"
   ]
  },
  {
   "cell_type": "code",
   "execution_count": 189,
   "metadata": {},
   "outputs": [],
   "source": [
    "Grupo_predict = Grupo_predict.append([Patricio, Carlos, Nicolas, Pablo, Dummy], ignore_index=True)"
   ]
  },
  {
   "cell_type": "code",
   "execution_count": 190,
   "metadata": {},
   "outputs": [
    {
     "data": {
      "text/html": [
       "<div>\n",
       "<style scoped>\n",
       "    .dataframe tbody tr th:only-of-type {\n",
       "        vertical-align: middle;\n",
       "    }\n",
       "\n",
       "    .dataframe tbody tr th {\n",
       "        vertical-align: top;\n",
       "    }\n",
       "\n",
       "    .dataframe thead th {\n",
       "        text-align: right;\n",
       "    }\n",
       "</style>\n",
       "<table border=\"1\" class=\"dataframe\">\n",
       "  <thead>\n",
       "    <tr style=\"text-align: right;\">\n",
       "      <th></th>\n",
       "      <th>Sex</th>\n",
       "      <th>age_kid</th>\n",
       "      <th>SibSp</th>\n",
       "      <th>Parch</th>\n",
       "      <th>embarked_S</th>\n",
       "      <th>embarked_Q</th>\n",
       "      <th>fare_cheap</th>\n",
       "      <th>pclass_2</th>\n",
       "      <th>pclass_3</th>\n",
       "      <th>Cabin</th>\n",
       "    </tr>\n",
       "  </thead>\n",
       "  <tbody>\n",
       "    <tr>\n",
       "      <th>0</th>\n",
       "      <td>1</td>\n",
       "      <td>0</td>\n",
       "      <td>0</td>\n",
       "      <td>0</td>\n",
       "      <td>1</td>\n",
       "      <td>0</td>\n",
       "      <td>1</td>\n",
       "      <td>1</td>\n",
       "      <td>0</td>\n",
       "      <td>1</td>\n",
       "    </tr>\n",
       "    <tr>\n",
       "      <th>1</th>\n",
       "      <td>1</td>\n",
       "      <td>0</td>\n",
       "      <td>0</td>\n",
       "      <td>0</td>\n",
       "      <td>0</td>\n",
       "      <td>0</td>\n",
       "      <td>0</td>\n",
       "      <td>0</td>\n",
       "      <td>0</td>\n",
       "      <td>1</td>\n",
       "    </tr>\n",
       "    <tr>\n",
       "      <th>2</th>\n",
       "      <td>1</td>\n",
       "      <td>0</td>\n",
       "      <td>0</td>\n",
       "      <td>0</td>\n",
       "      <td>0</td>\n",
       "      <td>1</td>\n",
       "      <td>0</td>\n",
       "      <td>1</td>\n",
       "      <td>0</td>\n",
       "      <td>1</td>\n",
       "    </tr>\n",
       "    <tr>\n",
       "      <th>3</th>\n",
       "      <td>1</td>\n",
       "      <td>0</td>\n",
       "      <td>0</td>\n",
       "      <td>0</td>\n",
       "      <td>1</td>\n",
       "      <td>0</td>\n",
       "      <td>0</td>\n",
       "      <td>0</td>\n",
       "      <td>0</td>\n",
       "      <td>1</td>\n",
       "    </tr>\n",
       "    <tr>\n",
       "      <th>4</th>\n",
       "      <td>0</td>\n",
       "      <td>0</td>\n",
       "      <td>0</td>\n",
       "      <td>0</td>\n",
       "      <td>1</td>\n",
       "      <td>0</td>\n",
       "      <td>0</td>\n",
       "      <td>0</td>\n",
       "      <td>0</td>\n",
       "      <td>0</td>\n",
       "    </tr>\n",
       "  </tbody>\n",
       "</table>\n",
       "</div>"
      ],
      "text/plain": [
       "  Sex age_kid SibSp Parch embarked_S embarked_Q fare_cheap pclass_2 pclass_3  \\\n",
       "0   1       0     0     0          1          0          1        1        0   \n",
       "1   1       0     0     0          0          0          0        0        0   \n",
       "2   1       0     0     0          0          1          0        1        0   \n",
       "3   1       0     0     0          1          0          0        0        0   \n",
       "4   0       0     0     0          1          0          0        0        0   \n",
       "\n",
       "  Cabin  \n",
       "0     1  \n",
       "1     1  \n",
       "2     1  \n",
       "3     1  \n",
       "4     0  "
      ]
     },
     "execution_count": 190,
     "metadata": {},
     "output_type": "execute_result"
    }
   ],
   "source": [
    "Grupo_predict"
   ]
  },
  {
   "cell_type": "code",
   "execution_count": 191,
   "metadata": {},
   "outputs": [
    {
     "name": "stdout",
     "output_type": "stream",
     "text": [
      "<class 'pandas.core.frame.DataFrame'>\n",
      "RangeIndex: 5 entries, 0 to 4\n",
      "Data columns (total 10 columns):\n",
      " #   Column      Non-Null Count  Dtype\n",
      "---  ------      --------------  -----\n",
      " 0   Sex         5 non-null      int64\n",
      " 1   age_kid     5 non-null      int64\n",
      " 2   SibSp       5 non-null      int64\n",
      " 3   Parch       5 non-null      int64\n",
      " 4   embarked_S  5 non-null      int64\n",
      " 5   embarked_Q  5 non-null      int64\n",
      " 6   fare_cheap  5 non-null      int64\n",
      " 7   pclass_2    5 non-null      int64\n",
      " 8   pclass_3    5 non-null      int64\n",
      " 9   Cabin       5 non-null      int64\n",
      "dtypes: int64(10)\n",
      "memory usage: 528.0 bytes\n"
     ]
    }
   ],
   "source": [
    "Grupo_predict = Grupo_predict.astype(int)\n",
    "Grupo_predict.info()"
   ]
  },
  {
   "cell_type": "code",
   "execution_count": 192,
   "metadata": {},
   "outputs": [],
   "source": [
    "scaler = MinMaxScaler()\n",
    "scaler.fit(Grupo_predict)\n",
    "\n",
    "Grupo_predict = scaler.transform(Grupo_predict)"
   ]
  },
  {
   "cell_type": "code",
   "execution_count": 193,
   "metadata": {},
   "outputs": [
    {
     "data": {
      "text/plain": [
       "array([[1., 0., 0., 0., 1., 0., 1., 1., 0., 1.],\n",
       "       [1., 0., 0., 0., 0., 0., 0., 0., 0., 1.],\n",
       "       [1., 0., 0., 0., 0., 1., 0., 1., 0., 1.],\n",
       "       [1., 0., 0., 0., 1., 0., 0., 0., 0., 1.],\n",
       "       [0., 0., 0., 0., 1., 0., 0., 0., 0., 0.]])"
      ]
     },
     "execution_count": 193,
     "metadata": {},
     "output_type": "execute_result"
    }
   ],
   "source": [
    "Grupo_predict"
   ]
  },
  {
   "cell_type": "code",
   "execution_count": 194,
   "metadata": {},
   "outputs": [
    {
     "name": "stdout",
     "output_type": "stream",
     "text": [
      "1/1 [==============================] - 0s 17ms/step\n"
     ]
    }
   ],
   "source": [
    "predict_grupo=((model_best.predict(Grupo_predict) > 0.5).astype('int32'))"
   ]
  },
  {
   "cell_type": "code",
   "execution_count": 195,
   "metadata": {},
   "outputs": [
    {
     "data": {
      "text/plain": [
       "array([[1],\n",
       "       [1],\n",
       "       [1],\n",
       "       [0],\n",
       "       [1]], dtype=int32)"
      ]
     },
     "execution_count": 195,
     "metadata": {},
     "output_type": "execute_result"
    }
   ],
   "source": [
    "predict_grupo"
   ]
  },
  {
   "cell_type": "code",
   "execution_count": 196,
   "metadata": {},
   "outputs": [],
   "source": [
    "Grupo_predicted = pd.DataFrame(Grupo_predict, columns= ['Sex', 'age_kid','SibSp','Parch','embarked_S','embarked_Q','fare_cheap','pclass_2','pclass_3','Cabin'])\n",
    "\n",
    "Grupo_predicted['Nombres'] = ['Patricio', 'Carlos', 'Nicolas', 'Pablo', 'Dummy']"
   ]
  },
  {
   "cell_type": "markdown",
   "metadata": {},
   "source": [
    "Grupo_predicted = Grupo_predicted.drop(Grupo_predicted.index[4])"
   ]
  },
  {
   "cell_type": "code",
   "execution_count": 198,
   "metadata": {},
   "outputs": [
    {
     "data": {
      "text/html": [
       "<div>\n",
       "<style scoped>\n",
       "    .dataframe tbody tr th:only-of-type {\n",
       "        vertical-align: middle;\n",
       "    }\n",
       "\n",
       "    .dataframe tbody tr th {\n",
       "        vertical-align: top;\n",
       "    }\n",
       "\n",
       "    .dataframe thead th {\n",
       "        text-align: right;\n",
       "    }\n",
       "</style>\n",
       "<table border=\"1\" class=\"dataframe\">\n",
       "  <thead>\n",
       "    <tr style=\"text-align: right;\">\n",
       "      <th></th>\n",
       "      <th>Sex</th>\n",
       "      <th>age_kid</th>\n",
       "      <th>SibSp</th>\n",
       "      <th>Parch</th>\n",
       "      <th>embarked_S</th>\n",
       "      <th>embarked_Q</th>\n",
       "      <th>fare_cheap</th>\n",
       "      <th>pclass_2</th>\n",
       "      <th>pclass_3</th>\n",
       "      <th>Cabin</th>\n",
       "      <th>Nombres</th>\n",
       "    </tr>\n",
       "  </thead>\n",
       "  <tbody>\n",
       "    <tr>\n",
       "      <th>0</th>\n",
       "      <td>1.0</td>\n",
       "      <td>0.0</td>\n",
       "      <td>0.0</td>\n",
       "      <td>0.0</td>\n",
       "      <td>1.0</td>\n",
       "      <td>0.0</td>\n",
       "      <td>1.0</td>\n",
       "      <td>1.0</td>\n",
       "      <td>0.0</td>\n",
       "      <td>1.0</td>\n",
       "      <td>Patricio</td>\n",
       "    </tr>\n",
       "    <tr>\n",
       "      <th>1</th>\n",
       "      <td>1.0</td>\n",
       "      <td>0.0</td>\n",
       "      <td>0.0</td>\n",
       "      <td>0.0</td>\n",
       "      <td>0.0</td>\n",
       "      <td>0.0</td>\n",
       "      <td>0.0</td>\n",
       "      <td>0.0</td>\n",
       "      <td>0.0</td>\n",
       "      <td>1.0</td>\n",
       "      <td>Carlos</td>\n",
       "    </tr>\n",
       "    <tr>\n",
       "      <th>2</th>\n",
       "      <td>1.0</td>\n",
       "      <td>0.0</td>\n",
       "      <td>0.0</td>\n",
       "      <td>0.0</td>\n",
       "      <td>0.0</td>\n",
       "      <td>1.0</td>\n",
       "      <td>0.0</td>\n",
       "      <td>1.0</td>\n",
       "      <td>0.0</td>\n",
       "      <td>1.0</td>\n",
       "      <td>Nicolas</td>\n",
       "    </tr>\n",
       "    <tr>\n",
       "      <th>3</th>\n",
       "      <td>1.0</td>\n",
       "      <td>0.0</td>\n",
       "      <td>0.0</td>\n",
       "      <td>0.0</td>\n",
       "      <td>1.0</td>\n",
       "      <td>0.0</td>\n",
       "      <td>0.0</td>\n",
       "      <td>0.0</td>\n",
       "      <td>0.0</td>\n",
       "      <td>1.0</td>\n",
       "      <td>Pablo</td>\n",
       "    </tr>\n",
       "  </tbody>\n",
       "</table>\n",
       "</div>"
      ],
      "text/plain": [
       "   Sex  age_kid  SibSp  Parch  embarked_S  embarked_Q  fare_cheap  pclass_2  \\\n",
       "0  1.0      0.0    0.0    0.0         1.0         0.0         1.0       1.0   \n",
       "1  1.0      0.0    0.0    0.0         0.0         0.0         0.0       0.0   \n",
       "2  1.0      0.0    0.0    0.0         0.0         1.0         0.0       1.0   \n",
       "3  1.0      0.0    0.0    0.0         1.0         0.0         0.0       0.0   \n",
       "\n",
       "   pclass_3  Cabin   Nombres  \n",
       "0       0.0    1.0  Patricio  \n",
       "1       0.0    1.0    Carlos  \n",
       "2       0.0    1.0   Nicolas  \n",
       "3       0.0    1.0     Pablo  "
      ]
     },
     "execution_count": 198,
     "metadata": {},
     "output_type": "execute_result"
    }
   ],
   "source": [
    "Grupo_predicted"
   ]
  },
  {
   "cell_type": "code",
   "execution_count": 199,
   "metadata": {},
   "outputs": [],
   "source": [
    "Grupo_survived = pd.DataFrame(predict_grupo, columns=['Survived'])\n",
    "Grupo_complete = pd.concat([Grupo_predicted, Grupo_survived], axis=1)"
   ]
  },
  {
   "cell_type": "code",
   "execution_count": 200,
   "metadata": {},
   "outputs": [],
   "source": [
    "Grupo_complete = Grupo_complete.drop(Grupo_complete.index[4])"
   ]
  },
  {
   "cell_type": "code",
   "execution_count": 201,
   "metadata": {
    "scrolled": true
   },
   "outputs": [
    {
     "data": {
      "text/html": [
       "<div>\n",
       "<style scoped>\n",
       "    .dataframe tbody tr th:only-of-type {\n",
       "        vertical-align: middle;\n",
       "    }\n",
       "\n",
       "    .dataframe tbody tr th {\n",
       "        vertical-align: top;\n",
       "    }\n",
       "\n",
       "    .dataframe thead th {\n",
       "        text-align: right;\n",
       "    }\n",
       "</style>\n",
       "<table border=\"1\" class=\"dataframe\">\n",
       "  <thead>\n",
       "    <tr style=\"text-align: right;\">\n",
       "      <th></th>\n",
       "      <th>Sex</th>\n",
       "      <th>age_kid</th>\n",
       "      <th>SibSp</th>\n",
       "      <th>Parch</th>\n",
       "      <th>embarked_S</th>\n",
       "      <th>embarked_Q</th>\n",
       "      <th>fare_cheap</th>\n",
       "      <th>pclass_2</th>\n",
       "      <th>pclass_3</th>\n",
       "      <th>Cabin</th>\n",
       "      <th>Nombres</th>\n",
       "      <th>Survived</th>\n",
       "    </tr>\n",
       "  </thead>\n",
       "  <tbody>\n",
       "    <tr>\n",
       "      <th>0</th>\n",
       "      <td>1.0</td>\n",
       "      <td>0.0</td>\n",
       "      <td>0.0</td>\n",
       "      <td>0.0</td>\n",
       "      <td>1.0</td>\n",
       "      <td>0.0</td>\n",
       "      <td>1.0</td>\n",
       "      <td>1.0</td>\n",
       "      <td>0.0</td>\n",
       "      <td>1.0</td>\n",
       "      <td>Patricio</td>\n",
       "      <td>1</td>\n",
       "    </tr>\n",
       "    <tr>\n",
       "      <th>1</th>\n",
       "      <td>1.0</td>\n",
       "      <td>0.0</td>\n",
       "      <td>0.0</td>\n",
       "      <td>0.0</td>\n",
       "      <td>0.0</td>\n",
       "      <td>0.0</td>\n",
       "      <td>0.0</td>\n",
       "      <td>0.0</td>\n",
       "      <td>0.0</td>\n",
       "      <td>1.0</td>\n",
       "      <td>Carlos</td>\n",
       "      <td>1</td>\n",
       "    </tr>\n",
       "    <tr>\n",
       "      <th>2</th>\n",
       "      <td>1.0</td>\n",
       "      <td>0.0</td>\n",
       "      <td>0.0</td>\n",
       "      <td>0.0</td>\n",
       "      <td>0.0</td>\n",
       "      <td>1.0</td>\n",
       "      <td>0.0</td>\n",
       "      <td>1.0</td>\n",
       "      <td>0.0</td>\n",
       "      <td>1.0</td>\n",
       "      <td>Nicolas</td>\n",
       "      <td>1</td>\n",
       "    </tr>\n",
       "    <tr>\n",
       "      <th>3</th>\n",
       "      <td>1.0</td>\n",
       "      <td>0.0</td>\n",
       "      <td>0.0</td>\n",
       "      <td>0.0</td>\n",
       "      <td>1.0</td>\n",
       "      <td>0.0</td>\n",
       "      <td>0.0</td>\n",
       "      <td>0.0</td>\n",
       "      <td>0.0</td>\n",
       "      <td>1.0</td>\n",
       "      <td>Pablo</td>\n",
       "      <td>0</td>\n",
       "    </tr>\n",
       "  </tbody>\n",
       "</table>\n",
       "</div>"
      ],
      "text/plain": [
       "   Sex  age_kid  SibSp  Parch  embarked_S  embarked_Q  fare_cheap  pclass_2  \\\n",
       "0  1.0      0.0    0.0    0.0         1.0         0.0         1.0       1.0   \n",
       "1  1.0      0.0    0.0    0.0         0.0         0.0         0.0       0.0   \n",
       "2  1.0      0.0    0.0    0.0         0.0         1.0         0.0       1.0   \n",
       "3  1.0      0.0    0.0    0.0         1.0         0.0         0.0       0.0   \n",
       "\n",
       "   pclass_3  Cabin   Nombres  Survived  \n",
       "0       0.0    1.0  Patricio         1  \n",
       "1       0.0    1.0    Carlos         1  \n",
       "2       0.0    1.0   Nicolas         1  \n",
       "3       0.0    1.0     Pablo         0  "
      ]
     },
     "execution_count": 201,
     "metadata": {},
     "output_type": "execute_result"
    }
   ],
   "source": [
    "Grupo_complete"
   ]
  },
  {
   "cell_type": "markdown",
   "metadata": {},
   "source": [
    "### Dado que tres de cuatro hombres sobreviven, nos damos cuenta de que el valor que tenemos como threshold para el predict de 0.5 hace que algunos de nosotros sobrevivan, siendo que lo mas probable es que todos estabamos un poco mas arriba que 0.5. Mientras que la persona que murio estaba un poco mas abajo del 0.5\n",
    "\n",
    "### Cuando se usa un umbral de 0.8, ya nadie sobrevive."
   ]
  },
  {
   "cell_type": "markdown",
   "metadata": {},
   "source": [
    "## 4.- Conclusion"
   ]
  },
  {
   "cell_type": "markdown",
   "metadata": {},
   "source": [
    "### En conclusion, se logra dar un contexto general de la data, hacer una limpieza y visualizacion la cual hace que la data se pueda entrenar para asi lograr el objetivo de la tarea la cual es implementar un modelo de red neuronal y ver quienes sobreviven y quienes no. Asi, logramos aprender e identificar los distintos parametros los cuales componen al modelo secuencial, como la funcion de activacion, el learning rate, el optimizador, las distintas capas, el numero de neuronas y la funcion de costo.\n",
    "\n",
    "### Por ultimo, logramos identificar los mejores modelos para despues utilizarlos en la prediccion de los datos de prueba y para los datos del grupo."
   ]
  },
  {
   "cell_type": "code",
   "execution_count": null,
   "metadata": {},
   "outputs": [],
   "source": []
  }
 ],
 "metadata": {
  "colab": {
   "provenance": [],
   "toc_visible": true
  },
  "kernelspec": {
   "display_name": "Python 3 (ipykernel)",
   "language": "python",
   "name": "python3"
  },
  "language_info": {
   "codemirror_mode": {
    "name": "ipython",
    "version": 3
   },
   "file_extension": ".py",
   "mimetype": "text/x-python",
   "name": "python",
   "nbconvert_exporter": "python",
   "pygments_lexer": "ipython3",
   "version": "3.9.12"
  }
 },
 "nbformat": 4,
 "nbformat_minor": 1
}
