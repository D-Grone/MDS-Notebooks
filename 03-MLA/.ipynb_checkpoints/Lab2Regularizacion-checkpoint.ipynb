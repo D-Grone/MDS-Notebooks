{
 "cells": [
  {
   "cell_type": "code",
   "execution_count": 1,
   "id": "8a281973",
   "metadata": {},
   "outputs": [],
   "source": [
    "### Redes Neuronales\n",
    "### v2"
   ]
  },
  {
   "cell_type": "code",
   "execution_count": 2,
   "id": "3b429ced",
   "metadata": {},
   "outputs": [],
   "source": [
    "import math\n",
    "import pandas as pd\n",
    "import numpy as np\n",
    "import random\n",
    "import sklearn.neural_network\n",
    "from sklearn.preprocessing import StandardScaler\n",
    "from sklearn.model_selection import train_test_split\n",
    "import pandas as pd\n",
    "from keras import models, layers, optimizers, regularizers\n",
    "import tensorflow as tf\n",
    "from tqdm import tqdm\n",
    "import matplotlib.pyplot as plt\n",
    "\n",
    "# En keras los regularizadores estan en regularized"
   ]
  },
  {
   "cell_type": "code",
   "execution_count": null,
   "id": "0458ad3d",
   "metadata": {},
   "outputs": [],
   "source": [
    "from sklearn.datasets import load_wine\n",
    "\n",
    "wines = load_wine()\n"
   ]
  },
  {
   "cell_type": "code",
   "execution_count": null,
   "id": "7aeec16a",
   "metadata": {},
   "outputs": [],
   "source": [
    "# para poner nombres\n",
    "features = wines.feature_names"
   ]
  },
  {
   "cell_type": "code",
   "execution_count": null,
   "id": "67378f8c",
   "metadata": {},
   "outputs": [],
   "source": [
    "## Separacion tradicional\n",
    "X_train, X_test, y_train, y_test = train_test_split(wines.data,\n",
    "                                                    wines.target,test_size=0.3,random_state=123)\n",
    "\n",
    "## Estandarizado, no normalizado!\n",
    "scaler = StandardScaler()\n",
    "scaler.fit(wines.data)\n",
    "\n",
    "X_train = scaler.transform(X_train)  \n",
    "X_test = scaler.transform(X_test) "
   ]
  },
  {
   "cell_type": "code",
   "execution_count": null,
   "id": "0e9a168b",
   "metadata": {},
   "outputs": [],
   "source": [
    "## Hemos visto hasta ahora los perceptrones multicapa. MLPClassifier es eso.\n",
    "\n",
    "#\n",
    "# activation{‘identity’, ‘logistic’, ‘tanh’, ‘relu’}, default=’relu’\n",
    "# solver{‘lbfgs’, ‘sgd’, ‘adam’}, default=’adam’\n",
    "# alpha asociado a regularizacion l2, basado en la fuerza de la regularizacion\n",
    "# learning_rate opera solo si solver es 'sgd'\n",
    "clf = sklearn.neural_network.MLPClassifier(solver='lbfgs', alpha=1e-5,\n",
    "                    hidden_layer_sizes=(5, 2), \n",
    "                                           random_state=1,\n",
    "                                           verbose=True)\n",
    "\n",
    "#clf2 = sklearn.neural_network.MLPClassifier(activation = 'identity',\n",
    "#                                            solver='sgd', \n",
    "#                                            alpha=1e-5,\n",
    "#                    hidden_layer_sizes=(5, 2), learning_rate = 'adaptative',\n",
    "#                                            random_state=1)\n",
    "\n",
    "clf.fit(X_train, y_train)\n",
    "sklearn.neural_network.MLPClassifier(alpha=1e-05, hidden_layer_sizes=(5, 2), random_state=1,\n",
    "              solver='lbfgs')"
   ]
  },
  {
   "cell_type": "code",
   "execution_count": null,
   "id": "cb56f505",
   "metadata": {},
   "outputs": [],
   "source": [
    "#clf2.fit(X_train, y_train)\n",
    "# Por que pasa esto?"
   ]
  },
  {
   "cell_type": "code",
   "execution_count": null,
   "id": "db7513b6",
   "metadata": {},
   "outputs": [],
   "source": [
    "\n",
    "\n",
    "df = pd.DataFrame({'predicted': clf.predict(X_test),\n",
    "             'real': y_test})\n",
    "\n",
    "pd.crosstab(index=df['real'], columns=df['predicted'], margins=True)\n"
   ]
  },
  {
   "cell_type": "code",
   "execution_count": null,
   "id": "12b45db2",
   "metadata": {},
   "outputs": [],
   "source": [
    "\n",
    "\n",
    "hidden_units = 10     # how many neurons in the hidden layer\n",
    "activation = 'relu'   # activation function for hidden layer\n",
    "l2 = 0.01             # regularization - how much we penalize large parameter values\n",
    "                     \n",
    "learning_rate = 0.01  # how big our steps are in gradient descent\n",
    "epochs = 7            # how many epochs to train for\n",
    "batch_size = 16       # how many samples to use for each gradient descent update\n",
    "\n"
   ]
  },
  {
   "cell_type": "code",
   "execution_count": null,
   "id": "f25f1168",
   "metadata": {},
   "outputs": [],
   "source": [
    "\n",
    "# create a seModeloquential model\n",
    "## Viene de KERAS!\n",
    "model = models.Sequential()\n",
    "\n",
    "# Primera capa oculta de 20 nodos\n",
    "model.add(layers.Dense(input_dim=len(features),\n",
    "                       units=hidden_units, \n",
    "                       activation=activation))\n",
    "\n",
    "# Primera capa oculta de 20 nodos\n",
    "model.add(layers.Dense(input_dim=hidden_units,\n",
    "                       units=hidden_units, \n",
    "                       activation=activation))\n",
    "\n",
    "# final de la red, outputs\n",
    "model.add(layers.Dense(input_dim=hidden_units,\n",
    "                       units=1,\n",
    "                       activation='relu'))\n",
    "\n",
    "# define our loss function and optimizer\n",
    "model.compile(loss='binary_crossentropy',\n",
    "              # Adam is a kind of gradient descent\n",
    "              optimizer=optimizers.Adam(learning_rate=learning_rate),\n",
    "              metrics=['accuracy'])\n",
    "\n",
    "# train the parameters\n",
    "history = model.fit(X_train, y_train, epochs=10, batch_size=batch_size)\n",
    "\n",
    "# evaluate accuracy\n",
    "train_acc = model.evaluate(X_train, y_train, batch_size=32)[1]\n",
    "test_acc = model.evaluate(X_test, y_test, batch_size=32)[1]\n",
    "print('Training accuracy: %s' % train_acc)\n",
    "print('Testing accuracy: %s' % test_acc)\n",
    "\n",
    "losses = history.history['loss']\n",
    "plt.plot(range(len(losses)), losses, 'r')\n",
    "plt.show()\n"
   ]
  },
  {
   "cell_type": "code",
   "execution_count": null,
   "id": "95a1161d",
   "metadata": {},
   "outputs": [],
   "source": [
    "\n",
    "# create a seModeloquential model\n",
    "## Viene de KERAS!\n",
    "model = models.Sequential()\n",
    "\n",
    "# Primera capa oculta de 20 nodos\n",
    "model.add(layers.Dense(input_dim=len(features),\n",
    "                       units=hidden_units, \n",
    "                       activation=activation,\n",
    "          kernel_regularizer = regularizers.l1(1e-6)))\n",
    "\n",
    "# segunda capa oculta de 20 nodos\n",
    "model.add(layers.Dense(input_dim=hidden_units,\n",
    "                       units=hidden_units, \n",
    "                       activation=activation))\n",
    "\n",
    "# final de la red, outputs\n",
    "model.add(layers.Dense(input_dim=hidden_units,\n",
    "                       units=1,\n",
    "                       activation='relu'))\n",
    "\n",
    "# define our loss function and optimizer\n",
    "model.compile(loss='binary_crossentropy',\n",
    "              optimizer=optimizers.Adam(learning_rate=learning_rate),\n",
    "              metrics=['accuracy'])"
   ]
  },
  {
   "cell_type": "code",
   "execution_count": null,
   "id": "ccf49f20",
   "metadata": {},
   "outputs": [],
   "source": [
    "# train the parameters\n",
    "history = model.fit(X_train, y_train, epochs=10, batch_size=batch_size)\n"
   ]
  },
  {
   "cell_type": "code",
   "execution_count": null,
   "id": "d01e37c6",
   "metadata": {},
   "outputs": [],
   "source": [
    "\n",
    "# evaluate accuracy\n",
    "train_acc = model.evaluate(X_train, y_train, batch_size=32)[1]\n",
    "test_acc = model.evaluate(X_test, y_test, batch_size=32)[1]\n",
    "print('Training accuracy: %s' % train_acc)\n",
    "print('Testing accuracy: %s' % test_acc)\n",
    "\n",
    "losses = history.history['loss']\n",
    "plt.plot(range(len(losses)), losses, 'r')\n",
    "plt.show()\n"
   ]
  },
  {
   "cell_type": "markdown",
   "id": "01a6c861",
   "metadata": {},
   "source": [
    "## Entonces, mejora en algo? pues mejoro un poco la prediccion"
   ]
  },
  {
   "cell_type": "code",
   "execution_count": null,
   "id": "ed446604",
   "metadata": {},
   "outputs": [],
   "source": [
    "from sklearn.datasets import fetch_california_housing\n",
    "california = fetch_california_housing()"
   ]
  },
  {
   "cell_type": "code",
   "execution_count": null,
   "id": "6c5912e8",
   "metadata": {},
   "outputs": [],
   "source": [
    "california.feature_names,california.target, california.data.shape"
   ]
  },
  {
   "cell_type": "code",
   "execution_count": null,
   "id": "b39f29c4",
   "metadata": {},
   "outputs": [],
   "source": [
    "## Estandarizado, no normalizado!\n",
    "scaler = StandardScaler()\n",
    "scaler.fit(california.data)\n",
    "\n",
    "X_train,X_test,y_train,y_test = train_test_split(california.data,california.target,test_size=0.3,random_state=123)\n",
    "X_train = scaler.transform(X_train)  \n",
    "X_test = scaler.transform(X_test) \n"
   ]
  },
  {
   "cell_type": "code",
   "execution_count": null,
   "id": "fbde9cbc",
   "metadata": {},
   "outputs": [],
   "source": [
    "mlpR = sklearn.neural_network.MLPRegressor(solver='sgd', alpha=1e-5,\n",
    "                    hidden_layer_sizes=(5, 2), \n",
    "                                           random_state=1,\n",
    "                                           verbose=True)\n",
    "mlpR.fit(X_train,y_train)"
   ]
  },
  {
   "cell_type": "code",
   "execution_count": null,
   "id": "8a0bdbd0",
   "metadata": {},
   "outputs": [],
   "source": [
    "df = pd.DataFrame({'predicted': mlpR.predict(X_test),\n",
    "             'real': y_test})\n",
    "\n",
    "pd.crosstab(index=df['real'], columns=df['predicted'], margins=True)\n"
   ]
  },
  {
   "cell_type": "code",
   "execution_count": null,
   "id": "44513ef3",
   "metadata": {},
   "outputs": [],
   "source": [
    "from sklearn.metrics import mean_squared_error\n",
    "mean_squared_error(df['real'],df['predicted'])"
   ]
  },
  {
   "cell_type": "code",
   "execution_count": null,
   "id": "5cb644f0",
   "metadata": {},
   "outputs": [],
   "source": []
  }
 ],
 "metadata": {
  "kernelspec": {
   "display_name": "Python 3 (ipykernel)",
   "language": "python",
   "name": "python3"
  },
  "language_info": {
   "codemirror_mode": {
    "name": "ipython",
    "version": 3
   },
   "file_extension": ".py",
   "mimetype": "text/x-python",
   "name": "python",
   "nbconvert_exporter": "python",
   "pygments_lexer": "ipython3",
   "version": "3.9.12"
  }
 },
 "nbformat": 4,
 "nbformat_minor": 5
}
