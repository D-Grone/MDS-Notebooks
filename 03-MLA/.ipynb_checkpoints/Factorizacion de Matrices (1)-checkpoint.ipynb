{
 "cells": [
  {
   "cell_type": "markdown",
   "id": "72413d86",
   "metadata": {},
   "source": [
    "## Factorizacion de Matrices"
   ]
  },
  {
   "cell_type": "markdown",
   "id": "ab24f6a6",
   "metadata": {},
   "source": [
    "Primero creemos una matriz de diseño inicial con valores aleatorios entre 0.1 y 0.9. Tambien creemos la funcion del error cuadratico medio"
   ]
  },
  {
   "cell_type": "code",
   "execution_count": 4,
   "id": "2d326178",
   "metadata": {},
   "outputs": [],
   "source": [
    "import numpy as np\n",
    "\n",
    "class matrix_factorization():\n",
    "    \n",
    "    def __init__(self,data,features):\n",
    "        self.data = data\n",
    "        self.features = features\n",
    "        self.user_count = data.shape[0]\n",
    "        self.item_count = data.shape[1]\n",
    "        self.user_features = np.random.uniform(low=0.1,high = 0.9, size = (self.user_count,self.features))\n",
    "        self.item_features = np.random.uniform(low=0.1,high = 0.9, size = (self.features,self.item_count))\n",
    "        \n",
    "    def MSE(self):\n",
    "        \"\"\"\n",
    "        Mean Squared Error function comparing dot product of user-feature row and feature-item column to user-item cell\n",
    "        \"\"\"\n",
    "        \n",
    "        matrix_product = np.matmul(self.user_features,self.item_features)\n",
    "        return np.sum((self.data - matrix_product)**2)\n",
    "\n",
    "\n",
    "    def single_gradient(self,user_row,item_col,wrt_user_idx = None, wrt_item_idx = None):\n",
    "        \"\"\"\n",
    "        Calcula el gradiente de un unica celda usuario-item a una unica celda usuario-feature o item-feature\n",
    "        \"\"\"\n",
    "        \n",
    "        if wrt_user_idx !=None and wrt_item_idx !=None:\n",
    "            return \"Too many elements\"\n",
    "        elif wrt_user_idx ==None and wrt_item_idx ==None:\n",
    "            return \"insufficient elements\"\n",
    "        else:\n",
    "            u_row = self.user_features[user_row,:]\n",
    "            i_col = self.item_features[:,item_col]\n",
    "            ui_rating = float(self.data[user_row,item_col])\n",
    "            prediction = float(np.dot(u_row,i_col))\n",
    "            \n",
    "            if wrt_user_idx != None:\n",
    "                row_elem = float(i_col[wrt_user_idx])\n",
    "                gradient = 2*(ui_rating-prediction)*row_elem\n",
    "            else:\n",
    "                col_elem = float(u_row[wrt_item_idx])\n",
    "                gradient = 2*(ui_rating-prediction)*col_elem\n",
    "            return gradient\n",
    "        \n",
    "    def user_feature_gradient(self,user_row,wrt_user_idx):\n",
    "        \"\"\"\n",
    "        Averages the gradients of a single user-item row with respect to a single user-feature parameter\n",
    "        \"\"\"\n",
    "        \n",
    "        summation = 0\n",
    "        for col in range(0,self.item_count):\n",
    "            summation += self.single_gradient(user_row = user_row,item_col=col,wrt_user_idx=wrt_user_idx)\n",
    "        return summation/self.item_count\n",
    "    \n",
    "    def item_feature_gradient(self,item_col,wrt_item_idx):\n",
    "        \"\"\"\n",
    "        Averages the gradients of a single user-item column with respect to a single feature-item parameter\n",
    "        \"\"\"\n",
    "        \n",
    "        summation = 0\n",
    "        for row in range(0,self.user_count):\n",
    "            summation += self.single_gradient(user_row = row,item_col=item_col,wrt_item_idx=wrt_item_idx)\n",
    "        return summation/self.user_count\n",
    "    \n",
    "    def update_user_feature(self,learning_rate):\n",
    "        \"\"\"\n",
    "        Updates every user-feature parameter according to supplied learning rate\n",
    "        \"\"\"\n",
    "        for i in range(0, self.user_count):\n",
    "            for j in range(0,self.features):\n",
    "                self.user_features[i,j] += learning_rate*self.user_feature_gradient(user_row=i,wrt_user_idx=j)\n",
    "        \n",
    "    def update_item_feature(self,learning_rate):\n",
    "        \"\"\"\n",
    "        Updates every feature-item parameter according to supplied learning rate\n",
    "        \"\"\"\n",
    "        for i in range(0, self.features):\n",
    "            for j in range(0,self.item_count):\n",
    "                self.item_features[i,j] += learning_rate*self.item_feature_gradient(item_col=j,wrt_item_idx=i)\n",
    "\n",
    "    ### Metodo de entrenamiento\n",
    "    \n",
    "    def train_model(self,learning_rate=0.1,iterations = 1000):\n",
    "        \"\"\"\n",
    "        Trains model, outputting MSE cost/loss every 50 iterations, using supplied learning and iterations\n",
    "        \"\"\"\n",
    "        for i in range(iterations):\n",
    "            self.update_user_feature(learning_rate=learning_rate)\n",
    "            self.update_item_feature(learning_rate=learning_rate)\n",
    "            if i %50 ==0:\n",
    "                print(self.MSE())\n",
    "            "
   ]
  },
  {
   "cell_type": "markdown",
   "id": "16df16d4",
   "metadata": {},
   "source": [
    "Este es un programa de cero, veamos que pasa si creamos matrices"
   ]
  },
  {
   "cell_type": "code",
   "execution_count": 5,
   "id": "d691ef6d",
   "metadata": {},
   "outputs": [
    {
     "name": "stdout",
     "output_type": "stream",
     "text": [
      "[[5 3 1]\n",
      " [1 3 5]\n",
      " [3 5 1]]\n",
      "48.0627211912775\n",
      "3.538659993270841\n",
      "3.5386552492239796\n",
      "3.5386552492239667\n",
      "3.5386552492239667\n",
      "3.5386552492239667\n",
      "3.5386552492239667\n",
      "3.5386552492239667\n",
      "3.5386552492239667\n",
      "3.5386552492239667\n",
      "3.5386552492239667\n",
      "3.5386552492239667\n",
      "3.5386552492239667\n",
      "3.5386552492239667\n",
      "3.5386552492239667\n",
      "3.5386552492239667\n",
      "3.5386552492239667\n",
      "3.5386552492239667\n",
      "3.5386552492239667\n",
      "3.5386552492239667\n"
     ]
    }
   ],
   "source": [
    "d = np.array([[5,3,1],[1,3,5],[3,5,1]])\n",
    "print(d)\n",
    "d2 = matrix_factorization(d,2)\n",
    "d2.train_model(learning_rate = .1)"
   ]
  },
  {
   "cell_type": "code",
   "execution_count": 6,
   "id": "b37f79fc",
   "metadata": {},
   "outputs": [
    {
     "data": {
      "text/plain": [
       "array([[4.28078016, 3.86133275, 0.55412635],\n",
       "       [0.8201476 , 3.21539   , 4.88850218],\n",
       "       [3.84015545, 3.99383559, 1.52084655]])"
      ]
     },
     "execution_count": 6,
     "metadata": {},
     "output_type": "execute_result"
    }
   ],
   "source": [
    "np.dot(d2.user_features,d2.item_features)"
   ]
  },
  {
   "cell_type": "markdown",
   "id": "6f1fbe30",
   "metadata": {},
   "source": [
    "Si consideramos un feature (caracteristica adicional), entonces nos mejora la descomposicion"
   ]
  },
  {
   "cell_type": "code",
   "execution_count": 7,
   "id": "fb5f882d",
   "metadata": {},
   "outputs": [
    {
     "name": "stdout",
     "output_type": "stream",
     "text": [
      "[[5 3 1]\n",
      " [1 3 5]\n",
      " [3 5 1]]\n",
      "37.041264058090825\n",
      "1.6308326204373582e-09\n",
      "7.05734322731698e-23\n",
      "1.6886553752387284e-30\n",
      "1.6886553752387284e-30\n",
      "1.6886553752387284e-30\n",
      "1.6886553752387284e-30\n",
      "1.6886553752387284e-30\n",
      "1.639351568662415e-30\n",
      "1.6886553752387284e-30\n",
      "1.6886553752387284e-30\n",
      "1.6886553752387284e-30\n",
      "1.6886553752387284e-30\n",
      "1.6886553752387284e-30\n",
      "1.6886553752387284e-30\n",
      "1.6886553752387284e-30\n",
      "1.639351568662415e-30\n",
      "1.6886553752387284e-30\n",
      "1.6886553752387284e-30\n",
      "1.6886553752387284e-30\n"
     ]
    }
   ],
   "source": [
    "d = np.array([[5,3,1],[1,3,5],[3,5,1]])\n",
    "print(d)\n",
    "d2 = matrix_factorization(d,3)\n",
    "d2.train_model(learning_rate = .1)"
   ]
  },
  {
   "cell_type": "code",
   "execution_count": 8,
   "id": "843b5e35",
   "metadata": {},
   "outputs": [
    {
     "data": {
      "text/plain": [
       "array([[5., 3., 1.],\n",
       "       [1., 3., 5.],\n",
       "       [3., 5., 1.]])"
      ]
     },
     "execution_count": 8,
     "metadata": {},
     "output_type": "execute_result"
    }
   ],
   "source": [
    "np.dot(d2.user_features,d2.item_features)"
   ]
  },
  {
   "cell_type": "code",
   "execution_count": 14,
   "id": "3feeadc8",
   "metadata": {},
   "outputs": [],
   "source": [
    "### Ahora en Keras\n",
    "\n",
    "from __future__ import print_function, division\n",
    "from builtins import range, input\n",
    "import numpy as np\n",
    "import pandas as pd\n",
    "import matplotlib.pyplot as plt\n",
    "from sklearn.utils import shuffle\n",
    "\n",
    "import tensorflow\n",
    "\n",
    "from tensorflow import keras"
   ]
  },
  {
   "cell_type": "code",
   "execution_count": 15,
   "id": "9db69950",
   "metadata": {},
   "outputs": [],
   "source": [
    "from keras.models import Model\n",
    "from keras.layers import Input, Embedding, Dot, Add, Flatten\n",
    "from keras.regularizers import l2\n",
    "from tensorflow.keras.optimizers import Adam, SGD"
   ]
  },
  {
   "cell_type": "code",
   "execution_count": 16,
   "id": "1b7f83a3",
   "metadata": {},
   "outputs": [],
   "source": [
    "df = pd.read_csv('rating.csv')"
   ]
  },
  {
   "cell_type": "code",
   "execution_count": 17,
   "id": "1129a36b",
   "metadata": {},
   "outputs": [
    {
     "data": {
      "text/html": [
       "<div>\n",
       "<style scoped>\n",
       "    .dataframe tbody tr th:only-of-type {\n",
       "        vertical-align: middle;\n",
       "    }\n",
       "\n",
       "    .dataframe tbody tr th {\n",
       "        vertical-align: top;\n",
       "    }\n",
       "\n",
       "    .dataframe thead th {\n",
       "        text-align: right;\n",
       "    }\n",
       "</style>\n",
       "<table border=\"1\" class=\"dataframe\">\n",
       "  <thead>\n",
       "    <tr style=\"text-align: right;\">\n",
       "      <th></th>\n",
       "      <th>userId</th>\n",
       "      <th>movieId</th>\n",
       "      <th>rating</th>\n",
       "      <th>timestamp</th>\n",
       "    </tr>\n",
       "  </thead>\n",
       "  <tbody>\n",
       "    <tr>\n",
       "      <th>0</th>\n",
       "      <td>1</td>\n",
       "      <td>2</td>\n",
       "      <td>3.5</td>\n",
       "      <td>2005-04-02 23:53:47</td>\n",
       "    </tr>\n",
       "    <tr>\n",
       "      <th>1</th>\n",
       "      <td>1</td>\n",
       "      <td>29</td>\n",
       "      <td>3.5</td>\n",
       "      <td>2005-04-02 23:31:16</td>\n",
       "    </tr>\n",
       "    <tr>\n",
       "      <th>2</th>\n",
       "      <td>1</td>\n",
       "      <td>32</td>\n",
       "      <td>3.5</td>\n",
       "      <td>2005-04-02 23:33:39</td>\n",
       "    </tr>\n",
       "    <tr>\n",
       "      <th>3</th>\n",
       "      <td>1</td>\n",
       "      <td>47</td>\n",
       "      <td>3.5</td>\n",
       "      <td>2005-04-02 23:32:07</td>\n",
       "    </tr>\n",
       "    <tr>\n",
       "      <th>4</th>\n",
       "      <td>1</td>\n",
       "      <td>50</td>\n",
       "      <td>3.5</td>\n",
       "      <td>2005-04-02 23:29:40</td>\n",
       "    </tr>\n",
       "  </tbody>\n",
       "</table>\n",
       "</div>"
      ],
      "text/plain": [
       "   userId  movieId  rating            timestamp\n",
       "0       1        2     3.5  2005-04-02 23:53:47\n",
       "1       1       29     3.5  2005-04-02 23:31:16\n",
       "2       1       32     3.5  2005-04-02 23:33:39\n",
       "3       1       47     3.5  2005-04-02 23:32:07\n",
       "4       1       50     3.5  2005-04-02 23:29:40"
      ]
     },
     "execution_count": 17,
     "metadata": {},
     "output_type": "execute_result"
    }
   ],
   "source": [
    "df.head()"
   ]
  },
  {
   "cell_type": "code",
   "execution_count": 18,
   "id": "620e0d6d",
   "metadata": {},
   "outputs": [],
   "source": [
    "user = df['userId'].value_counts().index\n",
    "map = {k:i for i, k in enumerate(user)}\n",
    "df['userId'] = df['userId'].map(map)"
   ]
  },
  {
   "cell_type": "code",
   "execution_count": 19,
   "id": "a61eb84f",
   "metadata": {},
   "outputs": [],
   "source": [
    "mov = df['movieId'].value_counts().index\n",
    "map = {k:i for i, k in enumerate(mov)}\n",
    "df['movieId'] = df['movieId'].map(map)"
   ]
  },
  {
   "cell_type": "code",
   "execution_count": 21,
   "id": "081c0f46",
   "metadata": {},
   "outputs": [
    {
     "data": {
      "text/plain": [
       "(138492, 26743)"
      ]
     },
     "execution_count": 21,
     "metadata": {},
     "output_type": "execute_result"
    }
   ],
   "source": [
    "N = df['userId'].max()\n",
    "M = df['movieId'].max()\n",
    "\n",
    "df.drop('timestamp', axis = 1, inplace = True)\n",
    "\n",
    "N,M\n",
    "\n"
   ]
  },
  {
   "cell_type": "code",
   "execution_count": 22,
   "id": "f743c9b8",
   "metadata": {},
   "outputs": [],
   "source": [
    "n = 1000\n",
    "m = 800\n",
    "\n",
    "from collections import Counter"
   ]
  },
  {
   "cell_type": "code",
   "execution_count": 23,
   "id": "91c3646f",
   "metadata": {},
   "outputs": [],
   "source": [
    "ucount = Counter(df['userId'])\n",
    "mcount = Counter(df['movieId'])\n",
    "\n",
    "uid = [u for u, c in ucount.most_common(n)]\n",
    "mid = [u for u, c in mcount.most_common(m)]"
   ]
  },
  {
   "cell_type": "code",
   "execution_count": 24,
   "id": "1f5669e7",
   "metadata": {},
   "outputs": [
    {
     "data": {
      "text/html": [
       "<div>\n",
       "<style scoped>\n",
       "    .dataframe tbody tr th:only-of-type {\n",
       "        vertical-align: middle;\n",
       "    }\n",
       "\n",
       "    .dataframe tbody tr th {\n",
       "        vertical-align: top;\n",
       "    }\n",
       "\n",
       "    .dataframe thead th {\n",
       "        text-align: right;\n",
       "    }\n",
       "</style>\n",
       "<table border=\"1\" class=\"dataframe\">\n",
       "  <thead>\n",
       "    <tr style=\"text-align: right;\">\n",
       "      <th></th>\n",
       "      <th>userId</th>\n",
       "      <th>movieId</th>\n",
       "      <th>rating</th>\n",
       "    </tr>\n",
       "  </thead>\n",
       "  <tbody>\n",
       "    <tr>\n",
       "      <th>19846</th>\n",
       "      <td>190</td>\n",
       "      <td>10</td>\n",
       "      <td>5.0</td>\n",
       "    </tr>\n",
       "    <tr>\n",
       "      <th>19847</th>\n",
       "      <td>190</td>\n",
       "      <td>125</td>\n",
       "      <td>5.0</td>\n",
       "    </tr>\n",
       "    <tr>\n",
       "      <th>19848</th>\n",
       "      <td>190</td>\n",
       "      <td>328</td>\n",
       "      <td>2.0</td>\n",
       "    </tr>\n",
       "    <tr>\n",
       "      <th>19850</th>\n",
       "      <td>190</td>\n",
       "      <td>359</td>\n",
       "      <td>3.0</td>\n",
       "    </tr>\n",
       "    <tr>\n",
       "      <th>19851</th>\n",
       "      <td>190</td>\n",
       "      <td>104</td>\n",
       "      <td>4.0</td>\n",
       "    </tr>\n",
       "  </tbody>\n",
       "</table>\n",
       "</div>"
      ],
      "text/plain": [
       "       userId  movieId  rating\n",
       "19846     190       10     5.0\n",
       "19847     190      125     5.0\n",
       "19848     190      328     2.0\n",
       "19850     190      359     3.0\n",
       "19851     190      104     4.0"
      ]
     },
     "execution_count": 24,
     "metadata": {},
     "output_type": "execute_result"
    }
   ],
   "source": [
    "newdf = df[df['userId'].isin(uid) & df['movieId'].isin(mid)]\n",
    "newdf.head()"
   ]
  },
  {
   "cell_type": "code",
   "execution_count": 25,
   "id": "afcb8774",
   "metadata": {},
   "outputs": [
    {
     "name": "stderr",
     "output_type": "stream",
     "text": [
      "/tmp/ipykernel_60578/1454887242.py:6: SettingWithCopyWarning: \n",
      "A value is trying to be set on a copy of a slice from a DataFrame.\n",
      "Try using .loc[row_indexer,col_indexer] = value instead\n",
      "\n",
      "See the caveats in the documentation: https://pandas.pydata.org/pandas-docs/stable/user_guide/indexing.html#returning-a-view-versus-a-copy\n",
      "  newdf['userId'] = newdf['userId'].map(map)\n"
     ]
    }
   ],
   "source": [
    "N = newdf['userId'].max()\n",
    "M = newdf['movieId'].max()\n",
    "\n",
    "user = newdf['userId'].value_counts().index\n",
    "map = {k:i for i, k in enumerate(user)}\n",
    "newdf['userId'] = newdf['userId'].map(map)\n"
   ]
  },
  {
   "cell_type": "code",
   "execution_count": 26,
   "id": "25d5ce33",
   "metadata": {},
   "outputs": [
    {
     "name": "stderr",
     "output_type": "stream",
     "text": [
      "/tmp/ipykernel_60578/1011386342.py:3: SettingWithCopyWarning: \n",
      "A value is trying to be set on a copy of a slice from a DataFrame.\n",
      "Try using .loc[row_indexer,col_indexer] = value instead\n",
      "\n",
      "See the caveats in the documentation: https://pandas.pydata.org/pandas-docs/stable/user_guide/indexing.html#returning-a-view-versus-a-copy\n",
      "  newdf['movieId'] = newdf['movieId'].map(map)\n"
     ]
    }
   ],
   "source": [
    "mov = newdf['movieId'].value_counts().index\n",
    "map = {k:i for i, k in enumerate(mov)}\n",
    "newdf['movieId'] = newdf['movieId'].map(map)"
   ]
  },
  {
   "cell_type": "code",
   "execution_count": 27,
   "id": "038a1a3c",
   "metadata": {},
   "outputs": [
    {
     "data": {
      "text/plain": [
       "425491"
      ]
     },
     "execution_count": 27,
     "metadata": {},
     "output_type": "execute_result"
    }
   ],
   "source": [
    "newdf = shuffle(newdf)\n",
    "cutoff = int(0.8*len(newdf))\n",
    "cutoff"
   ]
  },
  {
   "cell_type": "code",
   "execution_count": 28,
   "id": "1caaa89b",
   "metadata": {},
   "outputs": [],
   "source": [
    "train = newdf.iloc[: cutoff]\n",
    "test = newdf.iloc[cutoff:]"
   ]
  },
  {
   "cell_type": "code",
   "execution_count": 29,
   "id": "23216e90",
   "metadata": {},
   "outputs": [],
   "source": [
    "K = 10\n",
    "mu = newdf['rating'].mean()\n",
    "epochs = 25\n",
    "reg = 0.\n",
    "N = 1000\n",
    "M = 800"
   ]
  },
  {
   "cell_type": "markdown",
   "id": "da1306af",
   "metadata": {},
   "source": [
    "# KERAS"
   ]
  },
  {
   "cell_type": "code",
   "execution_count": 30,
   "id": "1cd16167",
   "metadata": {},
   "outputs": [
    {
     "name": "stderr",
     "output_type": "stream",
     "text": [
      "2022-12-09 15:01:41.232441: I tensorflow/stream_executor/cuda/cuda_gpu_executor.cc:980] successful NUMA node read from SysFS had negative value (-1), but there must be at least one NUMA node, so returning NUMA node zero\n",
      "2022-12-09 15:01:41.274641: I tensorflow/stream_executor/cuda/cuda_gpu_executor.cc:980] successful NUMA node read from SysFS had negative value (-1), but there must be at least one NUMA node, so returning NUMA node zero\n",
      "2022-12-09 15:01:41.274895: I tensorflow/stream_executor/cuda/cuda_gpu_executor.cc:980] successful NUMA node read from SysFS had negative value (-1), but there must be at least one NUMA node, so returning NUMA node zero\n",
      "2022-12-09 15:01:41.275907: I tensorflow/core/platform/cpu_feature_guard.cc:193] This TensorFlow binary is optimized with oneAPI Deep Neural Network Library (oneDNN) to use the following CPU instructions in performance-critical operations:  AVX2 FMA\n",
      "To enable them in other operations, rebuild TensorFlow with the appropriate compiler flags.\n",
      "2022-12-09 15:01:41.276799: I tensorflow/stream_executor/cuda/cuda_gpu_executor.cc:980] successful NUMA node read from SysFS had negative value (-1), but there must be at least one NUMA node, so returning NUMA node zero\n",
      "2022-12-09 15:01:41.277097: I tensorflow/stream_executor/cuda/cuda_gpu_executor.cc:980] successful NUMA node read from SysFS had negative value (-1), but there must be at least one NUMA node, so returning NUMA node zero\n",
      "2022-12-09 15:01:41.277239: I tensorflow/stream_executor/cuda/cuda_gpu_executor.cc:980] successful NUMA node read from SysFS had negative value (-1), but there must be at least one NUMA node, so returning NUMA node zero\n",
      "2022-12-09 15:01:41.964551: I tensorflow/stream_executor/cuda/cuda_gpu_executor.cc:980] successful NUMA node read from SysFS had negative value (-1), but there must be at least one NUMA node, so returning NUMA node zero\n",
      "2022-12-09 15:01:41.965113: I tensorflow/stream_executor/cuda/cuda_gpu_executor.cc:980] successful NUMA node read from SysFS had negative value (-1), but there must be at least one NUMA node, so returning NUMA node zero\n",
      "2022-12-09 15:01:41.965399: I tensorflow/stream_executor/cuda/cuda_gpu_executor.cc:980] successful NUMA node read from SysFS had negative value (-1), but there must be at least one NUMA node, so returning NUMA node zero\n",
      "2022-12-09 15:01:41.965530: I tensorflow/core/common_runtime/gpu/gpu_device.cc:1616] Created device /job:localhost/replica:0/task:0/device:GPU:0 with 6037 MB memory:  -> device: 0, name: NVIDIA GeForce RTX 2070, pci bus id: 0000:06:00.0, compute capability: 7.5\n"
     ]
    }
   ],
   "source": [
    "u = Input(shape=(1,))\n",
    "m = Input(shape=(1,))\n",
    "\n",
    "u_embed = Embedding(N, K, embeddings_regularizer = l2(reg))(u) # size (N,1,K)\n",
    "m_embed = Embedding(M, K, embeddings_regularizer = l2(reg))(m) # size (M,1,K)"
   ]
  },
  {
   "cell_type": "code",
   "execution_count": 35,
   "id": "6555e50b",
   "metadata": {},
   "outputs": [],
   "source": [
    "u_bias = Embedding(N, 1, embeddings_regularizer = l2(reg))(u)\n",
    "m_bias = Embedding(M, 1, embeddings_regularizer = l2(reg))(m)\n",
    "\n",
    "x = Dot(axes = 2)([u_embed, m_embed])\n",
    "\n",
    "x = Add()([x, u_bias, m_bias])\n",
    "x = Flatten()(x) # N,1\n",
    "\n",
    "model = Model(inputs = (u, m),\n",
    "             outputs = x)\n",
    "\n",
    "model.compile(loss = 'mse',\n",
    "             optimizer = Adam(learning_rate = 0.01),\n",
    "             metrics = ['mse'])"
   ]
  },
  {
   "cell_type": "code",
   "execution_count": 36,
   "id": "db9c2ccd",
   "metadata": {},
   "outputs": [
    {
     "name": "stdout",
     "output_type": "stream",
     "text": [
      "Epoch 1/25\n",
      "1663/1663 [==============================] - 4s 2ms/step - loss: 0.6533 - mse: 0.6533 - val_loss: 0.6000 - val_mse: 0.6000\n",
      "Epoch 2/25\n",
      "1663/1663 [==============================] - 4s 2ms/step - loss: 0.5772 - mse: 0.5772 - val_loss: 0.5793 - val_mse: 0.5793\n",
      "Epoch 3/25\n",
      "1663/1663 [==============================] - 4s 2ms/step - loss: 0.5644 - mse: 0.5644 - val_loss: 0.5750 - val_mse: 0.5750\n",
      "Epoch 4/25\n",
      "1663/1663 [==============================] - 3s 2ms/step - loss: 0.5604 - mse: 0.5604 - val_loss: 0.5744 - val_mse: 0.5744\n",
      "Epoch 5/25\n",
      "1663/1663 [==============================] - 4s 2ms/step - loss: 0.5595 - mse: 0.5595 - val_loss: 0.5761 - val_mse: 0.5761\n",
      "Epoch 6/25\n",
      "1663/1663 [==============================] - 4s 2ms/step - loss: 0.5592 - mse: 0.5592 - val_loss: 0.5745 - val_mse: 0.5745\n",
      "Epoch 7/25\n",
      "1663/1663 [==============================] - 4s 2ms/step - loss: 0.5596 - mse: 0.5596 - val_loss: 0.5729 - val_mse: 0.5729\n",
      "Epoch 8/25\n",
      "1663/1663 [==============================] - 4s 2ms/step - loss: 0.5590 - mse: 0.5590 - val_loss: 0.5751 - val_mse: 0.5751\n",
      "Epoch 9/25\n",
      "1663/1663 [==============================] - 4s 2ms/step - loss: 0.5587 - mse: 0.5587 - val_loss: 0.5757 - val_mse: 0.5757\n",
      "Epoch 10/25\n",
      "1663/1663 [==============================] - 4s 2ms/step - loss: 0.5585 - mse: 0.5585 - val_loss: 0.5745 - val_mse: 0.5745\n",
      "Epoch 11/25\n",
      "1663/1663 [==============================] - 4s 2ms/step - loss: 0.5580 - mse: 0.5580 - val_loss: 0.5721 - val_mse: 0.5721\n",
      "Epoch 12/25\n",
      "1663/1663 [==============================] - 4s 2ms/step - loss: 0.5587 - mse: 0.5587 - val_loss: 0.5767 - val_mse: 0.5767\n",
      "Epoch 13/25\n",
      "1663/1663 [==============================] - 4s 2ms/step - loss: 0.5583 - mse: 0.5583 - val_loss: 0.5757 - val_mse: 0.5757\n",
      "Epoch 14/25\n",
      "1663/1663 [==============================] - 4s 2ms/step - loss: 0.5581 - mse: 0.5581 - val_loss: 0.5725 - val_mse: 0.5725\n",
      "Epoch 15/25\n",
      "1663/1663 [==============================] - 4s 2ms/step - loss: 0.5585 - mse: 0.5585 - val_loss: 0.5730 - val_mse: 0.5730\n",
      "Epoch 16/25\n",
      "1663/1663 [==============================] - 4s 2ms/step - loss: 0.5584 - mse: 0.5584 - val_loss: 0.5745 - val_mse: 0.5745\n",
      "Epoch 17/25\n",
      "1663/1663 [==============================] - 4s 2ms/step - loss: 0.5580 - mse: 0.5580 - val_loss: 0.5740 - val_mse: 0.5740\n",
      "Epoch 18/25\n",
      "1663/1663 [==============================] - 4s 2ms/step - loss: 0.5579 - mse: 0.5579 - val_loss: 0.5739 - val_mse: 0.5739\n",
      "Epoch 19/25\n",
      "1663/1663 [==============================] - 4s 2ms/step - loss: 0.5580 - mse: 0.5580 - val_loss: 0.5730 - val_mse: 0.5730\n",
      "Epoch 20/25\n",
      "1663/1663 [==============================] - 4s 2ms/step - loss: 0.5587 - mse: 0.5587 - val_loss: 0.5743 - val_mse: 0.5743\n",
      "Epoch 21/25\n",
      "1663/1663 [==============================] - 4s 2ms/step - loss: 0.5583 - mse: 0.5583 - val_loss: 0.5738 - val_mse: 0.5738\n",
      "Epoch 22/25\n",
      "1663/1663 [==============================] - 3s 2ms/step - loss: 0.5576 - mse: 0.5576 - val_loss: 0.5758 - val_mse: 0.5758\n",
      "Epoch 23/25\n",
      "1663/1663 [==============================] - 4s 2ms/step - loss: 0.5579 - mse: 0.5579 - val_loss: 0.5744 - val_mse: 0.5744\n",
      "Epoch 24/25\n",
      "1663/1663 [==============================] - 4s 2ms/step - loss: 0.5584 - mse: 0.5584 - val_loss: 0.5722 - val_mse: 0.5722\n",
      "Epoch 25/25\n",
      "1663/1663 [==============================] - 4s 2ms/step - loss: 0.5585 - mse: 0.5585 - val_loss: 0.5722 - val_mse: 0.5722\n"
     ]
    }
   ],
   "source": [
    "r = model.fit(x = [train['userId'].values, train['movieId'].values],\n",
    "                 y = train['rating'].values - mu,\n",
    "                 epochs = epochs,\n",
    "                 batch_size = 256,\n",
    "                 validation_data = ([test['userId'].values, test['movieId'].values],\n",
    "                 test['rating'].values - mu)\n",
    "                 )"
   ]
  },
  {
   "cell_type": "code",
   "execution_count": 37,
   "id": "9d142219",
   "metadata": {},
   "outputs": [
    {
     "data": {
      "image/png": "[encoded data removed]",
      "text/plain": [
       "<Figure size 432x288 with 1 Axes>"
      ]
     },
     "metadata": {
      "needs_background": "light"
     },
     "output_type": "display_data"
    },
    {
     "data": {
      "image/png": "[encoded data removed]",
      "text/plain": [
       "<Figure size 432x288 with 1 Axes>"
      ]
     },
     "metadata": {
      "needs_background": "light"
     },
     "output_type": "display_data"
    }
   ],
   "source": [
    "# plot losses\n",
    "plt.plot(r.history['loss'], label=\"train loss\")\n",
    "plt.plot(r.history['val_loss'], label=\"test loss\")\n",
    "plt.legend()\n",
    "plt.show()\n",
    "\n",
    "# plot mse\n",
    "plt.plot(r.history['mse'], label=\"train mse\")\n",
    "plt.plot(r.history['val_mse'], label=\"test mse\")\n",
    "plt.legend()\n",
    "plt.show()\n",
    "\n"
   ]
  },
  {
   "cell_type": "markdown",
   "id": "94582c3b",
   "metadata": {},
   "source": [
    "## OTRO KERAS"
   ]
  },
  {
   "cell_type": "code",
   "execution_count": 42,
   "id": "53e94fb8",
   "metadata": {},
   "outputs": [],
   "source": [
    "from sklearn.datasets import dump_svmlight_file\n",
    "import numpy as np\n",
    "import pandas as pd\n",
    "import os\n",
    "import urllib\n",
    "import zipfile\n",
    "from sklearn.model_selection import train_test_split\n",
    "import shutil\n",
    "import matplotlib.pyplot as plt\n",
    "import warnings\n",
    "warnings.filterwarnings('ignore')\n",
    "%matplotlib inline"
   ]
  },
  {
   "cell_type": "code",
   "execution_count": 53,
   "id": "4d4bd843",
   "metadata": {},
   "outputs": [
    {
     "data": {
      "text/html": [
       "<div>\n",
       "<style scoped>\n",
       "    .dataframe tbody tr th:only-of-type {\n",
       "        vertical-align: middle;\n",
       "    }\n",
       "\n",
       "    .dataframe tbody tr th {\n",
       "        vertical-align: top;\n",
       "    }\n",
       "\n",
       "    .dataframe thead th {\n",
       "        text-align: right;\n",
       "    }\n",
       "</style>\n",
       "<table border=\"1\" class=\"dataframe\">\n",
       "  <thead>\n",
       "    <tr style=\"text-align: right;\">\n",
       "      <th></th>\n",
       "      <th>user_id</th>\n",
       "      <th>item_id</th>\n",
       "      <th>rating</th>\n",
       "      <th>timestamp</th>\n",
       "    </tr>\n",
       "  </thead>\n",
       "  <tbody>\n",
       "    <tr>\n",
       "      <th>0</th>\n",
       "      <td>196</td>\n",
       "      <td>242</td>\n",
       "      <td>3</td>\n",
       "      <td>881250949</td>\n",
       "    </tr>\n",
       "    <tr>\n",
       "      <th>1</th>\n",
       "      <td>186</td>\n",
       "      <td>302</td>\n",
       "      <td>3</td>\n",
       "      <td>891717742</td>\n",
       "    </tr>\n",
       "    <tr>\n",
       "      <th>2</th>\n",
       "      <td>22</td>\n",
       "      <td>377</td>\n",
       "      <td>1</td>\n",
       "      <td>878887116</td>\n",
       "    </tr>\n",
       "    <tr>\n",
       "      <th>3</th>\n",
       "      <td>244</td>\n",
       "      <td>51</td>\n",
       "      <td>2</td>\n",
       "      <td>880606923</td>\n",
       "    </tr>\n",
       "    <tr>\n",
       "      <th>4</th>\n",
       "      <td>166</td>\n",
       "      <td>346</td>\n",
       "      <td>1</td>\n",
       "      <td>886397596</td>\n",
       "    </tr>\n",
       "  </tbody>\n",
       "</table>\n",
       "</div>"
      ],
      "text/plain": [
       "   user_id  item_id  rating  timestamp\n",
       "0      196      242       3  881250949\n",
       "1      186      302       3  891717742\n",
       "2       22      377       1  878887116\n",
       "3      244       51       2  880606923\n",
       "4      166      346       1  886397596"
      ]
     },
     "execution_count": 53,
     "metadata": {},
     "output_type": "execute_result"
    }
   ],
   "source": [
    "dataset = pd.read_csv('ml-100k/u.data',sep='\\t',names=\"user_id,item_id,rating,timestamp\".split(\",\"))\n",
    "dataset.head()"
   ]
  },
  {
   "cell_type": "code",
   "execution_count": 54,
   "id": "f29266a9",
   "metadata": {},
   "outputs": [],
   "source": [
    "dataset.user_id = dataset.user_id.astype('category').cat.codes.values\n",
    "dataset.item_id = dataset.item_id.astype('category').cat.codes.values"
   ]
  },
  {
   "cell_type": "code",
   "execution_count": 55,
   "id": "2d859872",
   "metadata": {},
   "outputs": [],
   "source": [
    "train, test = train_test_split(dataset, test_size=0.2)"
   ]
  },
  {
   "cell_type": "code",
   "execution_count": 57,
   "id": "65794382",
   "metadata": {},
   "outputs": [],
   "source": [
    "#%tensorflow_version 2.x\n",
    "import tensorflow as tf\n",
    "from tensorflow import keras\n",
    "from keras.optimizers import Adam"
   ]
  },
  {
   "cell_type": "code",
   "execution_count": 58,
   "id": "4934c14a",
   "metadata": {},
   "outputs": [],
   "source": [
    "n_users, n_movies = len(dataset.user_id.unique()), len(dataset.item_id.unique())\n",
    "n_latent_factors = 20"
   ]
  },
  {
   "cell_type": "code",
   "execution_count": 59,
   "id": "880565ee",
   "metadata": {},
   "outputs": [],
   "source": [
    "movie_input = keras.layers.Input(shape=[1],name='Item')\n",
    "movie_embedding = keras.layers.Embedding(n_movies + 1, n_latent_factors, name='Movie-Embedding')(movie_input)\n",
    "movie_vec = keras.layers.Flatten(name='FlattenMovies')(movie_embedding)\n",
    "user_input = keras.layers.Input(shape=[1],name='User')\n",
    "user_vec = keras.layers.Flatten(name='FlattenUsers')(keras.layers.Embedding(n_users + 1, n_latent_factors,name='User-Embedding')(user_input))\n",
    "prod = keras.layers.dot([movie_vec, user_vec], axes=1,name='DotProduct')\n",
    "model = keras.Model([user_input, movie_input], prod)"
   ]
  },
  {
   "cell_type": "code",
   "execution_count": 60,
   "id": "378169a4",
   "metadata": {},
   "outputs": [],
   "source": [
    "model.compile(optimizer='adam', loss='mean_squared_error', metrics=['mae', 'mse'])"
   ]
  },
  {
   "cell_type": "code",
   "execution_count": 61,
   "id": "1f629777",
   "metadata": {},
   "outputs": [
    {
     "name": "stdout",
     "output_type": "stream",
     "text": [
      "Model: \"model_2\"\n",
      "__________________________________________________________________________________________________\n",
      " Layer (type)                   Output Shape         Param #     Connected to                     \n",
      "==================================================================================================\n",
      " Item (InputLayer)              [(None, 1)]          0           []                               \n",
      "                                                                                                  \n",
      " User (InputLayer)              [(None, 1)]          0           []                               \n",
      "                                                                                                  \n",
      " Movie-Embedding (Embedding)    (None, 1, 20)        33660       ['Item[0][0]']                   \n",
      "                                                                                                  \n",
      " User-Embedding (Embedding)     (None, 1, 20)        18880       ['User[0][0]']                   \n",
      "                                                                                                  \n",
      " FlattenMovies (Flatten)        (None, 20)           0           ['Movie-Embedding[0][0]']        \n",
      "                                                                                                  \n",
      " FlattenUsers (Flatten)         (None, 20)           0           ['User-Embedding[0][0]']         \n",
      "                                                                                                  \n",
      " DotProduct (Dot)               (None, 1)            0           ['FlattenMovies[0][0]',          \n",
      "                                                                  'FlattenUsers[0][0]']           \n",
      "                                                                                                  \n",
      "==================================================================================================\n",
      "Total params: 52,540\n",
      "Trainable params: 52,540\n",
      "Non-trainable params: 0\n",
      "__________________________________________________________________________________________________\n"
     ]
    }
   ],
   "source": [
    "model.summary()"
   ]
  },
  {
   "cell_type": "code",
   "execution_count": 64,
   "id": "766c69c0",
   "metadata": {},
   "outputs": [
    {
     "name": "stdout",
     "output_type": "stream",
     "text": [
      "You must install pydot (`pip install pydot`) and install graphviz (see instructions at https://graphviz.gitlab.io/download/) for plot_model to work.\n"
     ]
    }
   ],
   "source": [
    "tf.keras.utils.plot_model(model, to_file='model.png')"
   ]
  },
  {
   "cell_type": "code",
   "execution_count": 65,
   "id": "aef3a386",
   "metadata": {},
   "outputs": [],
   "source": [
    "history = model.fit([train.user_id, train.item_id], train.rating, epochs=100, verbose=0)"
   ]
  },
  {
   "cell_type": "code",
   "execution_count": 66,
   "id": "0b2a9e5e",
   "metadata": {},
   "outputs": [
    {
     "data": {
      "text/plain": [
       "Text(0, 0.5, 'Training Error')"
      ]
     },
     "execution_count": 66,
     "metadata": {},
     "output_type": "execute_result"
    },
    {
     "data": {
      "image/png": "[encoded data removed]",
      "text/plain": [
       "<Figure size 432x288 with 1 Axes>"
      ]
     },
     "metadata": {
      "needs_background": "light"
     },
     "output_type": "display_data"
    }
   ],
   "source": [
    "pd.Series(history.history['loss']).plot(logy=True)\n",
    "plt.xlabel(\"Epoch\")\n",
    "plt.ylabel(\"Training Error\")"
   ]
  },
  {
   "cell_type": "code",
   "execution_count": 67,
   "id": "1bbe065b",
   "metadata": {},
   "outputs": [
    {
     "name": "stdout",
     "output_type": "stream",
     "text": [
      "20000/20000 [==============================] - 17s 858us/step - loss: 1.6323 - mae: 0.9540 - mse: 1.6323\n"
     ]
    }
   ],
   "source": [
    "results = model.evaluate((test.user_id, test.item_id), test.rating, batch_size=1)"
   ]
  },
  {
   "cell_type": "code",
   "execution_count": 68,
   "id": "5c62da03",
   "metadata": {},
   "outputs": [
    {
     "data": {
      "text/html": [
       "<div>\n",
       "<style scoped>\n",
       "    .dataframe tbody tr th:only-of-type {\n",
       "        vertical-align: middle;\n",
       "    }\n",
       "\n",
       "    .dataframe tbody tr th {\n",
       "        vertical-align: top;\n",
       "    }\n",
       "\n",
       "    .dataframe thead th {\n",
       "        text-align: right;\n",
       "    }\n",
       "</style>\n",
       "<table border=\"1\" class=\"dataframe\">\n",
       "  <thead>\n",
       "    <tr style=\"text-align: right;\">\n",
       "      <th></th>\n",
       "      <th>0</th>\n",
       "      <th>1</th>\n",
       "      <th>2</th>\n",
       "      <th>3</th>\n",
       "      <th>4</th>\n",
       "      <th>5</th>\n",
       "      <th>6</th>\n",
       "      <th>7</th>\n",
       "      <th>8</th>\n",
       "      <th>9</th>\n",
       "      <th>10</th>\n",
       "      <th>11</th>\n",
       "      <th>12</th>\n",
       "      <th>13</th>\n",
       "      <th>14</th>\n",
       "      <th>15</th>\n",
       "      <th>16</th>\n",
       "      <th>17</th>\n",
       "      <th>18</th>\n",
       "      <th>19</th>\n",
       "    </tr>\n",
       "  </thead>\n",
       "  <tbody>\n",
       "    <tr>\n",
       "      <th>count</th>\n",
       "      <td>1683.000000</td>\n",
       "      <td>1683.000000</td>\n",
       "      <td>1683.000000</td>\n",
       "      <td>1683.000000</td>\n",
       "      <td>1683.000000</td>\n",
       "      <td>1683.000000</td>\n",
       "      <td>1683.000000</td>\n",
       "      <td>1683.000000</td>\n",
       "      <td>1683.000000</td>\n",
       "      <td>1683.000000</td>\n",
       "      <td>1683.000000</td>\n",
       "      <td>1683.000000</td>\n",
       "      <td>1683.000000</td>\n",
       "      <td>1683.000000</td>\n",
       "      <td>1683.000000</td>\n",
       "      <td>1683.000000</td>\n",
       "      <td>1683.000000</td>\n",
       "      <td>1683.000000</td>\n",
       "      <td>1683.000000</td>\n",
       "      <td>1683.000000</td>\n",
       "    </tr>\n",
       "    <tr>\n",
       "      <th>mean</th>\n",
       "      <td>0.343612</td>\n",
       "      <td>0.327326</td>\n",
       "      <td>-0.376392</td>\n",
       "      <td>-0.393836</td>\n",
       "      <td>-0.331065</td>\n",
       "      <td>-0.377590</td>\n",
       "      <td>-0.380024</td>\n",
       "      <td>-0.327238</td>\n",
       "      <td>0.332608</td>\n",
       "      <td>0.355752</td>\n",
       "      <td>-0.378580</td>\n",
       "      <td>0.355877</td>\n",
       "      <td>0.332444</td>\n",
       "      <td>0.357617</td>\n",
       "      <td>0.326443</td>\n",
       "      <td>-0.341117</td>\n",
       "      <td>-0.374555</td>\n",
       "      <td>0.365651</td>\n",
       "      <td>0.342849</td>\n",
       "      <td>-0.383303</td>\n",
       "    </tr>\n",
       "    <tr>\n",
       "      <th>std</th>\n",
       "      <td>0.507168</td>\n",
       "      <td>0.491990</td>\n",
       "      <td>0.433533</td>\n",
       "      <td>0.500015</td>\n",
       "      <td>0.480494</td>\n",
       "      <td>0.485822</td>\n",
       "      <td>0.449263</td>\n",
       "      <td>0.489152</td>\n",
       "      <td>0.482539</td>\n",
       "      <td>0.499640</td>\n",
       "      <td>0.451117</td>\n",
       "      <td>0.464647</td>\n",
       "      <td>0.512664</td>\n",
       "      <td>0.440545</td>\n",
       "      <td>0.527027</td>\n",
       "      <td>0.467481</td>\n",
       "      <td>0.444384</td>\n",
       "      <td>0.487948</td>\n",
       "      <td>0.459237</td>\n",
       "      <td>0.443398</td>\n",
       "    </tr>\n",
       "    <tr>\n",
       "      <th>min</th>\n",
       "      <td>-2.307997</td>\n",
       "      <td>-1.847734</td>\n",
       "      <td>-1.949356</td>\n",
       "      <td>-2.596452</td>\n",
       "      <td>-1.920297</td>\n",
       "      <td>-3.173976</td>\n",
       "      <td>-2.066735</td>\n",
       "      <td>-2.518036</td>\n",
       "      <td>-1.674585</td>\n",
       "      <td>-1.331144</td>\n",
       "      <td>-2.269031</td>\n",
       "      <td>-2.295024</td>\n",
       "      <td>-2.037579</td>\n",
       "      <td>-2.018324</td>\n",
       "      <td>-1.613674</td>\n",
       "      <td>-2.259761</td>\n",
       "      <td>-2.271994</td>\n",
       "      <td>-1.585445</td>\n",
       "      <td>-1.525885</td>\n",
       "      <td>-2.354858</td>\n",
       "    </tr>\n",
       "    <tr>\n",
       "      <th>25%</th>\n",
       "      <td>0.036521</td>\n",
       "      <td>0.053642</td>\n",
       "      <td>-0.611819</td>\n",
       "      <td>-0.655994</td>\n",
       "      <td>-0.611773</td>\n",
       "      <td>-0.630218</td>\n",
       "      <td>-0.643605</td>\n",
       "      <td>-0.601405</td>\n",
       "      <td>0.043715</td>\n",
       "      <td>0.027897</td>\n",
       "      <td>-0.621062</td>\n",
       "      <td>0.106379</td>\n",
       "      <td>0.042718</td>\n",
       "      <td>0.108091</td>\n",
       "      <td>0.000292</td>\n",
       "      <td>-0.620006</td>\n",
       "      <td>-0.611214</td>\n",
       "      <td>0.113827</td>\n",
       "      <td>0.095516</td>\n",
       "      <td>-0.633117</td>\n",
       "    </tr>\n",
       "    <tr>\n",
       "      <th>50%</th>\n",
       "      <td>0.337912</td>\n",
       "      <td>0.336749</td>\n",
       "      <td>-0.366723</td>\n",
       "      <td>-0.381180</td>\n",
       "      <td>-0.336099</td>\n",
       "      <td>-0.369949</td>\n",
       "      <td>-0.381738</td>\n",
       "      <td>-0.316042</td>\n",
       "      <td>0.332749</td>\n",
       "      <td>0.348541</td>\n",
       "      <td>-0.368972</td>\n",
       "      <td>0.345326</td>\n",
       "      <td>0.332464</td>\n",
       "      <td>0.350990</td>\n",
       "      <td>0.304194</td>\n",
       "      <td>-0.342732</td>\n",
       "      <td>-0.371650</td>\n",
       "      <td>0.355178</td>\n",
       "      <td>0.342845</td>\n",
       "      <td>-0.369848</td>\n",
       "    </tr>\n",
       "    <tr>\n",
       "      <th>75%</th>\n",
       "      <td>0.627338</td>\n",
       "      <td>0.619397</td>\n",
       "      <td>-0.129331</td>\n",
       "      <td>-0.083476</td>\n",
       "      <td>-0.104574</td>\n",
       "      <td>-0.119792</td>\n",
       "      <td>-0.128811</td>\n",
       "      <td>-0.062256</td>\n",
       "      <td>0.622143</td>\n",
       "      <td>0.633270</td>\n",
       "      <td>-0.138469</td>\n",
       "      <td>0.622657</td>\n",
       "      <td>0.613774</td>\n",
       "      <td>0.612027</td>\n",
       "      <td>0.639905</td>\n",
       "      <td>-0.057356</td>\n",
       "      <td>-0.126650</td>\n",
       "      <td>0.597771</td>\n",
       "      <td>0.596312</td>\n",
       "      <td>-0.121865</td>\n",
       "    </tr>\n",
       "    <tr>\n",
       "      <th>max</th>\n",
       "      <td>2.104902</td>\n",
       "      <td>2.175833</td>\n",
       "      <td>1.550806</td>\n",
       "      <td>1.619459</td>\n",
       "      <td>2.086248</td>\n",
       "      <td>1.544676</td>\n",
       "      <td>1.332549</td>\n",
       "      <td>2.163068</td>\n",
       "      <td>2.281544</td>\n",
       "      <td>2.406828</td>\n",
       "      <td>1.562844</td>\n",
       "      <td>2.414758</td>\n",
       "      <td>2.819429</td>\n",
       "      <td>2.094247</td>\n",
       "      <td>2.804115</td>\n",
       "      <td>1.429130</td>\n",
       "      <td>1.379358</td>\n",
       "      <td>2.746008</td>\n",
       "      <td>2.320076</td>\n",
       "      <td>1.410749</td>\n",
       "    </tr>\n",
       "  </tbody>\n",
       "</table>\n",
       "</div>"
      ],
      "text/plain": [
       "                0            1   ...           18           19\n",
       "count  1683.000000  1683.000000  ...  1683.000000  1683.000000\n",
       "mean      0.343612     0.327326  ...     0.342849    -0.383303\n",
       "std       0.507168     0.491990  ...     0.459237     0.443398\n",
       "min      -2.307997    -1.847734  ...    -1.525885    -2.354858\n",
       "25%       0.036521     0.053642  ...     0.095516    -0.633117\n",
       "50%       0.337912     0.336749  ...     0.342845    -0.369848\n",
       "75%       0.627338     0.619397  ...     0.596312    -0.121865\n",
       "max       2.104902     2.175833  ...     2.320076     1.410749\n",
       "\n",
       "[8 rows x 20 columns]"
      ]
     },
     "execution_count": 68,
     "metadata": {},
     "output_type": "execute_result"
    }
   ],
   "source": [
    "movie_embedding_learnt = model.get_layer(name='Movie-Embedding').get_weights()[0]\n",
    "pd.DataFrame(movie_embedding_learnt).describe()"
   ]
  },
  {
   "cell_type": "code",
   "execution_count": 69,
   "id": "28cd9b67",
   "metadata": {},
   "outputs": [],
   "source": [
    "user_embedding_learnt = model.get_layer(name='User-Embedding').get_weights()[0]"
   ]
  },
  {
   "cell_type": "code",
   "execution_count": 70,
   "id": "f265f97f",
   "metadata": {},
   "outputs": [],
   "source": [
    "def recommend(user_id, number_of_movies=5):\n",
    "    movies = user_embedding_learnt[user_id]@movie_embedding_learnt.T\n",
    "    mids = np.argpartition(movies, -number_of_movies)[-number_of_movies:]\n",
    "    return mids"
   ]
  },
  {
   "cell_type": "code",
   "execution_count": 71,
   "id": "a0bbcb65",
   "metadata": {},
   "outputs": [
    {
     "data": {
      "text/plain": [
       "array([ 413,  903,  211,  521, 1020])"
      ]
     },
     "execution_count": 71,
     "metadata": {},
     "output_type": "execute_result"
    }
   ],
   "source": [
    "recommend(user_id=1)"
   ]
  },
  {
   "cell_type": "code",
   "execution_count": null,
   "id": "2673bb1a",
   "metadata": {},
   "outputs": [],
   "source": []
  }
 ],
 "metadata": {
  "kernelspec": {
   "display_name": "Python 3 (ipykernel)",
   "language": "python",
   "name": "python3"
  },
  "language_info": {
   "codemirror_mode": {
    "name": "ipython",
    "version": 3
   },
   "file_extension": ".py",
   "mimetype": "text/x-python",
   "name": "python",
   "nbconvert_exporter": "python",
   "pygments_lexer": "ipython3",
   "version": "3.10.6"
  }
 },
 "nbformat": 4,
 "nbformat_minor": 5
}
