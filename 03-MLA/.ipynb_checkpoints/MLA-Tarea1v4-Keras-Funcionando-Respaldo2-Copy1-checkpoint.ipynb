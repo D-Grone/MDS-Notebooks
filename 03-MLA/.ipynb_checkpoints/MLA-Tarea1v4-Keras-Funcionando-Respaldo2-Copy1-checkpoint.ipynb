{
 "cells": [
  {
   "cell_type": "markdown",
   "metadata": {
    "_cell_guid": "b1076dfc-b9ad-4769-8c92-a6c4dae69d19",
    "_uuid": "8f2839f25d086af736a60e9eeb907d3b93b6e0e5"
   },
   "source": [
    "# Prueba"
   ]
  },
  {
   "cell_type": "markdown",
   "metadata": {},
   "source": [
    "## Preparación del Notebook"
   ]
  },
  {
   "cell_type": "markdown",
   "metadata": {},
   "source": [
    "### Importación de Librerías"
   ]
  },
  {
   "cell_type": "code",
   "execution_count": 1,
   "metadata": {
    "_cell_guid": "79c7e3d0-c299-4dcb-8224-4455121ee9b0",
    "_uuid": "d629ff2d2480ee46fbb7e2d37f6b5fab8052498a"
   },
   "outputs": [],
   "source": [
    "# data analysis and wrangling\n",
    "import pandas as pd\n",
    "#import numpy as np\n",
    "#import random as rnd\n",
    "import opendatasets as od\n",
    "\n",
    "# visualization\n",
    "import seaborn as sns\n",
    "import matplotlib.pyplot as plt\n",
    "%matplotlib inline\n",
    "\n",
    "# machine learning\n",
    "import keras\n",
    "from keras.models import Sequential\n",
    "from keras.layers import Dense\n",
    "from keras import models, layers, optimizers, regularizers\n",
    "from sklearn.preprocessing import LabelEncoder\n",
    "from sklearn.model_selection import train_test_split\n",
    "from sklearn.preprocessing import MinMaxScaler\n",
    "#from sklearn.linear_model import LogisticRegression, RidgeClassifierCV\n",
    "#from sklearn.svm import SVC, LinearSVC\n",
    "#from sklearn.ensemble import (RandomForestClassifier, GradientBoostingClassifier)\n",
    "#from sklearn.neighbors import KNeighborsClassifier\n",
    "#from sklearn.naive_bayes import GaussianNB\n",
    "#from sklearn.linear_model import Perceptron\n",
    "#from sklearn.linear_model import SGDClassifier\n",
    "#from sklearn.tree import DecisionTreeClassifier\n",
    "#from sklearn.model_selection import cross_val_score, GridSearchCV\n",
    "#from sklearn.metrics import accuracy_scor"
   ]
  },
  {
   "cell_type": "markdown",
   "metadata": {
    "_uuid": "7f8e96a9cfedcda9da89eeaf848f74555a156869"
   },
   "source": [
    "### Descarga de Datasets desde Kaggle"
   ]
  },
  {
   "cell_type": "code",
   "execution_count": 2,
   "metadata": {
    "scrolled": true
   },
   "outputs": [
    {
     "name": "stdout",
     "output_type": "stream",
     "text": [
      "Skipping, found downloaded files in \".\\titanic\" (use force=True to force download)\n"
     ]
    },
    {
     "data": {
      "text/plain": [
       "{'username': 'dgrone', 'key': '8e16739c70ce24ea1e6d9a45b61e9796'}"
      ]
     },
     "execution_count": 2,
     "metadata": {},
     "output_type": "execute_result"
    }
   ],
   "source": [
    "od.download(\"https://www.kaggle.com/c/titanic/data\")\n",
    "{\"username\":\"dgrone\",\"key\":\"8e16739c70ce24ea1e6d9a45b61e9796\"}"
   ]
  },
  {
   "cell_type": "markdown",
   "metadata": {},
   "source": [
    "### Carga de Datasets"
   ]
  },
  {
   "cell_type": "code",
   "execution_count": 3,
   "metadata": {
    "scrolled": true
   },
   "outputs": [],
   "source": [
    "#train_folder = \"c:/Users/pablo/OneDrive/Documentos/GitHub/MDS-Notebooks/03-MLA/titanic/train.csv\"\n",
    "train_folder = \"titanic/train.csv\"\n",
    "train_df = pd.read_csv(train_folder)"
   ]
  },
  {
   "cell_type": "code",
   "execution_count": 4,
   "metadata": {},
   "outputs": [],
   "source": [
    "#test_folder = \"c:/Users/pablo/OneDrive/Documentos/GitHub/MDS-Notebooks/03-MLA/titanic/test.csv\"\n",
    "test_folder = \"titanic/test.csv\"\n",
    "test_df = pd.read_csv(test_folder)"
   ]
  },
  {
   "cell_type": "code",
   "execution_count": 5,
   "metadata": {},
   "outputs": [
    {
     "data": {
      "text/html": [
       "<div>\n",
       "<style scoped>\n",
       "    .dataframe tbody tr th:only-of-type {\n",
       "        vertical-align: middle;\n",
       "    }\n",
       "\n",
       "    .dataframe tbody tr th {\n",
       "        vertical-align: top;\n",
       "    }\n",
       "\n",
       "    .dataframe thead th {\n",
       "        text-align: right;\n",
       "    }\n",
       "</style>\n",
       "<table border=\"1\" class=\"dataframe\">\n",
       "  <thead>\n",
       "    <tr style=\"text-align: right;\">\n",
       "      <th></th>\n",
       "      <th>PassengerId</th>\n",
       "      <th>Pclass</th>\n",
       "      <th>Name</th>\n",
       "      <th>Sex</th>\n",
       "      <th>Age</th>\n",
       "      <th>SibSp</th>\n",
       "      <th>Parch</th>\n",
       "      <th>Ticket</th>\n",
       "      <th>Fare</th>\n",
       "      <th>Cabin</th>\n",
       "      <th>Embarked</th>\n",
       "    </tr>\n",
       "  </thead>\n",
       "  <tbody>\n",
       "    <tr>\n",
       "      <th>0</th>\n",
       "      <td>892</td>\n",
       "      <td>3</td>\n",
       "      <td>Kelly, Mr. James</td>\n",
       "      <td>male</td>\n",
       "      <td>34.5</td>\n",
       "      <td>0</td>\n",
       "      <td>0</td>\n",
       "      <td>330911</td>\n",
       "      <td>7.8292</td>\n",
       "      <td>NaN</td>\n",
       "      <td>Q</td>\n",
       "    </tr>\n",
       "    <tr>\n",
       "      <th>1</th>\n",
       "      <td>893</td>\n",
       "      <td>3</td>\n",
       "      <td>Wilkes, Mrs. James (Ellen Needs)</td>\n",
       "      <td>female</td>\n",
       "      <td>47.0</td>\n",
       "      <td>1</td>\n",
       "      <td>0</td>\n",
       "      <td>363272</td>\n",
       "      <td>7.0000</td>\n",
       "      <td>NaN</td>\n",
       "      <td>S</td>\n",
       "    </tr>\n",
       "    <tr>\n",
       "      <th>2</th>\n",
       "      <td>894</td>\n",
       "      <td>2</td>\n",
       "      <td>Myles, Mr. Thomas Francis</td>\n",
       "      <td>male</td>\n",
       "      <td>62.0</td>\n",
       "      <td>0</td>\n",
       "      <td>0</td>\n",
       "      <td>240276</td>\n",
       "      <td>9.6875</td>\n",
       "      <td>NaN</td>\n",
       "      <td>Q</td>\n",
       "    </tr>\n",
       "    <tr>\n",
       "      <th>3</th>\n",
       "      <td>895</td>\n",
       "      <td>3</td>\n",
       "      <td>Wirz, Mr. Albert</td>\n",
       "      <td>male</td>\n",
       "      <td>27.0</td>\n",
       "      <td>0</td>\n",
       "      <td>0</td>\n",
       "      <td>315154</td>\n",
       "      <td>8.6625</td>\n",
       "      <td>NaN</td>\n",
       "      <td>S</td>\n",
       "    </tr>\n",
       "    <tr>\n",
       "      <th>4</th>\n",
       "      <td>896</td>\n",
       "      <td>3</td>\n",
       "      <td>Hirvonen, Mrs. Alexander (Helga E Lindqvist)</td>\n",
       "      <td>female</td>\n",
       "      <td>22.0</td>\n",
       "      <td>1</td>\n",
       "      <td>1</td>\n",
       "      <td>3101298</td>\n",
       "      <td>12.2875</td>\n",
       "      <td>NaN</td>\n",
       "      <td>S</td>\n",
       "    </tr>\n",
       "  </tbody>\n",
       "</table>\n",
       "</div>"
      ],
      "text/plain": [
       "   PassengerId  Pclass                                          Name     Sex  \\\n",
       "0          892       3                              Kelly, Mr. James    male   \n",
       "1          893       3              Wilkes, Mrs. James (Ellen Needs)  female   \n",
       "2          894       2                     Myles, Mr. Thomas Francis    male   \n",
       "3          895       3                              Wirz, Mr. Albert    male   \n",
       "4          896       3  Hirvonen, Mrs. Alexander (Helga E Lindqvist)  female   \n",
       "\n",
       "    Age  SibSp  Parch   Ticket     Fare Cabin Embarked  \n",
       "0  34.5      0      0   330911   7.8292   NaN        Q  \n",
       "1  47.0      1      0   363272   7.0000   NaN        S  \n",
       "2  62.0      0      0   240276   9.6875   NaN        Q  \n",
       "3  27.0      0      0   315154   8.6625   NaN        S  \n",
       "4  22.0      1      1  3101298  12.2875   NaN        S  "
      ]
     },
     "execution_count": 5,
     "metadata": {},
     "output_type": "execute_result"
    }
   ],
   "source": [
    "test_df.head()"
   ]
  },
  {
   "cell_type": "markdown",
   "metadata": {},
   "source": [
    "## 1.- Limpieza de Datos"
   ]
  },
  {
   "cell_type": "markdown",
   "metadata": {},
   "source": [
    "### 1.1.- Dataset de Entrenamiento"
   ]
  },
  {
   "cell_type": "markdown",
   "metadata": {},
   "source": [
    "##### Dataset de Entrenamiento Original"
   ]
  },
  {
   "cell_type": "code",
   "execution_count": 6,
   "metadata": {
    "scrolled": false
   },
   "outputs": [
    {
     "data": {
      "text/html": [
       "<div>\n",
       "<style scoped>\n",
       "    .dataframe tbody tr th:only-of-type {\n",
       "        vertical-align: middle;\n",
       "    }\n",
       "\n",
       "    .dataframe tbody tr th {\n",
       "        vertical-align: top;\n",
       "    }\n",
       "\n",
       "    .dataframe thead th {\n",
       "        text-align: right;\n",
       "    }\n",
       "</style>\n",
       "<table border=\"1\" class=\"dataframe\">\n",
       "  <thead>\n",
       "    <tr style=\"text-align: right;\">\n",
       "      <th></th>\n",
       "      <th>PassengerId</th>\n",
       "      <th>Survived</th>\n",
       "      <th>Pclass</th>\n",
       "      <th>Name</th>\n",
       "      <th>Sex</th>\n",
       "      <th>Age</th>\n",
       "      <th>SibSp</th>\n",
       "      <th>Parch</th>\n",
       "      <th>Ticket</th>\n",
       "      <th>Fare</th>\n",
       "      <th>Cabin</th>\n",
       "      <th>Embarked</th>\n",
       "    </tr>\n",
       "  </thead>\n",
       "  <tbody>\n",
       "    <tr>\n",
       "      <th>0</th>\n",
       "      <td>1</td>\n",
       "      <td>0</td>\n",
       "      <td>3</td>\n",
       "      <td>Braund, Mr. Owen Harris</td>\n",
       "      <td>male</td>\n",
       "      <td>22.0</td>\n",
       "      <td>1</td>\n",
       "      <td>0</td>\n",
       "      <td>A/5 21171</td>\n",
       "      <td>7.2500</td>\n",
       "      <td>NaN</td>\n",
       "      <td>S</td>\n",
       "    </tr>\n",
       "    <tr>\n",
       "      <th>1</th>\n",
       "      <td>2</td>\n",
       "      <td>1</td>\n",
       "      <td>1</td>\n",
       "      <td>Cumings, Mrs. John Bradley (Florence Briggs Th...</td>\n",
       "      <td>female</td>\n",
       "      <td>38.0</td>\n",
       "      <td>1</td>\n",
       "      <td>0</td>\n",
       "      <td>PC 17599</td>\n",
       "      <td>71.2833</td>\n",
       "      <td>C85</td>\n",
       "      <td>C</td>\n",
       "    </tr>\n",
       "    <tr>\n",
       "      <th>2</th>\n",
       "      <td>3</td>\n",
       "      <td>1</td>\n",
       "      <td>3</td>\n",
       "      <td>Heikkinen, Miss. Laina</td>\n",
       "      <td>female</td>\n",
       "      <td>26.0</td>\n",
       "      <td>0</td>\n",
       "      <td>0</td>\n",
       "      <td>STON/O2. 3101282</td>\n",
       "      <td>7.9250</td>\n",
       "      <td>NaN</td>\n",
       "      <td>S</td>\n",
       "    </tr>\n",
       "    <tr>\n",
       "      <th>3</th>\n",
       "      <td>4</td>\n",
       "      <td>1</td>\n",
       "      <td>1</td>\n",
       "      <td>Futrelle, Mrs. Jacques Heath (Lily May Peel)</td>\n",
       "      <td>female</td>\n",
       "      <td>35.0</td>\n",
       "      <td>1</td>\n",
       "      <td>0</td>\n",
       "      <td>113803</td>\n",
       "      <td>53.1000</td>\n",
       "      <td>C123</td>\n",
       "      <td>S</td>\n",
       "    </tr>\n",
       "    <tr>\n",
       "      <th>4</th>\n",
       "      <td>5</td>\n",
       "      <td>0</td>\n",
       "      <td>3</td>\n",
       "      <td>Allen, Mr. William Henry</td>\n",
       "      <td>male</td>\n",
       "      <td>35.0</td>\n",
       "      <td>0</td>\n",
       "      <td>0</td>\n",
       "      <td>373450</td>\n",
       "      <td>8.0500</td>\n",
       "      <td>NaN</td>\n",
       "      <td>S</td>\n",
       "    </tr>\n",
       "  </tbody>\n",
       "</table>\n",
       "</div>"
      ],
      "text/plain": [
       "   PassengerId  Survived  Pclass  \\\n",
       "0            1         0       3   \n",
       "1            2         1       1   \n",
       "2            3         1       3   \n",
       "3            4         1       1   \n",
       "4            5         0       3   \n",
       "\n",
       "                                                Name     Sex   Age  SibSp  \\\n",
       "0                            Braund, Mr. Owen Harris    male  22.0      1   \n",
       "1  Cumings, Mrs. John Bradley (Florence Briggs Th...  female  38.0      1   \n",
       "2                             Heikkinen, Miss. Laina  female  26.0      0   \n",
       "3       Futrelle, Mrs. Jacques Heath (Lily May Peel)  female  35.0      1   \n",
       "4                           Allen, Mr. William Henry    male  35.0      0   \n",
       "\n",
       "   Parch            Ticket     Fare Cabin Embarked  \n",
       "0      0         A/5 21171   7.2500   NaN        S  \n",
       "1      0          PC 17599  71.2833   C85        C  \n",
       "2      0  STON/O2. 3101282   7.9250   NaN        S  \n",
       "3      0            113803  53.1000  C123        S  \n",
       "4      0            373450   8.0500   NaN        S  "
      ]
     },
     "execution_count": 6,
     "metadata": {},
     "output_type": "execute_result"
    }
   ],
   "source": [
    "train_df.head()"
   ]
  },
  {
   "cell_type": "markdown",
   "metadata": {},
   "source": [
    "##### Información de Variables"
   ]
  },
  {
   "cell_type": "code",
   "execution_count": 7,
   "metadata": {
    "scrolled": true
   },
   "outputs": [
    {
     "name": "stdout",
     "output_type": "stream",
     "text": [
      "<class 'pandas.core.frame.DataFrame'>\n",
      "RangeIndex: 891 entries, 0 to 890\n",
      "Data columns (total 12 columns):\n",
      " #   Column       Non-Null Count  Dtype  \n",
      "---  ------       --------------  -----  \n",
      " 0   PassengerId  891 non-null    int64  \n",
      " 1   Survived     891 non-null    int64  \n",
      " 2   Pclass       891 non-null    int64  \n",
      " 3   Name         891 non-null    object \n",
      " 4   Sex          891 non-null    object \n",
      " 5   Age          714 non-null    float64\n",
      " 6   SibSp        891 non-null    int64  \n",
      " 7   Parch        891 non-null    int64  \n",
      " 8   Ticket       891 non-null    object \n",
      " 9   Fare         891 non-null    float64\n",
      " 10  Cabin        204 non-null    object \n",
      " 11  Embarked     889 non-null    object \n",
      "dtypes: float64(2), int64(5), object(5)\n",
      "memory usage: 83.7+ KB\n"
     ]
    }
   ],
   "source": [
    "train_df.info()"
   ]
  },
  {
   "cell_type": "markdown",
   "metadata": {},
   "source": [
    "### 1.2.- Primera Limpieza de Datos "
   ]
  },
  {
   "cell_type": "markdown",
   "metadata": {},
   "source": [
    "##### Renombramos Pclass por TicketClass\n",
    "Esto se realiza para tener un nombre mas representativo"
   ]
  },
  {
   "cell_type": "code",
   "execution_count": 8,
   "metadata": {},
   "outputs": [],
   "source": [
    "train_df = train_df.rename(columns = {'Pclass' : 'TicketClass'})"
   ]
  },
  {
   "cell_type": "markdown",
   "metadata": {},
   "source": [
    "##### Análisis de Variable \"Ticket\"\n",
    "En la información de la variable se aprecia que es del tipo objeto y en el Dataframe es posible apreciar que posee diferentes valores, por lo cual el número de ticket podría no ser representativo para el análisis"
   ]
  },
  {
   "cell_type": "code",
   "execution_count": 9,
   "metadata": {},
   "outputs": [
    {
     "data": {
      "text/plain": [
       "681"
      ]
     },
     "execution_count": 9,
     "metadata": {},
     "output_type": "execute_result"
    }
   ],
   "source": [
    "len(train_df['Ticket'].unique())"
   ]
  },
  {
   "cell_type": "markdown",
   "metadata": {},
   "source": [
    "##### Codificación de Edad\n",
    "Se reemplazan los valores nulos de edad por la media y se agrupan las edades en 2 grupos. Para menores de 14 años como niños y para mayores de 14 años como no-niños"
   ]
  },
  {
   "cell_type": "code",
   "execution_count": 10,
   "metadata": {
    "scrolled": false
   },
   "outputs": [],
   "source": [
    "median_age = train_df['Age'].median()\n",
    "train_df['Age'].fillna(median_age, inplace=True)\n",
    "train_df['Age']=train_df['Age'].astype(int)"
   ]
  },
  {
   "cell_type": "markdown",
   "metadata": {},
   "source": [
    "bins = [ 0, 14, 26, 50, 100] \n",
    "age_index = (1,2,3,4) #(niños, jovenes, adultos, ancianos)\n",
    "train_df['Age-bin'] = pd.cut(train_df.Age, bins, labels=age_index)\n",
    "\n",
    "train_df[['Age-bin', 'Survived']].groupby(['Age-bin'],as_index=False).mean()"
   ]
  },
  {
   "cell_type": "code",
   "execution_count": 11,
   "metadata": {
    "scrolled": true
   },
   "outputs": [
    {
     "data": {
      "text/html": [
       "<div>\n",
       "<style scoped>\n",
       "    .dataframe tbody tr th:only-of-type {\n",
       "        vertical-align: middle;\n",
       "    }\n",
       "\n",
       "    .dataframe tbody tr th {\n",
       "        vertical-align: top;\n",
       "    }\n",
       "\n",
       "    .dataframe thead th {\n",
       "        text-align: right;\n",
       "    }\n",
       "</style>\n",
       "<table border=\"1\" class=\"dataframe\">\n",
       "  <thead>\n",
       "    <tr style=\"text-align: right;\">\n",
       "      <th></th>\n",
       "      <th>Age-bin</th>\n",
       "      <th>Survived</th>\n",
       "    </tr>\n",
       "  </thead>\n",
       "  <tbody>\n",
       "    <tr>\n",
       "      <th>0</th>\n",
       "      <td>0</td>\n",
       "      <td>0.535211</td>\n",
       "    </tr>\n",
       "    <tr>\n",
       "      <th>1</th>\n",
       "      <td>1</td>\n",
       "      <td>0.365314</td>\n",
       "    </tr>\n",
       "  </tbody>\n",
       "</table>\n",
       "</div>"
      ],
      "text/plain": [
       "  Age-bin  Survived\n",
       "0       0  0.535211\n",
       "1       1  0.365314"
      ]
     },
     "execution_count": 11,
     "metadata": {},
     "output_type": "execute_result"
    }
   ],
   "source": [
    "bins = [ 0, 14, 100] \n",
    "age_index = (0,1) #(niños, no-niños)\n",
    "train_df['Age-bin'] = pd.cut(train_df.Age, bins, labels=age_index)\n",
    "\n",
    "train_df[['Age-bin', 'Survived']].groupby(['Age-bin'],as_index=False).mean()"
   ]
  },
  {
   "cell_type": "markdown",
   "metadata": {},
   "source": [
    "##### Categorización de Embarque\n",
    "Se completan los datos nulos conaquel que presenta mayor número de repeticiones (moda) y luegos se reemplaza la columna de \"Embarqued\" por 3 columnas, una para cada categoría de embarque (Q,C y S)."
   ]
  },
  {
   "cell_type": "code",
   "execution_count": 12,
   "metadata": {},
   "outputs": [],
   "source": [
    "embarked_mode = train_df['Embarked'].mode()\n",
    "train_df['Embarked'].fillna(embarked_mode.values[0], inplace=True)"
   ]
  },
  {
   "cell_type": "code",
   "execution_count": 13,
   "metadata": {},
   "outputs": [],
   "source": [
    "Embarked_dum = pd.get_dummies(train_df['Embarked'], prefix = \"embarked\")\n",
    "train_df = pd.concat([train_df, Embarked_dum], axis = 1)"
   ]
  },
  {
   "cell_type": "code",
   "execution_count": null,
   "metadata": {},
   "outputs": [],
   "source": []
  },
  {
   "cell_type": "markdown",
   "metadata": {},
   "source": [
    "##### Categorización de las Tarifas\n",
    "Mediante el gráfico de distribución de la supervivencia respecto a las tarifas pagadas, es posible apreciar que gran parte de la mortandad se centra en las tarifas más pequeñas."
   ]
  },
  {
   "cell_type": "code",
   "execution_count": 14,
   "metadata": {},
   "outputs": [
    {
     "data": {
      "text/plain": [
       "<AxesSubplot:xlabel='Fare', ylabel='Count'>"
      ]
     },
     "execution_count": 14,
     "metadata": {},
     "output_type": "execute_result"
    },
    {
     "data": {
      "image/png": "[encoded data removed]",
      "text/plain": [
       "<Figure size 432x288 with 1 Axes>"
      ]
     },
     "metadata": {
      "needs_background": "light"
     },
     "output_type": "display_data"
    }
   ],
   "source": [
    "sns.histplot(x='Fare', data=train_df, hue='Survived')"
   ]
  },
  {
   "cell_type": "code",
   "execution_count": 15,
   "metadata": {},
   "outputs": [],
   "source": [
    "median_fare = train_df['Fare'].median()\n",
    "train_df['Fare'].fillna(median_fare, inplace=True)"
   ]
  },
  {
   "cell_type": "code",
   "execution_count": 16,
   "metadata": {},
   "outputs": [],
   "source": [
    "train_df['Fare_cat'] = pd.cut(train_df['Fare'], bins=[-1, 35, float('Inf')], labels=['cheap', 'expensive'])\n",
    "Fare_dum = pd.get_dummies(train_df['Fare_cat'], prefix = \"fare\")\n",
    "train_df = pd.concat([train_df, Fare_dum], axis = 1)"
   ]
  },
  {
   "cell_type": "markdown",
   "metadata": {},
   "source": [
    "##### Eliminación de Variables\n",
    "Se eliminan las variabres que no contribuyen al análisis:\n",
    "- Nombre: No proporciona información referente a la supervivencia de un pasajero\n",
    "- Ticket: Posee 681 valores diferentes, lo que no aporta en identificar la supervivencia\n",
    "- Cabina: Posee valor solo en 204 de 891 individuos equivalente a aproximadamente un 23%, por lo cual no es recomendable reemplazar los valores"
   ]
  },
  {
   "cell_type": "code",
   "execution_count": null,
   "metadata": {},
   "outputs": [],
   "source": []
  },
  {
   "cell_type": "code",
   "execution_count": 17,
   "metadata": {},
   "outputs": [],
   "source": [
    "train_df = train_df.drop(['Name','Ticket','Fare','Age','Cabin','Embarked','Fare_cat'],axis =1)"
   ]
  },
  {
   "cell_type": "code",
   "execution_count": 18,
   "metadata": {
    "scrolled": false
   },
   "outputs": [
    {
     "data": {
      "text/html": [
       "<div>\n",
       "<style scoped>\n",
       "    .dataframe tbody tr th:only-of-type {\n",
       "        vertical-align: middle;\n",
       "    }\n",
       "\n",
       "    .dataframe tbody tr th {\n",
       "        vertical-align: top;\n",
       "    }\n",
       "\n",
       "    .dataframe thead th {\n",
       "        text-align: right;\n",
       "    }\n",
       "</style>\n",
       "<table border=\"1\" class=\"dataframe\">\n",
       "  <thead>\n",
       "    <tr style=\"text-align: right;\">\n",
       "      <th></th>\n",
       "      <th>PassengerId</th>\n",
       "      <th>Survived</th>\n",
       "      <th>TicketClass</th>\n",
       "      <th>Sex</th>\n",
       "      <th>SibSp</th>\n",
       "      <th>Parch</th>\n",
       "      <th>Age-bin</th>\n",
       "      <th>embarked_C</th>\n",
       "      <th>embarked_Q</th>\n",
       "      <th>embarked_S</th>\n",
       "      <th>fare_cheap</th>\n",
       "      <th>fare_expensive</th>\n",
       "    </tr>\n",
       "  </thead>\n",
       "  <tbody>\n",
       "    <tr>\n",
       "      <th>0</th>\n",
       "      <td>1</td>\n",
       "      <td>0</td>\n",
       "      <td>3</td>\n",
       "      <td>male</td>\n",
       "      <td>1</td>\n",
       "      <td>0</td>\n",
       "      <td>1</td>\n",
       "      <td>0</td>\n",
       "      <td>0</td>\n",
       "      <td>1</td>\n",
       "      <td>1</td>\n",
       "      <td>0</td>\n",
       "    </tr>\n",
       "    <tr>\n",
       "      <th>1</th>\n",
       "      <td>2</td>\n",
       "      <td>1</td>\n",
       "      <td>1</td>\n",
       "      <td>female</td>\n",
       "      <td>1</td>\n",
       "      <td>0</td>\n",
       "      <td>1</td>\n",
       "      <td>1</td>\n",
       "      <td>0</td>\n",
       "      <td>0</td>\n",
       "      <td>0</td>\n",
       "      <td>1</td>\n",
       "    </tr>\n",
       "    <tr>\n",
       "      <th>2</th>\n",
       "      <td>3</td>\n",
       "      <td>1</td>\n",
       "      <td>3</td>\n",
       "      <td>female</td>\n",
       "      <td>0</td>\n",
       "      <td>0</td>\n",
       "      <td>1</td>\n",
       "      <td>0</td>\n",
       "      <td>0</td>\n",
       "      <td>1</td>\n",
       "      <td>1</td>\n",
       "      <td>0</td>\n",
       "    </tr>\n",
       "    <tr>\n",
       "      <th>3</th>\n",
       "      <td>4</td>\n",
       "      <td>1</td>\n",
       "      <td>1</td>\n",
       "      <td>female</td>\n",
       "      <td>1</td>\n",
       "      <td>0</td>\n",
       "      <td>1</td>\n",
       "      <td>0</td>\n",
       "      <td>0</td>\n",
       "      <td>1</td>\n",
       "      <td>0</td>\n",
       "      <td>1</td>\n",
       "    </tr>\n",
       "    <tr>\n",
       "      <th>4</th>\n",
       "      <td>5</td>\n",
       "      <td>0</td>\n",
       "      <td>3</td>\n",
       "      <td>male</td>\n",
       "      <td>0</td>\n",
       "      <td>0</td>\n",
       "      <td>1</td>\n",
       "      <td>0</td>\n",
       "      <td>0</td>\n",
       "      <td>1</td>\n",
       "      <td>1</td>\n",
       "      <td>0</td>\n",
       "    </tr>\n",
       "  </tbody>\n",
       "</table>\n",
       "</div>"
      ],
      "text/plain": [
       "   PassengerId  Survived  TicketClass     Sex  SibSp  Parch Age-bin  \\\n",
       "0            1         0            3    male      1      0       1   \n",
       "1            2         1            1  female      1      0       1   \n",
       "2            3         1            3  female      0      0       1   \n",
       "3            4         1            1  female      1      0       1   \n",
       "4            5         0            3    male      0      0       1   \n",
       "\n",
       "   embarked_C  embarked_Q  embarked_S  fare_cheap  fare_expensive  \n",
       "0           0           0           1           1               0  \n",
       "1           1           0           0           0               1  \n",
       "2           0           0           1           1               0  \n",
       "3           0           0           1           0               1  \n",
       "4           0           0           1           1               0  "
      ]
     },
     "execution_count": 18,
     "metadata": {},
     "output_type": "execute_result"
    }
   ],
   "source": [
    "train_df.head()"
   ]
  },
  {
   "cell_type": "markdown",
   "metadata": {},
   "source": [
    "##### Etiquetación de Variables\n",
    "En este caso se modifica el tipo de la variable \"Sexo\" de tipo \"objeto\" a etiquetas codificadas en forma \"numérica\"."
   ]
  },
  {
   "cell_type": "code",
   "execution_count": 19,
   "metadata": {},
   "outputs": [],
   "source": [
    "label_encoder_sex = LabelEncoder()\n",
    "train_df.iloc[:,3]  = label_encoder_sex.fit_transform(train_df.iloc[:,3])"
   ]
  },
  {
   "cell_type": "code",
   "execution_count": 20,
   "metadata": {
    "scrolled": false
   },
   "outputs": [
    {
     "data": {
      "text/html": [
       "<div>\n",
       "<style scoped>\n",
       "    .dataframe tbody tr th:only-of-type {\n",
       "        vertical-align: middle;\n",
       "    }\n",
       "\n",
       "    .dataframe tbody tr th {\n",
       "        vertical-align: top;\n",
       "    }\n",
       "\n",
       "    .dataframe thead th {\n",
       "        text-align: right;\n",
       "    }\n",
       "</style>\n",
       "<table border=\"1\" class=\"dataframe\">\n",
       "  <thead>\n",
       "    <tr style=\"text-align: right;\">\n",
       "      <th></th>\n",
       "      <th>PassengerId</th>\n",
       "      <th>Survived</th>\n",
       "      <th>TicketClass</th>\n",
       "      <th>Sex</th>\n",
       "      <th>SibSp</th>\n",
       "      <th>Parch</th>\n",
       "      <th>Age-bin</th>\n",
       "      <th>embarked_C</th>\n",
       "      <th>embarked_Q</th>\n",
       "      <th>embarked_S</th>\n",
       "      <th>fare_cheap</th>\n",
       "      <th>fare_expensive</th>\n",
       "    </tr>\n",
       "  </thead>\n",
       "  <tbody>\n",
       "    <tr>\n",
       "      <th>0</th>\n",
       "      <td>1</td>\n",
       "      <td>0</td>\n",
       "      <td>3</td>\n",
       "      <td>1</td>\n",
       "      <td>1</td>\n",
       "      <td>0</td>\n",
       "      <td>1</td>\n",
       "      <td>0</td>\n",
       "      <td>0</td>\n",
       "      <td>1</td>\n",
       "      <td>1</td>\n",
       "      <td>0</td>\n",
       "    </tr>\n",
       "    <tr>\n",
       "      <th>1</th>\n",
       "      <td>2</td>\n",
       "      <td>1</td>\n",
       "      <td>1</td>\n",
       "      <td>0</td>\n",
       "      <td>1</td>\n",
       "      <td>0</td>\n",
       "      <td>1</td>\n",
       "      <td>1</td>\n",
       "      <td>0</td>\n",
       "      <td>0</td>\n",
       "      <td>0</td>\n",
       "      <td>1</td>\n",
       "    </tr>\n",
       "    <tr>\n",
       "      <th>2</th>\n",
       "      <td>3</td>\n",
       "      <td>1</td>\n",
       "      <td>3</td>\n",
       "      <td>0</td>\n",
       "      <td>0</td>\n",
       "      <td>0</td>\n",
       "      <td>1</td>\n",
       "      <td>0</td>\n",
       "      <td>0</td>\n",
       "      <td>1</td>\n",
       "      <td>1</td>\n",
       "      <td>0</td>\n",
       "    </tr>\n",
       "    <tr>\n",
       "      <th>3</th>\n",
       "      <td>4</td>\n",
       "      <td>1</td>\n",
       "      <td>1</td>\n",
       "      <td>0</td>\n",
       "      <td>1</td>\n",
       "      <td>0</td>\n",
       "      <td>1</td>\n",
       "      <td>0</td>\n",
       "      <td>0</td>\n",
       "      <td>1</td>\n",
       "      <td>0</td>\n",
       "      <td>1</td>\n",
       "    </tr>\n",
       "    <tr>\n",
       "      <th>4</th>\n",
       "      <td>5</td>\n",
       "      <td>0</td>\n",
       "      <td>3</td>\n",
       "      <td>1</td>\n",
       "      <td>0</td>\n",
       "      <td>0</td>\n",
       "      <td>1</td>\n",
       "      <td>0</td>\n",
       "      <td>0</td>\n",
       "      <td>1</td>\n",
       "      <td>1</td>\n",
       "      <td>0</td>\n",
       "    </tr>\n",
       "  </tbody>\n",
       "</table>\n",
       "</div>"
      ],
      "text/plain": [
       "   PassengerId  Survived  TicketClass  Sex  SibSp  Parch Age-bin  embarked_C  \\\n",
       "0            1         0            3    1      1      0       1           0   \n",
       "1            2         1            1    0      1      0       1           1   \n",
       "2            3         1            3    0      0      0       1           0   \n",
       "3            4         1            1    0      1      0       1           0   \n",
       "4            5         0            3    1      0      0       1           0   \n",
       "\n",
       "   embarked_Q  embarked_S  fare_cheap  fare_expensive  \n",
       "0           0           1           1               0  \n",
       "1           0           0           0               1  \n",
       "2           0           1           1               0  \n",
       "3           0           1           0               1  \n",
       "4           0           1           1               0  "
      ]
     },
     "execution_count": 20,
     "metadata": {},
     "output_type": "execute_result"
    }
   ],
   "source": [
    "train_df.head()"
   ]
  },
  {
   "cell_type": "markdown",
   "metadata": {},
   "source": [
    "##### Reordenamiento de Dataframe \n",
    "Se realiza un ordenamiento que busca dejar la variable objetivo al final, a fin de posteriormente separarlo de los datos a ingresar en el modelo de red neuronal."
   ]
  },
  {
   "cell_type": "code",
   "execution_count": 21,
   "metadata": {
    "scrolled": true
   },
   "outputs": [
    {
     "data": {
      "text/html": [
       "<div>\n",
       "<style scoped>\n",
       "    .dataframe tbody tr th:only-of-type {\n",
       "        vertical-align: middle;\n",
       "    }\n",
       "\n",
       "    .dataframe tbody tr th {\n",
       "        vertical-align: top;\n",
       "    }\n",
       "\n",
       "    .dataframe thead th {\n",
       "        text-align: right;\n",
       "    }\n",
       "</style>\n",
       "<table border=\"1\" class=\"dataframe\">\n",
       "  <thead>\n",
       "    <tr style=\"text-align: right;\">\n",
       "      <th></th>\n",
       "      <th>Sex</th>\n",
       "      <th>Age-bin</th>\n",
       "      <th>SibSp</th>\n",
       "      <th>Parch</th>\n",
       "      <th>TicketClass</th>\n",
       "      <th>embarked_C</th>\n",
       "      <th>embarked_Q</th>\n",
       "      <th>embarked_S</th>\n",
       "      <th>fare_cheap</th>\n",
       "      <th>fare_expensive</th>\n",
       "      <th>Survived</th>\n",
       "    </tr>\n",
       "  </thead>\n",
       "  <tbody>\n",
       "    <tr>\n",
       "      <th>0</th>\n",
       "      <td>1</td>\n",
       "      <td>1</td>\n",
       "      <td>1</td>\n",
       "      <td>0</td>\n",
       "      <td>3</td>\n",
       "      <td>0</td>\n",
       "      <td>0</td>\n",
       "      <td>1</td>\n",
       "      <td>1</td>\n",
       "      <td>0</td>\n",
       "      <td>0</td>\n",
       "    </tr>\n",
       "    <tr>\n",
       "      <th>1</th>\n",
       "      <td>0</td>\n",
       "      <td>1</td>\n",
       "      <td>1</td>\n",
       "      <td>0</td>\n",
       "      <td>1</td>\n",
       "      <td>1</td>\n",
       "      <td>0</td>\n",
       "      <td>0</td>\n",
       "      <td>0</td>\n",
       "      <td>1</td>\n",
       "      <td>1</td>\n",
       "    </tr>\n",
       "    <tr>\n",
       "      <th>2</th>\n",
       "      <td>0</td>\n",
       "      <td>1</td>\n",
       "      <td>0</td>\n",
       "      <td>0</td>\n",
       "      <td>3</td>\n",
       "      <td>0</td>\n",
       "      <td>0</td>\n",
       "      <td>1</td>\n",
       "      <td>1</td>\n",
       "      <td>0</td>\n",
       "      <td>1</td>\n",
       "    </tr>\n",
       "    <tr>\n",
       "      <th>3</th>\n",
       "      <td>0</td>\n",
       "      <td>1</td>\n",
       "      <td>1</td>\n",
       "      <td>0</td>\n",
       "      <td>1</td>\n",
       "      <td>0</td>\n",
       "      <td>0</td>\n",
       "      <td>1</td>\n",
       "      <td>0</td>\n",
       "      <td>1</td>\n",
       "      <td>1</td>\n",
       "    </tr>\n",
       "    <tr>\n",
       "      <th>4</th>\n",
       "      <td>1</td>\n",
       "      <td>1</td>\n",
       "      <td>0</td>\n",
       "      <td>0</td>\n",
       "      <td>3</td>\n",
       "      <td>0</td>\n",
       "      <td>0</td>\n",
       "      <td>1</td>\n",
       "      <td>1</td>\n",
       "      <td>0</td>\n",
       "      <td>0</td>\n",
       "    </tr>\n",
       "  </tbody>\n",
       "</table>\n",
       "</div>"
      ],
      "text/plain": [
       "   Sex Age-bin  SibSp  Parch  TicketClass  embarked_C  embarked_Q  embarked_S  \\\n",
       "0    1       1      1      0            3           0           0           1   \n",
       "1    0       1      1      0            1           1           0           0   \n",
       "2    0       1      0      0            3           0           0           1   \n",
       "3    0       1      1      0            1           0           0           1   \n",
       "4    1       1      0      0            3           0           0           1   \n",
       "\n",
       "   fare_cheap  fare_expensive  Survived  \n",
       "0           1               0         0  \n",
       "1           0               1         1  \n",
       "2           1               0         1  \n",
       "3           0               1         1  \n",
       "4           1               0         0  "
      ]
     },
     "execution_count": 21,
     "metadata": {},
     "output_type": "execute_result"
    }
   ],
   "source": [
    "train_df = train_df[['Sex', 'Age-bin','SibSp','Parch','TicketClass','embarked_C','embarked_Q','embarked_S','fare_cheap','fare_expensive','Survived']]\n",
    "train_df.head()"
   ]
  },
  {
   "cell_type": "markdown",
   "metadata": {},
   "source": [
    "## 2.- Entrenamiento de Modelo\n"
   ]
  },
  {
   "cell_type": "markdown",
   "metadata": {},
   "source": [
    "### 2.1.- Datasets de Entrenamiento y Validación"
   ]
  },
  {
   "cell_type": "markdown",
   "metadata": {},
   "source": [
    "##### Dataframe de Datos"
   ]
  },
  {
   "cell_type": "code",
   "execution_count": 22,
   "metadata": {},
   "outputs": [],
   "source": [
    "train_data = train_df.iloc[:,0:len(train_df.columns)-1] "
   ]
  },
  {
   "cell_type": "markdown",
   "metadata": {},
   "source": [
    "##### Dataframe de Variable Objetivo"
   ]
  },
  {
   "cell_type": "code",
   "execution_count": 23,
   "metadata": {},
   "outputs": [],
   "source": [
    "train_target = train_df.iloc[:,len(train_df.columns)-1]  "
   ]
  },
  {
   "cell_type": "markdown",
   "metadata": {},
   "source": [
    "##### Lista de Características de los Datos"
   ]
  },
  {
   "cell_type": "code",
   "execution_count": 24,
   "metadata": {
    "scrolled": true
   },
   "outputs": [
    {
     "data": {
      "text/plain": [
       "array(['Sex', 'Age-bin', 'SibSp', 'Parch', 'TicketClass', 'embarked_C',\n",
       "       'embarked_Q', 'embarked_S', 'fare_cheap', 'fare_expensive'],\n",
       "      dtype=object)"
      ]
     },
     "execution_count": 24,
     "metadata": {},
     "output_type": "execute_result"
    }
   ],
   "source": [
    "features = train_data.columns.values\n",
    "features"
   ]
  },
  {
   "cell_type": "markdown",
   "metadata": {},
   "source": [
    "##### Separación de Dataset"
   ]
  },
  {
   "cell_type": "code",
   "execution_count": 25,
   "metadata": {},
   "outputs": [],
   "source": [
    "X_train, X_test, y_train, y_test = train_test_split(train_data, train_target,test_size=0.3,random_state=12)"
   ]
  },
  {
   "cell_type": "markdown",
   "metadata": {},
   "source": [
    "##### Normalización de los Datos"
   ]
  },
  {
   "cell_type": "code",
   "execution_count": 26,
   "metadata": {},
   "outputs": [],
   "source": [
    "# from sklearn.preprocessing import StandardScaler \n",
    "#scaler = StandardScaler()\n",
    "scaler = MinMaxScaler()\n",
    "scaler.fit(train_data)\n",
    "\n",
    "X_train = scaler.transform(X_train)  \n",
    "X_test = scaler.transform(X_test) "
   ]
  },
  {
   "cell_type": "markdown",
   "metadata": {},
   "source": [
    "### 2.2.-Entrenamiento del Modelo"
   ]
  },
  {
   "cell_type": "markdown",
   "metadata": {},
   "source": [
    "##### Selección de Modelo Secuencial de Keras"
   ]
  },
  {
   "cell_type": "code",
   "execution_count": 27,
   "metadata": {},
   "outputs": [],
   "source": [
    "model = models.Sequential()"
   ]
  },
  {
   "cell_type": "code",
   "execution_count": 28,
   "metadata": {},
   "outputs": [],
   "source": [
    "# activation{‘identity’, ‘logistic’, ‘tanh’, ‘relu’, ‘sigmoid’}, default=’relu’\n",
    "# solver{‘lbfgs’, ‘sgd’, ‘adam’}, default=’adam’\n",
    "# alpha asociado a regularizacion l2, basado en la fuerza de la regularizacion\n",
    "# learning_rate opera solo si solver es 'sgd'"
   ]
  },
  {
   "cell_type": "markdown",
   "metadata": {},
   "source": [
    "##### Modelo 1  de Red Neuronal\n",
    "Se escoje un momedelo inicial de 3 capas con las siguientes características:\n",
    "\n",
    "- learning rate = 0.01\n",
    "- Capa 1 = 'relu', 20 nodos\n",
    "- Capa 2 = 'relu', 20 nodos\n",
    "- Capa 3 = 'sigmoid', 1 nodo"
   ]
  },
  {
   "cell_type": "markdown",
   "metadata": {},
   "source": [
    "model = models.Sequential()\n",
    "\n",
    "# Capa 1\n",
    "model.add(Dense(20, kernel_initializer = 'uniform', activation='relu', input_dim=len(features)))\n",
    "# Capa 2\n",
    "model.add(Dense(20, kernel_initializer = 'uniform', activation='relu'))\n",
    "# Capa de Salida\n",
    "model.add(Dense(1, kernel_initializer = 'uniform', activation='sigmoid'))"
   ]
  },
  {
   "cell_type": "markdown",
   "metadata": {
    "scrolled": false
   },
   "source": [
    "# define our loss function and optimizer\n",
    "model.compile(loss='binary_crossentropy', optimizer=optimizers.Adam(learning_rate=0.02), metrics=['accuracy'])\n",
    "\n",
    "# train the parameters\n",
    "history = model.fit(X_train, y_train, epochs=15, batch_size=20)\n",
    "\n",
    "# evaluate accuracy\n",
    "train_acc = model.evaluate(X_train, y_train, batch_size=16)[1]\n",
    "test_acc = model.evaluate(X_test, y_test, batch_size=16)[1]\n",
    "print('Training accuracy: %s' % train_acc)\n",
    "print('Testing accuracy: %s' % test_acc)\n",
    "\n",
    "losses = history.history['loss']\n",
    "\n",
    "plt.plot(range(len(losses)), losses, 'r')\n",
    "plt.show()"
   ]
  },
  {
   "cell_type": "markdown",
   "metadata": {},
   "source": [
    "##### Modelo 2 de Red Neuronal\n",
    "Se elije un segundo modelo de 6 capas, manteniendo una estructura similar de todas las capas oculas con función de activación relu y de salida en sigmoid.\n",
    "\n",
    "- learning rate = 0.01\n",
    "- Capa 1 = 'relu', 20 nodos\n",
    "- Capa 2 = 'relu', 20 nodos\n",
    "- Capa 3 = 'relu', 10 nodos\n",
    "- Capa 4 = 'relu', 20 nodos\n",
    "- Capa 5 = 'relu', 10 nodos\n",
    "- Capa 6 = 'sigmoid'"
   ]
  },
  {
   "cell_type": "markdown",
   "metadata": {},
   "source": [
    "model = models.Sequential()\n",
    "\n",
    "# Capa 1\n",
    "model.add(Dense(20, kernel_initializer = 'uniform', activation='relu', input_dim=len(features)))\n",
    "# Capa 2\n",
    "model.add(Dense(20, kernel_initializer = 'uniform', activation='relu'))\n",
    "# Capa 3\n",
    "model.add(Dense(10, kernel_initializer = 'uniform', activation='relu'))\n",
    "# Capa 4\n",
    "model.add(Dense(20, kernel_initializer = 'uniform', activation='relu'))\n",
    "# Capa 5\n",
    "model.add(Dense(10, kernel_initializer = 'uniform', activation='relu'))\n",
    "# Capa de Salida\n",
    "model.add(Dense(1, kernel_initializer = 'uniform', activation='sigmoid'))"
   ]
  },
  {
   "cell_type": "markdown",
   "metadata": {
    "scrolled": false
   },
   "source": [
    "# define our loss function and optimizer\n",
    "model.compile(loss='binary_crossentropy', optimizer=optimizers.Adam(learning_rate=0.02), metrics=['accuracy'])\n",
    "\n",
    "# train the parameters\n",
    "history = model.fit(X_train, y_train, epochs=20, batch_size=16)\n",
    "\n",
    "# evaluate accuracy\n",
    "train_acc = model.evaluate(X_train, y_train, batch_size=16)[1]\n",
    "test_acc = model.evaluate(X_test, y_test, batch_size=16)[1]\n",
    "#print('Training accuracy: %s' % train_acc)\n",
    "#print('Testing accuracy: %s' % test_acc)\n",
    "\n",
    "losses = history.history['loss']\n",
    "\n",
    "plt.plot(range(len(losses)), losses, 'r')\n",
    "plt.show()"
   ]
  },
  {
   "cell_type": "markdown",
   "metadata": {},
   "source": [
    "##### Modelo 3  de Red Neuronal\n",
    "Se elije un modelo similar al modelo 2, con mismo numero de capas y nodos por capa. Sin embargo, se intercalan las funciones de activación entre relu y sigmoid.\n",
    "- learning rate = 0.01\n",
    "- Capa 1 = 'relu'\n",
    "- Capa 2 = 'sigmoid'\n",
    "- Capa 3 = 'relu'\n",
    "- Capa 4 = 'sigmoid'\n",
    "- Capa 5 = 'relu'\n",
    "- Capa 6 = 'sigmoid'"
   ]
  },
  {
   "cell_type": "markdown",
   "metadata": {},
   "source": [
    "model = models.Sequential()\n",
    "\n",
    "# Capa 1\n",
    "model.add(Dense(20, kernel_initializer = 'uniform', activation='relu', input_dim=len(features)))\n",
    "# Capa 2\n",
    "model.add(Dense(20, kernel_initializer = 'uniform', activation='sigmoid'))\n",
    "# Capa 3\n",
    "model.add(Dense(10, kernel_initializer = 'uniform', activation='relu'))\n",
    "# Capa 4\n",
    "model.add(Dense(20, kernel_initializer = 'uniform', activation='sigmoid'))\n",
    "# Capa 5\n",
    "model.add(Dense(10, kernel_initializer = 'uniform', activation='relu'))\n",
    "# Capa de Salida\n",
    "model.add(Dense(1, kernel_initializer = 'uniform', activation='sigmoid'))"
   ]
  },
  {
   "cell_type": "markdown",
   "metadata": {
    "scrolled": false
   },
   "source": [
    "# define our loss function and optimizer\n",
    "model.compile(loss='binary_crossentropy', optimizer=optimizers.Adam(learning_rate=0.02), metrics=['accuracy'])\n",
    "\n",
    "# train the parameters\n",
    "history = model.fit(X_train, y_train, epochs=20, batch_size=16)\n",
    "\n",
    "# evaluate accuracy\n",
    "train_acc = model.evaluate(X_train, y_train, batch_size=16)[1]\n",
    "test_acc = model.evaluate(X_test, y_test, batch_size=16)[1]\n",
    "#print('Training accuracy: %s' % train_acc)\n",
    "#print('Testing accuracy: %s' % test_acc)\n",
    "\n",
    "losses = history.history['loss']\n",
    "\n",
    "plt.plot(range(len(losses)), losses, 'r')\n",
    "plt.show()"
   ]
  },
  {
   "cell_type": "markdown",
   "metadata": {},
   "source": [
    "##### Modelo 4 de Red Neuronal\n",
    "En el modelo 3 apreciamos que si bien se ajusta bien al modelo de prueba,se pierde exactitud con el set de validación, por lo cual se retoma el modelo 3 y se modifica el learning rate de 0.01 a 0.009, debido a que se aprecia una oscilación en cuanto a la pérdida, por lo cual se busca suavizar la curva.\n",
    "\n",
    "- learning rate = 0.009\n",
    "- Capa 1 = 'relu', 20 nodos\n",
    "- Capa 2 = 'relu', 20 nodos\n",
    "- Capa 3 = 'relu', 10 nodos\n",
    "- Capa 4 = 'relu', 20 nodos\n",
    "- Capa 5 = 'relu', 10 nodos\n",
    "- Capa 6 = 'sigmoid'"
   ]
  },
  {
   "cell_type": "markdown",
   "metadata": {},
   "source": [
    "model = models.Sequential()\n",
    "\n",
    "# Capa 1\n",
    "model.add(Dense(20, kernel_initializer = 'uniform', activation='relu', input_dim=len(features)))\n",
    "# Capa 2\n",
    "model.add(Dense(20, kernel_initializer = 'uniform', activation='relu'))\n",
    "# Capa 3\n",
    "model.add(Dense(10, kernel_initializer = 'uniform', activation='relu'))\n",
    "# Capa 4\n",
    "model.add(Dense(20, kernel_initializer = 'uniform', activation='relu'))\n",
    "# Capa 5\n",
    "model.add(Dense(10, kernel_initializer = 'uniform', activation='relu'))\n",
    "# Capa de Salida\n",
    "model.add(Dense(1, kernel_initializer = 'uniform', activation='sigmoid'))"
   ]
  },
  {
   "cell_type": "markdown",
   "metadata": {
    "scrolled": false
   },
   "source": [
    "# define our loss function and optimizer\n",
    "model.compile(loss='binary_crossentropy', optimizer=optimizers.Adam(learning_rate=0.01), metrics=['accuracy'])\n",
    "\n",
    "# train the parameters\n",
    "history = model.fit(X_train, y_train, epochs=20, batch_size=16)\n",
    "\n",
    "# evaluate accuracy\n",
    "train_acc = model.evaluate(X_train, y_train, batch_size=16)[1]\n",
    "test_acc = model.evaluate(X_test, y_test, batch_size=16)[1]\n",
    "#print('Training accuracy: %s' % train_acc)\n",
    "#print('Testing accuracy: %s' % test_acc)\n",
    "\n",
    "losses = history.history['loss']\n",
    "\n",
    "plt.plot(range(len(losses)), losses, 'r')\n",
    "plt.show()"
   ]
  },
  {
   "cell_type": "markdown",
   "metadata": {},
   "source": [
    "##### Modelo 5 de Red Neuronal\n",
    "Nuevamente se pierde accuracy respecto al ajuste con el set de entrenamiento y con el de validación, por lo cual se elije el segundo modelo de 6 capas, manteniendo una estructura similar de todas las capas oculas con función de activación relu y de salida en sigmoid, sin embargo, se modifica la cantidad de nodos de la capa 3 aumentandola a 20.\n",
    "\n",
    "- learning rate = 0.01\n",
    "- Capa 1 = 'relu', 20 nodos\n",
    "- Capa 2 = 'relu', 20 nodos\n",
    "- Capa 3 = 'relu', 20 nodos\n",
    "- Capa 4 = 'relu', 20 nodos\n",
    "- Capa 5 = 'relu', 10 nodos\n",
    "- Capa 6 = 'sigmoid'"
   ]
  },
  {
   "cell_type": "markdown",
   "metadata": {},
   "source": [
    "model = models.Sequential()\n",
    "\n",
    "# Capa 1\n",
    "model.add(Dense(20, kernel_initializer = 'uniform', activation='relu', input_dim=len(features)))\n",
    "# Capa 2\n",
    "model.add(Dense(20, kernel_initializer = 'uniform', activation='relu'))\n",
    "# Capa 3\n",
    "model.add(Dense(20, kernel_initializer = 'uniform', activation='relu'))\n",
    "# Capa 4\n",
    "model.add(Dense(20, kernel_initializer = 'uniform', activation='relu'))\n",
    "# Capa 5\n",
    "model.add(Dense(10, kernel_initializer = 'uniform', activation='relu'))\n",
    "# Capa de Salida\n",
    "model.add(Dense(1, kernel_initializer = 'uniform', activation='sigmoid'))"
   ]
  },
  {
   "cell_type": "markdown",
   "metadata": {
    "scrolled": false
   },
   "source": [
    "# define our loss function and optimizer\n",
    "model.compile(loss='binary_crossentropy', optimizer=optimizers.Adam(learning_rate=0.02), metrics=['accuracy'])\n",
    "\n",
    "# train the parameters\n",
    "history = model.fit(X_train, y_train, epochs=20, batch_size=16)\n",
    "\n",
    "# evaluate accuracy\n",
    "train_acc = model.evaluate(X_train, y_train, batch_size=16)[1]\n",
    "test_acc = model.evaluate(X_test, y_test, batch_size=16)[1]\n",
    "#print('Training accuracy: %s' % train_acc)\n",
    "#print('Testing accuracy: %s' % test_acc)\n",
    "\n",
    "losses = history.history['loss']\n",
    "\n",
    "plt.plot(range(len(losses)), losses, 'r')\n",
    "plt.show()"
   ]
  },
  {
   "cell_type": "markdown",
   "metadata": {},
   "source": [
    "### 2.3.- Modelo 2 Mejor Accuracy"
   ]
  },
  {
   "cell_type": "markdown",
   "metadata": {},
   "source": [
    "En definitiva, el \"Modelo 2\" con un accuracy del 77% para el subconjunto de datos de validación, es el que se comporta de mejor manera."
   ]
  },
  {
   "cell_type": "code",
   "execution_count": 29,
   "metadata": {
    "scrolled": true
   },
   "outputs": [
    {
     "data": {
      "text/html": [
       "<div>\n",
       "<style scoped>\n",
       "    .dataframe tbody tr th:only-of-type {\n",
       "        vertical-align: middle;\n",
       "    }\n",
       "\n",
       "    .dataframe tbody tr th {\n",
       "        vertical-align: top;\n",
       "    }\n",
       "\n",
       "    .dataframe thead th {\n",
       "        text-align: right;\n",
       "    }\n",
       "</style>\n",
       "<table border=\"1\" class=\"dataframe\">\n",
       "  <thead>\n",
       "    <tr style=\"text-align: right;\">\n",
       "      <th></th>\n",
       "      <th>Sex</th>\n",
       "      <th>Age-bin</th>\n",
       "      <th>SibSp</th>\n",
       "      <th>Parch</th>\n",
       "      <th>TicketClass</th>\n",
       "      <th>embarked_C</th>\n",
       "      <th>embarked_Q</th>\n",
       "      <th>embarked_S</th>\n",
       "      <th>fare_cheap</th>\n",
       "      <th>fare_expensive</th>\n",
       "      <th>Survived</th>\n",
       "    </tr>\n",
       "  </thead>\n",
       "  <tbody>\n",
       "    <tr>\n",
       "      <th>0</th>\n",
       "      <td>1</td>\n",
       "      <td>1</td>\n",
       "      <td>1</td>\n",
       "      <td>0</td>\n",
       "      <td>3</td>\n",
       "      <td>0</td>\n",
       "      <td>0</td>\n",
       "      <td>1</td>\n",
       "      <td>1</td>\n",
       "      <td>0</td>\n",
       "      <td>0</td>\n",
       "    </tr>\n",
       "    <tr>\n",
       "      <th>1</th>\n",
       "      <td>0</td>\n",
       "      <td>1</td>\n",
       "      <td>1</td>\n",
       "      <td>0</td>\n",
       "      <td>1</td>\n",
       "      <td>1</td>\n",
       "      <td>0</td>\n",
       "      <td>0</td>\n",
       "      <td>0</td>\n",
       "      <td>1</td>\n",
       "      <td>1</td>\n",
       "    </tr>\n",
       "    <tr>\n",
       "      <th>2</th>\n",
       "      <td>0</td>\n",
       "      <td>1</td>\n",
       "      <td>0</td>\n",
       "      <td>0</td>\n",
       "      <td>3</td>\n",
       "      <td>0</td>\n",
       "      <td>0</td>\n",
       "      <td>1</td>\n",
       "      <td>1</td>\n",
       "      <td>0</td>\n",
       "      <td>1</td>\n",
       "    </tr>\n",
       "    <tr>\n",
       "      <th>3</th>\n",
       "      <td>0</td>\n",
       "      <td>1</td>\n",
       "      <td>1</td>\n",
       "      <td>0</td>\n",
       "      <td>1</td>\n",
       "      <td>0</td>\n",
       "      <td>0</td>\n",
       "      <td>1</td>\n",
       "      <td>0</td>\n",
       "      <td>1</td>\n",
       "      <td>1</td>\n",
       "    </tr>\n",
       "    <tr>\n",
       "      <th>4</th>\n",
       "      <td>1</td>\n",
       "      <td>1</td>\n",
       "      <td>0</td>\n",
       "      <td>0</td>\n",
       "      <td>3</td>\n",
       "      <td>0</td>\n",
       "      <td>0</td>\n",
       "      <td>1</td>\n",
       "      <td>1</td>\n",
       "      <td>0</td>\n",
       "      <td>0</td>\n",
       "    </tr>\n",
       "  </tbody>\n",
       "</table>\n",
       "</div>"
      ],
      "text/plain": [
       "   Sex Age-bin  SibSp  Parch  TicketClass  embarked_C  embarked_Q  embarked_S  \\\n",
       "0    1       1      1      0            3           0           0           1   \n",
       "1    0       1      1      0            1           1           0           0   \n",
       "2    0       1      0      0            3           0           0           1   \n",
       "3    0       1      1      0            1           0           0           1   \n",
       "4    1       1      0      0            3           0           0           1   \n",
       "\n",
       "   fare_cheap  fare_expensive  Survived  \n",
       "0           1               0         0  \n",
       "1           0               1         1  \n",
       "2           1               0         1  \n",
       "3           0               1         1  \n",
       "4           1               0         0  "
      ]
     },
     "execution_count": 29,
     "metadata": {},
     "output_type": "execute_result"
    }
   ],
   "source": [
    "train_df = train_df[['Sex', 'Age-bin','SibSp','Parch','TicketClass','embarked_C','embarked_Q','embarked_S','fare_cheap','fare_expensive','Survived']]\n",
    "train_df.head()"
   ]
  },
  {
   "cell_type": "code",
   "execution_count": 30,
   "metadata": {},
   "outputs": [],
   "source": [
    "TicketClass_dum = pd.get_dummies(train_df['TicketClass'], prefix = \"TicketClass\")\n",
    "train_df = pd.concat([train_df, TicketClass_dum], axis = 1)"
   ]
  },
  {
   "cell_type": "code",
   "execution_count": 31,
   "metadata": {},
   "outputs": [
    {
     "data": {
      "text/html": [
       "<div>\n",
       "<style scoped>\n",
       "    .dataframe tbody tr th:only-of-type {\n",
       "        vertical-align: middle;\n",
       "    }\n",
       "\n",
       "    .dataframe tbody tr th {\n",
       "        vertical-align: top;\n",
       "    }\n",
       "\n",
       "    .dataframe thead th {\n",
       "        text-align: right;\n",
       "    }\n",
       "</style>\n",
       "<table border=\"1\" class=\"dataframe\">\n",
       "  <thead>\n",
       "    <tr style=\"text-align: right;\">\n",
       "      <th></th>\n",
       "      <th>Sex</th>\n",
       "      <th>Age-bin</th>\n",
       "      <th>SibSp</th>\n",
       "      <th>Parch</th>\n",
       "      <th>TicketClass_1</th>\n",
       "      <th>TicketClass_2</th>\n",
       "      <th>embarked_C</th>\n",
       "      <th>embarked_Q</th>\n",
       "      <th>embarked_S</th>\n",
       "      <th>fare_cheap</th>\n",
       "      <th>fare_expensive</th>\n",
       "      <th>Survived</th>\n",
       "    </tr>\n",
       "  </thead>\n",
       "  <tbody>\n",
       "    <tr>\n",
       "      <th>0</th>\n",
       "      <td>1</td>\n",
       "      <td>1</td>\n",
       "      <td>1</td>\n",
       "      <td>0</td>\n",
       "      <td>0</td>\n",
       "      <td>0</td>\n",
       "      <td>0</td>\n",
       "      <td>0</td>\n",
       "      <td>1</td>\n",
       "      <td>1</td>\n",
       "      <td>0</td>\n",
       "      <td>0</td>\n",
       "    </tr>\n",
       "    <tr>\n",
       "      <th>1</th>\n",
       "      <td>0</td>\n",
       "      <td>1</td>\n",
       "      <td>1</td>\n",
       "      <td>0</td>\n",
       "      <td>1</td>\n",
       "      <td>0</td>\n",
       "      <td>1</td>\n",
       "      <td>0</td>\n",
       "      <td>0</td>\n",
       "      <td>0</td>\n",
       "      <td>1</td>\n",
       "      <td>1</td>\n",
       "    </tr>\n",
       "    <tr>\n",
       "      <th>2</th>\n",
       "      <td>0</td>\n",
       "      <td>1</td>\n",
       "      <td>0</td>\n",
       "      <td>0</td>\n",
       "      <td>0</td>\n",
       "      <td>0</td>\n",
       "      <td>0</td>\n",
       "      <td>0</td>\n",
       "      <td>1</td>\n",
       "      <td>1</td>\n",
       "      <td>0</td>\n",
       "      <td>1</td>\n",
       "    </tr>\n",
       "    <tr>\n",
       "      <th>3</th>\n",
       "      <td>0</td>\n",
       "      <td>1</td>\n",
       "      <td>1</td>\n",
       "      <td>0</td>\n",
       "      <td>1</td>\n",
       "      <td>0</td>\n",
       "      <td>0</td>\n",
       "      <td>0</td>\n",
       "      <td>1</td>\n",
       "      <td>0</td>\n",
       "      <td>1</td>\n",
       "      <td>1</td>\n",
       "    </tr>\n",
       "    <tr>\n",
       "      <th>4</th>\n",
       "      <td>1</td>\n",
       "      <td>1</td>\n",
       "      <td>0</td>\n",
       "      <td>0</td>\n",
       "      <td>0</td>\n",
       "      <td>0</td>\n",
       "      <td>0</td>\n",
       "      <td>0</td>\n",
       "      <td>1</td>\n",
       "      <td>1</td>\n",
       "      <td>0</td>\n",
       "      <td>0</td>\n",
       "    </tr>\n",
       "  </tbody>\n",
       "</table>\n",
       "</div>"
      ],
      "text/plain": [
       "   Sex Age-bin  SibSp  Parch  TicketClass_1  TicketClass_2  embarked_C  \\\n",
       "0    1       1      1      0              0              0           0   \n",
       "1    0       1      1      0              1              0           1   \n",
       "2    0       1      0      0              0              0           0   \n",
       "3    0       1      1      0              1              0           0   \n",
       "4    1       1      0      0              0              0           0   \n",
       "\n",
       "   embarked_Q  embarked_S  fare_cheap  fare_expensive  Survived  \n",
       "0           0           1           1               0         0  \n",
       "1           0           0           0               1         1  \n",
       "2           0           1           1               0         1  \n",
       "3           0           1           0               1         1  \n",
       "4           0           1           1               0         0  "
      ]
     },
     "execution_count": 31,
     "metadata": {},
     "output_type": "execute_result"
    }
   ],
   "source": [
    "train_df = train_df[['Sex', 'Age-bin','SibSp','Parch','TicketClass_1', 'TicketClass_2','embarked_C','embarked_Q','embarked_S','fare_cheap','fare_expensive','Survived']]\n",
    "train_df.head()"
   ]
  },
  {
   "cell_type": "markdown",
   "metadata": {},
   "source": [
    "##### Dataframe de Datos"
   ]
  },
  {
   "cell_type": "code",
   "execution_count": 32,
   "metadata": {},
   "outputs": [],
   "source": [
    "train_data = train_df.iloc[:,0:len(train_df.columns)-1] "
   ]
  },
  {
   "cell_type": "markdown",
   "metadata": {},
   "source": [
    "##### Dataframe de Variable Objetivo"
   ]
  },
  {
   "cell_type": "code",
   "execution_count": 33,
   "metadata": {},
   "outputs": [],
   "source": [
    "train_target = train_df.iloc[:,len(train_df.columns)-1]  "
   ]
  },
  {
   "cell_type": "markdown",
   "metadata": {},
   "source": [
    "##### Lista de Características de los Datos"
   ]
  },
  {
   "cell_type": "code",
   "execution_count": 34,
   "metadata": {
    "scrolled": true
   },
   "outputs": [
    {
     "data": {
      "text/plain": [
       "array(['Sex', 'Age-bin', 'SibSp', 'Parch', 'TicketClass_1',\n",
       "       'TicketClass_2', 'embarked_C', 'embarked_Q', 'embarked_S',\n",
       "       'fare_cheap', 'fare_expensive'], dtype=object)"
      ]
     },
     "execution_count": 34,
     "metadata": {},
     "output_type": "execute_result"
    }
   ],
   "source": [
    "features = train_data.columns.values\n",
    "features"
   ]
  },
  {
   "cell_type": "markdown",
   "metadata": {},
   "source": [
    "##### Separación de Dataset"
   ]
  },
  {
   "cell_type": "code",
   "execution_count": 35,
   "metadata": {},
   "outputs": [],
   "source": [
    "X_train, X_test, y_train, y_test = train_test_split(train_data, train_target,test_size=0.3,random_state=12)"
   ]
  },
  {
   "cell_type": "markdown",
   "metadata": {},
   "source": [
    "##### Normalización de los Datos"
   ]
  },
  {
   "cell_type": "code",
   "execution_count": 36,
   "metadata": {},
   "outputs": [],
   "source": [
    "# from sklearn.preprocessing import StandardScaler \n",
    "#scaler = StandardScaler()\n",
    "#scaler = MinMaxScaler()\n",
    "#scaler.fit(train_data)\n",
    "\n",
    "#X_train = scaler.transform(X_train)  \n",
    "#X_test = scaler.transform(X_test) "
   ]
  },
  {
   "cell_type": "code",
   "execution_count": 37,
   "metadata": {},
   "outputs": [],
   "source": [
    "best_test_accuracy = 0"
   ]
  },
  {
   "cell_type": "markdown",
   "metadata": {},
   "source": [
    "##### Modelo 1  de Red Neuronal\n",
    "Se escoje un momedelo inicial de 3 capas con las siguientes características:\n",
    "\n",
    "- learning rate = 0.01\n",
    "- Capa 1 = 'relu', 20 nodos\n",
    "- Capa 2 = 'relu', 20 nodos\n",
    "- Capa 3 = 'sigmoid', 1 nodo"
   ]
  },
  {
   "cell_type": "code",
   "execution_count": 104,
   "metadata": {},
   "outputs": [
    {
     "name": "stdout",
     "output_type": "stream",
     "text": [
      "Epoch 1/15\n",
      "32/32 [==============================] - 1s 2ms/step - loss: 37421798391808.0000 - accuracy: 0.6100\n",
      "Epoch 2/15\n",
      "32/32 [==============================] - 0s 1ms/step - loss: 0.5346 - accuracy: 0.7400\n",
      "Epoch 3/15\n",
      "32/32 [==============================] - 0s 1ms/step - loss: 0.4750 - accuracy: 0.7849\n",
      "Epoch 4/15\n",
      "32/32 [==============================] - 0s 1ms/step - loss: 0.4381 - accuracy: 0.8026\n",
      "Epoch 5/15\n",
      "32/32 [==============================] - 0s 1ms/step - loss: 0.4210 - accuracy: 0.8202\n",
      "Epoch 6/15\n",
      "32/32 [==============================] - 0s 2ms/step - loss: 0.4097 - accuracy: 0.8379\n",
      "Epoch 7/15\n",
      "32/32 [==============================] - 0s 1ms/step - loss: 0.4126 - accuracy: 0.8331\n",
      "Epoch 8/15\n",
      "32/32 [==============================] - 0s 1ms/step - loss: 0.4017 - accuracy: 0.8363\n",
      "Epoch 9/15\n",
      "32/32 [==============================] - 0s 1ms/step - loss: 0.4019 - accuracy: 0.8379\n",
      "Epoch 10/15\n",
      "32/32 [==============================] - 0s 1ms/step - loss: 0.3982 - accuracy: 0.8331\n",
      "Epoch 11/15\n",
      "32/32 [==============================] - 0s 1ms/step - loss: 0.3952 - accuracy: 0.8363\n",
      "Epoch 12/15\n",
      "32/32 [==============================] - 0s 2ms/step - loss: 0.3888 - accuracy: 0.8395\n",
      "Epoch 13/15\n",
      "32/32 [==============================] - 0s 1ms/step - loss: 0.3954 - accuracy: 0.8315\n",
      "Epoch 14/15\n",
      "32/32 [==============================] - 0s 2ms/step - loss: 0.3969 - accuracy: 0.8379\n",
      "Epoch 15/15\n",
      "32/32 [==============================] - 0s 1ms/step - loss: 0.3904 - accuracy: 0.8347\n",
      "39/39 [==============================] - 0s 2ms/step - loss: 0.3970 - accuracy: 0.8347\n",
      "17/17 [==============================] - 0s 1ms/step - loss: 0.4958 - accuracy: 0.7575\n",
      "Training accuracy: 0.8346709609031677\n",
      "Testing accuracy: 0.7574626803398132\n"
     ]
    },
    {
     "data": {
      "image/png": "[encoded data removed]",
      "text/plain": [
       "<Figure size 432x288 with 1 Axes>"
      ]
     },
     "metadata": {
      "needs_background": "light"
     },
     "output_type": "display_data"
    },
    {
     "name": "stdout",
     "output_type": "stream",
     "text": [
      "Model: \"sequential_15\"\n",
      "_________________________________________________________________\n",
      " Layer (type)                Output Shape              Param #   \n",
      "=================================================================\n",
      " dense_42 (Dense)            (None, 20)                240       \n",
      "                                                                 \n",
      " dense_43 (Dense)            (None, 10)                210       \n",
      "                                                                 \n",
      " dense_44 (Dense)            (None, 1)                 11        \n",
      "                                                                 \n",
      "=================================================================\n",
      "Total params: 461\n",
      "Trainable params: 461\n",
      "Non-trainable params: 0\n",
      "_________________________________________________________________\n",
      "<function relu at 0x000001F0970F5E50>\n",
      "<function sigmoid at 0x000001F0970F93A0>\n",
      "<function sigmoid at 0x000001F0970F93A0>\n"
     ]
    }
   ],
   "source": [
    "model = models.Sequential()\n",
    "\n",
    "# Capa 1\n",
    "model.add(Dense(20, kernel_initializer = 'uniform', activation='relu', input_dim=len(features)))\n",
    "# Capa 2\n",
    "model.add(Dense(20, kernel_initializer = 'uniform', activation='relu'))\n",
    "# Capa de Salida\n",
    "model.add(Dense(1, kernel_initializer = 'uniform', activation='sigmoid'))\n",
    "\n",
    "# define our loss function and optimizer\n",
    "model.compile(loss='binary_crossentropy', optimizer=optimizers.Adam(learning_rate=0.01), metrics=['accuracy'])\n",
    "\n",
    "# train the parameters\n",
    "history = model.fit(X_train, y_train, epochs=15, batch_size=20)\n",
    "\n",
    "# evaluate accuracy\n",
    "train_acc = model.evaluate(X_train, y_train, batch_size=16)[1]\n",
    "test_acc = model.evaluate(X_test, y_test, batch_size=16)[1]\n",
    "print('Training accuracy: %s' % train_acc)\n",
    "print('Testing accuracy: %s' % test_acc)\n",
    "\n",
    "losses = history.history['loss']\n",
    "\n",
    "plt.plot(range(len(losses)), losses, 'r')\n",
    "plt.show()\n",
    "\n",
    "if best_test_accuracy < test_acc:\n",
    "    best_test_accuracy = test_acc\n",
    "    model_best = model\n",
    "    \n",
    "model_best.summary()\n",
    "best_test_accuracy \n",
    "\n",
    "for layer in model_best.layers:\n",
    "    print(layer.activation)"
   ]
  },
  {
   "cell_type": "code",
   "execution_count": 169,
   "metadata": {},
   "outputs": [
    {
     "name": "stdout",
     "output_type": "stream",
     "text": [
      "Epoch 1/15\n",
      "39/39 [==============================] - 3s 4ms/step - loss: 0.6629 - accuracy: 0.6164\n",
      "Epoch 2/15\n",
      "39/39 [==============================] - 0s 4ms/step - loss: 0.5449 - accuracy: 0.6966\n",
      "Epoch 3/15\n",
      "39/39 [==============================] - 0s 4ms/step - loss: 0.5144 - accuracy: 0.7801\n",
      "Epoch 4/15\n",
      "39/39 [==============================] - 0s 3ms/step - loss: 0.5000 - accuracy: 0.7881\n",
      "Epoch 5/15\n",
      "39/39 [==============================] - 0s 3ms/step - loss: 0.4949 - accuracy: 0.7769\n",
      "Epoch 6/15\n",
      "39/39 [==============================] - 0s 4ms/step - loss: 0.4823 - accuracy: 0.7913\n",
      "Epoch 7/15\n",
      "39/39 [==============================] - 0s 3ms/step - loss: 0.4793 - accuracy: 0.7817\n",
      "Epoch 8/15\n",
      "39/39 [==============================] - 0s 4ms/step - loss: 0.4509 - accuracy: 0.8347\n",
      "Epoch 9/15\n",
      "39/39 [==============================] - 0s 4ms/step - loss: 0.4432 - accuracy: 0.8266\n",
      "Epoch 10/15\n",
      "39/39 [==============================] - 0s 3ms/step - loss: 0.4338 - accuracy: 0.8331\n",
      "Epoch 11/15\n",
      "39/39 [==============================] - 0s 3ms/step - loss: 0.4281 - accuracy: 0.8347\n",
      "Epoch 12/15\n",
      "39/39 [==============================] - 0s 3ms/step - loss: 0.4207 - accuracy: 0.8443\n",
      "Epoch 13/15\n",
      "39/39 [==============================] - 0s 4ms/step - loss: 0.4151 - accuracy: 0.8459\n",
      "Epoch 14/15\n",
      "39/39 [==============================] - 0s 4ms/step - loss: 0.4019 - accuracy: 0.8459\n",
      "Epoch 15/15\n",
      "39/39 [==============================] - 0s 4ms/step - loss: 0.4092 - accuracy: 0.8475\n",
      "39/39 [==============================] - 1s 3ms/step - loss: 0.4002 - accuracy: 0.8491\n",
      "17/17 [==============================] - 0s 3ms/step - loss: 0.4974 - accuracy: 0.7761\n",
      "Training accuracy: 0.8491171598434448\n",
      "Testing accuracy: 0.7761194109916687\n"
     ]
    },
    {
     "data": {
      "image/png": "[encoded data removed]",
      "text/plain": [
       "<Figure size 432x288 with 1 Axes>"
      ]
     },
     "metadata": {
      "needs_background": "light"
     },
     "output_type": "display_data"
    },
    {
     "name": "stdout",
     "output_type": "stream",
     "text": [
      "Model: \"sequential_15\"\n",
      "_________________________________________________________________\n",
      " Layer (type)                Output Shape              Param #   \n",
      "=================================================================\n",
      " dense_42 (Dense)            (None, 20)                240       \n",
      "                                                                 \n",
      " dense_43 (Dense)            (None, 10)                210       \n",
      "                                                                 \n",
      " dense_44 (Dense)            (None, 1)                 11        \n",
      "                                                                 \n",
      "=================================================================\n",
      "Total params: 461\n",
      "Trainable params: 461\n",
      "Non-trainable params: 0\n",
      "_________________________________________________________________\n",
      "Función Activación Capa 1 = <function relu at 0x000001F0970F5E50>\n",
      "Función Activación Capa 1 = <function sigmoid at 0x000001F0970F93A0>\n",
      "Función Activación Capa 1 = <function sigmoid at 0x000001F0970F93A0>\n"
     ]
    }
   ],
   "source": [
    "model = models.Sequential()\n",
    "\n",
    "# Capa 1\n",
    "model.add(Dense(20, kernel_initializer = 'uniform', activation='relu', input_dim=len(features)))\n",
    "# Capa 2\n",
    "model.add(Dense(20, kernel_initializer = 'uniform', activation='sigmoid'))\n",
    "# Capa 3\n",
    "model.add(Dense(20, kernel_initializer = 'uniform', activation='sigmoid'))\n",
    "# Capa de Salida\n",
    "model.add(Dense(1, kernel_initializer = 'uniform', activation='sigmoid'))\n",
    "\n",
    "# define our loss function and optimizer\n",
    "model.compile(loss='binary_crossentropy', optimizer=optimizers.Adam(learning_rate=0.0155), metrics=['accuracy'])\n",
    "\n",
    "# train the parameters\n",
    "history = model.fit(X_train, y_train, epochs=15, batch_size=16)\n",
    "\n",
    "# evaluate accuracy\n",
    "train_acc = model.evaluate(X_train, y_train, batch_size=16)[1]\n",
    "test_acc = model.evaluate(X_test, y_test, batch_size=16)[1]\n",
    "print('Training accuracy: %s' % train_acc)\n",
    "print('Testing accuracy: %s' % test_acc)\n",
    "\n",
    "losses = history.history['loss']\n",
    "\n",
    "plt.plot(range(len(losses)), losses, 'r')\n",
    "plt.show()\n",
    "\n",
    "if best_test_accuracy < test_acc:\n",
    "    best_test_accuracy = test_acc\n",
    "    model_best = model"
   ]
  },
  {
   "cell_type": "code",
   "execution_count": 173,
   "metadata": {
    "scrolled": false
   },
   "outputs": [
    {
     "name": "stdout",
     "output_type": "stream",
     "text": [
      "MEJOR MODELO:\n",
      "-------------------------------------------------------------------\n",
      "Model: \"sequential_15\"\n",
      "_________________________________________________________________\n",
      " Layer (type)                Output Shape              Param #   \n",
      "=================================================================\n",
      " dense_42 (Dense)            (None, 20)                240       \n",
      "                                                                 \n",
      " dense_43 (Dense)            (None, 10)                210       \n",
      "                                                                 \n",
      " dense_44 (Dense)            (None, 1)                 11        \n",
      "                                                                 \n",
      "=================================================================\n",
      "Total params: 461\n",
      "Trainable params: 461\n",
      "Non-trainable params: 0\n",
      "_________________________________________________________________\n",
      "Función Activación Capa 1 = <function relu at 0x000001F0970F5E50>\n",
      "Función Activación Capa 1 = <function sigmoid at 0x000001F0970F93A0>\n",
      "Función Activación Capa 1 = <function sigmoid at 0x000001F0970F93A0>\n",
      "\n",
      "Precisión:0.8097015023231506\n"
     ]
    }
   ],
   "source": [
    "print(f'MEJOR MODELO:\\n-------------------------------------------------------------------')\n",
    "model_best.summary()\n",
    "i=0\n",
    "for layer in model_best.layers:\n",
    "    print(f'Función Activación Capa {i+1} = {layer.activation}')\n",
    "print(f'\\nPrecisión:{best_test_accuracy}' )  "
   ]
  }
 ],
 "metadata": {
  "kernelspec": {
   "display_name": "Python 3 (ipykernel)",
   "language": "python",
   "name": "python3"
  },
  "language_info": {
   "codemirror_mode": {
    "name": "ipython",
    "version": 3
   },
   "file_extension": ".py",
   "mimetype": "text/x-python",
   "name": "python",
   "nbconvert_exporter": "python",
   "pygments_lexer": "ipython3",
   "version": "3.9.12"
  }
 },
 "nbformat": 4,
 "nbformat_minor": 1
}
