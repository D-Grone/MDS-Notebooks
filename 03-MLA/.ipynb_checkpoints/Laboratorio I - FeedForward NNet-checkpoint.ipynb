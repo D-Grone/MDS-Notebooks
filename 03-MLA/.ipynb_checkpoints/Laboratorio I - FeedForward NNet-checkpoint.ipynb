{
 "cells": [
  {
   "cell_type": "markdown",
   "id": "56957593",
   "metadata": {},
   "source": [
    "## Laboratorio Redes Neuronales"
   ]
  },
  {
   "cell_type": "code",
   "execution_count": null,
   "id": "eb2a4674",
   "metadata": {},
   "outputs": [],
   "source": [
    "!pip install tensorflow\n",
    "!pip install keras\n",
    "\n",
    "import math\n",
    "import pandas as pd\n",
    "from keras import models, layers, optimizers, regularizers\n",
    "import numpy as np\n",
    "import random\n",
    "from sklearn import model_selection, preprocessing\n",
    "import tensorflow as tf\n",
    "from tqdm import tqdm\n",
    "import matplotlib.pyplot as plt"
   ]
  },
  {
   "cell_type": "code",
   "execution_count": null,
   "id": "0cbcc1fa",
   "metadata": {},
   "outputs": [],
   "source": [
    "from sklearn.datasets import load_breast_cancer\n",
    "data = load_breast_cancer()"
   ]
  },
  {
   "cell_type": "code",
   "execution_count": null,
   "id": "abda4089",
   "metadata": {},
   "outputs": [],
   "source": [
    "datos = pd.DataFrame(data.data,columns = data.feature_names)\n",
    "ys = pd.DataFrame(data.target,columns = ['Tipo_Cancer'])"
   ]
  },
  {
   "cell_type": "code",
   "execution_count": null,
   "id": "cfabdc35",
   "metadata": {},
   "outputs": [],
   "source": [
    "datos['tipoCancer'] = ys"
   ]
  },
  {
   "cell_type": "code",
   "execution_count": null,
   "id": "0d9ff53f",
   "metadata": {},
   "outputs": [],
   "source": [
    "datos.head()"
   ]
  },
  {
   "cell_type": "code",
   "execution_count": null,
   "id": "ab48c06a",
   "metadata": {},
   "outputs": [],
   "source": [
    "n_test = int(math.ceil(len(datos) * 0.3))\n",
    "random.seed(42)\n",
    "test_ixs = random.sample(list(range(len(datos))), n_test)\n",
    "train_ixs = [ix for ix in range(len(datos)) if ix not in test_ixs]\n",
    "train = datos.iloc[train_ixs, :]\n",
    "test = datos.iloc[test_ixs, :]\n",
    "print(len(train))\n",
    "print(len(test))"
   ]
  },
  {
   "cell_type": "code",
   "execution_count": null,
   "id": "d1e59ef9",
   "metadata": {},
   "outputs": [],
   "source": [
    "data = datos\n",
    "from sklearn.model_selection import train_test_split\n",
    "X_train, X_test,y_train, y_test = train_test_split(datos.drop('tipoCancer',axis=1),ys,test_size=0.3,random_state=123)"
   ]
  },
  {
   "cell_type": "code",
   "execution_count": null,
   "id": "4a0345b6",
   "metadata": {},
   "outputs": [],
   "source": [
    "X_train.shape,X_test.shape"
   ]
  },
  {
   "cell_type": "code",
   "execution_count": null,
   "id": "ae09dad1",
   "metadata": {},
   "outputs": [],
   "source": [
    "y_train.shape,y_test.shape"
   ]
  },
  {
   "cell_type": "markdown",
   "id": "a983b46d",
   "metadata": {},
   "source": [
    "#### En general, deberemos normalizar los datos. Esto para que los efectos esten en los pesos y no en los valores que toman las variables\n"
   ]
  },
  {
   "cell_type": "code",
   "execution_count": null,
   "id": "a3796709",
   "metadata": {},
   "outputs": [],
   "source": [
    "from sklearn.preprocessing import normalize\n",
    "\n",
    "features = X_train.columns\n",
    "X_train = normalize(X_train)\n",
    "X_test = normalize(X_test)\n"
   ]
  },
  {
   "cell_type": "code",
   "execution_count": null,
   "id": "f4e386c0",
   "metadata": {},
   "outputs": [],
   "source": [
    "hidden_units = 10     # how many neurons in the hidden layer\n",
    "activation = 'relu'   # activation function for hidden layer\n",
    "l2 = 0.01             # regularization - how much we penalize large parameter values\n",
    "                      # no lo hemos visto, ya viene en el curso\n",
    "learning_rate = 0.01  # how big our steps are in gradient descent\n",
    "epochs = 5            # how many epochs to train for\n",
    "batch_size = 16       # how many samples to use for each gradient descent update\n",
    "\n"
   ]
  },
  {
   "cell_type": "code",
   "execution_count": null,
   "id": "352be5f7",
   "metadata": {},
   "outputs": [],
   "source": [
    "# create a sequential model\n",
    "model = models.Sequential()\n",
    "\n",
    "# add the hidden layer\n",
    "model.add(layers.Dense(input_dim=len(features),\n",
    "                       units=hidden_units, \n",
    "                       activation=activation))"
   ]
  },
  {
   "cell_type": "code",
   "execution_count": null,
   "id": "d5db5707",
   "metadata": {},
   "outputs": [],
   "source": [
    "# add the output layer\n",
    "model.add(layers.Dense(input_dim=hidden_units,\n",
    "                       units=1,\n",
    "                       activation='sigmoid'))\n",
    "\n",
    "# define our loss function and optimizer\n",
    "model.compile(loss='binary_crossentropy',\n",
    "              # Adam is a kind of gradient descent\n",
    "              optimizer=optimizers.Adam(learning_rate=learning_rate),\n",
    "              metrics=['accuracy'])"
   ]
  },
  {
   "cell_type": "code",
   "execution_count": null,
   "id": "7dce8e05",
   "metadata": {},
   "outputs": [],
   "source": [
    "# train the parameters\n",
    "history = model.fit(X_train, y_train, epochs=10, batch_size=batch_size)\n",
    "\n",
    "# evaluate accuracy\n",
    "train_acc = model.evaluate(X_train, y_train, batch_size=32)[1]\n",
    "test_acc = model.evaluate(X_test, y_test, batch_size=32)[1]\n",
    "print('Training accuracy: %s' % train_acc)\n",
    "print('Testing accuracy: %s' % test_acc)\n",
    "\n",
    "losses = history.history['loss']\n",
    "plt.plot(range(len(losses)), losses, 'r')\n",
    "plt.show()\n",
    "\n",
    "### RUN IT AGAIN! ###"
   ]
  },
  {
   "cell_type": "markdown",
   "id": "b0dce3ab",
   "metadata": {},
   "source": [
    "que pasaria si agregaramos capas ocultas?"
   ]
  },
  {
   "cell_type": "code",
   "execution_count": null,
   "id": "ec93d809",
   "metadata": {},
   "outputs": [],
   "source": [
    "hidden_units = 10 ## capas ocultas iniciales  \n",
    "\n",
    "# create a seModeloquential model\n",
    "model = models.Sequential()\n",
    "\n",
    "# Primera capa oculta de 10 nodos\n",
    "model.add(layers.Dense(input_dim=len(features),\n",
    "                       units=hidden_units, \n",
    "                       activation=activation))\n",
    "\n",
    "# segunda capa oculta de 10 nodos\n",
    "model.add(layers.Dense(input_dim=len(features),\n",
    "                       units=hidden_units, \n",
    "                       activation=activation))\n",
    "\n",
    "# final de la red, outputs\n",
    "model.add(layers.Dense(input_dim=hidden_units,\n",
    "                       units=1,\n",
    "                       activation='sigmoid'))\n",
    "\n",
    "# define our loss function and optimizer\n",
    "model.compile(loss='binary_crossentropy',\n",
    "              # Adam is a kind of gradient descent\n",
    "              optimizer=optimizers.Adam(learning_rate=learning_rate),\n",
    "              metrics=['accuracy'])\n",
    "\n",
    "# train the parameters\n",
    "history = model.fit(X_train, y_train, epochs=10, batch_size=batch_size)\n",
    "\n",
    "# evaluate accuracy\n",
    "train_acc = model.evaluate(X_train, y_train, batch_size=32)[1]\n",
    "test_acc = model.evaluate(X_test, y_test, batch_size=32)[1]\n",
    "print('Training accuracy: %s' % train_acc)\n",
    "print('Testing accuracy: %s' % test_acc)\n",
    "\n",
    "losses = history.history['loss']\n",
    "plt.plot(range(len(losses)), losses, 'r')\n",
    "plt.show()\n",
    "\n",
    "### RUN IT AGAIN! ###"
   ]
  },
  {
   "cell_type": "code",
   "execution_count": null,
   "id": "83dcc987",
   "metadata": {},
   "outputs": [],
   "source": [
    "hidden_units = 20 ## capas ocultas iniciales  \n",
    "\n",
    "# create a seModeloquential model\n",
    "model = models.Sequential()\n",
    "\n",
    "# Primera capa oculta de 10 nodos\n",
    "model.add(layers.Dense(input_dim=len(features),\n",
    "                       units=hidden_units, \n",
    "                       activation=activation))\n",
    "\n",
    "# final de la red, outputs\n",
    "model.add(layers.Dense(input_dim=hidden_units,\n",
    "                       units=1,\n",
    "                       activation='sigmoid'))\n",
    "\n",
    "# define our loss function and optimizer\n",
    "model.compile(loss='binary_crossentropy',\n",
    "              # Adam is a kind of gradient descent\n",
    "              optimizer=optimizers.Adam(learning_rate=learning_rate),\n",
    "              metrics=['accuracy'])\n",
    "\n",
    "# train the parameters\n",
    "history = model.fit(X_train, y_train, epochs=10, batch_size=batch_size)\n",
    "\n",
    "# evaluate accuracy\n",
    "train_acc = model.evaluate(X_train, y_train, batch_size=32)[1]\n",
    "test_acc = model.evaluate(X_test, y_test, batch_size=32)[1]\n",
    "print('Training accuracy: %s' % train_acc)\n",
    "print('Testing accuracy: %s' % test_acc)\n",
    "\n",
    "losses = history.history['loss']\n",
    "plt.plot(range(len(losses)), losses, 'r')\n",
    "plt.show()\n",
    "\n",
    "### RUN IT AGAIN! ###"
   ]
  },
  {
   "cell_type": "code",
   "execution_count": null,
   "id": "7590ce29",
   "metadata": {},
   "outputs": [],
   "source": []
  }
 ],
 "metadata": {
  "kernelspec": {
   "display_name": "Python 3 (ipykernel)",
   "language": "python",
   "name": "python3"
  },
  "language_info": {
   "codemirror_mode": {
    "name": "ipython",
    "version": 3
   },
   "file_extension": ".py",
   "mimetype": "text/x-python",
   "name": "python",
   "nbconvert_exporter": "python",
   "pygments_lexer": "ipython3",
   "version": "3.9.12"
  }
 },
 "nbformat": 4,
 "nbformat_minor": 5
}
