{
 "cells": [
  {
   "cell_type": "code",
   "execution_count": 4,
   "id": "88c587d7",
   "metadata": {},
   "outputs": [
    {
     "name": "stdout",
     "output_type": "stream",
     "text": [
      "Defaulting to user installation because normal site-packages is not writeable\n",
      "Collecting pgmpy\n",
      "  Using cached pgmpy-0.1.20-py3-none-any.whl (1.9 MB)\n",
      "Collecting statsmodels\n",
      "  Using cached statsmodels-0.13.5-cp310-cp310-manylinux_2_17_x86_64.manylinux2014_x86_64.whl (9.9 MB)\n",
      "Requirement already satisfied: tqdm in /usr/local/lib/python3.10/dist-packages (from pgmpy) (4.64.1)\n",
      "Requirement already satisfied: joblib in /home/tom/.local/lib/python3.10/site-packages (from pgmpy) (1.1.0)\n",
      "Requirement already satisfied: torch in /home/tom/.local/lib/python3.10/site-packages (from pgmpy) (1.13.0)\n",
      "Requirement already satisfied: opt-einsum in /usr/local/lib/python3.10/dist-packages (from pgmpy) (3.3.0)\n",
      "Requirement already satisfied: pyparsing in /usr/lib/python3/dist-packages (from pgmpy) (2.4.7)\n",
      "Requirement already satisfied: scikit-learn in /home/tom/.local/lib/python3.10/site-packages (from pgmpy) (1.1.1)\n",
      "Requirement already satisfied: scipy in /usr/lib/python3/dist-packages (from pgmpy) (1.8.0)\n",
      "Collecting networkx\n",
      "  Using cached networkx-2.8.8-py3-none-any.whl (2.0 MB)\n",
      "Requirement already satisfied: pandas in /home/tom/.local/lib/python3.10/site-packages (from pgmpy) (1.5.1)\n",
      "Requirement already satisfied: numpy in /usr/lib/python3/dist-packages (from pgmpy) (1.21.5)\n",
      "Requirement already satisfied: pytz>=2020.1 in /usr/lib/python3/dist-packages (from pandas->pgmpy) (2022.1)\n",
      "Requirement already satisfied: python-dateutil>=2.8.1 in /home/tom/.local/lib/python3.10/site-packages (from pandas->pgmpy) (2.8.2)\n",
      "Requirement already satisfied: threadpoolctl>=2.0.0 in /home/tom/.local/lib/python3.10/site-packages (from scikit-learn->pgmpy) (3.1.0)\n",
      "Collecting patsy>=0.5.2\n",
      "  Using cached patsy-0.5.3-py2.py3-none-any.whl (233 kB)\n",
      "Requirement already satisfied: packaging>=21.3 in /home/tom/.local/lib/python3.10/site-packages (from statsmodels->pgmpy) (21.3)\n",
      "Requirement already satisfied: typing-extensions in /usr/local/lib/python3.10/dist-packages (from torch->pgmpy) (4.4.0)\n",
      "Requirement already satisfied: nvidia-cudnn-cu11==8.5.0.96 in /home/tom/.local/lib/python3.10/site-packages (from torch->pgmpy) (8.5.0.96)\n",
      "Requirement already satisfied: nvidia-cublas-cu11==11.10.3.66 in /home/tom/.local/lib/python3.10/site-packages (from torch->pgmpy) (11.10.3.66)\n",
      "Requirement already satisfied: nvidia-cuda-runtime-cu11==11.7.99 in /home/tom/.local/lib/python3.10/site-packages (from torch->pgmpy) (11.7.99)\n",
      "Requirement already satisfied: nvidia-cuda-nvrtc-cu11==11.7.99 in /home/tom/.local/lib/python3.10/site-packages (from torch->pgmpy) (11.7.99)\n",
      "Requirement already satisfied: wheel in /usr/lib/python3/dist-packages (from nvidia-cublas-cu11==11.10.3.66->torch->pgmpy) (0.37.1)\n",
      "Requirement already satisfied: setuptools in /usr/lib/python3/dist-packages (from nvidia-cublas-cu11==11.10.3.66->torch->pgmpy) (59.6.0)\n",
      "Requirement already satisfied: six in /usr/lib/python3/dist-packages (from patsy>=0.5.2->statsmodels->pgmpy) (1.16.0)\n",
      "Installing collected packages: patsy, networkx, statsmodels, pgmpy\n",
      "Successfully installed networkx-2.8.8 patsy-0.5.3 pgmpy-0.1.20 statsmodels-0.13.5\n"
     ]
    }
   ],
   "source": [
    "import sys\n",
    "!{sys.executable} -m pip install pgmpy"
   ]
  },
  {
   "cell_type": "code",
   "execution_count": 2,
   "id": "c1547ff8",
   "metadata": {},
   "outputs": [
    {
     "name": "stderr",
     "output_type": "stream",
     "text": [
      "/usr/local/lib/python3.10/dist-packages/tqdm/auto.py:22: TqdmWarning: IProgress not found. Please update jupyter and ipywidgets. See https://ipywidgets.readthedocs.io/en/stable/user_install.html\n",
      "  from .autonotebook import tqdm as notebook_tqdm\n"
     ]
    }
   ],
   "source": [
    "from pgmpy.models import BayesianModel\n",
    "from pgmpy.factors.discrete import TabularCPD"
   ]
  },
  {
   "cell_type": "markdown",
   "id": "190f21b9",
   "metadata": {},
   "source": [
    "Como seran sus notas? El siguiente problema muestra la red asociada a G, las notas, su nivel de inteligencia, la dificultad de la prueba y la prueba estandarizada S, ademas de una carta de recomendacion."
   ]
  },
  {
   "cell_type": "code",
   "execution_count": 3,
   "id": "4c2312b0",
   "metadata": {},
   "outputs": [
    {
     "name": "stderr",
     "output_type": "stream",
     "text": [
      "/home/tom/.local/lib/python3.10/site-packages/pgmpy/models/BayesianModel.py:8: FutureWarning: BayesianModel has been renamed to BayesianNetwork. Please use BayesianNetwork class, BayesianModel will be removed in future.\n",
      "  warnings.warn(\n"
     ]
    }
   ],
   "source": [
    "model = BayesianModel([('D', 'G'), ('I', 'G'), ('G', 'L'), ('I', 'S')])"
   ]
  },
  {
   "cell_type": "code",
   "execution_count": 4,
   "id": "481e3a77",
   "metadata": {},
   "outputs": [
    {
     "data": {
      "text/plain": [
       "True"
      ]
     },
     "execution_count": 4,
     "metadata": {},
     "output_type": "execute_result"
    }
   ],
   "source": [
    "cpd_d = TabularCPD(variable='D', variable_card=2, values=[[0.6], [0.4]])\n",
    "cpd_i = TabularCPD(variable='I', variable_card=2, values=[[0.7], [0.3]])\n",
    "# The representation of CPD in pgmpy is a bit different than the CPD shown in the above picture. In pgmpy the columns\n",
    "# are the evidence and rows are the states of the variable. \n",
    "##represents P(grade|diff, intel)\n",
    "\n",
    "cpd_g = TabularCPD(variable='G', variable_card=3,\n",
    "                   values=[[0.3, 0.05, 0.9,  0.5],\n",
    "                           [0.4, 0.25, 0.08, 0.3],\n",
    "                           [0.3, 0.7,  0.02, 0.2]],\n",
    "                   evidence=['I', 'D'],\n",
    "                   evidence_card=[2, 2])\n",
    "cpd_l = TabularCPD(variable='L', variable_card=2,\n",
    "                   values=[[0.1, 0.4, 0.99],\n",
    "                           [0.9, 0.6, 0.01]],\n",
    "                   evidence=['G'],\n",
    "                   evidence_card=[3])\n",
    "cpd_s = TabularCPD(variable='S', variable_card=2,\n",
    "                   values=[[0.95, 0.2],\n",
    "                           [0.05, 0.8]],\n",
    "                   evidence=['I'],\n",
    "                   evidence_card=[2])\n",
    "#Add CPD’s(defined above) to the initialized model.\n",
    "# Associating the CPDs with the network\n",
    "model.add_cpds(cpd_d, cpd_i, cpd_g, cpd_l, cpd_s)\n",
    "\n",
    "#Verify the above network by using a check_model() method. If it sum up to 1, means the CPD’s are defined correctly.\n",
    " # check_model checks for the network structure and CPDs and verifies that the CPDs are correctly \n",
    " # defined and sum to 1.\n",
    "\n",
    "model.check_model() "
   ]
  },
  {
   "cell_type": "code",
   "execution_count": 5,
   "id": "4c402a8d",
   "metadata": {},
   "outputs": [
    {
     "data": {
      "text/plain": [
       "True"
      ]
     },
     "execution_count": 5,
     "metadata": {},
     "output_type": "execute_result"
    }
   ],
   "source": [
    "# CPDs can also be defined using the state names of the variables. If the state names are not provided\n",
    "# like in the previous example, pgmpy will automatically assign names as: 0, 1, 2, ....\n",
    "\n",
    "cpd_d_sn = TabularCPD(variable='D', variable_card=2, values=[[0.6], [0.4]], state_names={'D': ['Easy', 'Hard']})\n",
    "cpd_i_sn = TabularCPD(variable='I', variable_card=2, values=[[0.7], [0.3]], state_names={'I': ['Dumb', 'Intelligent']})\n",
    "cpd_g_sn = TabularCPD(variable='G', variable_card=3, \n",
    "                      values=[[0.3, 0.05, 0.9,  0.5],\n",
    "                              [0.4, 0.25, 0.08, 0.3],\n",
    "                              [0.3, 0.7,  0.02, 0.2]],\n",
    "                      evidence=['I', 'D'],\n",
    "                      evidence_card=[2, 2],\n",
    "                      state_names={'G': ['A', 'B', 'C'],\n",
    "                                   'I': ['Dumb', 'Intelligent'],\n",
    "                                   'D': ['Easy', 'Hard']})\n",
    "\n",
    "cpd_l_sn = TabularCPD(variable='L', variable_card=2, \n",
    "                      values=[[0.1, 0.4, 0.99],\n",
    "                              [0.9, 0.6, 0.01]],\n",
    "                      evidence=['G'],\n",
    "                      evidence_card=[3],\n",
    "                      state_names={'L': ['Bad', 'Good'],\n",
    "                                   'G': ['A', 'B', 'C']})\n",
    "\n",
    "cpd_s_sn = TabularCPD(variable='S', variable_card=2,\n",
    "                      values=[[0.95, 0.2],\n",
    "                              [0.05, 0.8]],\n",
    "                      evidence=['I'],\n",
    "                      evidence_card=[2],\n",
    "                      state_names={'S': ['Bad', 'Good'],\n",
    "                                   'I': ['Dumb', 'Intelligent']})\n",
    "\n",
    "# These defined CPDs can be added to the model. Since, the model already has CPDs associated to variables, it will\n",
    "# show warning that pmgpy is now replacing those CPDs with the new ones.\n",
    "model.add_cpds(cpd_d_sn, cpd_i_sn, cpd_g_sn, cpd_l_sn, cpd_s_sn)\n",
    "model.check_model()"
   ]
  },
  {
   "cell_type": "code",
   "execution_count": null,
   "id": "ca69ec41",
   "metadata": {},
   "outputs": [],
   "source": []
  },
  {
   "cell_type": "code",
   "execution_count": 8,
   "id": "cb477510",
   "metadata": {},
   "outputs": [
    {
     "name": "stdout",
     "output_type": "stream",
     "text": [
      "+------+---------+---------+----------------+----------------+\n",
      "| I    | I(Dumb) | I(Dumb) | I(Intelligent) | I(Intelligent) |\n",
      "+------+---------+---------+----------------+----------------+\n",
      "| D    | D(Easy) | D(Hard) | D(Easy)        | D(Hard)        |\n",
      "+------+---------+---------+----------------+----------------+\n",
      "| G(A) | 0.3     | 0.05    | 0.9            | 0.5            |\n",
      "+------+---------+---------+----------------+----------------+\n",
      "| G(B) | 0.4     | 0.25    | 0.08           | 0.3            |\n",
      "+------+---------+---------+----------------+----------------+\n",
      "| G(C) | 0.3     | 0.7     | 0.02           | 0.2            |\n",
      "+------+---------+---------+----------------+----------------+\n"
     ]
    }
   ],
   "source": [
    "print(cpd_g_sn)"
   ]
  },
  {
   "cell_type": "code",
   "execution_count": 9,
   "id": "0be17f00",
   "metadata": {},
   "outputs": [
    {
     "name": "stdout",
     "output_type": "stream",
     "text": [
      "+------+---------+---------+----------------+----------------+\n",
      "| I    | I(Dumb) | I(Dumb) | I(Intelligent) | I(Intelligent) |\n",
      "+------+---------+---------+----------------+----------------+\n",
      "| D    | D(Easy) | D(Hard) | D(Easy)        | D(Hard)        |\n",
      "+------+---------+---------+----------------+----------------+\n",
      "| G(A) | 0.3     | 0.05    | 0.9            | 0.5            |\n",
      "+------+---------+---------+----------------+----------------+\n",
      "| G(B) | 0.4     | 0.25    | 0.08           | 0.3            |\n",
      "+------+---------+---------+----------------+----------------+\n",
      "| G(C) | 0.3     | 0.7     | 0.02           | 0.2            |\n",
      "+------+---------+---------+----------------+----------------+\n"
     ]
    }
   ],
   "source": [
    "\n",
    "print(model.get_cpds('G'))"
   ]
  },
  {
   "cell_type": "code",
   "execution_count": 10,
   "id": "a0b7dedc",
   "metadata": {},
   "outputs": [
    {
     "name": "stdout",
     "output_type": "stream",
     "text": [
      "+----------------+-----+\n",
      "| I(Dumb)        | 0.7 |\n",
      "+----------------+-----+\n",
      "| I(Intelligent) | 0.3 |\n",
      "+----------------+-----+\n"
     ]
    }
   ],
   "source": [
    "print(model.get_cpds('I'))"
   ]
  },
  {
   "cell_type": "code",
   "execution_count": 11,
   "id": "22d9ad5e",
   "metadata": {},
   "outputs": [
    {
     "name": "stdout",
     "output_type": "stream",
     "text": [
      "+---------+-----+\n",
      "| D(Easy) | 0.6 |\n",
      "+---------+-----+\n",
      "| D(Hard) | 0.4 |\n",
      "+---------+-----+\n"
     ]
    }
   ],
   "source": [
    "print(model.get_cpds('D'))"
   ]
  },
  {
   "cell_type": "code",
   "execution_count": 12,
   "id": "eb95ced5",
   "metadata": {},
   "outputs": [
    {
     "data": {
      "text/plain": [
       "((G ⟂ S | D, I), (L ⟂ I, D, S | G))"
      ]
     },
     "execution_count": 12,
     "metadata": {},
     "output_type": "execute_result"
    }
   ],
   "source": [
    "# Getting the local independencies of a variable.\n",
    "model.local_independencies('G'),model.local_independencies('L') "
   ]
  },
  {
   "cell_type": "code",
   "execution_count": 13,
   "id": "b9187b9b",
   "metadata": {},
   "outputs": [
    {
     "data": {
      "text/plain": [
       "(D ⟂ I, S)\n",
       "(I ⟂ D)\n",
       "(S ⟂ G, D, L | I)\n",
       "(G ⟂ S | D, I)\n",
       "(L ⟂ I, D, S | G)"
      ]
     },
     "execution_count": 13,
     "metadata": {},
     "output_type": "execute_result"
    }
   ],
   "source": [
    "model.local_independencies(['D', 'I', 'S', 'G', 'L']) "
   ]
  },
  {
   "cell_type": "code",
   "execution_count": 14,
   "id": "9b55cae1",
   "metadata": {},
   "outputs": [
    {
     "data": {
      "text/plain": [
       "{'D': {'D', 'G', 'L'}}"
      ]
     },
     "execution_count": 14,
     "metadata": {},
     "output_type": "execute_result"
    }
   ],
   "source": [
    "# Active trail: For any two variables A and B in a network if any change in A influences the values of B then we say\n",
    "#               that there is an active trail between A and B.\n",
    "# In pgmpy active_trail_nodes gives a set of nodes which are affected (i.e. correlated) by any \n",
    "# change in the node passed in the argument.\n",
    "model.active_trail_nodes('D')"
   ]
  },
  {
   "cell_type": "markdown",
   "id": "7db987e3",
   "metadata": {},
   "source": [
    "# Inferencia"
   ]
  },
  {
   "cell_type": "code",
   "execution_count": 15,
   "id": "f16f61d2",
   "metadata": {},
   "outputs": [
    {
     "name": "stdout",
     "output_type": "stream",
     "text": [
      "+------+----------+\n",
      "| G    |   phi(G) |\n",
      "+======+==========+\n",
      "| G(A) |   0.3620 |\n",
      "+------+----------+\n",
      "| G(B) |   0.2884 |\n",
      "+------+----------+\n",
      "| G(C) |   0.3496 |\n",
      "+------+----------+\n"
     ]
    },
    {
     "name": "stderr",
     "output_type": "stream",
     "text": [
      "/home/tom/.local/lib/python3.10/site-packages/pgmpy/models/BayesianModel.py:8: FutureWarning: BayesianModel has been renamed to BayesianNetwork. Please use BayesianNetwork class, BayesianModel will be removed in future.\n",
      "  warnings.warn(\n"
     ]
    }
   ],
   "source": [
    "from pgmpy.inference import VariableElimination\n",
    "infer = VariableElimination(model)\n",
    "g_dist = infer.query(['G'])\n",
    "print(g_dist)"
   ]
  },
  {
   "cell_type": "code",
   "execution_count": 16,
   "id": "8cc3db43",
   "metadata": {},
   "outputs": [
    {
     "name": "stdout",
     "output_type": "stream",
     "text": [
      "+------+----------+\n",
      "| G    |   phi(G) |\n",
      "+======+==========+\n",
      "| G(A) |   0.9000 |\n",
      "+------+----------+\n",
      "| G(B) |   0.0800 |\n",
      "+------+----------+\n",
      "| G(C) |   0.0200 |\n",
      "+------+----------+\n"
     ]
    }
   ],
   "source": [
    "print(infer.query(['G'], evidence={'D': 'Easy', 'I': 'Intelligent'}))"
   ]
  },
  {
   "cell_type": "markdown",
   "id": "c7f76668",
   "metadata": {},
   "source": [
    "# Prediccion para nuevos puntos de data"
   ]
  },
  {
   "cell_type": "code",
   "execution_count": 17,
   "id": "ad86a82d",
   "metadata": {},
   "outputs": [
    {
     "name": "stderr",
     "output_type": "stream",
     "text": [
      "Finding Elimination Order: : 100%|███████████████████████████| 2/2 [00:00<00:00, 2957.90it/s]\n",
      "Eliminating: I: 100%|████████████████████████████████████████| 2/2 [00:00<00:00, 1836.79it/s]\n"
     ]
    },
    {
     "data": {
      "text/plain": [
       "{'G': 'A'}"
      ]
     },
     "execution_count": 17,
     "metadata": {},
     "output_type": "execute_result"
    }
   ],
   "source": [
    "infer.map_query(['G'])"
   ]
  },
  {
   "cell_type": "code",
   "execution_count": 18,
   "id": "481542fa",
   "metadata": {},
   "outputs": [
    {
     "name": "stderr",
     "output_type": "stream",
     "text": [
      "Finding Elimination Order: : : 0it [00:00, ?it/s]\n",
      "0it [00:00, ?it/s]\n"
     ]
    },
    {
     "data": {
      "text/plain": [
       "{'G': 'A'}"
      ]
     },
     "execution_count": 18,
     "metadata": {},
     "output_type": "execute_result"
    }
   ],
   "source": [
    "infer.map_query(['G'], evidence={'D': 'Easy', 'I': 'Intelligent'})"
   ]
  },
  {
   "cell_type": "code",
   "execution_count": 19,
   "id": "91aeb4d1",
   "metadata": {},
   "outputs": [
    {
     "name": "stderr",
     "output_type": "stream",
     "text": [
      "Finding Elimination Order: : : 0it [00:00, ?it/s]\n",
      "0it [00:00, ?it/s]\n"
     ]
    },
    {
     "data": {
      "text/plain": [
       "{'G': 'A'}"
      ]
     },
     "execution_count": 19,
     "metadata": {},
     "output_type": "execute_result"
    }
   ],
   "source": [
    "infer.map_query(['G'], evidence={'D': 'Easy', 'I': 'Intelligent', 'L': 'Good', 'S': 'Good'})"
   ]
  },
  {
   "cell_type": "code",
   "execution_count": 20,
   "id": "2f0505a8",
   "metadata": {},
   "outputs": [
    {
     "name": "stderr",
     "output_type": "stream",
     "text": [
      "Finding Elimination Order: : 100%|███████████████████████████| 3/3 [00:00<00:00, 5509.16it/s]\n",
      "Eliminating: I: 100%|████████████████████████████████████████| 3/3 [00:00<00:00, 2058.39it/s]\n"
     ]
    },
    {
     "data": {
      "text/plain": [
       "{'L': 'Good'}"
      ]
     },
     "execution_count": 20,
     "metadata": {},
     "output_type": "execute_result"
    }
   ],
   "source": [
    "infer.map_query(['L'])"
   ]
  },
  {
   "cell_type": "code",
   "execution_count": 21,
   "id": "28b22c60",
   "metadata": {},
   "outputs": [
    {
     "name": "stderr",
     "output_type": "stream",
     "text": [
      "Finding Elimination Order: : 100%|███████████████████████████| 1/1 [00:00<00:00, 1885.93it/s]\n",
      "Eliminating: G: 100%|████████████████████████████████████████| 1/1 [00:00<00:00, 1934.64it/s]\n"
     ]
    },
    {
     "data": {
      "text/plain": [
       "{'L': 'Good'}"
      ]
     },
     "execution_count": 21,
     "metadata": {},
     "output_type": "execute_result"
    }
   ],
   "source": [
    "infer.map_query(['L'], evidence={'D': 'Hard', 'I': 'Intelligent'})"
   ]
  },
  {
   "cell_type": "code",
   "execution_count": 22,
   "id": "ac3e2419",
   "metadata": {},
   "outputs": [
    {
     "name": "stdout",
     "output_type": "stream",
     "text": [
      "+---------+------+------+------+\n",
      "| G       | G(A) | G(B) | G(C) |\n",
      "+---------+------+------+------+\n",
      "| L(Bad)  | 0.1  | 0.4  | 0.99 |\n",
      "+---------+------+------+------+\n",
      "| L(Good) | 0.9  | 0.6  | 0.01 |\n",
      "+---------+------+------+------+\n"
     ]
    }
   ],
   "source": [
    "print(model.get_cpds('L'))"
   ]
  },
  {
   "cell_type": "markdown",
   "id": "fd44aec7",
   "metadata": {},
   "source": [
    "## Definamos una estructura"
   ]
  },
  {
   "cell_type": "code",
   "execution_count": 25,
   "id": "0d36c393",
   "metadata": {},
   "outputs": [],
   "source": [
    "### Variables:\n",
    "# A edad menores de 30, 30 a 60 o mayor a 60, \n",
    "# S sexo, hombre o mujer\n",
    "# E educacion, hasta colegio o universitaria\n",
    "# O ocupacion, empleado o independiente\n",
    "# R residencia ciudad o pueblo\n",
    "# T viaja como se mueve, auto, tren u otro.\n",
    "\n",
    "model = (BayesianModel([('A','E'),\n",
    "                       ('S','E'),\n",
    "                       ('E','O'),\n",
    "                       ('E','R'),\n",
    "                       ('O','T'),\n",
    "                       ('R','T')\n",
    "                       ]))"
   ]
  },
  {
   "cell_type": "code",
   "execution_count": null,
   "id": "6806fe91",
   "metadata": {},
   "outputs": [],
   "source": [
    "model.fit()"
   ]
  },
  {
   "cell_type": "code",
   "execution_count": 68,
   "id": "d5844526",
   "metadata": {},
   "outputs": [
    {
     "data": {
      "text/plain": [
       "True"
      ]
     },
     "execution_count": 68,
     "metadata": {},
     "output_type": "execute_result"
    }
   ],
   "source": [
    "cpd_a = TabularCPD(variable='A',\n",
    "                   variable_card=3,\n",
    "                   values=[[0.472], [0.208], [0.32]])\n",
    "cpd_s = TabularCPD(variable='S', \n",
    "                    variable_card=2, \n",
    "                    values=[[0.402], [0.598]])\n",
    "# The representation of CPD in pgmpy is a bit different than the CPD shown in the above picture. In pgmpy the columns\n",
    "# are the evidence and rows are the states of the variable. \n",
    "##represents P(grade|diff, intel)\n",
    "\n",
    "cpd_e = TabularCPD(variable='E', variable_card=2,\n",
    "                   values=[[0.639,0.846,0.538,0.719,0.892,0.811],\n",
    "                           [0.361,0.154,0.462,0.281,0.108,0.189]],\n",
    "                   evidence=['A', 'S'],\n",
    "                   evidence_card=[3,2])\n",
    "\n",
    "cpd_r = TabularCPD(variable='R', variable_card=2,\n",
    "                   values=[[0.1, 0.4],\n",
    "                           [0.9, 0.6]],\n",
    "                   evidence=['E'],\n",
    "                   evidence_card=[2])\n",
    "cpd_O = TabularCPD(variable='O', variable_card=2,\n",
    "                   values=[[0.95, 0.2],\n",
    "                           [0.05, 0.8]],\n",
    "                   evidence=['E'],\n",
    "                   evidence_card=[2])\n",
    "cpd_T = TabularCPD(variable='T', variable_card=3,\n",
    "                   values=[[0.75,0.2,0.55, 0.05],\n",
    "                           [0.05, 0.7,0.15, 0.85],\n",
    "                           [0.2, 0.1,0.3, 0.1]],\n",
    "                   evidence=['O','R'],\n",
    "                   evidence_card=[2,2])\n",
    "\n",
    "## Las secuencias a decidir son en base a la creencia\n",
    "\n",
    "#Add CPD’s(defined above) to the initialized model.\n",
    "# Associating the CPDs with the network\n",
    "model.add_cpds(cpd_a, cpd_s, cpd_e, cpd_r, cpd_O, cpd_T)\n",
    "\n",
    "#Verify the above network by using a check_model() method. If it sum up to 1, means the CPD’s are defined correctly.\n",
    " # check_model checks for the network structure and CPDs and verifies that the CPDs are correctly \n",
    " # defined and sum to 1.\n",
    "\n",
    "model.check_model() "
   ]
  },
  {
   "cell_type": "code",
   "execution_count": 69,
   "id": "f08998db",
   "metadata": {},
   "outputs": [
    {
     "data": {
      "text/plain": [
       "(A ⟂ S)\n",
       "(S ⟂ A)\n",
       "(O ⟂ A, R, S | E)\n",
       "(R ⟂ O, A, S | E)\n",
       "(T ⟂ E, A, S | O, R)"
      ]
     },
     "execution_count": 69,
     "metadata": {},
     "output_type": "execute_result"
    }
   ],
   "source": [
    "model.local_independencies(['A', 'S', 'O', 'R', 'T','E']) "
   ]
  },
  {
   "cell_type": "code",
   "execution_count": 70,
   "id": "3bfee0f4",
   "metadata": {},
   "outputs": [
    {
     "name": "stdout",
     "output_type": "stream",
     "text": [
      "+------+-------+-------+-------+-------+-------+-------+\n",
      "| A    | A(0)  | A(0)  | A(1)  | A(1)  | A(2)  | A(2)  |\n",
      "+------+-------+-------+-------+-------+-------+-------+\n",
      "| S    | S(0)  | S(1)  | S(0)  | S(1)  | S(0)  | S(1)  |\n",
      "+------+-------+-------+-------+-------+-------+-------+\n",
      "| E(0) | 0.639 | 0.846 | 0.538 | 0.719 | 0.892 | 0.811 |\n",
      "+------+-------+-------+-------+-------+-------+-------+\n",
      "| E(1) | 0.361 | 0.154 | 0.462 | 0.281 | 0.108 | 0.189 |\n",
      "+------+-------+-------+-------+-------+-------+-------+\n"
     ]
    }
   ],
   "source": [
    "print(cpd_e)"
   ]
  },
  {
   "cell_type": "code",
   "execution_count": 71,
   "id": "49da6e67",
   "metadata": {},
   "outputs": [],
   "source": [
    "infer = VariableElimination(model)\n",
    "\n",
    "g_dist = infer.query(['E'])"
   ]
  },
  {
   "cell_type": "code",
   "execution_count": 72,
   "id": "9191aeb1",
   "metadata": {},
   "outputs": [
    {
     "name": "stdout",
     "output_type": "stream",
     "text": [
      "+------+----------+\n",
      "| E    |   phi(E) |\n",
      "+======+==========+\n",
      "| E(0) |   0.7644 |\n",
      "+------+----------+\n",
      "| E(1) |   0.2356 |\n",
      "+------+----------+\n"
     ]
    }
   ],
   "source": [
    "print(g_dist)"
   ]
  },
  {
   "cell_type": "code",
   "execution_count": 73,
   "id": "c61acd1c",
   "metadata": {},
   "outputs": [
    {
     "name": "stdout",
     "output_type": "stream",
     "text": [
      "+------+----------+\n",
      "| O    |   phi(O) |\n",
      "+======+==========+\n",
      "| O(0) |   0.7733 |\n",
      "+------+----------+\n",
      "| O(1) |   0.2267 |\n",
      "+------+----------+\n"
     ]
    }
   ],
   "source": [
    " print(infer.query(['O']))"
   ]
  },
  {
   "cell_type": "code",
   "execution_count": 75,
   "id": "02ea370f",
   "metadata": {},
   "outputs": [
    {
     "name": "stdout",
     "output_type": "stream",
     "text": [
      "+------+----------+\n",
      "| T    |   phi(T) |\n",
      "+======+==========+\n",
      "| T(0) |   0.2473 |\n",
      "+------+----------+\n",
      "| T(1) |   0.6422 |\n",
      "+------+----------+\n",
      "| T(2) |   0.1105 |\n",
      "+------+----------+\n"
     ]
    }
   ],
   "source": [
    "print(infer.query(['T'], evidence={'E': 0, 'S': 1,'A':2}))"
   ]
  },
  {
   "cell_type": "code",
   "execution_count": null,
   "id": "7c99c31f",
   "metadata": {},
   "outputs": [],
   "source": []
  }
 ],
 "metadata": {
  "kernelspec": {
   "display_name": "Python 3 (ipykernel)",
   "language": "python",
   "name": "python3"
  },
  "language_info": {
   "codemirror_mode": {
    "name": "ipython",
    "version": 3
   },
   "file_extension": ".py",
   "mimetype": "text/x-python",
   "name": "python",
   "nbconvert_exporter": "python",
   "pygments_lexer": "ipython3",
   "version": "3.10.6"
  }
 },
 "nbformat": 4,
 "nbformat_minor": 5
}
