{
 "cells": [
  {
   "cell_type": "markdown",
   "id": "c94c147b",
   "metadata": {},
   "source": [
    "### Redes Convolucionales y Keras"
   ]
  },
  {
   "cell_type": "code",
   "execution_count": 1,
   "id": "ec61a41c",
   "metadata": {},
   "outputs": [],
   "source": [
    "import keras\n",
    "import tensorflow\n",
    "\n",
    "# no vamos a llamar los especificos para que tengamos claro de donde salen.\n",
    "# esto nos provocara que tengamos que meternos en el esquema de las librerias keras \n",
    "# y tensorflow"
   ]
  },
  {
   "cell_type": "code",
   "execution_count": 2,
   "id": "b8c2dfed",
   "metadata": {},
   "outputs": [],
   "source": [
    "from keras.datasets import mnist"
   ]
  },
  {
   "cell_type": "code",
   "execution_count": 3,
   "id": "f144acf3",
   "metadata": {},
   "outputs": [
    {
     "name": "stdout",
     "output_type": "stream",
     "text": [
      "Downloading data from https://storage.googleapis.com/tensorflow/tf-keras-datasets/mnist.npz\n",
      "11490434/11490434 [==============================] - 1s 0us/step\n"
     ]
    }
   ],
   "source": [
    "(x_train,y_train),(x_test,y_test) = mnist.load_data()"
   ]
  },
  {
   "cell_type": "code",
   "execution_count": 4,
   "id": "1d1c2715",
   "metadata": {},
   "outputs": [],
   "source": [
    "#dimensiones de trabajo\n",
    "img_rows,img_cols = 28,28"
   ]
  },
  {
   "cell_type": "code",
   "execution_count": 5,
   "id": "2f0754a0",
   "metadata": {},
   "outputs": [],
   "source": [
    "batch_size = 128\n",
    "num_classes=10\n",
    "epochs=12"
   ]
  },
  {
   "cell_type": "code",
   "execution_count": 6,
   "id": "35c2287a",
   "metadata": {},
   "outputs": [
    {
     "name": "stdout",
     "output_type": "stream",
     "text": [
      "x_train shape: (60000, 28, 28, 1)\n",
      "60000 train samples\n",
      "10000 test samples\n"
     ]
    }
   ],
   "source": [
    "if tensorflow.keras.backend.image_data_format() == 'channels_first':\n",
    "    x_train = x_train.reshape(x_train.shape[0],img_rows,img_cols)\n",
    "    x_test = x_test.reshape(x_test.shape[0],img_rows,img_cols)\n",
    "    input_shape = (1,img_rows,img_cols)\n",
    "else:\n",
    "    x_train = x_train.reshape(x_train.shape[0],img_rows,img_cols,1)\n",
    "    x_test = x_test.reshape(x_test.shape[0],img_rows,img_cols,1)\n",
    "    input_shape = (img_rows,img_cols,1)\n",
    "\n",
    "x_train = x_train.astype('float32')\n",
    "x_test = x_test.astype('float32')\n",
    "x_train /= 255\n",
    "x_test /= 255\n",
    "print('x_train shape:',x_train.shape)\n",
    "print(x_train.shape[0], 'train samples')\n",
    "print(x_test.shape[0], 'test samples')\n",
    "\n",
    "#convierte vectores de clase en binarios\n",
    "y_train = keras.utils.to_categorical(y_train,num_classes)\n",
    "y_test = keras.utils.to_categorical(y_test,num_classes)"
   ]
  },
  {
   "cell_type": "code",
   "execution_count": 7,
   "id": "60921da6",
   "metadata": {},
   "outputs": [],
   "source": [
    "## Primero, el modelo es secuencial\n",
    "model = keras.models.Sequential()\n",
    "\n",
    "## agregamos capa convolucional 2D\n",
    "model.add(\n",
    "    tensorflow.keras.layers.Conv2D(\n",
    "        32,\n",
    "        kernel_size=(3,3),\n",
    "        activation='relu',\n",
    "        input_shape = input_shape\n",
    "    )\n",
    ")\n",
    "\n",
    "## agregamos segunda capa convolucional 2D\n",
    "model.add(\n",
    "    tensorflow.keras.layers.Conv2D(\n",
    "        64,\n",
    "        kernel_size=(3,3),\n",
    "        activation='relu'\n",
    "    )\n",
    ")\n",
    "\n",
    "## agregamos capa de Pooling\n",
    "model.add(\n",
    "    tensorflow.keras.layers.MaxPooling2D(\n",
    "        pool_size=(2,2)\n",
    "    )\n",
    ")\n",
    "\n",
    "## agregamos capa de regularizacion Dropout para minimizar calculos\n",
    "model.add(\n",
    "    tensorflow.keras.layers.Dropout(\n",
    "        0.25\n",
    "    )\n",
    ")\n",
    "\n",
    "## agregamos capa de aplanado\n",
    "model.add(\n",
    "    tensorflow.keras.layers.Flatten())\n",
    "\n",
    "## agregamos capa de conexion completa\n",
    "model.add(\n",
    "    tensorflow.keras.layers.Dense(\n",
    "        units=128,\n",
    "        activation='relu'\n",
    "    )\n",
    ")\n",
    "\n",
    "## agregamos capa de regularizacion Dropout para minimizar calculos\n",
    "model.add(\n",
    "    tensorflow.keras.layers.Dropout(\n",
    "        0.5\n",
    "    )\n",
    ")\n",
    "\n",
    "## agregamos capa de conexion completa\n",
    "model.add(\n",
    "    tensorflow.keras.layers.Dense(\n",
    "        units=num_classes,\n",
    "        activation='softmax'\n",
    "    )\n",
    ")\n"
   ]
  },
  {
   "cell_type": "code",
   "execution_count": 8,
   "id": "14399a84",
   "metadata": {},
   "outputs": [],
   "source": [
    "model.compile(loss=keras.losses.categorical_crossentropy,\n",
    "             optimizer = keras.optimizers.Adadelta(),\n",
    "             metrics=['accuracy'])"
   ]
  },
  {
   "cell_type": "code",
   "execution_count": null,
   "id": "8be2d5fa",
   "metadata": {},
   "outputs": [
    {
     "name": "stdout",
     "output_type": "stream",
     "text": [
      "Epoch 1/12\n",
      "399/469 [========================>.....] - ETA: 12s - loss: 2.2846 - accuracy: 0.1567"
     ]
    }
   ],
   "source": [
    "model.fit(\n",
    "    x_train,y_train,\n",
    "batch_size=batch_size,\n",
    "epochs=epochs,\n",
    "verbose = 1,\n",
    "validation_data=(x_test,y_test)\n",
    ")\n",
    "\n",
    "score = model.evaluate(x_test,y_test,verbose = 0)\n",
    "print('Test loss: ',score[0])\n",
    "print('Test accuract: ',score[1])"
   ]
  },
  {
   "cell_type": "code",
   "execution_count": null,
   "id": "f98cf87b",
   "metadata": {},
   "outputs": [],
   "source": [
    "#!pip install tensorflow-gpu\n",
    "import tensorflow"
   ]
  },
  {
   "cell_type": "code",
   "execution_count": null,
   "id": "73752663",
   "metadata": {},
   "outputs": [],
   "source": [
    "model.fit(\n",
    "    x_train,y_train,\n",
    "batch_size=batch_size,\n",
    "epochs=epochs,\n",
    "verbose = 1,\n",
    "validation_data=(x_test,y_test))\n",
    "\n",
    "score = model.evaluate(x_test,y_test,verbose = 0)\n",
    "print('Test loss: ',score[0])\n",
    "print('Test accuracy: ',score[1])"
   ]
  },
  {
   "cell_type": "code",
   "execution_count": null,
   "id": "14fed158",
   "metadata": {},
   "outputs": [],
   "source": [
    "from matplotlib import pyplot as plt"
   ]
  },
  {
   "cell_type": "code",
   "execution_count": null,
   "id": "3dfb2720",
   "metadata": {},
   "outputs": [],
   "source": [
    "for i in range(9):\n",
    "    pyplot.subplot(330 + 1 + i)\n",
    "    pyplot.imshow(x_train[i], cmap=pyplot.get_cmap('gray'))\n",
    "    pyplot.show()"
   ]
  },
  {
   "cell_type": "code",
   "execution_count": null,
   "id": "ba58e1a0",
   "metadata": {},
   "outputs": [],
   "source": [
    "xpreds = model.predict(x_test)\n",
    "xpreds.shape"
   ]
  },
  {
   "cell_type": "code",
   "execution_count": null,
   "id": "57123c78",
   "metadata": {},
   "outputs": [],
   "source": [
    "for i in range(9):\n",
    "    pyplot.subplot(330 + 1 + i)\n",
    "    pyplot.imshow(x_test[i], cmap=pyplot.get_cmap('gray'))\n",
    "    print(np.argmax(xpreds[i]), y_test[i])"
   ]
  }
 ],
 "metadata": {
  "kernelspec": {
   "display_name": "Python 3 (ipykernel)",
   "language": "python",
   "name": "python3"
  },
  "language_info": {
   "codemirror_mode": {
    "name": "ipython",
    "version": 3
   },
   "file_extension": ".py",
   "mimetype": "text/x-python",
   "name": "python",
   "nbconvert_exporter": "python",
   "pygments_lexer": "ipython3",
   "version": "3.9.12"
  }
 },
 "nbformat": 4,
 "nbformat_minor": 5
}
