{
 "cells": [
  {
   "cell_type": "markdown",
   "id": "26779f26",
   "metadata": {},
   "source": [
    "## Primer Metodo Keras"
   ]
  },
  {
   "cell_type": "code",
   "execution_count": 20,
   "id": "38f78386",
   "metadata": {},
   "outputs": [],
   "source": [
    "from sklearn.datasets import dump_svmlight_file\n",
    "import numpy as np\n",
    "import pandas as pd\n",
    "import os\n",
    "import urllib\n",
    "import zipfile\n",
    "from sklearn.model_selection import train_test_split\n",
    "import shutil\n",
    "import matplotlib.pyplot as plt\n",
    "import warnings\n",
    "warnings.filterwarnings('ignore')\n",
    "%matplotlib inline"
   ]
  },
  {
   "cell_type": "code",
   "execution_count": 228,
   "id": "cd65c78f",
   "metadata": {},
   "outputs": [
    {
     "data": {
      "text/html": [
       "<div>\n",
       "<style scoped>\n",
       "    .dataframe tbody tr th:only-of-type {\n",
       "        vertical-align: middle;\n",
       "    }\n",
       "\n",
       "    .dataframe tbody tr th {\n",
       "        vertical-align: top;\n",
       "    }\n",
       "\n",
       "    .dataframe thead th {\n",
       "        text-align: right;\n",
       "    }\n",
       "</style>\n",
       "<table border=\"1\" class=\"dataframe\">\n",
       "  <thead>\n",
       "    <tr style=\"text-align: right;\">\n",
       "      <th></th>\n",
       "      <th>display_id</th>\n",
       "      <th>ad_id</th>\n",
       "      <th>clicked</th>\n",
       "    </tr>\n",
       "  </thead>\n",
       "  <tbody>\n",
       "    <tr>\n",
       "      <th>0</th>\n",
       "      <td>1</td>\n",
       "      <td>42337</td>\n",
       "      <td>0</td>\n",
       "    </tr>\n",
       "    <tr>\n",
       "      <th>1</th>\n",
       "      <td>1</td>\n",
       "      <td>139684</td>\n",
       "      <td>0</td>\n",
       "    </tr>\n",
       "    <tr>\n",
       "      <th>2</th>\n",
       "      <td>1</td>\n",
       "      <td>144739</td>\n",
       "      <td>1</td>\n",
       "    </tr>\n",
       "    <tr>\n",
       "      <th>3</th>\n",
       "      <td>1</td>\n",
       "      <td>156824</td>\n",
       "      <td>0</td>\n",
       "    </tr>\n",
       "    <tr>\n",
       "      <th>4</th>\n",
       "      <td>1</td>\n",
       "      <td>279295</td>\n",
       "      <td>0</td>\n",
       "    </tr>\n",
       "    <tr>\n",
       "      <th>...</th>\n",
       "      <td>...</td>\n",
       "      <td>...</td>\n",
       "      <td>...</td>\n",
       "    </tr>\n",
       "    <tr>\n",
       "      <th>87141726</th>\n",
       "      <td>16874592</td>\n",
       "      <td>186600</td>\n",
       "      <td>0</td>\n",
       "    </tr>\n",
       "    <tr>\n",
       "      <th>87141727</th>\n",
       "      <td>16874593</td>\n",
       "      <td>151498</td>\n",
       "      <td>1</td>\n",
       "    </tr>\n",
       "    <tr>\n",
       "      <th>87141728</th>\n",
       "      <td>16874593</td>\n",
       "      <td>282350</td>\n",
       "      <td>0</td>\n",
       "    </tr>\n",
       "    <tr>\n",
       "      <th>87141729</th>\n",
       "      <td>16874593</td>\n",
       "      <td>521828</td>\n",
       "      <td>0</td>\n",
       "    </tr>\n",
       "    <tr>\n",
       "      <th>87141730</th>\n",
       "      <td>16874593</td>\n",
       "      <td>522693</td>\n",
       "      <td>0</td>\n",
       "    </tr>\n",
       "  </tbody>\n",
       "</table>\n",
       "<p>87141731 rows × 3 columns</p>\n",
       "</div>"
      ],
      "text/plain": [
       "          display_id   ad_id  clicked\n",
       "0                  1   42337        0\n",
       "1                  1  139684        0\n",
       "2                  1  144739        1\n",
       "3                  1  156824        0\n",
       "4                  1  279295        0\n",
       "...              ...     ...      ...\n",
       "87141726    16874592  186600        0\n",
       "87141727    16874593  151498        1\n",
       "87141728    16874593  282350        0\n",
       "87141729    16874593  521828        0\n",
       "87141730    16874593  522693        0\n",
       "\n",
       "[87141731 rows x 3 columns]"
      ]
     },
     "execution_count": 228,
     "metadata": {},
     "output_type": "execute_result"
    }
   ],
   "source": [
    "dataset = pd.read_csv('clicks_train.csv')\n",
    "dataset"
   ]
  },
  {
   "cell_type": "code",
   "execution_count": 229,
   "id": "9de41dae",
   "metadata": {},
   "outputs": [],
   "source": [
    "dataset.display_id = dataset.display_id.astype('category').cat.codes.values\n",
    "dataset.ad_id = dataset.ad_id.astype('category').cat.codes.values"
   ]
  },
  {
   "cell_type": "code",
   "execution_count": 21,
   "id": "1987d3b6",
   "metadata": {},
   "outputs": [],
   "source": [
    "train, test = train_test_split(newdf, test_size=0.2)"
   ]
  },
  {
   "cell_type": "code",
   "execution_count": 22,
   "id": "19e4b728",
   "metadata": {},
   "outputs": [],
   "source": [
    "#%tensorflow_version 2.x\n",
    "import tensorflow as tf\n",
    "from tensorflow import keras\n",
    "from tensorflow.keras.optimizers import Adam"
   ]
  },
  {
   "cell_type": "markdown",
   "id": "9a4b8a85",
   "metadata": {},
   "source": [
    "### Error con la reduccion de dimensiones"
   ]
  },
  {
   "cell_type": "code",
   "execution_count": 23,
   "id": "08b4b95b",
   "metadata": {},
   "outputs": [],
   "source": [
    "#n_users, n_movies = len(dataset.display_id.unique()), len(dataset.ad_id.unique())\n",
    "n_users, n_movies = 10000 , 8000\n",
    "n_latent_factors = 20"
   ]
  },
  {
   "cell_type": "code",
   "execution_count": 24,
   "id": "741fb44e",
   "metadata": {},
   "outputs": [
    {
     "data": {
      "text/plain": [
       "100000"
      ]
     },
     "execution_count": 24,
     "metadata": {},
     "output_type": "execute_result"
    }
   ],
   "source": [
    "n_users "
   ]
  },
  {
   "cell_type": "code",
   "execution_count": 25,
   "id": "d9a8e704",
   "metadata": {},
   "outputs": [
    {
     "name": "stdout",
     "output_type": "stream",
     "text": [
      "KerasTensor(type_spec=TensorSpec(shape=(None, 1), dtype=tf.float32, name=None), name='DotProduct/Squeeze:0', description=\"created by layer 'DotProduct'\")\n"
     ]
    }
   ],
   "source": [
    "movie_input = keras.layers.Input(shape=[1],name='Item')\n",
    "movie_embedding = keras.layers.Embedding(n_movies + 1, n_latent_factors, name='Movie-Embedding')(movie_input)\n",
    "movie_vec = keras.layers.Flatten(name='FlattenMovies')(movie_embedding)\n",
    "user_input = keras.layers.Input(shape=[1],name='User')\n",
    "user_vec = keras.layers.Flatten(name='FlattenUsers')(keras.layers.Embedding(n_users + 1, n_latent_factors,name='User-Embedding')(user_input))\n",
    "prod = keras.layers.dot([movie_vec, user_vec], axes=1,name='DotProduct')\n",
    "print(prod)\n",
    "model = keras.Model([user_input, movie_input], prod)"
   ]
  },
  {
   "cell_type": "code",
   "execution_count": 26,
   "id": "35a24d81",
   "metadata": {},
   "outputs": [
    {
     "data": {
      "text/plain": [
       "<KerasTensor: shape=(None, 1, 20) dtype=float32 (created by layer 'Movie-Embedding')>"
      ]
     },
     "execution_count": 26,
     "metadata": {},
     "output_type": "execute_result"
    }
   ],
   "source": [
    "movie_embedding"
   ]
  },
  {
   "cell_type": "code",
   "execution_count": null,
   "id": "d4709270",
   "metadata": {},
   "outputs": [],
   "source": []
  },
  {
   "cell_type": "code",
   "execution_count": 27,
   "id": "c8862193",
   "metadata": {},
   "outputs": [],
   "source": [
    "model.compile(optimizer='adam', loss='mean_squared_error', metrics=['mae', 'mse'])"
   ]
  },
  {
   "cell_type": "code",
   "execution_count": 28,
   "id": "7f964d56",
   "metadata": {},
   "outputs": [
    {
     "name": "stdout",
     "output_type": "stream",
     "text": [
      "Model: \"model_1\"\n",
      "__________________________________________________________________________________________________\n",
      "Layer (type)                    Output Shape         Param #     Connected to                     \n",
      "==================================================================================================\n",
      "Item (InputLayer)               [(None, 1)]          0                                            \n",
      "__________________________________________________________________________________________________\n",
      "User (InputLayer)               [(None, 1)]          0                                            \n",
      "__________________________________________________________________________________________________\n",
      "Movie-Embedding (Embedding)     (None, 1, 20)        1600020     Item[0][0]                       \n",
      "__________________________________________________________________________________________________\n",
      "User-Embedding (Embedding)      (None, 1, 20)        2000020     User[0][0]                       \n",
      "__________________________________________________________________________________________________\n",
      "FlattenMovies (Flatten)         (None, 20)           0           Movie-Embedding[0][0]            \n",
      "__________________________________________________________________________________________________\n",
      "FlattenUsers (Flatten)          (None, 20)           0           User-Embedding[0][0]             \n",
      "__________________________________________________________________________________________________\n",
      "DotProduct (Dot)                (None, 1)            0           FlattenMovies[0][0]              \n",
      "                                                                 FlattenUsers[0][0]               \n",
      "==================================================================================================\n",
      "Total params: 3,600,040\n",
      "Trainable params: 3,600,040\n",
      "Non-trainable params: 0\n",
      "__________________________________________________________________________________________________\n"
     ]
    }
   ],
   "source": [
    "model.summary()"
   ]
  },
  {
   "cell_type": "code",
   "execution_count": 29,
   "id": "21b2f1bd",
   "metadata": {},
   "outputs": [
    {
     "name": "stdout",
     "output_type": "stream",
     "text": [
      "('You must install pydot (`pip install pydot`) and install graphviz (see instructions at https://graphviz.gitlab.io/download/) ', 'for plot_model/model_to_dot to work.')\n"
     ]
    }
   ],
   "source": [
    "tf.keras.utils.plot_model(model, to_file='model.png')"
   ]
  },
  {
   "cell_type": "code",
   "execution_count": null,
   "id": "0bb8d04b",
   "metadata": {},
   "outputs": [],
   "source": []
  },
  {
   "cell_type": "markdown",
   "id": "87aa7c0b",
   "metadata": {},
   "source": [
    "### Error con la reduccion de dimensiones"
   ]
  },
  {
   "cell_type": "code",
   "execution_count": 30,
   "id": "6c56c1c8",
   "metadata": {},
   "outputs": [
    {
     "ename": "KeyboardInterrupt",
     "evalue": "",
     "output_type": "error",
     "traceback": [
      "\u001b[1;31m---------------------------------------------------------------------------\u001b[0m",
      "\u001b[1;31mKeyboardInterrupt\u001b[0m                         Traceback (most recent call last)",
      "\u001b[1;32m<ipython-input-30-074ff77f6418>\u001b[0m in \u001b[0;36m<module>\u001b[1;34m\u001b[0m\n\u001b[1;32m----> 1\u001b[1;33m \u001b[0mhistory\u001b[0m \u001b[1;33m=\u001b[0m \u001b[0mmodel\u001b[0m\u001b[1;33m.\u001b[0m\u001b[0mfit\u001b[0m\u001b[1;33m(\u001b[0m\u001b[1;33m[\u001b[0m\u001b[0mtrain\u001b[0m\u001b[1;33m.\u001b[0m\u001b[0mdisplay_id\u001b[0m\u001b[1;33m,\u001b[0m \u001b[0mtrain\u001b[0m\u001b[1;33m.\u001b[0m\u001b[0mad_id\u001b[0m\u001b[1;33m]\u001b[0m\u001b[1;33m,\u001b[0m \u001b[0mtrain\u001b[0m\u001b[1;33m.\u001b[0m\u001b[0mclicked\u001b[0m\u001b[1;33m,\u001b[0m \u001b[0mepochs\u001b[0m\u001b[1;33m=\u001b[0m\u001b[1;36m100\u001b[0m\u001b[1;33m,\u001b[0m \u001b[0mverbose\u001b[0m\u001b[1;33m=\u001b[0m\u001b[1;36m0\u001b[0m\u001b[1;33m)\u001b[0m\u001b[1;33m\u001b[0m\u001b[1;33m\u001b[0m\u001b[0m\n\u001b[0m",
      "\u001b[1;32m~\\anaconda3\\envs\\python\\lib\\site-packages\\keras\\engine\\training.py\u001b[0m in \u001b[0;36mfit\u001b[1;34m(self, x, y, batch_size, epochs, verbose, callbacks, validation_split, validation_data, shuffle, class_weight, sample_weight, initial_epoch, steps_per_epoch, validation_steps, validation_batch_size, validation_freq, max_queue_size, workers, use_multiprocessing)\u001b[0m\n\u001b[0;32m   1182\u001b[0m                 _r=1):\n\u001b[0;32m   1183\u001b[0m               \u001b[0mcallbacks\u001b[0m\u001b[1;33m.\u001b[0m\u001b[0mon_train_batch_begin\u001b[0m\u001b[1;33m(\u001b[0m\u001b[0mstep\u001b[0m\u001b[1;33m)\u001b[0m\u001b[1;33m\u001b[0m\u001b[1;33m\u001b[0m\u001b[0m\n\u001b[1;32m-> 1184\u001b[1;33m               \u001b[0mtmp_logs\u001b[0m \u001b[1;33m=\u001b[0m \u001b[0mself\u001b[0m\u001b[1;33m.\u001b[0m\u001b[0mtrain_function\u001b[0m\u001b[1;33m(\u001b[0m\u001b[0miterator\u001b[0m\u001b[1;33m)\u001b[0m\u001b[1;33m\u001b[0m\u001b[1;33m\u001b[0m\u001b[0m\n\u001b[0m\u001b[0;32m   1185\u001b[0m               \u001b[1;32mif\u001b[0m \u001b[0mdata_handler\u001b[0m\u001b[1;33m.\u001b[0m\u001b[0mshould_sync\u001b[0m\u001b[1;33m:\u001b[0m\u001b[1;33m\u001b[0m\u001b[1;33m\u001b[0m\u001b[0m\n\u001b[0;32m   1186\u001b[0m                 \u001b[0mcontext\u001b[0m\u001b[1;33m.\u001b[0m\u001b[0masync_wait\u001b[0m\u001b[1;33m(\u001b[0m\u001b[1;33m)\u001b[0m\u001b[1;33m\u001b[0m\u001b[1;33m\u001b[0m\u001b[0m\n",
      "\u001b[1;32m~\\anaconda3\\envs\\python\\lib\\site-packages\\tensorflow\\python\\eager\\def_function.py\u001b[0m in \u001b[0;36m__call__\u001b[1;34m(self, *args, **kwds)\u001b[0m\n\u001b[0;32m    883\u001b[0m \u001b[1;33m\u001b[0m\u001b[0m\n\u001b[0;32m    884\u001b[0m       \u001b[1;32mwith\u001b[0m \u001b[0mOptionalXlaContext\u001b[0m\u001b[1;33m(\u001b[0m\u001b[0mself\u001b[0m\u001b[1;33m.\u001b[0m\u001b[0m_jit_compile\u001b[0m\u001b[1;33m)\u001b[0m\u001b[1;33m:\u001b[0m\u001b[1;33m\u001b[0m\u001b[1;33m\u001b[0m\u001b[0m\n\u001b[1;32m--> 885\u001b[1;33m         \u001b[0mresult\u001b[0m \u001b[1;33m=\u001b[0m \u001b[0mself\u001b[0m\u001b[1;33m.\u001b[0m\u001b[0m_call\u001b[0m\u001b[1;33m(\u001b[0m\u001b[1;33m*\u001b[0m\u001b[0margs\u001b[0m\u001b[1;33m,\u001b[0m \u001b[1;33m**\u001b[0m\u001b[0mkwds\u001b[0m\u001b[1;33m)\u001b[0m\u001b[1;33m\u001b[0m\u001b[1;33m\u001b[0m\u001b[0m\n\u001b[0m\u001b[0;32m    886\u001b[0m \u001b[1;33m\u001b[0m\u001b[0m\n\u001b[0;32m    887\u001b[0m       \u001b[0mnew_tracing_count\u001b[0m \u001b[1;33m=\u001b[0m \u001b[0mself\u001b[0m\u001b[1;33m.\u001b[0m\u001b[0mexperimental_get_tracing_count\u001b[0m\u001b[1;33m(\u001b[0m\u001b[1;33m)\u001b[0m\u001b[1;33m\u001b[0m\u001b[1;33m\u001b[0m\u001b[0m\n",
      "\u001b[1;32m~\\anaconda3\\envs\\python\\lib\\site-packages\\tensorflow\\python\\eager\\def_function.py\u001b[0m in \u001b[0;36m_call\u001b[1;34m(self, *args, **kwds)\u001b[0m\n\u001b[0;32m    915\u001b[0m       \u001b[1;31m# In this case we have created variables on the first call, so we run the\u001b[0m\u001b[1;33m\u001b[0m\u001b[1;33m\u001b[0m\u001b[1;33m\u001b[0m\u001b[0m\n\u001b[0;32m    916\u001b[0m       \u001b[1;31m# defunned version which is guaranteed to never create variables.\u001b[0m\u001b[1;33m\u001b[0m\u001b[1;33m\u001b[0m\u001b[1;33m\u001b[0m\u001b[0m\n\u001b[1;32m--> 917\u001b[1;33m       \u001b[1;32mreturn\u001b[0m \u001b[0mself\u001b[0m\u001b[1;33m.\u001b[0m\u001b[0m_stateless_fn\u001b[0m\u001b[1;33m(\u001b[0m\u001b[1;33m*\u001b[0m\u001b[0margs\u001b[0m\u001b[1;33m,\u001b[0m \u001b[1;33m**\u001b[0m\u001b[0mkwds\u001b[0m\u001b[1;33m)\u001b[0m  \u001b[1;31m# pylint: disable=not-callable\u001b[0m\u001b[1;33m\u001b[0m\u001b[1;33m\u001b[0m\u001b[0m\n\u001b[0m\u001b[0;32m    918\u001b[0m     \u001b[1;32melif\u001b[0m \u001b[0mself\u001b[0m\u001b[1;33m.\u001b[0m\u001b[0m_stateful_fn\u001b[0m \u001b[1;32mis\u001b[0m \u001b[1;32mnot\u001b[0m \u001b[1;32mNone\u001b[0m\u001b[1;33m:\u001b[0m\u001b[1;33m\u001b[0m\u001b[1;33m\u001b[0m\u001b[0m\n\u001b[0;32m    919\u001b[0m       \u001b[1;31m# Release the lock early so that multiple threads can perform the call\u001b[0m\u001b[1;33m\u001b[0m\u001b[1;33m\u001b[0m\u001b[1;33m\u001b[0m\u001b[0m\n",
      "\u001b[1;32m~\\anaconda3\\envs\\python\\lib\\site-packages\\tensorflow\\python\\eager\\function.py\u001b[0m in \u001b[0;36m__call__\u001b[1;34m(self, *args, **kwargs)\u001b[0m\n\u001b[0;32m   3038\u001b[0m        filtered_flat_args) = self._maybe_define_function(args, kwargs)\n\u001b[0;32m   3039\u001b[0m     return graph_function._call_flat(\n\u001b[1;32m-> 3040\u001b[1;33m         filtered_flat_args, captured_inputs=graph_function.captured_inputs)  # pylint: disable=protected-access\n\u001b[0m\u001b[0;32m   3041\u001b[0m \u001b[1;33m\u001b[0m\u001b[0m\n\u001b[0;32m   3042\u001b[0m   \u001b[1;33m@\u001b[0m\u001b[0mproperty\u001b[0m\u001b[1;33m\u001b[0m\u001b[1;33m\u001b[0m\u001b[0m\n",
      "\u001b[1;32m~\\anaconda3\\envs\\python\\lib\\site-packages\\tensorflow\\python\\eager\\function.py\u001b[0m in \u001b[0;36m_call_flat\u001b[1;34m(self, args, captured_inputs, cancellation_manager)\u001b[0m\n\u001b[0;32m   1962\u001b[0m       \u001b[1;31m# No tape is watching; skip to running the function.\u001b[0m\u001b[1;33m\u001b[0m\u001b[1;33m\u001b[0m\u001b[1;33m\u001b[0m\u001b[0m\n\u001b[0;32m   1963\u001b[0m       return self._build_call_outputs(self._inference_function.call(\n\u001b[1;32m-> 1964\u001b[1;33m           ctx, args, cancellation_manager=cancellation_manager))\n\u001b[0m\u001b[0;32m   1965\u001b[0m     forward_backward = self._select_forward_and_backward_functions(\n\u001b[0;32m   1966\u001b[0m         \u001b[0margs\u001b[0m\u001b[1;33m,\u001b[0m\u001b[1;33m\u001b[0m\u001b[1;33m\u001b[0m\u001b[0m\n",
      "\u001b[1;32m~\\anaconda3\\envs\\python\\lib\\site-packages\\tensorflow\\python\\eager\\function.py\u001b[0m in \u001b[0;36mcall\u001b[1;34m(self, ctx, args, cancellation_manager)\u001b[0m\n\u001b[0;32m    594\u001b[0m               \u001b[0minputs\u001b[0m\u001b[1;33m=\u001b[0m\u001b[0margs\u001b[0m\u001b[1;33m,\u001b[0m\u001b[1;33m\u001b[0m\u001b[1;33m\u001b[0m\u001b[0m\n\u001b[0;32m    595\u001b[0m               \u001b[0mattrs\u001b[0m\u001b[1;33m=\u001b[0m\u001b[0mattrs\u001b[0m\u001b[1;33m,\u001b[0m\u001b[1;33m\u001b[0m\u001b[1;33m\u001b[0m\u001b[0m\n\u001b[1;32m--> 596\u001b[1;33m               ctx=ctx)\n\u001b[0m\u001b[0;32m    597\u001b[0m         \u001b[1;32melse\u001b[0m\u001b[1;33m:\u001b[0m\u001b[1;33m\u001b[0m\u001b[1;33m\u001b[0m\u001b[0m\n\u001b[0;32m    598\u001b[0m           outputs = execute.execute_with_cancellation(\n",
      "\u001b[1;32m~\\anaconda3\\envs\\python\\lib\\site-packages\\tensorflow\\python\\eager\\execute.py\u001b[0m in \u001b[0;36mquick_execute\u001b[1;34m(op_name, num_outputs, inputs, attrs, ctx, name)\u001b[0m\n\u001b[0;32m     58\u001b[0m     \u001b[0mctx\u001b[0m\u001b[1;33m.\u001b[0m\u001b[0mensure_initialized\u001b[0m\u001b[1;33m(\u001b[0m\u001b[1;33m)\u001b[0m\u001b[1;33m\u001b[0m\u001b[1;33m\u001b[0m\u001b[0m\n\u001b[0;32m     59\u001b[0m     tensors = pywrap_tfe.TFE_Py_Execute(ctx._handle, device_name, op_name,\n\u001b[1;32m---> 60\u001b[1;33m                                         inputs, attrs, num_outputs)\n\u001b[0m\u001b[0;32m     61\u001b[0m   \u001b[1;32mexcept\u001b[0m \u001b[0mcore\u001b[0m\u001b[1;33m.\u001b[0m\u001b[0m_NotOkStatusException\u001b[0m \u001b[1;32mas\u001b[0m \u001b[0me\u001b[0m\u001b[1;33m:\u001b[0m\u001b[1;33m\u001b[0m\u001b[1;33m\u001b[0m\u001b[0m\n\u001b[0;32m     62\u001b[0m     \u001b[1;32mif\u001b[0m \u001b[0mname\u001b[0m \u001b[1;32mis\u001b[0m \u001b[1;32mnot\u001b[0m \u001b[1;32mNone\u001b[0m\u001b[1;33m:\u001b[0m\u001b[1;33m\u001b[0m\u001b[1;33m\u001b[0m\u001b[0m\n",
      "\u001b[1;31mKeyboardInterrupt\u001b[0m: "
     ]
    }
   ],
   "source": [
    "history = model.fit([train.display_id, train.ad_id], train.clicked, epochs=100, verbose=0)"
   ]
  },
  {
   "cell_type": "code",
   "execution_count": null,
   "id": "d966f981",
   "metadata": {},
   "outputs": [],
   "source": [
    "pd.Series(history.history['loss']).plot(logy=True)\n",
    "plt.xlabel(\"Epoch\")\n",
    "plt.ylabel(\"Training Error\")"
   ]
  },
  {
   "cell_type": "code",
   "execution_count": null,
   "id": "9235cfba",
   "metadata": {},
   "outputs": [],
   "source": [
    "results = model.evaluate((test.user_id, test.item_id), test.rating, batch_size=1)"
   ]
  },
  {
   "cell_type": "code",
   "execution_count": null,
   "id": "1b487503",
   "metadata": {},
   "outputs": [],
   "source": [
    "movie_embedding_learnt = model.get_layer(name='Movie-Embedding').get_weights()[0]\n",
    "pd.DataFrame(movie_embedding_learnt).describe()"
   ]
  },
  {
   "cell_type": "code",
   "execution_count": null,
   "id": "f5c46ccd",
   "metadata": {},
   "outputs": [],
   "source": [
    "user_embedding_learnt = model.get_layer(name='User-Embedding').get_weights()[0]"
   ]
  },
  {
   "cell_type": "code",
   "execution_count": null,
   "id": "85d6eba4",
   "metadata": {},
   "outputs": [],
   "source": [
    "def recommend(user_id, number_of_movies=5):\n",
    "    movies = user_embedding_learnt[user_id]@movie_embedding_learnt.T\n",
    "    mids = np.argpartition(movies, -number_of_movies)[-number_of_movies:]\n",
    "    return mids"
   ]
  },
  {
   "cell_type": "code",
   "execution_count": null,
   "id": "2a16e1db",
   "metadata": {},
   "outputs": [],
   "source": [
    "recommend(user_id=1)"
   ]
  },
  {
   "cell_type": "code",
   "execution_count": null,
   "id": "38c1fe0d",
   "metadata": {},
   "outputs": [],
   "source": []
  },
  {
   "cell_type": "markdown",
   "id": "4f1361fd",
   "metadata": {},
   "source": [
    "## Segundo metodo Keras"
   ]
  },
  {
   "cell_type": "code",
   "execution_count": 1,
   "id": "11f65e27",
   "metadata": {},
   "outputs": [],
   "source": [
    "### Ahora en Keras\n",
    "\n",
    "from __future__ import print_function, division\n",
    "from builtins import range, input\n",
    "import numpy as np\n",
    "import pandas as pd\n",
    "import matplotlib.pyplot as plt\n",
    "from sklearn.utils import shuffle\n",
    "\n",
    "import tensorflow\n",
    "\n",
    "from tensorflow import keras"
   ]
  },
  {
   "cell_type": "code",
   "execution_count": 2,
   "id": "d5abaa80",
   "metadata": {},
   "outputs": [],
   "source": [
    "from keras.models import Model\n",
    "from keras.layers import Input, Embedding, Dot, Add, Flatten\n",
    "from keras.regularizers import l2\n",
    "from tensorflow.keras.optimizers import Adam, SGD"
   ]
  },
  {
   "cell_type": "code",
   "execution_count": 3,
   "id": "5c66dd39",
   "metadata": {},
   "outputs": [],
   "source": [
    "df = pd.read_csv('clicks_train.csv')"
   ]
  },
  {
   "cell_type": "code",
   "execution_count": 4,
   "id": "9be717c0",
   "metadata": {},
   "outputs": [
    {
     "data": {
      "text/html": [
       "<div>\n",
       "<style scoped>\n",
       "    .dataframe tbody tr th:only-of-type {\n",
       "        vertical-align: middle;\n",
       "    }\n",
       "\n",
       "    .dataframe tbody tr th {\n",
       "        vertical-align: top;\n",
       "    }\n",
       "\n",
       "    .dataframe thead th {\n",
       "        text-align: right;\n",
       "    }\n",
       "</style>\n",
       "<table border=\"1\" class=\"dataframe\">\n",
       "  <thead>\n",
       "    <tr style=\"text-align: right;\">\n",
       "      <th></th>\n",
       "      <th>display_id</th>\n",
       "      <th>ad_id</th>\n",
       "      <th>clicked</th>\n",
       "    </tr>\n",
       "  </thead>\n",
       "  <tbody>\n",
       "    <tr>\n",
       "      <th>0</th>\n",
       "      <td>1</td>\n",
       "      <td>42337</td>\n",
       "      <td>0</td>\n",
       "    </tr>\n",
       "    <tr>\n",
       "      <th>1</th>\n",
       "      <td>1</td>\n",
       "      <td>139684</td>\n",
       "      <td>0</td>\n",
       "    </tr>\n",
       "    <tr>\n",
       "      <th>2</th>\n",
       "      <td>1</td>\n",
       "      <td>144739</td>\n",
       "      <td>1</td>\n",
       "    </tr>\n",
       "    <tr>\n",
       "      <th>3</th>\n",
       "      <td>1</td>\n",
       "      <td>156824</td>\n",
       "      <td>0</td>\n",
       "    </tr>\n",
       "    <tr>\n",
       "      <th>4</th>\n",
       "      <td>1</td>\n",
       "      <td>279295</td>\n",
       "      <td>0</td>\n",
       "    </tr>\n",
       "  </tbody>\n",
       "</table>\n",
       "</div>"
      ],
      "text/plain": [
       "   display_id   ad_id  clicked\n",
       "0           1   42337        0\n",
       "1           1  139684        0\n",
       "2           1  144739        1\n",
       "3           1  156824        0\n",
       "4           1  279295        0"
      ]
     },
     "execution_count": 4,
     "metadata": {},
     "output_type": "execute_result"
    }
   ],
   "source": [
    "df.head()"
   ]
  },
  {
   "cell_type": "code",
   "execution_count": 5,
   "id": "c1edfbae",
   "metadata": {},
   "outputs": [],
   "source": [
    "user = df['display_id'].value_counts().index\n",
    "map = {k:i for i, k in enumerate(user)}\n",
    "df['display_id'] = df['display_id'].map(map)"
   ]
  },
  {
   "cell_type": "code",
   "execution_count": 6,
   "id": "f891a7b6",
   "metadata": {},
   "outputs": [],
   "source": [
    "mov = df['ad_id'].value_counts().index\n",
    "map = {k:i for i, k in enumerate(mov)}\n",
    "df['ad_id'] = df['ad_id'].map(map)"
   ]
  },
  {
   "cell_type": "code",
   "execution_count": 7,
   "id": "dff83bf6",
   "metadata": {},
   "outputs": [
    {
     "data": {
      "text/html": [
       "<div>\n",
       "<style scoped>\n",
       "    .dataframe tbody tr th:only-of-type {\n",
       "        vertical-align: middle;\n",
       "    }\n",
       "\n",
       "    .dataframe tbody tr th {\n",
       "        vertical-align: top;\n",
       "    }\n",
       "\n",
       "    .dataframe thead th {\n",
       "        text-align: right;\n",
       "    }\n",
       "</style>\n",
       "<table border=\"1\" class=\"dataframe\">\n",
       "  <thead>\n",
       "    <tr style=\"text-align: right;\">\n",
       "      <th></th>\n",
       "      <th>display_id</th>\n",
       "      <th>ad_id</th>\n",
       "      <th>clicked</th>\n",
       "    </tr>\n",
       "  </thead>\n",
       "  <tbody>\n",
       "    <tr>\n",
       "      <th>0</th>\n",
       "      <td>6863279</td>\n",
       "      <td>1426</td>\n",
       "      <td>0</td>\n",
       "    </tr>\n",
       "    <tr>\n",
       "      <th>1</th>\n",
       "      <td>6863279</td>\n",
       "      <td>10815</td>\n",
       "      <td>0</td>\n",
       "    </tr>\n",
       "    <tr>\n",
       "      <th>2</th>\n",
       "      <td>6863279</td>\n",
       "      <td>82</td>\n",
       "      <td>1</td>\n",
       "    </tr>\n",
       "    <tr>\n",
       "      <th>3</th>\n",
       "      <td>6863279</td>\n",
       "      <td>80</td>\n",
       "      <td>0</td>\n",
       "    </tr>\n",
       "    <tr>\n",
       "      <th>4</th>\n",
       "      <td>6863279</td>\n",
       "      <td>22824</td>\n",
       "      <td>0</td>\n",
       "    </tr>\n",
       "    <tr>\n",
       "      <th>...</th>\n",
       "      <td>...</td>\n",
       "      <td>...</td>\n",
       "      <td>...</td>\n",
       "    </tr>\n",
       "    <tr>\n",
       "      <th>87141726</th>\n",
       "      <td>13362518</td>\n",
       "      <td>944</td>\n",
       "      <td>0</td>\n",
       "    </tr>\n",
       "    <tr>\n",
       "      <th>87141727</th>\n",
       "      <td>13362159</td>\n",
       "      <td>22265</td>\n",
       "      <td>1</td>\n",
       "    </tr>\n",
       "    <tr>\n",
       "      <th>87141728</th>\n",
       "      <td>13362159</td>\n",
       "      <td>2311</td>\n",
       "      <td>0</td>\n",
       "    </tr>\n",
       "    <tr>\n",
       "      <th>87141729</th>\n",
       "      <td>13362159</td>\n",
       "      <td>5476</td>\n",
       "      <td>0</td>\n",
       "    </tr>\n",
       "    <tr>\n",
       "      <th>87141730</th>\n",
       "      <td>13362159</td>\n",
       "      <td>2136</td>\n",
       "      <td>0</td>\n",
       "    </tr>\n",
       "  </tbody>\n",
       "</table>\n",
       "<p>87141731 rows × 3 columns</p>\n",
       "</div>"
      ],
      "text/plain": [
       "          display_id  ad_id  clicked\n",
       "0            6863279   1426        0\n",
       "1            6863279  10815        0\n",
       "2            6863279     82        1\n",
       "3            6863279     80        0\n",
       "4            6863279  22824        0\n",
       "...              ...    ...      ...\n",
       "87141726    13362518    944        0\n",
       "87141727    13362159  22265        1\n",
       "87141728    13362159   2311        0\n",
       "87141729    13362159   5476        0\n",
       "87141730    13362159   2136        0\n",
       "\n",
       "[87141731 rows x 3 columns]"
      ]
     },
     "execution_count": 7,
     "metadata": {},
     "output_type": "execute_result"
    }
   ],
   "source": [
    "df"
   ]
  },
  {
   "cell_type": "code",
   "execution_count": 8,
   "id": "149c17bc",
   "metadata": {},
   "outputs": [
    {
     "data": {
      "text/plain": [
       "(16874592, 478949)"
      ]
     },
     "execution_count": 8,
     "metadata": {},
     "output_type": "execute_result"
    }
   ],
   "source": [
    "N = df['display_id'].max()\n",
    "M = df['ad_id'].max()\n",
    "\n",
    "N,M"
   ]
  },
  {
   "cell_type": "code",
   "execution_count": 31,
   "id": "8b06a0dc",
   "metadata": {},
   "outputs": [],
   "source": [
    "n = 10000\n",
    "m = 8000\n",
    "\n",
    "from collections import Counter"
   ]
  },
  {
   "cell_type": "code",
   "execution_count": null,
   "id": "6f1b8d51",
   "metadata": {},
   "outputs": [],
   "source": [
    "ucount = Counter(df['display_id'])\n",
    "mcount = Counter(df['ad_id'])\n",
    "\n",
    "uid = [u for u, c in ucount.most_common(n)]\n",
    "mid = [u for u, c in mcount.most_common(m)]"
   ]
  },
  {
   "cell_type": "code",
   "execution_count": null,
   "id": "a2c29234",
   "metadata": {},
   "outputs": [],
   "source": [
    "newdf = df[df['display_id'].isin(uid) & df['ad_id'].isin(mid)]\n",
    "newdf.head()"
   ]
  },
  {
   "cell_type": "code",
   "execution_count": 12,
   "id": "823da3b4",
   "metadata": {},
   "outputs": [
    {
     "name": "stderr",
     "output_type": "stream",
     "text": [
      "C:\\Users\\patri\\anaconda3\\envs\\python\\lib\\site-packages\\ipykernel_launcher.py:6: SettingWithCopyWarning: \n",
      "A value is trying to be set on a copy of a slice from a DataFrame.\n",
      "Try using .loc[row_indexer,col_indexer] = value instead\n",
      "\n",
      "See the caveats in the documentation: https://pandas.pydata.org/pandas-docs/stable/user_guide/indexing.html#returning-a-view-versus-a-copy\n",
      "  \n"
     ]
    }
   ],
   "source": [
    "N = newdf['display_id'].max()\n",
    "M = newdf['ad_id'].max()\n",
    "\n",
    "user = newdf['display_id'].value_counts().index\n",
    "map = {k:i for i, k in enumerate(user)}\n",
    "newdf['display_id'] = newdf['display_id'].map(map)"
   ]
  },
  {
   "cell_type": "code",
   "execution_count": 13,
   "id": "df58b4ba",
   "metadata": {},
   "outputs": [
    {
     "name": "stderr",
     "output_type": "stream",
     "text": [
      "C:\\Users\\patri\\anaconda3\\envs\\python\\lib\\site-packages\\ipykernel_launcher.py:3: SettingWithCopyWarning: \n",
      "A value is trying to be set on a copy of a slice from a DataFrame.\n",
      "Try using .loc[row_indexer,col_indexer] = value instead\n",
      "\n",
      "See the caveats in the documentation: https://pandas.pydata.org/pandas-docs/stable/user_guide/indexing.html#returning-a-view-versus-a-copy\n",
      "  This is separate from the ipykernel package so we can avoid doing imports until\n"
     ]
    }
   ],
   "source": [
    "mov = newdf['ad_id'].value_counts().index\n",
    "map = {k:i for i, k in enumerate(mov)}\n",
    "newdf['ad_id'] = newdf['ad_id'].map(map)"
   ]
  },
  {
   "cell_type": "code",
   "execution_count": 171,
   "id": "73b681c2",
   "metadata": {},
   "outputs": [
    {
     "data": {
      "text/plain": [
       "55236"
      ]
     },
     "execution_count": 171,
     "metadata": {},
     "output_type": "execute_result"
    }
   ],
   "source": [
    "newdf = shuffle(newdf)\n",
    "cutoff = int(0.8*len(newdf))\n",
    "cutoff"
   ]
  },
  {
   "cell_type": "code",
   "execution_count": 172,
   "id": "96f74adf",
   "metadata": {},
   "outputs": [],
   "source": [
    "train = newdf.iloc[: cutoff]\n",
    "test = newdf.iloc[cutoff:]"
   ]
  },
  {
   "cell_type": "code",
   "execution_count": 216,
   "id": "16ffbb4c",
   "metadata": {},
   "outputs": [],
   "source": [
    "K = 10 #factores latentes\n",
    "mu = newdf['clicked'].mean()\n",
    "epochs = 25\n",
    "reg = 0.\n",
    "N = 10000\n",
    "M = 8000"
   ]
  },
  {
   "cell_type": "code",
   "execution_count": 217,
   "id": "3d99372b",
   "metadata": {},
   "outputs": [],
   "source": [
    "u = Input(shape=(1,))\n",
    "m = Input(shape=(1,))\n",
    "\n",
    "u_embed = Embedding(N, K, embeddings_regularizer = l2(reg))(u) # size (N,1,K)\n",
    "m_embed = Embedding(M, K, embeddings_regularizer = l2(reg))(m) # size (M,1,K)"
   ]
  },
  {
   "cell_type": "code",
   "execution_count": 218,
   "id": "d51c21ec",
   "metadata": {},
   "outputs": [],
   "source": [
    "u_bias = Embedding(N, 1, embeddings_regularizer = l2(reg))(u)\n",
    "m_bias = Embedding(M, 1, embeddings_regularizer = l2(reg))(m)\n",
    "\n",
    "x = Dot(axes = 2)([u_embed, m_embed])\n",
    "\n",
    "x = Add()([x, u_bias, m_bias])\n",
    "x = Flatten()(x) # N,1"
   ]
  },
  {
   "cell_type": "code",
   "execution_count": 225,
   "id": "7880d515",
   "metadata": {},
   "outputs": [],
   "source": [
    "model = Model(inputs = (u, m),\n",
    "             outputs = x)\n",
    "\n",
    "model.compile(loss = 'mse',\n",
    "             optimizer = Adam(learning_rate = 0.0001),\n",
    "             metrics = ['mse'])"
   ]
  },
  {
   "cell_type": "code",
   "execution_count": 226,
   "id": "1bde5730",
   "metadata": {},
   "outputs": [
    {
     "name": "stdout",
     "output_type": "stream",
     "text": [
      "Epoch 1/25\n",
      "216/216 [==============================] - 0s 908us/step - loss: 1.8953e-04 - mse: 1.8953e-04 - val_loss: 0.1461 - val_mse: 0.1461\n",
      "Epoch 2/25\n",
      "216/216 [==============================] - 0s 621us/step - loss: 1.3893e-04 - mse: 1.3893e-04 - val_loss: 0.1462 - val_mse: 0.1462\n",
      "Epoch 3/25\n",
      "216/216 [==============================] - 0s 627us/step - loss: 1.0881e-04 - mse: 1.0881e-04 - val_loss: 0.1462 - val_mse: 0.1462\n",
      "Epoch 4/25\n",
      "216/216 [==============================] - 0s 631us/step - loss: 9.0090e-05 - mse: 9.0090e-05 - val_loss: 0.1462 - val_mse: 0.1462\n",
      "Epoch 5/25\n",
      "216/216 [==============================] - 0s 628us/step - loss: 7.8002e-05 - mse: 7.8002e-05 - val_loss: 0.1462 - val_mse: 0.1462\n",
      "Epoch 6/25\n",
      "216/216 [==============================] - 0s 620us/step - loss: 6.9949e-05 - mse: 6.9949e-05 - val_loss: 0.1463 - val_mse: 0.1463\n",
      "Epoch 7/25\n",
      "216/216 [==============================] - 0s 623us/step - loss: 6.4500e-05 - mse: 6.4500e-05 - val_loss: 0.1463 - val_mse: 0.1463\n",
      "Epoch 8/25\n",
      "216/216 [==============================] - 0s 614us/step - loss: 6.0760e-05 - mse: 6.0760e-05 - val_loss: 0.1463 - val_mse: 0.1463\n",
      "Epoch 9/25\n",
      "216/216 [==============================] - 0s 620us/step - loss: 5.7989e-05 - mse: 5.7989e-05 - val_loss: 0.1464 - val_mse: 0.1464\n",
      "Epoch 10/25\n",
      "216/216 [==============================] - 0s 626us/step - loss: 5.5944e-05 - mse: 5.5944e-05 - val_loss: 0.1464 - val_mse: 0.1464\n",
      "Epoch 11/25\n",
      "216/216 [==============================] - 0s 627us/step - loss: 5.4375e-05 - mse: 5.4375e-05 - val_loss: 0.1464 - val_mse: 0.1464\n",
      "Epoch 12/25\n",
      "216/216 [==============================] - 0s 644us/step - loss: 5.3040e-05 - mse: 5.3040e-05 - val_loss: 0.1464 - val_mse: 0.1464\n",
      "Epoch 13/25\n",
      "216/216 [==============================] - 0s 640us/step - loss: 5.1950e-05 - mse: 5.1950e-05 - val_loss: 0.1465 - val_mse: 0.1465\n",
      "Epoch 14/25\n",
      "216/216 [==============================] - 0s 648us/step - loss: 5.1139e-05 - mse: 5.1139e-05 - val_loss: 0.1465 - val_mse: 0.1465\n",
      "Epoch 15/25\n",
      "216/216 [==============================] - 0s 678us/step - loss: 5.0290e-05 - mse: 5.0290e-05 - val_loss: 0.1465 - val_mse: 0.1465\n",
      "Epoch 16/25\n",
      "216/216 [==============================] - 0s 679us/step - loss: 4.9508e-05 - mse: 4.9508e-05 - val_loss: 0.1465 - val_mse: 0.1465\n",
      "Epoch 17/25\n",
      "216/216 [==============================] - 0s 653us/step - loss: 4.8852e-05 - mse: 4.8852e-05 - val_loss: 0.1466 - val_mse: 0.1466\n",
      "Epoch 18/25\n",
      "216/216 [==============================] - 0s 663us/step - loss: 4.8190e-05 - mse: 4.8190e-05 - val_loss: 0.1466 - val_mse: 0.1466\n",
      "Epoch 19/25\n",
      "216/216 [==============================] - 0s 671us/step - loss: 4.7593e-05 - mse: 4.7593e-05 - val_loss: 0.1466 - val_mse: 0.1466\n",
      "Epoch 20/25\n",
      "216/216 [==============================] - 0s 641us/step - loss: 4.6991e-05 - mse: 4.6991e-05 - val_loss: 0.1467 - val_mse: 0.1467\n",
      "Epoch 21/25\n",
      "216/216 [==============================] - 0s 632us/step - loss: 4.6405e-05 - mse: 4.6405e-05 - val_loss: 0.1467 - val_mse: 0.1467\n",
      "Epoch 22/25\n",
      "216/216 [==============================] - 0s 637us/step - loss: 4.5885e-05 - mse: 4.5885e-05 - val_loss: 0.1467 - val_mse: 0.1467\n",
      "Epoch 23/25\n",
      "216/216 [==============================] - 0s 640us/step - loss: 4.5324e-05 - mse: 4.5324e-05 - val_loss: 0.1468 - val_mse: 0.1468\n",
      "Epoch 24/25\n",
      "216/216 [==============================] - 0s 700us/step - loss: 4.4863e-05 - mse: 4.4863e-05 - val_loss: 0.1468 - val_mse: 0.1468\n",
      "Epoch 25/25\n",
      "216/216 [==============================] - 0s 672us/step - loss: 4.4319e-05 - mse: 4.4319e-05 - val_loss: 0.1468 - val_mse: 0.1468\n"
     ]
    }
   ],
   "source": [
    "r = model.fit(x = [train['display_id'].values, train['ad_id'].values],\n",
    "                 y = train['clicked'].values - mu,\n",
    "                 epochs = epochs,\n",
    "                 batch_size = 256,\n",
    "                 validation_data = ([test['display_id'].values, test['ad_id'].values],\n",
    "                 test['clicked'].values - mu)\n",
    "                 )"
   ]
  },
  {
   "cell_type": "code",
   "execution_count": 224,
   "id": "ec565272",
   "metadata": {},
   "outputs": [
    {
     "data": {
      "image/png": "[encoded data removed]",
      "text/plain": [
       "<Figure size 432x288 with 1 Axes>"
      ]
     },
     "metadata": {
      "needs_background": "light"
     },
     "output_type": "display_data"
    },
    {
     "data": {
      "image/png": "[encoded data removed]",
      "text/plain": [
       "<Figure size 432x288 with 1 Axes>"
      ]
     },
     "metadata": {
      "needs_background": "light"
     },
     "output_type": "display_data"
    }
   ],
   "source": [
    "# plot losses\n",
    "plt.plot(r.history['loss'], label=\"train loss\")\n",
    "plt.plot(r.history['val_loss'], label=\"test loss\")\n",
    "plt.legend()\n",
    "plt.show()\n",
    "\n",
    "# plot mse\n",
    "plt.plot(r.history['mse'], label=\"train mse\")\n",
    "plt.plot(r.history['val_mse'], label=\"test mse\")\n",
    "plt.legend()\n",
    "plt.show()"
   ]
  },
  {
   "cell_type": "code",
   "execution_count": null,
   "id": "ddec4bed",
   "metadata": {},
   "outputs": [],
   "source": []
  },
  {
   "cell_type": "markdown",
   "id": "604b82a9",
   "metadata": {},
   "source": [
    "## Tercer Metodo Keras"
   ]
  },
  {
   "cell_type": "code",
   "execution_count": 1,
   "id": "f74bcb0f",
   "metadata": {},
   "outputs": [],
   "source": [
    "from sklearn.datasets import dump_svmlight_file\n",
    "import numpy as np\n",
    "import pandas as pd\n",
    "import os\n",
    "import urllib\n",
    "import zipfile\n",
    "from sklearn.model_selection import train_test_split\n",
    "import shutil\n",
    "import matplotlib.pyplot as plt\n",
    "import warnings\n",
    "warnings.filterwarnings('ignore')\n",
    "%matplotlib inline"
   ]
  },
  {
   "cell_type": "code",
   "execution_count": 2,
   "id": "dc586efc",
   "metadata": {},
   "outputs": [],
   "source": [
    "### Ahora en Keras\n",
    "\n",
    "from __future__ import print_function, division\n",
    "from builtins import range, input\n",
    "import numpy as np\n",
    "import pandas as pd\n",
    "import matplotlib.pyplot as plt\n",
    "from sklearn.utils import shuffle\n",
    "\n",
    "import tensorflow\n",
    "\n",
    "from tensorflow import keras"
   ]
  },
  {
   "cell_type": "code",
   "execution_count": 3,
   "id": "b70c0b9f",
   "metadata": {},
   "outputs": [],
   "source": [
    "from keras.models import Model\n",
    "from keras.layers import Input, Embedding, Dot, Add, Flatten\n",
    "from keras.regularizers import l2\n",
    "from tensorflow.keras.optimizers import Adam, SGD"
   ]
  },
  {
   "cell_type": "code",
   "execution_count": 4,
   "id": "21a4c6cf",
   "metadata": {},
   "outputs": [],
   "source": [
    "df = pd.read_csv('clicks_train.csv')"
   ]
  },
  {
   "cell_type": "code",
   "execution_count": 5,
   "id": "cc063a67",
   "metadata": {},
   "outputs": [
    {
     "data": {
      "text/html": [
       "<div>\n",
       "<style scoped>\n",
       "    .dataframe tbody tr th:only-of-type {\n",
       "        vertical-align: middle;\n",
       "    }\n",
       "\n",
       "    .dataframe tbody tr th {\n",
       "        vertical-align: top;\n",
       "    }\n",
       "\n",
       "    .dataframe thead th {\n",
       "        text-align: right;\n",
       "    }\n",
       "</style>\n",
       "<table border=\"1\" class=\"dataframe\">\n",
       "  <thead>\n",
       "    <tr style=\"text-align: right;\">\n",
       "      <th></th>\n",
       "      <th>display_id</th>\n",
       "      <th>ad_id</th>\n",
       "      <th>clicked</th>\n",
       "    </tr>\n",
       "  </thead>\n",
       "  <tbody>\n",
       "    <tr>\n",
       "      <th>0</th>\n",
       "      <td>1</td>\n",
       "      <td>42337</td>\n",
       "      <td>0</td>\n",
       "    </tr>\n",
       "    <tr>\n",
       "      <th>1</th>\n",
       "      <td>1</td>\n",
       "      <td>139684</td>\n",
       "      <td>0</td>\n",
       "    </tr>\n",
       "    <tr>\n",
       "      <th>2</th>\n",
       "      <td>1</td>\n",
       "      <td>144739</td>\n",
       "      <td>1</td>\n",
       "    </tr>\n",
       "    <tr>\n",
       "      <th>3</th>\n",
       "      <td>1</td>\n",
       "      <td>156824</td>\n",
       "      <td>0</td>\n",
       "    </tr>\n",
       "    <tr>\n",
       "      <th>4</th>\n",
       "      <td>1</td>\n",
       "      <td>279295</td>\n",
       "      <td>0</td>\n",
       "    </tr>\n",
       "  </tbody>\n",
       "</table>\n",
       "</div>"
      ],
      "text/plain": [
       "   display_id   ad_id  clicked\n",
       "0           1   42337        0\n",
       "1           1  139684        0\n",
       "2           1  144739        1\n",
       "3           1  156824        0\n",
       "4           1  279295        0"
      ]
     },
     "execution_count": 5,
     "metadata": {},
     "output_type": "execute_result"
    }
   ],
   "source": [
    "df.head()"
   ]
  },
  {
   "cell_type": "code",
   "execution_count": 6,
   "id": "0c4e3154",
   "metadata": {},
   "outputs": [],
   "source": [
    "df.display_id = df.display_id.astype('category').cat.codes.values\n",
    "df.ad_id = df.ad_id.astype('category').cat.codes.values"
   ]
  },
  {
   "cell_type": "code",
   "execution_count": 7,
   "id": "b1a4261a",
   "metadata": {},
   "outputs": [],
   "source": [
    "n = 10000\n",
    "m = 8000\n",
    "\n",
    "from collections import Counter"
   ]
  },
  {
   "cell_type": "code",
   "execution_count": 8,
   "id": "0d74a3de",
   "metadata": {},
   "outputs": [],
   "source": [
    "ucount = Counter(df['display_id'])\n",
    "mcount = Counter(df['ad_id'])\n",
    "\n",
    "uid = [u for u, c in ucount.most_common(n)]\n",
    "mid = [u for u, c in mcount.most_common(m)]"
   ]
  },
  {
   "cell_type": "code",
   "execution_count": 9,
   "id": "efc64eb5",
   "metadata": {},
   "outputs": [
    {
     "data": {
      "text/html": [
       "<div>\n",
       "<style scoped>\n",
       "    .dataframe tbody tr th:only-of-type {\n",
       "        vertical-align: middle;\n",
       "    }\n",
       "\n",
       "    .dataframe tbody tr th {\n",
       "        vertical-align: top;\n",
       "    }\n",
       "\n",
       "    .dataframe thead th {\n",
       "        text-align: right;\n",
       "    }\n",
       "</style>\n",
       "<table border=\"1\" class=\"dataframe\">\n",
       "  <thead>\n",
       "    <tr style=\"text-align: right;\">\n",
       "      <th></th>\n",
       "      <th>display_id</th>\n",
       "      <th>ad_id</th>\n",
       "      <th>clicked</th>\n",
       "    </tr>\n",
       "  </thead>\n",
       "  <tbody>\n",
       "    <tr>\n",
       "      <th>2730</th>\n",
       "      <td>543</td>\n",
       "      <td>10102</td>\n",
       "      <td>0</td>\n",
       "    </tr>\n",
       "    <tr>\n",
       "      <th>2733</th>\n",
       "      <td>543</td>\n",
       "      <td>22534</td>\n",
       "      <td>1</td>\n",
       "    </tr>\n",
       "    <tr>\n",
       "      <th>2734</th>\n",
       "      <td>543</td>\n",
       "      <td>25983</td>\n",
       "      <td>0</td>\n",
       "    </tr>\n",
       "    <tr>\n",
       "      <th>2736</th>\n",
       "      <td>543</td>\n",
       "      <td>53744</td>\n",
       "      <td>0</td>\n",
       "    </tr>\n",
       "    <tr>\n",
       "      <th>2737</th>\n",
       "      <td>543</td>\n",
       "      <td>56959</td>\n",
       "      <td>0</td>\n",
       "    </tr>\n",
       "  </tbody>\n",
       "</table>\n",
       "</div>"
      ],
      "text/plain": [
       "      display_id  ad_id  clicked\n",
       "2730         543  10102        0\n",
       "2733         543  22534        1\n",
       "2734         543  25983        0\n",
       "2736         543  53744        0\n",
       "2737         543  56959        0"
      ]
     },
     "execution_count": 9,
     "metadata": {},
     "output_type": "execute_result"
    }
   ],
   "source": [
    "newdf = df[df['display_id'].isin(uid) & df['ad_id'].isin(mid)]\n",
    "newdf.head()"
   ]
  },
  {
   "cell_type": "code",
   "execution_count": 10,
   "id": "c9b93b9c",
   "metadata": {},
   "outputs": [],
   "source": [
    "newdf.display_id = newdf.display_id.astype('category').cat.codes.values\n",
    "newdf.ad_id = newdf.ad_id.astype('category').cat.codes.values"
   ]
  },
  {
   "cell_type": "code",
   "execution_count": 16,
   "id": "c76162ad",
   "metadata": {},
   "outputs": [],
   "source": [
    "train, test = train_test_split(newdf, test_size=0.2)"
   ]
  },
  {
   "cell_type": "code",
   "execution_count": 17,
   "id": "dffb235e",
   "metadata": {},
   "outputs": [],
   "source": [
    "#%tensorflow_version 2.x\n",
    "import tensorflow as tf\n",
    "from tensorflow import keras\n",
    "from tensorflow.keras.optimizers import Adam"
   ]
  },
  {
   "cell_type": "code",
   "execution_count": 18,
   "id": "d401a1f9",
   "metadata": {},
   "outputs": [],
   "source": [
    "#n_users, n_movies = len(dataset.display_id.unique()), len(dataset.ad_id.unique())\n",
    "n_users, n_movies = 10000 , 8000\n",
    "n_latent_factors = 20"
   ]
  },
  {
   "cell_type": "code",
   "execution_count": 19,
   "id": "e49f288a",
   "metadata": {},
   "outputs": [
    {
     "name": "stdout",
     "output_type": "stream",
     "text": [
      "KerasTensor(type_spec=TensorSpec(shape=(None, 1), dtype=tf.float32, name=None), name='DotProduct/Squeeze:0', description=\"created by layer 'DotProduct'\")\n"
     ]
    }
   ],
   "source": [
    "movie_input = keras.layers.Input(shape=[1],name='Item')\n",
    "movie_embedding = keras.layers.Embedding(n_movies + 1, n_latent_factors, name='Movie-Embedding')(movie_input)\n",
    "movie_vec = keras.layers.Flatten(name='FlattenMovies')(movie_embedding)\n",
    "user_input = keras.layers.Input(shape=[1],name='User')\n",
    "user_vec = keras.layers.Flatten(name='FlattenUsers')(keras.layers.Embedding(n_users + 1, n_latent_factors,name='User-Embedding')(user_input))\n",
    "prod = keras.layers.dot([movie_vec, user_vec], axes=1,name='DotProduct')\n",
    "print(prod)\n",
    "model = keras.Model([user_input, movie_input], prod)"
   ]
  },
  {
   "cell_type": "code",
   "execution_count": 20,
   "id": "1a38df38",
   "metadata": {},
   "outputs": [],
   "source": [
    "model.compile(optimizer='adam', loss='mean_squared_error', metrics=['mae', 'mse'])"
   ]
  },
  {
   "cell_type": "code",
   "execution_count": 21,
   "id": "551e20a7",
   "metadata": {},
   "outputs": [
    {
     "name": "stdout",
     "output_type": "stream",
     "text": [
      "Model: \"model_1\"\n",
      "__________________________________________________________________________________________________\n",
      "Layer (type)                    Output Shape         Param #     Connected to                     \n",
      "==================================================================================================\n",
      "Item (InputLayer)               [(None, 1)]          0                                            \n",
      "__________________________________________________________________________________________________\n",
      "User (InputLayer)               [(None, 1)]          0                                            \n",
      "__________________________________________________________________________________________________\n",
      "Movie-Embedding (Embedding)     (None, 1, 20)        160020      Item[0][0]                       \n",
      "__________________________________________________________________________________________________\n",
      "User-Embedding (Embedding)      (None, 1, 20)        200020      User[0][0]                       \n",
      "__________________________________________________________________________________________________\n",
      "FlattenMovies (Flatten)         (None, 20)           0           Movie-Embedding[0][0]            \n",
      "__________________________________________________________________________________________________\n",
      "FlattenUsers (Flatten)          (None, 20)           0           User-Embedding[0][0]             \n",
      "__________________________________________________________________________________________________\n",
      "DotProduct (Dot)                (None, 1)            0           FlattenMovies[0][0]              \n",
      "                                                                 FlattenUsers[0][0]               \n",
      "==================================================================================================\n",
      "Total params: 360,040\n",
      "Trainable params: 360,040\n",
      "Non-trainable params: 0\n",
      "__________________________________________________________________________________________________\n"
     ]
    }
   ],
   "source": [
    "model.summary()"
   ]
  },
  {
   "cell_type": "code",
   "execution_count": 28,
   "id": "a75e233e",
   "metadata": {},
   "outputs": [],
   "source": [
    "history = model.fit([train.display_id, train.ad_id], train.clicked, epochs=25, verbose=0, \n",
    "                    validation_data = ([test.display_id, test.ad_id], test.clicked))"
   ]
  },
  {
   "cell_type": "code",
   "execution_count": 44,
   "id": "e6c90205",
   "metadata": {},
   "outputs": [
    {
     "data": {
      "text/plain": [
       "Text(0, 0.5, 'Training Error')"
      ]
     },
     "execution_count": 44,
     "metadata": {},
     "output_type": "execute_result"
    },
    {
     "data": {
      "image/png": "[encoded data removed]",
      "text/plain": [
       "<Figure size 432x288 with 1 Axes>"
      ]
     },
     "metadata": {
      "needs_background": "light"
     },
     "output_type": "display_data"
    }
   ],
   "source": [
    "pd.Series(history.history['loss']).plot(logy=True, color='b')\n",
    "plt.xlabel(\"Epoch\")\n",
    "plt.ylabel(\"Training Error\")"
   ]
  },
  {
   "cell_type": "code",
   "execution_count": 47,
   "id": "1e6c897f",
   "metadata": {},
   "outputs": [
    {
     "data": {
      "text/plain": [
       "Text(0, 0.5, 'Training Error')"
      ]
     },
     "execution_count": 47,
     "metadata": {},
     "output_type": "execute_result"
    },
    {
     "data": {
      "image/png": "[encoded data removed]",
      "text/plain": [
       "<Figure size 432x288 with 1 Axes>"
      ]
     },
     "metadata": {
      "needs_background": "light"
     },
     "output_type": "display_data"
    }
   ],
   "source": [
    "pd.Series(history.history['val_loss']).plot(logy=True, color='orange')\n",
    "plt.xlabel(\"Epoch\")\n",
    "plt.ylabel(\"Training Error\")"
   ]
  },
  {
   "cell_type": "code",
   "execution_count": 36,
   "id": "a297c42a",
   "metadata": {},
   "outputs": [
    {
     "name": "stdout",
     "output_type": "stream",
     "text": [
      "13810/13810 [==============================] - 8s 583us/step - loss: 0.1099 - mae: 0.1685 - mse: 0.1099\n"
     ]
    }
   ],
   "source": [
    "results = model.evaluate((test.display_id, test.ad_id), test.clicked, batch_size=1)"
   ]
  },
  {
   "cell_type": "code",
   "execution_count": 37,
   "id": "740ddb29",
   "metadata": {},
   "outputs": [
    {
     "data": {
      "text/html": [
       "<div>\n",
       "<style scoped>\n",
       "    .dataframe tbody tr th:only-of-type {\n",
       "        vertical-align: middle;\n",
       "    }\n",
       "\n",
       "    .dataframe tbody tr th {\n",
       "        vertical-align: top;\n",
       "    }\n",
       "\n",
       "    .dataframe thead th {\n",
       "        text-align: right;\n",
       "    }\n",
       "</style>\n",
       "<table border=\"1\" class=\"dataframe\">\n",
       "  <thead>\n",
       "    <tr style=\"text-align: right;\">\n",
       "      <th></th>\n",
       "      <th>0</th>\n",
       "      <th>1</th>\n",
       "      <th>2</th>\n",
       "      <th>3</th>\n",
       "      <th>4</th>\n",
       "      <th>5</th>\n",
       "      <th>6</th>\n",
       "      <th>7</th>\n",
       "      <th>8</th>\n",
       "      <th>9</th>\n",
       "      <th>10</th>\n",
       "      <th>11</th>\n",
       "      <th>12</th>\n",
       "      <th>13</th>\n",
       "      <th>14</th>\n",
       "      <th>15</th>\n",
       "      <th>16</th>\n",
       "      <th>17</th>\n",
       "      <th>18</th>\n",
       "      <th>19</th>\n",
       "    </tr>\n",
       "  </thead>\n",
       "  <tbody>\n",
       "    <tr>\n",
       "      <th>count</th>\n",
       "      <td>8001.000000</td>\n",
       "      <td>8001.000000</td>\n",
       "      <td>8001.000000</td>\n",
       "      <td>8001.000000</td>\n",
       "      <td>8001.000000</td>\n",
       "      <td>8001.000000</td>\n",
       "      <td>8001.000000</td>\n",
       "      <td>8001.000000</td>\n",
       "      <td>8001.000000</td>\n",
       "      <td>8001.000000</td>\n",
       "      <td>8001.000000</td>\n",
       "      <td>8001.000000</td>\n",
       "      <td>8001.000000</td>\n",
       "      <td>8001.000000</td>\n",
       "      <td>8001.000000</td>\n",
       "      <td>8001.000000</td>\n",
       "      <td>8001.000000</td>\n",
       "      <td>8001.000000</td>\n",
       "      <td>8001.000000</td>\n",
       "      <td>8001.000000</td>\n",
       "    </tr>\n",
       "    <tr>\n",
       "      <th>mean</th>\n",
       "      <td>0.000435</td>\n",
       "      <td>-0.000694</td>\n",
       "      <td>-0.000646</td>\n",
       "      <td>0.000845</td>\n",
       "      <td>0.000808</td>\n",
       "      <td>-0.000008</td>\n",
       "      <td>-0.000769</td>\n",
       "      <td>0.000154</td>\n",
       "      <td>-0.000742</td>\n",
       "      <td>0.000266</td>\n",
       "      <td>-0.000229</td>\n",
       "      <td>0.002053</td>\n",
       "      <td>0.001367</td>\n",
       "      <td>-0.000607</td>\n",
       "      <td>-0.000766</td>\n",
       "      <td>0.000529</td>\n",
       "      <td>-0.000513</td>\n",
       "      <td>-0.000313</td>\n",
       "      <td>0.000847</td>\n",
       "      <td>-0.000111</td>\n",
       "    </tr>\n",
       "    <tr>\n",
       "      <th>std</th>\n",
       "      <td>0.072954</td>\n",
       "      <td>0.077251</td>\n",
       "      <td>0.074351</td>\n",
       "      <td>0.075451</td>\n",
       "      <td>0.073644</td>\n",
       "      <td>0.074683</td>\n",
       "      <td>0.073843</td>\n",
       "      <td>0.072619</td>\n",
       "      <td>0.074533</td>\n",
       "      <td>0.074380</td>\n",
       "      <td>0.073534</td>\n",
       "      <td>0.072945</td>\n",
       "      <td>0.073824</td>\n",
       "      <td>0.074371</td>\n",
       "      <td>0.075302</td>\n",
       "      <td>0.074497</td>\n",
       "      <td>0.075890</td>\n",
       "      <td>0.075857</td>\n",
       "      <td>0.074661</td>\n",
       "      <td>0.075095</td>\n",
       "    </tr>\n",
       "    <tr>\n",
       "      <th>min</th>\n",
       "      <td>-0.488796</td>\n",
       "      <td>-0.509241</td>\n",
       "      <td>-0.531626</td>\n",
       "      <td>-0.471664</td>\n",
       "      <td>-0.455326</td>\n",
       "      <td>-0.540411</td>\n",
       "      <td>-0.474876</td>\n",
       "      <td>-0.468885</td>\n",
       "      <td>-0.468722</td>\n",
       "      <td>-0.495980</td>\n",
       "      <td>-0.432880</td>\n",
       "      <td>-0.468145</td>\n",
       "      <td>-0.503963</td>\n",
       "      <td>-0.426376</td>\n",
       "      <td>-0.545822</td>\n",
       "      <td>-0.572267</td>\n",
       "      <td>-0.618280</td>\n",
       "      <td>-0.487848</td>\n",
       "      <td>-0.437645</td>\n",
       "      <td>-0.498861</td>\n",
       "    </tr>\n",
       "    <tr>\n",
       "      <th>25%</th>\n",
       "      <td>-0.025689</td>\n",
       "      <td>-0.026747</td>\n",
       "      <td>-0.026442</td>\n",
       "      <td>-0.025483</td>\n",
       "      <td>-0.025918</td>\n",
       "      <td>-0.026367</td>\n",
       "      <td>-0.024943</td>\n",
       "      <td>-0.025522</td>\n",
       "      <td>-0.026465</td>\n",
       "      <td>-0.025790</td>\n",
       "      <td>-0.025832</td>\n",
       "      <td>-0.024992</td>\n",
       "      <td>-0.025320</td>\n",
       "      <td>-0.026684</td>\n",
       "      <td>-0.027442</td>\n",
       "      <td>-0.025554</td>\n",
       "      <td>-0.026009</td>\n",
       "      <td>-0.026354</td>\n",
       "      <td>-0.026007</td>\n",
       "      <td>-0.026768</td>\n",
       "    </tr>\n",
       "    <tr>\n",
       "      <th>50%</th>\n",
       "      <td>-0.000128</td>\n",
       "      <td>-0.000007</td>\n",
       "      <td>-0.001212</td>\n",
       "      <td>0.000775</td>\n",
       "      <td>-0.000140</td>\n",
       "      <td>-0.000589</td>\n",
       "      <td>0.000526</td>\n",
       "      <td>0.000287</td>\n",
       "      <td>0.000047</td>\n",
       "      <td>0.000857</td>\n",
       "      <td>0.000112</td>\n",
       "      <td>0.000371</td>\n",
       "      <td>0.000673</td>\n",
       "      <td>0.000183</td>\n",
       "      <td>-0.000738</td>\n",
       "      <td>0.000440</td>\n",
       "      <td>0.000152</td>\n",
       "      <td>-0.000248</td>\n",
       "      <td>0.000546</td>\n",
       "      <td>0.000087</td>\n",
       "    </tr>\n",
       "    <tr>\n",
       "      <th>75%</th>\n",
       "      <td>0.026641</td>\n",
       "      <td>0.024933</td>\n",
       "      <td>0.025268</td>\n",
       "      <td>0.026745</td>\n",
       "      <td>0.026752</td>\n",
       "      <td>0.026158</td>\n",
       "      <td>0.025788</td>\n",
       "      <td>0.026480</td>\n",
       "      <td>0.026179</td>\n",
       "      <td>0.025998</td>\n",
       "      <td>0.025882</td>\n",
       "      <td>0.025849</td>\n",
       "      <td>0.026660</td>\n",
       "      <td>0.025808</td>\n",
       "      <td>0.025429</td>\n",
       "      <td>0.026327</td>\n",
       "      <td>0.026704</td>\n",
       "      <td>0.025425</td>\n",
       "      <td>0.026082</td>\n",
       "      <td>0.025950</td>\n",
       "    </tr>\n",
       "    <tr>\n",
       "      <th>max</th>\n",
       "      <td>0.476754</td>\n",
       "      <td>0.549307</td>\n",
       "      <td>0.526116</td>\n",
       "      <td>0.474492</td>\n",
       "      <td>0.532539</td>\n",
       "      <td>0.469736</td>\n",
       "      <td>0.527389</td>\n",
       "      <td>0.433348</td>\n",
       "      <td>0.483579</td>\n",
       "      <td>0.488132</td>\n",
       "      <td>0.451047</td>\n",
       "      <td>0.515360</td>\n",
       "      <td>0.446577</td>\n",
       "      <td>0.431425</td>\n",
       "      <td>0.508445</td>\n",
       "      <td>0.528130</td>\n",
       "      <td>0.524107</td>\n",
       "      <td>0.660575</td>\n",
       "      <td>0.456372</td>\n",
       "      <td>0.515114</td>\n",
       "    </tr>\n",
       "  </tbody>\n",
       "</table>\n",
       "</div>"
      ],
      "text/plain": [
       "                0            1            2            3            4   \\\n",
       "count  8001.000000  8001.000000  8001.000000  8001.000000  8001.000000   \n",
       "mean      0.000435    -0.000694    -0.000646     0.000845     0.000808   \n",
       "std       0.072954     0.077251     0.074351     0.075451     0.073644   \n",
       "min      -0.488796    -0.509241    -0.531626    -0.471664    -0.455326   \n",
       "25%      -0.025689    -0.026747    -0.026442    -0.025483    -0.025918   \n",
       "50%      -0.000128    -0.000007    -0.001212     0.000775    -0.000140   \n",
       "75%       0.026641     0.024933     0.025268     0.026745     0.026752   \n",
       "max       0.476754     0.549307     0.526116     0.474492     0.532539   \n",
       "\n",
       "                5            6            7            8            9   \\\n",
       "count  8001.000000  8001.000000  8001.000000  8001.000000  8001.000000   \n",
       "mean     -0.000008    -0.000769     0.000154    -0.000742     0.000266   \n",
       "std       0.074683     0.073843     0.072619     0.074533     0.074380   \n",
       "min      -0.540411    -0.474876    -0.468885    -0.468722    -0.495980   \n",
       "25%      -0.026367    -0.024943    -0.025522    -0.026465    -0.025790   \n",
       "50%      -0.000589     0.000526     0.000287     0.000047     0.000857   \n",
       "75%       0.026158     0.025788     0.026480     0.026179     0.025998   \n",
       "max       0.469736     0.527389     0.433348     0.483579     0.488132   \n",
       "\n",
       "                10           11           12           13           14  \\\n",
       "count  8001.000000  8001.000000  8001.000000  8001.000000  8001.000000   \n",
       "mean     -0.000229     0.002053     0.001367    -0.000607    -0.000766   \n",
       "std       0.073534     0.072945     0.073824     0.074371     0.075302   \n",
       "min      -0.432880    -0.468145    -0.503963    -0.426376    -0.545822   \n",
       "25%      -0.025832    -0.024992    -0.025320    -0.026684    -0.027442   \n",
       "50%       0.000112     0.000371     0.000673     0.000183    -0.000738   \n",
       "75%       0.025882     0.025849     0.026660     0.025808     0.025429   \n",
       "max       0.451047     0.515360     0.446577     0.431425     0.508445   \n",
       "\n",
       "                15           16           17           18           19  \n",
       "count  8001.000000  8001.000000  8001.000000  8001.000000  8001.000000  \n",
       "mean      0.000529    -0.000513    -0.000313     0.000847    -0.000111  \n",
       "std       0.074497     0.075890     0.075857     0.074661     0.075095  \n",
       "min      -0.572267    -0.618280    -0.487848    -0.437645    -0.498861  \n",
       "25%      -0.025554    -0.026009    -0.026354    -0.026007    -0.026768  \n",
       "50%       0.000440     0.000152    -0.000248     0.000546     0.000087  \n",
       "75%       0.026327     0.026704     0.025425     0.026082     0.025950  \n",
       "max       0.528130     0.524107     0.660575     0.456372     0.515114  "
      ]
     },
     "execution_count": 37,
     "metadata": {},
     "output_type": "execute_result"
    }
   ],
   "source": [
    "movie_embedding_learnt = model.get_layer(name='Movie-Embedding').get_weights()[0]\n",
    "pd.DataFrame(movie_embedding_learnt).describe()"
   ]
  },
  {
   "cell_type": "code",
   "execution_count": 38,
   "id": "7c6b542c",
   "metadata": {},
   "outputs": [],
   "source": [
    "user_embedding_learnt = model.get_layer(name='User-Embedding').get_weights()[0]"
   ]
  },
  {
   "cell_type": "code",
   "execution_count": 39,
   "id": "e4a219e8",
   "metadata": {},
   "outputs": [],
   "source": [
    "def recommend(user_id, number_of_movies=5):\n",
    "    movies = user_embedding_learnt[user_id]@movie_embedding_learnt.T\n",
    "    mids = np.argpartition(movies, -number_of_movies)[-number_of_movies:]\n",
    "    return mids"
   ]
  },
  {
   "cell_type": "code",
   "execution_count": 40,
   "id": "f5d60c24",
   "metadata": {},
   "outputs": [
    {
     "data": {
      "text/plain": [
       "array([1731,  532,  497, 1097, 1517], dtype=int64)"
      ]
     },
     "execution_count": 40,
     "metadata": {},
     "output_type": "execute_result"
    }
   ],
   "source": [
    "recommend(user_id=1)"
   ]
  },
  {
   "cell_type": "code",
   "execution_count": null,
   "id": "9f00b648",
   "metadata": {},
   "outputs": [],
   "source": []
  },
  {
   "cell_type": "code",
   "execution_count": null,
   "id": "aa8e2442",
   "metadata": {},
   "outputs": [],
   "source": []
  }
 ],
 "metadata": {
  "kernelspec": {
   "display_name": "Python 3",
   "language": "python",
   "name": "python3"
  },
  "language_info": {
   "codemirror_mode": {
    "name": "ipython",
    "version": 3
   },
   "file_extension": ".py",
   "mimetype": "text/x-python",
   "name": "python",
   "nbconvert_exporter": "python",
   "pygments_lexer": "ipython3",
   "version": "3.6.13"
  }
 },
 "nbformat": 4,
 "nbformat_minor": 5
}
