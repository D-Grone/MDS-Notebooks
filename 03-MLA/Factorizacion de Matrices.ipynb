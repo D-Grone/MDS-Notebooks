{
 "cells": [
  {
   "cell_type": "markdown",
   "id": "72413d86",
   "metadata": {},
   "source": [
    "## Factorizacion de Matrices"
   ]
  },
  {
   "cell_type": "markdown",
   "id": "ab24f6a6",
   "metadata": {},
   "source": [
    "Primero creemos una matriz de diseño inicial con valores aleatorios entre 0.1 y 0.9. Tambien creemos la funcion del error cuadratico medio"
   ]
  },
  {
   "cell_type": "code",
   "execution_count": 1,
   "id": "2d326178",
   "metadata": {},
   "outputs": [],
   "source": [
    "import numpy as np\n",
    "\n",
    "class matrix_factorization():\n",
    "    \n",
    "    def __init__(self,data,features):\n",
    "        self.data = data\n",
    "        self.features = features\n",
    "        self.user_count = data.shape[0]\n",
    "        self.item_count = data.shape[1]\n",
    "        self.user_features = np.random.uniform(low=0.1,high = 0.9, size = (self.user_count,self.features))\n",
    "        self.item_features = np.random.uniform(low=0.1,high = 0.9, size = (self.features,self.item_count))\n",
    "        \n",
    "    def MSE(self):\n",
    "        \"\"\"\n",
    "        Mean Squared Error function comparing dot product of user-feature row and feature-item column to user-item cell\n",
    "        \"\"\"\n",
    "        \n",
    "        matrix_product = np.matmul(self.user_features,self.item_features)\n",
    "        return np.sum((self.data - matrix_product)**2)\n",
    "\n",
    "\n",
    "    def single_gradient(self,user_row,item_col,wrt_user_idx = None, wrt_item_idx = None):\n",
    "        \"\"\"\n",
    "        Calcula el gradiente de un unica celda usuario-item a una unica celda usuario-feature o item-feature\n",
    "        \"\"\"\n",
    "        \n",
    "        if wrt_user_idx !=None and wrt_item_idx !=None:\n",
    "            return \"Too many elements\"\n",
    "        elif wrt_user_idx ==None and wrt_item_idx ==None:\n",
    "            return \"insufficient elements\"\n",
    "        else:\n",
    "            u_row = self.user_features[user_row,:]\n",
    "            i_col = self.item_features[:,item_col]\n",
    "            ui_rating = float(self.data[user_row,item_col])\n",
    "            prediction = float(np.dot(u_row,i_col))\n",
    "            \n",
    "            if wrt_user_idx != None:\n",
    "                row_elem = float(i_col[wrt_user_idx])\n",
    "                gradient = 2*(ui_rating-prediction)*row_elem\n",
    "            else:\n",
    "                col_elem = float(u_row[wrt_item_idx])\n",
    "                gradient = 2*(ui_rating-prediction)*col_elem\n",
    "            return gradient\n",
    "        \n",
    "    def user_feature_gradient(self,user_row,wrt_user_idx):\n",
    "        \"\"\"\n",
    "        Averages the gradients of a single user-item row with respect to a single user-feature parameter\n",
    "        \"\"\"\n",
    "        \n",
    "        summation = 0\n",
    "        for col in range(0,self.item_count):\n",
    "            summation += self.single_gradient(user_row = user_row,item_col=col,wrt_user_idx=wrt_user_idx)\n",
    "        return summation/self.item_count\n",
    "    \n",
    "    def item_feature_gradient(self,item_col,wrt_item_idx):\n",
    "        \"\"\"\n",
    "        Averages the gradients of a single user-item column with respect to a single feature-item parameter\n",
    "        \"\"\"\n",
    "        \n",
    "        summation = 0\n",
    "        for row in range(0,self.user_count):\n",
    "            summation += self.single_gradient(user_row = row,item_col=item_col,wrt_item_idx=wrt_item_idx)\n",
    "        return summation/self.user_count\n",
    "    \n",
    "    def update_user_feature(self,learning_rate):\n",
    "        \"\"\"\n",
    "        Updates every user-feature parameter according to supplied learning rate\n",
    "        \"\"\"\n",
    "        for i in range(0, self.user_count):\n",
    "            for j in range(0,self.features):\n",
    "                self.user_features[i,j] += learning_rate*self.user_feature_gradient(user_row=i,wrt_user_idx=j)\n",
    "        \n",
    "    def update_item_feature(self,learning_rate):\n",
    "        \"\"\"\n",
    "        Updates every feature-item parameter according to supplied learning rate\n",
    "        \"\"\"\n",
    "        for i in range(0, self.features):\n",
    "            for j in range(0,self.item_count):\n",
    "                self.item_features[i,j] += learning_rate*self.item_feature_gradient(item_col=j,wrt_item_idx=i)\n",
    "\n",
    "    ### Metodo de entrenamiento\n",
    "    \n",
    "    def train_model(self,learning_rate=0.1,iterations = 1000):\n",
    "        \"\"\"\n",
    "        Trains model, outputting MSE cost/loss every 50 iterations, using supplied learning and iterations\n",
    "        \"\"\"\n",
    "        for i in range(iterations):\n",
    "            self.update_user_feature(learning_rate=learning_rate)\n",
    "            self.update_item_feature(learning_rate=learning_rate)\n",
    "            if i %50 ==0:\n",
    "                print(self.MSE())\n",
    "            "
   ]
  },
  {
   "cell_type": "markdown",
   "id": "16df16d4",
   "metadata": {},
   "source": [
    "Este es un programa de cero, veamos que pasa si creamos matrices"
   ]
  },
  {
   "cell_type": "code",
   "execution_count": 2,
   "id": "d691ef6d",
   "metadata": {},
   "outputs": [
    {
     "name": "stdout",
     "output_type": "stream",
     "text": [
      "[[5 3 1]\n",
      " [1 3 5]\n",
      " [3 5 1]]\n",
      "55.04221425524983\n",
      "3.538655308785251\n",
      "3.5386552492239667\n",
      "3.5386552492239662\n",
      "3.5386552492239667\n",
      "3.5386552492239667\n",
      "3.5386552492239667\n",
      "3.5386552492239667\n",
      "3.5386552492239667\n",
      "3.5386552492239667\n",
      "3.5386552492239667\n",
      "3.5386552492239667\n",
      "3.5386552492239667\n",
      "3.5386552492239667\n",
      "3.5386552492239667\n",
      "3.5386552492239667\n",
      "3.5386552492239667\n",
      "3.5386552492239667\n",
      "3.5386552492239667\n",
      "3.5386552492239667\n"
     ]
    }
   ],
   "source": [
    "d = np.array([[5,3,1],[1,3,5],[3,5,1]])\n",
    "print(d)\n",
    "d2 = matrix_factorization(d,2)\n",
    "d2.train_model(learning_rate = .1)"
   ]
  },
  {
   "cell_type": "code",
   "execution_count": 3,
   "id": "b37f79fc",
   "metadata": {},
   "outputs": [
    {
     "data": {
      "text/plain": [
       "array([[4.28078016, 3.86133275, 0.55412635],\n",
       "       [0.8201476 , 3.21539   , 4.88850218],\n",
       "       [3.84015545, 3.99383559, 1.52084655]])"
      ]
     },
     "execution_count": 3,
     "metadata": {},
     "output_type": "execute_result"
    }
   ],
   "source": [
    "np.dot(d2.user_features,d2.item_features)"
   ]
  },
  {
   "cell_type": "markdown",
   "id": "6f1fbe30",
   "metadata": {},
   "source": [
    "Si consideramos un feature (caracteristica adicional), entonces nos mejora la descomposicion"
   ]
  },
  {
   "cell_type": "code",
   "execution_count": 4,
   "id": "fb5f882d",
   "metadata": {},
   "outputs": [
    {
     "name": "stdout",
     "output_type": "stream",
     "text": [
      "[[5 3 1]\n",
      " [1 3 5]\n",
      " [3 5 1]]\n",
      "37.0539353012441\n",
      "5.24659669419074e-07\n",
      "6.058344527289397e-20\n",
      "2.033782021272921e-30\n",
      "2.033782021272921e-30\n",
      "2.033782021272921e-30\n",
      "2.033782021272921e-30\n",
      "2.033782021272921e-30\n",
      "2.033782021272921e-30\n",
      "2.033782021272921e-30\n",
      "2.033782021272921e-30\n",
      "2.033782021272921e-30\n",
      "2.033782021272921e-30\n",
      "2.033782021272921e-30\n",
      "2.033782021272921e-30\n",
      "2.033782021272921e-30\n",
      "2.033782021272921e-30\n",
      "2.033782021272921e-30\n",
      "2.033782021272921e-30\n",
      "2.033782021272921e-30\n"
     ]
    }
   ],
   "source": [
    "d = np.array([[5,3,1],[1,3,5],[3,5,1]])\n",
    "print(d)\n",
    "d2 = matrix_factorization(d,3)\n",
    "d2.train_model(learning_rate = .1)"
   ]
  },
  {
   "cell_type": "code",
   "execution_count": 5,
   "id": "843b5e35",
   "metadata": {},
   "outputs": [
    {
     "data": {
      "text/plain": [
       "array([[5., 3., 1.],\n",
       "       [1., 3., 5.],\n",
       "       [3., 5., 1.]])"
      ]
     },
     "execution_count": 5,
     "metadata": {},
     "output_type": "execute_result"
    }
   ],
   "source": [
    "np.dot(d2.user_features,d2.item_features)"
   ]
  },
  {
   "cell_type": "code",
   "execution_count": 6,
   "id": "3feeadc8",
   "metadata": {},
   "outputs": [],
   "source": [
    "### Ahora en Keras\n",
    "\n",
    "from __future__ import print_function, division\n",
    "from builtins import range, input\n",
    "import numpy as np\n",
    "import pandas as pd\n",
    "import matplotlib.pyplot as plt\n",
    "from sklearn.utils import shuffle\n",
    "\n",
    "import tensorflow\n",
    "\n",
    "from tensorflow import keras"
   ]
  },
  {
   "cell_type": "code",
   "execution_count": 7,
   "id": "9db69950",
   "metadata": {},
   "outputs": [],
   "source": [
    "from keras.models import Model\n",
    "from keras.layers import Input, Embedding, Dot, Add, Flatten\n",
    "from keras.regularizers import l2\n",
    "from tensorflow.keras.optimizers import Adam, SGD"
   ]
  },
  {
   "cell_type": "code",
   "execution_count": 8,
   "id": "1b7f83a3",
   "metadata": {},
   "outputs": [],
   "source": [
    "df = pd.read_csv('rating.csv')"
   ]
  },
  {
   "cell_type": "code",
   "execution_count": 9,
   "id": "1129a36b",
   "metadata": {},
   "outputs": [
    {
     "data": {
      "text/html": [
       "<div>\n",
       "<style scoped>\n",
       "    .dataframe tbody tr th:only-of-type {\n",
       "        vertical-align: middle;\n",
       "    }\n",
       "\n",
       "    .dataframe tbody tr th {\n",
       "        vertical-align: top;\n",
       "    }\n",
       "\n",
       "    .dataframe thead th {\n",
       "        text-align: right;\n",
       "    }\n",
       "</style>\n",
       "<table border=\"1\" class=\"dataframe\">\n",
       "  <thead>\n",
       "    <tr style=\"text-align: right;\">\n",
       "      <th></th>\n",
       "      <th>userId</th>\n",
       "      <th>movieId</th>\n",
       "      <th>rating</th>\n",
       "      <th>timestamp</th>\n",
       "    </tr>\n",
       "  </thead>\n",
       "  <tbody>\n",
       "    <tr>\n",
       "      <th>0</th>\n",
       "      <td>1</td>\n",
       "      <td>110</td>\n",
       "      <td>1.0</td>\n",
       "      <td>1425941529</td>\n",
       "    </tr>\n",
       "    <tr>\n",
       "      <th>1</th>\n",
       "      <td>1</td>\n",
       "      <td>147</td>\n",
       "      <td>4.5</td>\n",
       "      <td>1425942435</td>\n",
       "    </tr>\n",
       "    <tr>\n",
       "      <th>2</th>\n",
       "      <td>1</td>\n",
       "      <td>858</td>\n",
       "      <td>5.0</td>\n",
       "      <td>1425941523</td>\n",
       "    </tr>\n",
       "    <tr>\n",
       "      <th>3</th>\n",
       "      <td>1</td>\n",
       "      <td>1221</td>\n",
       "      <td>5.0</td>\n",
       "      <td>1425941546</td>\n",
       "    </tr>\n",
       "    <tr>\n",
       "      <th>4</th>\n",
       "      <td>1</td>\n",
       "      <td>1246</td>\n",
       "      <td>5.0</td>\n",
       "      <td>1425941556</td>\n",
       "    </tr>\n",
       "  </tbody>\n",
       "</table>\n",
       "</div>"
      ],
      "text/plain": [
       "   userId  movieId  rating   timestamp\n",
       "0       1      110     1.0  1425941529\n",
       "1       1      147     4.5  1425942435\n",
       "2       1      858     5.0  1425941523\n",
       "3       1     1221     5.0  1425941546\n",
       "4       1     1246     5.0  1425941556"
      ]
     },
     "execution_count": 9,
     "metadata": {},
     "output_type": "execute_result"
    }
   ],
   "source": [
    "df.head()"
   ]
  },
  {
   "cell_type": "code",
   "execution_count": 10,
   "id": "620e0d6d",
   "metadata": {},
   "outputs": [],
   "source": [
    "user = df['userId'].value_counts().index\n",
    "map = {k:i for i, k in enumerate(user)}\n",
    "df['userId'] = df['userId'].map(map)"
   ]
  },
  {
   "cell_type": "code",
   "execution_count": 11,
   "id": "a61eb84f",
   "metadata": {},
   "outputs": [],
   "source": [
    "mov = df['movieId'].value_counts().index\n",
    "map = {k:i for i, k in enumerate(mov)}\n",
    "df['movieId'] = df['movieId'].map(map)"
   ]
  },
  {
   "cell_type": "code",
   "execution_count": 12,
   "id": "081c0f46",
   "metadata": {},
   "outputs": [
    {
     "data": {
      "text/plain": [
       "(270895, 45114)"
      ]
     },
     "execution_count": 12,
     "metadata": {},
     "output_type": "execute_result"
    }
   ],
   "source": [
    "N = df['userId'].max()\n",
    "M = df['movieId'].max()\n",
    "\n",
    "df.drop('timestamp', axis = 1, inplace = True)\n",
    "\n",
    "N,M\n",
    "\n"
   ]
  },
  {
   "cell_type": "code",
   "execution_count": 13,
   "id": "f743c9b8",
   "metadata": {},
   "outputs": [],
   "source": [
    "n = 1000\n",
    "m = 800\n",
    "\n",
    "from collections import Counter"
   ]
  },
  {
   "cell_type": "code",
   "execution_count": 14,
   "id": "91c3646f",
   "metadata": {},
   "outputs": [],
   "source": [
    "ucount = Counter(df['userId'])\n",
    "mcount = Counter(df['movieId'])\n",
    "\n",
    "uid = [u for u, c in ucount.most_common(n)]\n",
    "mid = [u for u, c in mcount.most_common(m)]"
   ]
  },
  {
   "cell_type": "code",
   "execution_count": 15,
   "id": "1f5669e7",
   "metadata": {},
   "outputs": [
    {
     "data": {
      "text/html": [
       "<div>\n",
       "<style scoped>\n",
       "    .dataframe tbody tr th:only-of-type {\n",
       "        vertical-align: middle;\n",
       "    }\n",
       "\n",
       "    .dataframe tbody tr th {\n",
       "        vertical-align: top;\n",
       "    }\n",
       "\n",
       "    .dataframe thead th {\n",
       "        text-align: right;\n",
       "    }\n",
       "</style>\n",
       "<table border=\"1\" class=\"dataframe\">\n",
       "  <thead>\n",
       "    <tr style=\"text-align: right;\">\n",
       "      <th></th>\n",
       "      <th>userId</th>\n",
       "      <th>movieId</th>\n",
       "      <th>rating</th>\n",
       "    </tr>\n",
       "  </thead>\n",
       "  <tbody>\n",
       "    <tr>\n",
       "      <th>69308</th>\n",
       "      <td>122</td>\n",
       "      <td>9</td>\n",
       "      <td>4.5</td>\n",
       "    </tr>\n",
       "    <tr>\n",
       "      <th>69309</th>\n",
       "      <td>122</td>\n",
       "      <td>133</td>\n",
       "      <td>3.0</td>\n",
       "    </tr>\n",
       "    <tr>\n",
       "      <th>69310</th>\n",
       "      <td>122</td>\n",
       "      <td>344</td>\n",
       "      <td>3.5</td>\n",
       "    </tr>\n",
       "    <tr>\n",
       "      <th>69311</th>\n",
       "      <td>122</td>\n",
       "      <td>351</td>\n",
       "      <td>3.5</td>\n",
       "    </tr>\n",
       "    <tr>\n",
       "      <th>69312</th>\n",
       "      <td>122</td>\n",
       "      <td>118</td>\n",
       "      <td>3.5</td>\n",
       "    </tr>\n",
       "  </tbody>\n",
       "</table>\n",
       "</div>"
      ],
      "text/plain": [
       "       userId  movieId  rating\n",
       "69308     122        9     4.5\n",
       "69309     122      133     3.0\n",
       "69310     122      344     3.5\n",
       "69311     122      351     3.5\n",
       "69312     122      118     3.5"
      ]
     },
     "execution_count": 15,
     "metadata": {},
     "output_type": "execute_result"
    }
   ],
   "source": [
    "newdf = df[df['userId'].isin(uid) & df['movieId'].isin(mid)]\n",
    "newdf.head()"
   ]
  },
  {
   "cell_type": "code",
   "execution_count": 16,
   "id": "afcb8774",
   "metadata": {},
   "outputs": [
    {
     "name": "stderr",
     "output_type": "stream",
     "text": [
      "C:\\Users\\pablo\\AppData\\Local\\Temp\\ipykernel_19188\\1454887242.py:6: SettingWithCopyWarning: \n",
      "A value is trying to be set on a copy of a slice from a DataFrame.\n",
      "Try using .loc[row_indexer,col_indexer] = value instead\n",
      "\n",
      "See the caveats in the documentation: https://pandas.pydata.org/pandas-docs/stable/user_guide/indexing.html#returning-a-view-versus-a-copy\n",
      "  newdf['userId'] = newdf['userId'].map(map)\n"
     ]
    }
   ],
   "source": [
    "N = newdf['userId'].max()\n",
    "M = newdf['movieId'].max()\n",
    "\n",
    "user = newdf['userId'].value_counts().index\n",
    "map = {k:i for i, k in enumerate(user)}\n",
    "newdf['userId'] = newdf['userId'].map(map)\n"
   ]
  },
  {
   "cell_type": "code",
   "execution_count": 17,
   "id": "25d5ce33",
   "metadata": {},
   "outputs": [
    {
     "name": "stderr",
     "output_type": "stream",
     "text": [
      "C:\\Users\\pablo\\AppData\\Local\\Temp\\ipykernel_19188\\1011386342.py:3: SettingWithCopyWarning: \n",
      "A value is trying to be set on a copy of a slice from a DataFrame.\n",
      "Try using .loc[row_indexer,col_indexer] = value instead\n",
      "\n",
      "See the caveats in the documentation: https://pandas.pydata.org/pandas-docs/stable/user_guide/indexing.html#returning-a-view-versus-a-copy\n",
      "  newdf['movieId'] = newdf['movieId'].map(map)\n"
     ]
    }
   ],
   "source": [
    "mov = newdf['movieId'].value_counts().index\n",
    "map = {k:i for i, k in enumerate(mov)}\n",
    "newdf['movieId'] = newdf['movieId'].map(map)"
   ]
  },
  {
   "cell_type": "code",
   "execution_count": 18,
   "id": "038a1a3c",
   "metadata": {},
   "outputs": [
    {
     "data": {
      "text/plain": [
       "424663"
      ]
     },
     "execution_count": 18,
     "metadata": {},
     "output_type": "execute_result"
    }
   ],
   "source": [
    "newdf = shuffle(newdf)\n",
    "cutoff = int(0.8*len(newdf))\n",
    "cutoff"
   ]
  },
  {
   "cell_type": "code",
   "execution_count": 19,
   "id": "1caaa89b",
   "metadata": {},
   "outputs": [],
   "source": [
    "train = newdf.iloc[: cutoff]\n",
    "test = newdf.iloc[cutoff:]"
   ]
  },
  {
   "cell_type": "code",
   "execution_count": 20,
   "id": "23216e90",
   "metadata": {},
   "outputs": [],
   "source": [
    "K = 10\n",
    "mu = newdf['rating'].mean()\n",
    "epochs = 25\n",
    "reg = 0.\n",
    "N = 1000\n",
    "M = 800"
   ]
  },
  {
   "cell_type": "markdown",
   "id": "da1306af",
   "metadata": {},
   "source": [
    "# KERAS"
   ]
  },
  {
   "cell_type": "code",
   "execution_count": 21,
   "id": "1cd16167",
   "metadata": {},
   "outputs": [],
   "source": [
    "u = Input(shape=(1,))\n",
    "m = Input(shape=(1,))\n",
    "\n",
    "u_embed = Embedding(N, K, embeddings_regularizer = l2(reg))(u) # size (N,1,K)\n",
    "m_embed = Embedding(M, K, embeddings_regularizer = l2(reg))(m) # size (M,1,K)"
   ]
  },
  {
   "cell_type": "code",
   "execution_count": 22,
   "id": "6555e50b",
   "metadata": {},
   "outputs": [],
   "source": [
    "u_bias = Embedding(N, 1, embeddings_regularizer = l2(reg))(u)\n",
    "m_bias = Embedding(M, 1, embeddings_regularizer = l2(reg))(m)\n",
    "\n",
    "x = Dot(axes = 2)([u_embed, m_embed])\n",
    "\n",
    "x = Add()([x, u_bias, m_bias])\n",
    "x = Flatten()(x) # N,1\n",
    "\n",
    "model = Model(inputs = (u, m),\n",
    "             outputs = x)\n",
    "\n",
    "model.compile(loss = 'mse',\n",
    "             optimizer = Adam(learning_rate = 0.01),\n",
    "             metrics = ['mse'])"
   ]
  },
  {
   "cell_type": "code",
   "execution_count": 23,
   "id": "db9c2ccd",
   "metadata": {},
   "outputs": [
    {
     "name": "stdout",
     "output_type": "stream",
     "text": [
      "Epoch 1/25\n",
      "1659/1659 [==============================] - 4s 2ms/step - loss: 0.6564 - mse: 0.6564 - val_loss: 0.5931 - val_mse: 0.5931\n",
      "Epoch 2/25\n",
      "1659/1659 [==============================] - 3s 2ms/step - loss: 0.5735 - mse: 0.5735 - val_loss: 0.5768 - val_mse: 0.5768\n",
      "Epoch 3/25\n",
      "1659/1659 [==============================] - 3s 2ms/step - loss: 0.5631 - mse: 0.5631 - val_loss: 0.5732 - val_mse: 0.5732\n",
      "Epoch 4/25\n",
      "1659/1659 [==============================] - 3s 2ms/step - loss: 0.5597 - mse: 0.5597 - val_loss: 0.5720 - val_mse: 0.5720\n",
      "Epoch 5/25\n",
      "1659/1659 [==============================] - 3s 2ms/step - loss: 0.5592 - mse: 0.5592 - val_loss: 0.5668 - val_mse: 0.5668\n",
      "Epoch 6/25\n",
      "1659/1659 [==============================] - 3s 2ms/step - loss: 0.5586 - mse: 0.5586 - val_loss: 0.5685 - val_mse: 0.5685\n",
      "Epoch 7/25\n",
      "1659/1659 [==============================] - 3s 2ms/step - loss: 0.5579 - mse: 0.5579 - val_loss: 0.5678 - val_mse: 0.5678\n",
      "Epoch 8/25\n",
      "1659/1659 [==============================] - 3s 2ms/step - loss: 0.5574 - mse: 0.5574 - val_loss: 0.5678 - val_mse: 0.5678\n",
      "Epoch 9/25\n",
      "1659/1659 [==============================] - 3s 2ms/step - loss: 0.5578 - mse: 0.5578 - val_loss: 0.5697 - val_mse: 0.5697\n",
      "Epoch 10/25\n",
      "1659/1659 [==============================] - 3s 2ms/step - loss: 0.5576 - mse: 0.5576 - val_loss: 0.5703 - val_mse: 0.5703\n",
      "Epoch 11/25\n",
      "1659/1659 [==============================] - 3s 2ms/step - loss: 0.5574 - mse: 0.5574 - val_loss: 0.5688 - val_mse: 0.5688\n",
      "Epoch 12/25\n",
      "1659/1659 [==============================] - 3s 2ms/step - loss: 0.5576 - mse: 0.5576 - val_loss: 0.5672 - val_mse: 0.5672\n",
      "Epoch 13/25\n",
      "1659/1659 [==============================] - 3s 2ms/step - loss: 0.5574 - mse: 0.5574 - val_loss: 0.5697 - val_mse: 0.5697\n",
      "Epoch 14/25\n",
      "1659/1659 [==============================] - 3s 2ms/step - loss: 0.5577 - mse: 0.5577 - val_loss: 0.5677 - val_mse: 0.5677\n",
      "Epoch 15/25\n",
      "1659/1659 [==============================] - 3s 2ms/step - loss: 0.5575 - mse: 0.5575 - val_loss: 0.5673 - val_mse: 0.5673\n",
      "Epoch 16/25\n",
      "1659/1659 [==============================] - 3s 2ms/step - loss: 0.5575 - mse: 0.5575 - val_loss: 0.5684 - val_mse: 0.5684\n",
      "Epoch 17/25\n",
      "1659/1659 [==============================] - 3s 2ms/step - loss: 0.5574 - mse: 0.5574 - val_loss: 0.5686 - val_mse: 0.5686\n",
      "Epoch 18/25\n",
      "1659/1659 [==============================] - 3s 2ms/step - loss: 0.5574 - mse: 0.5574 - val_loss: 0.5681 - val_mse: 0.5681\n",
      "Epoch 19/25\n",
      "1659/1659 [==============================] - 3s 2ms/step - loss: 0.5575 - mse: 0.5575 - val_loss: 0.5678 - val_mse: 0.5678\n",
      "Epoch 20/25\n",
      "1659/1659 [==============================] - 3s 2ms/step - loss: 0.5572 - mse: 0.5572 - val_loss: 0.5680 - val_mse: 0.5680\n",
      "Epoch 21/25\n",
      "1659/1659 [==============================] - 3s 2ms/step - loss: 0.5573 - mse: 0.5573 - val_loss: 0.5683 - val_mse: 0.5683\n",
      "Epoch 22/25\n",
      "1659/1659 [==============================] - 3s 2ms/step - loss: 0.5570 - mse: 0.5570 - val_loss: 0.5696 - val_mse: 0.5696\n",
      "Epoch 23/25\n",
      "1659/1659 [==============================] - 3s 2ms/step - loss: 0.5576 - mse: 0.5576 - val_loss: 0.5687 - val_mse: 0.5687\n",
      "Epoch 24/25\n",
      "1659/1659 [==============================] - 3s 2ms/step - loss: 0.5568 - mse: 0.5568 - val_loss: 0.5686 - val_mse: 0.5686\n",
      "Epoch 25/25\n",
      "1659/1659 [==============================] - 3s 2ms/step - loss: 0.5570 - mse: 0.5570 - val_loss: 0.5688 - val_mse: 0.5688\n"
     ]
    }
   ],
   "source": [
    "r = model.fit(x = [train['userId'].values, train['movieId'].values],\n",
    "                 y = train['rating'].values - mu,\n",
    "                 epochs = epochs,\n",
    "                 batch_size = 256,\n",
    "                 validation_data = ([test['userId'].values, test['movieId'].values],\n",
    "                 test['rating'].values - mu)\n",
    "                 )"
   ]
  },
  {
   "cell_type": "code",
   "execution_count": 24,
   "id": "9d142219",
   "metadata": {},
   "outputs": [
    {
     "data": {
      "image/png": "[encoded data removed]",
      "text/plain": [
       "<Figure size 640x480 with 1 Axes>"
      ]
     },
     "metadata": {},
     "output_type": "display_data"
    },
    {
     "data": {
      "image/png": "[encoded data removed]",
      "text/plain": [
       "<Figure size 640x480 with 1 Axes>"
      ]
     },
     "metadata": {},
     "output_type": "display_data"
    }
   ],
   "source": [
    "# plot losses\n",
    "plt.plot(r.history['loss'], label=\"train loss\")\n",
    "plt.plot(r.history['val_loss'], label=\"test loss\")\n",
    "plt.legend()\n",
    "plt.show()\n",
    "\n",
    "# plot mse\n",
    "plt.plot(r.history['mse'], label=\"train mse\")\n",
    "plt.plot(r.history['val_mse'], label=\"test mse\")\n",
    "plt.legend()\n",
    "plt.show()\n",
    "\n"
   ]
  },
  {
   "cell_type": "markdown",
   "id": "94582c3b",
   "metadata": {},
   "source": [
    "## OTRO KERAS"
   ]
  },
  {
   "cell_type": "code",
   "execution_count": 25,
   "id": "53e94fb8",
   "metadata": {},
   "outputs": [],
   "source": [
    "from sklearn.datasets import dump_svmlight_file\n",
    "import numpy as np\n",
    "import pandas as pd\n",
    "import os\n",
    "import urllib\n",
    "import zipfile\n",
    "from sklearn.model_selection import train_test_split\n",
    "import shutil\n",
    "import matplotlib.pyplot as plt\n",
    "import warnings\n",
    "warnings.filterwarnings('ignore')\n",
    "%matplotlib inline"
   ]
  },
  {
   "cell_type": "code",
   "execution_count": 26,
   "id": "4d4bd843",
   "metadata": {},
   "outputs": [
    {
     "data": {
      "text/html": [
       "<div>\n",
       "<style scoped>\n",
       "    .dataframe tbody tr th:only-of-type {\n",
       "        vertical-align: middle;\n",
       "    }\n",
       "\n",
       "    .dataframe tbody tr th {\n",
       "        vertical-align: top;\n",
       "    }\n",
       "\n",
       "    .dataframe thead th {\n",
       "        text-align: right;\n",
       "    }\n",
       "</style>\n",
       "<table border=\"1\" class=\"dataframe\">\n",
       "  <thead>\n",
       "    <tr style=\"text-align: right;\">\n",
       "      <th></th>\n",
       "      <th>user_id</th>\n",
       "      <th>item_id</th>\n",
       "      <th>rating</th>\n",
       "      <th>timestamp</th>\n",
       "    </tr>\n",
       "  </thead>\n",
       "  <tbody>\n",
       "    <tr>\n",
       "      <th>0</th>\n",
       "      <td>196</td>\n",
       "      <td>242</td>\n",
       "      <td>3</td>\n",
       "      <td>881250949</td>\n",
       "    </tr>\n",
       "    <tr>\n",
       "      <th>1</th>\n",
       "      <td>186</td>\n",
       "      <td>302</td>\n",
       "      <td>3</td>\n",
       "      <td>891717742</td>\n",
       "    </tr>\n",
       "    <tr>\n",
       "      <th>2</th>\n",
       "      <td>22</td>\n",
       "      <td>377</td>\n",
       "      <td>1</td>\n",
       "      <td>878887116</td>\n",
       "    </tr>\n",
       "    <tr>\n",
       "      <th>3</th>\n",
       "      <td>244</td>\n",
       "      <td>51</td>\n",
       "      <td>2</td>\n",
       "      <td>880606923</td>\n",
       "    </tr>\n",
       "    <tr>\n",
       "      <th>4</th>\n",
       "      <td>166</td>\n",
       "      <td>346</td>\n",
       "      <td>1</td>\n",
       "      <td>886397596</td>\n",
       "    </tr>\n",
       "  </tbody>\n",
       "</table>\n",
       "</div>"
      ],
      "text/plain": [
       "   user_id  item_id  rating  timestamp\n",
       "0      196      242       3  881250949\n",
       "1      186      302       3  891717742\n",
       "2       22      377       1  878887116\n",
       "3      244       51       2  880606923\n",
       "4      166      346       1  886397596"
      ]
     },
     "execution_count": 26,
     "metadata": {},
     "output_type": "execute_result"
    }
   ],
   "source": [
    "dataset = pd.read_csv('ml-100k/u.data',sep='\\t',names=\"user_id,item_id,rating,timestamp\".split(\",\"))\n",
    "dataset.head()"
   ]
  },
  {
   "cell_type": "code",
   "execution_count": 27,
   "id": "f29266a9",
   "metadata": {},
   "outputs": [],
   "source": [
    "dataset.user_id = dataset.user_id.astype('category').cat.codes.values\n",
    "dataset.item_id = dataset.item_id.astype('category').cat.codes.values"
   ]
  },
  {
   "cell_type": "code",
   "execution_count": 28,
   "id": "2d859872",
   "metadata": {},
   "outputs": [],
   "source": [
    "train, test = train_test_split(dataset, test_size=0.2)"
   ]
  },
  {
   "cell_type": "code",
   "execution_count": 29,
   "id": "65794382",
   "metadata": {},
   "outputs": [],
   "source": [
    "#%tensorflow_version 2.x\n",
    "import tensorflow as tf\n",
    "from tensorflow import keras\n",
    "from keras.optimizers import Adam"
   ]
  },
  {
   "cell_type": "code",
   "execution_count": 30,
   "id": "4934c14a",
   "metadata": {},
   "outputs": [],
   "source": [
    "n_users, n_movies = len(dataset.user_id.unique()), len(dataset.item_id.unique())\n",
    "n_latent_factors = 20"
   ]
  },
  {
   "cell_type": "code",
   "execution_count": 31,
   "id": "880565ee",
   "metadata": {},
   "outputs": [],
   "source": [
    "movie_input = keras.layers.Input(shape=[1],name='Item')\n",
    "movie_embedding = keras.layers.Embedding(n_movies + 1, n_latent_factors, name='Movie-Embedding')(movie_input)\n",
    "movie_vec = keras.layers.Flatten(name='FlattenMovies')(movie_embedding)\n",
    "user_input = keras.layers.Input(shape=[1],name='User')\n",
    "user_vec = keras.layers.Flatten(name='FlattenUsers')(keras.layers.Embedding(n_users + 1, n_latent_factors,name='User-Embedding')(user_input))\n",
    "prod = keras.layers.dot([movie_vec, user_vec], axes=1,name='DotProduct')\n",
    "model = keras.Model([user_input, movie_input], prod)"
   ]
  },
  {
   "cell_type": "code",
   "execution_count": 32,
   "id": "378169a4",
   "metadata": {},
   "outputs": [],
   "source": [
    "model.compile(optimizer='adam', loss='mean_squared_error', metrics=['mae', 'mse'])"
   ]
  },
  {
   "cell_type": "code",
   "execution_count": 33,
   "id": "1f629777",
   "metadata": {},
   "outputs": [
    {
     "name": "stdout",
     "output_type": "stream",
     "text": [
      "Model: \"model_1\"\n",
      "__________________________________________________________________________________________________\n",
      " Layer (type)                   Output Shape         Param #     Connected to                     \n",
      "==================================================================================================\n",
      " Item (InputLayer)              [(None, 1)]          0           []                               \n",
      "                                                                                                  \n",
      " User (InputLayer)              [(None, 1)]          0           []                               \n",
      "                                                                                                  \n",
      " Movie-Embedding (Embedding)    (None, 1, 20)        33660       ['Item[0][0]']                   \n",
      "                                                                                                  \n",
      " User-Embedding (Embedding)     (None, 1, 20)        18880       ['User[0][0]']                   \n",
      "                                                                                                  \n",
      " FlattenMovies (Flatten)        (None, 20)           0           ['Movie-Embedding[0][0]']        \n",
      "                                                                                                  \n",
      " FlattenUsers (Flatten)         (None, 20)           0           ['User-Embedding[0][0]']         \n",
      "                                                                                                  \n",
      " DotProduct (Dot)               (None, 1)            0           ['FlattenMovies[0][0]',          \n",
      "                                                                  'FlattenUsers[0][0]']           \n",
      "                                                                                                  \n",
      "==================================================================================================\n",
      "Total params: 52,540\n",
      "Trainable params: 52,540\n",
      "Non-trainable params: 0\n",
      "__________________________________________________________________________________________________\n"
     ]
    }
   ],
   "source": [
    "model.summary()"
   ]
  },
  {
   "cell_type": "code",
   "execution_count": 34,
   "id": "766c69c0",
   "metadata": {},
   "outputs": [
    {
     "name": "stdout",
     "output_type": "stream",
     "text": [
      "You must install pydot (`pip install pydot`) and install graphviz (see instructions at https://graphviz.gitlab.io/download/) for plot_model to work.\n"
     ]
    }
   ],
   "source": [
    "tf.keras.utils.plot_model(model, to_file='model.png')"
   ]
  },
  {
   "cell_type": "code",
   "execution_count": 35,
   "id": "aef3a386",
   "metadata": {},
   "outputs": [],
   "source": [
    "history = model.fit([train.user_id, train.item_id], train.rating, epochs=100, verbose=0)"
   ]
  },
  {
   "cell_type": "code",
   "execution_count": 36,
   "id": "0b2a9e5e",
   "metadata": {},
   "outputs": [
    {
     "data": {
      "text/plain": [
       "Text(0, 0.5, 'Training Error')"
      ]
     },
     "execution_count": 36,
     "metadata": {},
     "output_type": "execute_result"
    },
    {
     "data": {
      "image/png": "[encoded data removed]",
      "text/plain": [
       "<Figure size 640x480 with 1 Axes>"
      ]
     },
     "metadata": {},
     "output_type": "display_data"
    }
   ],
   "source": [
    "pd.Series(history.history['loss']).plot(logy=True)\n",
    "plt.xlabel(\"Epoch\")\n",
    "plt.ylabel(\"Training Error\")"
   ]
  },
  {
   "cell_type": "code",
   "execution_count": 37,
   "id": "1bbe065b",
   "metadata": {},
   "outputs": [
    {
     "name": "stdout",
     "output_type": "stream",
     "text": [
      "20000/20000 [==============================] - 23s 1ms/step - loss: 1.6311 - mae: 0.9627 - mse: 1.6311\n"
     ]
    }
   ],
   "source": [
    "results = model.evaluate((test.user_id, test.item_id), test.rating, batch_size=1)"
   ]
  },
  {
   "cell_type": "code",
   "execution_count": 38,
   "id": "5c62da03",
   "metadata": {},
   "outputs": [
    {
     "data": {
      "text/html": [
       "<div>\n",
       "<style scoped>\n",
       "    .dataframe tbody tr th:only-of-type {\n",
       "        vertical-align: middle;\n",
       "    }\n",
       "\n",
       "    .dataframe tbody tr th {\n",
       "        vertical-align: top;\n",
       "    }\n",
       "\n",
       "    .dataframe thead th {\n",
       "        text-align: right;\n",
       "    }\n",
       "</style>\n",
       "<table border=\"1\" class=\"dataframe\">\n",
       "  <thead>\n",
       "    <tr style=\"text-align: right;\">\n",
       "      <th></th>\n",
       "      <th>0</th>\n",
       "      <th>1</th>\n",
       "      <th>2</th>\n",
       "      <th>3</th>\n",
       "      <th>4</th>\n",
       "      <th>5</th>\n",
       "      <th>6</th>\n",
       "      <th>7</th>\n",
       "      <th>8</th>\n",
       "      <th>9</th>\n",
       "      <th>10</th>\n",
       "      <th>11</th>\n",
       "      <th>12</th>\n",
       "      <th>13</th>\n",
       "      <th>14</th>\n",
       "      <th>15</th>\n",
       "      <th>16</th>\n",
       "      <th>17</th>\n",
       "      <th>18</th>\n",
       "      <th>19</th>\n",
       "    </tr>\n",
       "  </thead>\n",
       "  <tbody>\n",
       "    <tr>\n",
       "      <th>count</th>\n",
       "      <td>1683.000000</td>\n",
       "      <td>1683.000000</td>\n",
       "      <td>1683.000000</td>\n",
       "      <td>1683.000000</td>\n",
       "      <td>1683.000000</td>\n",
       "      <td>1683.000000</td>\n",
       "      <td>1683.000000</td>\n",
       "      <td>1683.000000</td>\n",
       "      <td>1683.000000</td>\n",
       "      <td>1683.000000</td>\n",
       "      <td>1683.000000</td>\n",
       "      <td>1683.000000</td>\n",
       "      <td>1683.000000</td>\n",
       "      <td>1683.000000</td>\n",
       "      <td>1683.000000</td>\n",
       "      <td>1683.000000</td>\n",
       "      <td>1683.000000</td>\n",
       "      <td>1683.000000</td>\n",
       "      <td>1683.000000</td>\n",
       "      <td>1683.000000</td>\n",
       "    </tr>\n",
       "    <tr>\n",
       "      <th>mean</th>\n",
       "      <td>0.405526</td>\n",
       "      <td>-0.245007</td>\n",
       "      <td>-0.339797</td>\n",
       "      <td>0.390812</td>\n",
       "      <td>0.362741</td>\n",
       "      <td>-0.366627</td>\n",
       "      <td>-0.355951</td>\n",
       "      <td>0.362214</td>\n",
       "      <td>-0.395364</td>\n",
       "      <td>-0.014995</td>\n",
       "      <td>-0.381773</td>\n",
       "      <td>0.351886</td>\n",
       "      <td>0.367441</td>\n",
       "      <td>0.361969</td>\n",
       "      <td>0.356099</td>\n",
       "      <td>-0.341872</td>\n",
       "      <td>0.370827</td>\n",
       "      <td>-0.346947</td>\n",
       "      <td>0.356693</td>\n",
       "      <td>0.321061</td>\n",
       "    </tr>\n",
       "    <tr>\n",
       "      <th>std</th>\n",
       "      <td>0.447728</td>\n",
       "      <td>0.551896</td>\n",
       "      <td>0.454688</td>\n",
       "      <td>0.438931</td>\n",
       "      <td>0.459722</td>\n",
       "      <td>0.460564</td>\n",
       "      <td>0.489104</td>\n",
       "      <td>0.439216</td>\n",
       "      <td>0.481854</td>\n",
       "      <td>0.590423</td>\n",
       "      <td>0.472524</td>\n",
       "      <td>0.467446</td>\n",
       "      <td>0.435138</td>\n",
       "      <td>0.455668</td>\n",
       "      <td>0.457277</td>\n",
       "      <td>0.497446</td>\n",
       "      <td>0.454495</td>\n",
       "      <td>0.474485</td>\n",
       "      <td>0.525763</td>\n",
       "      <td>0.495043</td>\n",
       "    </tr>\n",
       "    <tr>\n",
       "      <th>min</th>\n",
       "      <td>-1.561249</td>\n",
       "      <td>-2.637166</td>\n",
       "      <td>-2.259719</td>\n",
       "      <td>-1.448762</td>\n",
       "      <td>-1.791313</td>\n",
       "      <td>-2.279373</td>\n",
       "      <td>-2.217624</td>\n",
       "      <td>-1.650012</td>\n",
       "      <td>-2.445029</td>\n",
       "      <td>-2.120675</td>\n",
       "      <td>-2.234843</td>\n",
       "      <td>-1.959189</td>\n",
       "      <td>-1.592802</td>\n",
       "      <td>-1.517986</td>\n",
       "      <td>-1.388135</td>\n",
       "      <td>-2.463854</td>\n",
       "      <td>-1.760366</td>\n",
       "      <td>-2.128938</td>\n",
       "      <td>-2.302337</td>\n",
       "      <td>-1.554339</td>\n",
       "    </tr>\n",
       "    <tr>\n",
       "      <th>25%</th>\n",
       "      <td>0.127844</td>\n",
       "      <td>-0.571710</td>\n",
       "      <td>-0.590220</td>\n",
       "      <td>0.141861</td>\n",
       "      <td>0.102203</td>\n",
       "      <td>-0.622530</td>\n",
       "      <td>-0.625964</td>\n",
       "      <td>0.111176</td>\n",
       "      <td>-0.651085</td>\n",
       "      <td>-0.431277</td>\n",
       "      <td>-0.628676</td>\n",
       "      <td>0.103786</td>\n",
       "      <td>0.123575</td>\n",
       "      <td>0.119834</td>\n",
       "      <td>0.093291</td>\n",
       "      <td>-0.619196</td>\n",
       "      <td>0.139318</td>\n",
       "      <td>-0.616036</td>\n",
       "      <td>0.038827</td>\n",
       "      <td>0.030275</td>\n",
       "    </tr>\n",
       "    <tr>\n",
       "      <th>50%</th>\n",
       "      <td>0.395095</td>\n",
       "      <td>-0.251809</td>\n",
       "      <td>-0.341558</td>\n",
       "      <td>0.369621</td>\n",
       "      <td>0.354133</td>\n",
       "      <td>-0.369429</td>\n",
       "      <td>-0.364661</td>\n",
       "      <td>0.356184</td>\n",
       "      <td>-0.378415</td>\n",
       "      <td>-0.025529</td>\n",
       "      <td>-0.362971</td>\n",
       "      <td>0.346852</td>\n",
       "      <td>0.348574</td>\n",
       "      <td>0.366956</td>\n",
       "      <td>0.355812</td>\n",
       "      <td>-0.349467</td>\n",
       "      <td>0.361404</td>\n",
       "      <td>-0.348749</td>\n",
       "      <td>0.341043</td>\n",
       "      <td>0.317502</td>\n",
       "    </tr>\n",
       "    <tr>\n",
       "      <th>75%</th>\n",
       "      <td>0.656552</td>\n",
       "      <td>0.091125</td>\n",
       "      <td>-0.093239</td>\n",
       "      <td>0.626965</td>\n",
       "      <td>0.611066</td>\n",
       "      <td>-0.101558</td>\n",
       "      <td>-0.085793</td>\n",
       "      <td>0.605725</td>\n",
       "      <td>-0.125648</td>\n",
       "      <td>0.386055</td>\n",
       "      <td>-0.119685</td>\n",
       "      <td>0.593291</td>\n",
       "      <td>0.600410</td>\n",
       "      <td>0.594888</td>\n",
       "      <td>0.630089</td>\n",
       "      <td>-0.057607</td>\n",
       "      <td>0.606116</td>\n",
       "      <td>-0.093964</td>\n",
       "      <td>0.648126</td>\n",
       "      <td>0.599248</td>\n",
       "    </tr>\n",
       "    <tr>\n",
       "      <th>max</th>\n",
       "      <td>2.306833</td>\n",
       "      <td>2.643691</td>\n",
       "      <td>2.197722</td>\n",
       "      <td>2.250251</td>\n",
       "      <td>3.012209</td>\n",
       "      <td>1.486250</td>\n",
       "      <td>1.705094</td>\n",
       "      <td>2.191681</td>\n",
       "      <td>1.538589</td>\n",
       "      <td>2.356173</td>\n",
       "      <td>1.683959</td>\n",
       "      <td>2.114439</td>\n",
       "      <td>2.196519</td>\n",
       "      <td>2.176318</td>\n",
       "      <td>2.322788</td>\n",
       "      <td>1.754386</td>\n",
       "      <td>2.664126</td>\n",
       "      <td>2.118215</td>\n",
       "      <td>2.554424</td>\n",
       "      <td>2.200787</td>\n",
       "    </tr>\n",
       "  </tbody>\n",
       "</table>\n",
       "</div>"
      ],
      "text/plain": [
       "                0            1            2            3            4   \\\n",
       "count  1683.000000  1683.000000  1683.000000  1683.000000  1683.000000   \n",
       "mean      0.405526    -0.245007    -0.339797     0.390812     0.362741   \n",
       "std       0.447728     0.551896     0.454688     0.438931     0.459722   \n",
       "min      -1.561249    -2.637166    -2.259719    -1.448762    -1.791313   \n",
       "25%       0.127844    -0.571710    -0.590220     0.141861     0.102203   \n",
       "50%       0.395095    -0.251809    -0.341558     0.369621     0.354133   \n",
       "75%       0.656552     0.091125    -0.093239     0.626965     0.611066   \n",
       "max       2.306833     2.643691     2.197722     2.250251     3.012209   \n",
       "\n",
       "                5            6            7            8            9   \\\n",
       "count  1683.000000  1683.000000  1683.000000  1683.000000  1683.000000   \n",
       "mean     -0.366627    -0.355951     0.362214    -0.395364    -0.014995   \n",
       "std       0.460564     0.489104     0.439216     0.481854     0.590423   \n",
       "min      -2.279373    -2.217624    -1.650012    -2.445029    -2.120675   \n",
       "25%      -0.622530    -0.625964     0.111176    -0.651085    -0.431277   \n",
       "50%      -0.369429    -0.364661     0.356184    -0.378415    -0.025529   \n",
       "75%      -0.101558    -0.085793     0.605725    -0.125648     0.386055   \n",
       "max       1.486250     1.705094     2.191681     1.538589     2.356173   \n",
       "\n",
       "                10           11           12           13           14  \\\n",
       "count  1683.000000  1683.000000  1683.000000  1683.000000  1683.000000   \n",
       "mean     -0.381773     0.351886     0.367441     0.361969     0.356099   \n",
       "std       0.472524     0.467446     0.435138     0.455668     0.457277   \n",
       "min      -2.234843    -1.959189    -1.592802    -1.517986    -1.388135   \n",
       "25%      -0.628676     0.103786     0.123575     0.119834     0.093291   \n",
       "50%      -0.362971     0.346852     0.348574     0.366956     0.355812   \n",
       "75%      -0.119685     0.593291     0.600410     0.594888     0.630089   \n",
       "max       1.683959     2.114439     2.196519     2.176318     2.322788   \n",
       "\n",
       "                15           16           17           18           19  \n",
       "count  1683.000000  1683.000000  1683.000000  1683.000000  1683.000000  \n",
       "mean     -0.341872     0.370827    -0.346947     0.356693     0.321061  \n",
       "std       0.497446     0.454495     0.474485     0.525763     0.495043  \n",
       "min      -2.463854    -1.760366    -2.128938    -2.302337    -1.554339  \n",
       "25%      -0.619196     0.139318    -0.616036     0.038827     0.030275  \n",
       "50%      -0.349467     0.361404    -0.348749     0.341043     0.317502  \n",
       "75%      -0.057607     0.606116    -0.093964     0.648126     0.599248  \n",
       "max       1.754386     2.664126     2.118215     2.554424     2.200787  "
      ]
     },
     "execution_count": 38,
     "metadata": {},
     "output_type": "execute_result"
    }
   ],
   "source": [
    "movie_embedding_learnt = model.get_layer(name='Movie-Embedding').get_weights()[0]\n",
    "pd.DataFrame(movie_embedding_learnt).describe()"
   ]
  },
  {
   "cell_type": "code",
   "execution_count": 39,
   "id": "28cd9b67",
   "metadata": {},
   "outputs": [],
   "source": [
    "user_embedding_learnt = model.get_layer(name='User-Embedding').get_weights()[0]"
   ]
  },
  {
   "cell_type": "code",
   "execution_count": 40,
   "id": "f265f97f",
   "metadata": {},
   "outputs": [],
   "source": [
    "def recommend(user_id, number_of_movies=5):\n",
    "    movies = user_embedding_learnt[user_id]@movie_embedding_learnt.T\n",
    "    mids = np.argpartition(movies, -number_of_movies)[-number_of_movies:]\n",
    "    return mids"
   ]
  },
  {
   "cell_type": "code",
   "execution_count": 41,
   "id": "a0bbcb65",
   "metadata": {},
   "outputs": [
    {
     "data": {
      "text/plain": [
       "array([ 600, 1511,  702,  129, 1130], dtype=int64)"
      ]
     },
     "execution_count": 41,
     "metadata": {},
     "output_type": "execute_result"
    }
   ],
   "source": [
    "recommend(user_id=1)"
   ]
  },
  {
   "cell_type": "code",
   "execution_count": null,
   "id": "2673bb1a",
   "metadata": {},
   "outputs": [],
   "source": []
  }
 ],
 "metadata": {
  "kernelspec": {
   "display_name": "Python 3 (ipykernel)",
   "language": "python",
   "name": "python3"
  },
  "language_info": {
   "codemirror_mode": {
    "name": "ipython",
    "version": 3
   },
   "file_extension": ".py",
   "mimetype": "text/x-python",
   "name": "python",
   "nbconvert_exporter": "python",
   "pygments_lexer": "ipython3",
   "version": "3.9.13"
  }
 },
 "nbformat": 4,
 "nbformat_minor": 5
}
