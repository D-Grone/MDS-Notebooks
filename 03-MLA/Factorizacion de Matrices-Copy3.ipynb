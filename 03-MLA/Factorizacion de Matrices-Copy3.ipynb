{
 "cells": [
  {
   "cell_type": "markdown",
   "id": "72413d86",
   "metadata": {},
   "source": [
    "## Factorizacion de Matrices"
   ]
  },
  {
   "cell_type": "code",
   "execution_count": 1,
   "id": "3feeadc8",
   "metadata": {},
   "outputs": [],
   "source": [
    "### Ahora en Keras\n",
    "\n",
    "from __future__ import print_function, division\n",
    "from builtins import range, input\n",
    "import numpy as np\n",
    "import pandas as pd\n",
    "import matplotlib.pyplot as plt\n",
    "from sklearn.utils import shuffle\n",
    "\n",
    "import tensorflow\n",
    "\n",
    "from tensorflow import keras"
   ]
  },
  {
   "cell_type": "code",
   "execution_count": 2,
   "id": "9db69950",
   "metadata": {},
   "outputs": [],
   "source": [
    "from keras.models import Model\n",
    "from keras.layers import Input, Embedding, Dot, Add, Flatten\n",
    "from keras.regularizers import l2\n",
    "from tensorflow.keras.optimizers import Adam, SGD"
   ]
  },
  {
   "cell_type": "code",
   "execution_count": 3,
   "id": "1b7f83a3",
   "metadata": {},
   "outputs": [],
   "source": [
    "df = pd.read_csv('rating.csv')"
   ]
  },
  {
   "cell_type": "code",
   "execution_count": 4,
   "id": "1129a36b",
   "metadata": {},
   "outputs": [
    {
     "data": {
      "text/html": [
       "<div>\n",
       "<style scoped>\n",
       "    .dataframe tbody tr th:only-of-type {\n",
       "        vertical-align: middle;\n",
       "    }\n",
       "\n",
       "    .dataframe tbody tr th {\n",
       "        vertical-align: top;\n",
       "    }\n",
       "\n",
       "    .dataframe thead th {\n",
       "        text-align: right;\n",
       "    }\n",
       "</style>\n",
       "<table border=\"1\" class=\"dataframe\">\n",
       "  <thead>\n",
       "    <tr style=\"text-align: right;\">\n",
       "      <th></th>\n",
       "      <th>userId</th>\n",
       "      <th>movieId</th>\n",
       "      <th>rating</th>\n",
       "      <th>timestamp</th>\n",
       "    </tr>\n",
       "  </thead>\n",
       "  <tbody>\n",
       "    <tr>\n",
       "      <th>0</th>\n",
       "      <td>1</td>\n",
       "      <td>110</td>\n",
       "      <td>1.0</td>\n",
       "      <td>1425941529</td>\n",
       "    </tr>\n",
       "    <tr>\n",
       "      <th>1</th>\n",
       "      <td>1</td>\n",
       "      <td>147</td>\n",
       "      <td>4.5</td>\n",
       "      <td>1425942435</td>\n",
       "    </tr>\n",
       "    <tr>\n",
       "      <th>2</th>\n",
       "      <td>1</td>\n",
       "      <td>858</td>\n",
       "      <td>5.0</td>\n",
       "      <td>1425941523</td>\n",
       "    </tr>\n",
       "    <tr>\n",
       "      <th>3</th>\n",
       "      <td>1</td>\n",
       "      <td>1221</td>\n",
       "      <td>5.0</td>\n",
       "      <td>1425941546</td>\n",
       "    </tr>\n",
       "    <tr>\n",
       "      <th>4</th>\n",
       "      <td>1</td>\n",
       "      <td>1246</td>\n",
       "      <td>5.0</td>\n",
       "      <td>1425941556</td>\n",
       "    </tr>\n",
       "  </tbody>\n",
       "</table>\n",
       "</div>"
      ],
      "text/plain": [
       "   userId  movieId  rating   timestamp\n",
       "0       1      110     1.0  1425941529\n",
       "1       1      147     4.5  1425942435\n",
       "2       1      858     5.0  1425941523\n",
       "3       1     1221     5.0  1425941546\n",
       "4       1     1246     5.0  1425941556"
      ]
     },
     "execution_count": 4,
     "metadata": {},
     "output_type": "execute_result"
    }
   ],
   "source": [
    "df.head()"
   ]
  },
  {
   "cell_type": "code",
   "execution_count": 5,
   "id": "620e0d6d",
   "metadata": {},
   "outputs": [],
   "source": [
    "user = df['userId'].value_counts().index\n",
    "map = {k:i for i, k in enumerate(user)}\n",
    "df['userId'] = df['userId'].map(map)"
   ]
  },
  {
   "cell_type": "code",
   "execution_count": 6,
   "id": "a61eb84f",
   "metadata": {},
   "outputs": [],
   "source": [
    "mov = df['movieId'].value_counts().index\n",
    "map = {k:i for i, k in enumerate(mov)}\n",
    "df['movieId'] = df['movieId'].map(map)"
   ]
  },
  {
   "cell_type": "code",
   "execution_count": 7,
   "id": "081c0f46",
   "metadata": {},
   "outputs": [
    {
     "data": {
      "text/plain": [
       "(270895, 45114)"
      ]
     },
     "execution_count": 7,
     "metadata": {},
     "output_type": "execute_result"
    }
   ],
   "source": [
    "N = df['userId'].max()\n",
    "M = df['movieId'].max()\n",
    "\n",
    "df.drop('timestamp', axis = 1, inplace = True)\n",
    "\n",
    "N,M\n",
    "\n"
   ]
  },
  {
   "cell_type": "code",
   "execution_count": 8,
   "id": "f743c9b8",
   "metadata": {},
   "outputs": [],
   "source": [
    "n = 1\n",
    "m = 1\n",
    "\n",
    "from collections import Counter"
   ]
  },
  {
   "cell_type": "code",
   "execution_count": 9,
   "id": "0b6dc083",
   "metadata": {},
   "outputs": [
    {
     "data": {
      "text/plain": [
       "322"
      ]
     },
     "execution_count": 9,
     "metadata": {},
     "output_type": "execute_result"
    }
   ],
   "source": [
    "ucount = Counter(df['userId'])\n",
    "dft = pd.DataFrame(ucount.most_common(n))\n",
    "dft_list = list(dft[1])\n",
    "ucount[dft_list[0]]"
   ]
  },
  {
   "cell_type": "code",
   "execution_count": 10,
   "id": "d331d420",
   "metadata": {},
   "outputs": [
    {
     "data": {
      "text/plain": [
       "0"
      ]
     },
     "execution_count": 10,
     "metadata": {},
     "output_type": "execute_result"
    }
   ],
   "source": [
    "mcount = Counter(df['movieId'])\n",
    "dft_2 = pd.DataFrame(mcount.most_common(m))\n",
    "dft_2_list = list(dft_2[1])\n",
    "mcount[dft_2_list[0]]"
   ]
  },
  {
   "cell_type": "code",
   "execution_count": 15,
   "id": "a3622a5c",
   "metadata": {},
   "outputs": [
    {
     "data": {
      "text/plain": [
       "0"
      ]
     },
     "execution_count": 15,
     "metadata": {},
     "output_type": "execute_result"
    }
   ],
   "source": [
    "mcount[91921]"
   ]
  },
  {
   "cell_type": "code",
   "execution_count": 12,
   "id": "a9780eac",
   "metadata": {},
   "outputs": [
    {
     "data": {
      "text/plain": [
       "[(0, 91921), (1, 91082), (2, 87901), (3, 84078), (4, 77960)]"
      ]
     },
     "execution_count": 12,
     "metadata": {},
     "output_type": "execute_result"
    }
   ],
   "source": [
    "mcount.most_common(5)"
   ]
  },
  {
   "cell_type": "code",
   "execution_count": 13,
   "id": "91c3646f",
   "metadata": {},
   "outputs": [],
   "source": [
    "ucount = Counter(df['userId'])\n",
    "mcount = Counter(df['movieId'])\n",
    "\n",
    "uid = [u for u, c in ucount.most_common(n)]\n",
    "mid = [u for u, c in mcount.most_common(m)]"
   ]
  },
  {
   "cell_type": "code",
   "execution_count": 14,
   "id": "3a4ac27e",
   "metadata": {},
   "outputs": [
    {
     "ename": "NameError",
     "evalue": "name 'asd' is not defined",
     "output_type": "error",
     "traceback": [
      "\u001b[1;31m---------------------------------------------------------------------------\u001b[0m",
      "\u001b[1;31mNameError\u001b[0m                                 Traceback (most recent call last)",
      "\u001b[1;32m~\\AppData\\Local\\Temp\\ipykernel_8468\\3279299088.py\u001b[0m in \u001b[0;36m<module>\u001b[1;34m\u001b[0m\n\u001b[1;32m----> 1\u001b[1;33m \u001b[0masd\u001b[0m\u001b[1;33m\u001b[0m\u001b[1;33m\u001b[0m\u001b[0m\n\u001b[0m",
      "\u001b[1;31mNameError\u001b[0m: name 'asd' is not defined"
     ]
    }
   ],
   "source": [
    "asd"
   ]
  },
  {
   "cell_type": "code",
   "execution_count": null,
   "id": "2df35586",
   "metadata": {},
   "outputs": [],
   "source": [
    "uid"
   ]
  },
  {
   "cell_type": "code",
   "execution_count": null,
   "id": "b126260e",
   "metadata": {},
   "outputs": [],
   "source": [
    "mcount"
   ]
  },
  {
   "cell_type": "code",
   "execution_count": null,
   "id": "1f5669e7",
   "metadata": {},
   "outputs": [],
   "source": [
    "newdf = df[df['userId'].isin(uid) & df['movieId'].isin(mid)]\n",
    "newdf.head()"
   ]
  },
  {
   "cell_type": "code",
   "execution_count": null,
   "id": "c0996362",
   "metadata": {},
   "outputs": [],
   "source": [
    "newdf"
   ]
  },
  {
   "cell_type": "code",
   "execution_count": null,
   "id": "afcb8774",
   "metadata": {},
   "outputs": [],
   "source": [
    "N = newdf['userId'].max()\n",
    "M = newdf['movieId'].max()\n",
    "\n",
    "user = newdf['userId'].value_counts().index\n",
    "map = {k:i for i, k in enumerate(user)}\n",
    "newdf['userId'] = newdf['userId'].map(map)\n"
   ]
  },
  {
   "cell_type": "code",
   "execution_count": null,
   "id": "25d5ce33",
   "metadata": {},
   "outputs": [],
   "source": [
    "mov = newdf['movieId'].value_counts().index\n",
    "map = {k:i for i, k in enumerate(mov)}\n",
    "newdf['movieId'] = newdf['movieId'].map(map)"
   ]
  },
  {
   "cell_type": "code",
   "execution_count": null,
   "id": "038a1a3c",
   "metadata": {},
   "outputs": [],
   "source": [
    "newdf = shuffle(newdf)\n",
    "cutoff = int(0.8*len(newdf))\n",
    "cutoff"
   ]
  },
  {
   "cell_type": "code",
   "execution_count": null,
   "id": "1caaa89b",
   "metadata": {},
   "outputs": [],
   "source": [
    "train = newdf.iloc[: cutoff]\n",
    "test = newdf.iloc[cutoff:]"
   ]
  },
  {
   "cell_type": "code",
   "execution_count": null,
   "id": "23216e90",
   "metadata": {},
   "outputs": [],
   "source": [
    "K = 10\n",
    "mu = newdf['rating'].mean()\n",
    "epochs = 25\n",
    "reg = 0.\n",
    "N = 1000\n",
    "M = 800"
   ]
  },
  {
   "cell_type": "markdown",
   "id": "da1306af",
   "metadata": {},
   "source": [
    "# KERAS"
   ]
  },
  {
   "cell_type": "code",
   "execution_count": null,
   "id": "1cd16167",
   "metadata": {},
   "outputs": [],
   "source": [
    "u = Input(shape=(1,))\n",
    "m = Input(shape=(1,))\n",
    "\n",
    "u_embed = Embedding(N, K, embeddings_regularizer = l2(reg))(u) # size (N,1,K)\n",
    "m_embed = Embedding(M, K, embeddings_regularizer = l2(reg))(m) # size (M,1,K)"
   ]
  },
  {
   "cell_type": "code",
   "execution_count": null,
   "id": "6555e50b",
   "metadata": {},
   "outputs": [],
   "source": [
    "u_bias = Embedding(N, 1, embeddings_regularizer = l2(reg))(u)\n",
    "m_bias = Embedding(M, 1, embeddings_regularizer = l2(reg))(m)\n",
    "\n",
    "x = Dot(axes = 2)([u_embed, m_embed])\n",
    "\n",
    "x = Add()([x, u_bias, m_bias])\n",
    "x = Flatten()(x) # N,1\n",
    "\n",
    "model = Model(inputs = (u, m),\n",
    "             outputs = x)\n",
    "\n",
    "model.compile(loss = 'mse',\n",
    "             optimizer = Adam(learning_rate = 0.01),\n",
    "             metrics = ['mse'])"
   ]
  },
  {
   "cell_type": "code",
   "execution_count": null,
   "id": "db9c2ccd",
   "metadata": {},
   "outputs": [],
   "source": [
    "r = model.fit(x = [train['userId'].values, train['movieId'].values],\n",
    "                 y = train['rating'].values - mu,\n",
    "                 epochs = epochs,\n",
    "                 batch_size = 256,\n",
    "                 validation_data = ([test['userId'].values, test['movieId'].values],\n",
    "                 test['rating'].values - mu)\n",
    "                 )"
   ]
  },
  {
   "cell_type": "code",
   "execution_count": null,
   "id": "9d142219",
   "metadata": {},
   "outputs": [],
   "source": [
    "# plot losses\n",
    "plt.plot(r.history['loss'], label=\"train loss\")\n",
    "plt.plot(r.history['val_loss'], label=\"test loss\")\n",
    "plt.legend()\n",
    "plt.show()\n",
    "\n",
    "# plot mse\n",
    "plt.plot(r.history['mse'], label=\"train mse\")\n",
    "plt.plot(r.history['val_mse'], label=\"test mse\")\n",
    "plt.legend()\n",
    "plt.show()\n",
    "\n"
   ]
  }
 ],
 "metadata": {
  "kernelspec": {
   "display_name": "Python 3 (ipykernel)",
   "language": "python",
   "name": "python3"
  },
  "language_info": {
   "codemirror_mode": {
    "name": "ipython",
    "version": 3
   },
   "file_extension": ".py",
   "mimetype": "text/x-python",
   "name": "python",
   "nbconvert_exporter": "python",
   "pygments_lexer": "ipython3",
   "version": "3.9.13"
  }
 },
 "nbformat": 4,
 "nbformat_minor": 5
}
