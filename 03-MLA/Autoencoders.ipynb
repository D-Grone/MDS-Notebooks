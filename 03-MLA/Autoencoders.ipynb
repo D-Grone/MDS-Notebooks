{
 "cells": [
  {
   "cell_type": "markdown",
   "id": "85d8692f",
   "metadata": {},
   "source": [
    "## Autoencoders\n",
    "### Deteccion de anomalias usando autoencoders"
   ]
  },
  {
   "cell_type": "markdown",
   "id": "2c2745ae",
   "metadata": {},
   "source": [
    "Anomaly Detection using AutoEncoders\n",
    "\n",
    "AutoEncoders are widely used in anomaly detection. _The reconstruction errors are used as the anomaly scores_. Let us look at how we can use AutoEncoder for anomaly detection using TensorFlow.\n",
    "\n",
    "Import the required libraries and load the data. Here we are using the ECG data which consists of labels 0 and 1. Label 0 denotes the observation as an anomaly and label 1 denotes the observation as normal."
   ]
  },
  {
   "cell_type": "code",
   "execution_count": 1,
   "id": "d9ccd348",
   "metadata": {},
   "outputs": [
    {
     "name": "stderr",
     "output_type": "stream",
     "text": [
      "2022-11-25 22:09:17.514446: I tensorflow/core/platform/cpu_feature_guard.cc:193] This TensorFlow binary is optimized with oneAPI Deep Neural Network Library (oneDNN) to use the following CPU instructions in performance-critical operations:  AVX2 FMA\n",
      "To enable them in other operations, rebuild TensorFlow with the appropriate compiler flags.\n",
      "2022-11-25 22:09:17.912398: E tensorflow/stream_executor/cuda/cuda_blas.cc:2981] Unable to register cuBLAS factory: Attempting to register factory for plugin cuBLAS when one has already been registered\n",
      "2022-11-25 22:09:18.665612: W tensorflow/stream_executor/platform/default/dso_loader.cc:64] Could not load dynamic library 'libnvinfer.so.7'; dlerror: libnvinfer.so.7: cannot open shared object file: No such file or directory\n",
      "2022-11-25 22:09:18.665667: W tensorflow/stream_executor/platform/default/dso_loader.cc:64] Could not load dynamic library 'libnvinfer_plugin.so.7'; dlerror: libnvinfer_plugin.so.7: cannot open shared object file: No such file or directory\n",
      "2022-11-25 22:09:18.665672: W tensorflow/compiler/tf2tensorrt/utils/py_utils.cc:38] TF-TRT Warning: Cannot dlopen some TensorRT libraries. If you would like to use Nvidia GPU with TensorRT, please make sure the missing libraries mentioned above are installed properly.\n"
     ]
    },
    {
     "data": {
      "text/html": [
       "<div>\n",
       "<style scoped>\n",
       "    .dataframe tbody tr th:only-of-type {\n",
       "        vertical-align: middle;\n",
       "    }\n",
       "\n",
       "    .dataframe tbody tr th {\n",
       "        vertical-align: top;\n",
       "    }\n",
       "\n",
       "    .dataframe thead th {\n",
       "        text-align: right;\n",
       "    }\n",
       "</style>\n",
       "<table border=\"1\" class=\"dataframe\">\n",
       "  <thead>\n",
       "    <tr style=\"text-align: right;\">\n",
       "      <th></th>\n",
       "      <th>0</th>\n",
       "      <th>1</th>\n",
       "      <th>2</th>\n",
       "      <th>3</th>\n",
       "      <th>4</th>\n",
       "      <th>5</th>\n",
       "      <th>6</th>\n",
       "      <th>7</th>\n",
       "      <th>8</th>\n",
       "      <th>9</th>\n",
       "      <th>...</th>\n",
       "      <th>131</th>\n",
       "      <th>132</th>\n",
       "      <th>133</th>\n",
       "      <th>134</th>\n",
       "      <th>135</th>\n",
       "      <th>136</th>\n",
       "      <th>137</th>\n",
       "      <th>138</th>\n",
       "      <th>139</th>\n",
       "      <th>140</th>\n",
       "    </tr>\n",
       "  </thead>\n",
       "  <tbody>\n",
       "    <tr>\n",
       "      <th>0</th>\n",
       "      <td>-0.112522</td>\n",
       "      <td>-2.827204</td>\n",
       "      <td>-3.773897</td>\n",
       "      <td>-4.349751</td>\n",
       "      <td>-4.376041</td>\n",
       "      <td>-3.474986</td>\n",
       "      <td>-2.181408</td>\n",
       "      <td>-1.818286</td>\n",
       "      <td>-1.250522</td>\n",
       "      <td>-0.477492</td>\n",
       "      <td>...</td>\n",
       "      <td>0.792168</td>\n",
       "      <td>0.933541</td>\n",
       "      <td>0.796958</td>\n",
       "      <td>0.578621</td>\n",
       "      <td>0.257740</td>\n",
       "      <td>0.228077</td>\n",
       "      <td>0.123431</td>\n",
       "      <td>0.925286</td>\n",
       "      <td>0.193137</td>\n",
       "      <td>1.0</td>\n",
       "    </tr>\n",
       "    <tr>\n",
       "      <th>1</th>\n",
       "      <td>-1.100878</td>\n",
       "      <td>-3.996840</td>\n",
       "      <td>-4.285843</td>\n",
       "      <td>-4.506579</td>\n",
       "      <td>-4.022377</td>\n",
       "      <td>-3.234368</td>\n",
       "      <td>-1.566126</td>\n",
       "      <td>-0.992258</td>\n",
       "      <td>-0.754680</td>\n",
       "      <td>0.042321</td>\n",
       "      <td>...</td>\n",
       "      <td>0.538356</td>\n",
       "      <td>0.656881</td>\n",
       "      <td>0.787490</td>\n",
       "      <td>0.724046</td>\n",
       "      <td>0.555784</td>\n",
       "      <td>0.476333</td>\n",
       "      <td>0.773820</td>\n",
       "      <td>1.119621</td>\n",
       "      <td>-1.436250</td>\n",
       "      <td>1.0</td>\n",
       "    </tr>\n",
       "    <tr>\n",
       "      <th>2</th>\n",
       "      <td>-0.567088</td>\n",
       "      <td>-2.593450</td>\n",
       "      <td>-3.874230</td>\n",
       "      <td>-4.584095</td>\n",
       "      <td>-4.187449</td>\n",
       "      <td>-3.151462</td>\n",
       "      <td>-1.742940</td>\n",
       "      <td>-1.490659</td>\n",
       "      <td>-1.183580</td>\n",
       "      <td>-0.394229</td>\n",
       "      <td>...</td>\n",
       "      <td>0.886073</td>\n",
       "      <td>0.531452</td>\n",
       "      <td>0.311377</td>\n",
       "      <td>-0.021919</td>\n",
       "      <td>-0.713683</td>\n",
       "      <td>-0.532197</td>\n",
       "      <td>0.321097</td>\n",
       "      <td>0.904227</td>\n",
       "      <td>-0.421797</td>\n",
       "      <td>1.0</td>\n",
       "    </tr>\n",
       "    <tr>\n",
       "      <th>3</th>\n",
       "      <td>0.490473</td>\n",
       "      <td>-1.914407</td>\n",
       "      <td>-3.616364</td>\n",
       "      <td>-4.318823</td>\n",
       "      <td>-4.268016</td>\n",
       "      <td>-3.881110</td>\n",
       "      <td>-2.993280</td>\n",
       "      <td>-1.671131</td>\n",
       "      <td>-1.333884</td>\n",
       "      <td>-0.965629</td>\n",
       "      <td>...</td>\n",
       "      <td>0.350816</td>\n",
       "      <td>0.499111</td>\n",
       "      <td>0.600345</td>\n",
       "      <td>0.842069</td>\n",
       "      <td>0.952074</td>\n",
       "      <td>0.990133</td>\n",
       "      <td>1.086798</td>\n",
       "      <td>1.403011</td>\n",
       "      <td>-0.383564</td>\n",
       "      <td>1.0</td>\n",
       "    </tr>\n",
       "    <tr>\n",
       "      <th>4</th>\n",
       "      <td>0.800232</td>\n",
       "      <td>-0.874252</td>\n",
       "      <td>-2.384761</td>\n",
       "      <td>-3.973292</td>\n",
       "      <td>-4.338224</td>\n",
       "      <td>-3.802422</td>\n",
       "      <td>-2.534510</td>\n",
       "      <td>-1.783423</td>\n",
       "      <td>-1.594450</td>\n",
       "      <td>-0.753199</td>\n",
       "      <td>...</td>\n",
       "      <td>1.148884</td>\n",
       "      <td>0.958434</td>\n",
       "      <td>1.059025</td>\n",
       "      <td>1.371682</td>\n",
       "      <td>1.277392</td>\n",
       "      <td>0.960304</td>\n",
       "      <td>0.971020</td>\n",
       "      <td>1.614392</td>\n",
       "      <td>1.421456</td>\n",
       "      <td>1.0</td>\n",
       "    </tr>\n",
       "  </tbody>\n",
       "</table>\n",
       "<p>5 rows × 141 columns</p>\n",
       "</div>"
      ],
      "text/plain": [
       "        0         1         2         3         4         5         6    \\\n",
       "0 -0.112522 -2.827204 -3.773897 -4.349751 -4.376041 -3.474986 -2.181408   \n",
       "1 -1.100878 -3.996840 -4.285843 -4.506579 -4.022377 -3.234368 -1.566126   \n",
       "2 -0.567088 -2.593450 -3.874230 -4.584095 -4.187449 -3.151462 -1.742940   \n",
       "3  0.490473 -1.914407 -3.616364 -4.318823 -4.268016 -3.881110 -2.993280   \n",
       "4  0.800232 -0.874252 -2.384761 -3.973292 -4.338224 -3.802422 -2.534510   \n",
       "\n",
       "        7         8         9    ...       131       132       133       134  \\\n",
       "0 -1.818286 -1.250522 -0.477492  ...  0.792168  0.933541  0.796958  0.578621   \n",
       "1 -0.992258 -0.754680  0.042321  ...  0.538356  0.656881  0.787490  0.724046   \n",
       "2 -1.490659 -1.183580 -0.394229  ...  0.886073  0.531452  0.311377 -0.021919   \n",
       "3 -1.671131 -1.333884 -0.965629  ...  0.350816  0.499111  0.600345  0.842069   \n",
       "4 -1.783423 -1.594450 -0.753199  ...  1.148884  0.958434  1.059025  1.371682   \n",
       "\n",
       "        135       136       137       138       139  140  \n",
       "0  0.257740  0.228077  0.123431  0.925286  0.193137  1.0  \n",
       "1  0.555784  0.476333  0.773820  1.119621 -1.436250  1.0  \n",
       "2 -0.713683 -0.532197  0.321097  0.904227 -0.421797  1.0  \n",
       "3  0.952074  0.990133  1.086798  1.403011 -0.383564  1.0  \n",
       "4  1.277392  0.960304  0.971020  1.614392  1.421456  1.0  \n",
       "\n",
       "[5 rows x 141 columns]"
      ]
     },
     "execution_count": 1,
     "metadata": {},
     "output_type": "execute_result"
    }
   ],
   "source": [
    "import numpy as np\n",
    "import pandas as pd\n",
    "import tensorflow as tf\n",
    "import matplotlib.pyplot as plt\n",
    "from sklearn.metrics import accuracy_score\n",
    "from tensorflow.keras.optimizers import Adam\n",
    "from sklearn.preprocessing import MinMaxScaler\n",
    "from tensorflow.keras import Model, Sequential\n",
    "from tensorflow.keras.layers import Dense, Dropout\n",
    "from sklearn.model_selection import train_test_split\n",
    "from tensorflow.keras.losses import MeanSquaredLogarithmicError\n",
    "\n",
    "# Download the dataset\n",
    "PATH_TO_DATA = 'http://storage.googleapis.com/download.tensorflow.org/data/ecg.csv'\n",
    "data = pd.read_csv(PATH_TO_DATA, header=None)\n",
    "data.head()\n",
    "\n",
    "# data shape\n",
    "# (4998, 141)"
   ]
  },
  {
   "cell_type": "code",
   "execution_count": 2,
   "id": "5dbd341c",
   "metadata": {},
   "outputs": [
    {
     "data": {
      "text/plain": [
       "(4998, 141)"
      ]
     },
     "execution_count": 2,
     "metadata": {},
     "output_type": "execute_result"
    }
   ],
   "source": [
    "data.shape"
   ]
  },
  {
   "cell_type": "code",
   "execution_count": 5,
   "id": "43e9af54",
   "metadata": {},
   "outputs": [
    {
     "data": {
      "text/plain": [
       "1.0    2919\n",
       "0.0    2079\n",
       "Name: 140, dtype: int64"
      ]
     },
     "execution_count": 5,
     "metadata": {},
     "output_type": "execute_result"
    }
   ],
   "source": [
    "data.loc[:,140].value_counts()"
   ]
  },
  {
   "cell_type": "code",
   "execution_count": 6,
   "id": "656efe18",
   "metadata": {},
   "outputs": [],
   "source": [
    "# last column is the target\n",
    "# 0 = anomaly, 1 = normal\n",
    "TARGET = 140\n",
    "\n",
    "features = data.drop(TARGET, axis=1)\n",
    "target = data[TARGET]\n",
    "\n",
    "x_train, x_test, y_train, y_test = train_test_split(\n",
    "    features, target, test_size=0.2, stratify=target\n",
    ")\n"
   ]
  },
  {
   "cell_type": "markdown",
   "id": "b9949ee3",
   "metadata": {},
   "source": [
    "Como lo que nos interesa es detectar cuales son los novedosos, usamos solo los datos normales para entrenar (queremos provocar la diferencia)"
   ]
  },
  {
   "cell_type": "code",
   "execution_count": 7,
   "id": "66d9673a",
   "metadata": {},
   "outputs": [],
   "source": [
    "train_index = y_train[y_train == 1].index\n",
    "train_data = x_train.loc[train_index]"
   ]
  },
  {
   "cell_type": "code",
   "execution_count": 8,
   "id": "b5450ff2",
   "metadata": {},
   "outputs": [],
   "source": [
    "# min max scale the input data\n",
    "min_max_scaler = MinMaxScaler(feature_range=(0, 1))\n",
    "x_train_scaled = min_max_scaler.fit_transform(train_data.copy())\n",
    "x_test_scaled = min_max_scaler.transform(x_test.copy())"
   ]
  },
  {
   "cell_type": "markdown",
   "id": "229100ca",
   "metadata": {},
   "source": [
    "The last column in the data is the target ( column name is 140). Split the data for training and testing and scale the data using MinMaxScaler."
   ]
  },
  {
   "cell_type": "code",
   "execution_count": 9,
   "id": "87da6d11",
   "metadata": {},
   "outputs": [
    {
     "name": "stdout",
     "output_type": "stream",
     "text": [
      "Epoch 1/20\n"
     ]
    },
    {
     "name": "stderr",
     "output_type": "stream",
     "text": [
      "2022-11-25 22:15:25.785694: I tensorflow/stream_executor/cuda/cuda_gpu_executor.cc:980] successful NUMA node read from SysFS had negative value (-1), but there must be at least one NUMA node, so returning NUMA node zero\n",
      "2022-11-25 22:15:25.826140: I tensorflow/stream_executor/cuda/cuda_gpu_executor.cc:980] successful NUMA node read from SysFS had negative value (-1), but there must be at least one NUMA node, so returning NUMA node zero\n",
      "2022-11-25 22:15:25.826458: I tensorflow/stream_executor/cuda/cuda_gpu_executor.cc:980] successful NUMA node read from SysFS had negative value (-1), but there must be at least one NUMA node, so returning NUMA node zero\n",
      "2022-11-25 22:15:25.827151: I tensorflow/core/platform/cpu_feature_guard.cc:193] This TensorFlow binary is optimized with oneAPI Deep Neural Network Library (oneDNN) to use the following CPU instructions in performance-critical operations:  AVX2 FMA\n",
      "To enable them in other operations, rebuild TensorFlow with the appropriate compiler flags.\n",
      "2022-11-25 22:15:25.828075: I tensorflow/stream_executor/cuda/cuda_gpu_executor.cc:980] successful NUMA node read from SysFS had negative value (-1), but there must be at least one NUMA node, so returning NUMA node zero\n",
      "2022-11-25 22:15:25.828372: I tensorflow/stream_executor/cuda/cuda_gpu_executor.cc:980] successful NUMA node read from SysFS had negative value (-1), but there must be at least one NUMA node, so returning NUMA node zero\n",
      "2022-11-25 22:15:25.828533: I tensorflow/stream_executor/cuda/cuda_gpu_executor.cc:980] successful NUMA node read from SysFS had negative value (-1), but there must be at least one NUMA node, so returning NUMA node zero\n",
      "2022-11-25 22:15:26.512672: I tensorflow/stream_executor/cuda/cuda_gpu_executor.cc:980] successful NUMA node read from SysFS had negative value (-1), but there must be at least one NUMA node, so returning NUMA node zero\n",
      "2022-11-25 22:15:26.513182: I tensorflow/stream_executor/cuda/cuda_gpu_executor.cc:980] successful NUMA node read from SysFS had negative value (-1), but there must be at least one NUMA node, so returning NUMA node zero\n",
      "2022-11-25 22:15:26.513466: I tensorflow/stream_executor/cuda/cuda_gpu_executor.cc:980] successful NUMA node read from SysFS had negative value (-1), but there must be at least one NUMA node, so returning NUMA node zero\n",
      "2022-11-25 22:15:26.513594: I tensorflow/core/common_runtime/gpu/gpu_device.cc:1616] Created device /job:localhost/replica:0/task:0/device:GPU:0 with 6049 MB memory:  -> device: 0, name: NVIDIA GeForce RTX 2070, pci bus id: 0000:06:00.0, compute capability: 7.5\n"
     ]
    },
    {
     "name": "stdout",
     "output_type": "stream",
     "text": [
      "5/5 [==============================] - 1s 43ms/step - loss: 0.0113 - mse: 0.0256 - val_loss: 0.0138 - val_mse: 0.0320\n",
      "Epoch 2/20\n",
      "5/5 [==============================] - 0s 7ms/step - loss: 0.0111 - mse: 0.0250 - val_loss: 0.0137 - val_mse: 0.0316\n",
      "Epoch 3/20\n",
      "5/5 [==============================] - 0s 6ms/step - loss: 0.0107 - mse: 0.0242 - val_loss: 0.0134 - val_mse: 0.0310\n",
      "Epoch 4/20\n",
      "5/5 [==============================] - 0s 6ms/step - loss: 0.0101 - mse: 0.0228 - val_loss: 0.0130 - val_mse: 0.0301\n",
      "Epoch 5/20\n",
      "5/5 [==============================] - 0s 7ms/step - loss: 0.0091 - mse: 0.0205 - val_loss: 0.0127 - val_mse: 0.0293\n",
      "Epoch 6/20\n",
      "5/5 [==============================] - 0s 6ms/step - loss: 0.0081 - mse: 0.0181 - val_loss: 0.0127 - val_mse: 0.0293\n",
      "Epoch 7/20\n",
      "5/5 [==============================] - 0s 7ms/step - loss: 0.0073 - mse: 0.0162 - val_loss: 0.0122 - val_mse: 0.0281\n",
      "Epoch 8/20\n",
      "5/5 [==============================] - 0s 7ms/step - loss: 0.0065 - mse: 0.0145 - val_loss: 0.0117 - val_mse: 0.0271\n",
      "Epoch 9/20\n",
      "5/5 [==============================] - 0s 7ms/step - loss: 0.0060 - mse: 0.0133 - val_loss: 0.0116 - val_mse: 0.0267\n",
      "Epoch 10/20\n",
      "5/5 [==============================] - 0s 6ms/step - loss: 0.0056 - mse: 0.0125 - val_loss: 0.0114 - val_mse: 0.0262\n",
      "Epoch 11/20\n",
      "5/5 [==============================] - 0s 6ms/step - loss: 0.0054 - mse: 0.0120 - val_loss: 0.0111 - val_mse: 0.0256\n",
      "Epoch 12/20\n",
      "5/5 [==============================] - 0s 6ms/step - loss: 0.0052 - mse: 0.0115 - val_loss: 0.0110 - val_mse: 0.0254\n",
      "Epoch 13/20\n",
      "5/5 [==============================] - 0s 6ms/step - loss: 0.0050 - mse: 0.0112 - val_loss: 0.0107 - val_mse: 0.0246\n",
      "Epoch 14/20\n",
      "5/5 [==============================] - 0s 7ms/step - loss: 0.0049 - mse: 0.0109 - val_loss: 0.0105 - val_mse: 0.0241\n",
      "Epoch 15/20\n",
      "5/5 [==============================] - 0s 6ms/step - loss: 0.0048 - mse: 0.0107 - val_loss: 0.0103 - val_mse: 0.0237\n",
      "Epoch 16/20\n",
      "5/5 [==============================] - 0s 6ms/step - loss: 0.0047 - mse: 0.0106 - val_loss: 0.0102 - val_mse: 0.0235\n",
      "Epoch 17/20\n",
      "5/5 [==============================] - 0s 7ms/step - loss: 0.0047 - mse: 0.0105 - val_loss: 0.0101 - val_mse: 0.0234\n",
      "Epoch 18/20\n",
      "5/5 [==============================] - 0s 6ms/step - loss: 0.0046 - mse: 0.0104 - val_loss: 0.0101 - val_mse: 0.0233\n",
      "Epoch 19/20\n",
      "5/5 [==============================] - 0s 7ms/step - loss: 0.0046 - mse: 0.0104 - val_loss: 0.0100 - val_mse: 0.0232\n",
      "Epoch 20/20\n",
      "5/5 [==============================] - 0s 7ms/step - loss: 0.0046 - mse: 0.0102 - val_loss: 0.0100 - val_mse: 0.0231\n"
     ]
    }
   ],
   "source": [
    "# create a model by subclassing Model class in tensorflow\n",
    "class AutoEncoder(Model):\n",
    "  \"\"\"\n",
    "  Parameters\n",
    "  ----------\n",
    "  output_units: int\n",
    "    Number of output units\n",
    "  \n",
    "  code_size: int\n",
    "    Number of units in bottle neck\n",
    "  \"\"\"\n",
    "\n",
    "  def __init__(self, output_units, code_size=8):\n",
    "    super().__init__()\n",
    "    self.encoder = Sequential([\n",
    "      Dense(64, activation='relu'),\n",
    "      Dropout(0.1),\n",
    "      Dense(32, activation='relu'),\n",
    "      Dropout(0.1),\n",
    "      Dense(16, activation='relu'),\n",
    "      Dropout(0.1),\n",
    "      Dense(code_size, activation='relu')\n",
    "    ])\n",
    "    self.decoder = Sequential([\n",
    "      Dense(16, activation='relu'),\n",
    "      Dropout(0.1),\n",
    "      Dense(32, activation='relu'),\n",
    "      Dropout(0.1),\n",
    "      Dense(64, activation='relu'),\n",
    "      Dropout(0.1),\n",
    "      Dense(output_units, activation='sigmoid')\n",
    "    ])\n",
    "  \n",
    "  def call(self, inputs):\n",
    "    encoded = self.encoder(inputs)\n",
    "    decoded = self.decoder(encoded)\n",
    "    return decoded\n",
    "  \n",
    "model = AutoEncoder(output_units=x_train_scaled.shape[1])\n",
    "# configurations of model\n",
    "model.compile(loss='msle', metrics=['mse'], optimizer='adam')\n",
    "\n",
    "history = model.fit(\n",
    "    x_train_scaled,\n",
    "    x_train_scaled,\n",
    "    epochs=20,\n",
    "    batch_size=512,\n",
    "    validation_data=(x_test_scaled, x_test_scaled)\n",
    ")"
   ]
  },
  {
   "cell_type": "markdown",
   "id": "cb7ac964",
   "metadata": {},
   "source": [
    "The encoder of the model consists of four layers that encode the data into lower dimensions. The decoder of the model consists of four layers that reconstruct the input data.\n",
    "\n",
    "The model is compiled with Mean Squared Logarithmic loss and Adam optimizer. The model is then trained with 20 epochs with a batch size of 512."
   ]
  },
  {
   "cell_type": "code",
   "execution_count": 10,
   "id": "ad491bfb",
   "metadata": {},
   "outputs": [
    {
     "data": {
      "image/png": "[encoded data removed]",
      "text/plain": [
       "<Figure size 432x288 with 1 Axes>"
      ]
     },
     "metadata": {
      "needs_background": "light"
     },
     "output_type": "display_data"
    }
   ],
   "source": [
    "plt.plot(history.history['loss'])\n",
    "plt.plot(history.history['val_loss'])\n",
    "plt.xlabel('Epochs')\n",
    "plt.ylabel('MSLE Loss')\n",
    "plt.legend(['loss', 'val_loss'])\n",
    "plt.show()"
   ]
  },
  {
   "cell_type": "code",
   "execution_count": 12,
   "id": "7aae394c",
   "metadata": {},
   "outputs": [
    {
     "name": "stdout",
     "output_type": "stream",
     "text": [
      "73/73 [==============================] - 0s 722us/step\n",
      "Threshold: 0.010008066543071445\n",
      "32/32 [==============================] - 0s 708us/step\n"
     ]
    },
    {
     "data": {
      "text/plain": [
       "0.938"
      ]
     },
     "execution_count": 12,
     "metadata": {},
     "output_type": "execute_result"
    }
   ],
   "source": [
    "def find_threshold(model, x_train_scaled):\n",
    "    reconstructions = model.predict(x_train_scaled)\n",
    "    # provides losses of individual instances\n",
    "    reconstruction_errors = tf.keras.losses.msle(reconstructions, x_train_scaled)\n",
    "    # threshold for anomaly scores\n",
    "    threshold = np.mean(reconstruction_errors.numpy()) \\\n",
    "    + np.std(reconstruction_errors.numpy())\n",
    "    return threshold\n",
    "\n",
    "def get_predictions(model, x_test_scaled, threshold):\n",
    "    predictions = model.predict(x_test_scaled)\n",
    "    # provides losses of individual instances\n",
    "    errors = tf.keras.losses.msle(predictions, x_test_scaled)\n",
    "    # 0 = anomaly, 1 = normal\n",
    "    anomaly_mask = pd.Series(errors) > threshold\n",
    "    preds = anomaly_mask.map(lambda x: 0.0 if x == True else 1.0)\n",
    "    return preds\n",
    "\n",
    "threshold = find_threshold(model, x_train_scaled)\n",
    "print(f\"Threshold: {threshold}\")\n",
    "# Threshold: 0.01001314025746261\n",
    "predictions = get_predictions(model, x_test_scaled, threshold)\n",
    "accuracy_score(predictions, y_test)\n",
    "\n",
    "# 0.944"
   ]
  },
  {
   "cell_type": "markdown",
   "id": "aafa19e9",
   "metadata": {},
   "source": [
    "The reconstruction errors are considered to be anomaly scores. The threshold is then calculated by summing the mean and standard deviation of the reconstruction errors. The reconstruction errors above this threshold are considered to be anomalies. We can further fine-tune the model by leveraging Keras-tuner.\n",
    "\n",
    " \n",
    "\n",
    "The autoencoder model does not have to symmetric encoder and decoder but the code size has to be smaller than that of the features in the data"
   ]
  },
  {
   "cell_type": "markdown",
   "id": "e42ca654",
   "metadata": {},
   "source": [
    "## Dimensionality Reduction using AutoEncoders"
   ]
  },
  {
   "cell_type": "code",
   "execution_count": 41,
   "id": "30f90fe3",
   "metadata": {},
   "outputs": [],
   "source": [
    "import math\n",
    "import pandas as pd\n",
    "import tensorflow as tf\n",
    "#import kerastuner.tuners as kt\n",
    "import matplotlib.pyplot as plt\n",
    "from tensorflow.keras import Model\n",
    "from tensorflow.keras import Sequential\n",
    "from sklearn.preprocessing import StandardScaler\n",
    "from tensorflow.keras.layers import Dense, Dropout\n",
    "from sklearn.model_selection import train_test_split\n",
    "from tensorflow.keras.losses import MeanSquaredLogarithmicError"
   ]
  },
  {
   "cell_type": "code",
   "execution_count": 42,
   "id": "32f9e866",
   "metadata": {},
   "outputs": [],
   "source": [
    "from sklearn.datasets import fetch_california_housing\n",
    "california = fetch_california_housing()"
   ]
  },
  {
   "cell_type": "code",
   "execution_count": 43,
   "id": "0a0392c9",
   "metadata": {},
   "outputs": [],
   "source": [
    "data = pd.DataFrame(california.data,columns = california.feature_names)\n",
    "target = pd.DataFrame(california.target,columns = california.target_names)\n",
    "\n",
    "x_train,x_test, y_train,_y_test = train_test_split(data,target,test_size=0.3,random_state=123)"
   ]
  },
  {
   "cell_type": "markdown",
   "id": "ca4871a3",
   "metadata": {},
   "source": [
    "Scale the dataset using MinMaxScaler."
   ]
  },
  {
   "cell_type": "code",
   "execution_count": 44,
   "id": "7c6f6e35",
   "metadata": {},
   "outputs": [],
   "source": [
    "\n",
    "def scale_datasets(x_train, x_test):\n",
    "    \"\"\"\n",
    "    Standard Scale test and train data\n",
    "    \"\"\"\n",
    "    standard_scaler = MinMaxScaler()\n",
    "    x_train_scaled = pd.DataFrame(\n",
    "        standard_scaler.fit_transform(x_train),\n",
    "        columns=x_train.columns\n",
    "    )\n",
    "    x_test_scaled = pd.DataFrame(\n",
    "        standard_scaler.transform(x_test),\n",
    "        columns = x_test.columns\n",
    "    )\n",
    "    return x_train_scaled, x_test_scaled\n",
    "  \n",
    "x_train_scaled, x_test_scaled = scale_datasets(x_train, x_test)"
   ]
  },
  {
   "cell_type": "markdown",
   "id": "744de78c",
   "metadata": {},
   "source": [
    "Train the autoencoder with the training data."
   ]
  },
  {
   "cell_type": "code",
   "execution_count": 55,
   "id": "033f1bc2",
   "metadata": {},
   "outputs": [
    {
     "name": "stdout",
     "output_type": "stream",
     "text": [
      "Epoch 1/15\n",
      "452/452 [==============================] - 2s 2ms/step - loss: 0.0953 - mae: 0.0953 - val_loss: 0.0454 - val_mae: 0.0454\n",
      "Epoch 2/15\n",
      "452/452 [==============================] - 1s 2ms/step - loss: 0.0286 - mae: 0.0286 - val_loss: 0.0190 - val_mae: 0.0190\n",
      "Epoch 3/15\n",
      "452/452 [==============================] - 1s 2ms/step - loss: 0.0184 - mae: 0.0184 - val_loss: 0.0174 - val_mae: 0.0174\n",
      "Epoch 4/15\n",
      "452/452 [==============================] - 1s 2ms/step - loss: 0.0167 - mae: 0.0167 - val_loss: 0.0160 - val_mae: 0.0160\n",
      "Epoch 5/15\n",
      "452/452 [==============================] - 1s 2ms/step - loss: 0.0154 - mae: 0.0154 - val_loss: 0.0150 - val_mae: 0.0150\n",
      "Epoch 6/15\n",
      "452/452 [==============================] - 1s 2ms/step - loss: 0.0146 - mae: 0.0146 - val_loss: 0.0144 - val_mae: 0.0144\n",
      "Epoch 7/15\n",
      "452/452 [==============================] - 1s 2ms/step - loss: 0.0140 - mae: 0.0140 - val_loss: 0.0137 - val_mae: 0.0137\n",
      "Epoch 8/15\n",
      "452/452 [==============================] - 1s 2ms/step - loss: 0.0133 - mae: 0.0133 - val_loss: 0.0127 - val_mae: 0.0127\n",
      "Epoch 9/15\n",
      "452/452 [==============================] - 1s 2ms/step - loss: 0.0125 - mae: 0.0125 - val_loss: 0.0117 - val_mae: 0.0117\n",
      "Epoch 10/15\n",
      "452/452 [==============================] - 1s 3ms/step - loss: 0.0114 - mae: 0.0114 - val_loss: 0.0111 - val_mae: 0.0111\n",
      "Epoch 11/15\n",
      "452/452 [==============================] - 1s 2ms/step - loss: 0.0107 - mae: 0.0107 - val_loss: 0.0103 - val_mae: 0.0103\n",
      "Epoch 12/15\n",
      "452/452 [==============================] - 1s 3ms/step - loss: 0.0102 - mae: 0.0102 - val_loss: 0.0101 - val_mae: 0.0101\n",
      "Epoch 13/15\n",
      "452/452 [==============================] - 1s 3ms/step - loss: 0.0097 - mae: 0.0097 - val_loss: 0.0093 - val_mae: 0.0093\n",
      "Epoch 14/15\n",
      "452/452 [==============================] - 1s 2ms/step - loss: 0.0094 - mae: 0.0094 - val_loss: 0.0089 - val_mae: 0.0089\n",
      "Epoch 15/15\n",
      "452/452 [==============================] - 1s 2ms/step - loss: 0.0089 - mae: 0.0089 - val_loss: 0.0092 - val_mae: 0.0092\n"
     ]
    }
   ],
   "source": [
    "class AutoEncoders(Model):\n",
    "    def __init__(self, output_units):\n",
    "        super().__init__()\n",
    "        self.encoder = Sequential(\n",
    "            [\n",
    "                Dense(32, activation=\"relu\"),\n",
    "                Dense(16, activation=\"relu\"),\n",
    "                Dense(7, activation=\"relu\")\n",
    "            ]\n",
    "        )\n",
    "        \n",
    "        self.decoder = Sequential(\n",
    "            [\n",
    "                Dense(16, activation=\"relu\"),\n",
    "                Dense(32, activation=\"relu\"),\n",
    "                Dense(output_units, activation=\"sigmoid\")\n",
    "            ]\n",
    "        )\n",
    "        ## AQUI HABIA UN ERROR EN EL PROGRAMA!!\n",
    "    def call(self, inputs):\n",
    "        encoded = self.encoder(inputs)\n",
    "        decoded = self.decoder(encoded)\n",
    "        return decoded\n",
    "    \n",
    "auto_encoder = AutoEncoders(len(x_train_scaled.columns))\n",
    "\n",
    "auto_encoder.compile(\n",
    "    loss='mae',\n",
    "    metrics=['mae'],\n",
    "    optimizer='adam'\n",
    ")\n",
    "\n",
    "history = auto_encoder.fit(\n",
    "    x_train_scaled, \n",
    "    x_train_scaled, \n",
    "    epochs=15, \n",
    "    batch_size=32, \n",
    "    validation_data=(x_test_scaled, x_test_scaled)\n",
    ")\n"
   ]
  },
  {
   "cell_type": "markdown",
   "id": "cfa584a5",
   "metadata": {},
   "source": [
    "Here we have defined the autoencoder model by subclassing the Model class in Tensorflow and we compile the AutoEncoder model with mean absolute error and adam optimization function. We split the data into batches of 32 and we run it for 15 epochs.\n",
    "\n",
    "Get the encoder layer and use the method predict to reduce dimensions in data. Since we have seven hidden units in the bottleneck the data is reduced to seven features."
   ]
  },
  {
   "cell_type": "code",
   "execution_count": 62,
   "id": "71b44964",
   "metadata": {},
   "outputs": [
    {
     "name": "stdout",
     "output_type": "stream",
     "text": [
      "452/452 [==============================] - 0s 636us/step\n"
     ]
    }
   ],
   "source": [
    "encoder_layer = auto_encoder.get_layer('sequential_14')\n",
    "reduced_df = pd.DataFrame(encoder_layer.predict(x_train_scaled))\n",
    "reduced_df = reduced_df.add_prefix('feature_')"
   ]
  },
  {
   "cell_type": "code",
   "execution_count": 63,
   "id": "6f400839",
   "metadata": {},
   "outputs": [
    {
     "data": {
      "text/html": [
       "<div>\n",
       "<style scoped>\n",
       "    .dataframe tbody tr th:only-of-type {\n",
       "        vertical-align: middle;\n",
       "    }\n",
       "\n",
       "    .dataframe tbody tr th {\n",
       "        vertical-align: top;\n",
       "    }\n",
       "\n",
       "    .dataframe thead th {\n",
       "        text-align: right;\n",
       "    }\n",
       "</style>\n",
       "<table border=\"1\" class=\"dataframe\">\n",
       "  <thead>\n",
       "    <tr style=\"text-align: right;\">\n",
       "      <th></th>\n",
       "      <th>feature_0</th>\n",
       "      <th>feature_1</th>\n",
       "      <th>feature_2</th>\n",
       "      <th>feature_3</th>\n",
       "      <th>feature_4</th>\n",
       "      <th>feature_5</th>\n",
       "      <th>feature_6</th>\n",
       "    </tr>\n",
       "  </thead>\n",
       "  <tbody>\n",
       "    <tr>\n",
       "      <th>0</th>\n",
       "      <td>1.443627</td>\n",
       "      <td>0.648662</td>\n",
       "      <td>1.239704</td>\n",
       "      <td>2.399297</td>\n",
       "      <td>0.0</td>\n",
       "      <td>0.129634</td>\n",
       "      <td>0.000000</td>\n",
       "    </tr>\n",
       "    <tr>\n",
       "      <th>1</th>\n",
       "      <td>1.388015</td>\n",
       "      <td>1.062739</td>\n",
       "      <td>1.710036</td>\n",
       "      <td>2.307930</td>\n",
       "      <td>0.0</td>\n",
       "      <td>0.713073</td>\n",
       "      <td>0.000000</td>\n",
       "    </tr>\n",
       "    <tr>\n",
       "      <th>2</th>\n",
       "      <td>0.644563</td>\n",
       "      <td>2.053547</td>\n",
       "      <td>1.543348</td>\n",
       "      <td>2.768314</td>\n",
       "      <td>0.0</td>\n",
       "      <td>1.523437</td>\n",
       "      <td>0.000000</td>\n",
       "    </tr>\n",
       "    <tr>\n",
       "      <th>3</th>\n",
       "      <td>1.984858</td>\n",
       "      <td>1.342251</td>\n",
       "      <td>1.203275</td>\n",
       "      <td>2.668591</td>\n",
       "      <td>0.0</td>\n",
       "      <td>0.247028</td>\n",
       "      <td>0.000000</td>\n",
       "    </tr>\n",
       "    <tr>\n",
       "      <th>4</th>\n",
       "      <td>0.672619</td>\n",
       "      <td>2.618364</td>\n",
       "      <td>2.022026</td>\n",
       "      <td>2.230176</td>\n",
       "      <td>0.0</td>\n",
       "      <td>2.241025</td>\n",
       "      <td>0.343856</td>\n",
       "    </tr>\n",
       "    <tr>\n",
       "      <th>...</th>\n",
       "      <td>...</td>\n",
       "      <td>...</td>\n",
       "      <td>...</td>\n",
       "      <td>...</td>\n",
       "      <td>...</td>\n",
       "      <td>...</td>\n",
       "      <td>...</td>\n",
       "    </tr>\n",
       "    <tr>\n",
       "      <th>14443</th>\n",
       "      <td>1.504106</td>\n",
       "      <td>1.668410</td>\n",
       "      <td>2.095246</td>\n",
       "      <td>2.385668</td>\n",
       "      <td>0.0</td>\n",
       "      <td>1.307051</td>\n",
       "      <td>0.000000</td>\n",
       "    </tr>\n",
       "    <tr>\n",
       "      <th>14444</th>\n",
       "      <td>1.632588</td>\n",
       "      <td>0.863038</td>\n",
       "      <td>1.350066</td>\n",
       "      <td>2.235933</td>\n",
       "      <td>0.0</td>\n",
       "      <td>0.514684</td>\n",
       "      <td>0.000000</td>\n",
       "    </tr>\n",
       "    <tr>\n",
       "      <th>14445</th>\n",
       "      <td>1.079722</td>\n",
       "      <td>1.686312</td>\n",
       "      <td>0.295636</td>\n",
       "      <td>2.553993</td>\n",
       "      <td>0.0</td>\n",
       "      <td>0.473992</td>\n",
       "      <td>0.000000</td>\n",
       "    </tr>\n",
       "    <tr>\n",
       "      <th>14446</th>\n",
       "      <td>0.934954</td>\n",
       "      <td>2.598719</td>\n",
       "      <td>1.691111</td>\n",
       "      <td>2.331264</td>\n",
       "      <td>0.0</td>\n",
       "      <td>1.851335</td>\n",
       "      <td>0.000000</td>\n",
       "    </tr>\n",
       "    <tr>\n",
       "      <th>14447</th>\n",
       "      <td>0.925894</td>\n",
       "      <td>1.589776</td>\n",
       "      <td>1.445795</td>\n",
       "      <td>2.793630</td>\n",
       "      <td>0.0</td>\n",
       "      <td>0.971635</td>\n",
       "      <td>0.000000</td>\n",
       "    </tr>\n",
       "  </tbody>\n",
       "</table>\n",
       "<p>14448 rows × 7 columns</p>\n",
       "</div>"
      ],
      "text/plain": [
       "       feature_0  feature_1  feature_2  feature_3  feature_4  feature_5  \\\n",
       "0       1.443627   0.648662   1.239704   2.399297        0.0   0.129634   \n",
       "1       1.388015   1.062739   1.710036   2.307930        0.0   0.713073   \n",
       "2       0.644563   2.053547   1.543348   2.768314        0.0   1.523437   \n",
       "3       1.984858   1.342251   1.203275   2.668591        0.0   0.247028   \n",
       "4       0.672619   2.618364   2.022026   2.230176        0.0   2.241025   \n",
       "...          ...        ...        ...        ...        ...        ...   \n",
       "14443   1.504106   1.668410   2.095246   2.385668        0.0   1.307051   \n",
       "14444   1.632588   0.863038   1.350066   2.235933        0.0   0.514684   \n",
       "14445   1.079722   1.686312   0.295636   2.553993        0.0   0.473992   \n",
       "14446   0.934954   2.598719   1.691111   2.331264        0.0   1.851335   \n",
       "14447   0.925894   1.589776   1.445795   2.793630        0.0   0.971635   \n",
       "\n",
       "       feature_6  \n",
       "0       0.000000  \n",
       "1       0.000000  \n",
       "2       0.000000  \n",
       "3       0.000000  \n",
       "4       0.343856  \n",
       "...          ...  \n",
       "14443   0.000000  \n",
       "14444   0.000000  \n",
       "14445   0.000000  \n",
       "14446   0.000000  \n",
       "14447   0.000000  \n",
       "\n",
       "[14448 rows x 7 columns]"
      ]
     },
     "execution_count": 63,
     "metadata": {},
     "output_type": "execute_result"
    }
   ],
   "source": [
    "reduced_df"
   ]
  },
  {
   "cell_type": "markdown",
   "id": "c8b693d2",
   "metadata": {},
   "source": [
    "In this way, AutoEncoders can be used to reduce dimensions in data."
   ]
  },
  {
   "cell_type": "markdown",
   "id": "9d610837",
   "metadata": {},
   "source": [
    "`https://towardsdatascience.com/image-colorization-using-convolutional-autoencoders-fdabc1cb1dbe`"
   ]
  },
  {
   "cell_type": "code",
   "execution_count": null,
   "id": "a9fd394a",
   "metadata": {},
   "outputs": [],
   "source": []
  }
 ],
 "metadata": {
  "kernelspec": {
   "display_name": "Python 3 (ipykernel)",
   "language": "python",
   "name": "python3"
  },
  "language_info": {
   "codemirror_mode": {
    "name": "ipython",
    "version": 3
   },
   "file_extension": ".py",
   "mimetype": "text/x-python",
   "name": "python",
   "nbconvert_exporter": "python",
   "pygments_lexer": "ipython3",
   "version": "3.10.6"
  }
 },
 "nbformat": 4,
 "nbformat_minor": 5
}
