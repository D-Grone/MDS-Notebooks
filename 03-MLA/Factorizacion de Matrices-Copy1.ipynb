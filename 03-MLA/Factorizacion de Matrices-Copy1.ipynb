{
 "cells": [
  {
   "cell_type": "markdown",
   "id": "72413d86",
   "metadata": {},
   "source": [
    "## Factorizacion de Matrices"
   ]
  },
  {
   "cell_type": "markdown",
   "id": "ab24f6a6",
   "metadata": {},
   "source": [
    "Primero creemos una matriz de diseño inicial con valores aleatorios entre 0.1 y 0.9. Tambien creemos la funcion del error cuadratico medio"
   ]
  },
  {
   "cell_type": "code",
   "execution_count": 15,
   "id": "2d326178",
   "metadata": {},
   "outputs": [],
   "source": [
    "import numpy as np\n",
    "\n",
    "class matrix_factorization():\n",
    "    \n",
    "    def __init__(self,data,features):\n",
    "        self.data = data\n",
    "        self.features = features\n",
    "        self.user_count = data.shape[0]\n",
    "        self.item_count = data.shape[1]\n",
    "        self.user_features = np.random.uniform(low=0.1,high = 0.9, size = (self.user_count,self.features))\n",
    "        self.item_features = np.random.uniform(low=0.1,high = 0.9, size = (self.features,self.item_count))\n",
    "        \n",
    "    def MSE(self):\n",
    "        \"\"\"\n",
    "        Mean Squared Error function comparing dot product of user-feature row and feature-item column to user-item cell\n",
    "        \"\"\"\n",
    "        \n",
    "        matrix_product = np.matmul(self.user_features,self.item_features)\n",
    "        return np.sum((self.data - matrix_product)**2)\n",
    "\n",
    "\n",
    "    def single_gradient(self,user_row,item_col,wrt_user_idx = None, wrt_item_idx = None):\n",
    "        \"\"\"\n",
    "        Calcula el gradiente de un unica celda usuario-item a una unica celda usuario-feature o item-feature\n",
    "        \"\"\"\n",
    "        \n",
    "        if wrt_user_idx !=None and wrt_item_idx !=None:\n",
    "            return \"Too many elements\"\n",
    "        elif wrt_user_idx ==None and wrt_item_idx ==None:\n",
    "            return \"insufficient elements\"\n",
    "        else:\n",
    "            u_row = self.user_features[user_row,:]\n",
    "            i_col = self.item_features[:,item_col]\n",
    "            ui_rating = float(self.data[user_row,item_col])\n",
    "            prediction = float(np.dot(u_row,i_col))\n",
    "            \n",
    "            if wrt_user_idx != None:\n",
    "                row_elem = float(i_col[wrt_user_idx])\n",
    "                gradient = 2*(ui_rating-prediction)*row_elem\n",
    "            else:\n",
    "                col_elem = float(u_row[wrt_item_idx])\n",
    "                gradient = 2*(ui_rating-prediction)*col_elem\n",
    "            return gradient\n",
    "        \n",
    "    def user_feature_gradient(self,user_row,wrt_user_idx):\n",
    "        \"\"\"\n",
    "        Averages the gradients of a single user-item row with respect to a single user-feature parameter\n",
    "        \"\"\"\n",
    "        \n",
    "        summation = 0\n",
    "        for col in range(0,self.item_count):\n",
    "            summation += self.single_gradient(user_row = user_row,item_col=col,wrt_user_idx=wrt_user_idx)\n",
    "        return summation/self.item_count\n",
    "    \n",
    "    def item_feature_gradient(self,item_col,wrt_item_idx):\n",
    "        \"\"\"\n",
    "        Averages the gradients of a single user-item column with respect to a single feature-item parameter\n",
    "        \"\"\"\n",
    "        \n",
    "        summation = 0\n",
    "        for row in range(0,self.user_count):\n",
    "            summation += self.single_gradient(user_row = row,item_col=item_col,wrt_item_idx=wrt_item_idx)\n",
    "        return summation/self.user_count\n",
    "    \n",
    "    def update_user_feature(self,learning_rate):\n",
    "        \"\"\"\n",
    "        Updates every user-feature parameter according to supplied learning rate\n",
    "        \"\"\"\n",
    "        for i in range(0, self.user_count):\n",
    "            for j in range(0,self.features):\n",
    "                self.user_features[i,j] += learning_rate*self.user_feature_gradient(user_row=i,wrt_user_idx=j)\n",
    "        \n",
    "    def update_item_feature(self,learning_rate):\n",
    "        \"\"\"\n",
    "        Updates every feature-item parameter according to supplied learning rate\n",
    "        \"\"\"\n",
    "        for i in range(0, self.features):\n",
    "            for j in range(0,self.item_count):\n",
    "                self.item_features[i,j] += learning_rate*self.item_feature_gradient(item_col=j,wrt_item_idx=i)\n",
    "\n",
    "    ### Metodo de entrenamiento\n",
    "    \n",
    "    def train_model(self,learning_rate=0.1,iterations = 1000):\n",
    "        \"\"\"\n",
    "        Trains model, outputting MSE cost/loss every 50 iterations, using supplied learning and iterations\n",
    "        \"\"\"\n",
    "        for i in range(iterations):\n",
    "            self.update_user_feature(learning_rate=learning_rate)\n",
    "            self.update_item_feature(learning_rate=learning_rate)\n",
    "            if i %50 ==0:\n",
    "                print(self.MSE())\n",
    "                print(i)\n",
    "            "
   ]
  },
  {
   "cell_type": "markdown",
   "id": "16df16d4",
   "metadata": {},
   "source": [
    "Este es un programa de cero, veamos que pasa si creamos matrices"
   ]
  },
  {
   "cell_type": "code",
   "execution_count": 17,
   "id": "d691ef6d",
   "metadata": {},
   "outputs": [
    {
     "name": "stdout",
     "output_type": "stream",
     "text": [
      "[[5 3 1]\n",
      " [1 3 5]\n",
      " [3 5 1]]\n"
     ]
    }
   ],
   "source": [
    "d = np.array([[5,3,1],[1,3,5],[3,5,1]])\n",
    "print(d)\n"
   ]
  },
  {
   "cell_type": "code",
   "execution_count": 18,
   "id": "fa8361ab",
   "metadata": {},
   "outputs": [
    {
     "data": {
      "text/plain": [
       "<__main__.matrix_factorization at 0x1d4302053a0>"
      ]
     },
     "execution_count": 18,
     "metadata": {},
     "output_type": "execute_result"
    }
   ],
   "source": [
    "d2 = matrix_factorization(d,2)\n",
    "d2"
   ]
  },
  {
   "cell_type": "code",
   "execution_count": 24,
   "id": "71ba8b95",
   "metadata": {},
   "outputs": [
    {
     "data": {
      "text/plain": [
       "array([[ 0.81761702,  1.6900671 ,  1.94598575],\n",
       "       [ 1.87994545,  1.1742752 , -0.76401102]])"
      ]
     },
     "execution_count": 24,
     "metadata": {},
     "output_type": "execute_result"
    }
   ],
   "source": [
    "d2.item_features"
   ]
  },
  {
   "cell_type": "code",
   "execution_count": 20,
   "id": "51ab9c2f",
   "metadata": {},
   "outputs": [
    {
     "name": "stdout",
     "output_type": "stream",
     "text": [
      "51.37468224533326\n",
      "0\n",
      "3.538657154250437\n",
      "50\n",
      "3.5386552492239733\n",
      "100\n",
      "3.538655249223966\n",
      "150\n",
      "3.5386552492239662\n",
      "200\n",
      "3.5386552492239662\n",
      "250\n",
      "3.5386552492239662\n",
      "300\n",
      "3.5386552492239662\n",
      "350\n",
      "3.5386552492239662\n",
      "400\n",
      "3.5386552492239662\n",
      "450\n",
      "3.5386552492239662\n",
      "500\n",
      "3.5386552492239662\n",
      "550\n",
      "3.5386552492239662\n",
      "600\n",
      "3.5386552492239662\n",
      "650\n",
      "3.5386552492239662\n",
      "700\n",
      "3.5386552492239662\n",
      "750\n",
      "3.5386552492239662\n",
      "800\n",
      "3.5386552492239662\n",
      "850\n",
      "3.5386552492239662\n",
      "900\n",
      "3.5386552492239662\n",
      "950\n"
     ]
    }
   ],
   "source": [
    "d2.train_model(learning_rate = .1)"
   ]
  },
  {
   "cell_type": "code",
   "execution_count": 25,
   "id": "b37f79fc",
   "metadata": {},
   "outputs": [
    {
     "data": {
      "text/plain": [
       "array([[4.28078016, 3.86133275, 0.55412635],\n",
       "       [0.8201476 , 3.21539   , 4.88850218],\n",
       "       [3.84015545, 3.99383559, 1.52084655]])"
      ]
     },
     "execution_count": 25,
     "metadata": {},
     "output_type": "execute_result"
    }
   ],
   "source": [
    "np.dot(d2.user_features,d2.item_features)"
   ]
  },
  {
   "cell_type": "markdown",
   "id": "6f1fbe30",
   "metadata": {},
   "source": [
    "Si consideramos un feature (caracteristica adicional), entonces nos mejora la descomposicion"
   ]
  },
  {
   "cell_type": "code",
   "execution_count": 26,
   "id": "fb5f882d",
   "metadata": {},
   "outputs": [
    {
     "name": "stdout",
     "output_type": "stream",
     "text": [
      "[[5 3 1]\n",
      " [1 3 5]\n",
      " [3 5 1]]\n",
      "41.90386218428807\n",
      "0\n",
      "0.20127835127556626\n",
      "50\n",
      "6.948352666604495e-14\n",
      "100\n",
      "1.3501921386633245e-26\n",
      "150\n",
      "8.628166150854817e-31\n",
      "200\n",
      "1.0600318413907346e-30\n",
      "250\n",
      "1.0600318413907346e-30\n",
      "300\n",
      "8.628166150854817e-31\n",
      "350\n",
      "8.628166150854817e-31\n",
      "400\n",
      "1.0600318413907346e-30\n",
      "450\n",
      "1.0600318413907346e-30\n",
      "500\n",
      "8.628166150854817e-31\n",
      "550\n",
      "8.628166150854817e-31\n",
      "600\n",
      "1.0600318413907346e-30\n",
      "650\n",
      "1.0600318413907346e-30\n",
      "700\n",
      "8.628166150854817e-31\n",
      "750\n",
      "8.628166150854817e-31\n",
      "800\n",
      "1.0600318413907346e-30\n",
      "850\n",
      "1.0600318413907346e-30\n",
      "900\n",
      "8.628166150854817e-31\n",
      "950\n"
     ]
    }
   ],
   "source": [
    "d = np.array([[5,3,1],[1,3,5],[3,5,1]])\n",
    "print(d)\n",
    "d2 = matrix_factorization(d,3)\n",
    "d2.train_model(learning_rate = .1)"
   ]
  },
  {
   "cell_type": "code",
   "execution_count": 27,
   "id": "843b5e35",
   "metadata": {},
   "outputs": [
    {
     "data": {
      "text/plain": [
       "array([[5., 3., 1.],\n",
       "       [1., 3., 5.],\n",
       "       [3., 5., 1.]])"
      ]
     },
     "execution_count": 27,
     "metadata": {},
     "output_type": "execute_result"
    }
   ],
   "source": [
    "np.dot(d2.user_features,d2.item_features)"
   ]
  },
  {
   "cell_type": "code",
   "execution_count": 28,
   "id": "3feeadc8",
   "metadata": {},
   "outputs": [],
   "source": [
    "### Ahora en Keras\n",
    "\n",
    "from __future__ import print_function, division\n",
    "from builtins import range, input\n",
    "import numpy as np\n",
    "import pandas as pd\n",
    "import matplotlib.pyplot as plt\n",
    "from sklearn.utils import shuffle\n",
    "\n",
    "import tensorflow\n",
    "\n",
    "from tensorflow import keras"
   ]
  },
  {
   "cell_type": "code",
   "execution_count": 29,
   "id": "9db69950",
   "metadata": {},
   "outputs": [],
   "source": [
    "from keras.models import Model\n",
    "from keras.layers import Input, Embedding, Dot, Add, Flatten\n",
    "from keras.regularizers import l2\n",
    "from tensorflow.keras.optimizers import Adam, SGD"
   ]
  },
  {
   "cell_type": "code",
   "execution_count": 30,
   "id": "1b7f83a3",
   "metadata": {},
   "outputs": [],
   "source": [
    "df = pd.read_csv('rating.csv')"
   ]
  },
  {
   "cell_type": "code",
   "execution_count": 31,
   "id": "1129a36b",
   "metadata": {},
   "outputs": [
    {
     "data": {
      "text/html": [
       "<div>\n",
       "<style scoped>\n",
       "    .dataframe tbody tr th:only-of-type {\n",
       "        vertical-align: middle;\n",
       "    }\n",
       "\n",
       "    .dataframe tbody tr th {\n",
       "        vertical-align: top;\n",
       "    }\n",
       "\n",
       "    .dataframe thead th {\n",
       "        text-align: right;\n",
       "    }\n",
       "</style>\n",
       "<table border=\"1\" class=\"dataframe\">\n",
       "  <thead>\n",
       "    <tr style=\"text-align: right;\">\n",
       "      <th></th>\n",
       "      <th>userId</th>\n",
       "      <th>movieId</th>\n",
       "      <th>rating</th>\n",
       "      <th>timestamp</th>\n",
       "    </tr>\n",
       "  </thead>\n",
       "  <tbody>\n",
       "    <tr>\n",
       "      <th>0</th>\n",
       "      <td>1</td>\n",
       "      <td>110</td>\n",
       "      <td>1.0</td>\n",
       "      <td>1425941529</td>\n",
       "    </tr>\n",
       "    <tr>\n",
       "      <th>1</th>\n",
       "      <td>1</td>\n",
       "      <td>147</td>\n",
       "      <td>4.5</td>\n",
       "      <td>1425942435</td>\n",
       "    </tr>\n",
       "    <tr>\n",
       "      <th>2</th>\n",
       "      <td>1</td>\n",
       "      <td>858</td>\n",
       "      <td>5.0</td>\n",
       "      <td>1425941523</td>\n",
       "    </tr>\n",
       "    <tr>\n",
       "      <th>3</th>\n",
       "      <td>1</td>\n",
       "      <td>1221</td>\n",
       "      <td>5.0</td>\n",
       "      <td>1425941546</td>\n",
       "    </tr>\n",
       "    <tr>\n",
       "      <th>4</th>\n",
       "      <td>1</td>\n",
       "      <td>1246</td>\n",
       "      <td>5.0</td>\n",
       "      <td>1425941556</td>\n",
       "    </tr>\n",
       "  </tbody>\n",
       "</table>\n",
       "</div>"
      ],
      "text/plain": [
       "   userId  movieId  rating   timestamp\n",
       "0       1      110     1.0  1425941529\n",
       "1       1      147     4.5  1425942435\n",
       "2       1      858     5.0  1425941523\n",
       "3       1     1221     5.0  1425941546\n",
       "4       1     1246     5.0  1425941556"
      ]
     },
     "execution_count": 31,
     "metadata": {},
     "output_type": "execute_result"
    }
   ],
   "source": [
    "df.head()"
   ]
  },
  {
   "cell_type": "code",
   "execution_count": 32,
   "id": "620e0d6d",
   "metadata": {},
   "outputs": [],
   "source": [
    "user = df['userId'].value_counts().index\n",
    "map = {k:i for i, k in enumerate(user)}\n",
    "df['userId'] = df['userId'].map(map)"
   ]
  },
  {
   "cell_type": "code",
   "execution_count": null,
   "id": "a61eb84f",
   "metadata": {},
   "outputs": [],
   "source": [
    "mov = df['movieId'].value_counts().index\n",
    "map = {k:i for i, k in enumerate(mov)}\n",
    "df['movieId'] = df['movieId'].map(map)"
   ]
  },
  {
   "cell_type": "code",
   "execution_count": null,
   "id": "081c0f46",
   "metadata": {},
   "outputs": [],
   "source": [
    "N = df['userId'].max()\n",
    "M = df['movieId'].max()\n",
    "\n",
    "df.drop('timestamp', axis = 1, inplace = True)\n",
    "\n",
    "N,M\n",
    "\n"
   ]
  },
  {
   "cell_type": "code",
   "execution_count": null,
   "id": "f743c9b8",
   "metadata": {},
   "outputs": [],
   "source": [
    "n = 1000\n",
    "m = 800\n",
    "\n",
    "from collections import Counter"
   ]
  },
  {
   "cell_type": "code",
   "execution_count": null,
   "id": "91c3646f",
   "metadata": {},
   "outputs": [],
   "source": [
    "ucount = Counter(df['userId'])\n",
    "mcount = Counter(df['movieId'])\n",
    "\n",
    "uid = [u for u, c in ucount.most_common(n)]\n",
    "mid = [u for u, c in mcount.most_common(m)]"
   ]
  },
  {
   "cell_type": "code",
   "execution_count": null,
   "id": "1f5669e7",
   "metadata": {},
   "outputs": [],
   "source": [
    "newdf = df[df['userId'].isin(uid) & df['movieId'].isin(mid)]\n",
    "newdf.head()"
   ]
  },
  {
   "cell_type": "code",
   "execution_count": null,
   "id": "afcb8774",
   "metadata": {},
   "outputs": [],
   "source": [
    "N = newdf['userId'].max()\n",
    "M = newdf['movieId'].max()\n",
    "\n",
    "user = newdf['userId'].value_counts().index\n",
    "map = {k:i for i, k in enumerate(user)}\n",
    "newdf['userId'] = newdf['userId'].map(map)\n"
   ]
  },
  {
   "cell_type": "code",
   "execution_count": null,
   "id": "25d5ce33",
   "metadata": {},
   "outputs": [],
   "source": [
    "mov = newdf['movieId'].value_counts().index\n",
    "map = {k:i for i, k in enumerate(mov)}\n",
    "newdf['movieId'] = newdf['movieId'].map(map)"
   ]
  },
  {
   "cell_type": "code",
   "execution_count": null,
   "id": "038a1a3c",
   "metadata": {},
   "outputs": [],
   "source": [
    "newdf = shuffle(newdf)\n",
    "cutoff = int(0.8*len(newdf))\n",
    "cutoff"
   ]
  },
  {
   "cell_type": "code",
   "execution_count": null,
   "id": "1caaa89b",
   "metadata": {},
   "outputs": [],
   "source": [
    "train = newdf.iloc[: cutoff]\n",
    "test = newdf.iloc[cutoff:]"
   ]
  },
  {
   "cell_type": "code",
   "execution_count": null,
   "id": "23216e90",
   "metadata": {},
   "outputs": [],
   "source": [
    "K = 10\n",
    "mu = newdf['rating'].mean()\n",
    "epochs = 25\n",
    "reg = 0.\n",
    "N = 1000\n",
    "M = 800"
   ]
  }
 ],
 "metadata": {
  "kernelspec": {
   "display_name": "Python 3 (ipykernel)",
   "language": "python",
   "name": "python3"
  },
  "language_info": {
   "codemirror_mode": {
    "name": "ipython",
    "version": 3
   },
   "file_extension": ".py",
   "mimetype": "text/x-python",
   "name": "python",
   "nbconvert_exporter": "python",
   "pygments_lexer": "ipython3",
   "version": "3.9.13"
  }
 },
 "nbformat": 4,
 "nbformat_minor": 5
}
