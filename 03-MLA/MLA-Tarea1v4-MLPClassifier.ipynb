{
 "cells": [
  {
   "cell_type": "markdown",
   "metadata": {
    "_cell_guid": "b1076dfc-b9ad-4769-8c92-a6c4dae69d19",
    "_uuid": "8f2839f25d086af736a60e9eeb907d3b93b6e0e5"
   },
   "source": [
    "# Prueba"
   ]
  },
  {
   "cell_type": "markdown",
   "metadata": {},
   "source": [
    "## Preparación del Notebook"
   ]
  },
  {
   "cell_type": "markdown",
   "metadata": {},
   "source": [
    "### Importación de Librerías"
   ]
  },
  {
   "cell_type": "code",
   "execution_count": 1,
   "metadata": {
    "_cell_guid": "79c7e3d0-c299-4dcb-8224-4455121ee9b0",
    "_uuid": "d629ff2d2480ee46fbb7e2d37f6b5fab8052498a"
   },
   "outputs": [],
   "source": [
    "# data analysis and wrangling\n",
    "import pandas as pd\n",
    "import numpy as np\n",
    "import random as rnd\n",
    "import opendatasets as od\n",
    "\n",
    "# visualization\n",
    "import seaborn as sns\n",
    "import matplotlib.pyplot as plt\n",
    "%matplotlib inline\n",
    "\n",
    "# machine learning\n",
    "from sklearn.linear_model import LogisticRegression, RidgeClassifierCV\n",
    "from sklearn.svm import SVC, LinearSVC\n",
    "from sklearn.ensemble import (RandomForestClassifier, GradientBoostingClassifier)\n",
    "from sklearn.neighbors import KNeighborsClassifier\n",
    "from sklearn.naive_bayes import GaussianNB\n",
    "from sklearn.linear_model import Perceptron\n",
    "from sklearn.linear_model import SGDClassifier\n",
    "from sklearn.tree import DecisionTreeClassifier\n",
    "from sklearn.model_selection import cross_val_score, GridSearchCV\n",
    "#from sklearn.metrics import accuracy_scor"
   ]
  },
  {
   "cell_type": "markdown",
   "metadata": {
    "_uuid": "7f8e96a9cfedcda9da89eeaf848f74555a156869"
   },
   "source": [
    "### Descarga de Datasets desde Kaggle"
   ]
  },
  {
   "cell_type": "code",
   "execution_count": 2,
   "metadata": {
    "scrolled": true
   },
   "outputs": [
    {
     "name": "stdout",
     "output_type": "stream",
     "text": [
      "Skipping, found downloaded files in \".\\titanic\" (use force=True to force download)\n"
     ]
    },
    {
     "data": {
      "text/plain": [
       "{'username': 'dgrone', 'key': '8e16739c70ce24ea1e6d9a45b61e9796'}"
      ]
     },
     "execution_count": 2,
     "metadata": {},
     "output_type": "execute_result"
    }
   ],
   "source": [
    "od.download(\"https://www.kaggle.com/c/titanic/data\")\n",
    "{\"username\":\"dgrone\",\"key\":\"8e16739c70ce24ea1e6d9a45b61e9796\"}"
   ]
  },
  {
   "cell_type": "markdown",
   "metadata": {},
   "source": [
    "### Carga de Datasets"
   ]
  },
  {
   "cell_type": "code",
   "execution_count": 3,
   "metadata": {
    "scrolled": true
   },
   "outputs": [],
   "source": [
    "#train_folder = \"c:/Users/pablo/OneDrive/Documentos/GitHub/MDS-Notebooks/03-MLA/titanic/train.csv\"\n",
    "train_folder = \"titanic/train.csv\"\n",
    "train_df = pd.read_csv(train_folder)"
   ]
  },
  {
   "cell_type": "code",
   "execution_count": 4,
   "metadata": {},
   "outputs": [],
   "source": [
    "#test_folder = \"c:/Users/pablo/OneDrive/Documentos/GitHub/MDS-Notebooks/03-MLA/titanic/test.csv\"\n",
    "test_folder = \"titanic/test.csv\"\n",
    "test_df = pd.read_csv(test_folder)"
   ]
  },
  {
   "cell_type": "code",
   "execution_count": null,
   "metadata": {},
   "outputs": [],
   "source": []
  },
  {
   "cell_type": "code",
   "execution_count": null,
   "metadata": {},
   "outputs": [],
   "source": []
  },
  {
   "cell_type": "code",
   "execution_count": 5,
   "metadata": {},
   "outputs": [],
   "source": [
    "del train_df['PassengerId']\n",
    "del train_df['Name']"
   ]
  },
  {
   "cell_type": "code",
   "execution_count": 6,
   "metadata": {
    "scrolled": true
   },
   "outputs": [
    {
     "data": {
      "text/plain": [
       "Survived      0\n",
       "Pclass        0\n",
       "Sex           0\n",
       "Age         177\n",
       "SibSp         0\n",
       "Parch         0\n",
       "Ticket        0\n",
       "Fare          0\n",
       "Cabin       687\n",
       "Embarked      2\n",
       "dtype: int64"
      ]
     },
     "execution_count": 6,
     "metadata": {},
     "output_type": "execute_result"
    }
   ],
   "source": [
    "train_df.isnull().sum()"
   ]
  },
  {
   "cell_type": "markdown",
   "metadata": {},
   "source": [
    "Se elimina la columna de Cabina por la cantidad de datos nulos."
   ]
  },
  {
   "cell_type": "code",
   "execution_count": 7,
   "metadata": {},
   "outputs": [],
   "source": [
    "del train_df['Cabin']"
   ]
  },
  {
   "cell_type": "markdown",
   "metadata": {},
   "source": [
    "Para la Categoría de punto de Embarque, se reemplzan los 2 datos nulos por la moda"
   ]
  },
  {
   "cell_type": "code",
   "execution_count": 8,
   "metadata": {
    "scrolled": true
   },
   "outputs": [
    {
     "data": {
      "text/plain": [
       "S    644\n",
       "C    168\n",
       "Q     77\n",
       "Name: Embarked, dtype: int64"
      ]
     },
     "execution_count": 8,
     "metadata": {},
     "output_type": "execute_result"
    }
   ],
   "source": [
    "train_df['Embarked'].value_counts()"
   ]
  },
  {
   "cell_type": "code",
   "execution_count": 9,
   "metadata": {
    "scrolled": true
   },
   "outputs": [
    {
     "name": "stderr",
     "output_type": "stream",
     "text": [
      "C:\\Users\\pablo\\AppData\\Local\\Temp\\ipykernel_14528\\440429920.py:1: SettingWithCopyWarning: \n",
      "A value is trying to be set on a copy of a slice from a DataFrame\n",
      "\n",
      "See the caveats in the documentation: https://pandas.pydata.org/pandas-docs/stable/user_guide/indexing.html#returning-a-view-versus-a-copy\n",
      "  train_df['Embarked'].loc[pd.isnull(train_df['Embarked'])] = 'S'\n"
     ]
    }
   ],
   "source": [
    "train_df['Embarked'].loc[pd.isnull(train_df['Embarked'])] = 'S'"
   ]
  },
  {
   "cell_type": "markdown",
   "metadata": {},
   "source": [
    "Los datos faltantes en edad se completan con el promedio"
   ]
  },
  {
   "cell_type": "code",
   "execution_count": 10,
   "metadata": {},
   "outputs": [
    {
     "name": "stderr",
     "output_type": "stream",
     "text": [
      "C:\\Users\\pablo\\AppData\\Local\\Temp\\ipykernel_14528\\1166638194.py:2: SettingWithCopyWarning: \n",
      "A value is trying to be set on a copy of a slice from a DataFrame\n",
      "\n",
      "See the caveats in the documentation: https://pandas.pydata.org/pandas-docs/stable/user_guide/indexing.html#returning-a-view-versus-a-copy\n",
      "  train_df['Age'].loc[pd.isnull(train_df['Age'])] = mean_age_train\n"
     ]
    }
   ],
   "source": [
    "mean_age_train = np.mean(train_df['Age'].loc[pd.isnull(train_df['Age']) == False].values)\n",
    "train_df['Age'].loc[pd.isnull(train_df['Age'])] = mean_age_train"
   ]
  },
  {
   "cell_type": "code",
   "execution_count": 11,
   "metadata": {},
   "outputs": [],
   "source": [
    "from sklearn.model_selection import cross_val_score\n",
    "from sklearn.linear_model import LogisticRegression\n",
    "from sklearn.svm import SVC\n",
    "from sklearn.tree import DecisionTreeClassifier\n",
    "from sklearn.neighbors import KNeighborsClassifier\n",
    "from sklearn.neural_network import MLPClassifier"
   ]
  },
  {
   "cell_type": "code",
   "execution_count": 12,
   "metadata": {
    "scrolled": true
   },
   "outputs": [
    {
     "name": "stderr",
     "output_type": "stream",
     "text": [
      "C:\\Users\\pablo\\AppData\\Local\\Temp\\ipykernel_14528\\2248962618.py:22: PerformanceWarning: DataFrame is highly fragmented.  This is usually the result of calling `frame.insert` many times, which has poor performance.  Consider joining all columns at once using pd.concat(axis=1) instead. To get a de-fragmented frame, use `newframe = frame.copy()`\n",
      "  train_df[f'Ticket{i}'] = ticket[:, i]\n",
      "C:\\Users\\pablo\\AppData\\Local\\Temp\\ipykernel_14528\\2248962618.py:22: PerformanceWarning: DataFrame is highly fragmented.  This is usually the result of calling `frame.insert` many times, which has poor performance.  Consider joining all columns at once using pd.concat(axis=1) instead. To get a de-fragmented frame, use `newframe = frame.copy()`\n",
      "  train_df[f'Ticket{i}'] = ticket[:, i]\n",
      "C:\\Users\\pablo\\AppData\\Local\\Temp\\ipykernel_14528\\2248962618.py:22: PerformanceWarning: DataFrame is highly fragmented.  This is usually the result of calling `frame.insert` many times, which has poor performance.  Consider joining all columns at once using pd.concat(axis=1) instead. To get a de-fragmented frame, use `newframe = frame.copy()`\n",
      "  train_df[f'Ticket{i}'] = ticket[:, i]\n",
      "C:\\Users\\pablo\\AppData\\Local\\Temp\\ipykernel_14528\\2248962618.py:22: PerformanceWarning: DataFrame is highly fragmented.  This is usually the result of calling `frame.insert` many times, which has poor performance.  Consider joining all columns at once using pd.concat(axis=1) instead. To get a de-fragmented frame, use `newframe = frame.copy()`\n",
      "  train_df[f'Ticket{i}'] = ticket[:, i]\n",
      "C:\\Users\\pablo\\AppData\\Local\\Temp\\ipykernel_14528\\2248962618.py:22: PerformanceWarning: DataFrame is highly fragmented.  This is usually the result of calling `frame.insert` many times, which has poor performance.  Consider joining all columns at once using pd.concat(axis=1) instead. To get a de-fragmented frame, use `newframe = frame.copy()`\n",
      "  train_df[f'Ticket{i}'] = ticket[:, i]\n",
      "C:\\Users\\pablo\\AppData\\Local\\Temp\\ipykernel_14528\\2248962618.py:22: PerformanceWarning: DataFrame is highly fragmented.  This is usually the result of calling `frame.insert` many times, which has poor performance.  Consider joining all columns at once using pd.concat(axis=1) instead. To get a de-fragmented frame, use `newframe = frame.copy()`\n",
      "  train_df[f'Ticket{i}'] = ticket[:, i]\n",
      "C:\\Users\\pablo\\AppData\\Local\\Temp\\ipykernel_14528\\2248962618.py:22: PerformanceWarning: DataFrame is highly fragmented.  This is usually the result of calling `frame.insert` many times, which has poor performance.  Consider joining all columns at once using pd.concat(axis=1) instead. To get a de-fragmented frame, use `newframe = frame.copy()`\n",
      "  train_df[f'Ticket{i}'] = ticket[:, i]\n",
      "C:\\Users\\pablo\\AppData\\Local\\Temp\\ipykernel_14528\\2248962618.py:22: PerformanceWarning: DataFrame is highly fragmented.  This is usually the result of calling `frame.insert` many times, which has poor performance.  Consider joining all columns at once using pd.concat(axis=1) instead. To get a de-fragmented frame, use `newframe = frame.copy()`\n",
      "  train_df[f'Ticket{i}'] = ticket[:, i]\n",
      "C:\\Users\\pablo\\AppData\\Local\\Temp\\ipykernel_14528\\2248962618.py:22: PerformanceWarning: DataFrame is highly fragmented.  This is usually the result of calling `frame.insert` many times, which has poor performance.  Consider joining all columns at once using pd.concat(axis=1) instead. To get a de-fragmented frame, use `newframe = frame.copy()`\n",
      "  train_df[f'Ticket{i}'] = ticket[:, i]\n",
      "C:\\Users\\pablo\\AppData\\Local\\Temp\\ipykernel_14528\\2248962618.py:22: PerformanceWarning: DataFrame is highly fragmented.  This is usually the result of calling `frame.insert` many times, which has poor performance.  Consider joining all columns at once using pd.concat(axis=1) instead. To get a de-fragmented frame, use `newframe = frame.copy()`\n",
      "  train_df[f'Ticket{i}'] = ticket[:, i]\n",
      "C:\\Users\\pablo\\AppData\\Local\\Temp\\ipykernel_14528\\2248962618.py:22: PerformanceWarning: DataFrame is highly fragmented.  This is usually the result of calling `frame.insert` many times, which has poor performance.  Consider joining all columns at once using pd.concat(axis=1) instead. To get a de-fragmented frame, use `newframe = frame.copy()`\n",
      "  train_df[f'Ticket{i}'] = ticket[:, i]\n",
      "C:\\Users\\pablo\\AppData\\Local\\Temp\\ipykernel_14528\\2248962618.py:22: PerformanceWarning: DataFrame is highly fragmented.  This is usually the result of calling `frame.insert` many times, which has poor performance.  Consider joining all columns at once using pd.concat(axis=1) instead. To get a de-fragmented frame, use `newframe = frame.copy()`\n",
      "  train_df[f'Ticket{i}'] = ticket[:, i]\n",
      "C:\\Users\\pablo\\AppData\\Local\\Temp\\ipykernel_14528\\2248962618.py:22: PerformanceWarning: DataFrame is highly fragmented.  This is usually the result of calling `frame.insert` many times, which has poor performance.  Consider joining all columns at once using pd.concat(axis=1) instead. To get a de-fragmented frame, use `newframe = frame.copy()`\n",
      "  train_df[f'Ticket{i}'] = ticket[:, i]\n",
      "C:\\Users\\pablo\\AppData\\Local\\Temp\\ipykernel_14528\\2248962618.py:22: PerformanceWarning: DataFrame is highly fragmented.  This is usually the result of calling `frame.insert` many times, which has poor performance.  Consider joining all columns at once using pd.concat(axis=1) instead. To get a de-fragmented frame, use `newframe = frame.copy()`\n",
      "  train_df[f'Ticket{i}'] = ticket[:, i]\n",
      "C:\\Users\\pablo\\AppData\\Local\\Temp\\ipykernel_14528\\2248962618.py:22: PerformanceWarning: DataFrame is highly fragmented.  This is usually the result of calling `frame.insert` many times, which has poor performance.  Consider joining all columns at once using pd.concat(axis=1) instead. To get a de-fragmented frame, use `newframe = frame.copy()`\n",
      "  train_df[f'Ticket{i}'] = ticket[:, i]\n",
      "C:\\Users\\pablo\\AppData\\Local\\Temp\\ipykernel_14528\\2248962618.py:22: PerformanceWarning: DataFrame is highly fragmented.  This is usually the result of calling `frame.insert` many times, which has poor performance.  Consider joining all columns at once using pd.concat(axis=1) instead. To get a de-fragmented frame, use `newframe = frame.copy()`\n",
      "  train_df[f'Ticket{i}'] = ticket[:, i]\n",
      "C:\\Users\\pablo\\AppData\\Local\\Temp\\ipykernel_14528\\2248962618.py:22: PerformanceWarning: DataFrame is highly fragmented.  This is usually the result of calling `frame.insert` many times, which has poor performance.  Consider joining all columns at once using pd.concat(axis=1) instead. To get a de-fragmented frame, use `newframe = frame.copy()`\n",
      "  train_df[f'Ticket{i}'] = ticket[:, i]\n",
      "C:\\Users\\pablo\\AppData\\Local\\Temp\\ipykernel_14528\\2248962618.py:22: PerformanceWarning: DataFrame is highly fragmented.  This is usually the result of calling `frame.insert` many times, which has poor performance.  Consider joining all columns at once using pd.concat(axis=1) instead. To get a de-fragmented frame, use `newframe = frame.copy()`\n",
      "  train_df[f'Ticket{i}'] = ticket[:, i]\n",
      "C:\\Users\\pablo\\AppData\\Local\\Temp\\ipykernel_14528\\2248962618.py:22: PerformanceWarning: DataFrame is highly fragmented.  This is usually the result of calling `frame.insert` many times, which has poor performance.  Consider joining all columns at once using pd.concat(axis=1) instead. To get a de-fragmented frame, use `newframe = frame.copy()`\n",
      "  train_df[f'Ticket{i}'] = ticket[:, i]\n",
      "C:\\Users\\pablo\\AppData\\Local\\Temp\\ipykernel_14528\\2248962618.py:22: PerformanceWarning: DataFrame is highly fragmented.  This is usually the result of calling `frame.insert` many times, which has poor performance.  Consider joining all columns at once using pd.concat(axis=1) instead. To get a de-fragmented frame, use `newframe = frame.copy()`\n",
      "  train_df[f'Ticket{i}'] = ticket[:, i]\n",
      "C:\\Users\\pablo\\AppData\\Local\\Temp\\ipykernel_14528\\2248962618.py:22: PerformanceWarning: DataFrame is highly fragmented.  This is usually the result of calling `frame.insert` many times, which has poor performance.  Consider joining all columns at once using pd.concat(axis=1) instead. To get a de-fragmented frame, use `newframe = frame.copy()`\n",
      "  train_df[f'Ticket{i}'] = ticket[:, i]\n",
      "C:\\Users\\pablo\\AppData\\Local\\Temp\\ipykernel_14528\\2248962618.py:22: PerformanceWarning: DataFrame is highly fragmented.  This is usually the result of calling `frame.insert` many times, which has poor performance.  Consider joining all columns at once using pd.concat(axis=1) instead. To get a de-fragmented frame, use `newframe = frame.copy()`\n",
      "  train_df[f'Ticket{i}'] = ticket[:, i]\n",
      "C:\\Users\\pablo\\AppData\\Local\\Temp\\ipykernel_14528\\2248962618.py:22: PerformanceWarning: DataFrame is highly fragmented.  This is usually the result of calling `frame.insert` many times, which has poor performance.  Consider joining all columns at once using pd.concat(axis=1) instead. To get a de-fragmented frame, use `newframe = frame.copy()`\n",
      "  train_df[f'Ticket{i}'] = ticket[:, i]\n",
      "C:\\Users\\pablo\\AppData\\Local\\Temp\\ipykernel_14528\\2248962618.py:22: PerformanceWarning: DataFrame is highly fragmented.  This is usually the result of calling `frame.insert` many times, which has poor performance.  Consider joining all columns at once using pd.concat(axis=1) instead. To get a de-fragmented frame, use `newframe = frame.copy()`\n",
      "  train_df[f'Ticket{i}'] = ticket[:, i]\n",
      "C:\\Users\\pablo\\AppData\\Local\\Temp\\ipykernel_14528\\2248962618.py:22: PerformanceWarning: DataFrame is highly fragmented.  This is usually the result of calling `frame.insert` many times, which has poor performance.  Consider joining all columns at once using pd.concat(axis=1) instead. To get a de-fragmented frame, use `newframe = frame.copy()`\n",
      "  train_df[f'Ticket{i}'] = ticket[:, i]\n",
      "C:\\Users\\pablo\\AppData\\Local\\Temp\\ipykernel_14528\\2248962618.py:22: PerformanceWarning: DataFrame is highly fragmented.  This is usually the result of calling `frame.insert` many times, which has poor performance.  Consider joining all columns at once using pd.concat(axis=1) instead. To get a de-fragmented frame, use `newframe = frame.copy()`\n",
      "  train_df[f'Ticket{i}'] = ticket[:, i]\n",
      "C:\\Users\\pablo\\AppData\\Local\\Temp\\ipykernel_14528\\2248962618.py:22: PerformanceWarning: DataFrame is highly fragmented.  This is usually the result of calling `frame.insert` many times, which has poor performance.  Consider joining all columns at once using pd.concat(axis=1) instead. To get a de-fragmented frame, use `newframe = frame.copy()`\n",
      "  train_df[f'Ticket{i}'] = ticket[:, i]\n",
      "C:\\Users\\pablo\\AppData\\Local\\Temp\\ipykernel_14528\\2248962618.py:22: PerformanceWarning: DataFrame is highly fragmented.  This is usually the result of calling `frame.insert` many times, which has poor performance.  Consider joining all columns at once using pd.concat(axis=1) instead. To get a de-fragmented frame, use `newframe = frame.copy()`\n",
      "  train_df[f'Ticket{i}'] = ticket[:, i]\n",
      "C:\\Users\\pablo\\AppData\\Local\\Temp\\ipykernel_14528\\2248962618.py:22: PerformanceWarning: DataFrame is highly fragmented.  This is usually the result of calling `frame.insert` many times, which has poor performance.  Consider joining all columns at once using pd.concat(axis=1) instead. To get a de-fragmented frame, use `newframe = frame.copy()`\n",
      "  train_df[f'Ticket{i}'] = ticket[:, i]\n"
     ]
    },
    {
     "name": "stderr",
     "output_type": "stream",
     "text": [
      "C:\\Users\\pablo\\AppData\\Local\\Temp\\ipykernel_14528\\2248962618.py:22: PerformanceWarning: DataFrame is highly fragmented.  This is usually the result of calling `frame.insert` many times, which has poor performance.  Consider joining all columns at once using pd.concat(axis=1) instead. To get a de-fragmented frame, use `newframe = frame.copy()`\n",
      "  train_df[f'Ticket{i}'] = ticket[:, i]\n",
      "C:\\Users\\pablo\\AppData\\Local\\Temp\\ipykernel_14528\\2248962618.py:22: PerformanceWarning: DataFrame is highly fragmented.  This is usually the result of calling `frame.insert` many times, which has poor performance.  Consider joining all columns at once using pd.concat(axis=1) instead. To get a de-fragmented frame, use `newframe = frame.copy()`\n",
      "  train_df[f'Ticket{i}'] = ticket[:, i]\n",
      "C:\\Users\\pablo\\AppData\\Local\\Temp\\ipykernel_14528\\2248962618.py:22: PerformanceWarning: DataFrame is highly fragmented.  This is usually the result of calling `frame.insert` many times, which has poor performance.  Consider joining all columns at once using pd.concat(axis=1) instead. To get a de-fragmented frame, use `newframe = frame.copy()`\n",
      "  train_df[f'Ticket{i}'] = ticket[:, i]\n",
      "C:\\Users\\pablo\\AppData\\Local\\Temp\\ipykernel_14528\\2248962618.py:22: PerformanceWarning: DataFrame is highly fragmented.  This is usually the result of calling `frame.insert` many times, which has poor performance.  Consider joining all columns at once using pd.concat(axis=1) instead. To get a de-fragmented frame, use `newframe = frame.copy()`\n",
      "  train_df[f'Ticket{i}'] = ticket[:, i]\n",
      "C:\\Users\\pablo\\AppData\\Local\\Temp\\ipykernel_14528\\2248962618.py:22: PerformanceWarning: DataFrame is highly fragmented.  This is usually the result of calling `frame.insert` many times, which has poor performance.  Consider joining all columns at once using pd.concat(axis=1) instead. To get a de-fragmented frame, use `newframe = frame.copy()`\n",
      "  train_df[f'Ticket{i}'] = ticket[:, i]\n",
      "C:\\Users\\pablo\\AppData\\Local\\Temp\\ipykernel_14528\\2248962618.py:22: PerformanceWarning: DataFrame is highly fragmented.  This is usually the result of calling `frame.insert` many times, which has poor performance.  Consider joining all columns at once using pd.concat(axis=1) instead. To get a de-fragmented frame, use `newframe = frame.copy()`\n",
      "  train_df[f'Ticket{i}'] = ticket[:, i]\n",
      "C:\\Users\\pablo\\AppData\\Local\\Temp\\ipykernel_14528\\2248962618.py:22: PerformanceWarning: DataFrame is highly fragmented.  This is usually the result of calling `frame.insert` many times, which has poor performance.  Consider joining all columns at once using pd.concat(axis=1) instead. To get a de-fragmented frame, use `newframe = frame.copy()`\n",
      "  train_df[f'Ticket{i}'] = ticket[:, i]\n",
      "C:\\Users\\pablo\\AppData\\Local\\Temp\\ipykernel_14528\\2248962618.py:22: PerformanceWarning: DataFrame is highly fragmented.  This is usually the result of calling `frame.insert` many times, which has poor performance.  Consider joining all columns at once using pd.concat(axis=1) instead. To get a de-fragmented frame, use `newframe = frame.copy()`\n",
      "  train_df[f'Ticket{i}'] = ticket[:, i]\n",
      "C:\\Users\\pablo\\AppData\\Local\\Temp\\ipykernel_14528\\2248962618.py:22: PerformanceWarning: DataFrame is highly fragmented.  This is usually the result of calling `frame.insert` many times, which has poor performance.  Consider joining all columns at once using pd.concat(axis=1) instead. To get a de-fragmented frame, use `newframe = frame.copy()`\n",
      "  train_df[f'Ticket{i}'] = ticket[:, i]\n",
      "C:\\Users\\pablo\\AppData\\Local\\Temp\\ipykernel_14528\\2248962618.py:22: PerformanceWarning: DataFrame is highly fragmented.  This is usually the result of calling `frame.insert` many times, which has poor performance.  Consider joining all columns at once using pd.concat(axis=1) instead. To get a de-fragmented frame, use `newframe = frame.copy()`\n",
      "  train_df[f'Ticket{i}'] = ticket[:, i]\n",
      "C:\\Users\\pablo\\AppData\\Local\\Temp\\ipykernel_14528\\2248962618.py:22: PerformanceWarning: DataFrame is highly fragmented.  This is usually the result of calling `frame.insert` many times, which has poor performance.  Consider joining all columns at once using pd.concat(axis=1) instead. To get a de-fragmented frame, use `newframe = frame.copy()`\n",
      "  train_df[f'Ticket{i}'] = ticket[:, i]\n",
      "C:\\Users\\pablo\\AppData\\Local\\Temp\\ipykernel_14528\\2248962618.py:22: PerformanceWarning: DataFrame is highly fragmented.  This is usually the result of calling `frame.insert` many times, which has poor performance.  Consider joining all columns at once using pd.concat(axis=1) instead. To get a de-fragmented frame, use `newframe = frame.copy()`\n",
      "  train_df[f'Ticket{i}'] = ticket[:, i]\n",
      "C:\\Users\\pablo\\AppData\\Local\\Temp\\ipykernel_14528\\2248962618.py:22: PerformanceWarning: DataFrame is highly fragmented.  This is usually the result of calling `frame.insert` many times, which has poor performance.  Consider joining all columns at once using pd.concat(axis=1) instead. To get a de-fragmented frame, use `newframe = frame.copy()`\n",
      "  train_df[f'Ticket{i}'] = ticket[:, i]\n",
      "C:\\Users\\pablo\\AppData\\Local\\Temp\\ipykernel_14528\\2248962618.py:22: PerformanceWarning: DataFrame is highly fragmented.  This is usually the result of calling `frame.insert` many times, which has poor performance.  Consider joining all columns at once using pd.concat(axis=1) instead. To get a de-fragmented frame, use `newframe = frame.copy()`\n",
      "  train_df[f'Ticket{i}'] = ticket[:, i]\n",
      "C:\\Users\\pablo\\AppData\\Local\\Temp\\ipykernel_14528\\2248962618.py:22: PerformanceWarning: DataFrame is highly fragmented.  This is usually the result of calling `frame.insert` many times, which has poor performance.  Consider joining all columns at once using pd.concat(axis=1) instead. To get a de-fragmented frame, use `newframe = frame.copy()`\n",
      "  train_df[f'Ticket{i}'] = ticket[:, i]\n",
      "C:\\Users\\pablo\\AppData\\Local\\Temp\\ipykernel_14528\\2248962618.py:22: PerformanceWarning: DataFrame is highly fragmented.  This is usually the result of calling `frame.insert` many times, which has poor performance.  Consider joining all columns at once using pd.concat(axis=1) instead. To get a de-fragmented frame, use `newframe = frame.copy()`\n",
      "  train_df[f'Ticket{i}'] = ticket[:, i]\n",
      "C:\\Users\\pablo\\AppData\\Local\\Temp\\ipykernel_14528\\2248962618.py:22: PerformanceWarning: DataFrame is highly fragmented.  This is usually the result of calling `frame.insert` many times, which has poor performance.  Consider joining all columns at once using pd.concat(axis=1) instead. To get a de-fragmented frame, use `newframe = frame.copy()`\n",
      "  train_df[f'Ticket{i}'] = ticket[:, i]\n",
      "C:\\Users\\pablo\\AppData\\Local\\Temp\\ipykernel_14528\\2248962618.py:22: PerformanceWarning: DataFrame is highly fragmented.  This is usually the result of calling `frame.insert` many times, which has poor performance.  Consider joining all columns at once using pd.concat(axis=1) instead. To get a de-fragmented frame, use `newframe = frame.copy()`\n",
      "  train_df[f'Ticket{i}'] = ticket[:, i]\n",
      "C:\\Users\\pablo\\AppData\\Local\\Temp\\ipykernel_14528\\2248962618.py:22: PerformanceWarning: DataFrame is highly fragmented.  This is usually the result of calling `frame.insert` many times, which has poor performance.  Consider joining all columns at once using pd.concat(axis=1) instead. To get a de-fragmented frame, use `newframe = frame.copy()`\n",
      "  train_df[f'Ticket{i}'] = ticket[:, i]\n",
      "C:\\Users\\pablo\\AppData\\Local\\Temp\\ipykernel_14528\\2248962618.py:22: PerformanceWarning: DataFrame is highly fragmented.  This is usually the result of calling `frame.insert` many times, which has poor performance.  Consider joining all columns at once using pd.concat(axis=1) instead. To get a de-fragmented frame, use `newframe = frame.copy()`\n",
      "  train_df[f'Ticket{i}'] = ticket[:, i]\n",
      "C:\\Users\\pablo\\AppData\\Local\\Temp\\ipykernel_14528\\2248962618.py:22: PerformanceWarning: DataFrame is highly fragmented.  This is usually the result of calling `frame.insert` many times, which has poor performance.  Consider joining all columns at once using pd.concat(axis=1) instead. To get a de-fragmented frame, use `newframe = frame.copy()`\n",
      "  train_df[f'Ticket{i}'] = ticket[:, i]\n",
      "C:\\Users\\pablo\\AppData\\Local\\Temp\\ipykernel_14528\\2248962618.py:22: PerformanceWarning: DataFrame is highly fragmented.  This is usually the result of calling `frame.insert` many times, which has poor performance.  Consider joining all columns at once using pd.concat(axis=1) instead. To get a de-fragmented frame, use `newframe = frame.copy()`\n",
      "  train_df[f'Ticket{i}'] = ticket[:, i]\n",
      "C:\\Users\\pablo\\AppData\\Local\\Temp\\ipykernel_14528\\2248962618.py:22: PerformanceWarning: DataFrame is highly fragmented.  This is usually the result of calling `frame.insert` many times, which has poor performance.  Consider joining all columns at once using pd.concat(axis=1) instead. To get a de-fragmented frame, use `newframe = frame.copy()`\n",
      "  train_df[f'Ticket{i}'] = ticket[:, i]\n"
     ]
    },
    {
     "name": "stderr",
     "output_type": "stream",
     "text": [
      "C:\\Users\\pablo\\AppData\\Local\\Temp\\ipykernel_14528\\2248962618.py:22: PerformanceWarning: DataFrame is highly fragmented.  This is usually the result of calling `frame.insert` many times, which has poor performance.  Consider joining all columns at once using pd.concat(axis=1) instead. To get a de-fragmented frame, use `newframe = frame.copy()`\n",
      "  train_df[f'Ticket{i}'] = ticket[:, i]\n",
      "C:\\Users\\pablo\\AppData\\Local\\Temp\\ipykernel_14528\\2248962618.py:22: PerformanceWarning: DataFrame is highly fragmented.  This is usually the result of calling `frame.insert` many times, which has poor performance.  Consider joining all columns at once using pd.concat(axis=1) instead. To get a de-fragmented frame, use `newframe = frame.copy()`\n",
      "  train_df[f'Ticket{i}'] = ticket[:, i]\n",
      "C:\\Users\\pablo\\AppData\\Local\\Temp\\ipykernel_14528\\2248962618.py:22: PerformanceWarning: DataFrame is highly fragmented.  This is usually the result of calling `frame.insert` many times, which has poor performance.  Consider joining all columns at once using pd.concat(axis=1) instead. To get a de-fragmented frame, use `newframe = frame.copy()`\n",
      "  train_df[f'Ticket{i}'] = ticket[:, i]\n",
      "C:\\Users\\pablo\\AppData\\Local\\Temp\\ipykernel_14528\\2248962618.py:22: PerformanceWarning: DataFrame is highly fragmented.  This is usually the result of calling `frame.insert` many times, which has poor performance.  Consider joining all columns at once using pd.concat(axis=1) instead. To get a de-fragmented frame, use `newframe = frame.copy()`\n",
      "  train_df[f'Ticket{i}'] = ticket[:, i]\n",
      "C:\\Users\\pablo\\AppData\\Local\\Temp\\ipykernel_14528\\2248962618.py:22: PerformanceWarning: DataFrame is highly fragmented.  This is usually the result of calling `frame.insert` many times, which has poor performance.  Consider joining all columns at once using pd.concat(axis=1) instead. To get a de-fragmented frame, use `newframe = frame.copy()`\n",
      "  train_df[f'Ticket{i}'] = ticket[:, i]\n",
      "C:\\Users\\pablo\\AppData\\Local\\Temp\\ipykernel_14528\\2248962618.py:22: PerformanceWarning: DataFrame is highly fragmented.  This is usually the result of calling `frame.insert` many times, which has poor performance.  Consider joining all columns at once using pd.concat(axis=1) instead. To get a de-fragmented frame, use `newframe = frame.copy()`\n",
      "  train_df[f'Ticket{i}'] = ticket[:, i]\n",
      "C:\\Users\\pablo\\AppData\\Local\\Temp\\ipykernel_14528\\2248962618.py:22: PerformanceWarning: DataFrame is highly fragmented.  This is usually the result of calling `frame.insert` many times, which has poor performance.  Consider joining all columns at once using pd.concat(axis=1) instead. To get a de-fragmented frame, use `newframe = frame.copy()`\n",
      "  train_df[f'Ticket{i}'] = ticket[:, i]\n",
      "C:\\Users\\pablo\\AppData\\Local\\Temp\\ipykernel_14528\\2248962618.py:22: PerformanceWarning: DataFrame is highly fragmented.  This is usually the result of calling `frame.insert` many times, which has poor performance.  Consider joining all columns at once using pd.concat(axis=1) instead. To get a de-fragmented frame, use `newframe = frame.copy()`\n",
      "  train_df[f'Ticket{i}'] = ticket[:, i]\n",
      "C:\\Users\\pablo\\AppData\\Local\\Temp\\ipykernel_14528\\2248962618.py:22: PerformanceWarning: DataFrame is highly fragmented.  This is usually the result of calling `frame.insert` many times, which has poor performance.  Consider joining all columns at once using pd.concat(axis=1) instead. To get a de-fragmented frame, use `newframe = frame.copy()`\n",
      "  train_df[f'Ticket{i}'] = ticket[:, i]\n",
      "C:\\Users\\pablo\\AppData\\Local\\Temp\\ipykernel_14528\\2248962618.py:22: PerformanceWarning: DataFrame is highly fragmented.  This is usually the result of calling `frame.insert` many times, which has poor performance.  Consider joining all columns at once using pd.concat(axis=1) instead. To get a de-fragmented frame, use `newframe = frame.copy()`\n",
      "  train_df[f'Ticket{i}'] = ticket[:, i]\n",
      "C:\\Users\\pablo\\AppData\\Local\\Temp\\ipykernel_14528\\2248962618.py:22: PerformanceWarning: DataFrame is highly fragmented.  This is usually the result of calling `frame.insert` many times, which has poor performance.  Consider joining all columns at once using pd.concat(axis=1) instead. To get a de-fragmented frame, use `newframe = frame.copy()`\n",
      "  train_df[f'Ticket{i}'] = ticket[:, i]\n",
      "C:\\Users\\pablo\\AppData\\Local\\Temp\\ipykernel_14528\\2248962618.py:22: PerformanceWarning: DataFrame is highly fragmented.  This is usually the result of calling `frame.insert` many times, which has poor performance.  Consider joining all columns at once using pd.concat(axis=1) instead. To get a de-fragmented frame, use `newframe = frame.copy()`\n",
      "  train_df[f'Ticket{i}'] = ticket[:, i]\n",
      "C:\\Users\\pablo\\AppData\\Local\\Temp\\ipykernel_14528\\2248962618.py:22: PerformanceWarning: DataFrame is highly fragmented.  This is usually the result of calling `frame.insert` many times, which has poor performance.  Consider joining all columns at once using pd.concat(axis=1) instead. To get a de-fragmented frame, use `newframe = frame.copy()`\n",
      "  train_df[f'Ticket{i}'] = ticket[:, i]\n",
      "C:\\Users\\pablo\\AppData\\Local\\Temp\\ipykernel_14528\\2248962618.py:22: PerformanceWarning: DataFrame is highly fragmented.  This is usually the result of calling `frame.insert` many times, which has poor performance.  Consider joining all columns at once using pd.concat(axis=1) instead. To get a de-fragmented frame, use `newframe = frame.copy()`\n",
      "  train_df[f'Ticket{i}'] = ticket[:, i]\n",
      "C:\\Users\\pablo\\AppData\\Local\\Temp\\ipykernel_14528\\2248962618.py:22: PerformanceWarning: DataFrame is highly fragmented.  This is usually the result of calling `frame.insert` many times, which has poor performance.  Consider joining all columns at once using pd.concat(axis=1) instead. To get a de-fragmented frame, use `newframe = frame.copy()`\n",
      "  train_df[f'Ticket{i}'] = ticket[:, i]\n",
      "C:\\Users\\pablo\\AppData\\Local\\Temp\\ipykernel_14528\\2248962618.py:22: PerformanceWarning: DataFrame is highly fragmented.  This is usually the result of calling `frame.insert` many times, which has poor performance.  Consider joining all columns at once using pd.concat(axis=1) instead. To get a de-fragmented frame, use `newframe = frame.copy()`\n",
      "  train_df[f'Ticket{i}'] = ticket[:, i]\n",
      "C:\\Users\\pablo\\AppData\\Local\\Temp\\ipykernel_14528\\2248962618.py:22: PerformanceWarning: DataFrame is highly fragmented.  This is usually the result of calling `frame.insert` many times, which has poor performance.  Consider joining all columns at once using pd.concat(axis=1) instead. To get a de-fragmented frame, use `newframe = frame.copy()`\n",
      "  train_df[f'Ticket{i}'] = ticket[:, i]\n",
      "C:\\Users\\pablo\\AppData\\Local\\Temp\\ipykernel_14528\\2248962618.py:22: PerformanceWarning: DataFrame is highly fragmented.  This is usually the result of calling `frame.insert` many times, which has poor performance.  Consider joining all columns at once using pd.concat(axis=1) instead. To get a de-fragmented frame, use `newframe = frame.copy()`\n",
      "  train_df[f'Ticket{i}'] = ticket[:, i]\n",
      "C:\\Users\\pablo\\AppData\\Local\\Temp\\ipykernel_14528\\2248962618.py:22: PerformanceWarning: DataFrame is highly fragmented.  This is usually the result of calling `frame.insert` many times, which has poor performance.  Consider joining all columns at once using pd.concat(axis=1) instead. To get a de-fragmented frame, use `newframe = frame.copy()`\n",
      "  train_df[f'Ticket{i}'] = ticket[:, i]\n",
      "C:\\Users\\pablo\\AppData\\Local\\Temp\\ipykernel_14528\\2248962618.py:22: PerformanceWarning: DataFrame is highly fragmented.  This is usually the result of calling `frame.insert` many times, which has poor performance.  Consider joining all columns at once using pd.concat(axis=1) instead. To get a de-fragmented frame, use `newframe = frame.copy()`\n",
      "  train_df[f'Ticket{i}'] = ticket[:, i]\n",
      "C:\\Users\\pablo\\AppData\\Local\\Temp\\ipykernel_14528\\2248962618.py:22: PerformanceWarning: DataFrame is highly fragmented.  This is usually the result of calling `frame.insert` many times, which has poor performance.  Consider joining all columns at once using pd.concat(axis=1) instead. To get a de-fragmented frame, use `newframe = frame.copy()`\n",
      "  train_df[f'Ticket{i}'] = ticket[:, i]\n",
      "C:\\Users\\pablo\\AppData\\Local\\Temp\\ipykernel_14528\\2248962618.py:22: PerformanceWarning: DataFrame is highly fragmented.  This is usually the result of calling `frame.insert` many times, which has poor performance.  Consider joining all columns at once using pd.concat(axis=1) instead. To get a de-fragmented frame, use `newframe = frame.copy()`\n",
      "  train_df[f'Ticket{i}'] = ticket[:, i]\n",
      "C:\\Users\\pablo\\AppData\\Local\\Temp\\ipykernel_14528\\2248962618.py:22: PerformanceWarning: DataFrame is highly fragmented.  This is usually the result of calling `frame.insert` many times, which has poor performance.  Consider joining all columns at once using pd.concat(axis=1) instead. To get a de-fragmented frame, use `newframe = frame.copy()`\n",
      "  train_df[f'Ticket{i}'] = ticket[:, i]\n",
      "C:\\Users\\pablo\\AppData\\Local\\Temp\\ipykernel_14528\\2248962618.py:22: PerformanceWarning: DataFrame is highly fragmented.  This is usually the result of calling `frame.insert` many times, which has poor performance.  Consider joining all columns at once using pd.concat(axis=1) instead. To get a de-fragmented frame, use `newframe = frame.copy()`\n",
      "  train_df[f'Ticket{i}'] = ticket[:, i]\n",
      "C:\\Users\\pablo\\AppData\\Local\\Temp\\ipykernel_14528\\2248962618.py:22: PerformanceWarning: DataFrame is highly fragmented.  This is usually the result of calling `frame.insert` many times, which has poor performance.  Consider joining all columns at once using pd.concat(axis=1) instead. To get a de-fragmented frame, use `newframe = frame.copy()`\n",
      "  train_df[f'Ticket{i}'] = ticket[:, i]\n",
      "C:\\Users\\pablo\\AppData\\Local\\Temp\\ipykernel_14528\\2248962618.py:22: PerformanceWarning: DataFrame is highly fragmented.  This is usually the result of calling `frame.insert` many times, which has poor performance.  Consider joining all columns at once using pd.concat(axis=1) instead. To get a de-fragmented frame, use `newframe = frame.copy()`\n",
      "  train_df[f'Ticket{i}'] = ticket[:, i]\n"
     ]
    },
    {
     "name": "stderr",
     "output_type": "stream",
     "text": [
      "C:\\Users\\pablo\\AppData\\Local\\Temp\\ipykernel_14528\\2248962618.py:22: PerformanceWarning: DataFrame is highly fragmented.  This is usually the result of calling `frame.insert` many times, which has poor performance.  Consider joining all columns at once using pd.concat(axis=1) instead. To get a de-fragmented frame, use `newframe = frame.copy()`\n",
      "  train_df[f'Ticket{i}'] = ticket[:, i]\n",
      "C:\\Users\\pablo\\AppData\\Local\\Temp\\ipykernel_14528\\2248962618.py:22: PerformanceWarning: DataFrame is highly fragmented.  This is usually the result of calling `frame.insert` many times, which has poor performance.  Consider joining all columns at once using pd.concat(axis=1) instead. To get a de-fragmented frame, use `newframe = frame.copy()`\n",
      "  train_df[f'Ticket{i}'] = ticket[:, i]\n",
      "C:\\Users\\pablo\\AppData\\Local\\Temp\\ipykernel_14528\\2248962618.py:22: PerformanceWarning: DataFrame is highly fragmented.  This is usually the result of calling `frame.insert` many times, which has poor performance.  Consider joining all columns at once using pd.concat(axis=1) instead. To get a de-fragmented frame, use `newframe = frame.copy()`\n",
      "  train_df[f'Ticket{i}'] = ticket[:, i]\n",
      "C:\\Users\\pablo\\AppData\\Local\\Temp\\ipykernel_14528\\2248962618.py:22: PerformanceWarning: DataFrame is highly fragmented.  This is usually the result of calling `frame.insert` many times, which has poor performance.  Consider joining all columns at once using pd.concat(axis=1) instead. To get a de-fragmented frame, use `newframe = frame.copy()`\n",
      "  train_df[f'Ticket{i}'] = ticket[:, i]\n",
      "C:\\Users\\pablo\\AppData\\Local\\Temp\\ipykernel_14528\\2248962618.py:22: PerformanceWarning: DataFrame is highly fragmented.  This is usually the result of calling `frame.insert` many times, which has poor performance.  Consider joining all columns at once using pd.concat(axis=1) instead. To get a de-fragmented frame, use `newframe = frame.copy()`\n",
      "  train_df[f'Ticket{i}'] = ticket[:, i]\n",
      "C:\\Users\\pablo\\AppData\\Local\\Temp\\ipykernel_14528\\2248962618.py:22: PerformanceWarning: DataFrame is highly fragmented.  This is usually the result of calling `frame.insert` many times, which has poor performance.  Consider joining all columns at once using pd.concat(axis=1) instead. To get a de-fragmented frame, use `newframe = frame.copy()`\n",
      "  train_df[f'Ticket{i}'] = ticket[:, i]\n",
      "C:\\Users\\pablo\\AppData\\Local\\Temp\\ipykernel_14528\\2248962618.py:22: PerformanceWarning: DataFrame is highly fragmented.  This is usually the result of calling `frame.insert` many times, which has poor performance.  Consider joining all columns at once using pd.concat(axis=1) instead. To get a de-fragmented frame, use `newframe = frame.copy()`\n",
      "  train_df[f'Ticket{i}'] = ticket[:, i]\n",
      "C:\\Users\\pablo\\AppData\\Local\\Temp\\ipykernel_14528\\2248962618.py:22: PerformanceWarning: DataFrame is highly fragmented.  This is usually the result of calling `frame.insert` many times, which has poor performance.  Consider joining all columns at once using pd.concat(axis=1) instead. To get a de-fragmented frame, use `newframe = frame.copy()`\n",
      "  train_df[f'Ticket{i}'] = ticket[:, i]\n",
      "C:\\Users\\pablo\\AppData\\Local\\Temp\\ipykernel_14528\\2248962618.py:22: PerformanceWarning: DataFrame is highly fragmented.  This is usually the result of calling `frame.insert` many times, which has poor performance.  Consider joining all columns at once using pd.concat(axis=1) instead. To get a de-fragmented frame, use `newframe = frame.copy()`\n",
      "  train_df[f'Ticket{i}'] = ticket[:, i]\n",
      "C:\\Users\\pablo\\AppData\\Local\\Temp\\ipykernel_14528\\2248962618.py:22: PerformanceWarning: DataFrame is highly fragmented.  This is usually the result of calling `frame.insert` many times, which has poor performance.  Consider joining all columns at once using pd.concat(axis=1) instead. To get a de-fragmented frame, use `newframe = frame.copy()`\n",
      "  train_df[f'Ticket{i}'] = ticket[:, i]\n",
      "C:\\Users\\pablo\\AppData\\Local\\Temp\\ipykernel_14528\\2248962618.py:22: PerformanceWarning: DataFrame is highly fragmented.  This is usually the result of calling `frame.insert` many times, which has poor performance.  Consider joining all columns at once using pd.concat(axis=1) instead. To get a de-fragmented frame, use `newframe = frame.copy()`\n",
      "  train_df[f'Ticket{i}'] = ticket[:, i]\n",
      "C:\\Users\\pablo\\AppData\\Local\\Temp\\ipykernel_14528\\2248962618.py:22: PerformanceWarning: DataFrame is highly fragmented.  This is usually the result of calling `frame.insert` many times, which has poor performance.  Consider joining all columns at once using pd.concat(axis=1) instead. To get a de-fragmented frame, use `newframe = frame.copy()`\n",
      "  train_df[f'Ticket{i}'] = ticket[:, i]\n",
      "C:\\Users\\pablo\\AppData\\Local\\Temp\\ipykernel_14528\\2248962618.py:22: PerformanceWarning: DataFrame is highly fragmented.  This is usually the result of calling `frame.insert` many times, which has poor performance.  Consider joining all columns at once using pd.concat(axis=1) instead. To get a de-fragmented frame, use `newframe = frame.copy()`\n",
      "  train_df[f'Ticket{i}'] = ticket[:, i]\n",
      "C:\\Users\\pablo\\AppData\\Local\\Temp\\ipykernel_14528\\2248962618.py:22: PerformanceWarning: DataFrame is highly fragmented.  This is usually the result of calling `frame.insert` many times, which has poor performance.  Consider joining all columns at once using pd.concat(axis=1) instead. To get a de-fragmented frame, use `newframe = frame.copy()`\n",
      "  train_df[f'Ticket{i}'] = ticket[:, i]\n",
      "C:\\Users\\pablo\\AppData\\Local\\Temp\\ipykernel_14528\\2248962618.py:22: PerformanceWarning: DataFrame is highly fragmented.  This is usually the result of calling `frame.insert` many times, which has poor performance.  Consider joining all columns at once using pd.concat(axis=1) instead. To get a de-fragmented frame, use `newframe = frame.copy()`\n",
      "  train_df[f'Ticket{i}'] = ticket[:, i]\n",
      "C:\\Users\\pablo\\AppData\\Local\\Temp\\ipykernel_14528\\2248962618.py:22: PerformanceWarning: DataFrame is highly fragmented.  This is usually the result of calling `frame.insert` many times, which has poor performance.  Consider joining all columns at once using pd.concat(axis=1) instead. To get a de-fragmented frame, use `newframe = frame.copy()`\n",
      "  train_df[f'Ticket{i}'] = ticket[:, i]\n",
      "C:\\Users\\pablo\\AppData\\Local\\Temp\\ipykernel_14528\\2248962618.py:22: PerformanceWarning: DataFrame is highly fragmented.  This is usually the result of calling `frame.insert` many times, which has poor performance.  Consider joining all columns at once using pd.concat(axis=1) instead. To get a de-fragmented frame, use `newframe = frame.copy()`\n",
      "  train_df[f'Ticket{i}'] = ticket[:, i]\n",
      "C:\\Users\\pablo\\AppData\\Local\\Temp\\ipykernel_14528\\2248962618.py:22: PerformanceWarning: DataFrame is highly fragmented.  This is usually the result of calling `frame.insert` many times, which has poor performance.  Consider joining all columns at once using pd.concat(axis=1) instead. To get a de-fragmented frame, use `newframe = frame.copy()`\n",
      "  train_df[f'Ticket{i}'] = ticket[:, i]\n",
      "C:\\Users\\pablo\\AppData\\Local\\Temp\\ipykernel_14528\\2248962618.py:22: PerformanceWarning: DataFrame is highly fragmented.  This is usually the result of calling `frame.insert` many times, which has poor performance.  Consider joining all columns at once using pd.concat(axis=1) instead. To get a de-fragmented frame, use `newframe = frame.copy()`\n",
      "  train_df[f'Ticket{i}'] = ticket[:, i]\n",
      "C:\\Users\\pablo\\AppData\\Local\\Temp\\ipykernel_14528\\2248962618.py:22: PerformanceWarning: DataFrame is highly fragmented.  This is usually the result of calling `frame.insert` many times, which has poor performance.  Consider joining all columns at once using pd.concat(axis=1) instead. To get a de-fragmented frame, use `newframe = frame.copy()`\n",
      "  train_df[f'Ticket{i}'] = ticket[:, i]\n",
      "C:\\Users\\pablo\\AppData\\Local\\Temp\\ipykernel_14528\\2248962618.py:22: PerformanceWarning: DataFrame is highly fragmented.  This is usually the result of calling `frame.insert` many times, which has poor performance.  Consider joining all columns at once using pd.concat(axis=1) instead. To get a de-fragmented frame, use `newframe = frame.copy()`\n",
      "  train_df[f'Ticket{i}'] = ticket[:, i]\n",
      "C:\\Users\\pablo\\AppData\\Local\\Temp\\ipykernel_14528\\2248962618.py:22: PerformanceWarning: DataFrame is highly fragmented.  This is usually the result of calling `frame.insert` many times, which has poor performance.  Consider joining all columns at once using pd.concat(axis=1) instead. To get a de-fragmented frame, use `newframe = frame.copy()`\n",
      "  train_df[f'Ticket{i}'] = ticket[:, i]\n",
      "C:\\Users\\pablo\\AppData\\Local\\Temp\\ipykernel_14528\\2248962618.py:22: PerformanceWarning: DataFrame is highly fragmented.  This is usually the result of calling `frame.insert` many times, which has poor performance.  Consider joining all columns at once using pd.concat(axis=1) instead. To get a de-fragmented frame, use `newframe = frame.copy()`\n",
      "  train_df[f'Ticket{i}'] = ticket[:, i]\n",
      "C:\\Users\\pablo\\AppData\\Local\\Temp\\ipykernel_14528\\2248962618.py:22: PerformanceWarning: DataFrame is highly fragmented.  This is usually the result of calling `frame.insert` many times, which has poor performance.  Consider joining all columns at once using pd.concat(axis=1) instead. To get a de-fragmented frame, use `newframe = frame.copy()`\n",
      "  train_df[f'Ticket{i}'] = ticket[:, i]\n",
      "C:\\Users\\pablo\\AppData\\Local\\Temp\\ipykernel_14528\\2248962618.py:22: PerformanceWarning: DataFrame is highly fragmented.  This is usually the result of calling `frame.insert` many times, which has poor performance.  Consider joining all columns at once using pd.concat(axis=1) instead. To get a de-fragmented frame, use `newframe = frame.copy()`\n",
      "  train_df[f'Ticket{i}'] = ticket[:, i]\n",
      "C:\\Users\\pablo\\AppData\\Local\\Temp\\ipykernel_14528\\2248962618.py:22: PerformanceWarning: DataFrame is highly fragmented.  This is usually the result of calling `frame.insert` many times, which has poor performance.  Consider joining all columns at once using pd.concat(axis=1) instead. To get a de-fragmented frame, use `newframe = frame.copy()`\n",
      "  train_df[f'Ticket{i}'] = ticket[:, i]\n",
      "C:\\Users\\pablo\\AppData\\Local\\Temp\\ipykernel_14528\\2248962618.py:22: PerformanceWarning: DataFrame is highly fragmented.  This is usually the result of calling `frame.insert` many times, which has poor performance.  Consider joining all columns at once using pd.concat(axis=1) instead. To get a de-fragmented frame, use `newframe = frame.copy()`\n",
      "  train_df[f'Ticket{i}'] = ticket[:, i]\n",
      "C:\\Users\\pablo\\AppData\\Local\\Temp\\ipykernel_14528\\2248962618.py:22: PerformanceWarning: DataFrame is highly fragmented.  This is usually the result of calling `frame.insert` many times, which has poor performance.  Consider joining all columns at once using pd.concat(axis=1) instead. To get a de-fragmented frame, use `newframe = frame.copy()`\n",
      "  train_df[f'Ticket{i}'] = ticket[:, i]\n",
      "C:\\Users\\pablo\\AppData\\Local\\Temp\\ipykernel_14528\\2248962618.py:22: PerformanceWarning: DataFrame is highly fragmented.  This is usually the result of calling `frame.insert` many times, which has poor performance.  Consider joining all columns at once using pd.concat(axis=1) instead. To get a de-fragmented frame, use `newframe = frame.copy()`\n",
      "  train_df[f'Ticket{i}'] = ticket[:, i]\n"
     ]
    },
    {
     "name": "stderr",
     "output_type": "stream",
     "text": [
      "C:\\Users\\pablo\\AppData\\Local\\Temp\\ipykernel_14528\\2248962618.py:22: PerformanceWarning: DataFrame is highly fragmented.  This is usually the result of calling `frame.insert` many times, which has poor performance.  Consider joining all columns at once using pd.concat(axis=1) instead. To get a de-fragmented frame, use `newframe = frame.copy()`\n",
      "  train_df[f'Ticket{i}'] = ticket[:, i]\n",
      "C:\\Users\\pablo\\AppData\\Local\\Temp\\ipykernel_14528\\2248962618.py:22: PerformanceWarning: DataFrame is highly fragmented.  This is usually the result of calling `frame.insert` many times, which has poor performance.  Consider joining all columns at once using pd.concat(axis=1) instead. To get a de-fragmented frame, use `newframe = frame.copy()`\n",
      "  train_df[f'Ticket{i}'] = ticket[:, i]\n",
      "C:\\Users\\pablo\\AppData\\Local\\Temp\\ipykernel_14528\\2248962618.py:22: PerformanceWarning: DataFrame is highly fragmented.  This is usually the result of calling `frame.insert` many times, which has poor performance.  Consider joining all columns at once using pd.concat(axis=1) instead. To get a de-fragmented frame, use `newframe = frame.copy()`\n",
      "  train_df[f'Ticket{i}'] = ticket[:, i]\n",
      "C:\\Users\\pablo\\AppData\\Local\\Temp\\ipykernel_14528\\2248962618.py:22: PerformanceWarning: DataFrame is highly fragmented.  This is usually the result of calling `frame.insert` many times, which has poor performance.  Consider joining all columns at once using pd.concat(axis=1) instead. To get a de-fragmented frame, use `newframe = frame.copy()`\n",
      "  train_df[f'Ticket{i}'] = ticket[:, i]\n",
      "C:\\Users\\pablo\\AppData\\Local\\Temp\\ipykernel_14528\\2248962618.py:22: PerformanceWarning: DataFrame is highly fragmented.  This is usually the result of calling `frame.insert` many times, which has poor performance.  Consider joining all columns at once using pd.concat(axis=1) instead. To get a de-fragmented frame, use `newframe = frame.copy()`\n",
      "  train_df[f'Ticket{i}'] = ticket[:, i]\n",
      "C:\\Users\\pablo\\AppData\\Local\\Temp\\ipykernel_14528\\2248962618.py:22: PerformanceWarning: DataFrame is highly fragmented.  This is usually the result of calling `frame.insert` many times, which has poor performance.  Consider joining all columns at once using pd.concat(axis=1) instead. To get a de-fragmented frame, use `newframe = frame.copy()`\n",
      "  train_df[f'Ticket{i}'] = ticket[:, i]\n",
      "C:\\Users\\pablo\\AppData\\Local\\Temp\\ipykernel_14528\\2248962618.py:22: PerformanceWarning: DataFrame is highly fragmented.  This is usually the result of calling `frame.insert` many times, which has poor performance.  Consider joining all columns at once using pd.concat(axis=1) instead. To get a de-fragmented frame, use `newframe = frame.copy()`\n",
      "  train_df[f'Ticket{i}'] = ticket[:, i]\n",
      "C:\\Users\\pablo\\AppData\\Local\\Temp\\ipykernel_14528\\2248962618.py:22: PerformanceWarning: DataFrame is highly fragmented.  This is usually the result of calling `frame.insert` many times, which has poor performance.  Consider joining all columns at once using pd.concat(axis=1) instead. To get a de-fragmented frame, use `newframe = frame.copy()`\n",
      "  train_df[f'Ticket{i}'] = ticket[:, i]\n",
      "C:\\Users\\pablo\\AppData\\Local\\Temp\\ipykernel_14528\\2248962618.py:22: PerformanceWarning: DataFrame is highly fragmented.  This is usually the result of calling `frame.insert` many times, which has poor performance.  Consider joining all columns at once using pd.concat(axis=1) instead. To get a de-fragmented frame, use `newframe = frame.copy()`\n",
      "  train_df[f'Ticket{i}'] = ticket[:, i]\n",
      "C:\\Users\\pablo\\AppData\\Local\\Temp\\ipykernel_14528\\2248962618.py:22: PerformanceWarning: DataFrame is highly fragmented.  This is usually the result of calling `frame.insert` many times, which has poor performance.  Consider joining all columns at once using pd.concat(axis=1) instead. To get a de-fragmented frame, use `newframe = frame.copy()`\n",
      "  train_df[f'Ticket{i}'] = ticket[:, i]\n",
      "C:\\Users\\pablo\\AppData\\Local\\Temp\\ipykernel_14528\\2248962618.py:22: PerformanceWarning: DataFrame is highly fragmented.  This is usually the result of calling `frame.insert` many times, which has poor performance.  Consider joining all columns at once using pd.concat(axis=1) instead. To get a de-fragmented frame, use `newframe = frame.copy()`\n",
      "  train_df[f'Ticket{i}'] = ticket[:, i]\n",
      "C:\\Users\\pablo\\AppData\\Local\\Temp\\ipykernel_14528\\2248962618.py:22: PerformanceWarning: DataFrame is highly fragmented.  This is usually the result of calling `frame.insert` many times, which has poor performance.  Consider joining all columns at once using pd.concat(axis=1) instead. To get a de-fragmented frame, use `newframe = frame.copy()`\n",
      "  train_df[f'Ticket{i}'] = ticket[:, i]\n",
      "C:\\Users\\pablo\\AppData\\Local\\Temp\\ipykernel_14528\\2248962618.py:22: PerformanceWarning: DataFrame is highly fragmented.  This is usually the result of calling `frame.insert` many times, which has poor performance.  Consider joining all columns at once using pd.concat(axis=1) instead. To get a de-fragmented frame, use `newframe = frame.copy()`\n",
      "  train_df[f'Ticket{i}'] = ticket[:, i]\n",
      "C:\\Users\\pablo\\AppData\\Local\\Temp\\ipykernel_14528\\2248962618.py:22: PerformanceWarning: DataFrame is highly fragmented.  This is usually the result of calling `frame.insert` many times, which has poor performance.  Consider joining all columns at once using pd.concat(axis=1) instead. To get a de-fragmented frame, use `newframe = frame.copy()`\n",
      "  train_df[f'Ticket{i}'] = ticket[:, i]\n",
      "C:\\Users\\pablo\\AppData\\Local\\Temp\\ipykernel_14528\\2248962618.py:22: PerformanceWarning: DataFrame is highly fragmented.  This is usually the result of calling `frame.insert` many times, which has poor performance.  Consider joining all columns at once using pd.concat(axis=1) instead. To get a de-fragmented frame, use `newframe = frame.copy()`\n",
      "  train_df[f'Ticket{i}'] = ticket[:, i]\n",
      "C:\\Users\\pablo\\AppData\\Local\\Temp\\ipykernel_14528\\2248962618.py:22: PerformanceWarning: DataFrame is highly fragmented.  This is usually the result of calling `frame.insert` many times, which has poor performance.  Consider joining all columns at once using pd.concat(axis=1) instead. To get a de-fragmented frame, use `newframe = frame.copy()`\n",
      "  train_df[f'Ticket{i}'] = ticket[:, i]\n",
      "C:\\Users\\pablo\\AppData\\Local\\Temp\\ipykernel_14528\\2248962618.py:22: PerformanceWarning: DataFrame is highly fragmented.  This is usually the result of calling `frame.insert` many times, which has poor performance.  Consider joining all columns at once using pd.concat(axis=1) instead. To get a de-fragmented frame, use `newframe = frame.copy()`\n",
      "  train_df[f'Ticket{i}'] = ticket[:, i]\n",
      "C:\\Users\\pablo\\AppData\\Local\\Temp\\ipykernel_14528\\2248962618.py:22: PerformanceWarning: DataFrame is highly fragmented.  This is usually the result of calling `frame.insert` many times, which has poor performance.  Consider joining all columns at once using pd.concat(axis=1) instead. To get a de-fragmented frame, use `newframe = frame.copy()`\n",
      "  train_df[f'Ticket{i}'] = ticket[:, i]\n",
      "C:\\Users\\pablo\\AppData\\Local\\Temp\\ipykernel_14528\\2248962618.py:22: PerformanceWarning: DataFrame is highly fragmented.  This is usually the result of calling `frame.insert` many times, which has poor performance.  Consider joining all columns at once using pd.concat(axis=1) instead. To get a de-fragmented frame, use `newframe = frame.copy()`\n",
      "  train_df[f'Ticket{i}'] = ticket[:, i]\n",
      "C:\\Users\\pablo\\AppData\\Local\\Temp\\ipykernel_14528\\2248962618.py:22: PerformanceWarning: DataFrame is highly fragmented.  This is usually the result of calling `frame.insert` many times, which has poor performance.  Consider joining all columns at once using pd.concat(axis=1) instead. To get a de-fragmented frame, use `newframe = frame.copy()`\n",
      "  train_df[f'Ticket{i}'] = ticket[:, i]\n",
      "C:\\Users\\pablo\\AppData\\Local\\Temp\\ipykernel_14528\\2248962618.py:22: PerformanceWarning: DataFrame is highly fragmented.  This is usually the result of calling `frame.insert` many times, which has poor performance.  Consider joining all columns at once using pd.concat(axis=1) instead. To get a de-fragmented frame, use `newframe = frame.copy()`\n",
      "  train_df[f'Ticket{i}'] = ticket[:, i]\n",
      "C:\\Users\\pablo\\AppData\\Local\\Temp\\ipykernel_14528\\2248962618.py:22: PerformanceWarning: DataFrame is highly fragmented.  This is usually the result of calling `frame.insert` many times, which has poor performance.  Consider joining all columns at once using pd.concat(axis=1) instead. To get a de-fragmented frame, use `newframe = frame.copy()`\n",
      "  train_df[f'Ticket{i}'] = ticket[:, i]\n"
     ]
    },
    {
     "name": "stderr",
     "output_type": "stream",
     "text": [
      "C:\\Users\\pablo\\AppData\\Local\\Temp\\ipykernel_14528\\2248962618.py:22: PerformanceWarning: DataFrame is highly fragmented.  This is usually the result of calling `frame.insert` many times, which has poor performance.  Consider joining all columns at once using pd.concat(axis=1) instead. To get a de-fragmented frame, use `newframe = frame.copy()`\n",
      "  train_df[f'Ticket{i}'] = ticket[:, i]\n",
      "C:\\Users\\pablo\\AppData\\Local\\Temp\\ipykernel_14528\\2248962618.py:22: PerformanceWarning: DataFrame is highly fragmented.  This is usually the result of calling `frame.insert` many times, which has poor performance.  Consider joining all columns at once using pd.concat(axis=1) instead. To get a de-fragmented frame, use `newframe = frame.copy()`\n",
      "  train_df[f'Ticket{i}'] = ticket[:, i]\n",
      "C:\\Users\\pablo\\AppData\\Local\\Temp\\ipykernel_14528\\2248962618.py:22: PerformanceWarning: DataFrame is highly fragmented.  This is usually the result of calling `frame.insert` many times, which has poor performance.  Consider joining all columns at once using pd.concat(axis=1) instead. To get a de-fragmented frame, use `newframe = frame.copy()`\n",
      "  train_df[f'Ticket{i}'] = ticket[:, i]\n",
      "C:\\Users\\pablo\\AppData\\Local\\Temp\\ipykernel_14528\\2248962618.py:22: PerformanceWarning: DataFrame is highly fragmented.  This is usually the result of calling `frame.insert` many times, which has poor performance.  Consider joining all columns at once using pd.concat(axis=1) instead. To get a de-fragmented frame, use `newframe = frame.copy()`\n",
      "  train_df[f'Ticket{i}'] = ticket[:, i]\n",
      "C:\\Users\\pablo\\AppData\\Local\\Temp\\ipykernel_14528\\2248962618.py:22: PerformanceWarning: DataFrame is highly fragmented.  This is usually the result of calling `frame.insert` many times, which has poor performance.  Consider joining all columns at once using pd.concat(axis=1) instead. To get a de-fragmented frame, use `newframe = frame.copy()`\n",
      "  train_df[f'Ticket{i}'] = ticket[:, i]\n",
      "C:\\Users\\pablo\\AppData\\Local\\Temp\\ipykernel_14528\\2248962618.py:22: PerformanceWarning: DataFrame is highly fragmented.  This is usually the result of calling `frame.insert` many times, which has poor performance.  Consider joining all columns at once using pd.concat(axis=1) instead. To get a de-fragmented frame, use `newframe = frame.copy()`\n",
      "  train_df[f'Ticket{i}'] = ticket[:, i]\n",
      "C:\\Users\\pablo\\AppData\\Local\\Temp\\ipykernel_14528\\2248962618.py:22: PerformanceWarning: DataFrame is highly fragmented.  This is usually the result of calling `frame.insert` many times, which has poor performance.  Consider joining all columns at once using pd.concat(axis=1) instead. To get a de-fragmented frame, use `newframe = frame.copy()`\n",
      "  train_df[f'Ticket{i}'] = ticket[:, i]\n",
      "C:\\Users\\pablo\\AppData\\Local\\Temp\\ipykernel_14528\\2248962618.py:22: PerformanceWarning: DataFrame is highly fragmented.  This is usually the result of calling `frame.insert` many times, which has poor performance.  Consider joining all columns at once using pd.concat(axis=1) instead. To get a de-fragmented frame, use `newframe = frame.copy()`\n",
      "  train_df[f'Ticket{i}'] = ticket[:, i]\n",
      "C:\\Users\\pablo\\AppData\\Local\\Temp\\ipykernel_14528\\2248962618.py:22: PerformanceWarning: DataFrame is highly fragmented.  This is usually the result of calling `frame.insert` many times, which has poor performance.  Consider joining all columns at once using pd.concat(axis=1) instead. To get a de-fragmented frame, use `newframe = frame.copy()`\n",
      "  train_df[f'Ticket{i}'] = ticket[:, i]\n",
      "C:\\Users\\pablo\\AppData\\Local\\Temp\\ipykernel_14528\\2248962618.py:22: PerformanceWarning: DataFrame is highly fragmented.  This is usually the result of calling `frame.insert` many times, which has poor performance.  Consider joining all columns at once using pd.concat(axis=1) instead. To get a de-fragmented frame, use `newframe = frame.copy()`\n",
      "  train_df[f'Ticket{i}'] = ticket[:, i]\n",
      "C:\\Users\\pablo\\AppData\\Local\\Temp\\ipykernel_14528\\2248962618.py:22: PerformanceWarning: DataFrame is highly fragmented.  This is usually the result of calling `frame.insert` many times, which has poor performance.  Consider joining all columns at once using pd.concat(axis=1) instead. To get a de-fragmented frame, use `newframe = frame.copy()`\n",
      "  train_df[f'Ticket{i}'] = ticket[:, i]\n",
      "C:\\Users\\pablo\\AppData\\Local\\Temp\\ipykernel_14528\\2248962618.py:22: PerformanceWarning: DataFrame is highly fragmented.  This is usually the result of calling `frame.insert` many times, which has poor performance.  Consider joining all columns at once using pd.concat(axis=1) instead. To get a de-fragmented frame, use `newframe = frame.copy()`\n",
      "  train_df[f'Ticket{i}'] = ticket[:, i]\n",
      "C:\\Users\\pablo\\AppData\\Local\\Temp\\ipykernel_14528\\2248962618.py:22: PerformanceWarning: DataFrame is highly fragmented.  This is usually the result of calling `frame.insert` many times, which has poor performance.  Consider joining all columns at once using pd.concat(axis=1) instead. To get a de-fragmented frame, use `newframe = frame.copy()`\n",
      "  train_df[f'Ticket{i}'] = ticket[:, i]\n",
      "C:\\Users\\pablo\\AppData\\Local\\Temp\\ipykernel_14528\\2248962618.py:22: PerformanceWarning: DataFrame is highly fragmented.  This is usually the result of calling `frame.insert` many times, which has poor performance.  Consider joining all columns at once using pd.concat(axis=1) instead. To get a de-fragmented frame, use `newframe = frame.copy()`\n",
      "  train_df[f'Ticket{i}'] = ticket[:, i]\n",
      "C:\\Users\\pablo\\AppData\\Local\\Temp\\ipykernel_14528\\2248962618.py:22: PerformanceWarning: DataFrame is highly fragmented.  This is usually the result of calling `frame.insert` many times, which has poor performance.  Consider joining all columns at once using pd.concat(axis=1) instead. To get a de-fragmented frame, use `newframe = frame.copy()`\n",
      "  train_df[f'Ticket{i}'] = ticket[:, i]\n",
      "C:\\Users\\pablo\\AppData\\Local\\Temp\\ipykernel_14528\\2248962618.py:22: PerformanceWarning: DataFrame is highly fragmented.  This is usually the result of calling `frame.insert` many times, which has poor performance.  Consider joining all columns at once using pd.concat(axis=1) instead. To get a de-fragmented frame, use `newframe = frame.copy()`\n",
      "  train_df[f'Ticket{i}'] = ticket[:, i]\n",
      "C:\\Users\\pablo\\AppData\\Local\\Temp\\ipykernel_14528\\2248962618.py:22: PerformanceWarning: DataFrame is highly fragmented.  This is usually the result of calling `frame.insert` many times, which has poor performance.  Consider joining all columns at once using pd.concat(axis=1) instead. To get a de-fragmented frame, use `newframe = frame.copy()`\n",
      "  train_df[f'Ticket{i}'] = ticket[:, i]\n",
      "C:\\Users\\pablo\\AppData\\Local\\Temp\\ipykernel_14528\\2248962618.py:22: PerformanceWarning: DataFrame is highly fragmented.  This is usually the result of calling `frame.insert` many times, which has poor performance.  Consider joining all columns at once using pd.concat(axis=1) instead. To get a de-fragmented frame, use `newframe = frame.copy()`\n",
      "  train_df[f'Ticket{i}'] = ticket[:, i]\n",
      "C:\\Users\\pablo\\AppData\\Local\\Temp\\ipykernel_14528\\2248962618.py:22: PerformanceWarning: DataFrame is highly fragmented.  This is usually the result of calling `frame.insert` many times, which has poor performance.  Consider joining all columns at once using pd.concat(axis=1) instead. To get a de-fragmented frame, use `newframe = frame.copy()`\n",
      "  train_df[f'Ticket{i}'] = ticket[:, i]\n",
      "C:\\Users\\pablo\\AppData\\Local\\Temp\\ipykernel_14528\\2248962618.py:22: PerformanceWarning: DataFrame is highly fragmented.  This is usually the result of calling `frame.insert` many times, which has poor performance.  Consider joining all columns at once using pd.concat(axis=1) instead. To get a de-fragmented frame, use `newframe = frame.copy()`\n",
      "  train_df[f'Ticket{i}'] = ticket[:, i]\n",
      "C:\\Users\\pablo\\AppData\\Local\\Temp\\ipykernel_14528\\2248962618.py:22: PerformanceWarning: DataFrame is highly fragmented.  This is usually the result of calling `frame.insert` many times, which has poor performance.  Consider joining all columns at once using pd.concat(axis=1) instead. To get a de-fragmented frame, use `newframe = frame.copy()`\n",
      "  train_df[f'Ticket{i}'] = ticket[:, i]\n",
      "C:\\Users\\pablo\\AppData\\Local\\Temp\\ipykernel_14528\\2248962618.py:22: PerformanceWarning: DataFrame is highly fragmented.  This is usually the result of calling `frame.insert` many times, which has poor performance.  Consider joining all columns at once using pd.concat(axis=1) instead. To get a de-fragmented frame, use `newframe = frame.copy()`\n",
      "  train_df[f'Ticket{i}'] = ticket[:, i]\n",
      "C:\\Users\\pablo\\AppData\\Local\\Temp\\ipykernel_14528\\2248962618.py:22: PerformanceWarning: DataFrame is highly fragmented.  This is usually the result of calling `frame.insert` many times, which has poor performance.  Consider joining all columns at once using pd.concat(axis=1) instead. To get a de-fragmented frame, use `newframe = frame.copy()`\n",
      "  train_df[f'Ticket{i}'] = ticket[:, i]\n",
      "C:\\Users\\pablo\\AppData\\Local\\Temp\\ipykernel_14528\\2248962618.py:22: PerformanceWarning: DataFrame is highly fragmented.  This is usually the result of calling `frame.insert` many times, which has poor performance.  Consider joining all columns at once using pd.concat(axis=1) instead. To get a de-fragmented frame, use `newframe = frame.copy()`\n",
      "  train_df[f'Ticket{i}'] = ticket[:, i]\n",
      "C:\\Users\\pablo\\AppData\\Local\\Temp\\ipykernel_14528\\2248962618.py:22: PerformanceWarning: DataFrame is highly fragmented.  This is usually the result of calling `frame.insert` many times, which has poor performance.  Consider joining all columns at once using pd.concat(axis=1) instead. To get a de-fragmented frame, use `newframe = frame.copy()`\n",
      "  train_df[f'Ticket{i}'] = ticket[:, i]\n",
      "C:\\Users\\pablo\\AppData\\Local\\Temp\\ipykernel_14528\\2248962618.py:22: PerformanceWarning: DataFrame is highly fragmented.  This is usually the result of calling `frame.insert` many times, which has poor performance.  Consider joining all columns at once using pd.concat(axis=1) instead. To get a de-fragmented frame, use `newframe = frame.copy()`\n",
      "  train_df[f'Ticket{i}'] = ticket[:, i]\n",
      "C:\\Users\\pablo\\AppData\\Local\\Temp\\ipykernel_14528\\2248962618.py:22: PerformanceWarning: DataFrame is highly fragmented.  This is usually the result of calling `frame.insert` many times, which has poor performance.  Consider joining all columns at once using pd.concat(axis=1) instead. To get a de-fragmented frame, use `newframe = frame.copy()`\n",
      "  train_df[f'Ticket{i}'] = ticket[:, i]\n",
      "C:\\Users\\pablo\\AppData\\Local\\Temp\\ipykernel_14528\\2248962618.py:22: PerformanceWarning: DataFrame is highly fragmented.  This is usually the result of calling `frame.insert` many times, which has poor performance.  Consider joining all columns at once using pd.concat(axis=1) instead. To get a de-fragmented frame, use `newframe = frame.copy()`\n",
      "  train_df[f'Ticket{i}'] = ticket[:, i]\n",
      "C:\\Users\\pablo\\AppData\\Local\\Temp\\ipykernel_14528\\2248962618.py:22: PerformanceWarning: DataFrame is highly fragmented.  This is usually the result of calling `frame.insert` many times, which has poor performance.  Consider joining all columns at once using pd.concat(axis=1) instead. To get a de-fragmented frame, use `newframe = frame.copy()`\n",
      "  train_df[f'Ticket{i}'] = ticket[:, i]\n",
      "C:\\Users\\pablo\\AppData\\Local\\Temp\\ipykernel_14528\\2248962618.py:22: PerformanceWarning: DataFrame is highly fragmented.  This is usually the result of calling `frame.insert` many times, which has poor performance.  Consider joining all columns at once using pd.concat(axis=1) instead. To get a de-fragmented frame, use `newframe = frame.copy()`\n",
      "  train_df[f'Ticket{i}'] = ticket[:, i]\n",
      "C:\\Users\\pablo\\AppData\\Local\\Temp\\ipykernel_14528\\2248962618.py:22: PerformanceWarning: DataFrame is highly fragmented.  This is usually the result of calling `frame.insert` many times, which has poor performance.  Consider joining all columns at once using pd.concat(axis=1) instead. To get a de-fragmented frame, use `newframe = frame.copy()`\n",
      "  train_df[f'Ticket{i}'] = ticket[:, i]\n"
     ]
    },
    {
     "name": "stderr",
     "output_type": "stream",
     "text": [
      "C:\\Users\\pablo\\AppData\\Local\\Temp\\ipykernel_14528\\2248962618.py:22: PerformanceWarning: DataFrame is highly fragmented.  This is usually the result of calling `frame.insert` many times, which has poor performance.  Consider joining all columns at once using pd.concat(axis=1) instead. To get a de-fragmented frame, use `newframe = frame.copy()`\n",
      "  train_df[f'Ticket{i}'] = ticket[:, i]\n",
      "C:\\Users\\pablo\\AppData\\Local\\Temp\\ipykernel_14528\\2248962618.py:22: PerformanceWarning: DataFrame is highly fragmented.  This is usually the result of calling `frame.insert` many times, which has poor performance.  Consider joining all columns at once using pd.concat(axis=1) instead. To get a de-fragmented frame, use `newframe = frame.copy()`\n",
      "  train_df[f'Ticket{i}'] = ticket[:, i]\n",
      "C:\\Users\\pablo\\AppData\\Local\\Temp\\ipykernel_14528\\2248962618.py:22: PerformanceWarning: DataFrame is highly fragmented.  This is usually the result of calling `frame.insert` many times, which has poor performance.  Consider joining all columns at once using pd.concat(axis=1) instead. To get a de-fragmented frame, use `newframe = frame.copy()`\n",
      "  train_df[f'Ticket{i}'] = ticket[:, i]\n",
      "C:\\Users\\pablo\\AppData\\Local\\Temp\\ipykernel_14528\\2248962618.py:22: PerformanceWarning: DataFrame is highly fragmented.  This is usually the result of calling `frame.insert` many times, which has poor performance.  Consider joining all columns at once using pd.concat(axis=1) instead. To get a de-fragmented frame, use `newframe = frame.copy()`\n",
      "  train_df[f'Ticket{i}'] = ticket[:, i]\n",
      "C:\\Users\\pablo\\AppData\\Local\\Temp\\ipykernel_14528\\2248962618.py:22: PerformanceWarning: DataFrame is highly fragmented.  This is usually the result of calling `frame.insert` many times, which has poor performance.  Consider joining all columns at once using pd.concat(axis=1) instead. To get a de-fragmented frame, use `newframe = frame.copy()`\n",
      "  train_df[f'Ticket{i}'] = ticket[:, i]\n",
      "C:\\Users\\pablo\\AppData\\Local\\Temp\\ipykernel_14528\\2248962618.py:22: PerformanceWarning: DataFrame is highly fragmented.  This is usually the result of calling `frame.insert` many times, which has poor performance.  Consider joining all columns at once using pd.concat(axis=1) instead. To get a de-fragmented frame, use `newframe = frame.copy()`\n",
      "  train_df[f'Ticket{i}'] = ticket[:, i]\n",
      "C:\\Users\\pablo\\AppData\\Local\\Temp\\ipykernel_14528\\2248962618.py:22: PerformanceWarning: DataFrame is highly fragmented.  This is usually the result of calling `frame.insert` many times, which has poor performance.  Consider joining all columns at once using pd.concat(axis=1) instead. To get a de-fragmented frame, use `newframe = frame.copy()`\n",
      "  train_df[f'Ticket{i}'] = ticket[:, i]\n",
      "C:\\Users\\pablo\\AppData\\Local\\Temp\\ipykernel_14528\\2248962618.py:22: PerformanceWarning: DataFrame is highly fragmented.  This is usually the result of calling `frame.insert` many times, which has poor performance.  Consider joining all columns at once using pd.concat(axis=1) instead. To get a de-fragmented frame, use `newframe = frame.copy()`\n",
      "  train_df[f'Ticket{i}'] = ticket[:, i]\n",
      "C:\\Users\\pablo\\AppData\\Local\\Temp\\ipykernel_14528\\2248962618.py:22: PerformanceWarning: DataFrame is highly fragmented.  This is usually the result of calling `frame.insert` many times, which has poor performance.  Consider joining all columns at once using pd.concat(axis=1) instead. To get a de-fragmented frame, use `newframe = frame.copy()`\n",
      "  train_df[f'Ticket{i}'] = ticket[:, i]\n",
      "C:\\Users\\pablo\\AppData\\Local\\Temp\\ipykernel_14528\\2248962618.py:22: PerformanceWarning: DataFrame is highly fragmented.  This is usually the result of calling `frame.insert` many times, which has poor performance.  Consider joining all columns at once using pd.concat(axis=1) instead. To get a de-fragmented frame, use `newframe = frame.copy()`\n",
      "  train_df[f'Ticket{i}'] = ticket[:, i]\n",
      "C:\\Users\\pablo\\AppData\\Local\\Temp\\ipykernel_14528\\2248962618.py:22: PerformanceWarning: DataFrame is highly fragmented.  This is usually the result of calling `frame.insert` many times, which has poor performance.  Consider joining all columns at once using pd.concat(axis=1) instead. To get a de-fragmented frame, use `newframe = frame.copy()`\n",
      "  train_df[f'Ticket{i}'] = ticket[:, i]\n",
      "C:\\Users\\pablo\\AppData\\Local\\Temp\\ipykernel_14528\\2248962618.py:22: PerformanceWarning: DataFrame is highly fragmented.  This is usually the result of calling `frame.insert` many times, which has poor performance.  Consider joining all columns at once using pd.concat(axis=1) instead. To get a de-fragmented frame, use `newframe = frame.copy()`\n",
      "  train_df[f'Ticket{i}'] = ticket[:, i]\n",
      "C:\\Users\\pablo\\AppData\\Local\\Temp\\ipykernel_14528\\2248962618.py:22: PerformanceWarning: DataFrame is highly fragmented.  This is usually the result of calling `frame.insert` many times, which has poor performance.  Consider joining all columns at once using pd.concat(axis=1) instead. To get a de-fragmented frame, use `newframe = frame.copy()`\n",
      "  train_df[f'Ticket{i}'] = ticket[:, i]\n",
      "C:\\Users\\pablo\\AppData\\Local\\Temp\\ipykernel_14528\\2248962618.py:22: PerformanceWarning: DataFrame is highly fragmented.  This is usually the result of calling `frame.insert` many times, which has poor performance.  Consider joining all columns at once using pd.concat(axis=1) instead. To get a de-fragmented frame, use `newframe = frame.copy()`\n",
      "  train_df[f'Ticket{i}'] = ticket[:, i]\n",
      "C:\\Users\\pablo\\AppData\\Local\\Temp\\ipykernel_14528\\2248962618.py:22: PerformanceWarning: DataFrame is highly fragmented.  This is usually the result of calling `frame.insert` many times, which has poor performance.  Consider joining all columns at once using pd.concat(axis=1) instead. To get a de-fragmented frame, use `newframe = frame.copy()`\n",
      "  train_df[f'Ticket{i}'] = ticket[:, i]\n",
      "C:\\Users\\pablo\\AppData\\Local\\Temp\\ipykernel_14528\\2248962618.py:22: PerformanceWarning: DataFrame is highly fragmented.  This is usually the result of calling `frame.insert` many times, which has poor performance.  Consider joining all columns at once using pd.concat(axis=1) instead. To get a de-fragmented frame, use `newframe = frame.copy()`\n",
      "  train_df[f'Ticket{i}'] = ticket[:, i]\n",
      "C:\\Users\\pablo\\AppData\\Local\\Temp\\ipykernel_14528\\2248962618.py:22: PerformanceWarning: DataFrame is highly fragmented.  This is usually the result of calling `frame.insert` many times, which has poor performance.  Consider joining all columns at once using pd.concat(axis=1) instead. To get a de-fragmented frame, use `newframe = frame.copy()`\n",
      "  train_df[f'Ticket{i}'] = ticket[:, i]\n",
      "C:\\Users\\pablo\\AppData\\Local\\Temp\\ipykernel_14528\\2248962618.py:22: PerformanceWarning: DataFrame is highly fragmented.  This is usually the result of calling `frame.insert` many times, which has poor performance.  Consider joining all columns at once using pd.concat(axis=1) instead. To get a de-fragmented frame, use `newframe = frame.copy()`\n",
      "  train_df[f'Ticket{i}'] = ticket[:, i]\n",
      "C:\\Users\\pablo\\AppData\\Local\\Temp\\ipykernel_14528\\2248962618.py:22: PerformanceWarning: DataFrame is highly fragmented.  This is usually the result of calling `frame.insert` many times, which has poor performance.  Consider joining all columns at once using pd.concat(axis=1) instead. To get a de-fragmented frame, use `newframe = frame.copy()`\n",
      "  train_df[f'Ticket{i}'] = ticket[:, i]\n",
      "C:\\Users\\pablo\\AppData\\Local\\Temp\\ipykernel_14528\\2248962618.py:22: PerformanceWarning: DataFrame is highly fragmented.  This is usually the result of calling `frame.insert` many times, which has poor performance.  Consider joining all columns at once using pd.concat(axis=1) instead. To get a de-fragmented frame, use `newframe = frame.copy()`\n",
      "  train_df[f'Ticket{i}'] = ticket[:, i]\n",
      "C:\\Users\\pablo\\AppData\\Local\\Temp\\ipykernel_14528\\2248962618.py:22: PerformanceWarning: DataFrame is highly fragmented.  This is usually the result of calling `frame.insert` many times, which has poor performance.  Consider joining all columns at once using pd.concat(axis=1) instead. To get a de-fragmented frame, use `newframe = frame.copy()`\n",
      "  train_df[f'Ticket{i}'] = ticket[:, i]\n",
      "C:\\Users\\pablo\\AppData\\Local\\Temp\\ipykernel_14528\\2248962618.py:22: PerformanceWarning: DataFrame is highly fragmented.  This is usually the result of calling `frame.insert` many times, which has poor performance.  Consider joining all columns at once using pd.concat(axis=1) instead. To get a de-fragmented frame, use `newframe = frame.copy()`\n",
      "  train_df[f'Ticket{i}'] = ticket[:, i]\n",
      "C:\\Users\\pablo\\AppData\\Local\\Temp\\ipykernel_14528\\2248962618.py:22: PerformanceWarning: DataFrame is highly fragmented.  This is usually the result of calling `frame.insert` many times, which has poor performance.  Consider joining all columns at once using pd.concat(axis=1) instead. To get a de-fragmented frame, use `newframe = frame.copy()`\n",
      "  train_df[f'Ticket{i}'] = ticket[:, i]\n"
     ]
    },
    {
     "name": "stderr",
     "output_type": "stream",
     "text": [
      "C:\\Users\\pablo\\AppData\\Local\\Temp\\ipykernel_14528\\2248962618.py:22: PerformanceWarning: DataFrame is highly fragmented.  This is usually the result of calling `frame.insert` many times, which has poor performance.  Consider joining all columns at once using pd.concat(axis=1) instead. To get a de-fragmented frame, use `newframe = frame.copy()`\n",
      "  train_df[f'Ticket{i}'] = ticket[:, i]\n",
      "C:\\Users\\pablo\\AppData\\Local\\Temp\\ipykernel_14528\\2248962618.py:22: PerformanceWarning: DataFrame is highly fragmented.  This is usually the result of calling `frame.insert` many times, which has poor performance.  Consider joining all columns at once using pd.concat(axis=1) instead. To get a de-fragmented frame, use `newframe = frame.copy()`\n",
      "  train_df[f'Ticket{i}'] = ticket[:, i]\n",
      "C:\\Users\\pablo\\AppData\\Local\\Temp\\ipykernel_14528\\2248962618.py:22: PerformanceWarning: DataFrame is highly fragmented.  This is usually the result of calling `frame.insert` many times, which has poor performance.  Consider joining all columns at once using pd.concat(axis=1) instead. To get a de-fragmented frame, use `newframe = frame.copy()`\n",
      "  train_df[f'Ticket{i}'] = ticket[:, i]\n",
      "C:\\Users\\pablo\\AppData\\Local\\Temp\\ipykernel_14528\\2248962618.py:22: PerformanceWarning: DataFrame is highly fragmented.  This is usually the result of calling `frame.insert` many times, which has poor performance.  Consider joining all columns at once using pd.concat(axis=1) instead. To get a de-fragmented frame, use `newframe = frame.copy()`\n",
      "  train_df[f'Ticket{i}'] = ticket[:, i]\n",
      "C:\\Users\\pablo\\AppData\\Local\\Temp\\ipykernel_14528\\2248962618.py:22: PerformanceWarning: DataFrame is highly fragmented.  This is usually the result of calling `frame.insert` many times, which has poor performance.  Consider joining all columns at once using pd.concat(axis=1) instead. To get a de-fragmented frame, use `newframe = frame.copy()`\n",
      "  train_df[f'Ticket{i}'] = ticket[:, i]\n",
      "C:\\Users\\pablo\\AppData\\Local\\Temp\\ipykernel_14528\\2248962618.py:22: PerformanceWarning: DataFrame is highly fragmented.  This is usually the result of calling `frame.insert` many times, which has poor performance.  Consider joining all columns at once using pd.concat(axis=1) instead. To get a de-fragmented frame, use `newframe = frame.copy()`\n",
      "  train_df[f'Ticket{i}'] = ticket[:, i]\n",
      "C:\\Users\\pablo\\AppData\\Local\\Temp\\ipykernel_14528\\2248962618.py:22: PerformanceWarning: DataFrame is highly fragmented.  This is usually the result of calling `frame.insert` many times, which has poor performance.  Consider joining all columns at once using pd.concat(axis=1) instead. To get a de-fragmented frame, use `newframe = frame.copy()`\n",
      "  train_df[f'Ticket{i}'] = ticket[:, i]\n",
      "C:\\Users\\pablo\\AppData\\Local\\Temp\\ipykernel_14528\\2248962618.py:22: PerformanceWarning: DataFrame is highly fragmented.  This is usually the result of calling `frame.insert` many times, which has poor performance.  Consider joining all columns at once using pd.concat(axis=1) instead. To get a de-fragmented frame, use `newframe = frame.copy()`\n",
      "  train_df[f'Ticket{i}'] = ticket[:, i]\n",
      "C:\\Users\\pablo\\AppData\\Local\\Temp\\ipykernel_14528\\2248962618.py:22: PerformanceWarning: DataFrame is highly fragmented.  This is usually the result of calling `frame.insert` many times, which has poor performance.  Consider joining all columns at once using pd.concat(axis=1) instead. To get a de-fragmented frame, use `newframe = frame.copy()`\n",
      "  train_df[f'Ticket{i}'] = ticket[:, i]\n",
      "C:\\Users\\pablo\\AppData\\Local\\Temp\\ipykernel_14528\\2248962618.py:22: PerformanceWarning: DataFrame is highly fragmented.  This is usually the result of calling `frame.insert` many times, which has poor performance.  Consider joining all columns at once using pd.concat(axis=1) instead. To get a de-fragmented frame, use `newframe = frame.copy()`\n",
      "  train_df[f'Ticket{i}'] = ticket[:, i]\n",
      "C:\\Users\\pablo\\AppData\\Local\\Temp\\ipykernel_14528\\2248962618.py:22: PerformanceWarning: DataFrame is highly fragmented.  This is usually the result of calling `frame.insert` many times, which has poor performance.  Consider joining all columns at once using pd.concat(axis=1) instead. To get a de-fragmented frame, use `newframe = frame.copy()`\n",
      "  train_df[f'Ticket{i}'] = ticket[:, i]\n",
      "C:\\Users\\pablo\\AppData\\Local\\Temp\\ipykernel_14528\\2248962618.py:22: PerformanceWarning: DataFrame is highly fragmented.  This is usually the result of calling `frame.insert` many times, which has poor performance.  Consider joining all columns at once using pd.concat(axis=1) instead. To get a de-fragmented frame, use `newframe = frame.copy()`\n",
      "  train_df[f'Ticket{i}'] = ticket[:, i]\n",
      "C:\\Users\\pablo\\AppData\\Local\\Temp\\ipykernel_14528\\2248962618.py:22: PerformanceWarning: DataFrame is highly fragmented.  This is usually the result of calling `frame.insert` many times, which has poor performance.  Consider joining all columns at once using pd.concat(axis=1) instead. To get a de-fragmented frame, use `newframe = frame.copy()`\n",
      "  train_df[f'Ticket{i}'] = ticket[:, i]\n",
      "C:\\Users\\pablo\\AppData\\Local\\Temp\\ipykernel_14528\\2248962618.py:22: PerformanceWarning: DataFrame is highly fragmented.  This is usually the result of calling `frame.insert` many times, which has poor performance.  Consider joining all columns at once using pd.concat(axis=1) instead. To get a de-fragmented frame, use `newframe = frame.copy()`\n",
      "  train_df[f'Ticket{i}'] = ticket[:, i]\n",
      "C:\\Users\\pablo\\AppData\\Local\\Temp\\ipykernel_14528\\2248962618.py:22: PerformanceWarning: DataFrame is highly fragmented.  This is usually the result of calling `frame.insert` many times, which has poor performance.  Consider joining all columns at once using pd.concat(axis=1) instead. To get a de-fragmented frame, use `newframe = frame.copy()`\n",
      "  train_df[f'Ticket{i}'] = ticket[:, i]\n",
      "C:\\Users\\pablo\\AppData\\Local\\Temp\\ipykernel_14528\\2248962618.py:22: PerformanceWarning: DataFrame is highly fragmented.  This is usually the result of calling `frame.insert` many times, which has poor performance.  Consider joining all columns at once using pd.concat(axis=1) instead. To get a de-fragmented frame, use `newframe = frame.copy()`\n",
      "  train_df[f'Ticket{i}'] = ticket[:, i]\n",
      "C:\\Users\\pablo\\AppData\\Local\\Temp\\ipykernel_14528\\2248962618.py:22: PerformanceWarning: DataFrame is highly fragmented.  This is usually the result of calling `frame.insert` many times, which has poor performance.  Consider joining all columns at once using pd.concat(axis=1) instead. To get a de-fragmented frame, use `newframe = frame.copy()`\n",
      "  train_df[f'Ticket{i}'] = ticket[:, i]\n",
      "C:\\Users\\pablo\\AppData\\Local\\Temp\\ipykernel_14528\\2248962618.py:22: PerformanceWarning: DataFrame is highly fragmented.  This is usually the result of calling `frame.insert` many times, which has poor performance.  Consider joining all columns at once using pd.concat(axis=1) instead. To get a de-fragmented frame, use `newframe = frame.copy()`\n",
      "  train_df[f'Ticket{i}'] = ticket[:, i]\n",
      "C:\\Users\\pablo\\AppData\\Local\\Temp\\ipykernel_14528\\2248962618.py:22: PerformanceWarning: DataFrame is highly fragmented.  This is usually the result of calling `frame.insert` many times, which has poor performance.  Consider joining all columns at once using pd.concat(axis=1) instead. To get a de-fragmented frame, use `newframe = frame.copy()`\n",
      "  train_df[f'Ticket{i}'] = ticket[:, i]\n",
      "C:\\Users\\pablo\\AppData\\Local\\Temp\\ipykernel_14528\\2248962618.py:22: PerformanceWarning: DataFrame is highly fragmented.  This is usually the result of calling `frame.insert` many times, which has poor performance.  Consider joining all columns at once using pd.concat(axis=1) instead. To get a de-fragmented frame, use `newframe = frame.copy()`\n",
      "  train_df[f'Ticket{i}'] = ticket[:, i]\n",
      "C:\\Users\\pablo\\AppData\\Local\\Temp\\ipykernel_14528\\2248962618.py:22: PerformanceWarning: DataFrame is highly fragmented.  This is usually the result of calling `frame.insert` many times, which has poor performance.  Consider joining all columns at once using pd.concat(axis=1) instead. To get a de-fragmented frame, use `newframe = frame.copy()`\n",
      "  train_df[f'Ticket{i}'] = ticket[:, i]\n",
      "C:\\Users\\pablo\\AppData\\Local\\Temp\\ipykernel_14528\\2248962618.py:22: PerformanceWarning: DataFrame is highly fragmented.  This is usually the result of calling `frame.insert` many times, which has poor performance.  Consider joining all columns at once using pd.concat(axis=1) instead. To get a de-fragmented frame, use `newframe = frame.copy()`\n",
      "  train_df[f'Ticket{i}'] = ticket[:, i]\n",
      "C:\\Users\\pablo\\AppData\\Local\\Temp\\ipykernel_14528\\2248962618.py:22: PerformanceWarning: DataFrame is highly fragmented.  This is usually the result of calling `frame.insert` many times, which has poor performance.  Consider joining all columns at once using pd.concat(axis=1) instead. To get a de-fragmented frame, use `newframe = frame.copy()`\n",
      "  train_df[f'Ticket{i}'] = ticket[:, i]\n",
      "C:\\Users\\pablo\\AppData\\Local\\Temp\\ipykernel_14528\\2248962618.py:22: PerformanceWarning: DataFrame is highly fragmented.  This is usually the result of calling `frame.insert` many times, which has poor performance.  Consider joining all columns at once using pd.concat(axis=1) instead. To get a de-fragmented frame, use `newframe = frame.copy()`\n",
      "  train_df[f'Ticket{i}'] = ticket[:, i]\n",
      "C:\\Users\\pablo\\AppData\\Local\\Temp\\ipykernel_14528\\2248962618.py:22: PerformanceWarning: DataFrame is highly fragmented.  This is usually the result of calling `frame.insert` many times, which has poor performance.  Consider joining all columns at once using pd.concat(axis=1) instead. To get a de-fragmented frame, use `newframe = frame.copy()`\n",
      "  train_df[f'Ticket{i}'] = ticket[:, i]\n",
      "C:\\Users\\pablo\\AppData\\Local\\Temp\\ipykernel_14528\\2248962618.py:22: PerformanceWarning: DataFrame is highly fragmented.  This is usually the result of calling `frame.insert` many times, which has poor performance.  Consider joining all columns at once using pd.concat(axis=1) instead. To get a de-fragmented frame, use `newframe = frame.copy()`\n",
      "  train_df[f'Ticket{i}'] = ticket[:, i]\n",
      "C:\\Users\\pablo\\AppData\\Local\\Temp\\ipykernel_14528\\2248962618.py:22: PerformanceWarning: DataFrame is highly fragmented.  This is usually the result of calling `frame.insert` many times, which has poor performance.  Consider joining all columns at once using pd.concat(axis=1) instead. To get a de-fragmented frame, use `newframe = frame.copy()`\n",
      "  train_df[f'Ticket{i}'] = ticket[:, i]\n"
     ]
    },
    {
     "name": "stderr",
     "output_type": "stream",
     "text": [
      "C:\\Users\\pablo\\AppData\\Local\\Temp\\ipykernel_14528\\2248962618.py:22: PerformanceWarning: DataFrame is highly fragmented.  This is usually the result of calling `frame.insert` many times, which has poor performance.  Consider joining all columns at once using pd.concat(axis=1) instead. To get a de-fragmented frame, use `newframe = frame.copy()`\n",
      "  train_df[f'Ticket{i}'] = ticket[:, i]\n",
      "C:\\Users\\pablo\\AppData\\Local\\Temp\\ipykernel_14528\\2248962618.py:22: PerformanceWarning: DataFrame is highly fragmented.  This is usually the result of calling `frame.insert` many times, which has poor performance.  Consider joining all columns at once using pd.concat(axis=1) instead. To get a de-fragmented frame, use `newframe = frame.copy()`\n",
      "  train_df[f'Ticket{i}'] = ticket[:, i]\n",
      "C:\\Users\\pablo\\AppData\\Local\\Temp\\ipykernel_14528\\2248962618.py:22: PerformanceWarning: DataFrame is highly fragmented.  This is usually the result of calling `frame.insert` many times, which has poor performance.  Consider joining all columns at once using pd.concat(axis=1) instead. To get a de-fragmented frame, use `newframe = frame.copy()`\n",
      "  train_df[f'Ticket{i}'] = ticket[:, i]\n",
      "C:\\Users\\pablo\\AppData\\Local\\Temp\\ipykernel_14528\\2248962618.py:22: PerformanceWarning: DataFrame is highly fragmented.  This is usually the result of calling `frame.insert` many times, which has poor performance.  Consider joining all columns at once using pd.concat(axis=1) instead. To get a de-fragmented frame, use `newframe = frame.copy()`\n",
      "  train_df[f'Ticket{i}'] = ticket[:, i]\n",
      "C:\\Users\\pablo\\AppData\\Local\\Temp\\ipykernel_14528\\2248962618.py:22: PerformanceWarning: DataFrame is highly fragmented.  This is usually the result of calling `frame.insert` many times, which has poor performance.  Consider joining all columns at once using pd.concat(axis=1) instead. To get a de-fragmented frame, use `newframe = frame.copy()`\n",
      "  train_df[f'Ticket{i}'] = ticket[:, i]\n",
      "C:\\Users\\pablo\\AppData\\Local\\Temp\\ipykernel_14528\\2248962618.py:22: PerformanceWarning: DataFrame is highly fragmented.  This is usually the result of calling `frame.insert` many times, which has poor performance.  Consider joining all columns at once using pd.concat(axis=1) instead. To get a de-fragmented frame, use `newframe = frame.copy()`\n",
      "  train_df[f'Ticket{i}'] = ticket[:, i]\n",
      "C:\\Users\\pablo\\AppData\\Local\\Temp\\ipykernel_14528\\2248962618.py:22: PerformanceWarning: DataFrame is highly fragmented.  This is usually the result of calling `frame.insert` many times, which has poor performance.  Consider joining all columns at once using pd.concat(axis=1) instead. To get a de-fragmented frame, use `newframe = frame.copy()`\n",
      "  train_df[f'Ticket{i}'] = ticket[:, i]\n",
      "C:\\Users\\pablo\\AppData\\Local\\Temp\\ipykernel_14528\\2248962618.py:22: PerformanceWarning: DataFrame is highly fragmented.  This is usually the result of calling `frame.insert` many times, which has poor performance.  Consider joining all columns at once using pd.concat(axis=1) instead. To get a de-fragmented frame, use `newframe = frame.copy()`\n",
      "  train_df[f'Ticket{i}'] = ticket[:, i]\n",
      "C:\\Users\\pablo\\AppData\\Local\\Temp\\ipykernel_14528\\2248962618.py:22: PerformanceWarning: DataFrame is highly fragmented.  This is usually the result of calling `frame.insert` many times, which has poor performance.  Consider joining all columns at once using pd.concat(axis=1) instead. To get a de-fragmented frame, use `newframe = frame.copy()`\n",
      "  train_df[f'Ticket{i}'] = ticket[:, i]\n",
      "C:\\Users\\pablo\\AppData\\Local\\Temp\\ipykernel_14528\\2248962618.py:22: PerformanceWarning: DataFrame is highly fragmented.  This is usually the result of calling `frame.insert` many times, which has poor performance.  Consider joining all columns at once using pd.concat(axis=1) instead. To get a de-fragmented frame, use `newframe = frame.copy()`\n",
      "  train_df[f'Ticket{i}'] = ticket[:, i]\n",
      "C:\\Users\\pablo\\AppData\\Local\\Temp\\ipykernel_14528\\2248962618.py:22: PerformanceWarning: DataFrame is highly fragmented.  This is usually the result of calling `frame.insert` many times, which has poor performance.  Consider joining all columns at once using pd.concat(axis=1) instead. To get a de-fragmented frame, use `newframe = frame.copy()`\n",
      "  train_df[f'Ticket{i}'] = ticket[:, i]\n",
      "C:\\Users\\pablo\\AppData\\Local\\Temp\\ipykernel_14528\\2248962618.py:22: PerformanceWarning: DataFrame is highly fragmented.  This is usually the result of calling `frame.insert` many times, which has poor performance.  Consider joining all columns at once using pd.concat(axis=1) instead. To get a de-fragmented frame, use `newframe = frame.copy()`\n",
      "  train_df[f'Ticket{i}'] = ticket[:, i]\n",
      "C:\\Users\\pablo\\AppData\\Local\\Temp\\ipykernel_14528\\2248962618.py:22: PerformanceWarning: DataFrame is highly fragmented.  This is usually the result of calling `frame.insert` many times, which has poor performance.  Consider joining all columns at once using pd.concat(axis=1) instead. To get a de-fragmented frame, use `newframe = frame.copy()`\n",
      "  train_df[f'Ticket{i}'] = ticket[:, i]\n",
      "C:\\Users\\pablo\\AppData\\Local\\Temp\\ipykernel_14528\\2248962618.py:22: PerformanceWarning: DataFrame is highly fragmented.  This is usually the result of calling `frame.insert` many times, which has poor performance.  Consider joining all columns at once using pd.concat(axis=1) instead. To get a de-fragmented frame, use `newframe = frame.copy()`\n",
      "  train_df[f'Ticket{i}'] = ticket[:, i]\n",
      "C:\\Users\\pablo\\AppData\\Local\\Temp\\ipykernel_14528\\2248962618.py:22: PerformanceWarning: DataFrame is highly fragmented.  This is usually the result of calling `frame.insert` many times, which has poor performance.  Consider joining all columns at once using pd.concat(axis=1) instead. To get a de-fragmented frame, use `newframe = frame.copy()`\n",
      "  train_df[f'Ticket{i}'] = ticket[:, i]\n",
      "C:\\Users\\pablo\\AppData\\Local\\Temp\\ipykernel_14528\\2248962618.py:22: PerformanceWarning: DataFrame is highly fragmented.  This is usually the result of calling `frame.insert` many times, which has poor performance.  Consider joining all columns at once using pd.concat(axis=1) instead. To get a de-fragmented frame, use `newframe = frame.copy()`\n",
      "  train_df[f'Ticket{i}'] = ticket[:, i]\n",
      "C:\\Users\\pablo\\AppData\\Local\\Temp\\ipykernel_14528\\2248962618.py:22: PerformanceWarning: DataFrame is highly fragmented.  This is usually the result of calling `frame.insert` many times, which has poor performance.  Consider joining all columns at once using pd.concat(axis=1) instead. To get a de-fragmented frame, use `newframe = frame.copy()`\n",
      "  train_df[f'Ticket{i}'] = ticket[:, i]\n",
      "C:\\Users\\pablo\\AppData\\Local\\Temp\\ipykernel_14528\\2248962618.py:22: PerformanceWarning: DataFrame is highly fragmented.  This is usually the result of calling `frame.insert` many times, which has poor performance.  Consider joining all columns at once using pd.concat(axis=1) instead. To get a de-fragmented frame, use `newframe = frame.copy()`\n",
      "  train_df[f'Ticket{i}'] = ticket[:, i]\n",
      "C:\\Users\\pablo\\AppData\\Local\\Temp\\ipykernel_14528\\2248962618.py:22: PerformanceWarning: DataFrame is highly fragmented.  This is usually the result of calling `frame.insert` many times, which has poor performance.  Consider joining all columns at once using pd.concat(axis=1) instead. To get a de-fragmented frame, use `newframe = frame.copy()`\n",
      "  train_df[f'Ticket{i}'] = ticket[:, i]\n",
      "C:\\Users\\pablo\\AppData\\Local\\Temp\\ipykernel_14528\\2248962618.py:22: PerformanceWarning: DataFrame is highly fragmented.  This is usually the result of calling `frame.insert` many times, which has poor performance.  Consider joining all columns at once using pd.concat(axis=1) instead. To get a de-fragmented frame, use `newframe = frame.copy()`\n",
      "  train_df[f'Ticket{i}'] = ticket[:, i]\n",
      "C:\\Users\\pablo\\AppData\\Local\\Temp\\ipykernel_14528\\2248962618.py:22: PerformanceWarning: DataFrame is highly fragmented.  This is usually the result of calling `frame.insert` many times, which has poor performance.  Consider joining all columns at once using pd.concat(axis=1) instead. To get a de-fragmented frame, use `newframe = frame.copy()`\n",
      "  train_df[f'Ticket{i}'] = ticket[:, i]\n",
      "C:\\Users\\pablo\\AppData\\Local\\Temp\\ipykernel_14528\\2248962618.py:22: PerformanceWarning: DataFrame is highly fragmented.  This is usually the result of calling `frame.insert` many times, which has poor performance.  Consider joining all columns at once using pd.concat(axis=1) instead. To get a de-fragmented frame, use `newframe = frame.copy()`\n",
      "  train_df[f'Ticket{i}'] = ticket[:, i]\n",
      "C:\\Users\\pablo\\AppData\\Local\\Temp\\ipykernel_14528\\2248962618.py:22: PerformanceWarning: DataFrame is highly fragmented.  This is usually the result of calling `frame.insert` many times, which has poor performance.  Consider joining all columns at once using pd.concat(axis=1) instead. To get a de-fragmented frame, use `newframe = frame.copy()`\n",
      "  train_df[f'Ticket{i}'] = ticket[:, i]\n",
      "C:\\Users\\pablo\\AppData\\Local\\Temp\\ipykernel_14528\\2248962618.py:22: PerformanceWarning: DataFrame is highly fragmented.  This is usually the result of calling `frame.insert` many times, which has poor performance.  Consider joining all columns at once using pd.concat(axis=1) instead. To get a de-fragmented frame, use `newframe = frame.copy()`\n",
      "  train_df[f'Ticket{i}'] = ticket[:, i]\n",
      "C:\\Users\\pablo\\AppData\\Local\\Temp\\ipykernel_14528\\2248962618.py:22: PerformanceWarning: DataFrame is highly fragmented.  This is usually the result of calling `frame.insert` many times, which has poor performance.  Consider joining all columns at once using pd.concat(axis=1) instead. To get a de-fragmented frame, use `newframe = frame.copy()`\n",
      "  train_df[f'Ticket{i}'] = ticket[:, i]\n",
      "C:\\Users\\pablo\\AppData\\Local\\Temp\\ipykernel_14528\\2248962618.py:22: PerformanceWarning: DataFrame is highly fragmented.  This is usually the result of calling `frame.insert` many times, which has poor performance.  Consider joining all columns at once using pd.concat(axis=1) instead. To get a de-fragmented frame, use `newframe = frame.copy()`\n",
      "  train_df[f'Ticket{i}'] = ticket[:, i]\n",
      "C:\\Users\\pablo\\AppData\\Local\\Temp\\ipykernel_14528\\2248962618.py:22: PerformanceWarning: DataFrame is highly fragmented.  This is usually the result of calling `frame.insert` many times, which has poor performance.  Consider joining all columns at once using pd.concat(axis=1) instead. To get a de-fragmented frame, use `newframe = frame.copy()`\n",
      "  train_df[f'Ticket{i}'] = ticket[:, i]\n"
     ]
    },
    {
     "name": "stderr",
     "output_type": "stream",
     "text": [
      "C:\\Users\\pablo\\AppData\\Local\\Temp\\ipykernel_14528\\2248962618.py:22: PerformanceWarning: DataFrame is highly fragmented.  This is usually the result of calling `frame.insert` many times, which has poor performance.  Consider joining all columns at once using pd.concat(axis=1) instead. To get a de-fragmented frame, use `newframe = frame.copy()`\n",
      "  train_df[f'Ticket{i}'] = ticket[:, i]\n",
      "C:\\Users\\pablo\\AppData\\Local\\Temp\\ipykernel_14528\\2248962618.py:22: PerformanceWarning: DataFrame is highly fragmented.  This is usually the result of calling `frame.insert` many times, which has poor performance.  Consider joining all columns at once using pd.concat(axis=1) instead. To get a de-fragmented frame, use `newframe = frame.copy()`\n",
      "  train_df[f'Ticket{i}'] = ticket[:, i]\n",
      "C:\\Users\\pablo\\AppData\\Local\\Temp\\ipykernel_14528\\2248962618.py:22: PerformanceWarning: DataFrame is highly fragmented.  This is usually the result of calling `frame.insert` many times, which has poor performance.  Consider joining all columns at once using pd.concat(axis=1) instead. To get a de-fragmented frame, use `newframe = frame.copy()`\n",
      "  train_df[f'Ticket{i}'] = ticket[:, i]\n",
      "C:\\Users\\pablo\\AppData\\Local\\Temp\\ipykernel_14528\\2248962618.py:22: PerformanceWarning: DataFrame is highly fragmented.  This is usually the result of calling `frame.insert` many times, which has poor performance.  Consider joining all columns at once using pd.concat(axis=1) instead. To get a de-fragmented frame, use `newframe = frame.copy()`\n",
      "  train_df[f'Ticket{i}'] = ticket[:, i]\n",
      "C:\\Users\\pablo\\AppData\\Local\\Temp\\ipykernel_14528\\2248962618.py:22: PerformanceWarning: DataFrame is highly fragmented.  This is usually the result of calling `frame.insert` many times, which has poor performance.  Consider joining all columns at once using pd.concat(axis=1) instead. To get a de-fragmented frame, use `newframe = frame.copy()`\n",
      "  train_df[f'Ticket{i}'] = ticket[:, i]\n",
      "C:\\Users\\pablo\\AppData\\Local\\Temp\\ipykernel_14528\\2248962618.py:22: PerformanceWarning: DataFrame is highly fragmented.  This is usually the result of calling `frame.insert` many times, which has poor performance.  Consider joining all columns at once using pd.concat(axis=1) instead. To get a de-fragmented frame, use `newframe = frame.copy()`\n",
      "  train_df[f'Ticket{i}'] = ticket[:, i]\n",
      "C:\\Users\\pablo\\AppData\\Local\\Temp\\ipykernel_14528\\2248962618.py:22: PerformanceWarning: DataFrame is highly fragmented.  This is usually the result of calling `frame.insert` many times, which has poor performance.  Consider joining all columns at once using pd.concat(axis=1) instead. To get a de-fragmented frame, use `newframe = frame.copy()`\n",
      "  train_df[f'Ticket{i}'] = ticket[:, i]\n",
      "C:\\Users\\pablo\\AppData\\Local\\Temp\\ipykernel_14528\\2248962618.py:22: PerformanceWarning: DataFrame is highly fragmented.  This is usually the result of calling `frame.insert` many times, which has poor performance.  Consider joining all columns at once using pd.concat(axis=1) instead. To get a de-fragmented frame, use `newframe = frame.copy()`\n",
      "  train_df[f'Ticket{i}'] = ticket[:, i]\n",
      "C:\\Users\\pablo\\AppData\\Local\\Temp\\ipykernel_14528\\2248962618.py:22: PerformanceWarning: DataFrame is highly fragmented.  This is usually the result of calling `frame.insert` many times, which has poor performance.  Consider joining all columns at once using pd.concat(axis=1) instead. To get a de-fragmented frame, use `newframe = frame.copy()`\n",
      "  train_df[f'Ticket{i}'] = ticket[:, i]\n",
      "C:\\Users\\pablo\\AppData\\Local\\Temp\\ipykernel_14528\\2248962618.py:22: PerformanceWarning: DataFrame is highly fragmented.  This is usually the result of calling `frame.insert` many times, which has poor performance.  Consider joining all columns at once using pd.concat(axis=1) instead. To get a de-fragmented frame, use `newframe = frame.copy()`\n",
      "  train_df[f'Ticket{i}'] = ticket[:, i]\n",
      "C:\\Users\\pablo\\AppData\\Local\\Temp\\ipykernel_14528\\2248962618.py:22: PerformanceWarning: DataFrame is highly fragmented.  This is usually the result of calling `frame.insert` many times, which has poor performance.  Consider joining all columns at once using pd.concat(axis=1) instead. To get a de-fragmented frame, use `newframe = frame.copy()`\n",
      "  train_df[f'Ticket{i}'] = ticket[:, i]\n",
      "C:\\Users\\pablo\\AppData\\Local\\Temp\\ipykernel_14528\\2248962618.py:22: PerformanceWarning: DataFrame is highly fragmented.  This is usually the result of calling `frame.insert` many times, which has poor performance.  Consider joining all columns at once using pd.concat(axis=1) instead. To get a de-fragmented frame, use `newframe = frame.copy()`\n",
      "  train_df[f'Ticket{i}'] = ticket[:, i]\n",
      "C:\\Users\\pablo\\AppData\\Local\\Temp\\ipykernel_14528\\2248962618.py:22: PerformanceWarning: DataFrame is highly fragmented.  This is usually the result of calling `frame.insert` many times, which has poor performance.  Consider joining all columns at once using pd.concat(axis=1) instead. To get a de-fragmented frame, use `newframe = frame.copy()`\n",
      "  train_df[f'Ticket{i}'] = ticket[:, i]\n",
      "C:\\Users\\pablo\\AppData\\Local\\Temp\\ipykernel_14528\\2248962618.py:22: PerformanceWarning: DataFrame is highly fragmented.  This is usually the result of calling `frame.insert` many times, which has poor performance.  Consider joining all columns at once using pd.concat(axis=1) instead. To get a de-fragmented frame, use `newframe = frame.copy()`\n",
      "  train_df[f'Ticket{i}'] = ticket[:, i]\n",
      "C:\\Users\\pablo\\AppData\\Local\\Temp\\ipykernel_14528\\2248962618.py:22: PerformanceWarning: DataFrame is highly fragmented.  This is usually the result of calling `frame.insert` many times, which has poor performance.  Consider joining all columns at once using pd.concat(axis=1) instead. To get a de-fragmented frame, use `newframe = frame.copy()`\n",
      "  train_df[f'Ticket{i}'] = ticket[:, i]\n",
      "C:\\Users\\pablo\\AppData\\Local\\Temp\\ipykernel_14528\\2248962618.py:22: PerformanceWarning: DataFrame is highly fragmented.  This is usually the result of calling `frame.insert` many times, which has poor performance.  Consider joining all columns at once using pd.concat(axis=1) instead. To get a de-fragmented frame, use `newframe = frame.copy()`\n",
      "  train_df[f'Ticket{i}'] = ticket[:, i]\n",
      "C:\\Users\\pablo\\AppData\\Local\\Temp\\ipykernel_14528\\2248962618.py:22: PerformanceWarning: DataFrame is highly fragmented.  This is usually the result of calling `frame.insert` many times, which has poor performance.  Consider joining all columns at once using pd.concat(axis=1) instead. To get a de-fragmented frame, use `newframe = frame.copy()`\n",
      "  train_df[f'Ticket{i}'] = ticket[:, i]\n",
      "C:\\Users\\pablo\\AppData\\Local\\Temp\\ipykernel_14528\\2248962618.py:22: PerformanceWarning: DataFrame is highly fragmented.  This is usually the result of calling `frame.insert` many times, which has poor performance.  Consider joining all columns at once using pd.concat(axis=1) instead. To get a de-fragmented frame, use `newframe = frame.copy()`\n",
      "  train_df[f'Ticket{i}'] = ticket[:, i]\n",
      "C:\\Users\\pablo\\AppData\\Local\\Temp\\ipykernel_14528\\2248962618.py:22: PerformanceWarning: DataFrame is highly fragmented.  This is usually the result of calling `frame.insert` many times, which has poor performance.  Consider joining all columns at once using pd.concat(axis=1) instead. To get a de-fragmented frame, use `newframe = frame.copy()`\n",
      "  train_df[f'Ticket{i}'] = ticket[:, i]\n",
      "C:\\Users\\pablo\\AppData\\Local\\Temp\\ipykernel_14528\\2248962618.py:22: PerformanceWarning: DataFrame is highly fragmented.  This is usually the result of calling `frame.insert` many times, which has poor performance.  Consider joining all columns at once using pd.concat(axis=1) instead. To get a de-fragmented frame, use `newframe = frame.copy()`\n",
      "  train_df[f'Ticket{i}'] = ticket[:, i]\n",
      "C:\\Users\\pablo\\AppData\\Local\\Temp\\ipykernel_14528\\2248962618.py:22: PerformanceWarning: DataFrame is highly fragmented.  This is usually the result of calling `frame.insert` many times, which has poor performance.  Consider joining all columns at once using pd.concat(axis=1) instead. To get a de-fragmented frame, use `newframe = frame.copy()`\n",
      "  train_df[f'Ticket{i}'] = ticket[:, i]\n",
      "C:\\Users\\pablo\\AppData\\Local\\Temp\\ipykernel_14528\\2248962618.py:22: PerformanceWarning: DataFrame is highly fragmented.  This is usually the result of calling `frame.insert` many times, which has poor performance.  Consider joining all columns at once using pd.concat(axis=1) instead. To get a de-fragmented frame, use `newframe = frame.copy()`\n",
      "  train_df[f'Ticket{i}'] = ticket[:, i]\n",
      "C:\\Users\\pablo\\AppData\\Local\\Temp\\ipykernel_14528\\2248962618.py:22: PerformanceWarning: DataFrame is highly fragmented.  This is usually the result of calling `frame.insert` many times, which has poor performance.  Consider joining all columns at once using pd.concat(axis=1) instead. To get a de-fragmented frame, use `newframe = frame.copy()`\n",
      "  train_df[f'Ticket{i}'] = ticket[:, i]\n"
     ]
    },
    {
     "name": "stderr",
     "output_type": "stream",
     "text": [
      "C:\\Users\\pablo\\AppData\\Local\\Temp\\ipykernel_14528\\2248962618.py:22: PerformanceWarning: DataFrame is highly fragmented.  This is usually the result of calling `frame.insert` many times, which has poor performance.  Consider joining all columns at once using pd.concat(axis=1) instead. To get a de-fragmented frame, use `newframe = frame.copy()`\n",
      "  train_df[f'Ticket{i}'] = ticket[:, i]\n",
      "C:\\Users\\pablo\\AppData\\Local\\Temp\\ipykernel_14528\\2248962618.py:22: PerformanceWarning: DataFrame is highly fragmented.  This is usually the result of calling `frame.insert` many times, which has poor performance.  Consider joining all columns at once using pd.concat(axis=1) instead. To get a de-fragmented frame, use `newframe = frame.copy()`\n",
      "  train_df[f'Ticket{i}'] = ticket[:, i]\n",
      "C:\\Users\\pablo\\AppData\\Local\\Temp\\ipykernel_14528\\2248962618.py:22: PerformanceWarning: DataFrame is highly fragmented.  This is usually the result of calling `frame.insert` many times, which has poor performance.  Consider joining all columns at once using pd.concat(axis=1) instead. To get a de-fragmented frame, use `newframe = frame.copy()`\n",
      "  train_df[f'Ticket{i}'] = ticket[:, i]\n",
      "C:\\Users\\pablo\\AppData\\Local\\Temp\\ipykernel_14528\\2248962618.py:22: PerformanceWarning: DataFrame is highly fragmented.  This is usually the result of calling `frame.insert` many times, which has poor performance.  Consider joining all columns at once using pd.concat(axis=1) instead. To get a de-fragmented frame, use `newframe = frame.copy()`\n",
      "  train_df[f'Ticket{i}'] = ticket[:, i]\n",
      "C:\\Users\\pablo\\AppData\\Local\\Temp\\ipykernel_14528\\2248962618.py:22: PerformanceWarning: DataFrame is highly fragmented.  This is usually the result of calling `frame.insert` many times, which has poor performance.  Consider joining all columns at once using pd.concat(axis=1) instead. To get a de-fragmented frame, use `newframe = frame.copy()`\n",
      "  train_df[f'Ticket{i}'] = ticket[:, i]\n",
      "C:\\Users\\pablo\\AppData\\Local\\Temp\\ipykernel_14528\\2248962618.py:22: PerformanceWarning: DataFrame is highly fragmented.  This is usually the result of calling `frame.insert` many times, which has poor performance.  Consider joining all columns at once using pd.concat(axis=1) instead. To get a de-fragmented frame, use `newframe = frame.copy()`\n",
      "  train_df[f'Ticket{i}'] = ticket[:, i]\n",
      "C:\\Users\\pablo\\AppData\\Local\\Temp\\ipykernel_14528\\2248962618.py:22: PerformanceWarning: DataFrame is highly fragmented.  This is usually the result of calling `frame.insert` many times, which has poor performance.  Consider joining all columns at once using pd.concat(axis=1) instead. To get a de-fragmented frame, use `newframe = frame.copy()`\n",
      "  train_df[f'Ticket{i}'] = ticket[:, i]\n",
      "C:\\Users\\pablo\\AppData\\Local\\Temp\\ipykernel_14528\\2248962618.py:22: PerformanceWarning: DataFrame is highly fragmented.  This is usually the result of calling `frame.insert` many times, which has poor performance.  Consider joining all columns at once using pd.concat(axis=1) instead. To get a de-fragmented frame, use `newframe = frame.copy()`\n",
      "  train_df[f'Ticket{i}'] = ticket[:, i]\n",
      "C:\\Users\\pablo\\AppData\\Local\\Temp\\ipykernel_14528\\2248962618.py:22: PerformanceWarning: DataFrame is highly fragmented.  This is usually the result of calling `frame.insert` many times, which has poor performance.  Consider joining all columns at once using pd.concat(axis=1) instead. To get a de-fragmented frame, use `newframe = frame.copy()`\n",
      "  train_df[f'Ticket{i}'] = ticket[:, i]\n",
      "C:\\Users\\pablo\\AppData\\Local\\Temp\\ipykernel_14528\\2248962618.py:22: PerformanceWarning: DataFrame is highly fragmented.  This is usually the result of calling `frame.insert` many times, which has poor performance.  Consider joining all columns at once using pd.concat(axis=1) instead. To get a de-fragmented frame, use `newframe = frame.copy()`\n",
      "  train_df[f'Ticket{i}'] = ticket[:, i]\n",
      "C:\\Users\\pablo\\AppData\\Local\\Temp\\ipykernel_14528\\2248962618.py:22: PerformanceWarning: DataFrame is highly fragmented.  This is usually the result of calling `frame.insert` many times, which has poor performance.  Consider joining all columns at once using pd.concat(axis=1) instead. To get a de-fragmented frame, use `newframe = frame.copy()`\n",
      "  train_df[f'Ticket{i}'] = ticket[:, i]\n",
      "C:\\Users\\pablo\\AppData\\Local\\Temp\\ipykernel_14528\\2248962618.py:22: PerformanceWarning: DataFrame is highly fragmented.  This is usually the result of calling `frame.insert` many times, which has poor performance.  Consider joining all columns at once using pd.concat(axis=1) instead. To get a de-fragmented frame, use `newframe = frame.copy()`\n",
      "  train_df[f'Ticket{i}'] = ticket[:, i]\n",
      "C:\\Users\\pablo\\AppData\\Local\\Temp\\ipykernel_14528\\2248962618.py:22: PerformanceWarning: DataFrame is highly fragmented.  This is usually the result of calling `frame.insert` many times, which has poor performance.  Consider joining all columns at once using pd.concat(axis=1) instead. To get a de-fragmented frame, use `newframe = frame.copy()`\n",
      "  train_df[f'Ticket{i}'] = ticket[:, i]\n",
      "C:\\Users\\pablo\\AppData\\Local\\Temp\\ipykernel_14528\\2248962618.py:22: PerformanceWarning: DataFrame is highly fragmented.  This is usually the result of calling `frame.insert` many times, which has poor performance.  Consider joining all columns at once using pd.concat(axis=1) instead. To get a de-fragmented frame, use `newframe = frame.copy()`\n",
      "  train_df[f'Ticket{i}'] = ticket[:, i]\n",
      "C:\\Users\\pablo\\AppData\\Local\\Temp\\ipykernel_14528\\2248962618.py:22: PerformanceWarning: DataFrame is highly fragmented.  This is usually the result of calling `frame.insert` many times, which has poor performance.  Consider joining all columns at once using pd.concat(axis=1) instead. To get a de-fragmented frame, use `newframe = frame.copy()`\n",
      "  train_df[f'Ticket{i}'] = ticket[:, i]\n",
      "C:\\Users\\pablo\\AppData\\Local\\Temp\\ipykernel_14528\\2248962618.py:22: PerformanceWarning: DataFrame is highly fragmented.  This is usually the result of calling `frame.insert` many times, which has poor performance.  Consider joining all columns at once using pd.concat(axis=1) instead. To get a de-fragmented frame, use `newframe = frame.copy()`\n",
      "  train_df[f'Ticket{i}'] = ticket[:, i]\n",
      "C:\\Users\\pablo\\AppData\\Local\\Temp\\ipykernel_14528\\2248962618.py:22: PerformanceWarning: DataFrame is highly fragmented.  This is usually the result of calling `frame.insert` many times, which has poor performance.  Consider joining all columns at once using pd.concat(axis=1) instead. To get a de-fragmented frame, use `newframe = frame.copy()`\n",
      "  train_df[f'Ticket{i}'] = ticket[:, i]\n",
      "C:\\Users\\pablo\\AppData\\Local\\Temp\\ipykernel_14528\\2248962618.py:22: PerformanceWarning: DataFrame is highly fragmented.  This is usually the result of calling `frame.insert` many times, which has poor performance.  Consider joining all columns at once using pd.concat(axis=1) instead. To get a de-fragmented frame, use `newframe = frame.copy()`\n",
      "  train_df[f'Ticket{i}'] = ticket[:, i]\n",
      "C:\\Users\\pablo\\AppData\\Local\\Temp\\ipykernel_14528\\2248962618.py:22: PerformanceWarning: DataFrame is highly fragmented.  This is usually the result of calling `frame.insert` many times, which has poor performance.  Consider joining all columns at once using pd.concat(axis=1) instead. To get a de-fragmented frame, use `newframe = frame.copy()`\n",
      "  train_df[f'Ticket{i}'] = ticket[:, i]\n",
      "C:\\Users\\pablo\\AppData\\Local\\Temp\\ipykernel_14528\\2248962618.py:22: PerformanceWarning: DataFrame is highly fragmented.  This is usually the result of calling `frame.insert` many times, which has poor performance.  Consider joining all columns at once using pd.concat(axis=1) instead. To get a de-fragmented frame, use `newframe = frame.copy()`\n",
      "  train_df[f'Ticket{i}'] = ticket[:, i]\n",
      "C:\\Users\\pablo\\AppData\\Local\\Temp\\ipykernel_14528\\2248962618.py:22: PerformanceWarning: DataFrame is highly fragmented.  This is usually the result of calling `frame.insert` many times, which has poor performance.  Consider joining all columns at once using pd.concat(axis=1) instead. To get a de-fragmented frame, use `newframe = frame.copy()`\n",
      "  train_df[f'Ticket{i}'] = ticket[:, i]\n",
      "C:\\Users\\pablo\\AppData\\Local\\Temp\\ipykernel_14528\\2248962618.py:22: PerformanceWarning: DataFrame is highly fragmented.  This is usually the result of calling `frame.insert` many times, which has poor performance.  Consider joining all columns at once using pd.concat(axis=1) instead. To get a de-fragmented frame, use `newframe = frame.copy()`\n",
      "  train_df[f'Ticket{i}'] = ticket[:, i]\n"
     ]
    },
    {
     "name": "stderr",
     "output_type": "stream",
     "text": [
      "C:\\Users\\pablo\\AppData\\Local\\Temp\\ipykernel_14528\\2248962618.py:22: PerformanceWarning: DataFrame is highly fragmented.  This is usually the result of calling `frame.insert` many times, which has poor performance.  Consider joining all columns at once using pd.concat(axis=1) instead. To get a de-fragmented frame, use `newframe = frame.copy()`\n",
      "  train_df[f'Ticket{i}'] = ticket[:, i]\n",
      "C:\\Users\\pablo\\AppData\\Local\\Temp\\ipykernel_14528\\2248962618.py:22: PerformanceWarning: DataFrame is highly fragmented.  This is usually the result of calling `frame.insert` many times, which has poor performance.  Consider joining all columns at once using pd.concat(axis=1) instead. To get a de-fragmented frame, use `newframe = frame.copy()`\n",
      "  train_df[f'Ticket{i}'] = ticket[:, i]\n",
      "C:\\Users\\pablo\\AppData\\Local\\Temp\\ipykernel_14528\\2248962618.py:22: PerformanceWarning: DataFrame is highly fragmented.  This is usually the result of calling `frame.insert` many times, which has poor performance.  Consider joining all columns at once using pd.concat(axis=1) instead. To get a de-fragmented frame, use `newframe = frame.copy()`\n",
      "  train_df[f'Ticket{i}'] = ticket[:, i]\n",
      "C:\\Users\\pablo\\AppData\\Local\\Temp\\ipykernel_14528\\2248962618.py:22: PerformanceWarning: DataFrame is highly fragmented.  This is usually the result of calling `frame.insert` many times, which has poor performance.  Consider joining all columns at once using pd.concat(axis=1) instead. To get a de-fragmented frame, use `newframe = frame.copy()`\n",
      "  train_df[f'Ticket{i}'] = ticket[:, i]\n",
      "C:\\Users\\pablo\\AppData\\Local\\Temp\\ipykernel_14528\\2248962618.py:22: PerformanceWarning: DataFrame is highly fragmented.  This is usually the result of calling `frame.insert` many times, which has poor performance.  Consider joining all columns at once using pd.concat(axis=1) instead. To get a de-fragmented frame, use `newframe = frame.copy()`\n",
      "  train_df[f'Ticket{i}'] = ticket[:, i]\n",
      "C:\\Users\\pablo\\AppData\\Local\\Temp\\ipykernel_14528\\2248962618.py:22: PerformanceWarning: DataFrame is highly fragmented.  This is usually the result of calling `frame.insert` many times, which has poor performance.  Consider joining all columns at once using pd.concat(axis=1) instead. To get a de-fragmented frame, use `newframe = frame.copy()`\n",
      "  train_df[f'Ticket{i}'] = ticket[:, i]\n",
      "C:\\Users\\pablo\\AppData\\Local\\Temp\\ipykernel_14528\\2248962618.py:22: PerformanceWarning: DataFrame is highly fragmented.  This is usually the result of calling `frame.insert` many times, which has poor performance.  Consider joining all columns at once using pd.concat(axis=1) instead. To get a de-fragmented frame, use `newframe = frame.copy()`\n",
      "  train_df[f'Ticket{i}'] = ticket[:, i]\n",
      "C:\\Users\\pablo\\AppData\\Local\\Temp\\ipykernel_14528\\2248962618.py:22: PerformanceWarning: DataFrame is highly fragmented.  This is usually the result of calling `frame.insert` many times, which has poor performance.  Consider joining all columns at once using pd.concat(axis=1) instead. To get a de-fragmented frame, use `newframe = frame.copy()`\n",
      "  train_df[f'Ticket{i}'] = ticket[:, i]\n",
      "C:\\Users\\pablo\\AppData\\Local\\Temp\\ipykernel_14528\\2248962618.py:22: PerformanceWarning: DataFrame is highly fragmented.  This is usually the result of calling `frame.insert` many times, which has poor performance.  Consider joining all columns at once using pd.concat(axis=1) instead. To get a de-fragmented frame, use `newframe = frame.copy()`\n",
      "  train_df[f'Ticket{i}'] = ticket[:, i]\n",
      "C:\\Users\\pablo\\AppData\\Local\\Temp\\ipykernel_14528\\2248962618.py:22: PerformanceWarning: DataFrame is highly fragmented.  This is usually the result of calling `frame.insert` many times, which has poor performance.  Consider joining all columns at once using pd.concat(axis=1) instead. To get a de-fragmented frame, use `newframe = frame.copy()`\n",
      "  train_df[f'Ticket{i}'] = ticket[:, i]\n",
      "C:\\Users\\pablo\\AppData\\Local\\Temp\\ipykernel_14528\\2248962618.py:22: PerformanceWarning: DataFrame is highly fragmented.  This is usually the result of calling `frame.insert` many times, which has poor performance.  Consider joining all columns at once using pd.concat(axis=1) instead. To get a de-fragmented frame, use `newframe = frame.copy()`\n",
      "  train_df[f'Ticket{i}'] = ticket[:, i]\n",
      "C:\\Users\\pablo\\AppData\\Local\\Temp\\ipykernel_14528\\2248962618.py:22: PerformanceWarning: DataFrame is highly fragmented.  This is usually the result of calling `frame.insert` many times, which has poor performance.  Consider joining all columns at once using pd.concat(axis=1) instead. To get a de-fragmented frame, use `newframe = frame.copy()`\n",
      "  train_df[f'Ticket{i}'] = ticket[:, i]\n",
      "C:\\Users\\pablo\\AppData\\Local\\Temp\\ipykernel_14528\\2248962618.py:22: PerformanceWarning: DataFrame is highly fragmented.  This is usually the result of calling `frame.insert` many times, which has poor performance.  Consider joining all columns at once using pd.concat(axis=1) instead. To get a de-fragmented frame, use `newframe = frame.copy()`\n",
      "  train_df[f'Ticket{i}'] = ticket[:, i]\n",
      "C:\\Users\\pablo\\AppData\\Local\\Temp\\ipykernel_14528\\2248962618.py:22: PerformanceWarning: DataFrame is highly fragmented.  This is usually the result of calling `frame.insert` many times, which has poor performance.  Consider joining all columns at once using pd.concat(axis=1) instead. To get a de-fragmented frame, use `newframe = frame.copy()`\n",
      "  train_df[f'Ticket{i}'] = ticket[:, i]\n",
      "C:\\Users\\pablo\\AppData\\Local\\Temp\\ipykernel_14528\\2248962618.py:22: PerformanceWarning: DataFrame is highly fragmented.  This is usually the result of calling `frame.insert` many times, which has poor performance.  Consider joining all columns at once using pd.concat(axis=1) instead. To get a de-fragmented frame, use `newframe = frame.copy()`\n",
      "  train_df[f'Ticket{i}'] = ticket[:, i]\n",
      "C:\\Users\\pablo\\AppData\\Local\\Temp\\ipykernel_14528\\2248962618.py:22: PerformanceWarning: DataFrame is highly fragmented.  This is usually the result of calling `frame.insert` many times, which has poor performance.  Consider joining all columns at once using pd.concat(axis=1) instead. To get a de-fragmented frame, use `newframe = frame.copy()`\n",
      "  train_df[f'Ticket{i}'] = ticket[:, i]\n",
      "C:\\Users\\pablo\\AppData\\Local\\Temp\\ipykernel_14528\\2248962618.py:22: PerformanceWarning: DataFrame is highly fragmented.  This is usually the result of calling `frame.insert` many times, which has poor performance.  Consider joining all columns at once using pd.concat(axis=1) instead. To get a de-fragmented frame, use `newframe = frame.copy()`\n",
      "  train_df[f'Ticket{i}'] = ticket[:, i]\n",
      "C:\\Users\\pablo\\AppData\\Local\\Temp\\ipykernel_14528\\2248962618.py:22: PerformanceWarning: DataFrame is highly fragmented.  This is usually the result of calling `frame.insert` many times, which has poor performance.  Consider joining all columns at once using pd.concat(axis=1) instead. To get a de-fragmented frame, use `newframe = frame.copy()`\n",
      "  train_df[f'Ticket{i}'] = ticket[:, i]\n",
      "C:\\Users\\pablo\\AppData\\Local\\Temp\\ipykernel_14528\\2248962618.py:22: PerformanceWarning: DataFrame is highly fragmented.  This is usually the result of calling `frame.insert` many times, which has poor performance.  Consider joining all columns at once using pd.concat(axis=1) instead. To get a de-fragmented frame, use `newframe = frame.copy()`\n",
      "  train_df[f'Ticket{i}'] = ticket[:, i]\n",
      "C:\\Users\\pablo\\AppData\\Local\\Temp\\ipykernel_14528\\2248962618.py:22: PerformanceWarning: DataFrame is highly fragmented.  This is usually the result of calling `frame.insert` many times, which has poor performance.  Consider joining all columns at once using pd.concat(axis=1) instead. To get a de-fragmented frame, use `newframe = frame.copy()`\n",
      "  train_df[f'Ticket{i}'] = ticket[:, i]\n",
      "C:\\Users\\pablo\\AppData\\Local\\Temp\\ipykernel_14528\\2248962618.py:22: PerformanceWarning: DataFrame is highly fragmented.  This is usually the result of calling `frame.insert` many times, which has poor performance.  Consider joining all columns at once using pd.concat(axis=1) instead. To get a de-fragmented frame, use `newframe = frame.copy()`\n",
      "  train_df[f'Ticket{i}'] = ticket[:, i]\n",
      "C:\\Users\\pablo\\AppData\\Local\\Temp\\ipykernel_14528\\2248962618.py:22: PerformanceWarning: DataFrame is highly fragmented.  This is usually the result of calling `frame.insert` many times, which has poor performance.  Consider joining all columns at once using pd.concat(axis=1) instead. To get a de-fragmented frame, use `newframe = frame.copy()`\n",
      "  train_df[f'Ticket{i}'] = ticket[:, i]\n",
      "C:\\Users\\pablo\\AppData\\Local\\Temp\\ipykernel_14528\\2248962618.py:22: PerformanceWarning: DataFrame is highly fragmented.  This is usually the result of calling `frame.insert` many times, which has poor performance.  Consider joining all columns at once using pd.concat(axis=1) instead. To get a de-fragmented frame, use `newframe = frame.copy()`\n",
      "  train_df[f'Ticket{i}'] = ticket[:, i]\n"
     ]
    },
    {
     "name": "stderr",
     "output_type": "stream",
     "text": [
      "C:\\Users\\pablo\\AppData\\Local\\Temp\\ipykernel_14528\\2248962618.py:22: PerformanceWarning: DataFrame is highly fragmented.  This is usually the result of calling `frame.insert` many times, which has poor performance.  Consider joining all columns at once using pd.concat(axis=1) instead. To get a de-fragmented frame, use `newframe = frame.copy()`\n",
      "  train_df[f'Ticket{i}'] = ticket[:, i]\n",
      "C:\\Users\\pablo\\AppData\\Local\\Temp\\ipykernel_14528\\2248962618.py:22: PerformanceWarning: DataFrame is highly fragmented.  This is usually the result of calling `frame.insert` many times, which has poor performance.  Consider joining all columns at once using pd.concat(axis=1) instead. To get a de-fragmented frame, use `newframe = frame.copy()`\n",
      "  train_df[f'Ticket{i}'] = ticket[:, i]\n",
      "C:\\Users\\pablo\\AppData\\Local\\Temp\\ipykernel_14528\\2248962618.py:22: PerformanceWarning: DataFrame is highly fragmented.  This is usually the result of calling `frame.insert` many times, which has poor performance.  Consider joining all columns at once using pd.concat(axis=1) instead. To get a de-fragmented frame, use `newframe = frame.copy()`\n",
      "  train_df[f'Ticket{i}'] = ticket[:, i]\n",
      "C:\\Users\\pablo\\AppData\\Local\\Temp\\ipykernel_14528\\2248962618.py:22: PerformanceWarning: DataFrame is highly fragmented.  This is usually the result of calling `frame.insert` many times, which has poor performance.  Consider joining all columns at once using pd.concat(axis=1) instead. To get a de-fragmented frame, use `newframe = frame.copy()`\n",
      "  train_df[f'Ticket{i}'] = ticket[:, i]\n",
      "C:\\Users\\pablo\\AppData\\Local\\Temp\\ipykernel_14528\\2248962618.py:22: PerformanceWarning: DataFrame is highly fragmented.  This is usually the result of calling `frame.insert` many times, which has poor performance.  Consider joining all columns at once using pd.concat(axis=1) instead. To get a de-fragmented frame, use `newframe = frame.copy()`\n",
      "  train_df[f'Ticket{i}'] = ticket[:, i]\n",
      "C:\\Users\\pablo\\AppData\\Local\\Temp\\ipykernel_14528\\2248962618.py:22: PerformanceWarning: DataFrame is highly fragmented.  This is usually the result of calling `frame.insert` many times, which has poor performance.  Consider joining all columns at once using pd.concat(axis=1) instead. To get a de-fragmented frame, use `newframe = frame.copy()`\n",
      "  train_df[f'Ticket{i}'] = ticket[:, i]\n",
      "C:\\Users\\pablo\\AppData\\Local\\Temp\\ipykernel_14528\\2248962618.py:22: PerformanceWarning: DataFrame is highly fragmented.  This is usually the result of calling `frame.insert` many times, which has poor performance.  Consider joining all columns at once using pd.concat(axis=1) instead. To get a de-fragmented frame, use `newframe = frame.copy()`\n",
      "  train_df[f'Ticket{i}'] = ticket[:, i]\n",
      "C:\\Users\\pablo\\AppData\\Local\\Temp\\ipykernel_14528\\2248962618.py:22: PerformanceWarning: DataFrame is highly fragmented.  This is usually the result of calling `frame.insert` many times, which has poor performance.  Consider joining all columns at once using pd.concat(axis=1) instead. To get a de-fragmented frame, use `newframe = frame.copy()`\n",
      "  train_df[f'Ticket{i}'] = ticket[:, i]\n",
      "C:\\Users\\pablo\\AppData\\Local\\Temp\\ipykernel_14528\\2248962618.py:22: PerformanceWarning: DataFrame is highly fragmented.  This is usually the result of calling `frame.insert` many times, which has poor performance.  Consider joining all columns at once using pd.concat(axis=1) instead. To get a de-fragmented frame, use `newframe = frame.copy()`\n",
      "  train_df[f'Ticket{i}'] = ticket[:, i]\n",
      "C:\\Users\\pablo\\AppData\\Local\\Temp\\ipykernel_14528\\2248962618.py:22: PerformanceWarning: DataFrame is highly fragmented.  This is usually the result of calling `frame.insert` many times, which has poor performance.  Consider joining all columns at once using pd.concat(axis=1) instead. To get a de-fragmented frame, use `newframe = frame.copy()`\n",
      "  train_df[f'Ticket{i}'] = ticket[:, i]\n",
      "C:\\Users\\pablo\\AppData\\Local\\Temp\\ipykernel_14528\\2248962618.py:22: PerformanceWarning: DataFrame is highly fragmented.  This is usually the result of calling `frame.insert` many times, which has poor performance.  Consider joining all columns at once using pd.concat(axis=1) instead. To get a de-fragmented frame, use `newframe = frame.copy()`\n",
      "  train_df[f'Ticket{i}'] = ticket[:, i]\n",
      "C:\\Users\\pablo\\AppData\\Local\\Temp\\ipykernel_14528\\2248962618.py:22: PerformanceWarning: DataFrame is highly fragmented.  This is usually the result of calling `frame.insert` many times, which has poor performance.  Consider joining all columns at once using pd.concat(axis=1) instead. To get a de-fragmented frame, use `newframe = frame.copy()`\n",
      "  train_df[f'Ticket{i}'] = ticket[:, i]\n",
      "C:\\Users\\pablo\\AppData\\Local\\Temp\\ipykernel_14528\\2248962618.py:22: PerformanceWarning: DataFrame is highly fragmented.  This is usually the result of calling `frame.insert` many times, which has poor performance.  Consider joining all columns at once using pd.concat(axis=1) instead. To get a de-fragmented frame, use `newframe = frame.copy()`\n",
      "  train_df[f'Ticket{i}'] = ticket[:, i]\n",
      "C:\\Users\\pablo\\AppData\\Local\\Temp\\ipykernel_14528\\2248962618.py:22: PerformanceWarning: DataFrame is highly fragmented.  This is usually the result of calling `frame.insert` many times, which has poor performance.  Consider joining all columns at once using pd.concat(axis=1) instead. To get a de-fragmented frame, use `newframe = frame.copy()`\n",
      "  train_df[f'Ticket{i}'] = ticket[:, i]\n",
      "C:\\Users\\pablo\\AppData\\Local\\Temp\\ipykernel_14528\\2248962618.py:22: PerformanceWarning: DataFrame is highly fragmented.  This is usually the result of calling `frame.insert` many times, which has poor performance.  Consider joining all columns at once using pd.concat(axis=1) instead. To get a de-fragmented frame, use `newframe = frame.copy()`\n",
      "  train_df[f'Ticket{i}'] = ticket[:, i]\n",
      "C:\\Users\\pablo\\AppData\\Local\\Temp\\ipykernel_14528\\2248962618.py:22: PerformanceWarning: DataFrame is highly fragmented.  This is usually the result of calling `frame.insert` many times, which has poor performance.  Consider joining all columns at once using pd.concat(axis=1) instead. To get a de-fragmented frame, use `newframe = frame.copy()`\n",
      "  train_df[f'Ticket{i}'] = ticket[:, i]\n",
      "C:\\Users\\pablo\\AppData\\Local\\Temp\\ipykernel_14528\\2248962618.py:22: PerformanceWarning: DataFrame is highly fragmented.  This is usually the result of calling `frame.insert` many times, which has poor performance.  Consider joining all columns at once using pd.concat(axis=1) instead. To get a de-fragmented frame, use `newframe = frame.copy()`\n",
      "  train_df[f'Ticket{i}'] = ticket[:, i]\n",
      "C:\\Users\\pablo\\AppData\\Local\\Temp\\ipykernel_14528\\2248962618.py:22: PerformanceWarning: DataFrame is highly fragmented.  This is usually the result of calling `frame.insert` many times, which has poor performance.  Consider joining all columns at once using pd.concat(axis=1) instead. To get a de-fragmented frame, use `newframe = frame.copy()`\n",
      "  train_df[f'Ticket{i}'] = ticket[:, i]\n",
      "C:\\Users\\pablo\\AppData\\Local\\Temp\\ipykernel_14528\\2248962618.py:22: PerformanceWarning: DataFrame is highly fragmented.  This is usually the result of calling `frame.insert` many times, which has poor performance.  Consider joining all columns at once using pd.concat(axis=1) instead. To get a de-fragmented frame, use `newframe = frame.copy()`\n",
      "  train_df[f'Ticket{i}'] = ticket[:, i]\n",
      "C:\\Users\\pablo\\AppData\\Local\\Temp\\ipykernel_14528\\2248962618.py:22: PerformanceWarning: DataFrame is highly fragmented.  This is usually the result of calling `frame.insert` many times, which has poor performance.  Consider joining all columns at once using pd.concat(axis=1) instead. To get a de-fragmented frame, use `newframe = frame.copy()`\n",
      "  train_df[f'Ticket{i}'] = ticket[:, i]\n",
      "C:\\Users\\pablo\\AppData\\Local\\Temp\\ipykernel_14528\\2248962618.py:22: PerformanceWarning: DataFrame is highly fragmented.  This is usually the result of calling `frame.insert` many times, which has poor performance.  Consider joining all columns at once using pd.concat(axis=1) instead. To get a de-fragmented frame, use `newframe = frame.copy()`\n",
      "  train_df[f'Ticket{i}'] = ticket[:, i]\n",
      "C:\\Users\\pablo\\AppData\\Local\\Temp\\ipykernel_14528\\2248962618.py:22: PerformanceWarning: DataFrame is highly fragmented.  This is usually the result of calling `frame.insert` many times, which has poor performance.  Consider joining all columns at once using pd.concat(axis=1) instead. To get a de-fragmented frame, use `newframe = frame.copy()`\n",
      "  train_df[f'Ticket{i}'] = ticket[:, i]\n",
      "C:\\Users\\pablo\\AppData\\Local\\Temp\\ipykernel_14528\\2248962618.py:22: PerformanceWarning: DataFrame is highly fragmented.  This is usually the result of calling `frame.insert` many times, which has poor performance.  Consider joining all columns at once using pd.concat(axis=1) instead. To get a de-fragmented frame, use `newframe = frame.copy()`\n",
      "  train_df[f'Ticket{i}'] = ticket[:, i]\n",
      "C:\\Users\\pablo\\AppData\\Local\\Temp\\ipykernel_14528\\2248962618.py:22: PerformanceWarning: DataFrame is highly fragmented.  This is usually the result of calling `frame.insert` many times, which has poor performance.  Consider joining all columns at once using pd.concat(axis=1) instead. To get a de-fragmented frame, use `newframe = frame.copy()`\n",
      "  train_df[f'Ticket{i}'] = ticket[:, i]\n",
      "C:\\Users\\pablo\\AppData\\Local\\Temp\\ipykernel_14528\\2248962618.py:22: PerformanceWarning: DataFrame is highly fragmented.  This is usually the result of calling `frame.insert` many times, which has poor performance.  Consider joining all columns at once using pd.concat(axis=1) instead. To get a de-fragmented frame, use `newframe = frame.copy()`\n",
      "  train_df[f'Ticket{i}'] = ticket[:, i]\n"
     ]
    },
    {
     "name": "stderr",
     "output_type": "stream",
     "text": [
      "C:\\Users\\pablo\\AppData\\Local\\Temp\\ipykernel_14528\\2248962618.py:22: PerformanceWarning: DataFrame is highly fragmented.  This is usually the result of calling `frame.insert` many times, which has poor performance.  Consider joining all columns at once using pd.concat(axis=1) instead. To get a de-fragmented frame, use `newframe = frame.copy()`\n",
      "  train_df[f'Ticket{i}'] = ticket[:, i]\n",
      "C:\\Users\\pablo\\AppData\\Local\\Temp\\ipykernel_14528\\2248962618.py:22: PerformanceWarning: DataFrame is highly fragmented.  This is usually the result of calling `frame.insert` many times, which has poor performance.  Consider joining all columns at once using pd.concat(axis=1) instead. To get a de-fragmented frame, use `newframe = frame.copy()`\n",
      "  train_df[f'Ticket{i}'] = ticket[:, i]\n",
      "C:\\Users\\pablo\\AppData\\Local\\Temp\\ipykernel_14528\\2248962618.py:22: PerformanceWarning: DataFrame is highly fragmented.  This is usually the result of calling `frame.insert` many times, which has poor performance.  Consider joining all columns at once using pd.concat(axis=1) instead. To get a de-fragmented frame, use `newframe = frame.copy()`\n",
      "  train_df[f'Ticket{i}'] = ticket[:, i]\n",
      "C:\\Users\\pablo\\AppData\\Local\\Temp\\ipykernel_14528\\2248962618.py:22: PerformanceWarning: DataFrame is highly fragmented.  This is usually the result of calling `frame.insert` many times, which has poor performance.  Consider joining all columns at once using pd.concat(axis=1) instead. To get a de-fragmented frame, use `newframe = frame.copy()`\n",
      "  train_df[f'Ticket{i}'] = ticket[:, i]\n",
      "C:\\Users\\pablo\\AppData\\Local\\Temp\\ipykernel_14528\\2248962618.py:22: PerformanceWarning: DataFrame is highly fragmented.  This is usually the result of calling `frame.insert` many times, which has poor performance.  Consider joining all columns at once using pd.concat(axis=1) instead. To get a de-fragmented frame, use `newframe = frame.copy()`\n",
      "  train_df[f'Ticket{i}'] = ticket[:, i]\n",
      "C:\\Users\\pablo\\AppData\\Local\\Temp\\ipykernel_14528\\2248962618.py:22: PerformanceWarning: DataFrame is highly fragmented.  This is usually the result of calling `frame.insert` many times, which has poor performance.  Consider joining all columns at once using pd.concat(axis=1) instead. To get a de-fragmented frame, use `newframe = frame.copy()`\n",
      "  train_df[f'Ticket{i}'] = ticket[:, i]\n",
      "C:\\Users\\pablo\\AppData\\Local\\Temp\\ipykernel_14528\\2248962618.py:22: PerformanceWarning: DataFrame is highly fragmented.  This is usually the result of calling `frame.insert` many times, which has poor performance.  Consider joining all columns at once using pd.concat(axis=1) instead. To get a de-fragmented frame, use `newframe = frame.copy()`\n",
      "  train_df[f'Ticket{i}'] = ticket[:, i]\n",
      "C:\\Users\\pablo\\AppData\\Local\\Temp\\ipykernel_14528\\2248962618.py:22: PerformanceWarning: DataFrame is highly fragmented.  This is usually the result of calling `frame.insert` many times, which has poor performance.  Consider joining all columns at once using pd.concat(axis=1) instead. To get a de-fragmented frame, use `newframe = frame.copy()`\n",
      "  train_df[f'Ticket{i}'] = ticket[:, i]\n",
      "C:\\Users\\pablo\\AppData\\Local\\Temp\\ipykernel_14528\\2248962618.py:22: PerformanceWarning: DataFrame is highly fragmented.  This is usually the result of calling `frame.insert` many times, which has poor performance.  Consider joining all columns at once using pd.concat(axis=1) instead. To get a de-fragmented frame, use `newframe = frame.copy()`\n",
      "  train_df[f'Ticket{i}'] = ticket[:, i]\n",
      "C:\\Users\\pablo\\AppData\\Local\\Temp\\ipykernel_14528\\2248962618.py:22: PerformanceWarning: DataFrame is highly fragmented.  This is usually the result of calling `frame.insert` many times, which has poor performance.  Consider joining all columns at once using pd.concat(axis=1) instead. To get a de-fragmented frame, use `newframe = frame.copy()`\n",
      "  train_df[f'Ticket{i}'] = ticket[:, i]\n",
      "C:\\Users\\pablo\\AppData\\Local\\Temp\\ipykernel_14528\\2248962618.py:22: PerformanceWarning: DataFrame is highly fragmented.  This is usually the result of calling `frame.insert` many times, which has poor performance.  Consider joining all columns at once using pd.concat(axis=1) instead. To get a de-fragmented frame, use `newframe = frame.copy()`\n",
      "  train_df[f'Ticket{i}'] = ticket[:, i]\n",
      "C:\\Users\\pablo\\AppData\\Local\\Temp\\ipykernel_14528\\2248962618.py:22: PerformanceWarning: DataFrame is highly fragmented.  This is usually the result of calling `frame.insert` many times, which has poor performance.  Consider joining all columns at once using pd.concat(axis=1) instead. To get a de-fragmented frame, use `newframe = frame.copy()`\n",
      "  train_df[f'Ticket{i}'] = ticket[:, i]\n",
      "C:\\Users\\pablo\\AppData\\Local\\Temp\\ipykernel_14528\\2248962618.py:22: PerformanceWarning: DataFrame is highly fragmented.  This is usually the result of calling `frame.insert` many times, which has poor performance.  Consider joining all columns at once using pd.concat(axis=1) instead. To get a de-fragmented frame, use `newframe = frame.copy()`\n",
      "  train_df[f'Ticket{i}'] = ticket[:, i]\n",
      "C:\\Users\\pablo\\AppData\\Local\\Temp\\ipykernel_14528\\2248962618.py:22: PerformanceWarning: DataFrame is highly fragmented.  This is usually the result of calling `frame.insert` many times, which has poor performance.  Consider joining all columns at once using pd.concat(axis=1) instead. To get a de-fragmented frame, use `newframe = frame.copy()`\n",
      "  train_df[f'Ticket{i}'] = ticket[:, i]\n",
      "C:\\Users\\pablo\\AppData\\Local\\Temp\\ipykernel_14528\\2248962618.py:22: PerformanceWarning: DataFrame is highly fragmented.  This is usually the result of calling `frame.insert` many times, which has poor performance.  Consider joining all columns at once using pd.concat(axis=1) instead. To get a de-fragmented frame, use `newframe = frame.copy()`\n",
      "  train_df[f'Ticket{i}'] = ticket[:, i]\n",
      "C:\\Users\\pablo\\AppData\\Local\\Temp\\ipykernel_14528\\2248962618.py:22: PerformanceWarning: DataFrame is highly fragmented.  This is usually the result of calling `frame.insert` many times, which has poor performance.  Consider joining all columns at once using pd.concat(axis=1) instead. To get a de-fragmented frame, use `newframe = frame.copy()`\n",
      "  train_df[f'Ticket{i}'] = ticket[:, i]\n",
      "C:\\Users\\pablo\\AppData\\Local\\Temp\\ipykernel_14528\\2248962618.py:22: PerformanceWarning: DataFrame is highly fragmented.  This is usually the result of calling `frame.insert` many times, which has poor performance.  Consider joining all columns at once using pd.concat(axis=1) instead. To get a de-fragmented frame, use `newframe = frame.copy()`\n",
      "  train_df[f'Ticket{i}'] = ticket[:, i]\n",
      "C:\\Users\\pablo\\AppData\\Local\\Temp\\ipykernel_14528\\2248962618.py:22: PerformanceWarning: DataFrame is highly fragmented.  This is usually the result of calling `frame.insert` many times, which has poor performance.  Consider joining all columns at once using pd.concat(axis=1) instead. To get a de-fragmented frame, use `newframe = frame.copy()`\n",
      "  train_df[f'Ticket{i}'] = ticket[:, i]\n",
      "C:\\Users\\pablo\\AppData\\Local\\Temp\\ipykernel_14528\\2248962618.py:22: PerformanceWarning: DataFrame is highly fragmented.  This is usually the result of calling `frame.insert` many times, which has poor performance.  Consider joining all columns at once using pd.concat(axis=1) instead. To get a de-fragmented frame, use `newframe = frame.copy()`\n",
      "  train_df[f'Ticket{i}'] = ticket[:, i]\n",
      "C:\\Users\\pablo\\AppData\\Local\\Temp\\ipykernel_14528\\2248962618.py:22: PerformanceWarning: DataFrame is highly fragmented.  This is usually the result of calling `frame.insert` many times, which has poor performance.  Consider joining all columns at once using pd.concat(axis=1) instead. To get a de-fragmented frame, use `newframe = frame.copy()`\n",
      "  train_df[f'Ticket{i}'] = ticket[:, i]\n",
      "C:\\Users\\pablo\\AppData\\Local\\Temp\\ipykernel_14528\\2248962618.py:22: PerformanceWarning: DataFrame is highly fragmented.  This is usually the result of calling `frame.insert` many times, which has poor performance.  Consider joining all columns at once using pd.concat(axis=1) instead. To get a de-fragmented frame, use `newframe = frame.copy()`\n",
      "  train_df[f'Ticket{i}'] = ticket[:, i]\n",
      "C:\\Users\\pablo\\AppData\\Local\\Temp\\ipykernel_14528\\2248962618.py:22: PerformanceWarning: DataFrame is highly fragmented.  This is usually the result of calling `frame.insert` many times, which has poor performance.  Consider joining all columns at once using pd.concat(axis=1) instead. To get a de-fragmented frame, use `newframe = frame.copy()`\n",
      "  train_df[f'Ticket{i}'] = ticket[:, i]\n",
      "C:\\Users\\pablo\\AppData\\Local\\Temp\\ipykernel_14528\\2248962618.py:22: PerformanceWarning: DataFrame is highly fragmented.  This is usually the result of calling `frame.insert` many times, which has poor performance.  Consider joining all columns at once using pd.concat(axis=1) instead. To get a de-fragmented frame, use `newframe = frame.copy()`\n",
      "  train_df[f'Ticket{i}'] = ticket[:, i]\n",
      "C:\\Users\\pablo\\AppData\\Local\\Temp\\ipykernel_14528\\2248962618.py:22: PerformanceWarning: DataFrame is highly fragmented.  This is usually the result of calling `frame.insert` many times, which has poor performance.  Consider joining all columns at once using pd.concat(axis=1) instead. To get a de-fragmented frame, use `newframe = frame.copy()`\n",
      "  train_df[f'Ticket{i}'] = ticket[:, i]\n"
     ]
    },
    {
     "name": "stderr",
     "output_type": "stream",
     "text": [
      "C:\\Users\\pablo\\AppData\\Local\\Temp\\ipykernel_14528\\2248962618.py:22: PerformanceWarning: DataFrame is highly fragmented.  This is usually the result of calling `frame.insert` many times, which has poor performance.  Consider joining all columns at once using pd.concat(axis=1) instead. To get a de-fragmented frame, use `newframe = frame.copy()`\n",
      "  train_df[f'Ticket{i}'] = ticket[:, i]\n",
      "C:\\Users\\pablo\\AppData\\Local\\Temp\\ipykernel_14528\\2248962618.py:22: PerformanceWarning: DataFrame is highly fragmented.  This is usually the result of calling `frame.insert` many times, which has poor performance.  Consider joining all columns at once using pd.concat(axis=1) instead. To get a de-fragmented frame, use `newframe = frame.copy()`\n",
      "  train_df[f'Ticket{i}'] = ticket[:, i]\n",
      "C:\\Users\\pablo\\AppData\\Local\\Temp\\ipykernel_14528\\2248962618.py:22: PerformanceWarning: DataFrame is highly fragmented.  This is usually the result of calling `frame.insert` many times, which has poor performance.  Consider joining all columns at once using pd.concat(axis=1) instead. To get a de-fragmented frame, use `newframe = frame.copy()`\n",
      "  train_df[f'Ticket{i}'] = ticket[:, i]\n",
      "C:\\Users\\pablo\\AppData\\Local\\Temp\\ipykernel_14528\\2248962618.py:22: PerformanceWarning: DataFrame is highly fragmented.  This is usually the result of calling `frame.insert` many times, which has poor performance.  Consider joining all columns at once using pd.concat(axis=1) instead. To get a de-fragmented frame, use `newframe = frame.copy()`\n",
      "  train_df[f'Ticket{i}'] = ticket[:, i]\n",
      "C:\\Users\\pablo\\AppData\\Local\\Temp\\ipykernel_14528\\2248962618.py:22: PerformanceWarning: DataFrame is highly fragmented.  This is usually the result of calling `frame.insert` many times, which has poor performance.  Consider joining all columns at once using pd.concat(axis=1) instead. To get a de-fragmented frame, use `newframe = frame.copy()`\n",
      "  train_df[f'Ticket{i}'] = ticket[:, i]\n",
      "C:\\Users\\pablo\\AppData\\Local\\Temp\\ipykernel_14528\\2248962618.py:22: PerformanceWarning: DataFrame is highly fragmented.  This is usually the result of calling `frame.insert` many times, which has poor performance.  Consider joining all columns at once using pd.concat(axis=1) instead. To get a de-fragmented frame, use `newframe = frame.copy()`\n",
      "  train_df[f'Ticket{i}'] = ticket[:, i]\n",
      "C:\\Users\\pablo\\AppData\\Local\\Temp\\ipykernel_14528\\2248962618.py:22: PerformanceWarning: DataFrame is highly fragmented.  This is usually the result of calling `frame.insert` many times, which has poor performance.  Consider joining all columns at once using pd.concat(axis=1) instead. To get a de-fragmented frame, use `newframe = frame.copy()`\n",
      "  train_df[f'Ticket{i}'] = ticket[:, i]\n",
      "C:\\Users\\pablo\\AppData\\Local\\Temp\\ipykernel_14528\\2248962618.py:22: PerformanceWarning: DataFrame is highly fragmented.  This is usually the result of calling `frame.insert` many times, which has poor performance.  Consider joining all columns at once using pd.concat(axis=1) instead. To get a de-fragmented frame, use `newframe = frame.copy()`\n",
      "  train_df[f'Ticket{i}'] = ticket[:, i]\n",
      "C:\\Users\\pablo\\AppData\\Local\\Temp\\ipykernel_14528\\2248962618.py:22: PerformanceWarning: DataFrame is highly fragmented.  This is usually the result of calling `frame.insert` many times, which has poor performance.  Consider joining all columns at once using pd.concat(axis=1) instead. To get a de-fragmented frame, use `newframe = frame.copy()`\n",
      "  train_df[f'Ticket{i}'] = ticket[:, i]\n",
      "C:\\Users\\pablo\\AppData\\Local\\Temp\\ipykernel_14528\\2248962618.py:22: PerformanceWarning: DataFrame is highly fragmented.  This is usually the result of calling `frame.insert` many times, which has poor performance.  Consider joining all columns at once using pd.concat(axis=1) instead. To get a de-fragmented frame, use `newframe = frame.copy()`\n",
      "  train_df[f'Ticket{i}'] = ticket[:, i]\n",
      "C:\\Users\\pablo\\AppData\\Local\\Temp\\ipykernel_14528\\2248962618.py:22: PerformanceWarning: DataFrame is highly fragmented.  This is usually the result of calling `frame.insert` many times, which has poor performance.  Consider joining all columns at once using pd.concat(axis=1) instead. To get a de-fragmented frame, use `newframe = frame.copy()`\n",
      "  train_df[f'Ticket{i}'] = ticket[:, i]\n",
      "C:\\Users\\pablo\\AppData\\Local\\Temp\\ipykernel_14528\\2248962618.py:22: PerformanceWarning: DataFrame is highly fragmented.  This is usually the result of calling `frame.insert` many times, which has poor performance.  Consider joining all columns at once using pd.concat(axis=1) instead. To get a de-fragmented frame, use `newframe = frame.copy()`\n",
      "  train_df[f'Ticket{i}'] = ticket[:, i]\n",
      "C:\\Users\\pablo\\AppData\\Local\\Temp\\ipykernel_14528\\2248962618.py:22: PerformanceWarning: DataFrame is highly fragmented.  This is usually the result of calling `frame.insert` many times, which has poor performance.  Consider joining all columns at once using pd.concat(axis=1) instead. To get a de-fragmented frame, use `newframe = frame.copy()`\n",
      "  train_df[f'Ticket{i}'] = ticket[:, i]\n",
      "C:\\Users\\pablo\\AppData\\Local\\Temp\\ipykernel_14528\\2248962618.py:22: PerformanceWarning: DataFrame is highly fragmented.  This is usually the result of calling `frame.insert` many times, which has poor performance.  Consider joining all columns at once using pd.concat(axis=1) instead. To get a de-fragmented frame, use `newframe = frame.copy()`\n",
      "  train_df[f'Ticket{i}'] = ticket[:, i]\n",
      "C:\\Users\\pablo\\AppData\\Local\\Temp\\ipykernel_14528\\2248962618.py:22: PerformanceWarning: DataFrame is highly fragmented.  This is usually the result of calling `frame.insert` many times, which has poor performance.  Consider joining all columns at once using pd.concat(axis=1) instead. To get a de-fragmented frame, use `newframe = frame.copy()`\n",
      "  train_df[f'Ticket{i}'] = ticket[:, i]\n",
      "C:\\Users\\pablo\\AppData\\Local\\Temp\\ipykernel_14528\\2248962618.py:22: PerformanceWarning: DataFrame is highly fragmented.  This is usually the result of calling `frame.insert` many times, which has poor performance.  Consider joining all columns at once using pd.concat(axis=1) instead. To get a de-fragmented frame, use `newframe = frame.copy()`\n",
      "  train_df[f'Ticket{i}'] = ticket[:, i]\n",
      "C:\\Users\\pablo\\AppData\\Local\\Temp\\ipykernel_14528\\2248962618.py:22: PerformanceWarning: DataFrame is highly fragmented.  This is usually the result of calling `frame.insert` many times, which has poor performance.  Consider joining all columns at once using pd.concat(axis=1) instead. To get a de-fragmented frame, use `newframe = frame.copy()`\n",
      "  train_df[f'Ticket{i}'] = ticket[:, i]\n",
      "C:\\Users\\pablo\\AppData\\Local\\Temp\\ipykernel_14528\\2248962618.py:22: PerformanceWarning: DataFrame is highly fragmented.  This is usually the result of calling `frame.insert` many times, which has poor performance.  Consider joining all columns at once using pd.concat(axis=1) instead. To get a de-fragmented frame, use `newframe = frame.copy()`\n",
      "  train_df[f'Ticket{i}'] = ticket[:, i]\n",
      "C:\\Users\\pablo\\AppData\\Local\\Temp\\ipykernel_14528\\2248962618.py:22: PerformanceWarning: DataFrame is highly fragmented.  This is usually the result of calling `frame.insert` many times, which has poor performance.  Consider joining all columns at once using pd.concat(axis=1) instead. To get a de-fragmented frame, use `newframe = frame.copy()`\n",
      "  train_df[f'Ticket{i}'] = ticket[:, i]\n",
      "C:\\Users\\pablo\\AppData\\Local\\Temp\\ipykernel_14528\\2248962618.py:22: PerformanceWarning: DataFrame is highly fragmented.  This is usually the result of calling `frame.insert` many times, which has poor performance.  Consider joining all columns at once using pd.concat(axis=1) instead. To get a de-fragmented frame, use `newframe = frame.copy()`\n",
      "  train_df[f'Ticket{i}'] = ticket[:, i]\n",
      "C:\\Users\\pablo\\AppData\\Local\\Temp\\ipykernel_14528\\2248962618.py:22: PerformanceWarning: DataFrame is highly fragmented.  This is usually the result of calling `frame.insert` many times, which has poor performance.  Consider joining all columns at once using pd.concat(axis=1) instead. To get a de-fragmented frame, use `newframe = frame.copy()`\n",
      "  train_df[f'Ticket{i}'] = ticket[:, i]\n",
      "C:\\Users\\pablo\\AppData\\Local\\Temp\\ipykernel_14528\\2248962618.py:22: PerformanceWarning: DataFrame is highly fragmented.  This is usually the result of calling `frame.insert` many times, which has poor performance.  Consider joining all columns at once using pd.concat(axis=1) instead. To get a de-fragmented frame, use `newframe = frame.copy()`\n",
      "  train_df[f'Ticket{i}'] = ticket[:, i]\n",
      "C:\\Users\\pablo\\AppData\\Local\\Temp\\ipykernel_14528\\2248962618.py:22: PerformanceWarning: DataFrame is highly fragmented.  This is usually the result of calling `frame.insert` many times, which has poor performance.  Consider joining all columns at once using pd.concat(axis=1) instead. To get a de-fragmented frame, use `newframe = frame.copy()`\n",
      "  train_df[f'Ticket{i}'] = ticket[:, i]\n"
     ]
    },
    {
     "name": "stderr",
     "output_type": "stream",
     "text": [
      "C:\\Users\\pablo\\AppData\\Local\\Temp\\ipykernel_14528\\2248962618.py:22: PerformanceWarning: DataFrame is highly fragmented.  This is usually the result of calling `frame.insert` many times, which has poor performance.  Consider joining all columns at once using pd.concat(axis=1) instead. To get a de-fragmented frame, use `newframe = frame.copy()`\n",
      "  train_df[f'Ticket{i}'] = ticket[:, i]\n",
      "C:\\Users\\pablo\\AppData\\Local\\Temp\\ipykernel_14528\\2248962618.py:22: PerformanceWarning: DataFrame is highly fragmented.  This is usually the result of calling `frame.insert` many times, which has poor performance.  Consider joining all columns at once using pd.concat(axis=1) instead. To get a de-fragmented frame, use `newframe = frame.copy()`\n",
      "  train_df[f'Ticket{i}'] = ticket[:, i]\n",
      "C:\\Users\\pablo\\AppData\\Local\\Temp\\ipykernel_14528\\2248962618.py:22: PerformanceWarning: DataFrame is highly fragmented.  This is usually the result of calling `frame.insert` many times, which has poor performance.  Consider joining all columns at once using pd.concat(axis=1) instead. To get a de-fragmented frame, use `newframe = frame.copy()`\n",
      "  train_df[f'Ticket{i}'] = ticket[:, i]\n",
      "C:\\Users\\pablo\\AppData\\Local\\Temp\\ipykernel_14528\\2248962618.py:22: PerformanceWarning: DataFrame is highly fragmented.  This is usually the result of calling `frame.insert` many times, which has poor performance.  Consider joining all columns at once using pd.concat(axis=1) instead. To get a de-fragmented frame, use `newframe = frame.copy()`\n",
      "  train_df[f'Ticket{i}'] = ticket[:, i]\n",
      "C:\\Users\\pablo\\AppData\\Local\\Temp\\ipykernel_14528\\2248962618.py:22: PerformanceWarning: DataFrame is highly fragmented.  This is usually the result of calling `frame.insert` many times, which has poor performance.  Consider joining all columns at once using pd.concat(axis=1) instead. To get a de-fragmented frame, use `newframe = frame.copy()`\n",
      "  train_df[f'Ticket{i}'] = ticket[:, i]\n",
      "C:\\Users\\pablo\\AppData\\Local\\Temp\\ipykernel_14528\\2248962618.py:22: PerformanceWarning: DataFrame is highly fragmented.  This is usually the result of calling `frame.insert` many times, which has poor performance.  Consider joining all columns at once using pd.concat(axis=1) instead. To get a de-fragmented frame, use `newframe = frame.copy()`\n",
      "  train_df[f'Ticket{i}'] = ticket[:, i]\n",
      "C:\\Users\\pablo\\AppData\\Local\\Temp\\ipykernel_14528\\2248962618.py:22: PerformanceWarning: DataFrame is highly fragmented.  This is usually the result of calling `frame.insert` many times, which has poor performance.  Consider joining all columns at once using pd.concat(axis=1) instead. To get a de-fragmented frame, use `newframe = frame.copy()`\n",
      "  train_df[f'Ticket{i}'] = ticket[:, i]\n",
      "C:\\Users\\pablo\\AppData\\Local\\Temp\\ipykernel_14528\\2248962618.py:22: PerformanceWarning: DataFrame is highly fragmented.  This is usually the result of calling `frame.insert` many times, which has poor performance.  Consider joining all columns at once using pd.concat(axis=1) instead. To get a de-fragmented frame, use `newframe = frame.copy()`\n",
      "  train_df[f'Ticket{i}'] = ticket[:, i]\n",
      "C:\\Users\\pablo\\AppData\\Local\\Temp\\ipykernel_14528\\2248962618.py:22: PerformanceWarning: DataFrame is highly fragmented.  This is usually the result of calling `frame.insert` many times, which has poor performance.  Consider joining all columns at once using pd.concat(axis=1) instead. To get a de-fragmented frame, use `newframe = frame.copy()`\n",
      "  train_df[f'Ticket{i}'] = ticket[:, i]\n",
      "C:\\Users\\pablo\\AppData\\Local\\Temp\\ipykernel_14528\\2248962618.py:22: PerformanceWarning: DataFrame is highly fragmented.  This is usually the result of calling `frame.insert` many times, which has poor performance.  Consider joining all columns at once using pd.concat(axis=1) instead. To get a de-fragmented frame, use `newframe = frame.copy()`\n",
      "  train_df[f'Ticket{i}'] = ticket[:, i]\n",
      "C:\\Users\\pablo\\AppData\\Local\\Temp\\ipykernel_14528\\2248962618.py:22: PerformanceWarning: DataFrame is highly fragmented.  This is usually the result of calling `frame.insert` many times, which has poor performance.  Consider joining all columns at once using pd.concat(axis=1) instead. To get a de-fragmented frame, use `newframe = frame.copy()`\n",
      "  train_df[f'Ticket{i}'] = ticket[:, i]\n",
      "C:\\Users\\pablo\\AppData\\Local\\Temp\\ipykernel_14528\\2248962618.py:22: PerformanceWarning: DataFrame is highly fragmented.  This is usually the result of calling `frame.insert` many times, which has poor performance.  Consider joining all columns at once using pd.concat(axis=1) instead. To get a de-fragmented frame, use `newframe = frame.copy()`\n",
      "  train_df[f'Ticket{i}'] = ticket[:, i]\n",
      "C:\\Users\\pablo\\AppData\\Local\\Temp\\ipykernel_14528\\2248962618.py:22: PerformanceWarning: DataFrame is highly fragmented.  This is usually the result of calling `frame.insert` many times, which has poor performance.  Consider joining all columns at once using pd.concat(axis=1) instead. To get a de-fragmented frame, use `newframe = frame.copy()`\n",
      "  train_df[f'Ticket{i}'] = ticket[:, i]\n",
      "C:\\Users\\pablo\\AppData\\Local\\Temp\\ipykernel_14528\\2248962618.py:22: PerformanceWarning: DataFrame is highly fragmented.  This is usually the result of calling `frame.insert` many times, which has poor performance.  Consider joining all columns at once using pd.concat(axis=1) instead. To get a de-fragmented frame, use `newframe = frame.copy()`\n",
      "  train_df[f'Ticket{i}'] = ticket[:, i]\n",
      "C:\\Users\\pablo\\AppData\\Local\\Temp\\ipykernel_14528\\2248962618.py:22: PerformanceWarning: DataFrame is highly fragmented.  This is usually the result of calling `frame.insert` many times, which has poor performance.  Consider joining all columns at once using pd.concat(axis=1) instead. To get a de-fragmented frame, use `newframe = frame.copy()`\n",
      "  train_df[f'Ticket{i}'] = ticket[:, i]\n",
      "C:\\Users\\pablo\\AppData\\Local\\Temp\\ipykernel_14528\\2248962618.py:22: PerformanceWarning: DataFrame is highly fragmented.  This is usually the result of calling `frame.insert` many times, which has poor performance.  Consider joining all columns at once using pd.concat(axis=1) instead. To get a de-fragmented frame, use `newframe = frame.copy()`\n",
      "  train_df[f'Ticket{i}'] = ticket[:, i]\n",
      "C:\\Users\\pablo\\AppData\\Local\\Temp\\ipykernel_14528\\2248962618.py:22: PerformanceWarning: DataFrame is highly fragmented.  This is usually the result of calling `frame.insert` many times, which has poor performance.  Consider joining all columns at once using pd.concat(axis=1) instead. To get a de-fragmented frame, use `newframe = frame.copy()`\n",
      "  train_df[f'Ticket{i}'] = ticket[:, i]\n",
      "C:\\Users\\pablo\\AppData\\Local\\Temp\\ipykernel_14528\\2248962618.py:22: PerformanceWarning: DataFrame is highly fragmented.  This is usually the result of calling `frame.insert` many times, which has poor performance.  Consider joining all columns at once using pd.concat(axis=1) instead. To get a de-fragmented frame, use `newframe = frame.copy()`\n",
      "  train_df[f'Ticket{i}'] = ticket[:, i]\n",
      "C:\\Users\\pablo\\AppData\\Local\\Temp\\ipykernel_14528\\2248962618.py:22: PerformanceWarning: DataFrame is highly fragmented.  This is usually the result of calling `frame.insert` many times, which has poor performance.  Consider joining all columns at once using pd.concat(axis=1) instead. To get a de-fragmented frame, use `newframe = frame.copy()`\n",
      "  train_df[f'Ticket{i}'] = ticket[:, i]\n",
      "C:\\Users\\pablo\\AppData\\Local\\Temp\\ipykernel_14528\\2248962618.py:22: PerformanceWarning: DataFrame is highly fragmented.  This is usually the result of calling `frame.insert` many times, which has poor performance.  Consider joining all columns at once using pd.concat(axis=1) instead. To get a de-fragmented frame, use `newframe = frame.copy()`\n",
      "  train_df[f'Ticket{i}'] = ticket[:, i]\n",
      "C:\\Users\\pablo\\AppData\\Local\\Temp\\ipykernel_14528\\2248962618.py:22: PerformanceWarning: DataFrame is highly fragmented.  This is usually the result of calling `frame.insert` many times, which has poor performance.  Consider joining all columns at once using pd.concat(axis=1) instead. To get a de-fragmented frame, use `newframe = frame.copy()`\n",
      "  train_df[f'Ticket{i}'] = ticket[:, i]\n",
      "C:\\Users\\pablo\\AppData\\Local\\Temp\\ipykernel_14528\\2248962618.py:22: PerformanceWarning: DataFrame is highly fragmented.  This is usually the result of calling `frame.insert` many times, which has poor performance.  Consider joining all columns at once using pd.concat(axis=1) instead. To get a de-fragmented frame, use `newframe = frame.copy()`\n",
      "  train_df[f'Ticket{i}'] = ticket[:, i]\n",
      "C:\\Users\\pablo\\AppData\\Local\\Temp\\ipykernel_14528\\2248962618.py:22: PerformanceWarning: DataFrame is highly fragmented.  This is usually the result of calling `frame.insert` many times, which has poor performance.  Consider joining all columns at once using pd.concat(axis=1) instead. To get a de-fragmented frame, use `newframe = frame.copy()`\n",
      "  train_df[f'Ticket{i}'] = ticket[:, i]\n",
      "C:\\Users\\pablo\\AppData\\Local\\Temp\\ipykernel_14528\\2248962618.py:22: PerformanceWarning: DataFrame is highly fragmented.  This is usually the result of calling `frame.insert` many times, which has poor performance.  Consider joining all columns at once using pd.concat(axis=1) instead. To get a de-fragmented frame, use `newframe = frame.copy()`\n",
      "  train_df[f'Ticket{i}'] = ticket[:, i]\n"
     ]
    },
    {
     "name": "stderr",
     "output_type": "stream",
     "text": [
      "C:\\Users\\pablo\\AppData\\Local\\Temp\\ipykernel_14528\\2248962618.py:22: PerformanceWarning: DataFrame is highly fragmented.  This is usually the result of calling `frame.insert` many times, which has poor performance.  Consider joining all columns at once using pd.concat(axis=1) instead. To get a de-fragmented frame, use `newframe = frame.copy()`\n",
      "  train_df[f'Ticket{i}'] = ticket[:, i]\n",
      "C:\\Users\\pablo\\AppData\\Local\\Temp\\ipykernel_14528\\2248962618.py:22: PerformanceWarning: DataFrame is highly fragmented.  This is usually the result of calling `frame.insert` many times, which has poor performance.  Consider joining all columns at once using pd.concat(axis=1) instead. To get a de-fragmented frame, use `newframe = frame.copy()`\n",
      "  train_df[f'Ticket{i}'] = ticket[:, i]\n",
      "C:\\Users\\pablo\\AppData\\Local\\Temp\\ipykernel_14528\\2248962618.py:22: PerformanceWarning: DataFrame is highly fragmented.  This is usually the result of calling `frame.insert` many times, which has poor performance.  Consider joining all columns at once using pd.concat(axis=1) instead. To get a de-fragmented frame, use `newframe = frame.copy()`\n",
      "  train_df[f'Ticket{i}'] = ticket[:, i]\n",
      "C:\\Users\\pablo\\AppData\\Local\\Temp\\ipykernel_14528\\2248962618.py:22: PerformanceWarning: DataFrame is highly fragmented.  This is usually the result of calling `frame.insert` many times, which has poor performance.  Consider joining all columns at once using pd.concat(axis=1) instead. To get a de-fragmented frame, use `newframe = frame.copy()`\n",
      "  train_df[f'Ticket{i}'] = ticket[:, i]\n",
      "C:\\Users\\pablo\\AppData\\Local\\Temp\\ipykernel_14528\\2248962618.py:22: PerformanceWarning: DataFrame is highly fragmented.  This is usually the result of calling `frame.insert` many times, which has poor performance.  Consider joining all columns at once using pd.concat(axis=1) instead. To get a de-fragmented frame, use `newframe = frame.copy()`\n",
      "  train_df[f'Ticket{i}'] = ticket[:, i]\n",
      "C:\\Users\\pablo\\AppData\\Local\\Temp\\ipykernel_14528\\2248962618.py:22: PerformanceWarning: DataFrame is highly fragmented.  This is usually the result of calling `frame.insert` many times, which has poor performance.  Consider joining all columns at once using pd.concat(axis=1) instead. To get a de-fragmented frame, use `newframe = frame.copy()`\n",
      "  train_df[f'Ticket{i}'] = ticket[:, i]\n",
      "C:\\Users\\pablo\\AppData\\Local\\Temp\\ipykernel_14528\\2248962618.py:22: PerformanceWarning: DataFrame is highly fragmented.  This is usually the result of calling `frame.insert` many times, which has poor performance.  Consider joining all columns at once using pd.concat(axis=1) instead. To get a de-fragmented frame, use `newframe = frame.copy()`\n",
      "  train_df[f'Ticket{i}'] = ticket[:, i]\n",
      "C:\\Users\\pablo\\AppData\\Local\\Temp\\ipykernel_14528\\2248962618.py:22: PerformanceWarning: DataFrame is highly fragmented.  This is usually the result of calling `frame.insert` many times, which has poor performance.  Consider joining all columns at once using pd.concat(axis=1) instead. To get a de-fragmented frame, use `newframe = frame.copy()`\n",
      "  train_df[f'Ticket{i}'] = ticket[:, i]\n",
      "C:\\Users\\pablo\\AppData\\Local\\Temp\\ipykernel_14528\\2248962618.py:22: PerformanceWarning: DataFrame is highly fragmented.  This is usually the result of calling `frame.insert` many times, which has poor performance.  Consider joining all columns at once using pd.concat(axis=1) instead. To get a de-fragmented frame, use `newframe = frame.copy()`\n",
      "  train_df[f'Ticket{i}'] = ticket[:, i]\n",
      "C:\\Users\\pablo\\AppData\\Local\\Temp\\ipykernel_14528\\2248962618.py:22: PerformanceWarning: DataFrame is highly fragmented.  This is usually the result of calling `frame.insert` many times, which has poor performance.  Consider joining all columns at once using pd.concat(axis=1) instead. To get a de-fragmented frame, use `newframe = frame.copy()`\n",
      "  train_df[f'Ticket{i}'] = ticket[:, i]\n",
      "C:\\Users\\pablo\\AppData\\Local\\Temp\\ipykernel_14528\\2248962618.py:22: PerformanceWarning: DataFrame is highly fragmented.  This is usually the result of calling `frame.insert` many times, which has poor performance.  Consider joining all columns at once using pd.concat(axis=1) instead. To get a de-fragmented frame, use `newframe = frame.copy()`\n",
      "  train_df[f'Ticket{i}'] = ticket[:, i]\n",
      "C:\\Users\\pablo\\AppData\\Local\\Temp\\ipykernel_14528\\2248962618.py:22: PerformanceWarning: DataFrame is highly fragmented.  This is usually the result of calling `frame.insert` many times, which has poor performance.  Consider joining all columns at once using pd.concat(axis=1) instead. To get a de-fragmented frame, use `newframe = frame.copy()`\n",
      "  train_df[f'Ticket{i}'] = ticket[:, i]\n",
      "C:\\Users\\pablo\\AppData\\Local\\Temp\\ipykernel_14528\\2248962618.py:22: PerformanceWarning: DataFrame is highly fragmented.  This is usually the result of calling `frame.insert` many times, which has poor performance.  Consider joining all columns at once using pd.concat(axis=1) instead. To get a de-fragmented frame, use `newframe = frame.copy()`\n",
      "  train_df[f'Ticket{i}'] = ticket[:, i]\n",
      "C:\\Users\\pablo\\AppData\\Local\\Temp\\ipykernel_14528\\2248962618.py:22: PerformanceWarning: DataFrame is highly fragmented.  This is usually the result of calling `frame.insert` many times, which has poor performance.  Consider joining all columns at once using pd.concat(axis=1) instead. To get a de-fragmented frame, use `newframe = frame.copy()`\n",
      "  train_df[f'Ticket{i}'] = ticket[:, i]\n",
      "C:\\Users\\pablo\\AppData\\Local\\Temp\\ipykernel_14528\\2248962618.py:22: PerformanceWarning: DataFrame is highly fragmented.  This is usually the result of calling `frame.insert` many times, which has poor performance.  Consider joining all columns at once using pd.concat(axis=1) instead. To get a de-fragmented frame, use `newframe = frame.copy()`\n",
      "  train_df[f'Ticket{i}'] = ticket[:, i]\n",
      "C:\\Users\\pablo\\AppData\\Local\\Temp\\ipykernel_14528\\2248962618.py:22: PerformanceWarning: DataFrame is highly fragmented.  This is usually the result of calling `frame.insert` many times, which has poor performance.  Consider joining all columns at once using pd.concat(axis=1) instead. To get a de-fragmented frame, use `newframe = frame.copy()`\n",
      "  train_df[f'Ticket{i}'] = ticket[:, i]\n",
      "C:\\Users\\pablo\\AppData\\Local\\Temp\\ipykernel_14528\\2248962618.py:22: PerformanceWarning: DataFrame is highly fragmented.  This is usually the result of calling `frame.insert` many times, which has poor performance.  Consider joining all columns at once using pd.concat(axis=1) instead. To get a de-fragmented frame, use `newframe = frame.copy()`\n",
      "  train_df[f'Ticket{i}'] = ticket[:, i]\n",
      "C:\\Users\\pablo\\AppData\\Local\\Temp\\ipykernel_14528\\2248962618.py:22: PerformanceWarning: DataFrame is highly fragmented.  This is usually the result of calling `frame.insert` many times, which has poor performance.  Consider joining all columns at once using pd.concat(axis=1) instead. To get a de-fragmented frame, use `newframe = frame.copy()`\n",
      "  train_df[f'Ticket{i}'] = ticket[:, i]\n",
      "C:\\Users\\pablo\\AppData\\Local\\Temp\\ipykernel_14528\\2248962618.py:22: PerformanceWarning: DataFrame is highly fragmented.  This is usually the result of calling `frame.insert` many times, which has poor performance.  Consider joining all columns at once using pd.concat(axis=1) instead. To get a de-fragmented frame, use `newframe = frame.copy()`\n",
      "  train_df[f'Ticket{i}'] = ticket[:, i]\n",
      "C:\\Users\\pablo\\AppData\\Local\\Temp\\ipykernel_14528\\2248962618.py:22: PerformanceWarning: DataFrame is highly fragmented.  This is usually the result of calling `frame.insert` many times, which has poor performance.  Consider joining all columns at once using pd.concat(axis=1) instead. To get a de-fragmented frame, use `newframe = frame.copy()`\n",
      "  train_df[f'Ticket{i}'] = ticket[:, i]\n",
      "C:\\Users\\pablo\\AppData\\Local\\Temp\\ipykernel_14528\\2248962618.py:22: PerformanceWarning: DataFrame is highly fragmented.  This is usually the result of calling `frame.insert` many times, which has poor performance.  Consider joining all columns at once using pd.concat(axis=1) instead. To get a de-fragmented frame, use `newframe = frame.copy()`\n",
      "  train_df[f'Ticket{i}'] = ticket[:, i]\n",
      "C:\\Users\\pablo\\AppData\\Local\\Temp\\ipykernel_14528\\2248962618.py:22: PerformanceWarning: DataFrame is highly fragmented.  This is usually the result of calling `frame.insert` many times, which has poor performance.  Consider joining all columns at once using pd.concat(axis=1) instead. To get a de-fragmented frame, use `newframe = frame.copy()`\n",
      "  train_df[f'Ticket{i}'] = ticket[:, i]\n",
      "C:\\Users\\pablo\\AppData\\Local\\Temp\\ipykernel_14528\\2248962618.py:22: PerformanceWarning: DataFrame is highly fragmented.  This is usually the result of calling `frame.insert` many times, which has poor performance.  Consider joining all columns at once using pd.concat(axis=1) instead. To get a de-fragmented frame, use `newframe = frame.copy()`\n",
      "  train_df[f'Ticket{i}'] = ticket[:, i]\n"
     ]
    },
    {
     "name": "stderr",
     "output_type": "stream",
     "text": [
      "C:\\Users\\pablo\\AppData\\Local\\Temp\\ipykernel_14528\\2248962618.py:22: PerformanceWarning: DataFrame is highly fragmented.  This is usually the result of calling `frame.insert` many times, which has poor performance.  Consider joining all columns at once using pd.concat(axis=1) instead. To get a de-fragmented frame, use `newframe = frame.copy()`\n",
      "  train_df[f'Ticket{i}'] = ticket[:, i]\n",
      "C:\\Users\\pablo\\AppData\\Local\\Temp\\ipykernel_14528\\2248962618.py:22: PerformanceWarning: DataFrame is highly fragmented.  This is usually the result of calling `frame.insert` many times, which has poor performance.  Consider joining all columns at once using pd.concat(axis=1) instead. To get a de-fragmented frame, use `newframe = frame.copy()`\n",
      "  train_df[f'Ticket{i}'] = ticket[:, i]\n",
      "C:\\Users\\pablo\\AppData\\Local\\Temp\\ipykernel_14528\\2248962618.py:22: PerformanceWarning: DataFrame is highly fragmented.  This is usually the result of calling `frame.insert` many times, which has poor performance.  Consider joining all columns at once using pd.concat(axis=1) instead. To get a de-fragmented frame, use `newframe = frame.copy()`\n",
      "  train_df[f'Ticket{i}'] = ticket[:, i]\n",
      "C:\\Users\\pablo\\AppData\\Local\\Temp\\ipykernel_14528\\2248962618.py:22: PerformanceWarning: DataFrame is highly fragmented.  This is usually the result of calling `frame.insert` many times, which has poor performance.  Consider joining all columns at once using pd.concat(axis=1) instead. To get a de-fragmented frame, use `newframe = frame.copy()`\n",
      "  train_df[f'Ticket{i}'] = ticket[:, i]\n",
      "C:\\Users\\pablo\\AppData\\Local\\Temp\\ipykernel_14528\\2248962618.py:22: PerformanceWarning: DataFrame is highly fragmented.  This is usually the result of calling `frame.insert` many times, which has poor performance.  Consider joining all columns at once using pd.concat(axis=1) instead. To get a de-fragmented frame, use `newframe = frame.copy()`\n",
      "  train_df[f'Ticket{i}'] = ticket[:, i]\n",
      "C:\\Users\\pablo\\AppData\\Local\\Temp\\ipykernel_14528\\2248962618.py:22: PerformanceWarning: DataFrame is highly fragmented.  This is usually the result of calling `frame.insert` many times, which has poor performance.  Consider joining all columns at once using pd.concat(axis=1) instead. To get a de-fragmented frame, use `newframe = frame.copy()`\n",
      "  train_df[f'Ticket{i}'] = ticket[:, i]\n",
      "C:\\Users\\pablo\\AppData\\Local\\Temp\\ipykernel_14528\\2248962618.py:22: PerformanceWarning: DataFrame is highly fragmented.  This is usually the result of calling `frame.insert` many times, which has poor performance.  Consider joining all columns at once using pd.concat(axis=1) instead. To get a de-fragmented frame, use `newframe = frame.copy()`\n",
      "  train_df[f'Ticket{i}'] = ticket[:, i]\n",
      "C:\\Users\\pablo\\AppData\\Local\\Temp\\ipykernel_14528\\2248962618.py:22: PerformanceWarning: DataFrame is highly fragmented.  This is usually the result of calling `frame.insert` many times, which has poor performance.  Consider joining all columns at once using pd.concat(axis=1) instead. To get a de-fragmented frame, use `newframe = frame.copy()`\n",
      "  train_df[f'Ticket{i}'] = ticket[:, i]\n",
      "C:\\Users\\pablo\\AppData\\Local\\Temp\\ipykernel_14528\\2248962618.py:22: PerformanceWarning: DataFrame is highly fragmented.  This is usually the result of calling `frame.insert` many times, which has poor performance.  Consider joining all columns at once using pd.concat(axis=1) instead. To get a de-fragmented frame, use `newframe = frame.copy()`\n",
      "  train_df[f'Ticket{i}'] = ticket[:, i]\n",
      "C:\\Users\\pablo\\AppData\\Local\\Temp\\ipykernel_14528\\2248962618.py:22: PerformanceWarning: DataFrame is highly fragmented.  This is usually the result of calling `frame.insert` many times, which has poor performance.  Consider joining all columns at once using pd.concat(axis=1) instead. To get a de-fragmented frame, use `newframe = frame.copy()`\n",
      "  train_df[f'Ticket{i}'] = ticket[:, i]\n",
      "C:\\Users\\pablo\\AppData\\Local\\Temp\\ipykernel_14528\\2248962618.py:22: PerformanceWarning: DataFrame is highly fragmented.  This is usually the result of calling `frame.insert` many times, which has poor performance.  Consider joining all columns at once using pd.concat(axis=1) instead. To get a de-fragmented frame, use `newframe = frame.copy()`\n",
      "  train_df[f'Ticket{i}'] = ticket[:, i]\n",
      "C:\\Users\\pablo\\AppData\\Local\\Temp\\ipykernel_14528\\2248962618.py:22: PerformanceWarning: DataFrame is highly fragmented.  This is usually the result of calling `frame.insert` many times, which has poor performance.  Consider joining all columns at once using pd.concat(axis=1) instead. To get a de-fragmented frame, use `newframe = frame.copy()`\n",
      "  train_df[f'Ticket{i}'] = ticket[:, i]\n",
      "C:\\Users\\pablo\\AppData\\Local\\Temp\\ipykernel_14528\\2248962618.py:22: PerformanceWarning: DataFrame is highly fragmented.  This is usually the result of calling `frame.insert` many times, which has poor performance.  Consider joining all columns at once using pd.concat(axis=1) instead. To get a de-fragmented frame, use `newframe = frame.copy()`\n",
      "  train_df[f'Ticket{i}'] = ticket[:, i]\n",
      "C:\\Users\\pablo\\AppData\\Local\\Temp\\ipykernel_14528\\2248962618.py:22: PerformanceWarning: DataFrame is highly fragmented.  This is usually the result of calling `frame.insert` many times, which has poor performance.  Consider joining all columns at once using pd.concat(axis=1) instead. To get a de-fragmented frame, use `newframe = frame.copy()`\n",
      "  train_df[f'Ticket{i}'] = ticket[:, i]\n",
      "C:\\Users\\pablo\\AppData\\Local\\Temp\\ipykernel_14528\\2248962618.py:22: PerformanceWarning: DataFrame is highly fragmented.  This is usually the result of calling `frame.insert` many times, which has poor performance.  Consider joining all columns at once using pd.concat(axis=1) instead. To get a de-fragmented frame, use `newframe = frame.copy()`\n",
      "  train_df[f'Ticket{i}'] = ticket[:, i]\n",
      "C:\\Users\\pablo\\AppData\\Local\\Temp\\ipykernel_14528\\2248962618.py:22: PerformanceWarning: DataFrame is highly fragmented.  This is usually the result of calling `frame.insert` many times, which has poor performance.  Consider joining all columns at once using pd.concat(axis=1) instead. To get a de-fragmented frame, use `newframe = frame.copy()`\n",
      "  train_df[f'Ticket{i}'] = ticket[:, i]\n",
      "C:\\Users\\pablo\\AppData\\Local\\Temp\\ipykernel_14528\\2248962618.py:22: PerformanceWarning: DataFrame is highly fragmented.  This is usually the result of calling `frame.insert` many times, which has poor performance.  Consider joining all columns at once using pd.concat(axis=1) instead. To get a de-fragmented frame, use `newframe = frame.copy()`\n",
      "  train_df[f'Ticket{i}'] = ticket[:, i]\n",
      "C:\\Users\\pablo\\AppData\\Local\\Temp\\ipykernel_14528\\2248962618.py:22: PerformanceWarning: DataFrame is highly fragmented.  This is usually the result of calling `frame.insert` many times, which has poor performance.  Consider joining all columns at once using pd.concat(axis=1) instead. To get a de-fragmented frame, use `newframe = frame.copy()`\n",
      "  train_df[f'Ticket{i}'] = ticket[:, i]\n",
      "C:\\Users\\pablo\\AppData\\Local\\Temp\\ipykernel_14528\\2248962618.py:22: PerformanceWarning: DataFrame is highly fragmented.  This is usually the result of calling `frame.insert` many times, which has poor performance.  Consider joining all columns at once using pd.concat(axis=1) instead. To get a de-fragmented frame, use `newframe = frame.copy()`\n",
      "  train_df[f'Ticket{i}'] = ticket[:, i]\n",
      "C:\\Users\\pablo\\AppData\\Local\\Temp\\ipykernel_14528\\2248962618.py:22: PerformanceWarning: DataFrame is highly fragmented.  This is usually the result of calling `frame.insert` many times, which has poor performance.  Consider joining all columns at once using pd.concat(axis=1) instead. To get a de-fragmented frame, use `newframe = frame.copy()`\n",
      "  train_df[f'Ticket{i}'] = ticket[:, i]\n",
      "C:\\Users\\pablo\\AppData\\Local\\Temp\\ipykernel_14528\\2248962618.py:22: PerformanceWarning: DataFrame is highly fragmented.  This is usually the result of calling `frame.insert` many times, which has poor performance.  Consider joining all columns at once using pd.concat(axis=1) instead. To get a de-fragmented frame, use `newframe = frame.copy()`\n",
      "  train_df[f'Ticket{i}'] = ticket[:, i]\n",
      "C:\\Users\\pablo\\AppData\\Local\\Temp\\ipykernel_14528\\2248962618.py:22: PerformanceWarning: DataFrame is highly fragmented.  This is usually the result of calling `frame.insert` many times, which has poor performance.  Consider joining all columns at once using pd.concat(axis=1) instead. To get a de-fragmented frame, use `newframe = frame.copy()`\n",
      "  train_df[f'Ticket{i}'] = ticket[:, i]\n",
      "C:\\Users\\pablo\\AppData\\Local\\Temp\\ipykernel_14528\\2248962618.py:22: PerformanceWarning: DataFrame is highly fragmented.  This is usually the result of calling `frame.insert` many times, which has poor performance.  Consider joining all columns at once using pd.concat(axis=1) instead. To get a de-fragmented frame, use `newframe = frame.copy()`\n",
      "  train_df[f'Ticket{i}'] = ticket[:, i]\n"
     ]
    },
    {
     "name": "stderr",
     "output_type": "stream",
     "text": [
      "C:\\Users\\pablo\\AppData\\Local\\Temp\\ipykernel_14528\\2248962618.py:22: PerformanceWarning: DataFrame is highly fragmented.  This is usually the result of calling `frame.insert` many times, which has poor performance.  Consider joining all columns at once using pd.concat(axis=1) instead. To get a de-fragmented frame, use `newframe = frame.copy()`\n",
      "  train_df[f'Ticket{i}'] = ticket[:, i]\n",
      "C:\\Users\\pablo\\AppData\\Local\\Temp\\ipykernel_14528\\2248962618.py:22: PerformanceWarning: DataFrame is highly fragmented.  This is usually the result of calling `frame.insert` many times, which has poor performance.  Consider joining all columns at once using pd.concat(axis=1) instead. To get a de-fragmented frame, use `newframe = frame.copy()`\n",
      "  train_df[f'Ticket{i}'] = ticket[:, i]\n",
      "C:\\Users\\pablo\\AppData\\Local\\Temp\\ipykernel_14528\\2248962618.py:22: PerformanceWarning: DataFrame is highly fragmented.  This is usually the result of calling `frame.insert` many times, which has poor performance.  Consider joining all columns at once using pd.concat(axis=1) instead. To get a de-fragmented frame, use `newframe = frame.copy()`\n",
      "  train_df[f'Ticket{i}'] = ticket[:, i]\n",
      "C:\\Users\\pablo\\AppData\\Local\\Temp\\ipykernel_14528\\2248962618.py:22: PerformanceWarning: DataFrame is highly fragmented.  This is usually the result of calling `frame.insert` many times, which has poor performance.  Consider joining all columns at once using pd.concat(axis=1) instead. To get a de-fragmented frame, use `newframe = frame.copy()`\n",
      "  train_df[f'Ticket{i}'] = ticket[:, i]\n",
      "C:\\Users\\pablo\\AppData\\Local\\Temp\\ipykernel_14528\\2248962618.py:22: PerformanceWarning: DataFrame is highly fragmented.  This is usually the result of calling `frame.insert` many times, which has poor performance.  Consider joining all columns at once using pd.concat(axis=1) instead. To get a de-fragmented frame, use `newframe = frame.copy()`\n",
      "  train_df[f'Ticket{i}'] = ticket[:, i]\n",
      "C:\\Users\\pablo\\AppData\\Local\\Temp\\ipykernel_14528\\2248962618.py:22: PerformanceWarning: DataFrame is highly fragmented.  This is usually the result of calling `frame.insert` many times, which has poor performance.  Consider joining all columns at once using pd.concat(axis=1) instead. To get a de-fragmented frame, use `newframe = frame.copy()`\n",
      "  train_df[f'Ticket{i}'] = ticket[:, i]\n",
      "C:\\Users\\pablo\\AppData\\Local\\Temp\\ipykernel_14528\\2248962618.py:22: PerformanceWarning: DataFrame is highly fragmented.  This is usually the result of calling `frame.insert` many times, which has poor performance.  Consider joining all columns at once using pd.concat(axis=1) instead. To get a de-fragmented frame, use `newframe = frame.copy()`\n",
      "  train_df[f'Ticket{i}'] = ticket[:, i]\n",
      "C:\\Users\\pablo\\AppData\\Local\\Temp\\ipykernel_14528\\2248962618.py:22: PerformanceWarning: DataFrame is highly fragmented.  This is usually the result of calling `frame.insert` many times, which has poor performance.  Consider joining all columns at once using pd.concat(axis=1) instead. To get a de-fragmented frame, use `newframe = frame.copy()`\n",
      "  train_df[f'Ticket{i}'] = ticket[:, i]\n",
      "C:\\Users\\pablo\\AppData\\Local\\Temp\\ipykernel_14528\\2248962618.py:22: PerformanceWarning: DataFrame is highly fragmented.  This is usually the result of calling `frame.insert` many times, which has poor performance.  Consider joining all columns at once using pd.concat(axis=1) instead. To get a de-fragmented frame, use `newframe = frame.copy()`\n",
      "  train_df[f'Ticket{i}'] = ticket[:, i]\n",
      "C:\\Users\\pablo\\AppData\\Local\\Temp\\ipykernel_14528\\2248962618.py:22: PerformanceWarning: DataFrame is highly fragmented.  This is usually the result of calling `frame.insert` many times, which has poor performance.  Consider joining all columns at once using pd.concat(axis=1) instead. To get a de-fragmented frame, use `newframe = frame.copy()`\n",
      "  train_df[f'Ticket{i}'] = ticket[:, i]\n",
      "C:\\Users\\pablo\\AppData\\Local\\Temp\\ipykernel_14528\\2248962618.py:22: PerformanceWarning: DataFrame is highly fragmented.  This is usually the result of calling `frame.insert` many times, which has poor performance.  Consider joining all columns at once using pd.concat(axis=1) instead. To get a de-fragmented frame, use `newframe = frame.copy()`\n",
      "  train_df[f'Ticket{i}'] = ticket[:, i]\n",
      "C:\\Users\\pablo\\AppData\\Local\\Temp\\ipykernel_14528\\2248962618.py:22: PerformanceWarning: DataFrame is highly fragmented.  This is usually the result of calling `frame.insert` many times, which has poor performance.  Consider joining all columns at once using pd.concat(axis=1) instead. To get a de-fragmented frame, use `newframe = frame.copy()`\n",
      "  train_df[f'Ticket{i}'] = ticket[:, i]\n",
      "C:\\Users\\pablo\\AppData\\Local\\Temp\\ipykernel_14528\\2248962618.py:22: PerformanceWarning: DataFrame is highly fragmented.  This is usually the result of calling `frame.insert` many times, which has poor performance.  Consider joining all columns at once using pd.concat(axis=1) instead. To get a de-fragmented frame, use `newframe = frame.copy()`\n",
      "  train_df[f'Ticket{i}'] = ticket[:, i]\n",
      "C:\\Users\\pablo\\AppData\\Local\\Temp\\ipykernel_14528\\2248962618.py:22: PerformanceWarning: DataFrame is highly fragmented.  This is usually the result of calling `frame.insert` many times, which has poor performance.  Consider joining all columns at once using pd.concat(axis=1) instead. To get a de-fragmented frame, use `newframe = frame.copy()`\n",
      "  train_df[f'Ticket{i}'] = ticket[:, i]\n",
      "C:\\Users\\pablo\\AppData\\Local\\Temp\\ipykernel_14528\\2248962618.py:22: PerformanceWarning: DataFrame is highly fragmented.  This is usually the result of calling `frame.insert` many times, which has poor performance.  Consider joining all columns at once using pd.concat(axis=1) instead. To get a de-fragmented frame, use `newframe = frame.copy()`\n",
      "  train_df[f'Ticket{i}'] = ticket[:, i]\n",
      "C:\\Users\\pablo\\AppData\\Local\\Temp\\ipykernel_14528\\2248962618.py:22: PerformanceWarning: DataFrame is highly fragmented.  This is usually the result of calling `frame.insert` many times, which has poor performance.  Consider joining all columns at once using pd.concat(axis=1) instead. To get a de-fragmented frame, use `newframe = frame.copy()`\n",
      "  train_df[f'Ticket{i}'] = ticket[:, i]\n",
      "C:\\Users\\pablo\\AppData\\Local\\Temp\\ipykernel_14528\\2248962618.py:22: PerformanceWarning: DataFrame is highly fragmented.  This is usually the result of calling `frame.insert` many times, which has poor performance.  Consider joining all columns at once using pd.concat(axis=1) instead. To get a de-fragmented frame, use `newframe = frame.copy()`\n",
      "  train_df[f'Ticket{i}'] = ticket[:, i]\n",
      "C:\\Users\\pablo\\AppData\\Local\\Temp\\ipykernel_14528\\2248962618.py:22: PerformanceWarning: DataFrame is highly fragmented.  This is usually the result of calling `frame.insert` many times, which has poor performance.  Consider joining all columns at once using pd.concat(axis=1) instead. To get a de-fragmented frame, use `newframe = frame.copy()`\n",
      "  train_df[f'Ticket{i}'] = ticket[:, i]\n",
      "C:\\Users\\pablo\\AppData\\Local\\Temp\\ipykernel_14528\\2248962618.py:22: PerformanceWarning: DataFrame is highly fragmented.  This is usually the result of calling `frame.insert` many times, which has poor performance.  Consider joining all columns at once using pd.concat(axis=1) instead. To get a de-fragmented frame, use `newframe = frame.copy()`\n",
      "  train_df[f'Ticket{i}'] = ticket[:, i]\n",
      "C:\\Users\\pablo\\AppData\\Local\\Temp\\ipykernel_14528\\2248962618.py:22: PerformanceWarning: DataFrame is highly fragmented.  This is usually the result of calling `frame.insert` many times, which has poor performance.  Consider joining all columns at once using pd.concat(axis=1) instead. To get a de-fragmented frame, use `newframe = frame.copy()`\n",
      "  train_df[f'Ticket{i}'] = ticket[:, i]\n",
      "C:\\Users\\pablo\\AppData\\Local\\Temp\\ipykernel_14528\\2248962618.py:22: PerformanceWarning: DataFrame is highly fragmented.  This is usually the result of calling `frame.insert` many times, which has poor performance.  Consider joining all columns at once using pd.concat(axis=1) instead. To get a de-fragmented frame, use `newframe = frame.copy()`\n",
      "  train_df[f'Ticket{i}'] = ticket[:, i]\n",
      "C:\\Users\\pablo\\AppData\\Local\\Temp\\ipykernel_14528\\2248962618.py:22: PerformanceWarning: DataFrame is highly fragmented.  This is usually the result of calling `frame.insert` many times, which has poor performance.  Consider joining all columns at once using pd.concat(axis=1) instead. To get a de-fragmented frame, use `newframe = frame.copy()`\n",
      "  train_df[f'Ticket{i}'] = ticket[:, i]\n",
      "C:\\Users\\pablo\\AppData\\Local\\Temp\\ipykernel_14528\\2248962618.py:22: PerformanceWarning: DataFrame is highly fragmented.  This is usually the result of calling `frame.insert` many times, which has poor performance.  Consider joining all columns at once using pd.concat(axis=1) instead. To get a de-fragmented frame, use `newframe = frame.copy()`\n",
      "  train_df[f'Ticket{i}'] = ticket[:, i]\n"
     ]
    },
    {
     "name": "stderr",
     "output_type": "stream",
     "text": [
      "C:\\Users\\pablo\\AppData\\Local\\Temp\\ipykernel_14528\\2248962618.py:22: PerformanceWarning: DataFrame is highly fragmented.  This is usually the result of calling `frame.insert` many times, which has poor performance.  Consider joining all columns at once using pd.concat(axis=1) instead. To get a de-fragmented frame, use `newframe = frame.copy()`\n",
      "  train_df[f'Ticket{i}'] = ticket[:, i]\n",
      "C:\\Users\\pablo\\AppData\\Local\\Temp\\ipykernel_14528\\2248962618.py:22: PerformanceWarning: DataFrame is highly fragmented.  This is usually the result of calling `frame.insert` many times, which has poor performance.  Consider joining all columns at once using pd.concat(axis=1) instead. To get a de-fragmented frame, use `newframe = frame.copy()`\n",
      "  train_df[f'Ticket{i}'] = ticket[:, i]\n",
      "C:\\Users\\pablo\\AppData\\Local\\Temp\\ipykernel_14528\\2248962618.py:22: PerformanceWarning: DataFrame is highly fragmented.  This is usually the result of calling `frame.insert` many times, which has poor performance.  Consider joining all columns at once using pd.concat(axis=1) instead. To get a de-fragmented frame, use `newframe = frame.copy()`\n",
      "  train_df[f'Ticket{i}'] = ticket[:, i]\n",
      "C:\\Users\\pablo\\AppData\\Local\\Temp\\ipykernel_14528\\2248962618.py:22: PerformanceWarning: DataFrame is highly fragmented.  This is usually the result of calling `frame.insert` many times, which has poor performance.  Consider joining all columns at once using pd.concat(axis=1) instead. To get a de-fragmented frame, use `newframe = frame.copy()`\n",
      "  train_df[f'Ticket{i}'] = ticket[:, i]\n",
      "C:\\Users\\pablo\\AppData\\Local\\Temp\\ipykernel_14528\\2248962618.py:22: PerformanceWarning: DataFrame is highly fragmented.  This is usually the result of calling `frame.insert` many times, which has poor performance.  Consider joining all columns at once using pd.concat(axis=1) instead. To get a de-fragmented frame, use `newframe = frame.copy()`\n",
      "  train_df[f'Ticket{i}'] = ticket[:, i]\n",
      "C:\\Users\\pablo\\AppData\\Local\\Temp\\ipykernel_14528\\2248962618.py:22: PerformanceWarning: DataFrame is highly fragmented.  This is usually the result of calling `frame.insert` many times, which has poor performance.  Consider joining all columns at once using pd.concat(axis=1) instead. To get a de-fragmented frame, use `newframe = frame.copy()`\n",
      "  train_df[f'Ticket{i}'] = ticket[:, i]\n",
      "C:\\Users\\pablo\\AppData\\Local\\Temp\\ipykernel_14528\\2248962618.py:22: PerformanceWarning: DataFrame is highly fragmented.  This is usually the result of calling `frame.insert` many times, which has poor performance.  Consider joining all columns at once using pd.concat(axis=1) instead. To get a de-fragmented frame, use `newframe = frame.copy()`\n",
      "  train_df[f'Ticket{i}'] = ticket[:, i]\n",
      "C:\\Users\\pablo\\AppData\\Local\\Temp\\ipykernel_14528\\2248962618.py:22: PerformanceWarning: DataFrame is highly fragmented.  This is usually the result of calling `frame.insert` many times, which has poor performance.  Consider joining all columns at once using pd.concat(axis=1) instead. To get a de-fragmented frame, use `newframe = frame.copy()`\n",
      "  train_df[f'Ticket{i}'] = ticket[:, i]\n",
      "C:\\Users\\pablo\\AppData\\Local\\Temp\\ipykernel_14528\\2248962618.py:22: PerformanceWarning: DataFrame is highly fragmented.  This is usually the result of calling `frame.insert` many times, which has poor performance.  Consider joining all columns at once using pd.concat(axis=1) instead. To get a de-fragmented frame, use `newframe = frame.copy()`\n",
      "  train_df[f'Ticket{i}'] = ticket[:, i]\n",
      "C:\\Users\\pablo\\AppData\\Local\\Temp\\ipykernel_14528\\2248962618.py:22: PerformanceWarning: DataFrame is highly fragmented.  This is usually the result of calling `frame.insert` many times, which has poor performance.  Consider joining all columns at once using pd.concat(axis=1) instead. To get a de-fragmented frame, use `newframe = frame.copy()`\n",
      "  train_df[f'Ticket{i}'] = ticket[:, i]\n",
      "C:\\Users\\pablo\\AppData\\Local\\Temp\\ipykernel_14528\\2248962618.py:22: PerformanceWarning: DataFrame is highly fragmented.  This is usually the result of calling `frame.insert` many times, which has poor performance.  Consider joining all columns at once using pd.concat(axis=1) instead. To get a de-fragmented frame, use `newframe = frame.copy()`\n",
      "  train_df[f'Ticket{i}'] = ticket[:, i]\n",
      "C:\\Users\\pablo\\AppData\\Local\\Temp\\ipykernel_14528\\2248962618.py:22: PerformanceWarning: DataFrame is highly fragmented.  This is usually the result of calling `frame.insert` many times, which has poor performance.  Consider joining all columns at once using pd.concat(axis=1) instead. To get a de-fragmented frame, use `newframe = frame.copy()`\n",
      "  train_df[f'Ticket{i}'] = ticket[:, i]\n",
      "C:\\Users\\pablo\\AppData\\Local\\Temp\\ipykernel_14528\\2248962618.py:22: PerformanceWarning: DataFrame is highly fragmented.  This is usually the result of calling `frame.insert` many times, which has poor performance.  Consider joining all columns at once using pd.concat(axis=1) instead. To get a de-fragmented frame, use `newframe = frame.copy()`\n",
      "  train_df[f'Ticket{i}'] = ticket[:, i]\n",
      "C:\\Users\\pablo\\AppData\\Local\\Temp\\ipykernel_14528\\2248962618.py:22: PerformanceWarning: DataFrame is highly fragmented.  This is usually the result of calling `frame.insert` many times, which has poor performance.  Consider joining all columns at once using pd.concat(axis=1) instead. To get a de-fragmented frame, use `newframe = frame.copy()`\n",
      "  train_df[f'Ticket{i}'] = ticket[:, i]\n",
      "C:\\Users\\pablo\\AppData\\Local\\Temp\\ipykernel_14528\\2248962618.py:22: PerformanceWarning: DataFrame is highly fragmented.  This is usually the result of calling `frame.insert` many times, which has poor performance.  Consider joining all columns at once using pd.concat(axis=1) instead. To get a de-fragmented frame, use `newframe = frame.copy()`\n",
      "  train_df[f'Ticket{i}'] = ticket[:, i]\n",
      "C:\\Users\\pablo\\AppData\\Local\\Temp\\ipykernel_14528\\2248962618.py:22: PerformanceWarning: DataFrame is highly fragmented.  This is usually the result of calling `frame.insert` many times, which has poor performance.  Consider joining all columns at once using pd.concat(axis=1) instead. To get a de-fragmented frame, use `newframe = frame.copy()`\n",
      "  train_df[f'Ticket{i}'] = ticket[:, i]\n",
      "C:\\Users\\pablo\\AppData\\Local\\Temp\\ipykernel_14528\\2248962618.py:22: PerformanceWarning: DataFrame is highly fragmented.  This is usually the result of calling `frame.insert` many times, which has poor performance.  Consider joining all columns at once using pd.concat(axis=1) instead. To get a de-fragmented frame, use `newframe = frame.copy()`\n",
      "  train_df[f'Ticket{i}'] = ticket[:, i]\n",
      "C:\\Users\\pablo\\AppData\\Local\\Temp\\ipykernel_14528\\2248962618.py:22: PerformanceWarning: DataFrame is highly fragmented.  This is usually the result of calling `frame.insert` many times, which has poor performance.  Consider joining all columns at once using pd.concat(axis=1) instead. To get a de-fragmented frame, use `newframe = frame.copy()`\n",
      "  train_df[f'Ticket{i}'] = ticket[:, i]\n",
      "C:\\Users\\pablo\\AppData\\Local\\Temp\\ipykernel_14528\\2248962618.py:22: PerformanceWarning: DataFrame is highly fragmented.  This is usually the result of calling `frame.insert` many times, which has poor performance.  Consider joining all columns at once using pd.concat(axis=1) instead. To get a de-fragmented frame, use `newframe = frame.copy()`\n",
      "  train_df[f'Ticket{i}'] = ticket[:, i]\n",
      "C:\\Users\\pablo\\AppData\\Local\\Temp\\ipykernel_14528\\2248962618.py:22: PerformanceWarning: DataFrame is highly fragmented.  This is usually the result of calling `frame.insert` many times, which has poor performance.  Consider joining all columns at once using pd.concat(axis=1) instead. To get a de-fragmented frame, use `newframe = frame.copy()`\n",
      "  train_df[f'Ticket{i}'] = ticket[:, i]\n",
      "C:\\Users\\pablo\\AppData\\Local\\Temp\\ipykernel_14528\\2248962618.py:22: PerformanceWarning: DataFrame is highly fragmented.  This is usually the result of calling `frame.insert` many times, which has poor performance.  Consider joining all columns at once using pd.concat(axis=1) instead. To get a de-fragmented frame, use `newframe = frame.copy()`\n",
      "  train_df[f'Ticket{i}'] = ticket[:, i]\n",
      "C:\\Users\\pablo\\AppData\\Local\\Temp\\ipykernel_14528\\2248962618.py:22: PerformanceWarning: DataFrame is highly fragmented.  This is usually the result of calling `frame.insert` many times, which has poor performance.  Consider joining all columns at once using pd.concat(axis=1) instead. To get a de-fragmented frame, use `newframe = frame.copy()`\n",
      "  train_df[f'Ticket{i}'] = ticket[:, i]\n",
      "C:\\Users\\pablo\\AppData\\Local\\Temp\\ipykernel_14528\\2248962618.py:22: PerformanceWarning: DataFrame is highly fragmented.  This is usually the result of calling `frame.insert` many times, which has poor performance.  Consider joining all columns at once using pd.concat(axis=1) instead. To get a de-fragmented frame, use `newframe = frame.copy()`\n",
      "  train_df[f'Ticket{i}'] = ticket[:, i]\n",
      "C:\\Users\\pablo\\AppData\\Local\\Temp\\ipykernel_14528\\2248962618.py:22: PerformanceWarning: DataFrame is highly fragmented.  This is usually the result of calling `frame.insert` many times, which has poor performance.  Consider joining all columns at once using pd.concat(axis=1) instead. To get a de-fragmented frame, use `newframe = frame.copy()`\n",
      "  train_df[f'Ticket{i}'] = ticket[:, i]\n"
     ]
    },
    {
     "name": "stderr",
     "output_type": "stream",
     "text": [
      "C:\\Users\\pablo\\AppData\\Local\\Temp\\ipykernel_14528\\2248962618.py:22: PerformanceWarning: DataFrame is highly fragmented.  This is usually the result of calling `frame.insert` many times, which has poor performance.  Consider joining all columns at once using pd.concat(axis=1) instead. To get a de-fragmented frame, use `newframe = frame.copy()`\n",
      "  train_df[f'Ticket{i}'] = ticket[:, i]\n",
      "C:\\Users\\pablo\\AppData\\Local\\Temp\\ipykernel_14528\\2248962618.py:22: PerformanceWarning: DataFrame is highly fragmented.  This is usually the result of calling `frame.insert` many times, which has poor performance.  Consider joining all columns at once using pd.concat(axis=1) instead. To get a de-fragmented frame, use `newframe = frame.copy()`\n",
      "  train_df[f'Ticket{i}'] = ticket[:, i]\n",
      "C:\\Users\\pablo\\AppData\\Local\\Temp\\ipykernel_14528\\2248962618.py:22: PerformanceWarning: DataFrame is highly fragmented.  This is usually the result of calling `frame.insert` many times, which has poor performance.  Consider joining all columns at once using pd.concat(axis=1) instead. To get a de-fragmented frame, use `newframe = frame.copy()`\n",
      "  train_df[f'Ticket{i}'] = ticket[:, i]\n",
      "C:\\Users\\pablo\\AppData\\Local\\Temp\\ipykernel_14528\\2248962618.py:22: PerformanceWarning: DataFrame is highly fragmented.  This is usually the result of calling `frame.insert` many times, which has poor performance.  Consider joining all columns at once using pd.concat(axis=1) instead. To get a de-fragmented frame, use `newframe = frame.copy()`\n",
      "  train_df[f'Ticket{i}'] = ticket[:, i]\n",
      "C:\\Users\\pablo\\AppData\\Local\\Temp\\ipykernel_14528\\2248962618.py:22: PerformanceWarning: DataFrame is highly fragmented.  This is usually the result of calling `frame.insert` many times, which has poor performance.  Consider joining all columns at once using pd.concat(axis=1) instead. To get a de-fragmented frame, use `newframe = frame.copy()`\n",
      "  train_df[f'Ticket{i}'] = ticket[:, i]\n",
      "C:\\Users\\pablo\\AppData\\Local\\Temp\\ipykernel_14528\\2248962618.py:22: PerformanceWarning: DataFrame is highly fragmented.  This is usually the result of calling `frame.insert` many times, which has poor performance.  Consider joining all columns at once using pd.concat(axis=1) instead. To get a de-fragmented frame, use `newframe = frame.copy()`\n",
      "  train_df[f'Ticket{i}'] = ticket[:, i]\n",
      "C:\\Users\\pablo\\AppData\\Local\\Temp\\ipykernel_14528\\2248962618.py:22: PerformanceWarning: DataFrame is highly fragmented.  This is usually the result of calling `frame.insert` many times, which has poor performance.  Consider joining all columns at once using pd.concat(axis=1) instead. To get a de-fragmented frame, use `newframe = frame.copy()`\n",
      "  train_df[f'Ticket{i}'] = ticket[:, i]\n",
      "C:\\Users\\pablo\\AppData\\Local\\Temp\\ipykernel_14528\\2248962618.py:22: PerformanceWarning: DataFrame is highly fragmented.  This is usually the result of calling `frame.insert` many times, which has poor performance.  Consider joining all columns at once using pd.concat(axis=1) instead. To get a de-fragmented frame, use `newframe = frame.copy()`\n",
      "  train_df[f'Ticket{i}'] = ticket[:, i]\n",
      "C:\\Users\\pablo\\AppData\\Local\\Temp\\ipykernel_14528\\2248962618.py:22: PerformanceWarning: DataFrame is highly fragmented.  This is usually the result of calling `frame.insert` many times, which has poor performance.  Consider joining all columns at once using pd.concat(axis=1) instead. To get a de-fragmented frame, use `newframe = frame.copy()`\n",
      "  train_df[f'Ticket{i}'] = ticket[:, i]\n",
      "C:\\Users\\pablo\\AppData\\Local\\Temp\\ipykernel_14528\\2248962618.py:22: PerformanceWarning: DataFrame is highly fragmented.  This is usually the result of calling `frame.insert` many times, which has poor performance.  Consider joining all columns at once using pd.concat(axis=1) instead. To get a de-fragmented frame, use `newframe = frame.copy()`\n",
      "  train_df[f'Ticket{i}'] = ticket[:, i]\n",
      "C:\\Users\\pablo\\AppData\\Local\\Temp\\ipykernel_14528\\2248962618.py:22: PerformanceWarning: DataFrame is highly fragmented.  This is usually the result of calling `frame.insert` many times, which has poor performance.  Consider joining all columns at once using pd.concat(axis=1) instead. To get a de-fragmented frame, use `newframe = frame.copy()`\n",
      "  train_df[f'Ticket{i}'] = ticket[:, i]\n",
      "C:\\Users\\pablo\\AppData\\Local\\Temp\\ipykernel_14528\\2248962618.py:22: PerformanceWarning: DataFrame is highly fragmented.  This is usually the result of calling `frame.insert` many times, which has poor performance.  Consider joining all columns at once using pd.concat(axis=1) instead. To get a de-fragmented frame, use `newframe = frame.copy()`\n",
      "  train_df[f'Ticket{i}'] = ticket[:, i]\n",
      "C:\\Users\\pablo\\AppData\\Local\\Temp\\ipykernel_14528\\2248962618.py:22: PerformanceWarning: DataFrame is highly fragmented.  This is usually the result of calling `frame.insert` many times, which has poor performance.  Consider joining all columns at once using pd.concat(axis=1) instead. To get a de-fragmented frame, use `newframe = frame.copy()`\n",
      "  train_df[f'Ticket{i}'] = ticket[:, i]\n",
      "C:\\Users\\pablo\\AppData\\Local\\Temp\\ipykernel_14528\\2248962618.py:22: PerformanceWarning: DataFrame is highly fragmented.  This is usually the result of calling `frame.insert` many times, which has poor performance.  Consider joining all columns at once using pd.concat(axis=1) instead. To get a de-fragmented frame, use `newframe = frame.copy()`\n",
      "  train_df[f'Ticket{i}'] = ticket[:, i]\n",
      "C:\\Users\\pablo\\AppData\\Local\\Temp\\ipykernel_14528\\2248962618.py:22: PerformanceWarning: DataFrame is highly fragmented.  This is usually the result of calling `frame.insert` many times, which has poor performance.  Consider joining all columns at once using pd.concat(axis=1) instead. To get a de-fragmented frame, use `newframe = frame.copy()`\n",
      "  train_df[f'Ticket{i}'] = ticket[:, i]\n",
      "C:\\Users\\pablo\\AppData\\Local\\Temp\\ipykernel_14528\\2248962618.py:22: PerformanceWarning: DataFrame is highly fragmented.  This is usually the result of calling `frame.insert` many times, which has poor performance.  Consider joining all columns at once using pd.concat(axis=1) instead. To get a de-fragmented frame, use `newframe = frame.copy()`\n",
      "  train_df[f'Ticket{i}'] = ticket[:, i]\n",
      "C:\\Users\\pablo\\AppData\\Local\\Temp\\ipykernel_14528\\2248962618.py:22: PerformanceWarning: DataFrame is highly fragmented.  This is usually the result of calling `frame.insert` many times, which has poor performance.  Consider joining all columns at once using pd.concat(axis=1) instead. To get a de-fragmented frame, use `newframe = frame.copy()`\n",
      "  train_df[f'Ticket{i}'] = ticket[:, i]\n",
      "C:\\Users\\pablo\\AppData\\Local\\Temp\\ipykernel_14528\\2248962618.py:22: PerformanceWarning: DataFrame is highly fragmented.  This is usually the result of calling `frame.insert` many times, which has poor performance.  Consider joining all columns at once using pd.concat(axis=1) instead. To get a de-fragmented frame, use `newframe = frame.copy()`\n",
      "  train_df[f'Ticket{i}'] = ticket[:, i]\n",
      "C:\\Users\\pablo\\AppData\\Local\\Temp\\ipykernel_14528\\2248962618.py:22: PerformanceWarning: DataFrame is highly fragmented.  This is usually the result of calling `frame.insert` many times, which has poor performance.  Consider joining all columns at once using pd.concat(axis=1) instead. To get a de-fragmented frame, use `newframe = frame.copy()`\n",
      "  train_df[f'Ticket{i}'] = ticket[:, i]\n",
      "C:\\Users\\pablo\\AppData\\Local\\Temp\\ipykernel_14528\\2248962618.py:22: PerformanceWarning: DataFrame is highly fragmented.  This is usually the result of calling `frame.insert` many times, which has poor performance.  Consider joining all columns at once using pd.concat(axis=1) instead. To get a de-fragmented frame, use `newframe = frame.copy()`\n",
      "  train_df[f'Ticket{i}'] = ticket[:, i]\n",
      "C:\\Users\\pablo\\AppData\\Local\\Temp\\ipykernel_14528\\2248962618.py:22: PerformanceWarning: DataFrame is highly fragmented.  This is usually the result of calling `frame.insert` many times, which has poor performance.  Consider joining all columns at once using pd.concat(axis=1) instead. To get a de-fragmented frame, use `newframe = frame.copy()`\n",
      "  train_df[f'Ticket{i}'] = ticket[:, i]\n",
      "C:\\Users\\pablo\\AppData\\Local\\Temp\\ipykernel_14528\\2248962618.py:22: PerformanceWarning: DataFrame is highly fragmented.  This is usually the result of calling `frame.insert` many times, which has poor performance.  Consider joining all columns at once using pd.concat(axis=1) instead. To get a de-fragmented frame, use `newframe = frame.copy()`\n",
      "  train_df[f'Ticket{i}'] = ticket[:, i]\n",
      "C:\\Users\\pablo\\AppData\\Local\\Temp\\ipykernel_14528\\2248962618.py:22: PerformanceWarning: DataFrame is highly fragmented.  This is usually the result of calling `frame.insert` many times, which has poor performance.  Consider joining all columns at once using pd.concat(axis=1) instead. To get a de-fragmented frame, use `newframe = frame.copy()`\n",
      "  train_df[f'Ticket{i}'] = ticket[:, i]\n"
     ]
    },
    {
     "name": "stderr",
     "output_type": "stream",
     "text": [
      "C:\\Users\\pablo\\AppData\\Local\\Temp\\ipykernel_14528\\2248962618.py:22: PerformanceWarning: DataFrame is highly fragmented.  This is usually the result of calling `frame.insert` many times, which has poor performance.  Consider joining all columns at once using pd.concat(axis=1) instead. To get a de-fragmented frame, use `newframe = frame.copy()`\n",
      "  train_df[f'Ticket{i}'] = ticket[:, i]\n",
      "C:\\Users\\pablo\\AppData\\Local\\Temp\\ipykernel_14528\\2248962618.py:22: PerformanceWarning: DataFrame is highly fragmented.  This is usually the result of calling `frame.insert` many times, which has poor performance.  Consider joining all columns at once using pd.concat(axis=1) instead. To get a de-fragmented frame, use `newframe = frame.copy()`\n",
      "  train_df[f'Ticket{i}'] = ticket[:, i]\n",
      "C:\\Users\\pablo\\AppData\\Local\\Temp\\ipykernel_14528\\2248962618.py:22: PerformanceWarning: DataFrame is highly fragmented.  This is usually the result of calling `frame.insert` many times, which has poor performance.  Consider joining all columns at once using pd.concat(axis=1) instead. To get a de-fragmented frame, use `newframe = frame.copy()`\n",
      "  train_df[f'Ticket{i}'] = ticket[:, i]\n",
      "C:\\Users\\pablo\\AppData\\Local\\Temp\\ipykernel_14528\\2248962618.py:22: PerformanceWarning: DataFrame is highly fragmented.  This is usually the result of calling `frame.insert` many times, which has poor performance.  Consider joining all columns at once using pd.concat(axis=1) instead. To get a de-fragmented frame, use `newframe = frame.copy()`\n",
      "  train_df[f'Ticket{i}'] = ticket[:, i]\n",
      "C:\\Users\\pablo\\AppData\\Local\\Temp\\ipykernel_14528\\2248962618.py:22: PerformanceWarning: DataFrame is highly fragmented.  This is usually the result of calling `frame.insert` many times, which has poor performance.  Consider joining all columns at once using pd.concat(axis=1) instead. To get a de-fragmented frame, use `newframe = frame.copy()`\n",
      "  train_df[f'Ticket{i}'] = ticket[:, i]\n",
      "C:\\Users\\pablo\\AppData\\Local\\Temp\\ipykernel_14528\\2248962618.py:22: PerformanceWarning: DataFrame is highly fragmented.  This is usually the result of calling `frame.insert` many times, which has poor performance.  Consider joining all columns at once using pd.concat(axis=1) instead. To get a de-fragmented frame, use `newframe = frame.copy()`\n",
      "  train_df[f'Ticket{i}'] = ticket[:, i]\n",
      "C:\\Users\\pablo\\AppData\\Local\\Temp\\ipykernel_14528\\2248962618.py:22: PerformanceWarning: DataFrame is highly fragmented.  This is usually the result of calling `frame.insert` many times, which has poor performance.  Consider joining all columns at once using pd.concat(axis=1) instead. To get a de-fragmented frame, use `newframe = frame.copy()`\n",
      "  train_df[f'Ticket{i}'] = ticket[:, i]\n",
      "C:\\Users\\pablo\\AppData\\Local\\Temp\\ipykernel_14528\\2248962618.py:22: PerformanceWarning: DataFrame is highly fragmented.  This is usually the result of calling `frame.insert` many times, which has poor performance.  Consider joining all columns at once using pd.concat(axis=1) instead. To get a de-fragmented frame, use `newframe = frame.copy()`\n",
      "  train_df[f'Ticket{i}'] = ticket[:, i]\n",
      "C:\\Users\\pablo\\AppData\\Local\\Temp\\ipykernel_14528\\2248962618.py:22: PerformanceWarning: DataFrame is highly fragmented.  This is usually the result of calling `frame.insert` many times, which has poor performance.  Consider joining all columns at once using pd.concat(axis=1) instead. To get a de-fragmented frame, use `newframe = frame.copy()`\n",
      "  train_df[f'Ticket{i}'] = ticket[:, i]\n",
      "C:\\Users\\pablo\\AppData\\Local\\Temp\\ipykernel_14528\\2248962618.py:22: PerformanceWarning: DataFrame is highly fragmented.  This is usually the result of calling `frame.insert` many times, which has poor performance.  Consider joining all columns at once using pd.concat(axis=1) instead. To get a de-fragmented frame, use `newframe = frame.copy()`\n",
      "  train_df[f'Ticket{i}'] = ticket[:, i]\n",
      "C:\\Users\\pablo\\AppData\\Local\\Temp\\ipykernel_14528\\2248962618.py:22: PerformanceWarning: DataFrame is highly fragmented.  This is usually the result of calling `frame.insert` many times, which has poor performance.  Consider joining all columns at once using pd.concat(axis=1) instead. To get a de-fragmented frame, use `newframe = frame.copy()`\n",
      "  train_df[f'Ticket{i}'] = ticket[:, i]\n",
      "C:\\Users\\pablo\\AppData\\Local\\Temp\\ipykernel_14528\\2248962618.py:22: PerformanceWarning: DataFrame is highly fragmented.  This is usually the result of calling `frame.insert` many times, which has poor performance.  Consider joining all columns at once using pd.concat(axis=1) instead. To get a de-fragmented frame, use `newframe = frame.copy()`\n",
      "  train_df[f'Ticket{i}'] = ticket[:, i]\n",
      "C:\\Users\\pablo\\AppData\\Local\\Temp\\ipykernel_14528\\2248962618.py:22: PerformanceWarning: DataFrame is highly fragmented.  This is usually the result of calling `frame.insert` many times, which has poor performance.  Consider joining all columns at once using pd.concat(axis=1) instead. To get a de-fragmented frame, use `newframe = frame.copy()`\n",
      "  train_df[f'Ticket{i}'] = ticket[:, i]\n",
      "C:\\Users\\pablo\\AppData\\Local\\Temp\\ipykernel_14528\\2248962618.py:22: PerformanceWarning: DataFrame is highly fragmented.  This is usually the result of calling `frame.insert` many times, which has poor performance.  Consider joining all columns at once using pd.concat(axis=1) instead. To get a de-fragmented frame, use `newframe = frame.copy()`\n",
      "  train_df[f'Ticket{i}'] = ticket[:, i]\n",
      "C:\\Users\\pablo\\AppData\\Local\\Temp\\ipykernel_14528\\2248962618.py:22: PerformanceWarning: DataFrame is highly fragmented.  This is usually the result of calling `frame.insert` many times, which has poor performance.  Consider joining all columns at once using pd.concat(axis=1) instead. To get a de-fragmented frame, use `newframe = frame.copy()`\n",
      "  train_df[f'Ticket{i}'] = ticket[:, i]\n",
      "C:\\Users\\pablo\\AppData\\Local\\Temp\\ipykernel_14528\\2248962618.py:22: PerformanceWarning: DataFrame is highly fragmented.  This is usually the result of calling `frame.insert` many times, which has poor performance.  Consider joining all columns at once using pd.concat(axis=1) instead. To get a de-fragmented frame, use `newframe = frame.copy()`\n",
      "  train_df[f'Ticket{i}'] = ticket[:, i]\n",
      "C:\\Users\\pablo\\AppData\\Local\\Temp\\ipykernel_14528\\2248962618.py:22: PerformanceWarning: DataFrame is highly fragmented.  This is usually the result of calling `frame.insert` many times, which has poor performance.  Consider joining all columns at once using pd.concat(axis=1) instead. To get a de-fragmented frame, use `newframe = frame.copy()`\n",
      "  train_df[f'Ticket{i}'] = ticket[:, i]\n",
      "C:\\Users\\pablo\\AppData\\Local\\Temp\\ipykernel_14528\\2248962618.py:22: PerformanceWarning: DataFrame is highly fragmented.  This is usually the result of calling `frame.insert` many times, which has poor performance.  Consider joining all columns at once using pd.concat(axis=1) instead. To get a de-fragmented frame, use `newframe = frame.copy()`\n",
      "  train_df[f'Ticket{i}'] = ticket[:, i]\n",
      "C:\\Users\\pablo\\AppData\\Local\\Temp\\ipykernel_14528\\2248962618.py:22: PerformanceWarning: DataFrame is highly fragmented.  This is usually the result of calling `frame.insert` many times, which has poor performance.  Consider joining all columns at once using pd.concat(axis=1) instead. To get a de-fragmented frame, use `newframe = frame.copy()`\n",
      "  train_df[f'Ticket{i}'] = ticket[:, i]\n",
      "C:\\Users\\pablo\\AppData\\Local\\Temp\\ipykernel_14528\\2248962618.py:22: PerformanceWarning: DataFrame is highly fragmented.  This is usually the result of calling `frame.insert` many times, which has poor performance.  Consider joining all columns at once using pd.concat(axis=1) instead. To get a de-fragmented frame, use `newframe = frame.copy()`\n",
      "  train_df[f'Ticket{i}'] = ticket[:, i]\n",
      "C:\\Users\\pablo\\AppData\\Local\\Temp\\ipykernel_14528\\2248962618.py:22: PerformanceWarning: DataFrame is highly fragmented.  This is usually the result of calling `frame.insert` many times, which has poor performance.  Consider joining all columns at once using pd.concat(axis=1) instead. To get a de-fragmented frame, use `newframe = frame.copy()`\n",
      "  train_df[f'Ticket{i}'] = ticket[:, i]\n",
      "C:\\Users\\pablo\\AppData\\Local\\Temp\\ipykernel_14528\\2248962618.py:22: PerformanceWarning: DataFrame is highly fragmented.  This is usually the result of calling `frame.insert` many times, which has poor performance.  Consider joining all columns at once using pd.concat(axis=1) instead. To get a de-fragmented frame, use `newframe = frame.copy()`\n",
      "  train_df[f'Ticket{i}'] = ticket[:, i]\n",
      "C:\\Users\\pablo\\AppData\\Local\\Temp\\ipykernel_14528\\2248962618.py:22: PerformanceWarning: DataFrame is highly fragmented.  This is usually the result of calling `frame.insert` many times, which has poor performance.  Consider joining all columns at once using pd.concat(axis=1) instead. To get a de-fragmented frame, use `newframe = frame.copy()`\n",
      "  train_df[f'Ticket{i}'] = ticket[:, i]\n",
      "C:\\Users\\pablo\\AppData\\Local\\Temp\\ipykernel_14528\\2248962618.py:22: PerformanceWarning: DataFrame is highly fragmented.  This is usually the result of calling `frame.insert` many times, which has poor performance.  Consider joining all columns at once using pd.concat(axis=1) instead. To get a de-fragmented frame, use `newframe = frame.copy()`\n",
      "  train_df[f'Ticket{i}'] = ticket[:, i]\n"
     ]
    },
    {
     "name": "stderr",
     "output_type": "stream",
     "text": [
      "C:\\Users\\pablo\\AppData\\Local\\Temp\\ipykernel_14528\\2248962618.py:22: PerformanceWarning: DataFrame is highly fragmented.  This is usually the result of calling `frame.insert` many times, which has poor performance.  Consider joining all columns at once using pd.concat(axis=1) instead. To get a de-fragmented frame, use `newframe = frame.copy()`\n",
      "  train_df[f'Ticket{i}'] = ticket[:, i]\n",
      "C:\\Users\\pablo\\AppData\\Local\\Temp\\ipykernel_14528\\2248962618.py:22: PerformanceWarning: DataFrame is highly fragmented.  This is usually the result of calling `frame.insert` many times, which has poor performance.  Consider joining all columns at once using pd.concat(axis=1) instead. To get a de-fragmented frame, use `newframe = frame.copy()`\n",
      "  train_df[f'Ticket{i}'] = ticket[:, i]\n",
      "C:\\Users\\pablo\\AppData\\Local\\Temp\\ipykernel_14528\\2248962618.py:22: PerformanceWarning: DataFrame is highly fragmented.  This is usually the result of calling `frame.insert` many times, which has poor performance.  Consider joining all columns at once using pd.concat(axis=1) instead. To get a de-fragmented frame, use `newframe = frame.copy()`\n",
      "  train_df[f'Ticket{i}'] = ticket[:, i]\n",
      "C:\\Users\\pablo\\AppData\\Local\\Temp\\ipykernel_14528\\2248962618.py:22: PerformanceWarning: DataFrame is highly fragmented.  This is usually the result of calling `frame.insert` many times, which has poor performance.  Consider joining all columns at once using pd.concat(axis=1) instead. To get a de-fragmented frame, use `newframe = frame.copy()`\n",
      "  train_df[f'Ticket{i}'] = ticket[:, i]\n",
      "C:\\Users\\pablo\\AppData\\Local\\Temp\\ipykernel_14528\\2248962618.py:22: PerformanceWarning: DataFrame is highly fragmented.  This is usually the result of calling `frame.insert` many times, which has poor performance.  Consider joining all columns at once using pd.concat(axis=1) instead. To get a de-fragmented frame, use `newframe = frame.copy()`\n",
      "  train_df[f'Ticket{i}'] = ticket[:, i]\n",
      "C:\\Users\\pablo\\AppData\\Local\\Temp\\ipykernel_14528\\2248962618.py:22: PerformanceWarning: DataFrame is highly fragmented.  This is usually the result of calling `frame.insert` many times, which has poor performance.  Consider joining all columns at once using pd.concat(axis=1) instead. To get a de-fragmented frame, use `newframe = frame.copy()`\n",
      "  train_df[f'Ticket{i}'] = ticket[:, i]\n",
      "C:\\Users\\pablo\\AppData\\Local\\Temp\\ipykernel_14528\\2248962618.py:22: PerformanceWarning: DataFrame is highly fragmented.  This is usually the result of calling `frame.insert` many times, which has poor performance.  Consider joining all columns at once using pd.concat(axis=1) instead. To get a de-fragmented frame, use `newframe = frame.copy()`\n",
      "  train_df[f'Ticket{i}'] = ticket[:, i]\n",
      "C:\\Users\\pablo\\AppData\\Local\\Temp\\ipykernel_14528\\2248962618.py:22: PerformanceWarning: DataFrame is highly fragmented.  This is usually the result of calling `frame.insert` many times, which has poor performance.  Consider joining all columns at once using pd.concat(axis=1) instead. To get a de-fragmented frame, use `newframe = frame.copy()`\n",
      "  train_df[f'Ticket{i}'] = ticket[:, i]\n",
      "C:\\Users\\pablo\\AppData\\Local\\Temp\\ipykernel_14528\\2248962618.py:22: PerformanceWarning: DataFrame is highly fragmented.  This is usually the result of calling `frame.insert` many times, which has poor performance.  Consider joining all columns at once using pd.concat(axis=1) instead. To get a de-fragmented frame, use `newframe = frame.copy()`\n",
      "  train_df[f'Ticket{i}'] = ticket[:, i]\n",
      "C:\\Users\\pablo\\AppData\\Local\\Temp\\ipykernel_14528\\2248962618.py:22: PerformanceWarning: DataFrame is highly fragmented.  This is usually the result of calling `frame.insert` many times, which has poor performance.  Consider joining all columns at once using pd.concat(axis=1) instead. To get a de-fragmented frame, use `newframe = frame.copy()`\n",
      "  train_df[f'Ticket{i}'] = ticket[:, i]\n",
      "C:\\Users\\pablo\\AppData\\Local\\Temp\\ipykernel_14528\\2248962618.py:22: PerformanceWarning: DataFrame is highly fragmented.  This is usually the result of calling `frame.insert` many times, which has poor performance.  Consider joining all columns at once using pd.concat(axis=1) instead. To get a de-fragmented frame, use `newframe = frame.copy()`\n",
      "  train_df[f'Ticket{i}'] = ticket[:, i]\n",
      "C:\\Users\\pablo\\AppData\\Local\\Temp\\ipykernel_14528\\2248962618.py:22: PerformanceWarning: DataFrame is highly fragmented.  This is usually the result of calling `frame.insert` many times, which has poor performance.  Consider joining all columns at once using pd.concat(axis=1) instead. To get a de-fragmented frame, use `newframe = frame.copy()`\n",
      "  train_df[f'Ticket{i}'] = ticket[:, i]\n",
      "C:\\Users\\pablo\\AppData\\Local\\Temp\\ipykernel_14528\\2248962618.py:22: PerformanceWarning: DataFrame is highly fragmented.  This is usually the result of calling `frame.insert` many times, which has poor performance.  Consider joining all columns at once using pd.concat(axis=1) instead. To get a de-fragmented frame, use `newframe = frame.copy()`\n",
      "  train_df[f'Ticket{i}'] = ticket[:, i]\n",
      "C:\\Users\\pablo\\AppData\\Local\\Temp\\ipykernel_14528\\2248962618.py:22: PerformanceWarning: DataFrame is highly fragmented.  This is usually the result of calling `frame.insert` many times, which has poor performance.  Consider joining all columns at once using pd.concat(axis=1) instead. To get a de-fragmented frame, use `newframe = frame.copy()`\n",
      "  train_df[f'Ticket{i}'] = ticket[:, i]\n",
      "C:\\Users\\pablo\\AppData\\Local\\Temp\\ipykernel_14528\\2248962618.py:22: PerformanceWarning: DataFrame is highly fragmented.  This is usually the result of calling `frame.insert` many times, which has poor performance.  Consider joining all columns at once using pd.concat(axis=1) instead. To get a de-fragmented frame, use `newframe = frame.copy()`\n",
      "  train_df[f'Ticket{i}'] = ticket[:, i]\n",
      "C:\\Users\\pablo\\AppData\\Local\\Temp\\ipykernel_14528\\2248962618.py:22: PerformanceWarning: DataFrame is highly fragmented.  This is usually the result of calling `frame.insert` many times, which has poor performance.  Consider joining all columns at once using pd.concat(axis=1) instead. To get a de-fragmented frame, use `newframe = frame.copy()`\n",
      "  train_df[f'Ticket{i}'] = ticket[:, i]\n",
      "C:\\Users\\pablo\\AppData\\Local\\Temp\\ipykernel_14528\\2248962618.py:22: PerformanceWarning: DataFrame is highly fragmented.  This is usually the result of calling `frame.insert` many times, which has poor performance.  Consider joining all columns at once using pd.concat(axis=1) instead. To get a de-fragmented frame, use `newframe = frame.copy()`\n",
      "  train_df[f'Ticket{i}'] = ticket[:, i]\n",
      "C:\\Users\\pablo\\AppData\\Local\\Temp\\ipykernel_14528\\2248962618.py:22: PerformanceWarning: DataFrame is highly fragmented.  This is usually the result of calling `frame.insert` many times, which has poor performance.  Consider joining all columns at once using pd.concat(axis=1) instead. To get a de-fragmented frame, use `newframe = frame.copy()`\n",
      "  train_df[f'Ticket{i}'] = ticket[:, i]\n",
      "C:\\Users\\pablo\\AppData\\Local\\Temp\\ipykernel_14528\\2248962618.py:22: PerformanceWarning: DataFrame is highly fragmented.  This is usually the result of calling `frame.insert` many times, which has poor performance.  Consider joining all columns at once using pd.concat(axis=1) instead. To get a de-fragmented frame, use `newframe = frame.copy()`\n",
      "  train_df[f'Ticket{i}'] = ticket[:, i]\n",
      "C:\\Users\\pablo\\AppData\\Local\\Temp\\ipykernel_14528\\2248962618.py:22: PerformanceWarning: DataFrame is highly fragmented.  This is usually the result of calling `frame.insert` many times, which has poor performance.  Consider joining all columns at once using pd.concat(axis=1) instead. To get a de-fragmented frame, use `newframe = frame.copy()`\n",
      "  train_df[f'Ticket{i}'] = ticket[:, i]\n",
      "C:\\Users\\pablo\\AppData\\Local\\Temp\\ipykernel_14528\\2248962618.py:22: PerformanceWarning: DataFrame is highly fragmented.  This is usually the result of calling `frame.insert` many times, which has poor performance.  Consider joining all columns at once using pd.concat(axis=1) instead. To get a de-fragmented frame, use `newframe = frame.copy()`\n",
      "  train_df[f'Ticket{i}'] = ticket[:, i]\n",
      "C:\\Users\\pablo\\AppData\\Local\\Temp\\ipykernel_14528\\2248962618.py:22: PerformanceWarning: DataFrame is highly fragmented.  This is usually the result of calling `frame.insert` many times, which has poor performance.  Consider joining all columns at once using pd.concat(axis=1) instead. To get a de-fragmented frame, use `newframe = frame.copy()`\n",
      "  train_df[f'Ticket{i}'] = ticket[:, i]\n",
      "C:\\Users\\pablo\\AppData\\Local\\Temp\\ipykernel_14528\\2248962618.py:22: PerformanceWarning: DataFrame is highly fragmented.  This is usually the result of calling `frame.insert` many times, which has poor performance.  Consider joining all columns at once using pd.concat(axis=1) instead. To get a de-fragmented frame, use `newframe = frame.copy()`\n",
      "  train_df[f'Ticket{i}'] = ticket[:, i]\n",
      "C:\\Users\\pablo\\AppData\\Local\\Temp\\ipykernel_14528\\2248962618.py:22: PerformanceWarning: DataFrame is highly fragmented.  This is usually the result of calling `frame.insert` many times, which has poor performance.  Consider joining all columns at once using pd.concat(axis=1) instead. To get a de-fragmented frame, use `newframe = frame.copy()`\n",
      "  train_df[f'Ticket{i}'] = ticket[:, i]\n"
     ]
    },
    {
     "name": "stderr",
     "output_type": "stream",
     "text": [
      "C:\\Users\\pablo\\AppData\\Local\\Temp\\ipykernel_14528\\2248962618.py:22: PerformanceWarning: DataFrame is highly fragmented.  This is usually the result of calling `frame.insert` many times, which has poor performance.  Consider joining all columns at once using pd.concat(axis=1) instead. To get a de-fragmented frame, use `newframe = frame.copy()`\n",
      "  train_df[f'Ticket{i}'] = ticket[:, i]\n",
      "C:\\Users\\pablo\\AppData\\Local\\Temp\\ipykernel_14528\\2248962618.py:22: PerformanceWarning: DataFrame is highly fragmented.  This is usually the result of calling `frame.insert` many times, which has poor performance.  Consider joining all columns at once using pd.concat(axis=1) instead. To get a de-fragmented frame, use `newframe = frame.copy()`\n",
      "  train_df[f'Ticket{i}'] = ticket[:, i]\n",
      "C:\\Users\\pablo\\AppData\\Local\\Temp\\ipykernel_14528\\2248962618.py:22: PerformanceWarning: DataFrame is highly fragmented.  This is usually the result of calling `frame.insert` many times, which has poor performance.  Consider joining all columns at once using pd.concat(axis=1) instead. To get a de-fragmented frame, use `newframe = frame.copy()`\n",
      "  train_df[f'Ticket{i}'] = ticket[:, i]\n",
      "C:\\Users\\pablo\\AppData\\Local\\Temp\\ipykernel_14528\\2248962618.py:22: PerformanceWarning: DataFrame is highly fragmented.  This is usually the result of calling `frame.insert` many times, which has poor performance.  Consider joining all columns at once using pd.concat(axis=1) instead. To get a de-fragmented frame, use `newframe = frame.copy()`\n",
      "  train_df[f'Ticket{i}'] = ticket[:, i]\n",
      "C:\\Users\\pablo\\AppData\\Local\\Temp\\ipykernel_14528\\2248962618.py:22: PerformanceWarning: DataFrame is highly fragmented.  This is usually the result of calling `frame.insert` many times, which has poor performance.  Consider joining all columns at once using pd.concat(axis=1) instead. To get a de-fragmented frame, use `newframe = frame.copy()`\n",
      "  train_df[f'Ticket{i}'] = ticket[:, i]\n",
      "C:\\Users\\pablo\\AppData\\Local\\Temp\\ipykernel_14528\\2248962618.py:22: PerformanceWarning: DataFrame is highly fragmented.  This is usually the result of calling `frame.insert` many times, which has poor performance.  Consider joining all columns at once using pd.concat(axis=1) instead. To get a de-fragmented frame, use `newframe = frame.copy()`\n",
      "  train_df[f'Ticket{i}'] = ticket[:, i]\n",
      "C:\\Users\\pablo\\AppData\\Local\\Temp\\ipykernel_14528\\2248962618.py:22: PerformanceWarning: DataFrame is highly fragmented.  This is usually the result of calling `frame.insert` many times, which has poor performance.  Consider joining all columns at once using pd.concat(axis=1) instead. To get a de-fragmented frame, use `newframe = frame.copy()`\n",
      "  train_df[f'Ticket{i}'] = ticket[:, i]\n",
      "C:\\Users\\pablo\\AppData\\Local\\Temp\\ipykernel_14528\\2248962618.py:22: PerformanceWarning: DataFrame is highly fragmented.  This is usually the result of calling `frame.insert` many times, which has poor performance.  Consider joining all columns at once using pd.concat(axis=1) instead. To get a de-fragmented frame, use `newframe = frame.copy()`\n",
      "  train_df[f'Ticket{i}'] = ticket[:, i]\n",
      "C:\\Users\\pablo\\AppData\\Local\\Temp\\ipykernel_14528\\2248962618.py:22: PerformanceWarning: DataFrame is highly fragmented.  This is usually the result of calling `frame.insert` many times, which has poor performance.  Consider joining all columns at once using pd.concat(axis=1) instead. To get a de-fragmented frame, use `newframe = frame.copy()`\n",
      "  train_df[f'Ticket{i}'] = ticket[:, i]\n",
      "C:\\Users\\pablo\\AppData\\Local\\Temp\\ipykernel_14528\\2248962618.py:22: PerformanceWarning: DataFrame is highly fragmented.  This is usually the result of calling `frame.insert` many times, which has poor performance.  Consider joining all columns at once using pd.concat(axis=1) instead. To get a de-fragmented frame, use `newframe = frame.copy()`\n",
      "  train_df[f'Ticket{i}'] = ticket[:, i]\n",
      "C:\\Users\\pablo\\AppData\\Local\\Temp\\ipykernel_14528\\2248962618.py:22: PerformanceWarning: DataFrame is highly fragmented.  This is usually the result of calling `frame.insert` many times, which has poor performance.  Consider joining all columns at once using pd.concat(axis=1) instead. To get a de-fragmented frame, use `newframe = frame.copy()`\n",
      "  train_df[f'Ticket{i}'] = ticket[:, i]\n",
      "C:\\Users\\pablo\\AppData\\Local\\Temp\\ipykernel_14528\\2248962618.py:22: PerformanceWarning: DataFrame is highly fragmented.  This is usually the result of calling `frame.insert` many times, which has poor performance.  Consider joining all columns at once using pd.concat(axis=1) instead. To get a de-fragmented frame, use `newframe = frame.copy()`\n",
      "  train_df[f'Ticket{i}'] = ticket[:, i]\n",
      "C:\\Users\\pablo\\AppData\\Local\\Temp\\ipykernel_14528\\2248962618.py:22: PerformanceWarning: DataFrame is highly fragmented.  This is usually the result of calling `frame.insert` many times, which has poor performance.  Consider joining all columns at once using pd.concat(axis=1) instead. To get a de-fragmented frame, use `newframe = frame.copy()`\n",
      "  train_df[f'Ticket{i}'] = ticket[:, i]\n",
      "C:\\Users\\pablo\\AppData\\Local\\Temp\\ipykernel_14528\\2248962618.py:22: PerformanceWarning: DataFrame is highly fragmented.  This is usually the result of calling `frame.insert` many times, which has poor performance.  Consider joining all columns at once using pd.concat(axis=1) instead. To get a de-fragmented frame, use `newframe = frame.copy()`\n",
      "  train_df[f'Ticket{i}'] = ticket[:, i]\n",
      "C:\\Users\\pablo\\AppData\\Local\\Temp\\ipykernel_14528\\2248962618.py:22: PerformanceWarning: DataFrame is highly fragmented.  This is usually the result of calling `frame.insert` many times, which has poor performance.  Consider joining all columns at once using pd.concat(axis=1) instead. To get a de-fragmented frame, use `newframe = frame.copy()`\n",
      "  train_df[f'Ticket{i}'] = ticket[:, i]\n",
      "C:\\Users\\pablo\\AppData\\Local\\Temp\\ipykernel_14528\\2248962618.py:22: PerformanceWarning: DataFrame is highly fragmented.  This is usually the result of calling `frame.insert` many times, which has poor performance.  Consider joining all columns at once using pd.concat(axis=1) instead. To get a de-fragmented frame, use `newframe = frame.copy()`\n",
      "  train_df[f'Ticket{i}'] = ticket[:, i]\n",
      "C:\\Users\\pablo\\AppData\\Local\\Temp\\ipykernel_14528\\2248962618.py:22: PerformanceWarning: DataFrame is highly fragmented.  This is usually the result of calling `frame.insert` many times, which has poor performance.  Consider joining all columns at once using pd.concat(axis=1) instead. To get a de-fragmented frame, use `newframe = frame.copy()`\n",
      "  train_df[f'Ticket{i}'] = ticket[:, i]\n",
      "C:\\Users\\pablo\\AppData\\Local\\Temp\\ipykernel_14528\\2248962618.py:22: PerformanceWarning: DataFrame is highly fragmented.  This is usually the result of calling `frame.insert` many times, which has poor performance.  Consider joining all columns at once using pd.concat(axis=1) instead. To get a de-fragmented frame, use `newframe = frame.copy()`\n",
      "  train_df[f'Ticket{i}'] = ticket[:, i]\n",
      "C:\\Users\\pablo\\AppData\\Local\\Temp\\ipykernel_14528\\2248962618.py:22: PerformanceWarning: DataFrame is highly fragmented.  This is usually the result of calling `frame.insert` many times, which has poor performance.  Consider joining all columns at once using pd.concat(axis=1) instead. To get a de-fragmented frame, use `newframe = frame.copy()`\n",
      "  train_df[f'Ticket{i}'] = ticket[:, i]\n",
      "C:\\Users\\pablo\\AppData\\Local\\Temp\\ipykernel_14528\\2248962618.py:22: PerformanceWarning: DataFrame is highly fragmented.  This is usually the result of calling `frame.insert` many times, which has poor performance.  Consider joining all columns at once using pd.concat(axis=1) instead. To get a de-fragmented frame, use `newframe = frame.copy()`\n",
      "  train_df[f'Ticket{i}'] = ticket[:, i]\n",
      "C:\\Users\\pablo\\AppData\\Local\\Temp\\ipykernel_14528\\2248962618.py:22: PerformanceWarning: DataFrame is highly fragmented.  This is usually the result of calling `frame.insert` many times, which has poor performance.  Consider joining all columns at once using pd.concat(axis=1) instead. To get a de-fragmented frame, use `newframe = frame.copy()`\n",
      "  train_df[f'Ticket{i}'] = ticket[:, i]\n",
      "C:\\Users\\pablo\\AppData\\Local\\Temp\\ipykernel_14528\\2248962618.py:22: PerformanceWarning: DataFrame is highly fragmented.  This is usually the result of calling `frame.insert` many times, which has poor performance.  Consider joining all columns at once using pd.concat(axis=1) instead. To get a de-fragmented frame, use `newframe = frame.copy()`\n",
      "  train_df[f'Ticket{i}'] = ticket[:, i]\n"
     ]
    },
    {
     "name": "stderr",
     "output_type": "stream",
     "text": [
      "C:\\Users\\pablo\\AppData\\Local\\Temp\\ipykernel_14528\\2248962618.py:22: PerformanceWarning: DataFrame is highly fragmented.  This is usually the result of calling `frame.insert` many times, which has poor performance.  Consider joining all columns at once using pd.concat(axis=1) instead. To get a de-fragmented frame, use `newframe = frame.copy()`\n",
      "  train_df[f'Ticket{i}'] = ticket[:, i]\n",
      "C:\\Users\\pablo\\AppData\\Local\\Temp\\ipykernel_14528\\2248962618.py:22: PerformanceWarning: DataFrame is highly fragmented.  This is usually the result of calling `frame.insert` many times, which has poor performance.  Consider joining all columns at once using pd.concat(axis=1) instead. To get a de-fragmented frame, use `newframe = frame.copy()`\n",
      "  train_df[f'Ticket{i}'] = ticket[:, i]\n",
      "C:\\Users\\pablo\\AppData\\Local\\Temp\\ipykernel_14528\\2248962618.py:22: PerformanceWarning: DataFrame is highly fragmented.  This is usually the result of calling `frame.insert` many times, which has poor performance.  Consider joining all columns at once using pd.concat(axis=1) instead. To get a de-fragmented frame, use `newframe = frame.copy()`\n",
      "  train_df[f'Ticket{i}'] = ticket[:, i]\n",
      "C:\\Users\\pablo\\AppData\\Local\\Temp\\ipykernel_14528\\2248962618.py:22: PerformanceWarning: DataFrame is highly fragmented.  This is usually the result of calling `frame.insert` many times, which has poor performance.  Consider joining all columns at once using pd.concat(axis=1) instead. To get a de-fragmented frame, use `newframe = frame.copy()`\n",
      "  train_df[f'Ticket{i}'] = ticket[:, i]\n",
      "C:\\Users\\pablo\\AppData\\Local\\Temp\\ipykernel_14528\\2248962618.py:22: PerformanceWarning: DataFrame is highly fragmented.  This is usually the result of calling `frame.insert` many times, which has poor performance.  Consider joining all columns at once using pd.concat(axis=1) instead. To get a de-fragmented frame, use `newframe = frame.copy()`\n",
      "  train_df[f'Ticket{i}'] = ticket[:, i]\n",
      "C:\\Users\\pablo\\AppData\\Local\\Temp\\ipykernel_14528\\2248962618.py:29: PerformanceWarning: DataFrame is highly fragmented.  This is usually the result of calling `frame.insert` many times, which has poor performance.  Consider joining all columns at once using pd.concat(axis=1) instead. To get a de-fragmented frame, use `newframe = frame.copy()`\n",
      "  train_df[f'Embarked{i}'] = embarked[:, i]\n",
      "C:\\Users\\pablo\\AppData\\Local\\Temp\\ipykernel_14528\\2248962618.py:29: PerformanceWarning: DataFrame is highly fragmented.  This is usually the result of calling `frame.insert` many times, which has poor performance.  Consider joining all columns at once using pd.concat(axis=1) instead. To get a de-fragmented frame, use `newframe = frame.copy()`\n",
      "  train_df[f'Embarked{i}'] = embarked[:, i]\n",
      "C:\\Users\\pablo\\AppData\\Local\\Temp\\ipykernel_14528\\2248962618.py:29: PerformanceWarning: DataFrame is highly fragmented.  This is usually the result of calling `frame.insert` many times, which has poor performance.  Consider joining all columns at once using pd.concat(axis=1) instead. To get a de-fragmented frame, use `newframe = frame.copy()`\n",
      "  train_df[f'Embarked{i}'] = embarked[:, i]\n"
     ]
    }
   ],
   "source": [
    "from sklearn.preprocessing import OneHotEncoder\n",
    "# Pclass\n",
    "pclass_transf = OneHotEncoder(sparse=False, dtype=np.uint8, handle_unknown='ignore')\n",
    "pclass_transf.fit(train_df['Pclass'].values.reshape((-1, 1)))\n",
    "pclass = pclass_transf.transform(train_df['Pclass'].values.reshape((-1, 1)))\n",
    "train_df['Pclass0'] = pclass[:, 0]\n",
    "train_df['Pclass1'] = pclass[:, 1]\n",
    "train_df['Pclass2'] = pclass[:, 2]\n",
    "del train_df['Pclass']\n",
    "# Sex\n",
    "gender_transf = OneHotEncoder(sparse=False, dtype=np.uint8, handle_unknown='ignore')\n",
    "gender_transf.fit(train_df['Sex'].values.reshape((-1, 1)))\n",
    "gender = gender_transf.transform(train_df['Sex'].values.reshape((-1, 1)))\n",
    "train_df['Male'] = gender[:, 0]\n",
    "train_df['Female'] = gender[:, 1]\n",
    "del train_df['Sex']\n",
    "# Ticket\n",
    "ticket_transf = OneHotEncoder(sparse=False, dtype=np.uint8, handle_unknown='ignore')\n",
    "ticket_transf.fit(train_df['Ticket'].values.reshape((-1, 1)))\n",
    "ticket = ticket_transf.transform(train_df['Ticket'].values.reshape((-1, 1)))\n",
    "for i in range(ticket.shape[1]):\n",
    "    train_df[f'Ticket{i}'] = ticket[:, i]\n",
    "del train_df['Ticket']\n",
    "# Embarked\n",
    "embarked_transf = OneHotEncoder(sparse=False, dtype=np.uint8, handle_unknown='ignore')\n",
    "embarked_transf.fit(train_df['Embarked'].values.reshape((-1, 1)))\n",
    "embarked = embarked_transf.transform(train_df['Embarked'].values.reshape((-1, 1)))\n",
    "for i in range(embarked.shape[1]):\n",
    "    train_df[f'Embarked{i}'] = embarked[:, i]\n",
    "del train_df['Embarked']"
   ]
  },
  {
   "cell_type": "code",
   "execution_count": 13,
   "metadata": {},
   "outputs": [],
   "source": [
    "from sklearn.preprocessing import MinMaxScaler\n",
    "age_transf = MinMaxScaler().fit(train_df['Age'].values.reshape(-1, 1))\n",
    "train_df['Age'] = age_transf.transform(train_df['Age'].values.reshape(-1, 1))\n",
    "sibsp_transf = MinMaxScaler().fit(train_df['SibSp'].values.reshape(-1, 1))\n",
    "train_df['SibSp'] = sibsp_transf.transform(train_df['SibSp'].values.reshape(-1, 1))\n",
    "parch_transf = MinMaxScaler().fit(train_df['Parch'].values.reshape(-1, 1))\n",
    "train_df['Parch'] = parch_transf.transform(train_df['Parch'].values.reshape(-1, 1))\n",
    "fare_transf = MinMaxScaler().fit(train_df['Fare'].values.reshape(-1, 1))\n",
    "train_df['Fare'] = fare_transf.transform(train_df['Fare'].values.reshape(-1, 1))"
   ]
  },
  {
   "cell_type": "markdown",
   "metadata": {},
   "source": [
    "### Visualización"
   ]
  },
  {
   "cell_type": "code",
   "execution_count": 14,
   "metadata": {},
   "outputs": [
    {
     "data": {
      "text/markdown": [
       "### Age"
      ],
      "text/plain": [
       "<IPython.core.display.Markdown object>"
      ]
     },
     "metadata": {},
     "output_type": "display_data"
    },
    {
     "data": {
      "image/png": "[encoded data removed]",
      "text/plain": [
       "<Figure size 864x288 with 2 Axes>"
      ]
     },
     "metadata": {
      "needs_background": "light"
     },
     "output_type": "display_data"
    },
    {
     "data": {
      "text/markdown": [
       "### SibSp"
      ],
      "text/plain": [
       "<IPython.core.display.Markdown object>"
      ]
     },
     "metadata": {},
     "output_type": "display_data"
    },
    {
     "data": {
      "image/png": "[encoded data removed]",
      "text/plain": [
       "<Figure size 864x288 with 2 Axes>"
      ]
     },
     "metadata": {
      "needs_background": "light"
     },
     "output_type": "display_data"
    },
    {
     "data": {
      "text/markdown": [
       "### Parch"
      ],
      "text/plain": [
       "<IPython.core.display.Markdown object>"
      ]
     },
     "metadata": {},
     "output_type": "display_data"
    },
    {
     "data": {
      "image/png": "[encoded data removed]",
      "text/plain": [
       "<Figure size 864x288 with 2 Axes>"
      ]
     },
     "metadata": {
      "needs_background": "light"
     },
     "output_type": "display_data"
    },
    {
     "data": {
      "text/markdown": [
       "### Fare"
      ],
      "text/plain": [
       "<IPython.core.display.Markdown object>"
      ]
     },
     "metadata": {},
     "output_type": "display_data"
    },
    {
     "data": {
      "image/png": "[encoded data removed]",
      "text/plain": [
       "<Figure size 864x288 with 2 Axes>"
      ]
     },
     "metadata": {
      "needs_background": "light"
     },
     "output_type": "display_data"
    },
    {
     "data": {
      "text/markdown": [
       "### Pclass0"
      ],
      "text/plain": [
       "<IPython.core.display.Markdown object>"
      ]
     },
     "metadata": {},
     "output_type": "display_data"
    },
    {
     "data": {
      "image/png": "[encoded data removed]",
      "text/plain": [
       "<Figure size 864x288 with 2 Axes>"
      ]
     },
     "metadata": {
      "needs_background": "light"
     },
     "output_type": "display_data"
    },
    {
     "data": {
      "text/markdown": [
       "### Pclass1"
      ],
      "text/plain": [
       "<IPython.core.display.Markdown object>"
      ]
     },
     "metadata": {},
     "output_type": "display_data"
    },
    {
     "data": {
      "image/png": "[encoded data removed]",
      "text/plain": [
       "<Figure size 864x288 with 2 Axes>"
      ]
     },
     "metadata": {
      "needs_background": "light"
     },
     "output_type": "display_data"
    },
    {
     "data": {
      "text/markdown": [
       "### Pclass2"
      ],
      "text/plain": [
       "<IPython.core.display.Markdown object>"
      ]
     },
     "metadata": {},
     "output_type": "display_data"
    },
    {
     "data": {
      "image/png": "[encoded data removed]",
      "text/plain": [
       "<Figure size 864x288 with 2 Axes>"
      ]
     },
     "metadata": {
      "needs_background": "light"
     },
     "output_type": "display_data"
    },
    {
     "data": {
      "text/markdown": [
       "### Male"
      ],
      "text/plain": [
       "<IPython.core.display.Markdown object>"
      ]
     },
     "metadata": {},
     "output_type": "display_data"
    },
    {
     "data": {
      "image/png": "[encoded data removed]",
      "text/plain": [
       "<Figure size 864x288 with 2 Axes>"
      ]
     },
     "metadata": {
      "needs_background": "light"
     },
     "output_type": "display_data"
    }
   ],
   "source": [
    "import matplotlib.pyplot as plt\n",
    "from IPython.display import display, Markdown\n",
    "def show(txt):\n",
    "    # this function is for printing markdown in jupyter notebook\n",
    "    display(Markdown(txt))\n",
    "for i in range(1, 9):\n",
    "    show(f'### {train_df.columns[i]}')\n",
    "    f, (survived, not_survived) = plt.subplots(1, 2, sharey=True, figsize=(12, 4))\n",
    "    survived.hist(train_df.iloc[np.where(train_df['Survived'] == 1)[0], i])\n",
    "    survived.set_title('Survived')\n",
    "    not_survived.hist(train_df.iloc[np.where(train_df['Survived'] == 0)[0], i])\n",
    "    not_survived.set_title('Not Survived')\n",
    "    plt.show()"
   ]
  },
  {
   "cell_type": "code",
   "execution_count": 15,
   "metadata": {},
   "outputs": [],
   "source": [
    "X = train_df.iloc[:, 1:].values\n",
    "y = train_df.iloc[:, 0].values"
   ]
  },
  {
   "cell_type": "code",
   "execution_count": 16,
   "metadata": {
    "scrolled": true
   },
   "outputs": [
    {
     "name": "stderr",
     "output_type": "stream",
     "text": [
      "C:\\Users\\pablo\\anaconda3\\lib\\site-packages\\sklearn\\neural_network\\_multilayer_perceptron.py:692: ConvergenceWarning: Stochastic Optimizer: Maximum iterations (200) reached and the optimization hasn't converged yet.\n",
      "  warnings.warn(\n",
      "C:\\Users\\pablo\\anaconda3\\lib\\site-packages\\sklearn\\neural_network\\_multilayer_perceptron.py:692: ConvergenceWarning: Stochastic Optimizer: Maximum iterations (200) reached and the optimization hasn't converged yet.\n",
      "  warnings.warn(\n",
      "C:\\Users\\pablo\\anaconda3\\lib\\site-packages\\sklearn\\neural_network\\_multilayer_perceptron.py:692: ConvergenceWarning: Stochastic Optimizer: Maximum iterations (200) reached and the optimization hasn't converged yet.\n",
      "  warnings.warn(\n"
     ]
    },
    {
     "name": "stdout",
     "output_type": "stream",
     "text": [
      "Multi-Layer Perceptron: 0.8148076078086749\n"
     ]
    },
    {
     "name": "stderr",
     "output_type": "stream",
     "text": [
      "C:\\Users\\pablo\\anaconda3\\lib\\site-packages\\sklearn\\neural_network\\_multilayer_perceptron.py:692: ConvergenceWarning: Stochastic Optimizer: Maximum iterations (200) reached and the optimization hasn't converged yet.\n",
      "  warnings.warn(\n"
     ]
    }
   ],
   "source": [
    "# Multi-Layer Perceptron\n",
    "mlpc = MLPClassifier()\n",
    "mlpc_score = np.mean(cross_val_score(mlpc, X, y))\n",
    "print(f'Multi-Layer Perceptron: {mlpc_score}')"
   ]
  },
  {
   "cell_type": "code",
   "execution_count": null,
   "metadata": {},
   "outputs": [],
   "source": []
  },
  {
   "cell_type": "code",
   "execution_count": null,
   "metadata": {},
   "outputs": [],
   "source": []
  },
  {
   "cell_type": "code",
   "execution_count": 17,
   "metadata": {},
   "outputs": [],
   "source": [
    "import sklearn.neural_network\n",
    "from sklearn.preprocessing import StandardScaler\n",
    "from sklearn.model_selection import train_test_split"
   ]
  },
  {
   "cell_type": "markdown",
   "metadata": {},
   "source": [
    "## Separacion tradicional\n",
    "X_train, X_test, y_train, y_test = train_test_split(wines.data,\n",
    "                                                    wines.target,test_size=0.3,random_state=123)\n",
    "\n",
    "## Estandarizado, no normalizado!\n",
    "scaler = StandardScaler()\n",
    "scaler.fit(wines.data)\n",
    "\n",
    "X_train = scaler.transform(X_train)  \n",
    "X_test = scaler.transform(X_test) "
   ]
  },
  {
   "cell_type": "code",
   "execution_count": 36,
   "metadata": {},
   "outputs": [
    {
     "data": {
      "text/plain": [
       "MLPClassifier(alpha=1e-05, hidden_layer_sizes=(5, 2), random_state=1,\n",
       "              solver='lbfgs')"
      ]
     },
     "execution_count": 36,
     "metadata": {},
     "output_type": "execute_result"
    }
   ],
   "source": [
    "## Hemos visto hasta ahora los perceptrones multicapa. MLPClassifier es eso.\n",
    "\n",
    "#\n",
    "# activation{‘identity’, ‘logistic’, ‘tanh’, ‘relu’}, default=’relu’\n",
    "# solver{‘lbfgs’, ‘sgd’, ‘adam’}, default=’adam’\n",
    "# alpha asociado a regularizacion l2, basado en la fuerza de la regularizacion\n",
    "# learning_rate opera solo si solver es 'sgd'\n",
    "clf = sklearn.neural_network.MLPClassifier(solver='lbfgs', alpha=1e-5,\n",
    "                    hidden_layer_sizes=(5, 2), \n",
    "                                           random_state=1,\n",
    "                                           verbose=True)\n",
    "\n",
    "#clf2 = sklearn.neural_network.MLPClassifier(activation = 'identity',\n",
    "#                                            solver='sgd', \n",
    "#                                            alpha=1e-5,\n",
    "#                    hidden_layer_sizes=(5, 2), learning_rate = 'adaptative',\n",
    "#                                            random_state=1)\n",
    "\n",
    "clf.fit(X, y)\n",
    "sklearn.neural_network.MLPClassifier(alpha=1e-05, hidden_layer_sizes=(5, 2), random_state=1,\n",
    "              solver='lbfgs')"
   ]
  },
  {
   "cell_type": "code",
   "execution_count": 38,
   "metadata": {},
   "outputs": [
    {
     "data": {
      "text/html": [
       "<div>\n",
       "<style scoped>\n",
       "    .dataframe tbody tr th:only-of-type {\n",
       "        vertical-align: middle;\n",
       "    }\n",
       "\n",
       "    .dataframe tbody tr th {\n",
       "        vertical-align: top;\n",
       "    }\n",
       "\n",
       "    .dataframe thead th {\n",
       "        text-align: right;\n",
       "    }\n",
       "</style>\n",
       "<table border=\"1\" class=\"dataframe\">\n",
       "  <thead>\n",
       "    <tr style=\"text-align: right;\">\n",
       "      <th>predicted</th>\n",
       "      <th>0</th>\n",
       "      <th>All</th>\n",
       "    </tr>\n",
       "    <tr>\n",
       "      <th>real</th>\n",
       "      <th></th>\n",
       "      <th></th>\n",
       "    </tr>\n",
       "  </thead>\n",
       "  <tbody>\n",
       "    <tr>\n",
       "      <th>0</th>\n",
       "      <td>549</td>\n",
       "      <td>549</td>\n",
       "    </tr>\n",
       "    <tr>\n",
       "      <th>1</th>\n",
       "      <td>342</td>\n",
       "      <td>342</td>\n",
       "    </tr>\n",
       "    <tr>\n",
       "      <th>All</th>\n",
       "      <td>891</td>\n",
       "      <td>891</td>\n",
       "    </tr>\n",
       "  </tbody>\n",
       "</table>\n",
       "</div>"
      ],
      "text/plain": [
       "predicted    0  All\n",
       "real               \n",
       "0          549  549\n",
       "1          342  342\n",
       "All        891  891"
      ]
     },
     "execution_count": 38,
     "metadata": {},
     "output_type": "execute_result"
    }
   ],
   "source": [
    "df = pd.DataFrame({'predicted': clf.predict(X),\n",
    "             'real': y})\n",
    "\n",
    "pd.crosstab(index=df['real'], columns=df['predicted'], margins=True)"
   ]
  }
 ],
 "metadata": {
  "kernelspec": {
   "display_name": "Python 3 (ipykernel)",
   "language": "python",
   "name": "python3"
  },
  "language_info": {
   "codemirror_mode": {
    "name": "ipython",
    "version": 3
   },
   "file_extension": ".py",
   "mimetype": "text/x-python",
   "name": "python",
   "nbconvert_exporter": "python",
   "pygments_lexer": "ipython3",
   "version": "3.9.12"
  }
 },
 "nbformat": 4,
 "nbformat_minor": 1
}
