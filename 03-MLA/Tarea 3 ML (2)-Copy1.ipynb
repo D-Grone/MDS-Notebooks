{
 "cells": [
  {
   "cell_type": "markdown",
   "id": "4f1361fd",
   "metadata": {},
   "source": [
    "## Segundo metodo Keras"
   ]
  },
  {
   "cell_type": "markdown",
   "id": "5f3d64d8",
   "metadata": {},
   "source": [
    "##### Impotación de Librerias"
   ]
  },
  {
   "cell_type": "code",
   "execution_count": 1,
   "id": "11f65e27",
   "metadata": {},
   "outputs": [],
   "source": [
    "### Ahora en Keras\n",
    "\n",
    "from __future__ import print_function, division\n",
    "from builtins import range, input\n",
    "import numpy as np\n",
    "import pandas as pd\n",
    "import matplotlib.pyplot as plt\n",
    "from sklearn.utils import shuffle\n",
    "\n",
    "import tensorflow\n",
    "\n",
    "from tensorflow import keras"
   ]
  },
  {
   "cell_type": "code",
   "execution_count": 2,
   "id": "d5abaa80",
   "metadata": {},
   "outputs": [],
   "source": [
    "from keras.models import Model\n",
    "from keras.layers import Input, Embedding, Dot, Add, Flatten\n",
    "from keras.regularizers import l2\n",
    "from tensorflow.keras.optimizers import Adam, SGD"
   ]
  },
  {
   "cell_type": "markdown",
   "id": "a4b01c9a",
   "metadata": {},
   "source": [
    "##### Lectura del DataSet"
   ]
  },
  {
   "cell_type": "code",
   "execution_count": 3,
   "id": "5c66dd39",
   "metadata": {},
   "outputs": [],
   "source": [
    "df = pd.read_csv('clicks_train.csv')"
   ]
  },
  {
   "cell_type": "code",
   "execution_count": 4,
   "id": "9be717c0",
   "metadata": {
    "scrolled": true
   },
   "outputs": [
    {
     "data": {
      "text/html": [
       "<div>\n",
       "<style scoped>\n",
       "    .dataframe tbody tr th:only-of-type {\n",
       "        vertical-align: middle;\n",
       "    }\n",
       "\n",
       "    .dataframe tbody tr th {\n",
       "        vertical-align: top;\n",
       "    }\n",
       "\n",
       "    .dataframe thead th {\n",
       "        text-align: right;\n",
       "    }\n",
       "</style>\n",
       "<table border=\"1\" class=\"dataframe\">\n",
       "  <thead>\n",
       "    <tr style=\"text-align: right;\">\n",
       "      <th></th>\n",
       "      <th>display_id</th>\n",
       "      <th>ad_id</th>\n",
       "      <th>clicked</th>\n",
       "    </tr>\n",
       "  </thead>\n",
       "  <tbody>\n",
       "    <tr>\n",
       "      <th>0</th>\n",
       "      <td>1</td>\n",
       "      <td>42337</td>\n",
       "      <td>0</td>\n",
       "    </tr>\n",
       "    <tr>\n",
       "      <th>1</th>\n",
       "      <td>1</td>\n",
       "      <td>139684</td>\n",
       "      <td>0</td>\n",
       "    </tr>\n",
       "    <tr>\n",
       "      <th>2</th>\n",
       "      <td>1</td>\n",
       "      <td>144739</td>\n",
       "      <td>1</td>\n",
       "    </tr>\n",
       "    <tr>\n",
       "      <th>3</th>\n",
       "      <td>1</td>\n",
       "      <td>156824</td>\n",
       "      <td>0</td>\n",
       "    </tr>\n",
       "    <tr>\n",
       "      <th>4</th>\n",
       "      <td>1</td>\n",
       "      <td>279295</td>\n",
       "      <td>0</td>\n",
       "    </tr>\n",
       "  </tbody>\n",
       "</table>\n",
       "</div>"
      ],
      "text/plain": [
       "   display_id   ad_id  clicked\n",
       "0           1   42337        0\n",
       "1           1  139684        0\n",
       "2           1  144739        1\n",
       "3           1  156824        0\n",
       "4           1  279295        0"
      ]
     },
     "execution_count": 4,
     "metadata": {},
     "output_type": "execute_result"
    }
   ],
   "source": [
    "df.head()"
   ]
  },
  {
   "cell_type": "code",
   "execution_count": 5,
   "id": "c1edfbae",
   "metadata": {},
   "outputs": [],
   "source": [
    "user = df['display_id'].value_counts().index\n",
    "map = {k:i for i, k in enumerate(user)}\n",
    "df['display_id'] = df['display_id'].map(map)"
   ]
  },
  {
   "cell_type": "code",
   "execution_count": 6,
   "id": "f891a7b6",
   "metadata": {},
   "outputs": [],
   "source": [
    "mov = df['ad_id'].value_counts().index\n",
    "map = {k:i for i, k in enumerate(mov)}\n",
    "df['ad_id'] = df['ad_id'].map(map)"
   ]
  },
  {
   "cell_type": "code",
   "execution_count": 7,
   "id": "dff83bf6",
   "metadata": {
    "scrolled": true
   },
   "outputs": [
    {
     "data": {
      "text/html": [
       "<div>\n",
       "<style scoped>\n",
       "    .dataframe tbody tr th:only-of-type {\n",
       "        vertical-align: middle;\n",
       "    }\n",
       "\n",
       "    .dataframe tbody tr th {\n",
       "        vertical-align: top;\n",
       "    }\n",
       "\n",
       "    .dataframe thead th {\n",
       "        text-align: right;\n",
       "    }\n",
       "</style>\n",
       "<table border=\"1\" class=\"dataframe\">\n",
       "  <thead>\n",
       "    <tr style=\"text-align: right;\">\n",
       "      <th></th>\n",
       "      <th>display_id</th>\n",
       "      <th>ad_id</th>\n",
       "      <th>clicked</th>\n",
       "    </tr>\n",
       "  </thead>\n",
       "  <tbody>\n",
       "    <tr>\n",
       "      <th>0</th>\n",
       "      <td>3708577</td>\n",
       "      <td>1426</td>\n",
       "      <td>0</td>\n",
       "    </tr>\n",
       "    <tr>\n",
       "      <th>1</th>\n",
       "      <td>3708577</td>\n",
       "      <td>10810</td>\n",
       "      <td>0</td>\n",
       "    </tr>\n",
       "    <tr>\n",
       "      <th>2</th>\n",
       "      <td>3708577</td>\n",
       "      <td>82</td>\n",
       "      <td>1</td>\n",
       "    </tr>\n",
       "    <tr>\n",
       "      <th>3</th>\n",
       "      <td>3708577</td>\n",
       "      <td>80</td>\n",
       "      <td>0</td>\n",
       "    </tr>\n",
       "    <tr>\n",
       "      <th>4</th>\n",
       "      <td>3708577</td>\n",
       "      <td>22809</td>\n",
       "      <td>0</td>\n",
       "    </tr>\n",
       "    <tr>\n",
       "      <th>...</th>\n",
       "      <td>...</td>\n",
       "      <td>...</td>\n",
       "      <td>...</td>\n",
       "    </tr>\n",
       "    <tr>\n",
       "      <th>87141726</th>\n",
       "      <td>9786521</td>\n",
       "      <td>944</td>\n",
       "      <td>0</td>\n",
       "    </tr>\n",
       "    <tr>\n",
       "      <th>87141727</th>\n",
       "      <td>11566925</td>\n",
       "      <td>22257</td>\n",
       "      <td>1</td>\n",
       "    </tr>\n",
       "    <tr>\n",
       "      <th>87141728</th>\n",
       "      <td>11566925</td>\n",
       "      <td>2311</td>\n",
       "      <td>0</td>\n",
       "    </tr>\n",
       "    <tr>\n",
       "      <th>87141729</th>\n",
       "      <td>11566925</td>\n",
       "      <td>5476</td>\n",
       "      <td>0</td>\n",
       "    </tr>\n",
       "    <tr>\n",
       "      <th>87141730</th>\n",
       "      <td>11566925</td>\n",
       "      <td>2135</td>\n",
       "      <td>0</td>\n",
       "    </tr>\n",
       "  </tbody>\n",
       "</table>\n",
       "<p>87141731 rows × 3 columns</p>\n",
       "</div>"
      ],
      "text/plain": [
       "          display_id  ad_id  clicked\n",
       "0            3708577   1426        0\n",
       "1            3708577  10810        0\n",
       "2            3708577     82        1\n",
       "3            3708577     80        0\n",
       "4            3708577  22809        0\n",
       "...              ...    ...      ...\n",
       "87141726     9786521    944        0\n",
       "87141727    11566925  22257        1\n",
       "87141728    11566925   2311        0\n",
       "87141729    11566925   5476        0\n",
       "87141730    11566925   2135        0\n",
       "\n",
       "[87141731 rows x 3 columns]"
      ]
     },
     "execution_count": 7,
     "metadata": {},
     "output_type": "execute_result"
    }
   ],
   "source": [
    "df"
   ]
  },
  {
   "cell_type": "markdown",
   "id": "38b177d6",
   "metadata": {},
   "source": [
    "##### Ordenamiento de display_id más reelevantes\n",
    "\n",
    "Se identifican los \"display_id\" más reelevantes mediante una proporción \"n,m\" en base al tamaño total del Set de Datos \"N,M\". Se consideran como más reelevantes, aquellos \"display_id\" que mas se repiten en el dataset."
   ]
  },
  {
   "cell_type": "code",
   "execution_count": 8,
   "id": "149c17bc",
   "metadata": {},
   "outputs": [
    {
     "data": {
      "text/plain": [
       "(16874592, 478949)"
      ]
     },
     "execution_count": 8,
     "metadata": {},
     "output_type": "execute_result"
    }
   ],
   "source": [
    "N = df['display_id'].max()\n",
    "M = df['ad_id'].max()\n",
    "\n",
    "N,M"
   ]
  },
  {
   "cell_type": "code",
   "execution_count": 9,
   "id": "8b06a0dc",
   "metadata": {},
   "outputs": [
    {
     "name": "stdout",
     "output_type": "stream",
     "text": [
      "84\n"
     ]
    }
   ],
   "source": [
    "n = int(0.000005*N)\n",
    "m = 47894\n",
    "print(n)\n",
    "\n",
    "from collections import Counter"
   ]
  },
  {
   "cell_type": "code",
   "execution_count": 10,
   "id": "6f1b8d51",
   "metadata": {},
   "outputs": [],
   "source": [
    "ucount = Counter(df['display_id'])\n",
    "mcount = Counter(df['ad_id'])\n",
    "\n",
    "uid = [u for u, c in ucount.most_common(n)]\n",
    "mid = [u for u, c in mcount.most_common(m)]"
   ]
  },
  {
   "cell_type": "code",
   "execution_count": 11,
   "id": "4c2c502b",
   "metadata": {},
   "outputs": [
    {
     "data": {
      "text/plain": [
       "12"
      ]
     },
     "execution_count": 11,
     "metadata": {},
     "output_type": "execute_result"
    }
   ],
   "source": [
    "dft = pd.DataFrame(ucount.most_common(n))\n",
    "dft_list = list(dft[1])\n",
    "ucount[dft_list[0]]"
   ]
  },
  {
   "cell_type": "code",
   "execution_count": 12,
   "id": "e4d21e24",
   "metadata": {},
   "outputs": [
    {
     "data": {
      "text/plain": [
       "[(0, 211824)]"
      ]
     },
     "execution_count": 12,
     "metadata": {},
     "output_type": "execute_result"
    }
   ],
   "source": [
    "mcount.most_common(1)"
   ]
  },
  {
   "cell_type": "code",
   "execution_count": 13,
   "id": "20997b24",
   "metadata": {},
   "outputs": [
    {
     "data": {
      "text/plain": [
       "7"
      ]
     },
     "execution_count": 13,
     "metadata": {},
     "output_type": "execute_result"
    }
   ],
   "source": [
    "mcount[211824]"
   ]
  },
  {
   "cell_type": "code",
   "execution_count": 14,
   "id": "a2c29234",
   "metadata": {},
   "outputs": [
    {
     "data": {
      "text/html": [
       "<div>\n",
       "<style scoped>\n",
       "    .dataframe tbody tr th:only-of-type {\n",
       "        vertical-align: middle;\n",
       "    }\n",
       "\n",
       "    .dataframe tbody tr th {\n",
       "        vertical-align: top;\n",
       "    }\n",
       "\n",
       "    .dataframe thead th {\n",
       "        text-align: right;\n",
       "    }\n",
       "</style>\n",
       "<table border=\"1\" class=\"dataframe\">\n",
       "  <thead>\n",
       "    <tr style=\"text-align: right;\">\n",
       "      <th></th>\n",
       "      <th>display_id</th>\n",
       "      <th>ad_id</th>\n",
       "      <th>clicked</th>\n",
       "    </tr>\n",
       "  </thead>\n",
       "  <tbody>\n",
       "    <tr>\n",
       "      <th>2730</th>\n",
       "      <td>8060</td>\n",
       "      <td>4105</td>\n",
       "      <td>0</td>\n",
       "    </tr>\n",
       "    <tr>\n",
       "      <th>2731</th>\n",
       "      <td>8060</td>\n",
       "      <td>8979</td>\n",
       "      <td>0</td>\n",
       "    </tr>\n",
       "    <tr>\n",
       "      <th>2732</th>\n",
       "      <td>8060</td>\n",
       "      <td>21498</td>\n",
       "      <td>0</td>\n",
       "    </tr>\n",
       "    <tr>\n",
       "      <th>2733</th>\n",
       "      <td>8060</td>\n",
       "      <td>3367</td>\n",
       "      <td>1</td>\n",
       "    </tr>\n",
       "    <tr>\n",
       "      <th>2734</th>\n",
       "      <td>8060</td>\n",
       "      <td>2240</td>\n",
       "      <td>0</td>\n",
       "    </tr>\n",
       "  </tbody>\n",
       "</table>\n",
       "</div>"
      ],
      "text/plain": [
       "      display_id  ad_id  clicked\n",
       "2730        8060   4105        0\n",
       "2731        8060   8979        0\n",
       "2732        8060  21498        0\n",
       "2733        8060   3367        1\n",
       "2734        8060   2240        0"
      ]
     },
     "execution_count": 14,
     "metadata": {},
     "output_type": "execute_result"
    }
   ],
   "source": [
    "newdf = df[df['display_id'].isin(uid) & df['ad_id'].isin(mid)]\n",
    "newdf.head()"
   ]
  },
  {
   "cell_type": "code",
   "execution_count": 15,
   "id": "823da3b4",
   "metadata": {},
   "outputs": [
    {
     "name": "stderr",
     "output_type": "stream",
     "text": [
      "C:\\Users\\pablo\\AppData\\Local\\Temp\\ipykernel_3628\\2669345575.py:6: SettingWithCopyWarning: \n",
      "A value is trying to be set on a copy of a slice from a DataFrame.\n",
      "Try using .loc[row_indexer,col_indexer] = value instead\n",
      "\n",
      "See the caveats in the documentation: https://pandas.pydata.org/pandas-docs/stable/user_guide/indexing.html#returning-a-view-versus-a-copy\n",
      "  newdf['display_id'] = newdf['display_id'].map(map)\n"
     ]
    }
   ],
   "source": [
    "N = newdf['display_id'].max()\n",
    "M = newdf['ad_id'].max()\n",
    "\n",
    "user = newdf['display_id'].value_counts().index\n",
    "map = {k:i for i, k in enumerate(user)}\n",
    "newdf['display_id'] = newdf['display_id'].map(map)"
   ]
  },
  {
   "cell_type": "code",
   "execution_count": 16,
   "id": "e1e8003e",
   "metadata": {},
   "outputs": [
    {
     "data": {
      "text/plain": [
       "(12767, 47912)"
      ]
     },
     "execution_count": 16,
     "metadata": {},
     "output_type": "execute_result"
    }
   ],
   "source": [
    "N,M"
   ]
  },
  {
   "cell_type": "code",
   "execution_count": 17,
   "id": "df58b4ba",
   "metadata": {},
   "outputs": [
    {
     "name": "stderr",
     "output_type": "stream",
     "text": [
      "C:\\Users\\pablo\\AppData\\Local\\Temp\\ipykernel_3628\\1196890054.py:3: SettingWithCopyWarning: \n",
      "A value is trying to be set on a copy of a slice from a DataFrame.\n",
      "Try using .loc[row_indexer,col_indexer] = value instead\n",
      "\n",
      "See the caveats in the documentation: https://pandas.pydata.org/pandas-docs/stable/user_guide/indexing.html#returning-a-view-versus-a-copy\n",
      "  newdf['ad_id'] = newdf['ad_id'].map(map)\n"
     ]
    }
   ],
   "source": [
    "mov = newdf['ad_id'].value_counts().index\n",
    "map = {k:i for i, k in enumerate(mov)}\n",
    "newdf['ad_id'] = newdf['ad_id'].map(map)"
   ]
  },
  {
   "cell_type": "markdown",
   "id": "6641ad0e",
   "metadata": {},
   "source": [
    "##### Se Generan los Sub COnjuntos de Entrenamiento y Prueba\n",
    "\n",
    "Una vez ordenado el DataSet, se divide en dos subconjuntos, donde el DataSet de Entrenamiento contendrá aquellos datos de \"display_id\" que mas se repiten, mientras que el DataSet de Prueba contendrá el 20% de los \"display_id\" que menos se repiten."
   ]
  },
  {
   "cell_type": "code",
   "execution_count": 18,
   "id": "73b681c2",
   "metadata": {},
   "outputs": [
    {
     "data": {
      "text/plain": [
       "697"
      ]
     },
     "execution_count": 18,
     "metadata": {},
     "output_type": "execute_result"
    }
   ],
   "source": [
    "newdf = shuffle(newdf)\n",
    "cutoff = int(0.8*len(newdf))\n",
    "cutoff"
   ]
  },
  {
   "cell_type": "markdown",
   "id": "20aa25ee",
   "metadata": {},
   "source": [
    "train = newdf.iloc[: cutoff]\n",
    "test = newdf.iloc[cutoff:]"
   ]
  },
  {
   "cell_type": "code",
   "execution_count": 19,
   "id": "4b4cbfbf",
   "metadata": {},
   "outputs": [],
   "source": [
    "from sklearn.model_selection import train_test_split\n",
    "train, test = train_test_split(newdf, test_size=0.2)"
   ]
  },
  {
   "cell_type": "code",
   "execution_count": 20,
   "id": "16ffbb4c",
   "metadata": {},
   "outputs": [],
   "source": [
    "K = 10 #factores latentes\n",
    "mu = newdf['clicked'].mean()\n",
    "epochs = 10\n",
    "reg = 0.\n",
    "N = n\n",
    "M = m"
   ]
  },
  {
   "cell_type": "code",
   "execution_count": 21,
   "id": "3d99372b",
   "metadata": {},
   "outputs": [],
   "source": [
    "u = Input(shape=(1,))\n",
    "m = Input(shape=(1,))\n",
    "\n",
    "u_embed = Embedding(N, K, embeddings_regularizer = l2(reg))(u) # size (N,1,K)\n",
    "m_embed = Embedding(M, K, embeddings_regularizer = l2(reg))(m) # size (M,1,K)"
   ]
  },
  {
   "cell_type": "code",
   "execution_count": 22,
   "id": "d51c21ec",
   "metadata": {},
   "outputs": [],
   "source": [
    "u_bias = Embedding(N, 1, embeddings_regularizer = l2(reg))(u)\n",
    "m_bias = Embedding(M, 1, embeddings_regularizer = l2(reg))(m)\n",
    "\n",
    "x = Dot(axes = 2)([u_embed, m_embed])\n",
    "\n",
    "x = Add()([x, u_bias, m_bias])\n",
    "x = Flatten()(x) # N,1"
   ]
  },
  {
   "cell_type": "code",
   "execution_count": 23,
   "id": "7880d515",
   "metadata": {},
   "outputs": [],
   "source": [
    "model = Model(inputs = (u, m),\n",
    "             outputs = x)\n",
    "\n",
    "model.compile(loss = 'mse',\n",
    "             optimizer = Adam(learning_rate = 0.01),\n",
    "             metrics = ['mse'])"
   ]
  },
  {
   "cell_type": "code",
   "execution_count": 24,
   "id": "1bde5730",
   "metadata": {
    "scrolled": false
   },
   "outputs": [
    {
     "name": "stdout",
     "output_type": "stream",
     "text": [
      "Epoch 1/10\n",
      "3/3 [==============================] - 3s 149ms/step - loss: 0.0794 - mse: 0.0794 - val_loss: 0.1012 - val_mse: 0.1012\n",
      "Epoch 2/10\n",
      "3/3 [==============================] - 0s 23ms/step - loss: 0.0708 - mse: 0.0708 - val_loss: 0.1058 - val_mse: 0.1058\n",
      "Epoch 3/10\n",
      "3/3 [==============================] - 0s 22ms/step - loss: 0.0643 - mse: 0.0643 - val_loss: 0.1098 - val_mse: 0.1098\n",
      "Epoch 4/10\n",
      "3/3 [==============================] - 0s 27ms/step - loss: 0.0585 - mse: 0.0585 - val_loss: 0.1124 - val_mse: 0.1124\n",
      "Epoch 5/10\n",
      "3/3 [==============================] - 0s 24ms/step - loss: 0.0525 - mse: 0.0525 - val_loss: 0.1141 - val_mse: 0.1141\n",
      "Epoch 6/10\n",
      "3/3 [==============================] - 0s 25ms/step - loss: 0.0457 - mse: 0.0457 - val_loss: 0.1155 - val_mse: 0.1155\n",
      "Epoch 7/10\n",
      "3/3 [==============================] - 0s 20ms/step - loss: 0.0391 - mse: 0.0391 - val_loss: 0.1171 - val_mse: 0.1171\n",
      "Epoch 8/10\n",
      "3/3 [==============================] - 0s 23ms/step - loss: 0.0320 - mse: 0.0320 - val_loss: 0.1193 - val_mse: 0.1193\n",
      "Epoch 9/10\n",
      "3/3 [==============================] - 0s 25ms/step - loss: 0.0257 - mse: 0.0257 - val_loss: 0.1221 - val_mse: 0.1221\n",
      "Epoch 10/10\n",
      "3/3 [==============================] - 0s 24ms/step - loss: 0.0193 - mse: 0.0193 - val_loss: 0.1252 - val_mse: 0.1252\n"
     ]
    }
   ],
   "source": [
    "r = model.fit(x = [train['display_id'].values, train['ad_id'].values],\n",
    "                 y = train['clicked'].values - mu,\n",
    "                 epochs = epochs,\n",
    "                 batch_size = 256,\n",
    "                 validation_data = ([test['display_id'].values, test['ad_id'].values],\n",
    "                 test['clicked'].values - mu)\n",
    "                 )"
   ]
  },
  {
   "cell_type": "code",
   "execution_count": 25,
   "id": "ec565272",
   "metadata": {},
   "outputs": [
    {
     "data": {
      "image/png": "[encoded data removed]",
      "text/plain": [
       "<Figure size 640x480 with 1 Axes>"
      ]
     },
     "metadata": {},
     "output_type": "display_data"
    },
    {
     "data": {
      "image/png": "[encoded data removed]",
      "text/plain": [
       "<Figure size 640x480 with 1 Axes>"
      ]
     },
     "metadata": {},
     "output_type": "display_data"
    }
   ],
   "source": [
    "# plot losses\n",
    "plt.plot(r.history['loss'], label=\"train loss\")\n",
    "plt.plot(r.history['val_loss'], label=\"test loss\")\n",
    "plt.legend()\n",
    "plt.show()\n",
    "\n",
    "# plot mse\n",
    "plt.plot(r.history['mse'], label=\"train mse\")\n",
    "plt.plot(r.history['val_mse'], label=\"test mse\")\n",
    "plt.legend()\n",
    "plt.show()"
   ]
  },
  {
   "cell_type": "markdown",
   "id": "7879f070",
   "metadata": {},
   "source": [
    "## Otro 1"
   ]
  }
 ],
 "metadata": {
  "kernelspec": {
   "display_name": "Python 3 (ipykernel)",
   "language": "python",
   "name": "python3"
  },
  "language_info": {
   "codemirror_mode": {
    "name": "ipython",
    "version": 3
   },
   "file_extension": ".py",
   "mimetype": "text/x-python",
   "name": "python",
   "nbconvert_exporter": "python",
   "pygments_lexer": "ipython3",
   "version": "3.9.13"
  }
 },
 "nbformat": 4,
 "nbformat_minor": 5
}
