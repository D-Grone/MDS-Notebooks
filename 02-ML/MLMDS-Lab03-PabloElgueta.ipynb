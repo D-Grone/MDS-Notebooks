{
 "cells": [
  {
   "cell_type": "markdown",
   "id": "0a63ae17",
   "metadata": {},
   "source": [
    "# Laboratorio 03 Machine Learning MDS - SVM y KNN\n",
    "\n",
    "#### Pablo Elgueta"
   ]
  },
  {
   "cell_type": "markdown",
   "id": "a30f5461",
   "metadata": {},
   "source": [
    "### Importación Librerías y Funciones"
   ]
  },
  {
   "cell_type": "code",
   "execution_count": null,
   "id": "728af54a",
   "metadata": {},
   "outputs": [],
   "source": [
    "import pandas as pd \n",
    "import matplotlib.pyplot as plt\n",
    "import os \n",
    "from PIL import Image\n",
    "from sklearn import svm\n",
    "from sklearn import metrics\n",
    "from sklearn.metrics import confusion_matrix\n",
    "from sklearn.neighbors import KNeighborsClassifier\n",
    "from sklearn.model_selection import train_test_split"
   ]
  },
  {
   "cell_type": "markdown",
   "id": "853d1de6",
   "metadata": {},
   "source": [
    "### 1.- Clasificación de Dataset load_digits con SVM"
   ]
  },
  {
   "cell_type": "markdown",
   "id": "c2337e30",
   "metadata": {},
   "source": [
    "#### 1.1.- Importar DataSet"
   ]
  },
  {
   "cell_type": "code",
   "execution_count": null,
   "id": "857c1d7d",
   "metadata": {
    "scrolled": true
   },
   "outputs": [],
   "source": [
    "from sklearn.datasets import load_digits\n",
    "digits = load_digits()\n",
    "digits.keys()"
   ]
  },
  {
   "cell_type": "code",
   "execution_count": null,
   "id": "a3b4f0de",
   "metadata": {},
   "outputs": [],
   "source": [
    "target = digits.target\n",
    "target_names = digits.target_names\n",
    "print(f'target = {target_names}')"
   ]
  },
  {
   "cell_type": "code",
   "execution_count": null,
   "id": "73a750fc",
   "metadata": {},
   "outputs": [],
   "source": [
    "pd.DataFrame(digits.data)"
   ]
  },
  {
   "cell_type": "markdown",
   "id": "33709ad8",
   "metadata": {},
   "source": [
    "#### 1.2.- Mostrar 2 Imagenes"
   ]
  },
  {
   "cell_type": "code",
   "execution_count": null,
   "id": "592dabd1",
   "metadata": {},
   "outputs": [],
   "source": [
    "for i in range(0,2):\n",
    "    plt.subplot(3, 4,i + 1)\n",
    "    plt.axis('off')\n",
    "    plt.gray()\n",
    "    plt.imshow(digits.images[i])\n",
    "    plt.title('Training: {}'.format(digits.target[i]))\n",
    "plt.show()"
   ]
  },
  {
   "cell_type": "markdown",
   "id": "d4434121",
   "metadata": {},
   "source": [
    "#### 1.3.- Preparar de Datos"
   ]
  },
  {
   "cell_type": "markdown",
   "id": "d134af03",
   "metadata": {},
   "source": [
    "Reducción de Dimensión de Imagen 8x8 a 1 Dimensión"
   ]
  },
  {
   "cell_type": "code",
   "execution_count": null,
   "id": "ce764f31",
   "metadata": {},
   "outputs": [],
   "source": [
    "digits.images.shape"
   ]
  },
  {
   "cell_type": "code",
   "execution_count": null,
   "id": "bb9a285b",
   "metadata": {},
   "outputs": [],
   "source": [
    "samples_len = len(digits.images)\n",
    "samples_reshape = digits.images.reshape((samples_len, -1))"
   ]
  },
  {
   "cell_type": "code",
   "execution_count": null,
   "id": "a938e87a",
   "metadata": {},
   "outputs": [],
   "source": [
    "samples_reshape.shape"
   ]
  },
  {
   "cell_type": "markdown",
   "id": "dedeefed",
   "metadata": {},
   "source": [
    "Generar Set de Entrenamiento y Set de Testeo"
   ]
  },
  {
   "cell_type": "code",
   "execution_count": null,
   "id": "76f902f0",
   "metadata": {},
   "outputs": [],
   "source": [
    "from sklearn.model_selection import train_test_split\n",
    "X_train, X_test, y_train, y_test = train_test_split(samples_reshape, target, train_size=.4)"
   ]
  },
  {
   "cell_type": "markdown",
   "id": "f6fc8984",
   "metadata": {},
   "source": [
    "#### 1.4.- Entrenar Modelo SVC"
   ]
  },
  {
   "cell_type": "code",
   "execution_count": null,
   "id": "0dd0b37c",
   "metadata": {
    "scrolled": true
   },
   "outputs": [],
   "source": [
    "classifier = svm.SVC()\n",
    "classifier.fit(X_train,y_train)"
   ]
  },
  {
   "cell_type": "markdown",
   "id": "500632d3",
   "metadata": {},
   "source": [
    "#### 1.5.- Evaluar Modelo"
   ]
  },
  {
   "cell_type": "markdown",
   "id": "f0eda8ee",
   "metadata": {},
   "source": [
    "Clasificación de Imagenes"
   ]
  },
  {
   "cell_type": "code",
   "execution_count": null,
   "id": "a03f45be",
   "metadata": {},
   "outputs": [],
   "source": [
    "y_pred = classifier.predict(X_test)"
   ]
  },
  {
   "cell_type": "markdown",
   "id": "a8e04eb8",
   "metadata": {},
   "source": [
    "Matriz de Confusión"
   ]
  },
  {
   "cell_type": "code",
   "execution_count": null,
   "id": "30339fe2",
   "metadata": {},
   "outputs": [],
   "source": [
    "pd.DataFrame(confusion_matrix(y_pred,y_test))"
   ]
  },
  {
   "cell_type": "markdown",
   "id": "4d63a281",
   "metadata": {},
   "source": [
    "Metricas del Modelo"
   ]
  },
  {
   "cell_type": "code",
   "execution_count": null,
   "id": "ff52dae8",
   "metadata": {},
   "outputs": [],
   "source": [
    "print(metrics.classification_report(y_test, y_pred))"
   ]
  },
  {
   "cell_type": "markdown",
   "id": "2885c4da",
   "metadata": {},
   "source": [
    "### 2.- Clasificación de Perros y Gatos con KNN"
   ]
  },
  {
   "cell_type": "markdown",
   "id": "9b51e216",
   "metadata": {},
   "source": [
    "Definición de Funciones"
   ]
  },
  {
   "cell_type": "code",
   "execution_count": null,
   "id": "ddd5cbe8",
   "metadata": {},
   "outputs": [],
   "source": [
    "def train(animal_class):         #Funcion para asignar clase a las imagenes de Gatos y Perros\n",
    "    import os\n",
    "    labels = []\n",
    "    train_dogs = []\n",
    "    for i in os.listdir(TRAIN_DIR):\n",
    "        if animal_class in i:\n",
    "            train_dogs.append(i)\n",
    "            labels.append(1)\n",
    "        else:\n",
    "            labels.append(0)            \n",
    "    return labels"
   ]
  },
  {
   "cell_type": "code",
   "execution_count": null,
   "id": "bf90d954",
   "metadata": {},
   "outputs": [],
   "source": [
    "def HistogramImage (source, results):  #Funcion para generar una lista con pixeles de la imagen en blanco y negro\n",
    "    from PIL import Image \n",
    "    for i in source:\n",
    "        pil_im = Image.open(i).convert('L')\n",
    "        pix_val = pil_im.histogram() \n",
    "        results.append(pix_val)   "
   ]
  },
  {
   "cell_type": "code",
   "execution_count": null,
   "id": "15cd854d",
   "metadata": {},
   "outputs": [],
   "source": [
    "def KNN_BestK (X_train, X_test, y_train, y_test, KNN):   #Entrega un KNN con el mejor n_neightbor en rango de 1 a 10\n",
    "    from sklearn.neighbors import KNeighborsClassifier\n",
    "    from sklearn.model_selection import train_test_split \n",
    "    best_score = 0.0\n",
    "    best_k = -1\n",
    "    for k in range(1,10):    \n",
    "        KNN = KNeighborsClassifier(n_neighbors=k)\n",
    "        KNN = KNN.fit(X_train, y_train)\n",
    "        score = KNN.score (X_test, y_test)\n",
    "        if score > best_score:\n",
    "            best_k = k\n",
    "            best_score = score  \n",
    "    print(f'k = {best_k}')\n",
    "    print(f'Accuracy = {best_score}')\n",
    "    KNN = KNeighborsClassifier(n_neighbors = best_k)\n",
    "    KNN = KNN.fit(X_train, y_train)\n",
    "    #return best_k\n",
    "    return KNN"
   ]
  },
  {
   "cell_type": "code",
   "execution_count": null,
   "id": "139480ba",
   "metadata": {},
   "outputs": [],
   "source": [
    "def ClassifyImage(images_dir): # Función para clasificar una imagen y mostrarla junto al resultado\n",
    "    import random\n",
    "    from PIL import Image\n",
    "    from sklearn.metrics import confusion_matrix\n",
    "    import matplotlib.pyplot as plt\n",
    "    image_random = random.choice(range(len(images_dir)))\n",
    "    image2 = [images_dir[image_random]]\n",
    "    seo=[]\n",
    "    HistogramImage(image2, seo)\n",
    "    animal = KNN.predict(seo)\n",
    "    animal\n",
    "    if animal[0] == 1:\n",
    "        print(f'El animal de la foto es Perro')\n",
    "    elif animal[0] ==0:\n",
    "        print(f'El animal de la foto es Gato')\n",
    "    return Image.open( images_dir[image_random])"
   ]
  },
  {
   "cell_type": "markdown",
   "id": "618afb86",
   "metadata": {},
   "source": [
    "#### 2.1.- Importar DataSet"
   ]
  },
  {
   "cell_type": "code",
   "execution_count": null,
   "id": "50e2824f",
   "metadata": {},
   "outputs": [],
   "source": [
    "TRAIN_DIR = 'C:/Users/pablo/OneDrive/001 - Estudio/001 - Universitario/000 - Magister Data Science/000 - Asignaturas/002 - Machine Learning/Tareas/ML-Laboratorio 3/'\n",
    "train_images = [TRAIN_DIR+i for i in os.listdir(TRAIN_DIR)] # use this for training images"
   ]
  },
  {
   "cell_type": "code",
   "execution_count": null,
   "id": "87473e77",
   "metadata": {},
   "outputs": [],
   "source": [
    "train_classes = train('dog')   "
   ]
  },
  {
   "cell_type": "code",
   "execution_count": null,
   "id": "3f00a33f",
   "metadata": {},
   "outputs": [],
   "source": [
    "q=pd.DataFrame(train_images)\n",
    "q['class']= train_classes\n",
    "print(q['class'].value_counts())\n",
    "q.head(2)"
   ]
  },
  {
   "cell_type": "markdown",
   "id": "535d62a2",
   "metadata": {},
   "source": [
    "#### 2.2.- Mostrar 2 Imagenes"
   ]
  },
  {
   "cell_type": "code",
   "execution_count": null,
   "id": "8b7d0b6b",
   "metadata": {},
   "outputs": [],
   "source": [
    "Image.open( TRAIN_DIR + 'cat.3.jpg')"
   ]
  },
  {
   "cell_type": "code",
   "execution_count": null,
   "id": "3f6eb0f8",
   "metadata": {},
   "outputs": [],
   "source": [
    "Image.open( TRAIN_DIR + 'dog.3.jpg')"
   ]
  },
  {
   "cell_type": "markdown",
   "id": "b5dc9877",
   "metadata": {},
   "source": [
    "#### 2.3.- Preparar Datos"
   ]
  },
  {
   "cell_type": "code",
   "execution_count": null,
   "id": "0df1f453",
   "metadata": {},
   "outputs": [],
   "source": [
    "results = []\n",
    "HistogramImage(train_images, results)"
   ]
  },
  {
   "cell_type": "code",
   "execution_count": null,
   "id": "257244a1",
   "metadata": {},
   "outputs": [],
   "source": [
    "X_train, X_test, y_train, y_test = train_test_split(results, train_classes, train_size=.98)"
   ]
  },
  {
   "cell_type": "code",
   "execution_count": null,
   "id": "001a09d8",
   "metadata": {},
   "outputs": [],
   "source": [
    "pd.DataFrame(y_train).value_counts()"
   ]
  },
  {
   "cell_type": "markdown",
   "id": "fddc6d9c",
   "metadata": {},
   "source": [
    "#### 2.4.- Entrenar Modelo KNN"
   ]
  },
  {
   "cell_type": "code",
   "execution_count": null,
   "id": "5a227974",
   "metadata": {},
   "outputs": [],
   "source": [
    "KNN = KNeighborsClassifier()\n",
    "KNN = KNN_BestK (X_train, X_test, y_train, y_test, KNN)"
   ]
  },
  {
   "cell_type": "markdown",
   "id": "22896247",
   "metadata": {},
   "source": [
    "#### 2.5.- Evaluar Modelo"
   ]
  },
  {
   "cell_type": "code",
   "execution_count": null,
   "id": "cecb8bc1",
   "metadata": {},
   "outputs": [],
   "source": [
    "pd.DataFrame(y_test).value_counts()"
   ]
  },
  {
   "cell_type": "code",
   "execution_count": null,
   "id": "8587f1f0",
   "metadata": {},
   "outputs": [],
   "source": [
    "y_pred = KNN.predict(X_test)"
   ]
  },
  {
   "cell_type": "code",
   "execution_count": null,
   "id": "99901d59",
   "metadata": {},
   "outputs": [],
   "source": [
    "from sklearn.metrics import confusion_matrix\n",
    "pd.DataFrame(confusion_matrix(y_pred, y_test))"
   ]
  },
  {
   "cell_type": "code",
   "execution_count": null,
   "id": "f6942ba6",
   "metadata": {},
   "outputs": [],
   "source": [
    "from sklearn import metrics\n",
    "print(metrics.classification_report(y_test, y_pred))"
   ]
  },
  {
   "cell_type": "code",
   "execution_count": null,
   "id": "417f8ef1",
   "metadata": {},
   "outputs": [],
   "source": [
    "#ClassifyImage(train_images)"
   ]
  },
  {
   "cell_type": "code",
   "execution_count": null,
   "id": "1721b8f3",
   "metadata": {},
   "outputs": [],
   "source": [
    "#ClassifyImage(train_images)"
   ]
  }
 ],
 "metadata": {
  "kernelspec": {
   "display_name": "Python 3 (ipykernel)",
   "language": "python",
   "name": "python3"
  },
  "language_info": {
   "codemirror_mode": {
    "name": "ipython",
    "version": 3
   },
   "file_extension": ".py",
   "mimetype": "text/x-python",
   "name": "python",
   "nbconvert_exporter": "python",
   "pygments_lexer": "ipython3",
   "version": "3.9.12"
  }
 },
 "nbformat": 4,
 "nbformat_minor": 5
}
