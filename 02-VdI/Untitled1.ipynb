{
 "cells": [
  {
   "cell_type": "code",
   "execution_count": 2,
   "id": "0ac92423",
   "metadata": {},
   "outputs": [
    {
     "name": "stdout",
     "output_type": "stream",
     "text": [
      "Collecting pySankeyNote: you may need to restart the kernel to use updated packages.\n",
      "  Downloading pySankey-0.0.1-py3-none-any.whl (4.9 kB)\n",
      "Installing collected packages: pySankey\n",
      "Successfully installed pySankey-0.0.1\n",
      "\n"
     ]
    }
   ],
   "source": [
    "pip install pySankey"
   ]
  }
 ],
 "metadata": {
  "kernelspec": {
   "display_name": "Python 3 (ipykernel)",
   "language": "python",
   "name": "python3"
  },
  "language_info": {
   "codemirror_mode": {
    "name": "ipython",
    "version": 3
   },
   "file_extension": ".py",
   "mimetype": "text/x-python",
   "name": "python",
   "nbconvert_exporter": "python",
   "pygments_lexer": "ipython3",
   "version": "3.9.12"
  }
 },
 "nbformat": 4,
 "nbformat_minor": 5
}
