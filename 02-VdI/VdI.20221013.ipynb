{
 "cells": [
  {
   "cell_type": "markdown",
   "id": "628b48f0",
   "metadata": {},
   "source": [
    "# Proyecto curso: Visualización de datos \n",
    "#### Estudiantes:  \n",
    "Pablo Elgueta  \n",
    "Camilo Olavarría"
   ]
  },
  {
   "cell_type": "markdown",
   "id": "d45b145b",
   "metadata": {},
   "source": [
    "## Introducción\n",
    "Cada rubro industrial tiene su propia cultura organizacional, algunas más rígidas que otras, lo cual representa un mayor desafío en términos de transformación digital para las industrias más antiguas que suelen ser las más conservadoras en sus procesos operacionales.  \n",
    "\n",
    "Un artículo de la revista Forbes titulado “Digital Transformation In Manufacturing: How To Implement Metrics To Foster A Data-Driven Culture” (Striletskyi 2022) indica que las herramientas de gestión de KPI de manufactura ayudan a crear un lugar donde se pueden medir todos los datos recopilados. La integración de datos de varias fuentes, como la planificación de recursos empresariales (ERP) o los manufacturing execution system (MES), en un repositorio en la nube permitirá realizar un seguimiento no solo del rendimiento de un solo factor, sino de una combinación de ellos. Esto permite ver los efectos que estos factores en conjunto están teniendo en el negocio.  \n",
    "\n",
    "##### Referencias\n",
    "\n",
    "STRILETSKYI, Mykola. 2022. Digital Transformation in Manufacturing: How to Implement Metrics to Foster a Data-Driven Culture [en línea]. [consultado el 12 de octubre de 2022]. Disponible en: https://www.forbes.com/sites/forbesbusinesscouncil/2022/06/21/digital-transformation-in-manufacturing-how-to-implement-metrics-to-foster-a-data-driven-culture/?sh=56a60d5e7451"
   ]
  },
  {
   "cell_type": "markdown",
   "id": "224e15a7",
   "metadata": {},
   "source": [
    "## Identificación de la necesidad/problemática  \n",
    "Actualmente SAP producción entrega planillas de excel con la información actualizada, sin embargo, dependiendo del área productiva, las planillas contienen bastante información la cual necesita de una limpieza para extraer la datos relevantes para crear KPIs y tomar decisiones que aporten valor al negocio.   \n",
    "Crear un código que permita visualizar la información y que lea el formato del data set que entrega SAP producción contribuirá como primer acercamiento hacia una data-driven organization y aportará en el desafío de la transformación digital."
   ]
  },
  {
   "cell_type": "markdown",
   "id": "87665132",
   "metadata": {},
   "source": [
    "## Objetivo  \n",
    "\n",
    "Crear un primer acercamiento hacia la manufactira digital visualizando datos entregados desde SAP producción de una forma más amigable."
   ]
  },
  {
   "cell_type": "markdown",
   "id": "f299f709",
   "metadata": {},
   "source": [
    "#### Nota:\n",
    "Las siguientes visualizaciones se hicieron con los colores corporativos."
   ]
  },
  {
   "cell_type": "markdown",
   "id": "2a413c9f",
   "metadata": {},
   "source": [
    "## Importacion de Librerias y Funciones"
   ]
  },
  {
   "cell_type": "code",
   "execution_count": 1,
   "id": "f4cf6389",
   "metadata": {},
   "outputs": [
    {
     "name": "stderr",
     "output_type": "stream",
     "text": [
      "C:\\Users\\pablo\\AppData\\Local\\Temp\\ipykernel_13760\\1283120312.py:12: UserWarning: \n",
      "The dash_core_components package is deprecated. Please replace\n",
      "`import dash_core_components as dcc` with `from dash import dcc`\n",
      "  import dash_core_components as dcc\n",
      "C:\\Users\\pablo\\AppData\\Local\\Temp\\ipykernel_13760\\1283120312.py:13: UserWarning: \n",
      "The dash_html_components package is deprecated. Please replace\n",
      "`import dash_html_components as html` with `from dash import html`\n",
      "  import dash_html_components as html\n"
     ]
    }
   ],
   "source": [
    "# import libraries\n",
    "\n",
    "import pandas as pd\n",
    "#import numpy as np\n",
    "import matplotlib.pyplot as plt\n",
    "import seaborn as sns\n",
    "#import matplotlib.patches as mpatches\n",
    "#import squarify   #Permite graficos gerarquicos por cuadrados\n",
    "import matplotlib as mpl\n",
    "#from pySankey.sankey import sankey  #Convinaciones de 2 variables apra las distintas muestras\n",
    "import dash\n",
    "import dash_core_components as dcc\n",
    "import dash_html_components as html\n",
    "from dash.dependencies import Output, Input\n",
    "import plotly.express as px"
   ]
  },
  {
   "cell_type": "markdown",
   "id": "28ef7f80",
   "metadata": {},
   "source": [
    "## Importación Dataset y Depuración de información"
   ]
  },
  {
   "cell_type": "code",
   "execution_count": 2,
   "id": "f42be75a",
   "metadata": {},
   "outputs": [
    {
     "data": {
      "text/html": [
       "<div>\n",
       "<style scoped>\n",
       "    .dataframe tbody tr th:only-of-type {\n",
       "        vertical-align: middle;\n",
       "    }\n",
       "\n",
       "    .dataframe tbody tr th {\n",
       "        vertical-align: top;\n",
       "    }\n",
       "\n",
       "    .dataframe thead th {\n",
       "        text-align: right;\n",
       "    }\n",
       "</style>\n",
       "<table border=\"1\" class=\"dataframe\">\n",
       "  <thead>\n",
       "    <tr style=\"text-align: right;\">\n",
       "      <th></th>\n",
       "      <th>Maq1</th>\n",
       "      <th>Orden Fab.</th>\n",
       "      <th>Cantidad OF</th>\n",
       "      <th>Cant. Piso</th>\n",
       "      <th>Registrado</th>\n",
       "      <th>Cant. Leida</th>\n",
       "    </tr>\n",
       "  </thead>\n",
       "  <tbody>\n",
       "    <tr>\n",
       "      <th>0</th>\n",
       "      <td>BB12-1</td>\n",
       "      <td>110132446</td>\n",
       "      <td>80000.0</td>\n",
       "      <td>68360.0</td>\n",
       "      <td>2022-08-05</td>\n",
       "      <td>590</td>\n",
       "    </tr>\n",
       "    <tr>\n",
       "      <th>1</th>\n",
       "      <td>BB12-1</td>\n",
       "      <td>110132446</td>\n",
       "      <td>80000.0</td>\n",
       "      <td>68360.0</td>\n",
       "      <td>2022-08-05</td>\n",
       "      <td>664</td>\n",
       "    </tr>\n",
       "    <tr>\n",
       "      <th>2</th>\n",
       "      <td>BB12-1</td>\n",
       "      <td>110132446</td>\n",
       "      <td>80000.0</td>\n",
       "      <td>68360.0</td>\n",
       "      <td>2022-08-19</td>\n",
       "      <td>717</td>\n",
       "    </tr>\n",
       "    <tr>\n",
       "      <th>3</th>\n",
       "      <td>BB12-1</td>\n",
       "      <td>110132446</td>\n",
       "      <td>80000.0</td>\n",
       "      <td>68360.0</td>\n",
       "      <td>2022-08-19</td>\n",
       "      <td>633</td>\n",
       "    </tr>\n",
       "    <tr>\n",
       "      <th>4</th>\n",
       "      <td>BB12-1</td>\n",
       "      <td>110132446</td>\n",
       "      <td>80000.0</td>\n",
       "      <td>68360.0</td>\n",
       "      <td>2022-08-30</td>\n",
       "      <td>692</td>\n",
       "    </tr>\n",
       "  </tbody>\n",
       "</table>\n",
       "</div>"
      ],
      "text/plain": [
       "     Maq1  Orden Fab.  Cantidad OF  Cant. Piso Registrado  Cant. Leida\n",
       "0  BB12-1   110132446      80000.0     68360.0 2022-08-05          590\n",
       "1  BB12-1   110132446      80000.0     68360.0 2022-08-05          664\n",
       "2  BB12-1   110132446      80000.0     68360.0 2022-08-19          717\n",
       "3  BB12-1   110132446      80000.0     68360.0 2022-08-19          633\n",
       "4  BB12-1   110132446      80000.0     68360.0 2022-08-30          692"
      ]
     },
     "execution_count": 2,
     "metadata": {},
     "output_type": "execute_result"
    }
   ],
   "source": [
    "### Importación de Dataset\n",
    "path = f\"C:/Users/pablo/OneDrive/Documentos/GitHub/MDS-Notebooks/02-VdI/prodagosto2022.xlsx\"\n",
    "frame = pd.read_excel(path)\n",
    "\n",
    "### Filtrado de Variables a utilizar\n",
    "#frame.columns\n",
    "frame = frame[['Maq1','Orden Fab.','Cantidad OF','Cant. Piso','Registrado','Cant. Leida']]\n",
    "frame.head()"
   ]
  },
  {
   "cell_type": "markdown",
   "id": "b71c09e4",
   "metadata": {},
   "source": [
    "## Gráfico 1: Órdenes de fabricación con menor avance"
   ]
  },
  {
   "cell_type": "code",
   "execution_count": 3,
   "id": "03c40408",
   "metadata": {},
   "outputs": [
    {
     "name": "stderr",
     "output_type": "stream",
     "text": [
      "C:\\Users\\pablo\\AppData\\Local\\Temp\\ipykernel_13760\\2464137509.py:1: FutureWarning: Indexing with multiple keys (implicitly converted to a tuple of keys) will be deprecated, use a list instead.\n",
      "  df_OF = frame.groupby('Orden Fab.')['Cantidad OF','Cant. Piso'].mean().reset_index()\n"
     ]
    }
   ],
   "source": [
    "df_OF = frame.groupby('Orden Fab.')['Cantidad OF','Cant. Piso'].mean().reset_index()"
   ]
  },
  {
   "cell_type": "code",
   "execution_count": 4,
   "id": "1aad3df6",
   "metadata": {},
   "outputs": [],
   "source": [
    "### Función que permite agregar columna con % de cumplimiento de orden de fabricación\n",
    "def porcentaje (cantof, cantpiso):\n",
    "    porcentaje = cantpiso/cantof*100\n",
    "    return porcentaje\n",
    "df_OF['cumplimiento']=df_OF[['Cantidad OF','Cant. Piso']].apply(lambda x : porcentaje(*x), axis=1)"
   ]
  },
  {
   "cell_type": "code",
   "execution_count": 5,
   "id": "615c3ed0",
   "metadata": {},
   "outputs": [],
   "source": [
    "df_OF_sort=df_OF.sort_values(by='cumplimiento') #ver qué tan critica es la OF (tiempo paa cumplirla)\n",
    "df_OF_top10=df_OF_sort.iloc[0:10]\n",
    "df_OF_top10=pd.DataFrame(df_OF_top10)\n",
    "df_OF_top10.set_index('Orden Fab.', inplace=True)"
   ]
  },
  {
   "cell_type": "code",
   "execution_count": 6,
   "id": "462bb56c",
   "metadata": {},
   "outputs": [],
   "source": [
    "df_OF_top10_sorted = df_OF_top10['cumplimiento'].sort_values(ascending=False)\n",
    "df_OF_top10_sorted =pd.DataFrame(df_OF_top10_sorted)\n",
    "df_OF_top10_sorted['pendiente'] = 100-df_OF_top10_sorted"
   ]
  },
  {
   "cell_type": "code",
   "execution_count": 7,
   "id": "64810719",
   "metadata": {},
   "outputs": [],
   "source": [
    "### Función que permite eliminar los bordes del gráfico\n",
    "def hide_border(ax):\n",
    "    ax.spines['bottom'].set_visible(False) #Linea inferior\n",
    "    ax.spines['left'].set_visible(False) #Linea izquierda\n",
    "    ax.spines['right'].set_visible(False) #Linea derecha\n",
    "    ax.spines['top'].set_visible(False) #Linea superior"
   ]
  },
  {
   "cell_type": "code",
   "execution_count": 8,
   "id": "37f1214a",
   "metadata": {},
   "outputs": [
    {
     "data": {
      "image/png": "[encoded data removed]",
      "text/plain": [
       "<Figure size 720x360 with 1 Axes>"
      ]
     },
     "metadata": {
      "needs_background": "light"
     },
     "output_type": "display_data"
    }
   ],
   "source": [
    "fontsize=12\n",
    "colors = [\"#36a7e9\", '#d3d3d3']\n",
    "\n",
    "ax = df_OF_top10_sorted.plot.barh(stacked=True, figsize=(10, 5), legend=False, width=0.9, alpha=0.9, xlim=(0, 100),\n",
    "                        color=colors)\n",
    "\n",
    "hide_border(ax)   #Ocultar bordes\n",
    "ax.tick_params(axis=u'both', which=u'both', length=0)\n",
    "ax.set_ylabel('')\n",
    "ax.set_title(\"Top 10 de #OF con menor % de cumplimiento\", pad=24, fontweight=700)\n",
    "ax.title.set_position([.5, 1])\n",
    "percents = df_OF_top10_sorted.columns\n",
    "ax.text(0, df_OF_top10_sorted.shape[0]-0.3, #ubicacion horizontal, posicion vertica,\n",
    "        percents[0], color=colors[0], fontsize=fontsize)  #nombre de la variable, color del texto, tamaño texto \n",
    "ax.text(85, df_OF_top10_sorted.shape[0]-0.3, percents[1], color=colors[1], fontsize=fontsize)\n",
    "\n",
    "for p in ax.patches:\n",
    "    if p.xy[0] == 0:\n",
    "        xpos = 2\n",
    "    else:\n",
    "        xpos = 93\n",
    "    ax.annotate(str(int(round(p.get_width()))) + \"%\", (xpos, p.xy[1] + 0.3), color='black', fontsize=fontsize)\n",
    "\n",
    "plt.legend(loc=8, prop={'size': 10})  #ajustar leyenda\n",
    "    \n",
    "plt.show()"
   ]
  },
  {
   "cell_type": "markdown",
   "id": "ff64bc7b",
   "metadata": {},
   "source": [
    "###### ¿Para qué sirve el gráfico \"Top 10 de #OF con menor % de cumplimiento\"?\n",
    "Gracias a esta visualización las órdenes de fabricación que les falta ser completadas podrán ser consideradas en la planificación de producción. Además de investigar las razones operacionales del por qué no han logrado un alto porcentaje de cumplimiento."
   ]
  },
  {
   "cell_type": "markdown",
   "id": "3dc0ee4f",
   "metadata": {},
   "source": [
    "## Gráfico 2: Productos entre 90-99% de cumplimiento (posible origen de reclamos)"
   ]
  },
  {
   "cell_type": "code",
   "execution_count": 9,
   "id": "9147e1e7",
   "metadata": {},
   "outputs": [],
   "source": [
    "df_OF_filt9099 = df_OF[(df_OF['cumplimiento']>=90)& (df_OF['cumplimiento']<100)]\n",
    "df_OF_filt9099_sort = df_OF_filt9099.sort_values(by='cumplimiento',ascending=True) \n",
    "df_OF_filt9099_sort['pendiente'] = 100-df_OF_filt9099_sort['cumplimiento']\n",
    "df_OF_filt9099_sort_top20 = df_OF_filt9099_sort.tail(20)\n",
    "df_OF_filt9099_sort_top20 = pd.DataFrame(df_OF_filt9099_sort_top20)\n",
    "df_OF_filt9099_sort_top20 = df_OF_filt9099_sort_top20.sort_values(by='cumplimiento',ascending=True)\n",
    "df_OF_filt9099_sort_top20 =pd.DataFrame(df_OF_filt9099_sort_top20)"
   ]
  },
  {
   "cell_type": "code",
   "execution_count": 10,
   "id": "c75d2bb5",
   "metadata": {},
   "outputs": [
    {
     "data": {
      "image/png": "[encoded data removed]",
      "text/plain": [
       "<Figure size 1728x576 with 2 Axes>"
      ]
     },
     "metadata": {
      "needs_background": "light"
     },
     "output_type": "display_data"
    }
   ],
   "source": [
    "colors = [\"#36a7e9\"]\n",
    "\n",
    "fig, ax = plt.subplots(1, 2, figsize=(24, 8))\n",
    "\n",
    "#Gráfico de Distribución de producción pendiente por OF entre 90-99% de cumplimiento\n",
    "df_OF_filt9099_sort['pendiente'].plot.hist( edgecolor = \"#36a7e5\", linewidth = 1.2, bins =20,alpha=0.8, color=colors, ax=ax[0])\n",
    "hide_border(ax[0])   #Ocultar bordes\n",
    "ax[0].set_title(\"Distribución de producción pendiente por OF entre 90-99% de cumplimiento\", pad=24, fontsize=18, fontweight=600)\n",
    "ax[0].set_ylabel('Cantidad de OF', fontsize=15)\n",
    "ax[0].set_xlabel('% producción pendiente', fontsize=15)\n",
    "\n",
    "#Gráfico OF posible origen de reclamos por incumplimiento de kg\n",
    "df_OF_filt9099_sort_top20.plot.bar(x='Orden Fab.', y='pendiente', width=0.9, alpha=0.9, fontsize=12, color=colors, ax=ax[1]) #width permite definir el ancho de la barra\n",
    "hide_border(ax[1])   #Ocultar bordes\n",
    "ax[1].tick_params(axis=u'both', which=u'both', length=0)\n",
    "ax[1].set_title(\"OF posible origen de reclamos por incumplimiento de kg\", pad=24, fontsize=18, fontweight=600)\n",
    "ax[1].set_ylabel('% Pendiente', fontsize=15)\n",
    "ax[1].set_xlabel('Orde de Fabricación', fontsize=15)\n",
    "ax[1].title.set_position([.5, 1])\n",
    "ax[1].tick_params( which= 'major', rotation=40) #Ajustes de lineas de ejes\n",
    "\n",
    "plt.legend(loc=0, prop={'size': 20})  #ajustar leyenda\n",
    "\n",
    "plt.show()\n"
   ]
  },
  {
   "cell_type": "markdown",
   "id": "38028e2c",
   "metadata": {},
   "source": [
    "###### ¿Para qué sirve el gráfico \"Distribución de producción pendiente por OF entre 90-99% de cumplimiento\"?\n",
    "Gracias a esta visualización se podrá analizar que existe mayor cantidad de OF que tienen menos de 2% de producción pendiente, es importante lograr identificarlas y poner precaución que no salgan de la planta sin haber completado la producción programada. Si los alambres que les falta muy poco para completar lo programado se liberan y se envían al cliente, será un posible origen de reclamo por no cumplir con los kg acordados por contrato. Suele suceder que como no existe un visualización de esta problemática, se envían productos que no cumplen el 100% de lo exigido. "
   ]
  },
  {
   "cell_type": "markdown",
   "id": "1dc2fe4f",
   "metadata": {},
   "source": [
    "###### ¿Para qué sirve el gráfico \"OF posible origen de reclamos por incumplimiento de kg\"?\n",
    "Este gráfico es complementario al anterior, con este gráfico es posible identificar el número de las OF con posible conflicto y hacer un seguimiento en planta para lograr completar el 100% de lo exigido por el cliente."
   ]
  },
  {
   "cell_type": "markdown",
   "id": "6507fcc9",
   "metadata": {},
   "source": [
    "## Gráfico 3: Producción diaria y tendencia"
   ]
  },
  {
   "cell_type": "code",
   "execution_count": 11,
   "id": "5e9109d8",
   "metadata": {},
   "outputs": [
    {
     "data": {
      "text/html": [
       "<div>\n",
       "<style scoped>\n",
       "    .dataframe tbody tr th:only-of-type {\n",
       "        vertical-align: middle;\n",
       "    }\n",
       "\n",
       "    .dataframe tbody tr th {\n",
       "        vertical-align: top;\n",
       "    }\n",
       "\n",
       "    .dataframe thead th {\n",
       "        text-align: right;\n",
       "    }\n",
       "</style>\n",
       "<table border=\"1\" class=\"dataframe\">\n",
       "  <thead>\n",
       "    <tr style=\"text-align: right;\">\n",
       "      <th></th>\n",
       "      <th>Orden Fab.</th>\n",
       "      <th>Cantidad OF</th>\n",
       "      <th>Cant. Piso</th>\n",
       "      <th>Cant. Leida</th>\n",
       "    </tr>\n",
       "    <tr>\n",
       "      <th>Registrado</th>\n",
       "      <th></th>\n",
       "      <th></th>\n",
       "      <th></th>\n",
       "      <th></th>\n",
       "    </tr>\n",
       "  </thead>\n",
       "  <tbody>\n",
       "    <tr>\n",
       "      <th>2022-08-01</th>\n",
       "      <td>39429106928</td>\n",
       "      <td>93626254.0</td>\n",
       "      <td>7.830951e+07</td>\n",
       "      <td>276527</td>\n",
       "    </tr>\n",
       "    <tr>\n",
       "      <th>2022-08-02</th>\n",
       "      <td>37336531265</td>\n",
       "      <td>81915736.0</td>\n",
       "      <td>6.872289e+07</td>\n",
       "      <td>267943</td>\n",
       "    </tr>\n",
       "    <tr>\n",
       "      <th>2022-08-03</th>\n",
       "      <td>32380385002</td>\n",
       "      <td>70739217.0</td>\n",
       "      <td>5.976380e+07</td>\n",
       "      <td>233679</td>\n",
       "    </tr>\n",
       "    <tr>\n",
       "      <th>2022-08-04</th>\n",
       "      <td>29296544065</td>\n",
       "      <td>63554473.0</td>\n",
       "      <td>5.383996e+07</td>\n",
       "      <td>208826</td>\n",
       "    </tr>\n",
       "    <tr>\n",
       "      <th>2022-08-05</th>\n",
       "      <td>22723737025</td>\n",
       "      <td>59009520.0</td>\n",
       "      <td>4.966411e+07</td>\n",
       "      <td>166607</td>\n",
       "    </tr>\n",
       "  </tbody>\n",
       "</table>\n",
       "</div>"
      ],
      "text/plain": [
       "             Orden Fab.  Cantidad OF    Cant. Piso  Cant. Leida\n",
       "Registrado                                                     \n",
       "2022-08-01  39429106928   93626254.0  7.830951e+07       276527\n",
       "2022-08-02  37336531265   81915736.0  6.872289e+07       267943\n",
       "2022-08-03  32380385002   70739217.0  5.976380e+07       233679\n",
       "2022-08-04  29296544065   63554473.0  5.383996e+07       208826\n",
       "2022-08-05  22723737025   59009520.0  4.966411e+07       166607"
      ]
     },
     "execution_count": 11,
     "metadata": {},
     "output_type": "execute_result"
    }
   ],
   "source": [
    "frame_sum_cant=frame.groupby(\"Registrado\").sum()\n",
    "frame_sum_cant.head()"
   ]
  },
  {
   "cell_type": "code",
   "execution_count": 12,
   "id": "78f8f8d6",
   "metadata": {},
   "outputs": [],
   "source": [
    "import statsmodels.api as sm\n",
    "frame_sum_cant_ciclo, frame_sum_cant_tend = sm.tsa.filters.hpfilter(frame_sum_cant['Cant. Leida'])\n",
    "frame_sum_cant['tend'] = frame_sum_cant_tend"
   ]
  },
  {
   "cell_type": "code",
   "execution_count": null,
   "id": "97722d11",
   "metadata": {},
   "outputs": [],
   "source": [
    "color1='#36a7e9'\n",
    "color2='#ff9f00'\n",
    "color3='black'\n",
    "color4='darkblue'\n",
    "\n",
    "fig, ax = plt.subplots( figsize=(30,10))\n",
    "\n",
    "frame_sum_cant[['Cant. Leida']].plot(figsize=(30, 10), fontsize=20, linewidth=5.0, color='#36a2e9', linestyle='solid', ax=ax);\n",
    "ax.fill_between(frame_sum_cant.index, frame_sum_cant['Cant. Leida'], 0, color=color1)\n",
    "\n",
    "frame_sum_cant[['tend']].plot(figsize=(30, 10), fontsize=20, linewidth=6.0, color=color2, linestyle='--' , ax=ax);\n",
    "\n",
    "ax.set_title(\"Producción Agosto\", fontsize = 30 )\n",
    "ax.spines['bottom'].set_color(color4), ax.spines['bottom'].set_linewidth(3) #Linea inferior\n",
    "ax.spines['left'].set_color(color4), ax.spines['left'].set_linewidth(3) #Linea izquierda\n",
    "ax.set_ylabel(\"Volumen de Producción (Kg)\", fontsize = 24, color=color3)  #Etiquetas eje y\n",
    "ax.set_xlabel(\"Fecha de Registro\", fontsize = 24, color=color3)          #Etiquetas ejex\n",
    "ax.spines['right'].set_visible(False) #Linea derecha\n",
    "ax.spines['top'].set_visible(False) #Linea superior\n",
    "\n",
    "ax.tick_params(colors=color3, which='both', rotation=40) #Ajustes de lineas de ejes\n",
    "\n",
    "plt.xlim(frame_sum_cant.index[0],) #ajustar origen eje x\n",
    "plt.ylim(0,)                        #ajustar origen eje y\n",
    "plt.legend(loc=3, prop={'size': 20})  #ajustar leyenda\n",
    "fig.tight_layout()"
   ]
  },
  {
   "cell_type": "markdown",
   "id": "3d2331df",
   "metadata": {},
   "source": [
    "###### ¿Para qué sirve el gráfico \"Producción Agosto\"?\n",
    "En este gráfico es posible visualizar la producción diaria durante el mes de Agosto. No considera los días domingo que no se suelen trabajar. Sin embargo, los días sábados solo se trabajan 10 hrs y no 24 hrs al día (con turnos de 8 hrs), lo que claramente muestra una baja producción. Además los sábados también se suelen hacer inventarios y se ordena la planta.  \n",
    "La planta debería apuntar a tener una producción constante como meta ya que siempre cuenta con el mismo personal para ejecutar sus tareas. También el gráfico muestra peaks de producción, eso significa que la planta tiene esa capacidad para generar mayor producción. Si esta información lo tomara área de planificación, podría incluso eliminar un turno si se trabaja más eficiente 5 días a la semana. Trabajar los sábados no aporta tanto valor a nivel productivo. Claramente con el proyecto de 40 hrs, los sábados donde la producción es bajísima serán eliminados.  \n",
    "En conclusión, este gráfico muestra un indicio que los sábados no aportan significativamente a la producción y podrán ser eliminados cuando se aprueba el proyecto de 40 horas semanales. "
   ]
  },
  {
   "cell_type": "markdown",
   "id": "412ccde5",
   "metadata": {},
   "source": [
    "## Gráfico 4: Productividad diaria en área de trefilación"
   ]
  },
  {
   "cell_type": "code",
   "execution_count": 14,
   "id": "8bb929f0",
   "metadata": {},
   "outputs": [
    {
     "data": {
      "text/html": [
       "<div>\n",
       "<style scoped>\n",
       "    .dataframe tbody tr th:only-of-type {\n",
       "        vertical-align: middle;\n",
       "    }\n",
       "\n",
       "    .dataframe tbody tr th {\n",
       "        vertical-align: top;\n",
       "    }\n",
       "\n",
       "    .dataframe thead th {\n",
       "        text-align: right;\n",
       "    }\n",
       "</style>\n",
       "<table border=\"1\" class=\"dataframe\">\n",
       "  <thead>\n",
       "    <tr style=\"text-align: right;\">\n",
       "      <th></th>\n",
       "      <th>Registrado</th>\n",
       "      <th>Orden Fab.</th>\n",
       "      <th>Cantidad OF</th>\n",
       "      <th>Cant. Piso</th>\n",
       "      <th>Cant. Leida</th>\n",
       "    </tr>\n",
       "  </thead>\n",
       "  <tbody>\n",
       "    <tr>\n",
       "      <th>0</th>\n",
       "      <td>2022-08-01</td>\n",
       "      <td>39429106928</td>\n",
       "      <td>93626254.0</td>\n",
       "      <td>7.830951e+07</td>\n",
       "      <td>276527</td>\n",
       "    </tr>\n",
       "    <tr>\n",
       "      <th>1</th>\n",
       "      <td>2022-08-02</td>\n",
       "      <td>37336531265</td>\n",
       "      <td>81915736.0</td>\n",
       "      <td>6.872289e+07</td>\n",
       "      <td>267943</td>\n",
       "    </tr>\n",
       "    <tr>\n",
       "      <th>2</th>\n",
       "      <td>2022-08-03</td>\n",
       "      <td>32380385002</td>\n",
       "      <td>70739217.0</td>\n",
       "      <td>5.976380e+07</td>\n",
       "      <td>233679</td>\n",
       "    </tr>\n",
       "    <tr>\n",
       "      <th>3</th>\n",
       "      <td>2022-08-04</td>\n",
       "      <td>29296544065</td>\n",
       "      <td>63554473.0</td>\n",
       "      <td>5.383996e+07</td>\n",
       "      <td>208826</td>\n",
       "    </tr>\n",
       "    <tr>\n",
       "      <th>4</th>\n",
       "      <td>2022-08-05</td>\n",
       "      <td>22723737025</td>\n",
       "      <td>59009520.0</td>\n",
       "      <td>4.966411e+07</td>\n",
       "      <td>166607</td>\n",
       "    </tr>\n",
       "  </tbody>\n",
       "</table>\n",
       "</div>"
      ],
      "text/plain": [
       "  Registrado   Orden Fab.  Cantidad OF    Cant. Piso  Cant. Leida\n",
       "0 2022-08-01  39429106928   93626254.0  7.830951e+07       276527\n",
       "1 2022-08-02  37336531265   81915736.0  6.872289e+07       267943\n",
       "2 2022-08-03  32380385002   70739217.0  5.976380e+07       233679\n",
       "3 2022-08-04  29296544065   63554473.0  5.383996e+07       208826\n",
       "4 2022-08-05  22723737025   59009520.0  4.966411e+07       166607"
      ]
     },
     "execution_count": 14,
     "metadata": {},
     "output_type": "execute_result"
    }
   ],
   "source": [
    "frame_sum_cant=frame.groupby(\"Registrado\").sum().reset_index()\n",
    "frame_sum_cant.head()"
   ]
  },
  {
   "cell_type": "code",
   "execution_count": 15,
   "id": "7cc522e1",
   "metadata": {},
   "outputs": [],
   "source": [
    "frame_sum_cant[\"Registrado\"] = pd.to_datetime(frame_sum_cant[\"Registrado\"])\n",
    "a=frame_sum_cant[\"Registrado\"]"
   ]
  },
  {
   "cell_type": "code",
   "execution_count": 16,
   "id": "bdcee410",
   "metadata": {},
   "outputs": [],
   "source": [
    "import pandas as pd\n",
    "\n",
    "df = pd.DataFrame(a)\n",
    "df['my_dates'] = pd.to_datetime(df['Registrado'])\n",
    "df['day_of_week'] = df['Registrado'].dt.dayofweek\n",
    "\n",
    "days = {0:'Lunes',1:'Martes',2:'Miercoles',3:'Jueves',4:'Viernes',5:'Sabado',6:'Domingo'}\n",
    "\n",
    "df['day_of_week'] = df['day_of_week'].apply(lambda x: days[x])"
   ]
  },
  {
   "cell_type": "code",
   "execution_count": 17,
   "id": "5f9185a9",
   "metadata": {},
   "outputs": [],
   "source": [
    "d = pd.concat([frame_sum_cant, df], axis=1)"
   ]
  },
  {
   "cell_type": "code",
   "execution_count": 18,
   "id": "e69c5770",
   "metadata": {},
   "outputs": [],
   "source": [
    "d['horas trabajadas'] = d['day_of_week'].apply(lambda x: 10 if x=='Sabado'else 24)"
   ]
  },
  {
   "cell_type": "code",
   "execution_count": 19,
   "id": "86712bc0",
   "metadata": {},
   "outputs": [],
   "source": [
    "d=d.drop(d[d['day_of_week']=='Domingo'].index) #eliminé el domingo, porque ese día no se trabaja, el dato era erroneo"
   ]
  },
  {
   "cell_type": "code",
   "execution_count": 20,
   "id": "f46d618c",
   "metadata": {},
   "outputs": [],
   "source": [
    "clean_d=d.drop(d.columns[[0]], axis=1)"
   ]
  },
  {
   "cell_type": "code",
   "execution_count": 21,
   "id": "00734895",
   "metadata": {},
   "outputs": [],
   "source": [
    "def productividad (horas, kg):\n",
    "    productividad = horas/(kg/1000)\n",
    "    return productividad\n",
    "\n",
    "clean_d['productividad h/ton'] = clean_d[['horas trabajadas','Cant. Leida']].apply(lambda x: productividad(*x), axis=1)"
   ]
  },
  {
   "cell_type": "code",
   "execution_count": 22,
   "id": "712754ff",
   "metadata": {},
   "outputs": [],
   "source": [
    "cantidad_dias=clean_d['my_dates'].count()"
   ]
  },
  {
   "cell_type": "code",
   "execution_count": 23,
   "id": "6424f366",
   "metadata": {},
   "outputs": [
    {
     "data": {
      "text/plain": [
       "count    26.000000\n",
       "mean      0.244430\n",
       "std       0.516653\n",
       "min       0.086791\n",
       "25%       0.113833\n",
       "50%       0.127986\n",
       "75%       0.166923\n",
       "max       2.763958\n",
       "Name: productividad h/ton, dtype: float64"
      ]
     },
     "execution_count": 23,
     "metadata": {},
     "output_type": "execute_result"
    }
   ],
   "source": [
    "clean_d['productividad h/ton'].describe()"
   ]
  },
  {
   "cell_type": "code",
   "execution_count": 24,
   "id": "438aee37",
   "metadata": {},
   "outputs": [
    {
     "data": {
      "image/png": "[encoded data removed]",
      "text/plain": [
       "<Figure size 1000x500 with 1 Axes>"
      ]
     },
     "metadata": {
      "needs_background": "light"
     },
     "output_type": "display_data"
    }
   ],
   "source": [
    "import matplotlib.pyplot as plt\n",
    "fig, ax = plt.subplots(figsize=(10, 5), dpi=100)\n",
    "ax.plot(clean_d['my_dates'], clean_d['productividad h/ton'], label='productividad h/ton', color='#36a7e9')\n",
    "ax.set_title(\"Productividad en área Trefilación\")\n",
    "ax.set_xlabel(\"Fecha\")\n",
    "ax.set_ylabel(\"horas/toneladas\")\n",
    "plt.xticks(clean_d['my_dates']) \n",
    "plt.xticks(rotation = 70)\n",
    "ax.legend()\n",
    "fig.tight_layout()\n",
    "plt.show()"
   ]
  },
  {
   "cell_type": "markdown",
   "id": "7d1832a3",
   "metadata": {},
   "source": [
    "###### ¿Para qué sirve el gráfico \"Productividad en área trefilación\"?\n",
    "En este gráfico es posible visualizar la productividad diaria, considerando 24 hrs disponibles cada día de lunes a viernes y sábados sólo 10 horas disponibles. El siguiente KPI analiza el área de trefilación, mientras más bajo este indicador significa que se tiene una mejor productividad. Es decir, este indicador de productividad considera cuántas horas fueron necesarias para producir una tonelada de material, en este caso, en promedio se necesitaron 0,24 h para producir una tonelada. Cabe notar que los días sábados el el indicador sube, lo que significa que para producir una toneladas se necesitaron más horas. Con esto se puede ver que no es tan proporcional lo solicitado para producir los sábados durante las 10 hrs que se trabajan."
   ]
  },
  {
   "cell_type": "markdown",
   "id": "f78aedd4",
   "metadata": {},
   "source": [
    "A continuación se intentó realizar el mismo gráfico, pero más interactivo para así eliminar las fechas y saber con exactitud pasando el cursor por encima de la gráfica y obtener la información del indicador."
   ]
  },
  {
   "cell_type": "code",
   "execution_count": 25,
   "id": "f459922a",
   "metadata": {},
   "outputs": [
    {
     "name": "stdout",
     "output_type": "stream",
     "text": [
      "Requirement already satisfied: plotly in c:\\users\\pablo\\anaconda3\\lib\\site-packages (5.6.0)\n",
      "Requirement already satisfied: six in c:\\users\\pablo\\anaconda3\\lib\\site-packages (from plotly) (1.16.0)\n",
      "Requirement already satisfied: tenacity>=6.2.0 in c:\\users\\pablo\\anaconda3\\lib\\site-packages (from plotly) (8.0.1)\n",
      "Requirement already satisfied: cufflinks in c:\\users\\pablo\\anaconda3\\lib\\site-packages (0.17.3)\n",
      "Requirement already satisfied: plotly>=4.1.1 in c:\\users\\pablo\\anaconda3\\lib\\site-packages (from cufflinks) (5.6.0)\n",
      "Requirement already satisfied: ipywidgets>=7.0.0 in c:\\users\\pablo\\anaconda3\\lib\\site-packages (from cufflinks) (7.6.5)\n",
      "Requirement already satisfied: setuptools>=34.4.1 in c:\\users\\pablo\\anaconda3\\lib\\site-packages (from cufflinks) (61.2.0)\n",
      "Requirement already satisfied: six>=1.9.0 in c:\\users\\pablo\\anaconda3\\lib\\site-packages (from cufflinks) (1.16.0)\n",
      "Requirement already satisfied: colorlover>=0.2.1 in c:\\users\\pablo\\anaconda3\\lib\\site-packages (from cufflinks) (0.3.0)\n",
      "Requirement already satisfied: ipython>=5.3.0 in c:\\users\\pablo\\anaconda3\\lib\\site-packages (from cufflinks) (8.2.0)\n",
      "Requirement already satisfied: pandas>=0.19.2 in c:\\users\\pablo\\anaconda3\\lib\\site-packages (from cufflinks) (1.4.2)\n",
      "Requirement already satisfied: numpy>=1.9.2 in c:\\users\\pablo\\anaconda3\\lib\\site-packages (from cufflinks) (1.21.5)\n",
      "Requirement already satisfied: jedi>=0.16 in c:\\users\\pablo\\anaconda3\\lib\\site-packages (from ipython>=5.3.0->cufflinks) (0.18.1)\n",
      "Requirement already satisfied: decorator in c:\\users\\pablo\\anaconda3\\lib\\site-packages (from ipython>=5.3.0->cufflinks) (5.1.1)\n",
      "Requirement already satisfied: matplotlib-inline in c:\\users\\pablo\\anaconda3\\lib\\site-packages (from ipython>=5.3.0->cufflinks) (0.1.2)\n",
      "Requirement already satisfied: stack-data in c:\\users\\pablo\\anaconda3\\lib\\site-packages (from ipython>=5.3.0->cufflinks) (0.2.0)\n",
      "Requirement already satisfied: prompt-toolkit!=3.0.0,!=3.0.1,<3.1.0,>=2.0.0 in c:\\users\\pablo\\anaconda3\\lib\\site-packages (from ipython>=5.3.0->cufflinks) (3.0.20)\n",
      "Requirement already satisfied: colorama in c:\\users\\pablo\\anaconda3\\lib\\site-packages (from ipython>=5.3.0->cufflinks) (0.4.4)\n",
      "Requirement already satisfied: traitlets>=5 in c:\\users\\pablo\\anaconda3\\lib\\site-packages (from ipython>=5.3.0->cufflinks) (5.1.1)\n",
      "Requirement already satisfied: backcall in c:\\users\\pablo\\anaconda3\\lib\\site-packages (from ipython>=5.3.0->cufflinks) (0.2.0)\n",
      "Requirement already satisfied: pickleshare in c:\\users\\pablo\\anaconda3\\lib\\site-packages (from ipython>=5.3.0->cufflinks) (0.7.5)\n",
      "Requirement already satisfied: pygments>=2.4.0 in c:\\users\\pablo\\anaconda3\\lib\\site-packages (from ipython>=5.3.0->cufflinks) (2.11.2)\n",
      "Requirement already satisfied: nbformat>=4.2.0 in c:\\users\\pablo\\anaconda3\\lib\\site-packages (from ipywidgets>=7.0.0->cufflinks) (5.3.0)\n",
      "Requirement already satisfied: ipython-genutils~=0.2.0 in c:\\users\\pablo\\anaconda3\\lib\\site-packages (from ipywidgets>=7.0.0->cufflinks) (0.2.0)\n",
      "Requirement already satisfied: ipykernel>=4.5.1 in c:\\users\\pablo\\anaconda3\\lib\\site-packages (from ipywidgets>=7.0.0->cufflinks) (6.9.1)\n",
      "Requirement already satisfied: widgetsnbextension~=3.5.0 in c:\\users\\pablo\\anaconda3\\lib\\site-packages (from ipywidgets>=7.0.0->cufflinks) (3.5.2)\n",
      "Requirement already satisfied: jupyterlab-widgets>=1.0.0 in c:\\users\\pablo\\anaconda3\\lib\\site-packages (from ipywidgets>=7.0.0->cufflinks) (1.0.0)\n",
      "Requirement already satisfied: nest-asyncio in c:\\users\\pablo\\anaconda3\\lib\\site-packages (from ipykernel>=4.5.1->ipywidgets>=7.0.0->cufflinks) (1.5.5)\n",
      "Requirement already satisfied: debugpy<2.0,>=1.0.0 in c:\\users\\pablo\\anaconda3\\lib\\site-packages (from ipykernel>=4.5.1->ipywidgets>=7.0.0->cufflinks) (1.5.1)\n",
      "Requirement already satisfied: jupyter-client<8.0 in c:\\users\\pablo\\anaconda3\\lib\\site-packages (from ipykernel>=4.5.1->ipywidgets>=7.0.0->cufflinks) (6.1.12)\n",
      "Requirement already satisfied: tornado<7.0,>=4.2 in c:\\users\\pablo\\anaconda3\\lib\\site-packages (from ipykernel>=4.5.1->ipywidgets>=7.0.0->cufflinks) (6.1)\n",
      "Requirement already satisfied: parso<0.9.0,>=0.8.0 in c:\\users\\pablo\\anaconda3\\lib\\site-packages (from jedi>=0.16->ipython>=5.3.0->cufflinks) (0.8.3)\n",
      "Requirement already satisfied: python-dateutil>=2.1 in c:\\users\\pablo\\anaconda3\\lib\\site-packages (from jupyter-client<8.0->ipykernel>=4.5.1->ipywidgets>=7.0.0->cufflinks) (2.8.2)\n",
      "Requirement already satisfied: pyzmq>=13 in c:\\users\\pablo\\anaconda3\\lib\\site-packages (from jupyter-client<8.0->ipykernel>=4.5.1->ipywidgets>=7.0.0->cufflinks) (22.3.0)\n",
      "Requirement already satisfied: jupyter-core>=4.6.0 in c:\\users\\pablo\\anaconda3\\lib\\site-packages (from jupyter-client<8.0->ipykernel>=4.5.1->ipywidgets>=7.0.0->cufflinks) (4.9.2)\n",
      "Requirement already satisfied: pywin32>=1.0 in c:\\users\\pablo\\anaconda3\\lib\\site-packages (from jupyter-core>=4.6.0->jupyter-client<8.0->ipykernel>=4.5.1->ipywidgets>=7.0.0->cufflinks) (302)\n",
      "Requirement already satisfied: jsonschema>=2.6 in c:\\users\\pablo\\anaconda3\\lib\\site-packages (from nbformat>=4.2.0->ipywidgets>=7.0.0->cufflinks) (4.4.0)\n",
      "Requirement already satisfied: fastjsonschema in c:\\users\\pablo\\anaconda3\\lib\\site-packages (from nbformat>=4.2.0->ipywidgets>=7.0.0->cufflinks) (2.15.1)\n",
      "Requirement already satisfied: attrs>=17.4.0 in c:\\users\\pablo\\anaconda3\\lib\\site-packages (from jsonschema>=2.6->nbformat>=4.2.0->ipywidgets>=7.0.0->cufflinks) (21.4.0)\n",
      "Requirement already satisfied: pyrsistent!=0.17.0,!=0.17.1,!=0.17.2,>=0.14.0 in c:\\users\\pablo\\anaconda3\\lib\\site-packages (from jsonschema>=2.6->nbformat>=4.2.0->ipywidgets>=7.0.0->cufflinks) (0.18.0)\n",
      "Requirement already satisfied: pytz>=2020.1 in c:\\users\\pablo\\anaconda3\\lib\\site-packages (from pandas>=0.19.2->cufflinks) (2021.3)\n",
      "Requirement already satisfied: tenacity>=6.2.0 in c:\\users\\pablo\\anaconda3\\lib\\site-packages (from plotly>=4.1.1->cufflinks) (8.0.1)\n",
      "Requirement already satisfied: wcwidth in c:\\users\\pablo\\anaconda3\\lib\\site-packages (from prompt-toolkit!=3.0.0,!=3.0.1,<3.1.0,>=2.0.0->ipython>=5.3.0->cufflinks) (0.2.5)\n",
      "Requirement already satisfied: notebook>=4.4.1 in c:\\users\\pablo\\anaconda3\\lib\\site-packages (from widgetsnbextension~=3.5.0->ipywidgets>=7.0.0->cufflinks) (6.4.8)\n",
      "Requirement already satisfied: jinja2 in c:\\users\\pablo\\anaconda3\\lib\\site-packages (from notebook>=4.4.1->widgetsnbextension~=3.5.0->ipywidgets>=7.0.0->cufflinks) (2.11.3)\n",
      "Requirement already satisfied: nbconvert in c:\\users\\pablo\\anaconda3\\lib\\site-packages (from notebook>=4.4.1->widgetsnbextension~=3.5.0->ipywidgets>=7.0.0->cufflinks) (6.4.4)\n",
      "Requirement already satisfied: Send2Trash>=1.8.0 in c:\\users\\pablo\\anaconda3\\lib\\site-packages (from notebook>=4.4.1->widgetsnbextension~=3.5.0->ipywidgets>=7.0.0->cufflinks) (1.8.0)\n",
      "Requirement already satisfied: terminado>=0.8.3 in c:\\users\\pablo\\anaconda3\\lib\\site-packages (from notebook>=4.4.1->widgetsnbextension~=3.5.0->ipywidgets>=7.0.0->cufflinks) (0.13.1)\n",
      "Requirement already satisfied: argon2-cffi in c:\\users\\pablo\\anaconda3\\lib\\site-packages (from notebook>=4.4.1->widgetsnbextension~=3.5.0->ipywidgets>=7.0.0->cufflinks) (21.3.0)\n",
      "Requirement already satisfied: prometheus-client in c:\\users\\pablo\\anaconda3\\lib\\site-packages (from notebook>=4.4.1->widgetsnbextension~=3.5.0->ipywidgets>=7.0.0->cufflinks) (0.13.1)\n",
      "Requirement already satisfied: pywinpty>=1.1.0 in c:\\users\\pablo\\anaconda3\\lib\\site-packages (from terminado>=0.8.3->notebook>=4.4.1->widgetsnbextension~=3.5.0->ipywidgets>=7.0.0->cufflinks) (2.0.2)\n",
      "Requirement already satisfied: argon2-cffi-bindings in c:\\users\\pablo\\anaconda3\\lib\\site-packages (from argon2-cffi->notebook>=4.4.1->widgetsnbextension~=3.5.0->ipywidgets>=7.0.0->cufflinks) (21.2.0)\n",
      "Requirement already satisfied: cffi>=1.0.1 in c:\\users\\pablo\\anaconda3\\lib\\site-packages (from argon2-cffi-bindings->argon2-cffi->notebook>=4.4.1->widgetsnbextension~=3.5.0->ipywidgets>=7.0.0->cufflinks) (1.15.0)\n",
      "Requirement already satisfied: pycparser in c:\\users\\pablo\\anaconda3\\lib\\site-packages (from cffi>=1.0.1->argon2-cffi-bindings->argon2-cffi->notebook>=4.4.1->widgetsnbextension~=3.5.0->ipywidgets>=7.0.0->cufflinks) (2.21)\n",
      "Requirement already satisfied: MarkupSafe>=0.23 in c:\\users\\pablo\\anaconda3\\lib\\site-packages (from jinja2->notebook>=4.4.1->widgetsnbextension~=3.5.0->ipywidgets>=7.0.0->cufflinks) (2.0.1)\n",
      "Requirement already satisfied: jupyterlab-pygments in c:\\users\\pablo\\anaconda3\\lib\\site-packages (from nbconvert->notebook>=4.4.1->widgetsnbextension~=3.5.0->ipywidgets>=7.0.0->cufflinks) (0.1.2)\n",
      "Requirement already satisfied: entrypoints>=0.2.2 in c:\\users\\pablo\\anaconda3\\lib\\site-packages (from nbconvert->notebook>=4.4.1->widgetsnbextension~=3.5.0->ipywidgets>=7.0.0->cufflinks) (0.4)\n",
      "Requirement already satisfied: pandocfilters>=1.4.1 in c:\\users\\pablo\\anaconda3\\lib\\site-packages (from nbconvert->notebook>=4.4.1->widgetsnbextension~=3.5.0->ipywidgets>=7.0.0->cufflinks) (1.5.0)\n",
      "Requirement already satisfied: testpath in c:\\users\\pablo\\anaconda3\\lib\\site-packages (from nbconvert->notebook>=4.4.1->widgetsnbextension~=3.5.0->ipywidgets>=7.0.0->cufflinks) (0.5.0)\n",
      "Requirement already satisfied: defusedxml in c:\\users\\pablo\\anaconda3\\lib\\site-packages (from nbconvert->notebook>=4.4.1->widgetsnbextension~=3.5.0->ipywidgets>=7.0.0->cufflinks) (0.7.1)\n",
      "Requirement already satisfied: bleach in c:\\users\\pablo\\anaconda3\\lib\\site-packages (from nbconvert->notebook>=4.4.1->widgetsnbextension~=3.5.0->ipywidgets>=7.0.0->cufflinks) (4.1.0)\n",
      "Requirement already satisfied: beautifulsoup4 in c:\\users\\pablo\\anaconda3\\lib\\site-packages (from nbconvert->notebook>=4.4.1->widgetsnbextension~=3.5.0->ipywidgets>=7.0.0->cufflinks) (4.11.1)\n",
      "Requirement already satisfied: nbclient<0.6.0,>=0.5.0 in c:\\users\\pablo\\anaconda3\\lib\\site-packages (from nbconvert->notebook>=4.4.1->widgetsnbextension~=3.5.0->ipywidgets>=7.0.0->cufflinks) (0.5.13)\n",
      "Requirement already satisfied: mistune<2,>=0.8.1 in c:\\users\\pablo\\anaconda3\\lib\\site-packages (from nbconvert->notebook>=4.4.1->widgetsnbextension~=3.5.0->ipywidgets>=7.0.0->cufflinks) (0.8.4)\n",
      "Requirement already satisfied: soupsieve>1.2 in c:\\users\\pablo\\anaconda3\\lib\\site-packages (from beautifulsoup4->nbconvert->notebook>=4.4.1->widgetsnbextension~=3.5.0->ipywidgets>=7.0.0->cufflinks) (2.3.1)\n",
      "Requirement already satisfied: webencodings in c:\\users\\pablo\\anaconda3\\lib\\site-packages (from bleach->nbconvert->notebook>=4.4.1->widgetsnbextension~=3.5.0->ipywidgets>=7.0.0->cufflinks) (0.5.1)\n",
      "Requirement already satisfied: packaging in c:\\users\\pablo\\anaconda3\\lib\\site-packages (from bleach->nbconvert->notebook>=4.4.1->widgetsnbextension~=3.5.0->ipywidgets>=7.0.0->cufflinks) (21.3)\n",
      "Requirement already satisfied: pyparsing!=3.0.5,>=2.0.2 in c:\\users\\pablo\\anaconda3\\lib\\site-packages (from packaging->bleach->nbconvert->notebook>=4.4.1->widgetsnbextension~=3.5.0->ipywidgets>=7.0.0->cufflinks) (3.0.4)\n",
      "Requirement already satisfied: pure-eval in c:\\users\\pablo\\anaconda3\\lib\\site-packages (from stack-data->ipython>=5.3.0->cufflinks) (0.2.2)\n",
      "Requirement already satisfied: asttokens in c:\\users\\pablo\\anaconda3\\lib\\site-packages (from stack-data->ipython>=5.3.0->cufflinks) (2.0.5)\n",
      "Requirement already satisfied: executing in c:\\users\\pablo\\anaconda3\\lib\\site-packages (from stack-data->ipython>=5.3.0->cufflinks) (0.8.3)\n"
     ]
    },
    {
     "data": {
      "text/html": [
       "        <script type=\"text/javascript\">\n",
       "        window.PlotlyConfig = {MathJaxConfig: 'local'};\n",
       "        if (window.MathJax) {MathJax.Hub.Config({SVG: {font: \"STIX-Web\"}});}\n",
       "        if (typeof require !== 'undefined') {\n",
       "        require.undef(\"plotly\");\n",
       "        requirejs.config({\n",
       "            paths: {\n",
       "                'plotly': ['https://cdn.plot.ly/plotly-2.9.0.min']\n",
       "            }\n",
       "        });\n",
       "        require(['plotly'], function(Plotly) {\n",
       "            window._Plotly = Plotly;\n",
       "        });\n",
       "        }\n",
       "        </script>\n",
       "        "
      ]
     },
     "metadata": {},
     "output_type": "display_data"
    },
    {
     "data": {
      "text/html": [
       "        <script type=\"text/javascript\">\n",
       "        window.PlotlyConfig = {MathJaxConfig: 'local'};\n",
       "        if (window.MathJax) {MathJax.Hub.Config({SVG: {font: \"STIX-Web\"}});}\n",
       "        if (typeof require !== 'undefined') {\n",
       "        require.undef(\"plotly\");\n",
       "        requirejs.config({\n",
       "            paths: {\n",
       "                'plotly': ['https://cdn.plot.ly/plotly-2.9.0.min']\n",
       "            }\n",
       "        });\n",
       "        require(['plotly'], function(Plotly) {\n",
       "            window._Plotly = Plotly;\n",
       "        });\n",
       "        }\n",
       "        </script>\n",
       "        "
      ]
     },
     "metadata": {},
     "output_type": "display_data"
    },
    {
     "data": {
      "text/plain": [
       "['ggplot', 'pearl', 'solar', 'space', 'white', 'polar', 'henanigans']"
      ]
     },
     "execution_count": 25,
     "metadata": {},
     "output_type": "execute_result"
    }
   ],
   "source": [
    "!pip install plotly\n",
    "!pip install cufflinks\n",
    "import cufflinks as cf\n",
    "from IPython.display import display, HTML\n",
    "cf.set_config_file(sharing=\"public\",theme='white',offline=True)\n",
    "cf.getThemes()\n"
   ]
  },
  {
   "cell_type": "code",
   "execution_count": 26,
   "id": "41a017da",
   "metadata": {
    "scrolled": false
   },
   "outputs": [
    {
     "data": {
      "application/vnd.plotly.v1+json": {
       "config": {
        "linkText": "Export to plot.ly",
        "plotlyServerURL": "https://plot.ly",
        "showLink": true
       },
       "data": [
        {
         "line": {
          "color": "rgba(54, 167, 233, 1.0)",
          "dash": "solid",
          "shape": "linear",
          "width": 1.3
         },
         "mode": "lines",
         "name": "productividad h/ton",
         "text": "",
         "type": "scatter",
         "x": [
          "2022-08-01",
          "2022-08-02",
          "2022-08-03",
          "2022-08-04",
          "2022-08-05",
          "2022-08-06",
          "2022-08-08",
          "2022-08-09",
          "2022-08-10",
          "2022-08-11",
          "2022-08-12",
          "2022-08-13",
          "2022-08-16",
          "2022-08-17",
          "2022-08-18",
          "2022-08-19",
          "2022-08-20",
          "2022-08-22",
          "2022-08-23",
          "2022-08-24",
          "2022-08-25",
          "2022-08-26",
          "2022-08-27",
          "2022-08-29",
          "2022-08-30",
          "2022-08-31"
         ],
         "y": [
          0.08679080162154149,
          0.08957128941603253,
          0.10270499274645989,
          0.11492821775066324,
          0.14405157046222547,
          0.20599443815016993,
          0.12527142141306163,
          0.12622809416615824,
          0.13144706790884145,
          0.12974375608173858,
          0.15050230143102605,
          0.3194888178913738,
          0.11062507778325781,
          0.18624141543475728,
          0.18810841314877808,
          0.1687360265478015,
          0.2593360995850622,
          0.16148240851012294,
          0.11346766644288321,
          0.13053268212028588,
          0.11631062691427907,
          0.11572288227125443,
          2.763957987838585,
          0.11069140619595147,
          0.11513055325027943,
          0.08810119891048185
         ]
        }
       ],
       "layout": {
        "legend": {
         "bgcolor": "#FFFFFF",
         "font": {
          "color": "#4D5663"
         }
        },
        "paper_bgcolor": "#FFFFFF",
        "plot_bgcolor": "#FFFFFF",
        "template": {
         "data": {
          "bar": [
           {
            "error_x": {
             "color": "#2a3f5f"
            },
            "error_y": {
             "color": "#2a3f5f"
            },
            "marker": {
             "line": {
              "color": "#E5ECF6",
              "width": 0.5
             },
             "pattern": {
              "fillmode": "overlay",
              "size": 10,
              "solidity": 0.2
             }
            },
            "type": "bar"
           }
          ],
          "barpolar": [
           {
            "marker": {
             "line": {
              "color": "#E5ECF6",
              "width": 0.5
             },
             "pattern": {
              "fillmode": "overlay",
              "size": 10,
              "solidity": 0.2
             }
            },
            "type": "barpolar"
           }
          ],
          "carpet": [
           {
            "aaxis": {
             "endlinecolor": "#2a3f5f",
             "gridcolor": "white",
             "linecolor": "white",
             "minorgridcolor": "white",
             "startlinecolor": "#2a3f5f"
            },
            "baxis": {
             "endlinecolor": "#2a3f5f",
             "gridcolor": "white",
             "linecolor": "white",
             "minorgridcolor": "white",
             "startlinecolor": "#2a3f5f"
            },
            "type": "carpet"
           }
          ],
          "choropleth": [
           {
            "colorbar": {
             "outlinewidth": 0,
             "ticks": ""
            },
            "type": "choropleth"
           }
          ],
          "contour": [
           {
            "colorbar": {
             "outlinewidth": 0,
             "ticks": ""
            },
            "colorscale": [
             [
              0,
              "#0d0887"
             ],
             [
              0.1111111111111111,
              "#46039f"
             ],
             [
              0.2222222222222222,
              "#7201a8"
             ],
             [
              0.3333333333333333,
              "#9c179e"
             ],
             [
              0.4444444444444444,
              "#bd3786"
             ],
             [
              0.5555555555555556,
              "#d8576b"
             ],
             [
              0.6666666666666666,
              "#ed7953"
             ],
             [
              0.7777777777777778,
              "#fb9f3a"
             ],
             [
              0.8888888888888888,
              "#fdca26"
             ],
             [
              1,
              "#f0f921"
             ]
            ],
            "type": "contour"
           }
          ],
          "contourcarpet": [
           {
            "colorbar": {
             "outlinewidth": 0,
             "ticks": ""
            },
            "type": "contourcarpet"
           }
          ],
          "heatmap": [
           {
            "colorbar": {
             "outlinewidth": 0,
             "ticks": ""
            },
            "colorscale": [
             [
              0,
              "#0d0887"
             ],
             [
              0.1111111111111111,
              "#46039f"
             ],
             [
              0.2222222222222222,
              "#7201a8"
             ],
             [
              0.3333333333333333,
              "#9c179e"
             ],
             [
              0.4444444444444444,
              "#bd3786"
             ],
             [
              0.5555555555555556,
              "#d8576b"
             ],
             [
              0.6666666666666666,
              "#ed7953"
             ],
             [
              0.7777777777777778,
              "#fb9f3a"
             ],
             [
              0.8888888888888888,
              "#fdca26"
             ],
             [
              1,
              "#f0f921"
             ]
            ],
            "type": "heatmap"
           }
          ],
          "heatmapgl": [
           {
            "colorbar": {
             "outlinewidth": 0,
             "ticks": ""
            },
            "colorscale": [
             [
              0,
              "#0d0887"
             ],
             [
              0.1111111111111111,
              "#46039f"
             ],
             [
              0.2222222222222222,
              "#7201a8"
             ],
             [
              0.3333333333333333,
              "#9c179e"
             ],
             [
              0.4444444444444444,
              "#bd3786"
             ],
             [
              0.5555555555555556,
              "#d8576b"
             ],
             [
              0.6666666666666666,
              "#ed7953"
             ],
             [
              0.7777777777777778,
              "#fb9f3a"
             ],
             [
              0.8888888888888888,
              "#fdca26"
             ],
             [
              1,
              "#f0f921"
             ]
            ],
            "type": "heatmapgl"
           }
          ],
          "histogram": [
           {
            "marker": {
             "pattern": {
              "fillmode": "overlay",
              "size": 10,
              "solidity": 0.2
             }
            },
            "type": "histogram"
           }
          ],
          "histogram2d": [
           {
            "colorbar": {
             "outlinewidth": 0,
             "ticks": ""
            },
            "colorscale": [
             [
              0,
              "#0d0887"
             ],
             [
              0.1111111111111111,
              "#46039f"
             ],
             [
              0.2222222222222222,
              "#7201a8"
             ],
             [
              0.3333333333333333,
              "#9c179e"
             ],
             [
              0.4444444444444444,
              "#bd3786"
             ],
             [
              0.5555555555555556,
              "#d8576b"
             ],
             [
              0.6666666666666666,
              "#ed7953"
             ],
             [
              0.7777777777777778,
              "#fb9f3a"
             ],
             [
              0.8888888888888888,
              "#fdca26"
             ],
             [
              1,
              "#f0f921"
             ]
            ],
            "type": "histogram2d"
           }
          ],
          "histogram2dcontour": [
           {
            "colorbar": {
             "outlinewidth": 0,
             "ticks": ""
            },
            "colorscale": [
             [
              0,
              "#0d0887"
             ],
             [
              0.1111111111111111,
              "#46039f"
             ],
             [
              0.2222222222222222,
              "#7201a8"
             ],
             [
              0.3333333333333333,
              "#9c179e"
             ],
             [
              0.4444444444444444,
              "#bd3786"
             ],
             [
              0.5555555555555556,
              "#d8576b"
             ],
             [
              0.6666666666666666,
              "#ed7953"
             ],
             [
              0.7777777777777778,
              "#fb9f3a"
             ],
             [
              0.8888888888888888,
              "#fdca26"
             ],
             [
              1,
              "#f0f921"
             ]
            ],
            "type": "histogram2dcontour"
           }
          ],
          "mesh3d": [
           {
            "colorbar": {
             "outlinewidth": 0,
             "ticks": ""
            },
            "type": "mesh3d"
           }
          ],
          "parcoords": [
           {
            "line": {
             "colorbar": {
              "outlinewidth": 0,
              "ticks": ""
             }
            },
            "type": "parcoords"
           }
          ],
          "pie": [
           {
            "automargin": true,
            "type": "pie"
           }
          ],
          "scatter": [
           {
            "marker": {
             "colorbar": {
              "outlinewidth": 0,
              "ticks": ""
             }
            },
            "type": "scatter"
           }
          ],
          "scatter3d": [
           {
            "line": {
             "colorbar": {
              "outlinewidth": 0,
              "ticks": ""
             }
            },
            "marker": {
             "colorbar": {
              "outlinewidth": 0,
              "ticks": ""
             }
            },
            "type": "scatter3d"
           }
          ],
          "scattercarpet": [
           {
            "marker": {
             "colorbar": {
              "outlinewidth": 0,
              "ticks": ""
             }
            },
            "type": "scattercarpet"
           }
          ],
          "scattergeo": [
           {
            "marker": {
             "colorbar": {
              "outlinewidth": 0,
              "ticks": ""
             }
            },
            "type": "scattergeo"
           }
          ],
          "scattergl": [
           {
            "marker": {
             "colorbar": {
              "outlinewidth": 0,
              "ticks": ""
             }
            },
            "type": "scattergl"
           }
          ],
          "scattermapbox": [
           {
            "marker": {
             "colorbar": {
              "outlinewidth": 0,
              "ticks": ""
             }
            },
            "type": "scattermapbox"
           }
          ],
          "scatterpolar": [
           {
            "marker": {
             "colorbar": {
              "outlinewidth": 0,
              "ticks": ""
             }
            },
            "type": "scatterpolar"
           }
          ],
          "scatterpolargl": [
           {
            "marker": {
             "colorbar": {
              "outlinewidth": 0,
              "ticks": ""
             }
            },
            "type": "scatterpolargl"
           }
          ],
          "scatterternary": [
           {
            "marker": {
             "colorbar": {
              "outlinewidth": 0,
              "ticks": ""
             }
            },
            "type": "scatterternary"
           }
          ],
          "surface": [
           {
            "colorbar": {
             "outlinewidth": 0,
             "ticks": ""
            },
            "colorscale": [
             [
              0,
              "#0d0887"
             ],
             [
              0.1111111111111111,
              "#46039f"
             ],
             [
              0.2222222222222222,
              "#7201a8"
             ],
             [
              0.3333333333333333,
              "#9c179e"
             ],
             [
              0.4444444444444444,
              "#bd3786"
             ],
             [
              0.5555555555555556,
              "#d8576b"
             ],
             [
              0.6666666666666666,
              "#ed7953"
             ],
             [
              0.7777777777777778,
              "#fb9f3a"
             ],
             [
              0.8888888888888888,
              "#fdca26"
             ],
             [
              1,
              "#f0f921"
             ]
            ],
            "type": "surface"
           }
          ],
          "table": [
           {
            "cells": {
             "fill": {
              "color": "#EBF0F8"
             },
             "line": {
              "color": "white"
             }
            },
            "header": {
             "fill": {
              "color": "#C8D4E3"
             },
             "line": {
              "color": "white"
             }
            },
            "type": "table"
           }
          ]
         },
         "layout": {
          "annotationdefaults": {
           "arrowcolor": "#2a3f5f",
           "arrowhead": 0,
           "arrowwidth": 1
          },
          "autotypenumbers": "strict",
          "coloraxis": {
           "colorbar": {
            "outlinewidth": 0,
            "ticks": ""
           }
          },
          "colorscale": {
           "diverging": [
            [
             0,
             "#8e0152"
            ],
            [
             0.1,
             "#c51b7d"
            ],
            [
             0.2,
             "#de77ae"
            ],
            [
             0.3,
             "#f1b6da"
            ],
            [
             0.4,
             "#fde0ef"
            ],
            [
             0.5,
             "#f7f7f7"
            ],
            [
             0.6,
             "#e6f5d0"
            ],
            [
             0.7,
             "#b8e186"
            ],
            [
             0.8,
             "#7fbc41"
            ],
            [
             0.9,
             "#4d9221"
            ],
            [
             1,
             "#276419"
            ]
           ],
           "sequential": [
            [
             0,
             "#0d0887"
            ],
            [
             0.1111111111111111,
             "#46039f"
            ],
            [
             0.2222222222222222,
             "#7201a8"
            ],
            [
             0.3333333333333333,
             "#9c179e"
            ],
            [
             0.4444444444444444,
             "#bd3786"
            ],
            [
             0.5555555555555556,
             "#d8576b"
            ],
            [
             0.6666666666666666,
             "#ed7953"
            ],
            [
             0.7777777777777778,
             "#fb9f3a"
            ],
            [
             0.8888888888888888,
             "#fdca26"
            ],
            [
             1,
             "#f0f921"
            ]
           ],
           "sequentialminus": [
            [
             0,
             "#0d0887"
            ],
            [
             0.1111111111111111,
             "#46039f"
            ],
            [
             0.2222222222222222,
             "#7201a8"
            ],
            [
             0.3333333333333333,
             "#9c179e"
            ],
            [
             0.4444444444444444,
             "#bd3786"
            ],
            [
             0.5555555555555556,
             "#d8576b"
            ],
            [
             0.6666666666666666,
             "#ed7953"
            ],
            [
             0.7777777777777778,
             "#fb9f3a"
            ],
            [
             0.8888888888888888,
             "#fdca26"
            ],
            [
             1,
             "#f0f921"
            ]
           ]
          },
          "colorway": [
           "#636efa",
           "#EF553B",
           "#00cc96",
           "#ab63fa",
           "#FFA15A",
           "#19d3f3",
           "#FF6692",
           "#B6E880",
           "#FF97FF",
           "#FECB52"
          ],
          "font": {
           "color": "#2a3f5f"
          },
          "geo": {
           "bgcolor": "white",
           "lakecolor": "white",
           "landcolor": "#E5ECF6",
           "showlakes": true,
           "showland": true,
           "subunitcolor": "white"
          },
          "hoverlabel": {
           "align": "left"
          },
          "hovermode": "closest",
          "mapbox": {
           "style": "light"
          },
          "paper_bgcolor": "white",
          "plot_bgcolor": "#E5ECF6",
          "polar": {
           "angularaxis": {
            "gridcolor": "white",
            "linecolor": "white",
            "ticks": ""
           },
           "bgcolor": "#E5ECF6",
           "radialaxis": {
            "gridcolor": "white",
            "linecolor": "white",
            "ticks": ""
           }
          },
          "scene": {
           "xaxis": {
            "backgroundcolor": "#E5ECF6",
            "gridcolor": "white",
            "gridwidth": 2,
            "linecolor": "white",
            "showbackground": true,
            "ticks": "",
            "zerolinecolor": "white"
           },
           "yaxis": {
            "backgroundcolor": "#E5ECF6",
            "gridcolor": "white",
            "gridwidth": 2,
            "linecolor": "white",
            "showbackground": true,
            "ticks": "",
            "zerolinecolor": "white"
           },
           "zaxis": {
            "backgroundcolor": "#E5ECF6",
            "gridcolor": "white",
            "gridwidth": 2,
            "linecolor": "white",
            "showbackground": true,
            "ticks": "",
            "zerolinecolor": "white"
           }
          },
          "shapedefaults": {
           "line": {
            "color": "#2a3f5f"
           }
          },
          "ternary": {
           "aaxis": {
            "gridcolor": "white",
            "linecolor": "white",
            "ticks": ""
           },
           "baxis": {
            "gridcolor": "white",
            "linecolor": "white",
            "ticks": ""
           },
           "bgcolor": "#E5ECF6",
           "caxis": {
            "gridcolor": "white",
            "linecolor": "white",
            "ticks": ""
           }
          },
          "title": {
           "x": 0.05
          },
          "xaxis": {
           "automargin": true,
           "gridcolor": "white",
           "linecolor": "white",
           "ticks": "",
           "title": {
            "standoff": 15
           },
           "zerolinecolor": "white",
           "zerolinewidth": 2
          },
          "yaxis": {
           "automargin": true,
           "gridcolor": "white",
           "linecolor": "white",
           "ticks": "",
           "title": {
            "standoff": 15
           },
           "zerolinecolor": "white",
           "zerolinewidth": 2
          }
         }
        },
        "title": {
         "font": {
          "color": "#4D5663"
         },
         "text": "Productividad área trefilación:"
        },
        "xaxis": {
         "gridcolor": "#E1E5ED",
         "showgrid": true,
         "tickfont": {
          "color": "#4D5663"
         },
         "title": {
          "font": {
           "color": "#4D5663"
          },
          "text": "Fecha"
         },
         "zerolinecolor": "#E1E5ED"
        },
        "yaxis": {
         "gridcolor": "#E1E5ED",
         "showgrid": true,
         "tickfont": {
          "color": "#4D5663"
         },
         "title": {
          "font": {
           "color": "#4D5663"
          },
          "text": "horas/toneladas"
         },
         "zerolinecolor": "#E1E5ED"
        }
       }
      },
      "text/html": [
       "<div>                            <div id=\"63fabb99-30b6-4d65-bf6e-32c218295795\" class=\"plotly-graph-div\" style=\"height:525px; width:100%;\"></div>            <script type=\"text/javascript\">                require([\"plotly\"], function(Plotly) {                    window.PLOTLYENV=window.PLOTLYENV || {};\n",
       "                    window.PLOTLYENV.BASE_URL='https://plot.ly';                                    if (document.getElementById(\"63fabb99-30b6-4d65-bf6e-32c218295795\")) {                    Plotly.newPlot(                        \"63fabb99-30b6-4d65-bf6e-32c218295795\",                        [{\"line\":{\"color\":\"rgba(54, 167, 233, 1.0)\",\"dash\":\"solid\",\"shape\":\"linear\",\"width\":1.3},\"mode\":\"lines\",\"name\":\"productividad h/ton\",\"text\":\"\",\"x\":[\"2022-08-01\",\"2022-08-02\",\"2022-08-03\",\"2022-08-04\",\"2022-08-05\",\"2022-08-06\",\"2022-08-08\",\"2022-08-09\",\"2022-08-10\",\"2022-08-11\",\"2022-08-12\",\"2022-08-13\",\"2022-08-16\",\"2022-08-17\",\"2022-08-18\",\"2022-08-19\",\"2022-08-20\",\"2022-08-22\",\"2022-08-23\",\"2022-08-24\",\"2022-08-25\",\"2022-08-26\",\"2022-08-27\",\"2022-08-29\",\"2022-08-30\",\"2022-08-31\"],\"y\":[0.08679080162154149,0.08957128941603253,0.10270499274645989,0.11492821775066324,0.14405157046222547,0.20599443815016993,0.12527142141306163,0.12622809416615824,0.13144706790884145,0.12974375608173858,0.15050230143102605,0.3194888178913738,0.11062507778325781,0.18624141543475728,0.18810841314877808,0.1687360265478015,0.2593360995850622,0.16148240851012294,0.11346766644288321,0.13053268212028588,0.11631062691427907,0.11572288227125443,2.763957987838585,0.11069140619595147,0.11513055325027943,0.08810119891048185],\"type\":\"scatter\"}],                        {\"legend\":{\"bgcolor\":\"#FFFFFF\",\"font\":{\"color\":\"#4D5663\"}},\"paper_bgcolor\":\"#FFFFFF\",\"plot_bgcolor\":\"#FFFFFF\",\"template\":{\"data\":{\"barpolar\":[{\"marker\":{\"line\":{\"color\":\"#E5ECF6\",\"width\":0.5},\"pattern\":{\"fillmode\":\"overlay\",\"size\":10,\"solidity\":0.2}},\"type\":\"barpolar\"}],\"bar\":[{\"error_x\":{\"color\":\"#2a3f5f\"},\"error_y\":{\"color\":\"#2a3f5f\"},\"marker\":{\"line\":{\"color\":\"#E5ECF6\",\"width\":0.5},\"pattern\":{\"fillmode\":\"overlay\",\"size\":10,\"solidity\":0.2}},\"type\":\"bar\"}],\"carpet\":[{\"aaxis\":{\"endlinecolor\":\"#2a3f5f\",\"gridcolor\":\"white\",\"linecolor\":\"white\",\"minorgridcolor\":\"white\",\"startlinecolor\":\"#2a3f5f\"},\"baxis\":{\"endlinecolor\":\"#2a3f5f\",\"gridcolor\":\"white\",\"linecolor\":\"white\",\"minorgridcolor\":\"white\",\"startlinecolor\":\"#2a3f5f\"},\"type\":\"carpet\"}],\"choropleth\":[{\"colorbar\":{\"outlinewidth\":0,\"ticks\":\"\"},\"type\":\"choropleth\"}],\"contourcarpet\":[{\"colorbar\":{\"outlinewidth\":0,\"ticks\":\"\"},\"type\":\"contourcarpet\"}],\"contour\":[{\"colorbar\":{\"outlinewidth\":0,\"ticks\":\"\"},\"colorscale\":[[0.0,\"#0d0887\"],[0.1111111111111111,\"#46039f\"],[0.2222222222222222,\"#7201a8\"],[0.3333333333333333,\"#9c179e\"],[0.4444444444444444,\"#bd3786\"],[0.5555555555555556,\"#d8576b\"],[0.6666666666666666,\"#ed7953\"],[0.7777777777777778,\"#fb9f3a\"],[0.8888888888888888,\"#fdca26\"],[1.0,\"#f0f921\"]],\"type\":\"contour\"}],\"heatmapgl\":[{\"colorbar\":{\"outlinewidth\":0,\"ticks\":\"\"},\"colorscale\":[[0.0,\"#0d0887\"],[0.1111111111111111,\"#46039f\"],[0.2222222222222222,\"#7201a8\"],[0.3333333333333333,\"#9c179e\"],[0.4444444444444444,\"#bd3786\"],[0.5555555555555556,\"#d8576b\"],[0.6666666666666666,\"#ed7953\"],[0.7777777777777778,\"#fb9f3a\"],[0.8888888888888888,\"#fdca26\"],[1.0,\"#f0f921\"]],\"type\":\"heatmapgl\"}],\"heatmap\":[{\"colorbar\":{\"outlinewidth\":0,\"ticks\":\"\"},\"colorscale\":[[0.0,\"#0d0887\"],[0.1111111111111111,\"#46039f\"],[0.2222222222222222,\"#7201a8\"],[0.3333333333333333,\"#9c179e\"],[0.4444444444444444,\"#bd3786\"],[0.5555555555555556,\"#d8576b\"],[0.6666666666666666,\"#ed7953\"],[0.7777777777777778,\"#fb9f3a\"],[0.8888888888888888,\"#fdca26\"],[1.0,\"#f0f921\"]],\"type\":\"heatmap\"}],\"histogram2dcontour\":[{\"colorbar\":{\"outlinewidth\":0,\"ticks\":\"\"},\"colorscale\":[[0.0,\"#0d0887\"],[0.1111111111111111,\"#46039f\"],[0.2222222222222222,\"#7201a8\"],[0.3333333333333333,\"#9c179e\"],[0.4444444444444444,\"#bd3786\"],[0.5555555555555556,\"#d8576b\"],[0.6666666666666666,\"#ed7953\"],[0.7777777777777778,\"#fb9f3a\"],[0.8888888888888888,\"#fdca26\"],[1.0,\"#f0f921\"]],\"type\":\"histogram2dcontour\"}],\"histogram2d\":[{\"colorbar\":{\"outlinewidth\":0,\"ticks\":\"\"},\"colorscale\":[[0.0,\"#0d0887\"],[0.1111111111111111,\"#46039f\"],[0.2222222222222222,\"#7201a8\"],[0.3333333333333333,\"#9c179e\"],[0.4444444444444444,\"#bd3786\"],[0.5555555555555556,\"#d8576b\"],[0.6666666666666666,\"#ed7953\"],[0.7777777777777778,\"#fb9f3a\"],[0.8888888888888888,\"#fdca26\"],[1.0,\"#f0f921\"]],\"type\":\"histogram2d\"}],\"histogram\":[{\"marker\":{\"pattern\":{\"fillmode\":\"overlay\",\"size\":10,\"solidity\":0.2}},\"type\":\"histogram\"}],\"mesh3d\":[{\"colorbar\":{\"outlinewidth\":0,\"ticks\":\"\"},\"type\":\"mesh3d\"}],\"parcoords\":[{\"line\":{\"colorbar\":{\"outlinewidth\":0,\"ticks\":\"\"}},\"type\":\"parcoords\"}],\"pie\":[{\"automargin\":true,\"type\":\"pie\"}],\"scatter3d\":[{\"line\":{\"colorbar\":{\"outlinewidth\":0,\"ticks\":\"\"}},\"marker\":{\"colorbar\":{\"outlinewidth\":0,\"ticks\":\"\"}},\"type\":\"scatter3d\"}],\"scattercarpet\":[{\"marker\":{\"colorbar\":{\"outlinewidth\":0,\"ticks\":\"\"}},\"type\":\"scattercarpet\"}],\"scattergeo\":[{\"marker\":{\"colorbar\":{\"outlinewidth\":0,\"ticks\":\"\"}},\"type\":\"scattergeo\"}],\"scattergl\":[{\"marker\":{\"colorbar\":{\"outlinewidth\":0,\"ticks\":\"\"}},\"type\":\"scattergl\"}],\"scattermapbox\":[{\"marker\":{\"colorbar\":{\"outlinewidth\":0,\"ticks\":\"\"}},\"type\":\"scattermapbox\"}],\"scatterpolargl\":[{\"marker\":{\"colorbar\":{\"outlinewidth\":0,\"ticks\":\"\"}},\"type\":\"scatterpolargl\"}],\"scatterpolar\":[{\"marker\":{\"colorbar\":{\"outlinewidth\":0,\"ticks\":\"\"}},\"type\":\"scatterpolar\"}],\"scatter\":[{\"marker\":{\"colorbar\":{\"outlinewidth\":0,\"ticks\":\"\"}},\"type\":\"scatter\"}],\"scatterternary\":[{\"marker\":{\"colorbar\":{\"outlinewidth\":0,\"ticks\":\"\"}},\"type\":\"scatterternary\"}],\"surface\":[{\"colorbar\":{\"outlinewidth\":0,\"ticks\":\"\"},\"colorscale\":[[0.0,\"#0d0887\"],[0.1111111111111111,\"#46039f\"],[0.2222222222222222,\"#7201a8\"],[0.3333333333333333,\"#9c179e\"],[0.4444444444444444,\"#bd3786\"],[0.5555555555555556,\"#d8576b\"],[0.6666666666666666,\"#ed7953\"],[0.7777777777777778,\"#fb9f3a\"],[0.8888888888888888,\"#fdca26\"],[1.0,\"#f0f921\"]],\"type\":\"surface\"}],\"table\":[{\"cells\":{\"fill\":{\"color\":\"#EBF0F8\"},\"line\":{\"color\":\"white\"}},\"header\":{\"fill\":{\"color\":\"#C8D4E3\"},\"line\":{\"color\":\"white\"}},\"type\":\"table\"}]},\"layout\":{\"annotationdefaults\":{\"arrowcolor\":\"#2a3f5f\",\"arrowhead\":0,\"arrowwidth\":1},\"autotypenumbers\":\"strict\",\"coloraxis\":{\"colorbar\":{\"outlinewidth\":0,\"ticks\":\"\"}},\"colorscale\":{\"diverging\":[[0,\"#8e0152\"],[0.1,\"#c51b7d\"],[0.2,\"#de77ae\"],[0.3,\"#f1b6da\"],[0.4,\"#fde0ef\"],[0.5,\"#f7f7f7\"],[0.6,\"#e6f5d0\"],[0.7,\"#b8e186\"],[0.8,\"#7fbc41\"],[0.9,\"#4d9221\"],[1,\"#276419\"]],\"sequential\":[[0.0,\"#0d0887\"],[0.1111111111111111,\"#46039f\"],[0.2222222222222222,\"#7201a8\"],[0.3333333333333333,\"#9c179e\"],[0.4444444444444444,\"#bd3786\"],[0.5555555555555556,\"#d8576b\"],[0.6666666666666666,\"#ed7953\"],[0.7777777777777778,\"#fb9f3a\"],[0.8888888888888888,\"#fdca26\"],[1.0,\"#f0f921\"]],\"sequentialminus\":[[0.0,\"#0d0887\"],[0.1111111111111111,\"#46039f\"],[0.2222222222222222,\"#7201a8\"],[0.3333333333333333,\"#9c179e\"],[0.4444444444444444,\"#bd3786\"],[0.5555555555555556,\"#d8576b\"],[0.6666666666666666,\"#ed7953\"],[0.7777777777777778,\"#fb9f3a\"],[0.8888888888888888,\"#fdca26\"],[1.0,\"#f0f921\"]]},\"colorway\":[\"#636efa\",\"#EF553B\",\"#00cc96\",\"#ab63fa\",\"#FFA15A\",\"#19d3f3\",\"#FF6692\",\"#B6E880\",\"#FF97FF\",\"#FECB52\"],\"font\":{\"color\":\"#2a3f5f\"},\"geo\":{\"bgcolor\":\"white\",\"lakecolor\":\"white\",\"landcolor\":\"#E5ECF6\",\"showlakes\":true,\"showland\":true,\"subunitcolor\":\"white\"},\"hoverlabel\":{\"align\":\"left\"},\"hovermode\":\"closest\",\"mapbox\":{\"style\":\"light\"},\"paper_bgcolor\":\"white\",\"plot_bgcolor\":\"#E5ECF6\",\"polar\":{\"angularaxis\":{\"gridcolor\":\"white\",\"linecolor\":\"white\",\"ticks\":\"\"},\"bgcolor\":\"#E5ECF6\",\"radialaxis\":{\"gridcolor\":\"white\",\"linecolor\":\"white\",\"ticks\":\"\"}},\"scene\":{\"xaxis\":{\"backgroundcolor\":\"#E5ECF6\",\"gridcolor\":\"white\",\"gridwidth\":2,\"linecolor\":\"white\",\"showbackground\":true,\"ticks\":\"\",\"zerolinecolor\":\"white\"},\"yaxis\":{\"backgroundcolor\":\"#E5ECF6\",\"gridcolor\":\"white\",\"gridwidth\":2,\"linecolor\":\"white\",\"showbackground\":true,\"ticks\":\"\",\"zerolinecolor\":\"white\"},\"zaxis\":{\"backgroundcolor\":\"#E5ECF6\",\"gridcolor\":\"white\",\"gridwidth\":2,\"linecolor\":\"white\",\"showbackground\":true,\"ticks\":\"\",\"zerolinecolor\":\"white\"}},\"shapedefaults\":{\"line\":{\"color\":\"#2a3f5f\"}},\"ternary\":{\"aaxis\":{\"gridcolor\":\"white\",\"linecolor\":\"white\",\"ticks\":\"\"},\"baxis\":{\"gridcolor\":\"white\",\"linecolor\":\"white\",\"ticks\":\"\"},\"bgcolor\":\"#E5ECF6\",\"caxis\":{\"gridcolor\":\"white\",\"linecolor\":\"white\",\"ticks\":\"\"}},\"title\":{\"x\":0.05},\"xaxis\":{\"automargin\":true,\"gridcolor\":\"white\",\"linecolor\":\"white\",\"ticks\":\"\",\"title\":{\"standoff\":15},\"zerolinecolor\":\"white\",\"zerolinewidth\":2},\"yaxis\":{\"automargin\":true,\"gridcolor\":\"white\",\"linecolor\":\"white\",\"ticks\":\"\",\"title\":{\"standoff\":15},\"zerolinecolor\":\"white\",\"zerolinewidth\":2}}},\"title\":{\"font\":{\"color\":\"#4D5663\"},\"text\":\"Productividad \\u00e1rea trefilaci\\u00f3n:\"},\"xaxis\":{\"gridcolor\":\"#E1E5ED\",\"showgrid\":true,\"tickfont\":{\"color\":\"#4D5663\"},\"title\":{\"font\":{\"color\":\"#4D5663\"},\"text\":\"Fecha\"},\"zerolinecolor\":\"#E1E5ED\"},\"yaxis\":{\"gridcolor\":\"#E1E5ED\",\"showgrid\":true,\"tickfont\":{\"color\":\"#4D5663\"},\"title\":{\"font\":{\"color\":\"#4D5663\"},\"text\":\"horas/toneladas\"},\"zerolinecolor\":\"#E1E5ED\"}},                        {\"showLink\": true, \"linkText\": \"Export to plot.ly\", \"plotlyServerURL\": \"https://plot.ly\", \"responsive\": true}                    ).then(function(){\n",
       "                            \n",
       "var gd = document.getElementById('63fabb99-30b6-4d65-bf6e-32c218295795');\n",
       "var x = new MutationObserver(function (mutations, observer) {{\n",
       "        var display = window.getComputedStyle(gd).display;\n",
       "        if (!display || display === 'none') {{\n",
       "            console.log([gd, 'removed!']);\n",
       "            Plotly.purge(gd);\n",
       "            observer.disconnect();\n",
       "        }}\n",
       "}});\n",
       "\n",
       "// Listen for the removal of the full notebook cells\n",
       "var notebookContainer = gd.closest('#notebook-container');\n",
       "if (notebookContainer) {{\n",
       "    x.observe(notebookContainer, {childList: true});\n",
       "}}\n",
       "\n",
       "// Listen for the clearing of the current output cell\n",
       "var outputEl = gd.closest('.output');\n",
       "if (outputEl) {{\n",
       "    x.observe(outputEl, {childList: true});\n",
       "}}\n",
       "\n",
       "                        })                };                });            </script>        </div>"
      ]
     },
     "metadata": {},
     "output_type": "display_data"
    }
   ],
   "source": [
    "clean_d[['my_dates', 'productividad h/ton']].iplot(x='my_dates', y='productividad h/ton',xTitle='Fecha', yTitle='horas/toneladas', title='Productividad área trefilación:', color='#36a7e9')"
   ]
  },
  {
   "cell_type": "markdown",
   "id": "8753b6fd",
   "metadata": {},
   "source": [
    "## Anexo: Exploración de Producción Máquinas"
   ]
  },
  {
   "cell_type": "markdown",
   "id": "4fac0f42",
   "metadata": {},
   "source": [
    "### Introducción"
   ]
  },
  {
   "cell_type": "markdown",
   "id": "a1f012fe",
   "metadata": {},
   "source": [
    "Como análisis complementario al realizado para la producción por turnos en base a la base de datos proporcionada por SAP, se podría proyectar un estudio relacionado con las máquinas y su eficiencia. Esto se podría realizar mediante la base de datos proporcionada por el sistema de Adquisición y Control de Datos SCADA, el cual interactúa con el sistema de control y genera las bases de datos a nivel de procesos.\n",
    "\n",
    "Esta base de datos, normalmente contiene información respecto a consumos eléctricos, horas de funcionamiento, fallas e inactividades de equipos."
   ]
  },
  {
   "cell_type": "markdown",
   "id": "62d4d594",
   "metadata": {},
   "source": [
    "### 1.- Gráfico de Producción por Máquinas"
   ]
  },
  {
   "cell_type": "code",
   "execution_count": 27,
   "id": "4cc5ab88",
   "metadata": {},
   "outputs": [
    {
     "data": {
      "text/html": [
       "<div>\n",
       "<style scoped>\n",
       "    .dataframe tbody tr th:only-of-type {\n",
       "        vertical-align: middle;\n",
       "    }\n",
       "\n",
       "    .dataframe tbody tr th {\n",
       "        vertical-align: top;\n",
       "    }\n",
       "\n",
       "    .dataframe thead th {\n",
       "        text-align: right;\n",
       "    }\n",
       "</style>\n",
       "<table border=\"1\" class=\"dataframe\">\n",
       "  <thead>\n",
       "    <tr style=\"text-align: right;\">\n",
       "      <th></th>\n",
       "      <th>Maq1</th>\n",
       "      <th>Cant. Leida</th>\n",
       "    </tr>\n",
       "  </thead>\n",
       "  <tbody>\n",
       "    <tr>\n",
       "      <th>0</th>\n",
       "      <td>B 92</td>\n",
       "      <td>1014</td>\n",
       "    </tr>\n",
       "    <tr>\n",
       "      <th>1</th>\n",
       "      <td>BAZ 10</td>\n",
       "      <td>33679</td>\n",
       "    </tr>\n",
       "    <tr>\n",
       "      <th>2</th>\n",
       "      <td>BB 31</td>\n",
       "      <td>21667</td>\n",
       "    </tr>\n",
       "    <tr>\n",
       "      <th>3</th>\n",
       "      <td>BB 52</td>\n",
       "      <td>106283</td>\n",
       "    </tr>\n",
       "    <tr>\n",
       "      <th>4</th>\n",
       "      <td>BB 62</td>\n",
       "      <td>243587</td>\n",
       "    </tr>\n",
       "  </tbody>\n",
       "</table>\n",
       "</div>"
      ],
      "text/plain": [
       "     Maq1  Cant. Leida\n",
       "0    B 92         1014\n",
       "1  BAZ 10        33679\n",
       "2   BB 31        21667\n",
       "3   BB 52       106283\n",
       "4   BB 62       243587"
      ]
     },
     "execution_count": 27,
     "metadata": {},
     "output_type": "execute_result"
    }
   ],
   "source": [
    "## Dataframe Maquinas\n",
    "df_maquinas = frame.groupby(by=['Maq1'])['Cant. Leida'].sum().reset_index()\n",
    "df_maquinas.head()"
   ]
  },
  {
   "cell_type": "code",
   "execution_count": 28,
   "id": "bc6a684d",
   "metadata": {},
   "outputs": [
    {
     "name": "stderr",
     "output_type": "stream",
     "text": [
      "C:\\Users\\pablo\\AppData\\Local\\Temp\\ipykernel_13760\\3086395187.py:5: FutureWarning:\n",
      "\n",
      "The frame.append method is deprecated and will be removed from pandas in a future version. Use pandas.concat instead.\n",
      "\n"
     ]
    }
   ],
   "source": [
    "df_maquinas_ord=df_maquinas.sort_values(by='Cant. Leida', ascending=False)\n",
    "df_maquinas_ord10=df_maquinas_ord.iloc[0:10]\n",
    "df_maquinas_ord10=pd.DataFrame(df_maquinas_ord10)\n",
    "resto={'Maq1':'Resto', 'Cant. Leida': df_maquinas_ord.iloc[11:len(df_maquinas_ord)]['Cant. Leida'].sum()}\n",
    "df_maquinas_ord10 = df_maquinas_ord10.append(resto, ignore_index=True)"
   ]
  },
  {
   "cell_type": "code",
   "execution_count": 29,
   "id": "ac99c747",
   "metadata": {},
   "outputs": [],
   "source": [
    "total = df_maquinas['Cant. Leida'].sum()\n",
    "df_maquinas_ord10['porcentaje'] = df_maquinas_ord10.apply(lambda x: x['Cant. Leida']/total, axis=1)  #Porcion de Aporte para la opcion\n",
    "\n",
    "pmin = df_maquinas_ord10['porcentaje'].min()\n",
    "pmax = df_maquinas_ord10['porcentaje'].max()\n",
    "normA = mpl.colors.Normalize(vmin=pmin, vmax=pmax) \n",
    "cmapA = mpl.cm.Blues\n",
    "\n",
    "df_maquinas_ord10['norm'] = df_maquinas_ord10.apply(lambda x: normA(x['porcentaje']), axis=1)  #Normaliza porciones de aporte\n",
    "df_maquinas_ord10['color'] = df_maquinas_ord10.apply(lambda x: cmapA(x['norm']), axis=1)  #define colores"
   ]
  },
  {
   "cell_type": "code",
   "execution_count": 30,
   "id": "bf3ded4e",
   "metadata": {
    "scrolled": false
   },
   "outputs": [
    {
     "data": {
      "image/png": "[encoded data removed]",
      "text/plain": [
       "<Figure size 1296x576 with 1 Axes>"
      ]
     },
     "metadata": {
      "needs_background": "light"
     },
     "output_type": "display_data"
    },
    {
     "name": "stdout",
     "output_type": "stream",
     "text": [
      "El porcentaje de producción de las 10 máquinas más utilizadas es de 57.09%\n"
     ]
    }
   ],
   "source": [
    "import squarify   #Permite graficos gerarquicos por cuadrados\n",
    "\n",
    "fig, ax = plt.subplots(1,1, figsize=(18, 8))\n",
    "\n",
    "squarify.plot(sizes=df_maquinas_ord10['Cant. Leida'], color=df_maquinas_ord10['color'], label=df_maquinas_ord10['Maq1'], \n",
    "              alpha=0.8, ax=ax,\n",
    "             text_kwargs={'fontsize': 15, 'color': 'black', 'weight': 'bold'}, edgecolor='#d2d2d2')\n",
    "plt.axis('off')\n",
    "plt.show()\n",
    "\n",
    "print(f\"El porcentaje de producción de las {len(df_maquinas_ord10)-1} máquinas más utilizadas es de {round((1-df_maquinas_ord10['porcentaje'][len(df_maquinas_ord10)-1])*100, 2)}%\")"
   ]
  },
  {
   "cell_type": "markdown",
   "id": "b579a695",
   "metadata": {},
   "source": [
    "##### ¿Para qué sirve el gráfico de Producción por Máquina?\n",
    "\n",
    "Este gráfico demuestra que el 57% de la producción es generada por las 10 máquinas más utilizadas. \n",
    "\n",
    "Sin embargo, esto no necesariamente significa que sean las máquinas mas eficientes o de mayor capacidad de producción, sino que también podría significar que son las que han presentado menor cantidad de fallas u otro factor que influya en su uso mayoritario.\n",
    "\n",
    "Un análisis de eficiencia por máquinas (consumo eléctrico/producción u otro indicador) o bien de los tiempos de disponibilidad de cada máquina (cuando no ha estado fuera de servicio por falla o mantención), podría entregar información valiosa respecto a como mejorar la producción."
   ]
  },
  {
   "cell_type": "markdown",
   "id": "f552cde5",
   "metadata": {},
   "source": [
    "### 2.- Gráfico Dinámico de Producción por Máquina"
   ]
  },
  {
   "cell_type": "markdown",
   "id": "1e4899c9",
   "metadata": {},
   "source": [
    "Este gráfico permite analizar o explorar los datos referentes a la proporción de producción de cada máquina. \n",
    "- Posee en la parte superior una pestaña que permite seleccionar las diferentes máquinas.\n",
    "- Bajo la pestaña de selección, se indican las máquinas ya seleccionadas y graficadas. Cada uno de los recuadros asociados a las máquinas posee una pestaña que permite eliminarla del gráfico.\n",
    "- Al posicionar el mause sobre una de las porciones del gráfico, se despliega un popup con el nombre de la máquina y su respectiva producción durante el mes de agosto en kg.\n",
    "- Al costado derecho del gráfico, figura la leyenda del gráfico. Haciendo un click izquierdo sobre una de las leyendas asociada a una máquina se puede quitar de la representación, y al volver a clickear vuelve a aparecer. \n"
   ]
  },
  {
   "cell_type": "code",
   "execution_count": 31,
   "id": "9bc910d1",
   "metadata": {},
   "outputs": [],
   "source": [
    "## Funcion Dash Maquinas\n",
    "external_stylesheets = ['https://codepen.io/chriddyp/pen/bWLwgP.css'] #Link para estilo externo del dashboard\n",
    "\n",
    "app = dash.Dash(__name__, external_stylesheets=external_stylesheets)  #Define el dashboard con (nombre, estilo)\n",
    "\n",
    "app.layout = html.Div([                                           #Define que se despliegue como html\n",
    "    dcc.Dropdown(id='dpdn2', value=['B 92','BAZ 10'],          #Define los trazos (Alemania y Brasil como iniciales)\n",
    "                 multi=True,                                      #Define la opcion de intercambiar entre diferentes etiquetas a graficar   \n",
    "                 options=[{'label': x, 'value': x} for x in       #Define las opciones de etiquetas a seleccionar y visualizar\n",
    "                          df_maquinas.Maq1.unique()]),\n",
    "    html.Div([                                                              #Define las divisiones del dashboard\n",
    "        dcc.Graph(id='pie-graph', figure={},           #Define tagname gráfico de torta\n",
    "                 className='six columns'                   #Permite dividir el dashboard para varios graficos\n",
    "                 )      \n",
    "        \n",
    "    ])\n",
    "])"
   ]
  },
  {
   "cell_type": "code",
   "execution_count": 32,
   "id": "5bf834f3",
   "metadata": {},
   "outputs": [],
   "source": [
    "# Callback Torta Maquinas\n",
    "@app.callback(\n",
    "    Output(component_id='pie-graph', component_property='figure'),\n",
    "    Input(component_id='dpdn2', component_property='value')\n",
    ")\n",
    "def update_side_graph(country_chosen):\n",
    "    \n",
    "    dff2 = df_maquinas[df_maquinas.Maq1.isin(country_chosen)]     #define que el grafico s actualice con la muestra seleccionada\n",
    "    '''Se puede intentar agregar a ddf2 una fila q tenga la suma total de cantidad leida de df_maquinas menos las de ddf2'''\n",
    "    resto_valor=df_maquinas['Cant. Leida'].sum()\n",
    "    resto={'Maq1':'Producción Restante', 'Cant. Leida':resto_valor}\n",
    "    dff2=dff2.append(resto, ignore_index=True)\n",
    "    print(dff2)\n",
    "    \n",
    "    \n",
    "    print(resto)\n",
    "    fig2 = px.pie(data_frame=dff2, values='Cant. Leida', names='Maq1',\n",
    "                    title='Producción por máquina durante agosto')\n",
    "    return fig2\n",
    "    "
   ]
  },
  {
   "cell_type": "code",
   "execution_count": null,
   "id": "467ccaec",
   "metadata": {},
   "outputs": [
    {
     "name": "stdout",
     "output_type": "stream",
     "text": [
      "Dash is running on http://127.0.0.1:8050/\n",
      "\n",
      " * Serving Flask app \"__main__\" (lazy loading)\n",
      " * Environment: production\n",
      "\u001b[31m   WARNING: This is a development server. Do not use it in a production deployment.\u001b[0m\n",
      "\u001b[2m   Use a production WSGI server instead.\u001b[0m\n",
      " * Debug mode: off\n"
     ]
    },
    {
     "name": "stderr",
     "output_type": "stream",
     "text": [
      " * Running on http://127.0.0.1:8050/ (Press CTRL+C to quit)\n"
     ]
    }
   ],
   "source": [
    "if __name__ == '__main__':\n",
    "    app.run_server(debug=False)"
   ]
  },
  {
   "cell_type": "code",
   "execution_count": null,
   "id": "609fd25c",
   "metadata": {},
   "outputs": [],
   "source": []
  }
 ],
 "metadata": {
  "kernelspec": {
   "display_name": "Python 3 (ipykernel)",
   "language": "python",
   "name": "python3"
  },
  "language_info": {
   "codemirror_mode": {
    "name": "ipython",
    "version": 3
   },
   "file_extension": ".py",
   "mimetype": "text/x-python",
   "name": "python",
   "nbconvert_exporter": "python",
   "pygments_lexer": "ipython3",
   "version": "3.9.12"
  }
 },
 "nbformat": 4,
 "nbformat_minor": 5
}
