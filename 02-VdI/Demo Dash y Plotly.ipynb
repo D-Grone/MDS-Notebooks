{
 "cells": [
  {
   "cell_type": "code",
   "execution_count": 1,
   "id": "0849c03d",
   "metadata": {},
   "outputs": [
    {
     "name": "stderr",
     "output_type": "stream",
     "text": [
      "C:\\Users\\pablo\\AppData\\Local\\Temp\\ipykernel_8464\\1395491940.py:2: UserWarning: \n",
      "The dash_core_components package is deprecated. Please replace\n",
      "`import dash_core_components as dcc` with `from dash import dcc`\n",
      "  import dash_core_components as dcc\n",
      "C:\\Users\\pablo\\AppData\\Local\\Temp\\ipykernel_8464\\1395491940.py:3: UserWarning: \n",
      "The dash_html_components package is deprecated. Please replace\n",
      "`import dash_html_components as html` with `from dash import html`\n",
      "  import dash_html_components as html\n"
     ]
    }
   ],
   "source": [
    "import dash\n",
    "import dash_core_components as dcc\n",
    "import dash_html_components as html\n",
    "from dash.dependencies import Output, Input\n",
    "import plotly.express as px"
   ]
  },
  {
   "cell_type": "code",
   "execution_count": 2,
   "id": "b763d0b6",
   "metadata": {
    "scrolled": true
   },
   "outputs": [
    {
     "data": {
      "text/plain": [
       "country\n",
       "Afghanistan           189884585\n",
       "Albania                30962990\n",
       "Algeria               238504874\n",
       "Angola                 87712681\n",
       "Argentina             343226879\n",
       "                        ...    \n",
       "Vietnam               654822851\n",
       "West Bank and Gaza     22183278\n",
       "Yemen, Rep.           130118302\n",
       "Zambia                 76245658\n",
       "Zimbabwe               91703593\n",
       "Name: pop, Length: 142, dtype: int64"
      ]
     },
     "execution_count": 2,
     "metadata": {},
     "output_type": "execute_result"
    }
   ],
   "source": [
    "df = px.data.gapminder() #Importacion dataframe de la libreria"
   ]
  },
  {
   "cell_type": "code",
   "execution_count": 3,
   "id": "6be18cbe",
   "metadata": {},
   "outputs": [],
   "source": [
    "external_stylesheets = ['https://codepen.io/chriddyp/pen/bWLwgP.css'] #Link para estilo externo del dashboard\n",
    "\n",
    "app = dash.Dash(__name__, external_stylesheets=external_stylesheets)  #Define el dashboard con (nombre, estilo)\n",
    "\n",
    "app.layout = html.Div([                                           #Define que se despliegue como html\n",
    "    dcc.Dropdown(id='dpdn2', value=['Germany','Brazil'],          #Define los trazos (Alemania y Brasil como iniciales)\n",
    "                 multi=True,                                      #Define la opcion de intercambiar entre diferentes etiquetas a graficar   \n",
    "                 options=[{'label': x, 'value': x} for x in       #Define las opciones de etiquetas a seleccionar y visualizar\n",
    "                          df.country.unique()]),\n",
    "    html.Div([                                                              #Define las divisiones del dashboard\n",
    "        dcc.Graph(id='pie-graph', figure={}, className='six columns'),      #Define tagname gráfico de torta\n",
    "        dcc.Graph(id='my-graph', figure={}, clickData=None, hoverData=None, #Define tagname grafico de lineas\n",
    "                  config={\n",
    "                      'staticPlot': False,     # True, False\n",
    "                      'scrollZoom': True,      # True, False\n",
    "                      'doubleClick': 'reset',  # 'reset', 'autosize' or 'reset+autosize', False\n",
    "                      'showTips': False,       # True, False\n",
    "                      'displayModeBar': True,  # True, False, 'hover'\n",
    "                      'watermark': True,\n",
    "                      # 'modeBarButtonsToAdd': ['pan2d','select2d'],\n",
    "                        },\n",
    "                  className='six columns'\n",
    "                  )\n",
    "    ])\n",
    "])\n"
   ]
  },
  {
   "cell_type": "code",
   "execution_count": 4,
   "id": "82552ffa",
   "metadata": {},
   "outputs": [],
   "source": [
    "@app.callback(\n",
    "    Output(component_id='my-graph', component_property='figure'),\n",
    "    Input(component_id='dpdn2', component_property='value'),\n",
    ")\n",
    "def update_graph(country_chosen):\n",
    "    dff = df[df.country.isin(country_chosen)]\n",
    "    fig = px.line(data_frame=dff, x='year', y='gdpPercap', color='country',\n",
    "                  custom_data=['country', 'continent', 'lifeExp', 'pop'])\n",
    "    fig.update_traces(mode='lines+markers')\n",
    "    return fig"
   ]
  },
  {
   "cell_type": "code",
   "execution_count": 5,
   "id": "67a9d6bc",
   "metadata": {},
   "outputs": [],
   "source": [
    "# Dash version 1.16.0 or higher\n",
    "@app.callback(\n",
    "    Output(component_id='pie-graph', component_property='figure'),\n",
    "    Input(component_id='my-graph', component_property='hoverData'),\n",
    "    Input(component_id='my-graph', component_property='clickData'),\n",
    "    Input(component_id='my-graph', component_property='selectedData'),\n",
    "    Input(component_id='dpdn2', component_property='value')\n",
    ")\n",
    "def update_side_graph(hov_data, clk_data, slct_data, country_chosen):\n",
    "    if hov_data is None:\n",
    "        dff2 = df[df.country.isin(country_chosen)]\n",
    "        dff2 = dff2[dff2.year == 1952]\n",
    "        print(dff2)\n",
    "        fig2 = px.pie(data_frame=dff2, values='pop', names='country',\n",
    "                      title='Population for 1952')\n",
    "        return fig2\n",
    "    else:\n",
    "        print(f'hover data: {hov_data}')\n",
    "        print(hov_data['points'][0]['customdata'][0])\n",
    "        print(f'click data: {clk_data}')\n",
    "        print(f'selected data: {slct_data}')\n",
    "        dff2 = df[df.country.isin(country_chosen)]\n",
    "        hov_year = hov_data['points'][0]['x']\n",
    "        dff2 = dff2[dff2.year == hov_year]\n",
    "        fig2 = px.pie(data_frame=dff2, values='pop', names='country', title=f'Population for: {hov_year}')\n",
    "        return fig2"
   ]
  },
  {
   "cell_type": "code",
   "execution_count": null,
   "id": "df916c57",
   "metadata": {
    "scrolled": false
   },
   "outputs": [
    {
     "name": "stdout",
     "output_type": "stream",
     "text": [
      "Dash is running on http://127.0.0.1:8050/\n",
      "\n",
      " * Serving Flask app \"__main__\" (lazy loading)\n",
      " * Environment: production\n",
      "\u001b[31m   WARNING: This is a development server. Do not use it in a production deployment.\u001b[0m\n",
      "\u001b[2m   Use a production WSGI server instead.\u001b[0m\n",
      " * Debug mode: off\n"
     ]
    },
    {
     "name": "stderr",
     "output_type": "stream",
     "text": [
      " * Running on http://127.0.0.1:8050/ (Press CTRL+C to quit)\n"
     ]
    }
   ],
   "source": [
    "if __name__ == '__main__':\n",
    "    app.run_server(debug=False)"
   ]
  }
 ],
 "metadata": {
  "kernelspec": {
   "display_name": "Python 3 (ipykernel)",
   "language": "python",
   "name": "python3"
  },
  "language_info": {
   "codemirror_mode": {
    "name": "ipython",
    "version": 3
   },
   "file_extension": ".py",
   "mimetype": "text/x-python",
   "name": "python",
   "nbconvert_exporter": "python",
   "pygments_lexer": "ipython3",
   "version": "3.9.12"
  }
 },
 "nbformat": 4,
 "nbformat_minor": 5
}
