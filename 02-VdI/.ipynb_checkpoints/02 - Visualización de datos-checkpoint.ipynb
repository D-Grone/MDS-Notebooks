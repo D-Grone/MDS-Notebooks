{
 "cells": [
  {
   "cell_type": "markdown",
   "metadata": {},
   "source": [
    "# Clase 02 - Visualización de datos"
   ]
  },
  {
   "cell_type": "markdown",
   "metadata": {},
   "source": [
    "Profesor: **Fernando Becerra**, f.becerra@udd.cl, [www.fernandobecerra.com](www.fernandobecerra.com)"
   ]
  },
  {
   "cell_type": "markdown",
   "metadata": {},
   "source": [
    "En esta segunda clase ahondaremos más en las distintas formas de gráficar datos, a la vez que empezaremos a ocupar buenas prácticas para hacer más efectiva la visualización y la comunicación de ideas. Además de las librerías ya ocupadas en la primera clase, esta vez también ocuparemos [seaborn](http://seaborn.pydata.org)."
   ]
  },
  {
   "cell_type": "markdown",
   "metadata": {},
   "source": [
    "## Un grupo de datos, muchas representaciones"
   ]
  },
  {
   "cell_type": "markdown",
   "metadata": {},
   "source": [
    "Primero, importamos las librerías que ocuparemos para este ejemplo"
   ]
  },
  {
   "cell_type": "code",
   "execution_count": 1,
   "metadata": {},
   "outputs": [],
   "source": [
    "import pandas as pd\n",
    "import numpy as np\n",
    "import matplotlib.pyplot as plt"
   ]
  },
  {
   "cell_type": "markdown",
   "metadata": {},
   "source": [
    "Ahora cargamos los datos, los que corresponden a las muertes registradas por el DEIS del Ministerio de Salud, desde el 2010 hasta mayo de 2020 para las comunas de la Región Metropolitana."
   ]
  },
  {
   "cell_type": "code",
   "execution_count": 2,
   "metadata": {},
   "outputs": [
    {
     "data": {
      "text/html": [
       "<div>\n",
       "<style scoped>\n",
       "    .dataframe tbody tr th:only-of-type {\n",
       "        vertical-align: middle;\n",
       "    }\n",
       "\n",
       "    .dataframe tbody tr th {\n",
       "        vertical-align: top;\n",
       "    }\n",
       "\n",
       "    .dataframe thead th {\n",
       "        text-align: right;\n",
       "    }\n",
       "</style>\n",
       "<table border=\"1\" class=\"dataframe\">\n",
       "  <thead>\n",
       "    <tr style=\"text-align: right;\">\n",
       "      <th></th>\n",
       "      <th>comuna</th>\n",
       "      <th>año</th>\n",
       "      <th>enero</th>\n",
       "      <th>febrero</th>\n",
       "      <th>marzo</th>\n",
       "      <th>abril</th>\n",
       "      <th>mayo</th>\n",
       "      <th>junio</th>\n",
       "      <th>julio</th>\n",
       "      <th>agosto</th>\n",
       "      <th>septiembre</th>\n",
       "      <th>octubre</th>\n",
       "      <th>noviembre</th>\n",
       "      <th>diciembre</th>\n",
       "    </tr>\n",
       "  </thead>\n",
       "  <tbody>\n",
       "    <tr>\n",
       "      <th>0</th>\n",
       "      <td>Alhué</td>\n",
       "      <td>2020</td>\n",
       "      <td>4.0</td>\n",
       "      <td>4.0</td>\n",
       "      <td>7.0</td>\n",
       "      <td>3.0</td>\n",
       "      <td>2.0</td>\n",
       "      <td>NaN</td>\n",
       "      <td>NaN</td>\n",
       "      <td>NaN</td>\n",
       "      <td>NaN</td>\n",
       "      <td>NaN</td>\n",
       "      <td>NaN</td>\n",
       "      <td>NaN</td>\n",
       "    </tr>\n",
       "    <tr>\n",
       "      <th>1</th>\n",
       "      <td>Alhué</td>\n",
       "      <td>2019</td>\n",
       "      <td>2.0</td>\n",
       "      <td>NaN</td>\n",
       "      <td>5.0</td>\n",
       "      <td>3.0</td>\n",
       "      <td>2.0</td>\n",
       "      <td>6.0</td>\n",
       "      <td>2.0</td>\n",
       "      <td>NaN</td>\n",
       "      <td>4.0</td>\n",
       "      <td>3.0</td>\n",
       "      <td>4.0</td>\n",
       "      <td>5.0</td>\n",
       "    </tr>\n",
       "    <tr>\n",
       "      <th>2</th>\n",
       "      <td>Alhué</td>\n",
       "      <td>2018</td>\n",
       "      <td>1.0</td>\n",
       "      <td>2.0</td>\n",
       "      <td>2.0</td>\n",
       "      <td>8.0</td>\n",
       "      <td>1.0</td>\n",
       "      <td>5.0</td>\n",
       "      <td>1.0</td>\n",
       "      <td>4.0</td>\n",
       "      <td>8.0</td>\n",
       "      <td>6.0</td>\n",
       "      <td>3.0</td>\n",
       "      <td>NaN</td>\n",
       "    </tr>\n",
       "    <tr>\n",
       "      <th>3</th>\n",
       "      <td>Alhué</td>\n",
       "      <td>2017</td>\n",
       "      <td>3.0</td>\n",
       "      <td>4.0</td>\n",
       "      <td>2.0</td>\n",
       "      <td>4.0</td>\n",
       "      <td>3.0</td>\n",
       "      <td>3.0</td>\n",
       "      <td>1.0</td>\n",
       "      <td>2.0</td>\n",
       "      <td>6.0</td>\n",
       "      <td>1.0</td>\n",
       "      <td>2.0</td>\n",
       "      <td>2.0</td>\n",
       "    </tr>\n",
       "    <tr>\n",
       "      <th>4</th>\n",
       "      <td>Alhué</td>\n",
       "      <td>2016</td>\n",
       "      <td>5.0</td>\n",
       "      <td>NaN</td>\n",
       "      <td>1.0</td>\n",
       "      <td>2.0</td>\n",
       "      <td>1.0</td>\n",
       "      <td>3.0</td>\n",
       "      <td>4.0</td>\n",
       "      <td>2.0</td>\n",
       "      <td>1.0</td>\n",
       "      <td>4.0</td>\n",
       "      <td>5.0</td>\n",
       "      <td>4.0</td>\n",
       "    </tr>\n",
       "  </tbody>\n",
       "</table>\n",
       "</div>"
      ],
      "text/plain": [
       "   comuna   año  enero  febrero  marzo  abril  mayo  junio  julio  agosto  \\\n",
       "0  Alhué  2020    4.0      4.0    7.0    3.0   2.0    NaN    NaN     NaN   \n",
       "1  Alhué  2019    2.0      NaN    5.0    3.0   2.0    6.0    2.0     NaN   \n",
       "2  Alhué  2018    1.0      2.0    2.0    8.0   1.0    5.0    1.0     4.0   \n",
       "3  Alhué  2017    3.0      4.0    2.0    4.0   3.0    3.0    1.0     2.0   \n",
       "4  Alhué  2016    5.0      NaN    1.0    2.0   1.0    3.0    4.0     2.0   \n",
       "\n",
       "   septiembre  octubre  noviembre  diciembre  \n",
       "0         NaN      NaN        NaN        NaN  \n",
       "1         4.0      3.0        4.0        5.0  \n",
       "2         8.0      6.0        3.0        NaN  \n",
       "3         6.0      1.0        2.0        2.0  \n",
       "4         1.0      4.0        5.0        4.0  "
      ]
     },
     "execution_count": 2,
     "metadata": {},
     "output_type": "execute_result"
    }
   ],
   "source": [
    "deaths_file = 'https://raw.githubusercontent.com/jorgeperezrojas/covid19-data/master/csv/muertes_deis/muertes_deis_rm.csv'\n",
    "deaths_data = pd.read_csv(deaths_file)\n",
    "deaths_data.head()"
   ]
  },
  {
   "cell_type": "markdown",
   "metadata": {},
   "source": [
    "Queremos ver la evolución del número de personas fallecidas en el tiempo, para lo cual nos enfocaremos en una sóla comuna."
   ]
  },
  {
   "cell_type": "code",
   "execution_count": 3,
   "metadata": {},
   "outputs": [
    {
     "data": {
      "text/html": [
       "<div>\n",
       "<style scoped>\n",
       "    .dataframe tbody tr th:only-of-type {\n",
       "        vertical-align: middle;\n",
       "    }\n",
       "\n",
       "    .dataframe tbody tr th {\n",
       "        vertical-align: top;\n",
       "    }\n",
       "\n",
       "    .dataframe thead th {\n",
       "        text-align: right;\n",
       "    }\n",
       "</style>\n",
       "<table border=\"1\" class=\"dataframe\">\n",
       "  <thead>\n",
       "    <tr style=\"text-align: right;\">\n",
       "      <th></th>\n",
       "      <th>enero</th>\n",
       "      <th>febrero</th>\n",
       "      <th>marzo</th>\n",
       "      <th>abril</th>\n",
       "      <th>mayo</th>\n",
       "      <th>junio</th>\n",
       "      <th>julio</th>\n",
       "      <th>agosto</th>\n",
       "      <th>septiembre</th>\n",
       "      <th>octubre</th>\n",
       "      <th>noviembre</th>\n",
       "      <th>diciembre</th>\n",
       "    </tr>\n",
       "    <tr>\n",
       "      <th>año</th>\n",
       "      <th></th>\n",
       "      <th></th>\n",
       "      <th></th>\n",
       "      <th></th>\n",
       "      <th></th>\n",
       "      <th></th>\n",
       "      <th></th>\n",
       "      <th></th>\n",
       "      <th></th>\n",
       "      <th></th>\n",
       "      <th></th>\n",
       "      <th></th>\n",
       "    </tr>\n",
       "  </thead>\n",
       "  <tbody>\n",
       "    <tr>\n",
       "      <th>2020</th>\n",
       "      <td>66.0</td>\n",
       "      <td>54.0</td>\n",
       "      <td>86.0</td>\n",
       "      <td>75.0</td>\n",
       "      <td>154.0</td>\n",
       "      <td>NaN</td>\n",
       "      <td>NaN</td>\n",
       "      <td>NaN</td>\n",
       "      <td>NaN</td>\n",
       "      <td>NaN</td>\n",
       "      <td>NaN</td>\n",
       "      <td>NaN</td>\n",
       "    </tr>\n",
       "    <tr>\n",
       "      <th>2019</th>\n",
       "      <td>64.0</td>\n",
       "      <td>78.0</td>\n",
       "      <td>60.0</td>\n",
       "      <td>83.0</td>\n",
       "      <td>76.0</td>\n",
       "      <td>97.0</td>\n",
       "      <td>95.0</td>\n",
       "      <td>84.0</td>\n",
       "      <td>85.0</td>\n",
       "      <td>66.0</td>\n",
       "      <td>83.0</td>\n",
       "      <td>52.0</td>\n",
       "    </tr>\n",
       "    <tr>\n",
       "      <th>2018</th>\n",
       "      <td>70.0</td>\n",
       "      <td>61.0</td>\n",
       "      <td>67.0</td>\n",
       "      <td>59.0</td>\n",
       "      <td>99.0</td>\n",
       "      <td>84.0</td>\n",
       "      <td>83.0</td>\n",
       "      <td>103.0</td>\n",
       "      <td>90.0</td>\n",
       "      <td>77.0</td>\n",
       "      <td>76.0</td>\n",
       "      <td>75.0</td>\n",
       "    </tr>\n",
       "    <tr>\n",
       "      <th>2017</th>\n",
       "      <td>76.0</td>\n",
       "      <td>58.0</td>\n",
       "      <td>62.0</td>\n",
       "      <td>65.0</td>\n",
       "      <td>90.0</td>\n",
       "      <td>87.0</td>\n",
       "      <td>99.0</td>\n",
       "      <td>93.0</td>\n",
       "      <td>85.0</td>\n",
       "      <td>74.0</td>\n",
       "      <td>65.0</td>\n",
       "      <td>76.0</td>\n",
       "    </tr>\n",
       "    <tr>\n",
       "      <th>2016</th>\n",
       "      <td>67.0</td>\n",
       "      <td>71.0</td>\n",
       "      <td>77.0</td>\n",
       "      <td>69.0</td>\n",
       "      <td>87.0</td>\n",
       "      <td>80.0</td>\n",
       "      <td>94.0</td>\n",
       "      <td>98.0</td>\n",
       "      <td>91.0</td>\n",
       "      <td>54.0</td>\n",
       "      <td>61.0</td>\n",
       "      <td>63.0</td>\n",
       "    </tr>\n",
       "  </tbody>\n",
       "</table>\n",
       "</div>"
      ],
      "text/plain": [
       "      enero  febrero  marzo  abril   mayo  junio  julio  agosto  septiembre  \\\n",
       "año                                                                           \n",
       "2020   66.0     54.0   86.0   75.0  154.0    NaN    NaN     NaN         NaN   \n",
       "2019   64.0     78.0   60.0   83.0   76.0   97.0   95.0    84.0        85.0   \n",
       "2018   70.0     61.0   67.0   59.0   99.0   84.0   83.0   103.0        90.0   \n",
       "2017   76.0     58.0   62.0   65.0   90.0   87.0   99.0    93.0        85.0   \n",
       "2016   67.0     71.0   77.0   69.0   87.0   80.0   94.0    98.0        91.0   \n",
       "\n",
       "      octubre  noviembre  diciembre  \n",
       "año                                  \n",
       "2020      NaN        NaN        NaN  \n",
       "2019     66.0       83.0       52.0  \n",
       "2018     77.0       76.0       75.0  \n",
       "2017     74.0       65.0       76.0  \n",
       "2016     54.0       61.0       63.0  "
      ]
     },
     "execution_count": 3,
     "metadata": {},
     "output_type": "execute_result"
    }
   ],
   "source": [
    "comuna = \"Cerro Navia\"\n",
    "data = (\n",
    "    deaths_data[deaths_data['comuna'] == comuna]\n",
    "        .drop(['comuna'], axis=1)\n",
    "        .set_index('año')\n",
    ")\n",
    "data.head()"
   ]
  },
  {
   "cell_type": "markdown",
   "metadata": {},
   "source": [
    "Lo más intuitivo (fijación de diseño) es graficarlas como líneas. Para eso, graficaremos cada año por separado."
   ]
  },
  {
   "cell_type": "code",
   "execution_count": null,
   "metadata": {},
   "outputs": [],
   "source": [
    "fig, ax = plt.subplots(1,1, figsize=(16,8))\n",
    "\n",
    "for year in data.index:\n",
    "    data.loc[year].plot.line(ax=ax)\n",
    "    \n",
    "plt.show()"
   ]
  },
  {
   "cell_type": "markdown",
   "metadata": {},
   "source": [
    "Hay varias cosas que tenemos que arreglar para hacer el gráfico más legible. Por ejemplo, los ticks del eje x no están bien posicionados, no sabemos que año corresponder a que año, entre otros."
   ]
  },
  {
   "cell_type": "code",
   "execution_count": null,
   "metadata": {},
   "outputs": [],
   "source": [
    "fig, ax = plt.subplots(1,1, figsize=(16,8))\n",
    "\n",
    "for year in data.index:\n",
    "    data.loc[year].plot.line(ax=ax)\n",
    "    \n",
    "ax.set_xlim(0, 11)\n",
    "ax.set_xticks(np.arange(0, 12))\n",
    "ax.set_xticklabels(data.keys())\n",
    "ax.set_ylabel(\"Número de muertes\")\n",
    "ax.legend(ncol=2)\n",
    "    \n",
    "plt.show()"
   ]
  },
  {
   "cell_type": "markdown",
   "metadata": {},
   "source": [
    "*Paréntesis*: con la función `ax.set()` nos podemos ahorrar algo de sintaxis."
   ]
  },
  {
   "cell_type": "code",
   "execution_count": null,
   "metadata": {},
   "outputs": [],
   "source": [
    "fig, ax = plt.subplots(1,1, figsize=(16,8))\n",
    "\n",
    "for year in data.index:\n",
    "    data.loc[year].plot.line(ax=ax)\n",
    "    \n",
    "ax.set(xlim=(0,11),\n",
    "       xticks=np.arange(0, 12),\n",
    "       xticklabels = data.keys(),\n",
    "       ylabel=\"Número de muertes\")\n",
    "ax.legend(ncol=2)\n",
    "    \n",
    "plt.show()"
   ]
  },
  {
   "cell_type": "markdown",
   "metadata": {},
   "source": [
    "La distinción entre diferentes años sigue siendo confuso. Una solución es usar una escala o un mapa de colores secuencial que le asisgne un color distinto a cada año y que a la vez haga sencillo seguir la evolución entre años."
   ]
  },
  {
   "cell_type": "code",
   "execution_count": null,
   "metadata": {},
   "outputs": [],
   "source": [
    "from matplotlib import cm\n",
    "from matplotlib.colors import Normalize"
   ]
  },
  {
   "cell_type": "markdown",
   "metadata": {},
   "source": [
    "Definimos una función para calcular el color de cada línea. Para eso tenemos que normalizar los años, ya que la escala de colores recibe un argumento entre 0 y 1."
   ]
  },
  {
   "cell_type": "code",
   "execution_count": null,
   "metadata": {},
   "outputs": [],
   "source": [
    "min_year = data.index.min()\n",
    "max_year = data.index.max()\n",
    "    \n",
    "viridis = cm.get_cmap('viridis')\n",
    "norm = Normalize(vmin=min_year, vmax=max_year)\n",
    "\n",
    "# Function that returns the color for a given year\n",
    "def get_color(yr):\n",
    "    color_number = (yr - min_year) / (max_year - min_year)\n",
    "    return viridis(color_number)"
   ]
  },
  {
   "cell_type": "markdown",
   "metadata": {},
   "source": [
    "Ahora el gráfico se hace un poco más legible."
   ]
  },
  {
   "cell_type": "code",
   "execution_count": null,
   "metadata": {},
   "outputs": [],
   "source": [
    "fig, ax = plt.subplots(1,1, figsize=(16,8))\n",
    "\n",
    "for year in data.index:\n",
    "    data.loc[year].plot.line(ax=ax, c=get_color(year))\n",
    "    \n",
    "ax.set(xlim=(0,11),\n",
    "       xticks=np.arange(0, 12),\n",
    "       xticklabels = data.keys(),\n",
    "       ylabel=\"Número de muertes\")\n",
    "# ax.legend(ncol=2)\n",
    "cbar = fig.colorbar(cm.ScalarMappable(norm=norm, cmap='viridis'), ax=ax)\n",
    "    \n",
    "plt.show()"
   ]
  },
  {
   "cell_type": "markdown",
   "metadata": {},
   "source": [
    "¿Hay alguna forma mejor de visualizar estos datos? Depende mucho de la intención y de lo que queremos transmitir con nuestros gráficos. En el caso anterior es muy fácil distinguir el aumento de fallecimientos en el años 2020 y un leve aumento cada año durante invierno, lo que es esperable. Dicho esto, veamos otra forma de graficarlos y comparemos."
   ]
  },
  {
   "cell_type": "code",
   "execution_count": null,
   "metadata": {},
   "outputs": [],
   "source": [
    "import seaborn as sns"
   ]
  },
  {
   "cell_type": "markdown",
   "metadata": {},
   "source": [
    "Ocuparemos algo que se llama \"heatmap\" o mapa de calor. Ocuparemos la configuración por defecto por ahora."
   ]
  },
  {
   "cell_type": "code",
   "execution_count": null,
   "metadata": {},
   "outputs": [],
   "source": [
    "fig, ax = plt.subplots(1,1, figsize=(20,8))\n",
    "sns.heatmap(data, ax=ax)\n",
    "plt.show()"
   ]
  },
  {
   "cell_type": "markdown",
   "metadata": {},
   "source": [
    "Cambiemos el mapa de color para dejar en oscuro un número mayor de fallecimientos. (¿Hay alguna intención en esa elección de colores?"
   ]
  },
  {
   "cell_type": "code",
   "execution_count": null,
   "metadata": {},
   "outputs": [],
   "source": [
    "fig, ax = plt.subplots(1,1, figsize=(20,8))\n",
    "sns.heatmap(data, ax=ax, cmap='YlGnBu')\n",
    "plt.show()"
   ]
  },
  {
   "cell_type": "markdown",
   "metadata": {},
   "source": [
    "¡Grafiquemos todas las columnas ahora para explorar los datos!"
   ]
  },
  {
   "cell_type": "code",
   "execution_count": null,
   "metadata": {},
   "outputs": [],
   "source": [
    "def plot_comuna(comuna, ax):\n",
    "    data = (\n",
    "        deaths_data[deaths_data['comuna'] == comuna]\n",
    "            .drop(['comuna'], axis=1)\n",
    "            .set_index('año')\n",
    "        )\n",
    "    sns.heatmap(data, ax=ax, cmap='YlGnBu', xticklabels=3, yticklabels=False)\n",
    "    ax.set_title(comuna, fontsize=24)"
   ]
  },
  {
   "cell_type": "code",
   "execution_count": null,
   "metadata": {},
   "outputs": [],
   "source": [
    "comunas = deaths_data['comuna'].unique()\n",
    "comunas"
   ]
  },
  {
   "cell_type": "code",
   "execution_count": null,
   "metadata": {},
   "outputs": [],
   "source": [
    "ncomunas = len(comunas)\n",
    "cols = 4\n",
    "rows = int(ncomunas/cols)"
   ]
  },
  {
   "cell_type": "code",
   "execution_count": null,
   "metadata": {},
   "outputs": [],
   "source": [
    "fig, ax = plt.subplots(rows, cols, figsize=(40,60))\n",
    "\n",
    "for idx_comuna, comuna in enumerate(comunas):\n",
    "    row = int(idx_comuna / cols)\n",
    "    col = idx_comuna % cols\n",
    "    plot_comuna(comuna, ax[row][col])\n",
    "    \n",
    "fig.tight_layout()"
   ]
  },
  {
   "cell_type": "markdown",
   "metadata": {},
   "source": [
    "Podemos elegir la misma escala de colores para todas las comunas para hacer más fácil la comparación entre ellas, pero en ese caso el mensaje que se transmite es totalmente distinto."
   ]
  },
  {
   "cell_type": "code",
   "execution_count": null,
   "metadata": {},
   "outputs": [],
   "source": [
    "def plot_comuna(comuna, ax):\n",
    "    data = (\n",
    "        deaths_data[deaths_data['comuna'] == comuna]\n",
    "            .drop(['comuna'], axis=1)\n",
    "            .set_index('año')\n",
    "        )\n",
    "    sns.heatmap(data, ax=ax, cmap='YlGnBu', xticklabels=3, yticklabels=False, vmin=0, vmax=310)\n",
    "    ax.set_title(comuna, fontsize=24)\n",
    "    \n",
    "fig, ax = plt.subplots(rows, cols, figsize=(40,60))\n",
    "\n",
    "for idx_comuna, comuna in enumerate(comunas):\n",
    "    row = int(idx_comuna / cols)\n",
    "    col = idx_comuna % cols\n",
    "    plot_comuna(comuna, ax[row][col])\n",
    "    \n",
    "fig.tight_layout()"
   ]
  },
  {
   "cell_type": "markdown",
   "metadata": {},
   "source": [
    "Ahora el color grafica el número de fallecidos, no el año. Esto hace notar patrones de forma más fácil. Ambas visualizaciones son válidas, pero comunican mensajes diferentes y buscan un objetivo distinto."
   ]
  },
  {
   "cell_type": "markdown",
   "metadata": {},
   "source": [
    "Hablando de heatmaps, probemos uno más. Este se basa en datos de la Encuesta Origen Destino sacados de https://github.com/zorzalerrante/."
   ]
  },
  {
   "cell_type": "code",
   "execution_count": null,
   "metadata": {},
   "outputs": [],
   "source": [
    "viajes_persona = pd.read_csv('https://raw.githubusercontent.com/fbecerra/dataexperiments/master/data/eod_processed.csv')\n",
    "viajes_persona.head()"
   ]
  },
  {
   "cell_type": "markdown",
   "metadata": {},
   "source": [
    "Queremos graficar el flujo de viajes entre comunas."
   ]
  },
  {
   "cell_type": "code",
   "execution_count": null,
   "metadata": {},
   "outputs": [],
   "source": [
    "from sklearn.preprocessing import normalize\n",
    "\n",
    "def normalize_rows(df):\n",
    "    df = pd.DataFrame(normalize(df, norm='l1'), index=df.index, columns=df.columns)\n",
    "    return df\n",
    "\n",
    "def normalize_columns(df):\n",
    "    df = pd.DataFrame(normalize(df, norm='l1', axis=0), index=df.index, columns=df.columns)\n",
    "    return df"
   ]
  },
  {
   "cell_type": "code",
   "execution_count": null,
   "metadata": {},
   "outputs": [],
   "source": [
    "flujos = (viajes_persona[pd.notnull(viajes_persona.PesoLaboral) &\n",
    "                         (viajes_persona.PropositoAgregado.isin(['Estudio', 'Trabajo']))]\n",
    "          .groupby(['ComunaOrigen', 'ComunaDestino'])\n",
    "          .agg(n_viajes=('PesoLaboral', 'sum'))\n",
    "          ['n_viajes'].unstack(fill_value=0)\n",
    "          .pipe(normalize_rows))\n",
    "\n",
    "flujos.sample(3)"
   ]
  },
  {
   "cell_type": "code",
   "execution_count": null,
   "metadata": {},
   "outputs": [],
   "source": [
    "plt.figure(figsize=(14, 14))\n",
    "sns.heatmap(flujos, cmap='magma_r', square=True, linewidths=1, \n",
    "            cbar_kws={'shrink': 0.4, 'label': 'Fracción de Viajes'})\n",
    "plt.xlabel('Comuna de Destino')\n",
    "plt.ylabel('Comuna de Origen')\n",
    "plt.title('Matriz Origen-Destino de Viajes (día laboral, al estudio / al trabajo)')\n",
    "plt.show()"
   ]
  },
  {
   "cell_type": "markdown",
   "metadata": {},
   "source": [
    "# Usando buenas prácticas para mejorar una visualización"
   ]
  },
  {
   "cell_type": "markdown",
   "metadata": {},
   "source": [
    "En esta parte nos enfocaremos en usar buenas prácticas de la visualización de datos para comunicar nuestro mensaje de mejro formar. Ocuparemos datos relativamente sencillos de personas inscritas en los partídos políticos chilenos por sexo."
   ]
  },
  {
   "cell_type": "code",
   "execution_count": null,
   "metadata": {},
   "outputs": [],
   "source": [
    "path = 'https://raw.githubusercontent.com/fbecerra/dataexperiments/master/data/afiliados_partidos_politicos.csv'\n",
    "df = pd.read_csv(path)\n",
    "df.head()\n"
   ]
  },
  {
   "cell_type": "markdown",
   "metadata": {},
   "source": [
    "Calculamos los porcentajes"
   ]
  },
  {
   "cell_type": "code",
   "execution_count": null,
   "metadata": {},
   "outputs": [],
   "source": [
    "df['Partido'] = df['Partido'].str.title()\n",
    "df['Total'] = df['Mujeres'] + df['Hombres']\n",
    "df['Mujeres (%)'] = df['Mujeres'] / df['Total'] * 100\n",
    "df['Hombres (%)'] = df['Hombres'] / df['Total'] * 100\n",
    "df.set_index('Partido', inplace=True)\n",
    "df.head()"
   ]
  },
  {
   "cell_type": "markdown",
   "metadata": {},
   "source": [
    "Comenzamos por hacer un gráfico básico de barras"
   ]
  },
  {
   "cell_type": "code",
   "execution_count": null,
   "metadata": {},
   "outputs": [],
   "source": [
    "percents = ['Mujeres (%)', 'Hombres (%)']\n",
    "ax = df[percents].plot.barh()"
   ]
  },
  {
   "cell_type": "markdown",
   "metadata": {},
   "source": [
    "Usemos una variante conocida como \"stack\" para poner una barra sobre la otra (o al lado de otra en este caso)"
   ]
  },
  {
   "cell_type": "code",
   "execution_count": null,
   "metadata": {},
   "outputs": [],
   "source": [
    "ax = df[percents].plot.barh(stacked=True, figsize=(10, 12))"
   ]
  },
  {
   "cell_type": "markdown",
   "metadata": {},
   "source": [
    "¿Qué cosas se pueden mejorar de esta visualización? El ancho de las barras, la ubicación de la leyenda, limpiar los nombres de los ejes, y otras cosas más. Iremos paso a paso y partiremos por arreglar el ancho de las barras, los límites del eje y, y la leyenda."
   ]
  },
  {
   "cell_type": "code",
   "execution_count": null,
   "metadata": {},
   "outputs": [],
   "source": [
    "ax = df[percents].plot.barh(stacked=True, figsize=(10, 12), legend=False, width=0.9, alpha=0.9, xlim=(0, 100))"
   ]
  },
  {
   "cell_type": "markdown",
   "metadata": {},
   "source": [
    "Para que se vea mejor, ordenaremos los datos en base al porcentaje de mujeres inscritas en cada partido. Ahora ya estamos haciendo elecciones conscientes de qué y cómo visualizar nuestros datos para comunicar un mensaje."
   ]
  },
  {
   "cell_type": "code",
   "execution_count": null,
   "metadata": {},
   "outputs": [],
   "source": [
    "df_sorted = df[percents].sort_values(by=percents[0], ascending=False)\n",
    "ax = df_sorted.plot.barh(stacked=True, figsize=(10, 12), legend=False, width=0.9, alpha=0.9, xlim=(0, 100))"
   ]
  },
  {
   "cell_type": "markdown",
   "metadata": {},
   "source": [
    "Ahora eliminemos los border de la caja que no agregan nada"
   ]
  },
  {
   "cell_type": "code",
   "execution_count": null,
   "metadata": {},
   "outputs": [],
   "source": [
    "def hide_border(ax):\n",
    "    ax.spines['bottom'].set_visible(False)\n",
    "    ax.spines['left'].set_visible(False)\n",
    "    ax.spines['right'].set_visible(False)\n",
    "    ax.spines['top'].set_visible(False)"
   ]
  },
  {
   "cell_type": "code",
   "execution_count": null,
   "metadata": {},
   "outputs": [],
   "source": [
    "ax = df_sorted.plot.barh(stacked=True, figsize=(10, 12), legend=False, width=0.9, alpha=0.9, xlim=(0, 100))\n",
    "hide_border(ax)"
   ]
  },
  {
   "cell_type": "markdown",
   "metadata": {},
   "source": [
    "Lo mismo con las marcas de los ejes"
   ]
  },
  {
   "cell_type": "code",
   "execution_count": null,
   "metadata": {},
   "outputs": [],
   "source": [
    "ax = df_sorted.plot.barh(stacked=True, figsize=(10, 12), legend=False, width=0.9, alpha=0.9, xlim=(0, 100))\n",
    "hide_border(ax)\n",
    "ax.tick_params(axis=u'both', which=u'both', length=0)"
   ]
  },
  {
   "cell_type": "markdown",
   "metadata": {},
   "source": [
    "Borramos el nombre del eje y que no ayuda mucho, pero agregamos esa información en el título del gráfico para que no se pierda"
   ]
  },
  {
   "cell_type": "code",
   "execution_count": null,
   "metadata": {},
   "outputs": [],
   "source": [
    "ax = df_sorted.plot.barh(stacked=True, figsize=(10, 12), legend=False, width=0.9, alpha=0.9, xlim=(0, 100))\n",
    "hide_border(ax)\n",
    "ax.tick_params(axis=u'both', which=u'both', length=0)\n",
    "ax.set_ylabel('')\n",
    "ax.set_title(\"Porcentaje de personas inscritas en partidos políticos por sexo\")\n",
    "ax.title.set_position([.3, 1.03])\n",
    "\n",
    "plt.show()"
   ]
  },
  {
   "cell_type": "markdown",
   "metadata": {},
   "source": [
    "Agregamos unos textos para indicar qué es lo que estamos gráficando. Esto viene a reemplazar la leyenda que ya borramos."
   ]
  },
  {
   "cell_type": "code",
   "execution_count": null,
   "metadata": {},
   "outputs": [],
   "source": [
    "fontsize=12\n",
    "\n",
    "ax = df_sorted.plot.barh(stacked=True, figsize=(10, 12), legend=False, width=0.9, alpha=0.9, xlim=(0, 100))\n",
    "hide_border(ax)\n",
    "ax.tick_params(axis=u'both', which=u'both', length=0)\n",
    "ax.set_ylabel('')\n",
    "ax.set_title(\"Porcentaje de personas inscritas en partidos políticos por sexo\")\n",
    "ax.title.set_position([.3, 1.03])\n",
    "ax.text(0, df_sorted.shape[0]-0.3, percents[0], fontsize=fontsize)\n",
    "ax.text(85, df_sorted.shape[0]-0.3, percents[1], fontsize=fontsize)\n",
    "\n",
    "plt.show()"
   ]
  },
  {
   "cell_type": "markdown",
   "metadata": {},
   "source": [
    "Agregamos espacio al título"
   ]
  },
  {
   "cell_type": "code",
   "execution_count": null,
   "metadata": {},
   "outputs": [],
   "source": [
    "fontsize=12\n",
    "\n",
    "ax = df_sorted.plot.barh(stacked=True, figsize=(10, 12), legend=False, width=0.9, alpha=0.9, xlim=(0, 100))\n",
    "hide_border(ax)\n",
    "ax.tick_params(axis=u'both', which=u'both', length=0)\n",
    "ax.set_ylabel('')\n",
    "ax.set_title(\"Porcentaje de personas inscritas en partidos políticos por sexo\", pad=24)\n",
    "ax.title.set_position([.3, 1.03])\n",
    "ax.text(0, df_sorted.shape[0]-0.3, percents[0], fontsize=fontsize)\n",
    "ax.text(85, df_sorted.shape[0]-0.3, percents[1], fontsize=fontsize)\n",
    "\n",
    "plt.show()"
   ]
  },
  {
   "cell_type": "markdown",
   "metadata": {},
   "source": [
    "De momeno hemos ocupado los colores que matplotlib usa por defecto, pero ¿cuál es el problema con eso? Es mejor hacer una elección consciene de qué color ocuparemos y para qué, de esta forma también nos permite hacer conexiones entre, por ejemplo, las barras y la leyenda."
   ]
  },
  {
   "cell_type": "code",
   "execution_count": null,
   "metadata": {},
   "outputs": [],
   "source": [
    "fontsize=12\n",
    "colors = ['#ff7f00', '#377eb8']\n",
    "\n",
    "ax = df_sorted.plot.barh(stacked=True, figsize=(10, 12), legend=False, width=0.9, alpha=0.9, xlim=(0, 100),\n",
    "                        color=colors)\n",
    "hide_border(ax)\n",
    "ax.tick_params(axis=u'both', which=u'both', length=0)\n",
    "ax.set_ylabel('')\n",
    "ax.set_title(\"Porcentaje de personas inscritas en partidos políticos por sexo\", pad=24)\n",
    "ax.title.set_position([.3, 1.03])\n",
    "ax.text(0, df_sorted.shape[0]-0.3, percents[0], color=colors[0], fontsize=fontsize)\n",
    "ax.text(85, df_sorted.shape[0]-0.3, percents[1], color=colors[1], fontsize=fontsize)\n",
    "\n",
    "plt.show()"
   ]
  },
  {
   "cell_type": "markdown",
   "metadata": {},
   "source": [
    "También resaltamos el título para que no se pierda entre el resto del gráfico."
   ]
  },
  {
   "cell_type": "code",
   "execution_count": null,
   "metadata": {},
   "outputs": [],
   "source": [
    "fontsize=12\n",
    "colors = ['#ff7f00', '#377eb8']\n",
    "\n",
    "ax = df_sorted.plot.barh(stacked=True, figsize=(10, 12), legend=False, width=0.9, alpha=0.9, xlim=(0, 100),\n",
    "                        color=colors)\n",
    "hide_border(ax)\n",
    "ax.tick_params(axis=u'both', which=u'both', length=0)\n",
    "ax.set_ylabel('')\n",
    "ax.set_title(\"Porcentaje de personas inscritas en partidos políticos por sexo\", pad=24, fontweight=700)\n",
    "ax.title.set_position([.3, 1.03])\n",
    "ax.text(0, df_sorted.shape[0]-0.3, percents[0], color=colors[0], fontsize=fontsize)\n",
    "ax.text(85, df_sorted.shape[0]-0.3, percents[1], color=colors[1], fontsize=fontsize)\n",
    "\n",
    "plt.show()"
   ]
  },
  {
   "cell_type": "markdown",
   "metadata": {},
   "source": [
    "Adicionalmente, si queremos comunicar los valores exactos de cada porcentaje, podemos agregarlos como texto dentro de las mismas barras, y con eso también podemos deshacernos de los ticks del eje x"
   ]
  },
  {
   "cell_type": "code",
   "execution_count": null,
   "metadata": {},
   "outputs": [],
   "source": [
    "fontsize=12\n",
    "colors = ['#ff7f00', '#377eb8']\n",
    "\n",
    "ax = df_sorted.plot.barh(stacked=True, figsize=(10, 12), legend=False, width=0.9, alpha=0.9, xlim=(0, 100),\n",
    "                        color=colors)\n",
    "hide_border(ax)\n",
    "ax.tick_params(axis=u'both', which=u'both', length=0)\n",
    "ax.set_ylabel('')\n",
    "ax.set_title(\"Porcentaje de personas inscritas en partidos políticos por sexo\", pad=24, fontweight=700)\n",
    "ax.title.set_position([.3, 1.03])\n",
    "ax.text(0, df_sorted.shape[0]-0.3, percents[0], color=colors[0], fontsize=fontsize)\n",
    "ax.text(85, df_sorted.shape[0]-0.3, percents[1], color=colors[1], fontsize=fontsize)\n",
    "\n",
    "ax.xaxis.set_ticks([])\n",
    "for p in ax.patches:\n",
    "    if p.xy[0] == 0:\n",
    "        xpos = 2\n",
    "    else:\n",
    "        xpos = 93\n",
    "    ax.annotate(str(int(round(p.get_width()))) + \"%\", (xpos, p.xy[1] + 0.3), color='white', fontsize=fontsize)\n",
    "\n",
    "plt.show()"
   ]
  },
  {
   "cell_type": "markdown",
   "metadata": {},
   "source": [
    "El enfoque de este gráfico puede cambiar totalmente si elegimos otros colores."
   ]
  },
  {
   "cell_type": "code",
   "execution_count": null,
   "metadata": {},
   "outputs": [],
   "source": [
    "\n",
    "fontsize=12\n",
    "colors = ['#ff7f00', '#d3d3d3']\n",
    "\n",
    "ax = df_sorted.plot.barh(stacked=True, figsize=(10, 12), legend=False, width=0.9, alpha=0.9, xlim=(0, 100),\n",
    "                        color=colors)\n",
    "hide_border(ax)\n",
    "ax.tick_params(axis=u'both', which=u'both', length=0)\n",
    "ax.set_ylabel('')\n",
    "ax.set_title(\"Porcentaje de personas inscritas en partidos políticos por sexo\", pad=24, fontweight=700)\n",
    "ax.title.set_position([.3, 1.03])\n",
    "ax.text(0, df_sorted.shape[0]-0.3, percents[0], color=colors[0], fontsize=fontsize)\n",
    "ax.text(85, df_sorted.shape[0]-0.3, percents[1], color=colors[1], fontsize=fontsize)\n",
    "\n",
    "ax.xaxis.set_ticks([])\n",
    "for p in ax.patches:\n",
    "    if p.xy[0] == 0:\n",
    "        xpos = 2\n",
    "    else:\n",
    "        xpos = 93\n",
    "    ax.annotate(str(int(round(p.get_width()))) + \"%\", (xpos, p.xy[1] + 0.3), color='white', fontsize=fontsize)\n",
    "\n",
    "plt.show()"
   ]
  },
  {
   "cell_type": "markdown",
   "metadata": {},
   "source": [
    "Hay muchas otras cosas que se pueden seguir mejorando. En particular, uno hace este tipo de elecciones (cómo ordenar los datos, qué colores usar, qué título ocupar) pensando en el mensaje que uno quiere comunicar."
   ]
  },
  {
   "cell_type": "code",
   "execution_count": null,
   "metadata": {},
   "outputs": [],
   "source": []
  }
 ],
 "metadata": {
  "kernelspec": {
   "display_name": "Python 3 (ipykernel)",
   "language": "python",
   "name": "python3"
  },
  "language_info": {
   "codemirror_mode": {
    "name": "ipython",
    "version": 3
   },
   "file_extension": ".py",
   "mimetype": "text/x-python",
   "name": "python",
   "nbconvert_exporter": "python",
   "pygments_lexer": "ipython3",
   "version": "3.9.12"
  }
 },
 "nbformat": 4,
 "nbformat_minor": 4
}
