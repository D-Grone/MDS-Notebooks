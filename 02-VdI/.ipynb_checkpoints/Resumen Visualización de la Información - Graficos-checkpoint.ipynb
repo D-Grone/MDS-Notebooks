{
 "cells": [
  {
   "cell_type": "markdown",
   "id": "8e5fd7ec",
   "metadata": {},
   "source": [
    "# Importacion de Librerias y Funciones"
   ]
  },
  {
   "cell_type": "code",
   "execution_count": 1,
   "id": "167e1f90",
   "metadata": {},
   "outputs": [
    {
     "ename": "ModuleNotFoundError",
     "evalue": "No module named 'squarify'",
     "output_type": "error",
     "traceback": [
      "\u001b[1;31m---------------------------------------------------------------------------\u001b[0m",
      "\u001b[1;31mModuleNotFoundError\u001b[0m                       Traceback (most recent call last)",
      "Input \u001b[1;32mIn [1]\u001b[0m, in \u001b[0;36m<cell line: 12>\u001b[1;34m()\u001b[0m\n\u001b[0;32m     10\u001b[0m \u001b[38;5;28;01mfrom\u001b[39;00m \u001b[38;5;21;01mpandas\u001b[39;00m\u001b[38;5;21;01m.\u001b[39;00m\u001b[38;5;21;01mplotting\u001b[39;00m \u001b[38;5;28;01mimport\u001b[39;00m scatter_matrix\n\u001b[0;32m     11\u001b[0m \u001b[38;5;28;01mfrom\u001b[39;00m \u001b[38;5;21;01mmatplotlib\u001b[39;00m \u001b[38;5;28;01mimport\u001b[39;00m ticker\n\u001b[1;32m---> 12\u001b[0m \u001b[38;5;28;01mimport\u001b[39;00m \u001b[38;5;21;01msquarify\u001b[39;00m\n",
      "\u001b[1;31mModuleNotFoundError\u001b[0m: No module named 'squarify'"
     ]
    }
   ],
   "source": [
    "import matplotlib as mpl\n",
    "import matplotlib.pyplot as plt\n",
    "import numpy as np\n",
    "import pandas as pd\n",
    "import seaborn as sns\n",
    "\n",
    "from matplotlib import cm\n",
    "from matplotlib.colors import Normalize\n",
    "from pandas.plotting import parallel_coordinates  #Grafico de lineas individualizando las clases, donde eje x es una escala de valor unica, eje y las variables\n",
    "from pandas.plotting import scatter_matrix\n",
    "from matplotlib import ticker\n",
    "import squarify"
   ]
  },
  {
   "cell_type": "markdown",
   "id": "1d203f29",
   "metadata": {},
   "source": [
    "# Definición de Funciones"
   ]
  },
  {
   "cell_type": "markdown",
   "id": "bd0ba266",
   "metadata": {},
   "source": [
    " # Conceptos Básicos"
   ]
  },
  {
   "cell_type": "markdown",
   "id": "2738b813",
   "metadata": {},
   "source": [
    "## subplot()"
   ]
  },
  {
   "cell_type": "code",
   "execution_count": null,
   "id": "278f407b",
   "metadata": {},
   "outputs": [],
   "source": [
    "x = np.linspace(-5, 5, num=50)\n",
    "y = np.cos(x)"
   ]
  },
  {
   "cell_type": "code",
   "execution_count": null,
   "id": "ef42ae2e",
   "metadata": {
    "scrolled": true
   },
   "outputs": [],
   "source": [
    "fig, ax = plt.subplots()  # declara \"ax\" como un \"subplot()\" de la libreria \"plt\" que permite generar un conjunto de gráficos\n",
    "\n",
    "ax.plot(x, y, 'o-', label='coseno', color='orange')   # define el origen de las coordenadas \"x\" e \"y\", la etiqueta del gráfico y color\n",
    "ax.set_title(\"Coseno de x\") # define elnombre del gráfico\n",
    "ax.set_xlabel(\"x\")  #define la etiqueta del eje \"x\"\n",
    "ax.set_ylabel(\"y\")  #define la etiqueta del eje \"y\"\n",
    "ax.legend()  #permite visualizar la leyenda de que representa cada curva  \n",
    "\n",
    "fig.tight_layout()  # permite eliminar la descripción que aparece para los gráficos en la parte superior"
   ]
  },
  {
   "cell_type": "code",
   "execution_count": null,
   "id": "94e2a3ae",
   "metadata": {},
   "outputs": [],
   "source": [
    "z = np.sin(x)  #Declaración de segunda variable"
   ]
  },
  {
   "cell_type": "code",
   "execution_count": null,
   "id": "684660c7",
   "metadata": {},
   "outputs": [],
   "source": [
    "fig, ax = plt.subplots()\n",
    "\n",
    "ax.plot(x, y, 'o-', label='coseno', color='orange')\n",
    "ax.plot(x, z, 's--', label='seno', color='purple')  #Visualización de segunda variable en un mismo gráfico\n",
    "ax.set_title(\"Funciones trigonométricas de x\")\n",
    "ax.set_xlabel(\"x\")\n",
    "ax.set_ylabel(\"y\")\n",
    "ax.legend()\n",
    "\n",
    "fig.tight_layout()"
   ]
  },
  {
   "cell_type": "code",
   "execution_count": null,
   "id": "ba236301",
   "metadata": {
    "scrolled": true
   },
   "outputs": [],
   "source": [
    "fig, ax = plt.subplots(1, 2, figsize=(12, 4))  #Se agregan coordenadas \"1\" y \"2\" que definen el tamaños de las grilla para los gráficos\n",
    "\n",
    "ax[0].plot(x, y, \"o-\", color='orange', label='coseno')  #ax[i] Permite asignar una grilla a un determinado par de coordenadas\n",
    "ax[0].set_title(\"Coseno de x\")  #permite asigna titulo independiente para cada gráfico\n",
    "ax[0].set_xlabel(\"x\")  #permite asignar etiqueta independiente para el eje de cada gráfico\n",
    "ax[0].set_ylabel(\"y\")\n",
    "\n",
    "ax[1].plot(x, z, \"s--\", color='purple', label='seno')\n",
    "ax[1].set_title(\"Seno de x\")\n",
    "ax[1].set_xlabel(\"x\")\n",
    "ax[1].set_ylabel(\"z\")\n",
    "\n",
    "fig.tight_layout()"
   ]
  },
  {
   "cell_type": "markdown",
   "id": "bb0c8272",
   "metadata": {},
   "source": [
    "## Gráfico de Dispersión"
   ]
  },
  {
   "cell_type": "code",
   "execution_count": null,
   "id": "00f5ea12",
   "metadata": {},
   "outputs": [],
   "source": [
    "df_scatter = pd.read_csv(\"https://raw.githubusercontent.com/fbecerra/dataexperiments/master/data/rosling.csv\")\n",
    "#df_scatter.head()"
   ]
  },
  {
   "cell_type": "code",
   "execution_count": null,
   "id": "72e2f65e",
   "metadata": {},
   "outputs": [],
   "source": [
    "#Define tagname para columnas con datos de ejes coordenados\n",
    "xlabel = 'GDP per capita'\n",
    "ylabel = 'Life expectancy'"
   ]
  },
  {
   "cell_type": "code",
   "execution_count": null,
   "id": "7d133be8",
   "metadata": {},
   "outputs": [],
   "source": [
    "size = 'Population' #define columa con tamaño de la problacion\n",
    "max_population = df_scatter[size].max() #identifica el valor máximo de la columna\n",
    "df_scatter['radius'] = 2000 * df_scatter[size] / max_population  #normaliza los valores de acuerdo al valor máximo de los datos"
   ]
  },
  {
   "cell_type": "code",
   "execution_count": null,
   "id": "cf9f7de7",
   "metadata": {},
   "outputs": [],
   "source": [
    "#Asigna un colo por continente\n",
    "df_scatter['color'] = df_scatter['Continent'].map({\n",
    "    'Africa': '#e41a1c',\n",
    "    'Asia': '#377eb8',\n",
    "    'Australia': '#4daf4a',\n",
    "    'North America': '#984ea3',\n",
    "    'South America': '#ff7f00',\n",
    "    'Europe': '#a65628'\n",
    "})\n",
    "df_scatter['color'].head(10)"
   ]
  },
  {
   "cell_type": "code",
   "execution_count": null,
   "id": "0b17f711",
   "metadata": {},
   "outputs": [],
   "source": [
    "#\"s\" define el radio del punto del gráfico, \"c\" el color de las esferas, \"alpha\" la intensidad y \"edgecolor\" el color del controrno de las esferas\n",
    "ax = df_scatter.plot.scatter(x=xlabel, y=ylabel, s='radius', c='color', alpha=.7, edgecolor='white')"
   ]
  },
  {
   "cell_type": "code",
   "execution_count": null,
   "id": "fb41d523",
   "metadata": {
    "scrolled": true
   },
   "outputs": [],
   "source": [
    "ax = df_scatter.plot.scatter(x=xlabel, y=ylabel, s='radius', c='color', alpha=.7, edgecolor='white')\n",
    "ax.set_xscale('log') #como la gráfica tiene una curva logaritmica, se puede cambiar la escala del eje para tener una mejor visualización"
   ]
  },
  {
   "cell_type": "markdown",
   "id": "561cfdc5",
   "metadata": {},
   "source": [
    " ## Gráfico de Barras"
   ]
  },
  {
   "cell_type": "code",
   "execution_count": null,
   "id": "34eb059b",
   "metadata": {},
   "outputs": [],
   "source": [
    "df_bars = pd.read_csv(\"https://raw.githubusercontent.com/fbecerra/dataexperiments/master/data/ingresos.csv\")\n",
    "#df_bars.head()"
   ]
  },
  {
   "cell_type": "code",
   "execution_count": null,
   "id": "920fa00c",
   "metadata": {},
   "outputs": [],
   "source": [
    "xlabel = 'Tramos de ingresos en pesos ($)'\n",
    "ylabel = 'Proporción de personas ocupadas (%)'\n",
    "\n",
    "ax = df_bars.plot.bar(x=xlabel, y=ylabel, figsize=(12,8), width=0.9) #width permite definir el ancho de la barra"
   ]
  },
  {
   "cell_type": "code",
   "execution_count": null,
   "id": "7900e298",
   "metadata": {},
   "outputs": [],
   "source": [
    "ax = df_bars.plot.barh(x=xlabel, y=ylabel, figsize=(12,8), width=0.9) #barh permite definir la orientación horizontal de las barras"
   ]
  },
  {
   "cell_type": "markdown",
   "id": "02909b5e",
   "metadata": {},
   "source": [
    "Los dataframe de pandas también pueden recibir como argumento un axes que nosotrxs ya hayamos creado, lo que nos permite ubicarlos justo en el lugar que queremos. Por ejemplo, podemos crear una grilla de axes y ubicar nuestros gráficos ahí."
   ]
  },
  {
   "cell_type": "code",
   "execution_count": null,
   "id": "42103f8e",
   "metadata": {
    "scrolled": true
   },
   "outputs": [],
   "source": [
    "fig, ax = plt.subplots(1, 2, figsize=(12, 4))\n",
    "\n",
    "df_scatter.plot.scatter(x='GDP per capita', y='Life expectancy', s='radius', c='color', ax=ax[0])\n",
    "df_bars.plot.bar(x=xlabel, y=ylabel, figsize=(12,8), width=0.9, ax=ax[1])\n",
    "ax[0].set_xscale('log')\n",
    "\n",
    "fig.tight_layout()"
   ]
  },
  {
   "cell_type": "markdown",
   "id": "7b171a09",
   "metadata": {},
   "source": [
    "## Gráfico de Lineas\n",
    "### Ejemplo: Muertes Covid"
   ]
  },
  {
   "cell_type": "code",
   "execution_count": null,
   "id": "cd260259",
   "metadata": {},
   "outputs": [],
   "source": [
    "deaths_file = 'https://raw.githubusercontent.com/jorgeperezrojas/covid19-data/master/csv/muertes_deis/muertes_deis_rm.csv'\n",
    "deaths_data = pd.read_csv(deaths_file)"
   ]
  },
  {
   "cell_type": "code",
   "execution_count": null,
   "id": "f6c142d1",
   "metadata": {},
   "outputs": [],
   "source": [
    "#Se separan datos de una comuna, se elimina la columna de ombres de comunas y se fijan los años como index de filas.\n",
    "comuna = \"Cerro Navia\"\n",
    "data = (deaths_data[deaths_data['comuna'] == comuna].drop(['comuna'], axis=1).set_index('año'))"
   ]
  },
  {
   "cell_type": "code",
   "execution_count": null,
   "id": "170972ce",
   "metadata": {},
   "outputs": [],
   "source": [
    "min_year = data.index.min()\n",
    "max_year = data.index.max()\n",
    "    \n",
    "viridis = cm.get_cmap('viridis') #\"cm\" es una funcion de matplotlib asociada al mapa de color disponibles\n",
    "norm = Normalize(vmin=min_year, vmax=max_year) #Se utiliza para la leyecna"
   ]
  },
  {
   "cell_type": "code",
   "execution_count": null,
   "id": "ec5d835a",
   "metadata": {},
   "outputs": [],
   "source": [
    "# Funcion que permite definir un color gradualmente para cada año\n",
    "def get_color(yr,min_year,max_year):\n",
    "    color_number = (yr - min_year) / (max_year - min_year)\n",
    "    return viridis(color_number)"
   ]
  },
  {
   "cell_type": "code",
   "execution_count": null,
   "id": "3687c235",
   "metadata": {},
   "outputs": [],
   "source": [
    "fig, ax = plt.subplots(1,1, figsize=(16,8))\n",
    "\n",
    "for year in data.index:\n",
    "    data.loc[year].plot.line(ax=ax, c=get_color(year,min_year,max_year))\n",
    "    \n",
    "ax.set(xlim=(0,11), #Define que el origen del eje x sea el primer dato(enero)\n",
    "       xticks=np.arange(0, 12), #Define el numero de divisiones del eje x\n",
    "       xticklabels = data.keys(), #Asigna los nombres a las divisiones del eje x\n",
    "       ylabel=\"Número de muertes\")\n",
    "# ax.legend(ncol=2)  #indica la cantidad de columnas para la leyenda\n",
    "cbar = fig.colorbar(cm.ScalarMappable(norm=norm, cmap='viridis'), ax=ax) #Genera leyenda como barra degradada\n",
    "    \n",
    "plt.show()\n",
    "\n",
    "#Los parametros de la función tambien pueden ajustarse de la siguiente forma: x.set_xlim(0, 11)"
   ]
  },
  {
   "cell_type": "markdown",
   "id": "7c039313",
   "metadata": {},
   "source": [
    "## Mapa de Calor\n",
    "### Ejemplo: Muertes Covid"
   ]
  },
  {
   "cell_type": "code",
   "execution_count": null,
   "id": "e6b64a11",
   "metadata": {},
   "outputs": [],
   "source": [
    "#Definir tamaño de las grillas del subplot de acuerdo al dataset\n",
    "comunas = deaths_data['comuna'].unique()\n",
    "ncomunas = len(comunas)\n",
    "cols = 4\n",
    "rows = int(ncomunas/cols)"
   ]
  },
  {
   "cell_type": "code",
   "execution_count": null,
   "id": "ccdd5a8c",
   "metadata": {},
   "outputs": [],
   "source": [
    "#Función para graficar los datos individuales de cada comuna\n",
    "def plot_comuna(comuna, ax):\n",
    "    data = (\n",
    "        deaths_data[deaths_data['comuna'] == comuna]\n",
    "            .drop(['comuna'], axis=1)\n",
    "            .set_index('año')\n",
    "        )\n",
    "    sns.heatmap(data, ax=ax, cmap='YlGnBu', xticklabels=3, yticklabels=False, vmin=0, vmax=310) #\"cmap\" permite definir la graduación y tonalidad del mapa.\"vmin\" y\"vmax permiten normalizar todos los gráficos.\n",
    "    ax.set_title(comuna, fontsize=24)"
   ]
  },
  {
   "cell_type": "code",
   "execution_count": null,
   "id": "c91866d2",
   "metadata": {},
   "outputs": [],
   "source": [
    "fig, ax = plt.subplots(rows, cols, figsize=(40,60))\n",
    "\n",
    "for idx_comuna, comuna in enumerate(comunas): #accede al index del listado de comunas\n",
    "    row = int(idx_comuna / cols) #define la fila\n",
    "    col = idx_comuna % cols #con el modulo de la division se define la columna\n",
    "    plot_comuna(comuna, ax[row][col])\n",
    "    \n",
    "fig.tight_layout()"
   ]
  },
  {
   "cell_type": "markdown",
   "id": "7cd0405d",
   "metadata": {},
   "source": [
    "## Gráfico de Barras Variante \"Stack\""
   ]
  },
  {
   "cell_type": "code",
   "execution_count": null,
   "id": "65400dd7",
   "metadata": {},
   "outputs": [],
   "source": [
    "path = 'https://raw.githubusercontent.com/fbecerra/dataexperiments/master/data/afiliados_partidos_politicos.csv'\n",
    "df = pd.read_csv(path)"
   ]
  },
  {
   "cell_type": "code",
   "execution_count": null,
   "id": "5235db51",
   "metadata": {},
   "outputs": [],
   "source": [
    "df['Partido'] = df['Partido'].str.title() #\n",
    "df['Total'] = df['Mujeres'] + df['Hombres'] #Agrega clumna con total por partido\n",
    "df['Mujeres (%)'] = df['Mujeres'] / df['Total'] * 100 #Porcentaje mujeres\n",
    "df['Hombres (%)'] = df['Hombres'] / df['Total'] * 100 #Porcentaje hombres\n",
    "df.set_index('Partido', inplace=True)  #Define columna de nombres de partidos como index"
   ]
  },
  {
   "cell_type": "code",
   "execution_count": null,
   "id": "d91caa84",
   "metadata": {},
   "outputs": [],
   "source": [
    "percents = ['Mujeres (%)', 'Hombres (%)']  #genera un dataframe solo con los valores en porcentajes de las columnas hombres y mujeres\n",
    "df_sorted = df[percents].sort_values(by=percents[0], ascending=False) #Ordena las filas de menor a mayor"
   ]
  },
  {
   "cell_type": "code",
   "execution_count": null,
   "id": "68e123a2",
   "metadata": {},
   "outputs": [],
   "source": [
    "#Función que permite eliminar los bordes del gráfico\n",
    "def hide_border(ax):\n",
    "    ax.spines['bottom'].set_visible(False) #Linea inferior\n",
    "    ax.spines['left'].set_visible(False) #Linea izquierda\n",
    "    ax.spines['right'].set_visible(False) #Linea derecha\n",
    "    ax.spines['top'].set_visible(False) #Linea superior"
   ]
  },
  {
   "cell_type": "code",
   "execution_count": null,
   "id": "0f7d76d0",
   "metadata": {},
   "outputs": [],
   "source": [
    "fontsize=12\n",
    "colors = ['#ff7f00', '#d3d3d3']  #Define los colores\n",
    "\n",
    "ax = df_sorted.plot.barh(stacked=True, #Graficos complementarios\n",
    "                         figsize=(10, 12), \n",
    "                         legend=False, width=0.9, alpha=0.9, \n",
    "                         xlim=(0, 100),  #Limites del rango de valores\n",
    "                        color=colors)\n",
    "\n",
    "hide_border(ax)   #Ocultar bordes\n",
    "ax.tick_params(axis=u'both', which=u'both', length=0)\n",
    "ax.set_ylabel('')  #Etiqueta eje y en blanco\n",
    "ax.set_title(\"Porcentaje de personas inscritas en partidos políticos por sexo\", \n",
    "             pad=24, # Espacio entre el titulo y el siguiente texto\n",
    "             fontweight=700) #tamaño d ela letra\n",
    "ax.title.set_position([.3, 1.03])  #Posiciona el titulo\n",
    "ax.text(0, df_sorted.shape[0]-0.3, #ubicacion horizontal, posicion vertica,\n",
    "        percents[0], color=colors[0], fontsize=fontsize)  #nombre de la variable, color del texto, tamaño texto \n",
    "ax.text(85, df_sorted.shape[0]-0.3, percents[1], color=colors[1], fontsize=fontsize)\n",
    "\n",
    "#ax.xaxis.set_ticks([])\n",
    "for p in ax.patches:  #Define donde se ubicara el dato del valor representado\n",
    "    if p.xy[0] == 0:\n",
    "        xpos = 2\n",
    "    else:\n",
    "        xpos = 93\n",
    "    ax.annotate(str(int(round(p.get_width()))) + \"%\", #Define texto del valor en las barras\n",
    "                (xpos, p.xy[1] + 0.3), #define posicion horizontal, vertical\n",
    "                color='white', fontsize=fontsize)\n",
    "\n",
    "plt.show()"
   ]
  },
  {
   "cell_type": "markdown",
   "id": "ae10f4ce",
   "metadata": {},
   "source": [
    "# Datos Multidimensionales, de Jerarquía y de Flujo"
   ]
  },
  {
   "cell_type": "markdown",
   "id": "aff38984",
   "metadata": {},
   "source": [
    "## Datos multidimensionales"
   ]
  },
  {
   "cell_type": "code",
   "execution_count": null,
   "id": "e627f05d",
   "metadata": {},
   "outputs": [],
   "source": [
    "data = pd.read_csv(\"https://raw.githubusercontent.com/fbecerra/ex2/master/data/exoplanets.csv\")\n",
    "df = data[['MASS', 'R', 'BMV', 'MSTAR', 'RSTAR', 'TEFF', 'A', 'PER', 'ECC', 'DIST', 'PLANETDISCMETH']].dropna().reset_index(drop=True)\n",
    "df.head()"
   ]
  },
  {
   "cell_type": "code",
   "execution_count": null,
   "id": "414d7ca1",
   "metadata": {},
   "outputs": [],
   "source": [
    "ax = parallel_coordinates(df, 'PLANETDISCMETH')"
   ]
  },
  {
   "cell_type": "code",
   "execution_count": null,
   "id": "3b2d6499",
   "metadata": {},
   "outputs": [],
   "source": [
    "#Función que permite generarvarios subplots para normalizar las graficas en escalas individuales acordes a cada variable\n",
    "\n",
    "def plot_parallel_coordinates(df, cat_col, cols, colours):\n",
    "    \n",
    "    x = [i for i, _ in enumerate(cols)]\n",
    "\n",
    "    # Create (X-1) sublots along x axis\n",
    "    fig, axes = plt.subplots(1, len(x)-1, sharey=False, figsize=(15,5))\n",
    "\n",
    "    # Get min, max and range for each column\n",
    "    # Normalize the data for each column\n",
    "    min_max_range = {}\n",
    "    for col in cols:\n",
    "        min_max_range[col] = [df[col].min(), df[col].max(), np.ptp(df[col])]\n",
    "        df[col] = np.true_divide(df[col] - df[col].min(), np.ptp(df[col]))\n",
    "\n",
    "    # Plot each row\n",
    "    for i, ax in enumerate(axes):\n",
    "        for idx in df.index:\n",
    "            mpg_category = df.loc[idx, cat_col]\n",
    "            ax.plot(x, df.loc[idx, cols], colours[mpg_category])\n",
    "        ax.set_xlim([x[i], x[i+1]])\n",
    "\n",
    "    # Set the tick positions and labels on y axis for each plot\n",
    "    # Tick positions based on normalised data\n",
    "    # Tick labels are based on original data\n",
    "    def set_ticks_for_axis(dim, ax, ticks):\n",
    "        min_val, max_val, val_range = min_max_range[cols[dim]]\n",
    "        step = val_range / float(ticks-1)\n",
    "        tick_labels = [round(min_val + step * i, 2) for i in range(ticks)]\n",
    "        norm_min = df[cols[dim]].min()\n",
    "        norm_range = np.ptp(df[cols[dim]])\n",
    "        norm_step = norm_range / float(ticks-1)\n",
    "        ticks = [round(norm_min + norm_step * i, 2) for i in range(ticks)]\n",
    "        ax.yaxis.set_ticks(ticks)\n",
    "        ax.set_yticklabels(tick_labels)\n",
    "\n",
    "    for dim, ax in enumerate(axes):\n",
    "        ax.xaxis.set_major_locator(ticker.FixedLocator([dim]))\n",
    "        set_ticks_for_axis(dim, ax, ticks=6)\n",
    "        ax.set_xticklabels([cols[dim]])\n",
    "\n",
    "\n",
    "    # Move the final axis' ticks to the right-hand side\n",
    "    ax = plt.twinx(axes[-1])\n",
    "    dim = len(axes)\n",
    "    ax.xaxis.set_major_locator(ticker.FixedLocator([x[-2], x[-1]]))\n",
    "    set_ticks_for_axis(dim, ax, ticks=6)\n",
    "    ax.set_xticklabels([cols[-2], cols[-1]])\n",
    "\n",
    "\n",
    "    # Remove space between subplots\n",
    "    plt.subplots_adjust(wspace=0)\n",
    "\n",
    "    # Add legend to plot\n",
    "    plt.legend(\n",
    "        [plt.Line2D((0,1),(0,0), color=colours[cat]) for cat in df[cat_col].cat.categories],\n",
    "        df[cat_col].cat.categories,\n",
    "        bbox_to_anchor=(1.2, 1), loc=2, borderaxespad=0.)\n",
    "\n",
    "    return fig, ax"
   ]
  },
  {
   "cell_type": "code",
   "execution_count": null,
   "id": "0ae2f691",
   "metadata": {},
   "outputs": [],
   "source": [
    "cat_col = 'PLANETDISCMETH'\n",
    "cols = ['MASS', 'R', 'BMV', 'MSTAR', 'RSTAR', 'TEFF', 'A', 'PER', 'ECC', 'DIST']\n",
    "\n",
    "colours = ['#2e8ad8', '#cd3785']\n",
    "df[cat_col] = df[cat_col].astype('category')\n",
    "\n",
    "colours = {df[cat_col].cat.categories[i]: colours[i] for i, _ in enumerate(df[cat_col].cat.categories)}"
   ]
  },
  {
   "cell_type": "code",
   "execution_count": null,
   "id": "c5ac928c",
   "metadata": {},
   "outputs": [],
   "source": [
    "fig, ax = plot_parallel_coordinates(df, cat_col, cols, colours)"
   ]
  },
  {
   "cell_type": "markdown",
   "id": "0303dbb1",
   "metadata": {},
   "source": [
    "## Matrices"
   ]
  },
  {
   "cell_type": "code",
   "execution_count": null,
   "id": "8c77193a",
   "metadata": {},
   "outputs": [],
   "source": [
    "g = sns.PairGrid(df, hue=cat_col)  #Define la cantidad y tamaño de las grillas\n",
    "g.map_lower(sns.scatterplot)   #Imprime grafico de dispersión bajo la diagonal\n",
    "g.map_diag(sns.kdeplot, lw=3, legend=False)  #Grafica la distribución de las muestras para las variables en la diagonal\n",
    "g.map_upper(sns.kdeplot)  #Densidad de probabilidad para dos variables en la parte superior(similar a dispersión, pero encierra areas donde es probable se distribuyan las muestras)\n",
    "plt.show()"
   ]
  },
  {
   "cell_type": "markdown",
   "id": "9d143652",
   "metadata": {},
   "source": [
    "## Jerarquia"
   ]
  },
  {
   "cell_type": "code",
   "execution_count": null,
   "id": "01962bd5",
   "metadata": {},
   "outputs": [],
   "source": []
  },
  {
   "cell_type": "code",
   "execution_count": null,
   "id": "96d18467",
   "metadata": {},
   "outputs": [],
   "source": []
  },
  {
   "cell_type": "code",
   "execution_count": null,
   "id": "ed875423",
   "metadata": {},
   "outputs": [],
   "source": []
  },
  {
   "cell_type": "code",
   "execution_count": null,
   "id": "849cda5c",
   "metadata": {},
   "outputs": [],
   "source": []
  }
 ],
 "metadata": {
  "kernelspec": {
   "display_name": "Python 3 (ipykernel)",
   "language": "python",
   "name": "python3"
  },
  "language_info": {
   "codemirror_mode": {
    "name": "ipython",
    "version": 3
   },
   "file_extension": ".py",
   "mimetype": "text/x-python",
   "name": "python",
   "nbconvert_exporter": "python",
   "pygments_lexer": "ipython3",
   "version": "3.9.12"
  }
 },
 "nbformat": 4,
 "nbformat_minor": 5
}
